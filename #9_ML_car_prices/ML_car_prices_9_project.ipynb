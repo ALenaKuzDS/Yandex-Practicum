{
 "cells": [
  {
   "cell_type": "markdown",
   "metadata": {},
   "source": [
    "# Определение стоимости автомобилей"
   ]
  },
  {
   "cell_type": "markdown",
   "metadata": {},
   "source": [
    "Сервис по продаже автомобилей с пробегом «Не бит, не крашен» разрабатывает приложение для привлечения новых клиентов. В нём можно быстро узнать рыночную стоимость своего автомобиля. Заказчиком предоставлены исторические данные: технические характеристики, комплектации и цены автомобилей.\n",
    "\n",
    "Цели и задачи проекта:  нам нужно построить модель для определения стоимости автомобиля с учетом того, что заказчику важны:\n",
    "\n",
    "- качество предсказания;\n",
    "- скорость предсказания;\n",
    "- время обучения.\n",
    "\n",
    "<br>1. Проведем EDA.Подготовим выборки для обучения моделей.\n",
    "<br>1. Обучим разные модели, одна из которых — LightGBM, как минимум одна — не бустинг. Для каждой модели попробуем разные гиперпараметры.\n",
    "<br>3. Проанализируем время обучения, время предсказания и качество моделей.\n",
    "<br>4. Опираясь на критерии заказчика, выберем лучшую модель, проверем её качество на тестовой выборке."
   ]
  },
  {
   "cell_type": "markdown",
   "metadata": {},
   "source": [
    "## Подготовка данных"
   ]
  },
  {
   "cell_type": "markdown",
   "metadata": {},
   "source": [
    "Импортируем необходимые библиотеки."
   ]
  },
  {
   "cell_type": "code",
   "execution_count": 1,
   "metadata": {},
   "outputs": [],
   "source": [
    "import pandas as pd\n",
    "import matplotlib.pyplot as plt\n",
    "import seaborn as sns\n",
    "import numpy as np\n",
    "import lightgbm as lgb\n",
    "from pandas import get_dummies\n",
    "from sklearn.model_selection import train_test_split, GridSearchCV\n",
    "from sklearn.metrics import mean_absolute_error\n",
    "from sklearn.linear_model import LinearRegression\n",
    "from sklearn.tree import DecisionTreeRegressor\n",
    "from sklearn.ensemble import RandomForestRegressor\n",
    "from sklearn.metrics import mean_squared_error\n",
    "from sklearn.dummy import DummyRegressor"
   ]
  },
  {
   "cell_type": "markdown",
   "metadata": {},
   "source": [
    "Отроем файл с данными."
   ]
  },
  {
   "cell_type": "code",
   "execution_count": 2,
   "metadata": {},
   "outputs": [],
   "source": [
    "df = pd.read_csv('/datasets/autos.csv')"
   ]
  },
  {
   "cell_type": "code",
   "execution_count": 3,
   "metadata": {},
   "outputs": [
    {
     "data": {
      "text/html": [
       "<div>\n",
       "<style scoped>\n",
       "    .dataframe tbody tr th:only-of-type {\n",
       "        vertical-align: middle;\n",
       "    }\n",
       "\n",
       "    .dataframe tbody tr th {\n",
       "        vertical-align: top;\n",
       "    }\n",
       "\n",
       "    .dataframe thead th {\n",
       "        text-align: right;\n",
       "    }\n",
       "</style>\n",
       "<table border=\"1\" class=\"dataframe\">\n",
       "  <thead>\n",
       "    <tr style=\"text-align: right;\">\n",
       "      <th></th>\n",
       "      <th>DateCrawled</th>\n",
       "      <th>Price</th>\n",
       "      <th>VehicleType</th>\n",
       "      <th>RegistrationYear</th>\n",
       "      <th>Gearbox</th>\n",
       "      <th>Power</th>\n",
       "      <th>Model</th>\n",
       "      <th>Kilometer</th>\n",
       "      <th>RegistrationMonth</th>\n",
       "      <th>FuelType</th>\n",
       "      <th>Brand</th>\n",
       "      <th>NotRepaired</th>\n",
       "      <th>DateCreated</th>\n",
       "      <th>NumberOfPictures</th>\n",
       "      <th>PostalCode</th>\n",
       "      <th>LastSeen</th>\n",
       "    </tr>\n",
       "  </thead>\n",
       "  <tbody>\n",
       "    <tr>\n",
       "      <th>0</th>\n",
       "      <td>2016-03-24 11:52:17</td>\n",
       "      <td>480</td>\n",
       "      <td>NaN</td>\n",
       "      <td>1993</td>\n",
       "      <td>manual</td>\n",
       "      <td>0</td>\n",
       "      <td>golf</td>\n",
       "      <td>150000</td>\n",
       "      <td>0</td>\n",
       "      <td>petrol</td>\n",
       "      <td>volkswagen</td>\n",
       "      <td>NaN</td>\n",
       "      <td>2016-03-24 00:00:00</td>\n",
       "      <td>0</td>\n",
       "      <td>70435</td>\n",
       "      <td>2016-04-07 03:16:57</td>\n",
       "    </tr>\n",
       "    <tr>\n",
       "      <th>1</th>\n",
       "      <td>2016-03-24 10:58:45</td>\n",
       "      <td>18300</td>\n",
       "      <td>coupe</td>\n",
       "      <td>2011</td>\n",
       "      <td>manual</td>\n",
       "      <td>190</td>\n",
       "      <td>NaN</td>\n",
       "      <td>125000</td>\n",
       "      <td>5</td>\n",
       "      <td>gasoline</td>\n",
       "      <td>audi</td>\n",
       "      <td>yes</td>\n",
       "      <td>2016-03-24 00:00:00</td>\n",
       "      <td>0</td>\n",
       "      <td>66954</td>\n",
       "      <td>2016-04-07 01:46:50</td>\n",
       "    </tr>\n",
       "    <tr>\n",
       "      <th>2</th>\n",
       "      <td>2016-03-14 12:52:21</td>\n",
       "      <td>9800</td>\n",
       "      <td>suv</td>\n",
       "      <td>2004</td>\n",
       "      <td>auto</td>\n",
       "      <td>163</td>\n",
       "      <td>grand</td>\n",
       "      <td>125000</td>\n",
       "      <td>8</td>\n",
       "      <td>gasoline</td>\n",
       "      <td>jeep</td>\n",
       "      <td>NaN</td>\n",
       "      <td>2016-03-14 00:00:00</td>\n",
       "      <td>0</td>\n",
       "      <td>90480</td>\n",
       "      <td>2016-04-05 12:47:46</td>\n",
       "    </tr>\n",
       "    <tr>\n",
       "      <th>3</th>\n",
       "      <td>2016-03-17 16:54:04</td>\n",
       "      <td>1500</td>\n",
       "      <td>small</td>\n",
       "      <td>2001</td>\n",
       "      <td>manual</td>\n",
       "      <td>75</td>\n",
       "      <td>golf</td>\n",
       "      <td>150000</td>\n",
       "      <td>6</td>\n",
       "      <td>petrol</td>\n",
       "      <td>volkswagen</td>\n",
       "      <td>no</td>\n",
       "      <td>2016-03-17 00:00:00</td>\n",
       "      <td>0</td>\n",
       "      <td>91074</td>\n",
       "      <td>2016-03-17 17:40:17</td>\n",
       "    </tr>\n",
       "    <tr>\n",
       "      <th>4</th>\n",
       "      <td>2016-03-31 17:25:20</td>\n",
       "      <td>3600</td>\n",
       "      <td>small</td>\n",
       "      <td>2008</td>\n",
       "      <td>manual</td>\n",
       "      <td>69</td>\n",
       "      <td>fabia</td>\n",
       "      <td>90000</td>\n",
       "      <td>7</td>\n",
       "      <td>gasoline</td>\n",
       "      <td>skoda</td>\n",
       "      <td>no</td>\n",
       "      <td>2016-03-31 00:00:00</td>\n",
       "      <td>0</td>\n",
       "      <td>60437</td>\n",
       "      <td>2016-04-06 10:17:21</td>\n",
       "    </tr>\n",
       "  </tbody>\n",
       "</table>\n",
       "</div>"
      ],
      "text/plain": [
       "           DateCrawled  Price VehicleType  RegistrationYear Gearbox  Power  \\\n",
       "0  2016-03-24 11:52:17    480         NaN              1993  manual      0   \n",
       "1  2016-03-24 10:58:45  18300       coupe              2011  manual    190   \n",
       "2  2016-03-14 12:52:21   9800         suv              2004    auto    163   \n",
       "3  2016-03-17 16:54:04   1500       small              2001  manual     75   \n",
       "4  2016-03-31 17:25:20   3600       small              2008  manual     69   \n",
       "\n",
       "   Model  Kilometer  RegistrationMonth  FuelType       Brand NotRepaired  \\\n",
       "0   golf     150000                  0    petrol  volkswagen         NaN   \n",
       "1    NaN     125000                  5  gasoline        audi         yes   \n",
       "2  grand     125000                  8  gasoline        jeep         NaN   \n",
       "3   golf     150000                  6    petrol  volkswagen          no   \n",
       "4  fabia      90000                  7  gasoline       skoda          no   \n",
       "\n",
       "           DateCreated  NumberOfPictures  PostalCode             LastSeen  \n",
       "0  2016-03-24 00:00:00                 0       70435  2016-04-07 03:16:57  \n",
       "1  2016-03-24 00:00:00                 0       66954  2016-04-07 01:46:50  \n",
       "2  2016-03-14 00:00:00                 0       90480  2016-04-05 12:47:46  \n",
       "3  2016-03-17 00:00:00                 0       91074  2016-03-17 17:40:17  \n",
       "4  2016-03-31 00:00:00                 0       60437  2016-04-06 10:17:21  "
      ]
     },
     "execution_count": 3,
     "metadata": {},
     "output_type": "execute_result"
    }
   ],
   "source": [
    "df.head()"
   ]
  },
  {
   "cell_type": "markdown",
   "metadata": {},
   "source": [
    "Посмотрим на признаки. Их форматы, названия, отсутствие данных и проч. "
   ]
  },
  {
   "cell_type": "code",
   "execution_count": 4,
   "metadata": {
    "scrolled": false
   },
   "outputs": [
    {
     "name": "stdout",
     "output_type": "stream",
     "text": [
      "<class 'pandas.core.frame.DataFrame'>\n",
      "RangeIndex: 354369 entries, 0 to 354368\n",
      "Data columns (total 16 columns):\n",
      " #   Column             Non-Null Count   Dtype \n",
      "---  ------             --------------   ----- \n",
      " 0   DateCrawled        354369 non-null  object\n",
      " 1   Price              354369 non-null  int64 \n",
      " 2   VehicleType        316879 non-null  object\n",
      " 3   RegistrationYear   354369 non-null  int64 \n",
      " 4   Gearbox            334536 non-null  object\n",
      " 5   Power              354369 non-null  int64 \n",
      " 6   Model              334664 non-null  object\n",
      " 7   Kilometer          354369 non-null  int64 \n",
      " 8   RegistrationMonth  354369 non-null  int64 \n",
      " 9   FuelType           321474 non-null  object\n",
      " 10  Brand              354369 non-null  object\n",
      " 11  NotRepaired        283215 non-null  object\n",
      " 12  DateCreated        354369 non-null  object\n",
      " 13  NumberOfPictures   354369 non-null  int64 \n",
      " 14  PostalCode         354369 non-null  int64 \n",
      " 15  LastSeen           354369 non-null  object\n",
      "dtypes: int64(7), object(9)\n",
      "memory usage: 43.3+ MB\n"
     ]
    }
   ],
   "source": [
    "df.info()"
   ]
  },
  {
   "cell_type": "markdown",
   "metadata": {},
   "source": [
    "Строковыми object у нас являются: **DateCrawled** — дата скачивания анкеты из базы, **VehicleType** — тип автомобильного кузова,**Gearbox** — тип коробки передач, **Model** — модель автомобиля, **FuelType** — тип топлива, **Brand** — марка автомобиля, **NotRepaired** — была машина в ремонте или нет, **DateCreated** — дата создания анкеты, **LastSeen** — дата последней активности пользователя.\n",
    "<br> 1. Все даты строковые. Нужно это исправить.\n",
    "<br> 2. В названиях столбцов есть заглавные буквы. Сведем все к нижнему регистру.\n",
    "<br> 3. В данных есть нули."
   ]
  },
  {
   "cell_type": "markdown",
   "metadata": {},
   "source": [
    "### Изменение типов данных"
   ]
  },
  {
   "cell_type": "markdown",
   "metadata": {},
   "source": [
    "Названия признаков с датами запишем в отдельный список. <br>Посмотрим на формат записи даты для перевода строки методом to_datetime(). "
   ]
  },
  {
   "cell_type": "code",
   "execution_count": 5,
   "metadata": {
    "scrolled": true
   },
   "outputs": [
    {
     "data": {
      "text/html": [
       "<div>\n",
       "<style scoped>\n",
       "    .dataframe tbody tr th:only-of-type {\n",
       "        vertical-align: middle;\n",
       "    }\n",
       "\n",
       "    .dataframe tbody tr th {\n",
       "        vertical-align: top;\n",
       "    }\n",
       "\n",
       "    .dataframe thead th {\n",
       "        text-align: right;\n",
       "    }\n",
       "</style>\n",
       "<table border=\"1\" class=\"dataframe\">\n",
       "  <thead>\n",
       "    <tr style=\"text-align: right;\">\n",
       "      <th></th>\n",
       "      <th>DateCrawled</th>\n",
       "      <th>DateCreated</th>\n",
       "      <th>LastSeen</th>\n",
       "    </tr>\n",
       "  </thead>\n",
       "  <tbody>\n",
       "    <tr>\n",
       "      <th>0</th>\n",
       "      <td>2016-03-24 11:52:17</td>\n",
       "      <td>2016-03-24 00:00:00</td>\n",
       "      <td>2016-04-07 03:16:57</td>\n",
       "    </tr>\n",
       "    <tr>\n",
       "      <th>1</th>\n",
       "      <td>2016-03-24 10:58:45</td>\n",
       "      <td>2016-03-24 00:00:00</td>\n",
       "      <td>2016-04-07 01:46:50</td>\n",
       "    </tr>\n",
       "    <tr>\n",
       "      <th>2</th>\n",
       "      <td>2016-03-14 12:52:21</td>\n",
       "      <td>2016-03-14 00:00:00</td>\n",
       "      <td>2016-04-05 12:47:46</td>\n",
       "    </tr>\n",
       "    <tr>\n",
       "      <th>3</th>\n",
       "      <td>2016-03-17 16:54:04</td>\n",
       "      <td>2016-03-17 00:00:00</td>\n",
       "      <td>2016-03-17 17:40:17</td>\n",
       "    </tr>\n",
       "    <tr>\n",
       "      <th>4</th>\n",
       "      <td>2016-03-31 17:25:20</td>\n",
       "      <td>2016-03-31 00:00:00</td>\n",
       "      <td>2016-04-06 10:17:21</td>\n",
       "    </tr>\n",
       "    <tr>\n",
       "      <th>...</th>\n",
       "      <td>...</td>\n",
       "      <td>...</td>\n",
       "      <td>...</td>\n",
       "    </tr>\n",
       "    <tr>\n",
       "      <th>354364</th>\n",
       "      <td>2016-03-21 09:50:58</td>\n",
       "      <td>2016-03-21 00:00:00</td>\n",
       "      <td>2016-03-21 10:42:49</td>\n",
       "    </tr>\n",
       "    <tr>\n",
       "      <th>354365</th>\n",
       "      <td>2016-03-14 17:48:27</td>\n",
       "      <td>2016-03-14 00:00:00</td>\n",
       "      <td>2016-04-06 00:46:52</td>\n",
       "    </tr>\n",
       "    <tr>\n",
       "      <th>354366</th>\n",
       "      <td>2016-03-05 19:56:21</td>\n",
       "      <td>2016-03-05 00:00:00</td>\n",
       "      <td>2016-03-11 18:17:12</td>\n",
       "    </tr>\n",
       "    <tr>\n",
       "      <th>354367</th>\n",
       "      <td>2016-03-19 18:57:12</td>\n",
       "      <td>2016-03-19 00:00:00</td>\n",
       "      <td>2016-04-07 07:15:26</td>\n",
       "    </tr>\n",
       "    <tr>\n",
       "      <th>354368</th>\n",
       "      <td>2016-03-20 19:41:08</td>\n",
       "      <td>2016-03-20 00:00:00</td>\n",
       "      <td>2016-03-24 12:45:21</td>\n",
       "    </tr>\n",
       "  </tbody>\n",
       "</table>\n",
       "<p>354369 rows × 3 columns</p>\n",
       "</div>"
      ],
      "text/plain": [
       "                DateCrawled          DateCreated             LastSeen\n",
       "0       2016-03-24 11:52:17  2016-03-24 00:00:00  2016-04-07 03:16:57\n",
       "1       2016-03-24 10:58:45  2016-03-24 00:00:00  2016-04-07 01:46:50\n",
       "2       2016-03-14 12:52:21  2016-03-14 00:00:00  2016-04-05 12:47:46\n",
       "3       2016-03-17 16:54:04  2016-03-17 00:00:00  2016-03-17 17:40:17\n",
       "4       2016-03-31 17:25:20  2016-03-31 00:00:00  2016-04-06 10:17:21\n",
       "...                     ...                  ...                  ...\n",
       "354364  2016-03-21 09:50:58  2016-03-21 00:00:00  2016-03-21 10:42:49\n",
       "354365  2016-03-14 17:48:27  2016-03-14 00:00:00  2016-04-06 00:46:52\n",
       "354366  2016-03-05 19:56:21  2016-03-05 00:00:00  2016-03-11 18:17:12\n",
       "354367  2016-03-19 18:57:12  2016-03-19 00:00:00  2016-04-07 07:15:26\n",
       "354368  2016-03-20 19:41:08  2016-03-20 00:00:00  2016-03-24 12:45:21\n",
       "\n",
       "[354369 rows x 3 columns]"
      ]
     },
     "execution_count": 5,
     "metadata": {},
     "output_type": "execute_result"
    }
   ],
   "source": [
    "dates = ['DateCrawled','DateCreated','LastSeen']\n",
    "df[dates]"
   ]
  },
  {
   "cell_type": "markdown",
   "metadata": {},
   "source": [
    "Меняем формат. Проверяем изменения."
   ]
  },
  {
   "cell_type": "code",
   "execution_count": 6,
   "metadata": {
    "scrolled": false
   },
   "outputs": [
    {
     "name": "stdout",
     "output_type": "stream",
     "text": [
      "<class 'pandas.core.frame.DataFrame'>\n",
      "RangeIndex: 354369 entries, 0 to 354368\n",
      "Data columns (total 16 columns):\n",
      " #   Column             Non-Null Count   Dtype         \n",
      "---  ------             --------------   -----         \n",
      " 0   DateCrawled        354369 non-null  datetime64[ns]\n",
      " 1   Price              354369 non-null  int64         \n",
      " 2   VehicleType        316879 non-null  object        \n",
      " 3   RegistrationYear   354369 non-null  int64         \n",
      " 4   Gearbox            334536 non-null  object        \n",
      " 5   Power              354369 non-null  int64         \n",
      " 6   Model              334664 non-null  object        \n",
      " 7   Kilometer          354369 non-null  int64         \n",
      " 8   RegistrationMonth  354369 non-null  int64         \n",
      " 9   FuelType           321474 non-null  object        \n",
      " 10  Brand              354369 non-null  object        \n",
      " 11  NotRepaired        283215 non-null  object        \n",
      " 12  DateCreated        354369 non-null  datetime64[ns]\n",
      " 13  NumberOfPictures   354369 non-null  int64         \n",
      " 14  PostalCode         354369 non-null  int64         \n",
      " 15  LastSeen           354369 non-null  datetime64[ns]\n",
      "dtypes: datetime64[ns](3), int64(7), object(6)\n",
      "memory usage: 43.3+ MB\n"
     ]
    }
   ],
   "source": [
    "for date in dates:\n",
    "    df[date] = pd.to_datetime(df[date], format = '%Y-%m-%d %H:%M:%S')\n",
    "df.info()      "
   ]
  },
  {
   "cell_type": "markdown",
   "metadata": {},
   "source": [
    "### Корректировка названий столбцов."
   ]
  },
  {
   "cell_type": "markdown",
   "metadata": {},
   "source": [
    "Займемся регистром в названиях признаков. Проверяем результат."
   ]
  },
  {
   "cell_type": "code",
   "execution_count": 7,
   "metadata": {},
   "outputs": [
    {
     "name": "stderr",
     "output_type": "stream",
     "text": [
      "/tmp/ipykernel_238/3420232386.py:1: FutureWarning: The default value of regex will change from True to False in a future version.\n",
      "  df.columns = df.columns.str.replace(r\"([A-Z])\", r\" \\1\").str.lower().str.replace(' ', '_').str[1:]\n"
     ]
    },
    {
     "data": {
      "text/plain": [
       "Index(['date_crawled', 'price', 'vehicle_type', 'registration_year', 'gearbox',\n",
       "       'power', 'model', 'kilometer', 'registration_month', 'fuel_type',\n",
       "       'brand', 'not_repaired', 'date_created', 'number_of_pictures',\n",
       "       'postal_code', 'last_seen'],\n",
       "      dtype='object')"
      ]
     },
     "execution_count": 7,
     "metadata": {},
     "output_type": "execute_result"
    }
   ],
   "source": [
    "df.columns = df.columns.str.replace(r\"([A-Z])\", r\" \\1\").str.lower().str.replace(' ', '_').str[1:]\n",
    "df.columns "
   ]
  },
  {
   "cell_type": "markdown",
   "metadata": {},
   "source": [
    "### Проверка пропусков в данных."
   ]
  },
  {
   "cell_type": "code",
   "execution_count": 8,
   "metadata": {
    "scrolled": true
   },
   "outputs": [
    {
     "data": {
      "text/plain": [
       "date_crawled              0\n",
       "price                     0\n",
       "vehicle_type          37490\n",
       "registration_year         0\n",
       "gearbox               19833\n",
       "power                     0\n",
       "model                 19705\n",
       "kilometer                 0\n",
       "registration_month        0\n",
       "fuel_type             32895\n",
       "brand                     0\n",
       "not_repaired          71154\n",
       "date_created              0\n",
       "number_of_pictures        0\n",
       "postal_code               0\n",
       "last_seen                 0\n",
       "dtype: int64"
      ]
     },
     "execution_count": 8,
     "metadata": {},
     "output_type": "execute_result"
    }
   ],
   "source": [
    "df.isna().sum()"
   ]
  },
  {
   "cell_type": "markdown",
   "metadata": {},
   "source": [
    "У нас достаточно пропусков. Пропуски есть в признаках vehicletype - тип кузова, gearbox - тип коробки, model - модель авто, fueltype - тип топлива и notrepaired - была машина в ремонте или нет. Пока осталяем как есть.В дальнейшем вернумся к данной проблеме."
   ]
  },
  {
   "cell_type": "markdown",
   "metadata": {},
   "source": [
    "### Проверка на дубликаты."
   ]
  },
  {
   "cell_type": "markdown",
   "metadata": {},
   "source": [
    "Проверим данные на дубли."
   ]
  },
  {
   "cell_type": "code",
   "execution_count": 9,
   "metadata": {},
   "outputs": [
    {
     "data": {
      "text/plain": [
       "4"
      ]
     },
     "execution_count": 9,
     "metadata": {},
     "output_type": "execute_result"
    }
   ],
   "source": [
    "df.duplicated().sum()"
   ]
  },
  {
   "cell_type": "markdown",
   "metadata": {},
   "source": [
    "Дубли есть. Посмотрим, что это за сроки."
   ]
  },
  {
   "cell_type": "code",
   "execution_count": 10,
   "metadata": {
    "scrolled": true
   },
   "outputs": [
    {
     "data": {
      "text/html": [
       "<div>\n",
       "<style scoped>\n",
       "    .dataframe tbody tr th:only-of-type {\n",
       "        vertical-align: middle;\n",
       "    }\n",
       "\n",
       "    .dataframe tbody tr th {\n",
       "        vertical-align: top;\n",
       "    }\n",
       "\n",
       "    .dataframe thead th {\n",
       "        text-align: right;\n",
       "    }\n",
       "</style>\n",
       "<table border=\"1\" class=\"dataframe\">\n",
       "  <thead>\n",
       "    <tr style=\"text-align: right;\">\n",
       "      <th></th>\n",
       "      <th>date_crawled</th>\n",
       "      <th>price</th>\n",
       "      <th>vehicle_type</th>\n",
       "      <th>registration_year</th>\n",
       "      <th>gearbox</th>\n",
       "      <th>power</th>\n",
       "      <th>model</th>\n",
       "      <th>kilometer</th>\n",
       "      <th>registration_month</th>\n",
       "      <th>fuel_type</th>\n",
       "      <th>brand</th>\n",
       "      <th>not_repaired</th>\n",
       "      <th>date_created</th>\n",
       "      <th>number_of_pictures</th>\n",
       "      <th>postal_code</th>\n",
       "      <th>last_seen</th>\n",
       "    </tr>\n",
       "  </thead>\n",
       "  <tbody>\n",
       "    <tr>\n",
       "      <th>171088</th>\n",
       "      <td>2016-03-08 18:42:48</td>\n",
       "      <td>1799</td>\n",
       "      <td>coupe</td>\n",
       "      <td>1999</td>\n",
       "      <td>auto</td>\n",
       "      <td>193</td>\n",
       "      <td>clk</td>\n",
       "      <td>20000</td>\n",
       "      <td>7</td>\n",
       "      <td>petrol</td>\n",
       "      <td>mercedes_benz</td>\n",
       "      <td>no</td>\n",
       "      <td>2016-03-08</td>\n",
       "      <td>0</td>\n",
       "      <td>89518</td>\n",
       "      <td>2016-03-09 09:46:57</td>\n",
       "    </tr>\n",
       "    <tr>\n",
       "      <th>231258</th>\n",
       "      <td>2016-03-28 00:56:10</td>\n",
       "      <td>1000</td>\n",
       "      <td>small</td>\n",
       "      <td>2002</td>\n",
       "      <td>manual</td>\n",
       "      <td>83</td>\n",
       "      <td>other</td>\n",
       "      <td>150000</td>\n",
       "      <td>1</td>\n",
       "      <td>petrol</td>\n",
       "      <td>suzuki</td>\n",
       "      <td>no</td>\n",
       "      <td>2016-03-28</td>\n",
       "      <td>0</td>\n",
       "      <td>66589</td>\n",
       "      <td>2016-03-28 08:46:21</td>\n",
       "    </tr>\n",
       "    <tr>\n",
       "      <th>258109</th>\n",
       "      <td>2016-04-03 09:01:15</td>\n",
       "      <td>4699</td>\n",
       "      <td>coupe</td>\n",
       "      <td>2003</td>\n",
       "      <td>auto</td>\n",
       "      <td>218</td>\n",
       "      <td>clk</td>\n",
       "      <td>125000</td>\n",
       "      <td>6</td>\n",
       "      <td>petrol</td>\n",
       "      <td>mercedes_benz</td>\n",
       "      <td>yes</td>\n",
       "      <td>2016-04-03</td>\n",
       "      <td>0</td>\n",
       "      <td>75196</td>\n",
       "      <td>2016-04-07 09:44:54</td>\n",
       "    </tr>\n",
       "    <tr>\n",
       "      <th>325651</th>\n",
       "      <td>2016-03-18 18:46:15</td>\n",
       "      <td>1999</td>\n",
       "      <td>wagon</td>\n",
       "      <td>2001</td>\n",
       "      <td>manual</td>\n",
       "      <td>131</td>\n",
       "      <td>passat</td>\n",
       "      <td>150000</td>\n",
       "      <td>7</td>\n",
       "      <td>gasoline</td>\n",
       "      <td>volkswagen</td>\n",
       "      <td>no</td>\n",
       "      <td>2016-03-18</td>\n",
       "      <td>0</td>\n",
       "      <td>36391</td>\n",
       "      <td>2016-03-18 18:46:15</td>\n",
       "    </tr>\n",
       "  </tbody>\n",
       "</table>\n",
       "</div>"
      ],
      "text/plain": [
       "              date_crawled  price vehicle_type  registration_year gearbox  \\\n",
       "171088 2016-03-08 18:42:48   1799        coupe               1999    auto   \n",
       "231258 2016-03-28 00:56:10   1000        small               2002  manual   \n",
       "258109 2016-04-03 09:01:15   4699        coupe               2003    auto   \n",
       "325651 2016-03-18 18:46:15   1999        wagon               2001  manual   \n",
       "\n",
       "        power   model  kilometer  registration_month fuel_type          brand  \\\n",
       "171088    193     clk      20000                   7    petrol  mercedes_benz   \n",
       "231258     83   other     150000                   1    petrol         suzuki   \n",
       "258109    218     clk     125000                   6    petrol  mercedes_benz   \n",
       "325651    131  passat     150000                   7  gasoline     volkswagen   \n",
       "\n",
       "       not_repaired date_created  number_of_pictures  postal_code  \\\n",
       "171088           no   2016-03-08                   0        89518   \n",
       "231258           no   2016-03-28                   0        66589   \n",
       "258109          yes   2016-04-03                   0        75196   \n",
       "325651           no   2016-03-18                   0        36391   \n",
       "\n",
       "                 last_seen  \n",
       "171088 2016-03-09 09:46:57  \n",
       "231258 2016-03-28 08:46:21  \n",
       "258109 2016-04-07 09:44:54  \n",
       "325651 2016-03-18 18:46:15  "
      ]
     },
     "execution_count": 10,
     "metadata": {},
     "output_type": "execute_result"
    }
   ],
   "source": [
    "df[df.duplicated()]"
   ]
  },
  {
   "cell_type": "markdown",
   "metadata": {},
   "source": [
    "Объявления не задубленые, видимо, так решил из-за numberofpictures. В этих объявлениях нет фото."
   ]
  },
  {
   "cell_type": "code",
   "execution_count": 11,
   "metadata": {
    "scrolled": true
   },
   "outputs": [
    {
     "data": {
      "text/plain": [
       "Index(['date_crawled', 'price', 'vehicle_type', 'registration_year', 'gearbox',\n",
       "       'power', 'model', 'kilometer', 'registration_month', 'fuel_type',\n",
       "       'brand', 'not_repaired', 'date_created', 'number_of_pictures',\n",
       "       'postal_code', 'last_seen'],\n",
       "      dtype='object')"
      ]
     },
     "execution_count": 11,
     "metadata": {},
     "output_type": "execute_result"
    }
   ],
   "source": [
    "df.columns"
   ]
  },
  {
   "cell_type": "code",
   "execution_count": 12,
   "metadata": {},
   "outputs": [
    {
     "name": "stdout",
     "output_type": "stream",
     "text": [
      "vehicle_type\n",
      "['bus' 'convertible' 'coupe' 'other' 'sedan' 'small' 'suv' 'wagon']\n",
      "\n",
      "gearbox\n",
      "['auto' 'manual']\n",
      "\n",
      "model\n",
      "['100' '145' '147' '156' '159' '1_reihe' '1er' '200' '2_reihe' '300c'\n",
      " '3_reihe' '3er' '4_reihe' '500' '5_reihe' '5er' '601' '6_reihe' '6er'\n",
      " '7er' '80' '850' '90' '900' '9000' '911' 'a1' 'a2' 'a3' 'a4' 'a5' 'a6'\n",
      " 'a8' 'a_klasse' 'accord' 'agila' 'alhambra' 'almera' 'altea' 'amarok'\n",
      " 'antara' 'arosa' 'astra' 'auris' 'avensis' 'aveo' 'aygo' 'b_klasse'\n",
      " 'b_max' 'beetle' 'berlingo' 'bora' 'boxster' 'bravo' 'c1' 'c2' 'c3' 'c4'\n",
      " 'c5' 'c_klasse' 'c_max' 'c_reihe' 'caddy' 'calibra' 'captiva' 'carisma'\n",
      " 'carnival' 'cayenne' 'cc' 'ceed' 'charade' 'cherokee' 'citigo' 'civic'\n",
      " 'cl' 'clio' 'clk' 'clubman' 'colt' 'combo' 'cooper' 'cordoba' 'corolla'\n",
      " 'corsa' 'cr_reihe' 'croma' 'crossfire' 'cuore' 'cx_reihe' 'defender'\n",
      " 'delta' 'discovery' 'doblo' 'ducato' 'duster' 'e_klasse' 'elefantino'\n",
      " 'eos' 'escort' 'espace' 'exeo' 'fabia' 'fiesta' 'focus' 'forester'\n",
      " 'forfour' 'fortwo' 'fox' 'freelander' 'fusion' 'g_klasse' 'galant'\n",
      " 'galaxy' 'getz' 'gl' 'glk' 'golf' 'grand' 'i3' 'i_reihe' 'ibiza'\n",
      " 'impreza' 'insignia' 'jazz' 'jetta' 'jimny' 'juke' 'justy' 'ka' 'kadett'\n",
      " 'kaefer' 'kalina' 'kalos' 'kangoo' 'kappa' 'kuga' 'laguna' 'lancer'\n",
      " 'lanos' 'legacy' 'leon' 'lodgy' 'logan' 'lupo' 'lybra' 'm_klasse'\n",
      " 'm_reihe' 'materia' 'matiz' 'megane' 'meriva' 'micra' 'mii' 'modus'\n",
      " 'mondeo' 'move' 'musa' 'mustang' 'mx_reihe' 'navara' 'niva' 'note'\n",
      " 'nubira' 'octavia' 'omega' 'one' 'other' 'outlander' 'pajero' 'panda'\n",
      " 'passat' 'phaeton' 'picanto' 'polo' 'primera' 'ptcruiser' 'punto' 'q3'\n",
      " 'q5' 'q7' 'qashqai' 'r19' 'range_rover' 'range_rover_evoque'\n",
      " 'range_rover_sport' 'rangerover' 'rav' 'rio' 'roadster' 'roomster'\n",
      " 'rx_reihe' 's60' 's_klasse' 's_max' 's_type' 'samara' 'sandero' 'santa'\n",
      " 'scenic' 'scirocco' 'seicento' 'serie_1' 'serie_2' 'serie_3' 'sharan'\n",
      " 'signum' 'sirion' 'sl' 'slk' 'sorento' 'spark' 'spider' 'sportage'\n",
      " 'sprinter' 'stilo' 'superb' 'swift' 'terios' 'tigra' 'tiguan' 'toledo'\n",
      " 'touareg' 'touran' 'transit' 'transporter' 'tt' 'tucson' 'twingo' 'up'\n",
      " 'v40' 'v50' 'v60' 'v70' 'v_klasse' 'vectra' 'verso' 'viano' 'vito'\n",
      " 'vivaro' 'voyager' 'wrangler' 'x_reihe' 'x_trail' 'x_type' 'xc_reihe'\n",
      " 'yaris' 'yeti' 'ypsilon' 'z_reihe' 'zafira']\n",
      "\n",
      "fuel_type\n",
      "['cng' 'electric' 'gasoline' 'hybrid' 'lpg' 'other' 'petrol']\n",
      "\n",
      "brand\n",
      "['alfa_romeo' 'audi' 'bmw' 'chevrolet' 'chrysler' 'citroen' 'dacia'\n",
      " 'daewoo' 'daihatsu' 'fiat' 'ford' 'honda' 'hyundai' 'jaguar' 'jeep' 'kia'\n",
      " 'lada' 'lancia' 'land_rover' 'mazda' 'mercedes_benz' 'mini' 'mitsubishi'\n",
      " 'nissan' 'opel' 'peugeot' 'porsche' 'renault' 'rover' 'saab' 'seat'\n",
      " 'skoda' 'smart' 'sonstige_autos' 'subaru' 'suzuki' 'toyota' 'trabant'\n",
      " 'volkswagen' 'volvo']\n",
      "\n",
      "not_repaired\n",
      "['no' 'yes']\n",
      "\n"
     ]
    }
   ],
   "source": [
    "cat = ['vehicle_type','gearbox','model','fuel_type','brand','not_repaired']\n",
    "for cat_ in cat:\n",
    "    print(cat_)\n",
    "    print(np.sort(df[cat_].value_counts().index))\n",
    "    print()"
   ]
  },
  {
   "cell_type": "markdown",
   "metadata": {},
   "source": [
    "Начнем с признака model. Название range_rover написано: range_rover и  rangerover. Посчитаем сколько у нас таких значений."
   ]
  },
  {
   "cell_type": "code",
   "execution_count": 13,
   "metadata": {},
   "outputs": [
    {
     "data": {
      "text/plain": [
       "81"
      ]
     },
     "execution_count": 13,
     "metadata": {},
     "output_type": "execute_result"
    }
   ],
   "source": [
    "len(df.loc[(df['model']=='range_rover') | (df['model']=='rangerover')])"
   ]
  },
  {
   "cell_type": "markdown",
   "metadata": {},
   "source": [
    "Проведем замену."
   ]
  },
  {
   "cell_type": "code",
   "execution_count": 14,
   "metadata": {},
   "outputs": [],
   "source": [
    "df.loc[(df.model=='range_rover'), 'model'] ='rangerover'"
   ]
  },
  {
   "cell_type": "markdown",
   "metadata": {},
   "source": [
    "Посчитаем сколько объектов с уазанием range_rover."
   ]
  },
  {
   "cell_type": "code",
   "execution_count": 15,
   "metadata": {
    "scrolled": true
   },
   "outputs": [
    {
     "data": {
      "text/plain": [
       "0"
      ]
     },
     "execution_count": 15,
     "metadata": {},
     "output_type": "execute_result"
    }
   ],
   "source": [
    "len(df.loc[df['model']=='range_rover'])"
   ]
  },
  {
   "cell_type": "markdown",
   "metadata": {},
   "source": [
    "Посчитаем сколько объектов с уазанием rangerover."
   ]
  },
  {
   "cell_type": "code",
   "execution_count": 16,
   "metadata": {
    "scrolled": true
   },
   "outputs": [
    {
     "data": {
      "text/plain": [
       "81"
      ]
     },
     "execution_count": 16,
     "metadata": {},
     "output_type": "execute_result"
    }
   ],
   "source": [
    "len(df.loc[df['model']=='rangerover'])"
   ]
  },
  {
   "cell_type": "markdown",
   "metadata": {},
   "source": [
    "Все сошлось. <br>Перейдем к топливу. У нас есть gasoline и petrol. Это бензин. Объединим все под названием petrol. Посчитаем сколько у нас таких значений. "
   ]
  },
  {
   "cell_type": "code",
   "execution_count": 17,
   "metadata": {},
   "outputs": [
    {
     "data": {
      "text/plain": [
       "315072"
      ]
     },
     "execution_count": 17,
     "metadata": {},
     "output_type": "execute_result"
    }
   ],
   "source": [
    "len(df.loc[(df['fuel_type']=='gasoline') | (df['fuel_type']=='petrol')])"
   ]
  },
  {
   "cell_type": "markdown",
   "metadata": {},
   "source": [
    "Проведем замену."
   ]
  },
  {
   "cell_type": "code",
   "execution_count": 18,
   "metadata": {},
   "outputs": [],
   "source": [
    "df.loc[(df.fuel_type=='gasoline'), 'fuel_type'] ='petrol'"
   ]
  },
  {
   "cell_type": "markdown",
   "metadata": {},
   "source": [
    "Посчитаем сколько объектов с уазанием gasoline."
   ]
  },
  {
   "cell_type": "code",
   "execution_count": 19,
   "metadata": {},
   "outputs": [
    {
     "data": {
      "text/plain": [
       "0"
      ]
     },
     "execution_count": 19,
     "metadata": {},
     "output_type": "execute_result"
    }
   ],
   "source": [
    "len(df.loc[df['fuel_type']=='gasoline'])"
   ]
  },
  {
   "cell_type": "markdown",
   "metadata": {},
   "source": [
    "Посчитаем сколько объектов с уазанием petrol."
   ]
  },
  {
   "cell_type": "code",
   "execution_count": 20,
   "metadata": {},
   "outputs": [
    {
     "data": {
      "text/plain": [
       "315072"
      ]
     },
     "execution_count": 20,
     "metadata": {},
     "output_type": "execute_result"
    }
   ],
   "source": [
    "len(df.loc[df['fuel_type']=='petrol'])"
   ]
  },
  {
   "cell_type": "markdown",
   "metadata": {},
   "source": [
    "Все сошлось. В остальном, все в порядке."
   ]
  },
  {
   "cell_type": "markdown",
   "metadata": {},
   "source": [
    "### Аномалии в данных"
   ]
  },
  {
   "cell_type": "markdown",
   "metadata": {},
   "source": [
    "Для начала, посмотрим на данные методом describe()."
   ]
  },
  {
   "cell_type": "code",
   "execution_count": 21,
   "metadata": {
    "scrolled": true
   },
   "outputs": [
    {
     "data": {
      "text/html": [
       "<div>\n",
       "<style scoped>\n",
       "    .dataframe tbody tr th:only-of-type {\n",
       "        vertical-align: middle;\n",
       "    }\n",
       "\n",
       "    .dataframe tbody tr th {\n",
       "        vertical-align: top;\n",
       "    }\n",
       "\n",
       "    .dataframe thead th {\n",
       "        text-align: right;\n",
       "    }\n",
       "</style>\n",
       "<table border=\"1\" class=\"dataframe\">\n",
       "  <thead>\n",
       "    <tr style=\"text-align: right;\">\n",
       "      <th></th>\n",
       "      <th>price</th>\n",
       "      <th>registration_year</th>\n",
       "      <th>power</th>\n",
       "      <th>kilometer</th>\n",
       "      <th>registration_month</th>\n",
       "      <th>number_of_pictures</th>\n",
       "      <th>postal_code</th>\n",
       "    </tr>\n",
       "  </thead>\n",
       "  <tbody>\n",
       "    <tr>\n",
       "      <th>count</th>\n",
       "      <td>354369.000000</td>\n",
       "      <td>354369.000000</td>\n",
       "      <td>354369.000000</td>\n",
       "      <td>354369.000000</td>\n",
       "      <td>354369.000000</td>\n",
       "      <td>354369.0</td>\n",
       "      <td>354369.000000</td>\n",
       "    </tr>\n",
       "    <tr>\n",
       "      <th>mean</th>\n",
       "      <td>4416.656776</td>\n",
       "      <td>2004.234448</td>\n",
       "      <td>110.094337</td>\n",
       "      <td>128211.172535</td>\n",
       "      <td>5.714645</td>\n",
       "      <td>0.0</td>\n",
       "      <td>50508.689087</td>\n",
       "    </tr>\n",
       "    <tr>\n",
       "      <th>std</th>\n",
       "      <td>4514.158514</td>\n",
       "      <td>90.227958</td>\n",
       "      <td>189.850405</td>\n",
       "      <td>37905.341530</td>\n",
       "      <td>3.726421</td>\n",
       "      <td>0.0</td>\n",
       "      <td>25783.096248</td>\n",
       "    </tr>\n",
       "    <tr>\n",
       "      <th>min</th>\n",
       "      <td>0.000000</td>\n",
       "      <td>1000.000000</td>\n",
       "      <td>0.000000</td>\n",
       "      <td>5000.000000</td>\n",
       "      <td>0.000000</td>\n",
       "      <td>0.0</td>\n",
       "      <td>1067.000000</td>\n",
       "    </tr>\n",
       "    <tr>\n",
       "      <th>25%</th>\n",
       "      <td>1050.000000</td>\n",
       "      <td>1999.000000</td>\n",
       "      <td>69.000000</td>\n",
       "      <td>125000.000000</td>\n",
       "      <td>3.000000</td>\n",
       "      <td>0.0</td>\n",
       "      <td>30165.000000</td>\n",
       "    </tr>\n",
       "    <tr>\n",
       "      <th>50%</th>\n",
       "      <td>2700.000000</td>\n",
       "      <td>2003.000000</td>\n",
       "      <td>105.000000</td>\n",
       "      <td>150000.000000</td>\n",
       "      <td>6.000000</td>\n",
       "      <td>0.0</td>\n",
       "      <td>49413.000000</td>\n",
       "    </tr>\n",
       "    <tr>\n",
       "      <th>75%</th>\n",
       "      <td>6400.000000</td>\n",
       "      <td>2008.000000</td>\n",
       "      <td>143.000000</td>\n",
       "      <td>150000.000000</td>\n",
       "      <td>9.000000</td>\n",
       "      <td>0.0</td>\n",
       "      <td>71083.000000</td>\n",
       "    </tr>\n",
       "    <tr>\n",
       "      <th>max</th>\n",
       "      <td>20000.000000</td>\n",
       "      <td>9999.000000</td>\n",
       "      <td>20000.000000</td>\n",
       "      <td>150000.000000</td>\n",
       "      <td>12.000000</td>\n",
       "      <td>0.0</td>\n",
       "      <td>99998.000000</td>\n",
       "    </tr>\n",
       "  </tbody>\n",
       "</table>\n",
       "</div>"
      ],
      "text/plain": [
       "               price  registration_year          power      kilometer  \\\n",
       "count  354369.000000      354369.000000  354369.000000  354369.000000   \n",
       "mean     4416.656776        2004.234448     110.094337  128211.172535   \n",
       "std      4514.158514          90.227958     189.850405   37905.341530   \n",
       "min         0.000000        1000.000000       0.000000    5000.000000   \n",
       "25%      1050.000000        1999.000000      69.000000  125000.000000   \n",
       "50%      2700.000000        2003.000000     105.000000  150000.000000   \n",
       "75%      6400.000000        2008.000000     143.000000  150000.000000   \n",
       "max     20000.000000        9999.000000   20000.000000  150000.000000   \n",
       "\n",
       "       registration_month  number_of_pictures    postal_code  \n",
       "count       354369.000000            354369.0  354369.000000  \n",
       "mean             5.714645                 0.0   50508.689087  \n",
       "std              3.726421                 0.0   25783.096248  \n",
       "min              0.000000                 0.0    1067.000000  \n",
       "25%              3.000000                 0.0   30165.000000  \n",
       "50%              6.000000                 0.0   49413.000000  \n",
       "75%              9.000000                 0.0   71083.000000  \n",
       "max             12.000000                 0.0   99998.000000  "
      ]
     },
     "execution_count": 21,
     "metadata": {},
     "output_type": "execute_result"
    }
   ],
   "source": [
    "df.describe()"
   ]
  },
  {
   "cell_type": "markdown",
   "metadata": {},
   "source": [
    "В данных нет отрицательных значений, т.к. мин значения - 0. Уже хорошо. <br>Миним значение даты регистрации 1000 год, а максимаьное 9999. Это вряд ли.<br> По признаку numberofpictures везде 0. Фото нет в объявлениях.<br> Также маловероятна мощность в 20000."
   ]
  },
  {
   "cell_type": "code",
   "execution_count": 22,
   "metadata": {},
   "outputs": [
    {
     "data": {
      "text/html": [
       "<div>\n",
       "<style scoped>\n",
       "    .dataframe tbody tr th:only-of-type {\n",
       "        vertical-align: middle;\n",
       "    }\n",
       "\n",
       "    .dataframe tbody tr th {\n",
       "        vertical-align: top;\n",
       "    }\n",
       "\n",
       "    .dataframe thead th {\n",
       "        text-align: right;\n",
       "    }\n",
       "</style>\n",
       "<table border=\"1\" class=\"dataframe\">\n",
       "  <thead>\n",
       "    <tr style=\"text-align: right;\">\n",
       "      <th></th>\n",
       "      <th>date_crawled</th>\n",
       "      <th>price</th>\n",
       "      <th>vehicle_type</th>\n",
       "      <th>registration_year</th>\n",
       "      <th>gearbox</th>\n",
       "      <th>power</th>\n",
       "      <th>model</th>\n",
       "      <th>kilometer</th>\n",
       "      <th>registration_month</th>\n",
       "      <th>fuel_type</th>\n",
       "      <th>brand</th>\n",
       "      <th>not_repaired</th>\n",
       "      <th>date_created</th>\n",
       "      <th>number_of_pictures</th>\n",
       "      <th>postal_code</th>\n",
       "      <th>last_seen</th>\n",
       "    </tr>\n",
       "  </thead>\n",
       "  <tbody>\n",
       "    <tr>\n",
       "      <th>15</th>\n",
       "      <td>2016-03-11 21:39:15</td>\n",
       "      <td>450</td>\n",
       "      <td>small</td>\n",
       "      <td>1910</td>\n",
       "      <td>NaN</td>\n",
       "      <td>0</td>\n",
       "      <td>ka</td>\n",
       "      <td>5000</td>\n",
       "      <td>0</td>\n",
       "      <td>petrol</td>\n",
       "      <td>ford</td>\n",
       "      <td>NaN</td>\n",
       "      <td>2016-03-11</td>\n",
       "      <td>0</td>\n",
       "      <td>24148</td>\n",
       "      <td>2016-03-19 08:46:47</td>\n",
       "    </tr>\n",
       "    <tr>\n",
       "      <th>622</th>\n",
       "      <td>2016-03-16 16:55:09</td>\n",
       "      <td>0</td>\n",
       "      <td>NaN</td>\n",
       "      <td>1111</td>\n",
       "      <td>NaN</td>\n",
       "      <td>0</td>\n",
       "      <td>NaN</td>\n",
       "      <td>5000</td>\n",
       "      <td>0</td>\n",
       "      <td>NaN</td>\n",
       "      <td>opel</td>\n",
       "      <td>NaN</td>\n",
       "      <td>2016-03-16</td>\n",
       "      <td>0</td>\n",
       "      <td>44628</td>\n",
       "      <td>2016-03-20 16:44:37</td>\n",
       "    </tr>\n",
       "    <tr>\n",
       "      <th>1928</th>\n",
       "      <td>2016-03-25 15:58:21</td>\n",
       "      <td>7000</td>\n",
       "      <td>suv</td>\n",
       "      <td>1945</td>\n",
       "      <td>manual</td>\n",
       "      <td>48</td>\n",
       "      <td>other</td>\n",
       "      <td>150000</td>\n",
       "      <td>2</td>\n",
       "      <td>petrol</td>\n",
       "      <td>volkswagen</td>\n",
       "      <td>no</td>\n",
       "      <td>2016-03-25</td>\n",
       "      <td>0</td>\n",
       "      <td>58135</td>\n",
       "      <td>2016-03-25 15:58:21</td>\n",
       "    </tr>\n",
       "    <tr>\n",
       "      <th>2273</th>\n",
       "      <td>2016-03-15 21:44:32</td>\n",
       "      <td>1800</td>\n",
       "      <td>convertible</td>\n",
       "      <td>1925</td>\n",
       "      <td>NaN</td>\n",
       "      <td>0</td>\n",
       "      <td>NaN</td>\n",
       "      <td>5000</td>\n",
       "      <td>1</td>\n",
       "      <td>NaN</td>\n",
       "      <td>sonstige_autos</td>\n",
       "      <td>no</td>\n",
       "      <td>2016-03-15</td>\n",
       "      <td>0</td>\n",
       "      <td>79288</td>\n",
       "      <td>2016-04-07 05:15:34</td>\n",
       "    </tr>\n",
       "    <tr>\n",
       "      <th>6629</th>\n",
       "      <td>2016-04-02 13:47:16</td>\n",
       "      <td>0</td>\n",
       "      <td>small</td>\n",
       "      <td>1910</td>\n",
       "      <td>NaN</td>\n",
       "      <td>0</td>\n",
       "      <td>NaN</td>\n",
       "      <td>5000</td>\n",
       "      <td>1</td>\n",
       "      <td>other</td>\n",
       "      <td>sonstige_autos</td>\n",
       "      <td>NaN</td>\n",
       "      <td>2016-04-02</td>\n",
       "      <td>0</td>\n",
       "      <td>93105</td>\n",
       "      <td>2016-04-04 11:16:30</td>\n",
       "    </tr>\n",
       "    <tr>\n",
       "      <th>...</th>\n",
       "      <td>...</td>\n",
       "      <td>...</td>\n",
       "      <td>...</td>\n",
       "      <td>...</td>\n",
       "      <td>...</td>\n",
       "      <td>...</td>\n",
       "      <td>...</td>\n",
       "      <td>...</td>\n",
       "      <td>...</td>\n",
       "      <td>...</td>\n",
       "      <td>...</td>\n",
       "      <td>...</td>\n",
       "      <td>...</td>\n",
       "      <td>...</td>\n",
       "      <td>...</td>\n",
       "      <td>...</td>\n",
       "    </tr>\n",
       "    <tr>\n",
       "      <th>346046</th>\n",
       "      <td>2016-03-26 16:45:28</td>\n",
       "      <td>18900</td>\n",
       "      <td>suv</td>\n",
       "      <td>1943</td>\n",
       "      <td>manual</td>\n",
       "      <td>60</td>\n",
       "      <td>other</td>\n",
       "      <td>150000</td>\n",
       "      <td>3</td>\n",
       "      <td>petrol</td>\n",
       "      <td>volkswagen</td>\n",
       "      <td>no</td>\n",
       "      <td>2016-03-26</td>\n",
       "      <td>0</td>\n",
       "      <td>51065</td>\n",
       "      <td>2016-03-26 16:45:28</td>\n",
       "    </tr>\n",
       "    <tr>\n",
       "      <th>348830</th>\n",
       "      <td>2016-03-22 00:38:15</td>\n",
       "      <td>1</td>\n",
       "      <td>NaN</td>\n",
       "      <td>1000</td>\n",
       "      <td>NaN</td>\n",
       "      <td>1000</td>\n",
       "      <td>NaN</td>\n",
       "      <td>150000</td>\n",
       "      <td>0</td>\n",
       "      <td>NaN</td>\n",
       "      <td>sonstige_autos</td>\n",
       "      <td>NaN</td>\n",
       "      <td>2016-03-21</td>\n",
       "      <td>0</td>\n",
       "      <td>41472</td>\n",
       "      <td>2016-04-05 14:18:01</td>\n",
       "    </tr>\n",
       "    <tr>\n",
       "      <th>351682</th>\n",
       "      <td>2016-03-12 00:57:39</td>\n",
       "      <td>11500</td>\n",
       "      <td>NaN</td>\n",
       "      <td>1800</td>\n",
       "      <td>NaN</td>\n",
       "      <td>16</td>\n",
       "      <td>other</td>\n",
       "      <td>5000</td>\n",
       "      <td>6</td>\n",
       "      <td>petrol</td>\n",
       "      <td>fiat</td>\n",
       "      <td>NaN</td>\n",
       "      <td>2016-03-11</td>\n",
       "      <td>0</td>\n",
       "      <td>16515</td>\n",
       "      <td>2016-04-05 19:47:27</td>\n",
       "    </tr>\n",
       "    <tr>\n",
       "      <th>353531</th>\n",
       "      <td>2016-03-16 21:56:55</td>\n",
       "      <td>6000</td>\n",
       "      <td>sedan</td>\n",
       "      <td>1937</td>\n",
       "      <td>manual</td>\n",
       "      <td>38</td>\n",
       "      <td>other</td>\n",
       "      <td>5000</td>\n",
       "      <td>0</td>\n",
       "      <td>petrol</td>\n",
       "      <td>mercedes_benz</td>\n",
       "      <td>NaN</td>\n",
       "      <td>2016-03-16</td>\n",
       "      <td>0</td>\n",
       "      <td>23936</td>\n",
       "      <td>2016-03-30 18:47:41</td>\n",
       "    </tr>\n",
       "    <tr>\n",
       "      <th>353961</th>\n",
       "      <td>2016-03-17 13:54:22</td>\n",
       "      <td>200</td>\n",
       "      <td>NaN</td>\n",
       "      <td>1910</td>\n",
       "      <td>NaN</td>\n",
       "      <td>0</td>\n",
       "      <td>NaN</td>\n",
       "      <td>5000</td>\n",
       "      <td>0</td>\n",
       "      <td>petrol</td>\n",
       "      <td>sonstige_autos</td>\n",
       "      <td>NaN</td>\n",
       "      <td>2016-03-17</td>\n",
       "      <td>0</td>\n",
       "      <td>42289</td>\n",
       "      <td>2016-03-31 22:46:47</td>\n",
       "    </tr>\n",
       "  </tbody>\n",
       "</table>\n",
       "<p>351 rows × 16 columns</p>\n",
       "</div>"
      ],
      "text/plain": [
       "              date_crawled  price vehicle_type  registration_year gearbox  \\\n",
       "15     2016-03-11 21:39:15    450        small               1910     NaN   \n",
       "622    2016-03-16 16:55:09      0          NaN               1111     NaN   \n",
       "1928   2016-03-25 15:58:21   7000          suv               1945  manual   \n",
       "2273   2016-03-15 21:44:32   1800  convertible               1925     NaN   \n",
       "6629   2016-04-02 13:47:16      0        small               1910     NaN   \n",
       "...                    ...    ...          ...                ...     ...   \n",
       "346046 2016-03-26 16:45:28  18900          suv               1943  manual   \n",
       "348830 2016-03-22 00:38:15      1          NaN               1000     NaN   \n",
       "351682 2016-03-12 00:57:39  11500          NaN               1800     NaN   \n",
       "353531 2016-03-16 21:56:55   6000        sedan               1937  manual   \n",
       "353961 2016-03-17 13:54:22    200          NaN               1910     NaN   \n",
       "\n",
       "        power  model  kilometer  registration_month fuel_type           brand  \\\n",
       "15          0     ka       5000                   0    petrol            ford   \n",
       "622         0    NaN       5000                   0       NaN            opel   \n",
       "1928       48  other     150000                   2    petrol      volkswagen   \n",
       "2273        0    NaN       5000                   1       NaN  sonstige_autos   \n",
       "6629        0    NaN       5000                   1     other  sonstige_autos   \n",
       "...       ...    ...        ...                 ...       ...             ...   \n",
       "346046     60  other     150000                   3    petrol      volkswagen   \n",
       "348830   1000    NaN     150000                   0       NaN  sonstige_autos   \n",
       "351682     16  other       5000                   6    petrol            fiat   \n",
       "353531     38  other       5000                   0    petrol   mercedes_benz   \n",
       "353961      0    NaN       5000                   0    petrol  sonstige_autos   \n",
       "\n",
       "       not_repaired date_created  number_of_pictures  postal_code  \\\n",
       "15              NaN   2016-03-11                   0        24148   \n",
       "622             NaN   2016-03-16                   0        44628   \n",
       "1928             no   2016-03-25                   0        58135   \n",
       "2273             no   2016-03-15                   0        79288   \n",
       "6629            NaN   2016-04-02                   0        93105   \n",
       "...             ...          ...                 ...          ...   \n",
       "346046           no   2016-03-26                   0        51065   \n",
       "348830          NaN   2016-03-21                   0        41472   \n",
       "351682          NaN   2016-03-11                   0        16515   \n",
       "353531          NaN   2016-03-16                   0        23936   \n",
       "353961          NaN   2016-03-17                   0        42289   \n",
       "\n",
       "                 last_seen  \n",
       "15     2016-03-19 08:46:47  \n",
       "622    2016-03-20 16:44:37  \n",
       "1928   2016-03-25 15:58:21  \n",
       "2273   2016-04-07 05:15:34  \n",
       "6629   2016-04-04 11:16:30  \n",
       "...                    ...  \n",
       "346046 2016-03-26 16:45:28  \n",
       "348830 2016-04-05 14:18:01  \n",
       "351682 2016-04-05 19:47:27  \n",
       "353531 2016-03-30 18:47:41  \n",
       "353961 2016-03-31 22:46:47  \n",
       "\n",
       "[351 rows x 16 columns]"
      ]
     },
     "execution_count": 22,
     "metadata": {},
     "output_type": "execute_result"
    }
   ],
   "source": [
    "df.query('registration_year<1950 or registration_year>2022')"
   ]
  },
  {
   "cell_type": "markdown",
   "metadata": {},
   "source": [
    "Таких значений 351 из 354369. Заменим эти значения 0ями."
   ]
  },
  {
   "cell_type": "code",
   "execution_count": 23,
   "metadata": {},
   "outputs": [],
   "source": [
    "df['registration_year'] = np.where(((df['registration_year']<1950) | (df['registration_year']>2022)), \n",
    "                                   df['registration_year'].median(), df['registration_year'])"
   ]
  },
  {
   "cell_type": "markdown",
   "metadata": {},
   "source": [
    "Посмотрим на объявления с машинами мощностью более 650 лошадиных сил. "
   ]
  },
  {
   "cell_type": "code",
   "execution_count": 24,
   "metadata": {},
   "outputs": [
    {
     "data": {
      "text/html": [
       "<div>\n",
       "<style scoped>\n",
       "    .dataframe tbody tr th:only-of-type {\n",
       "        vertical-align: middle;\n",
       "    }\n",
       "\n",
       "    .dataframe tbody tr th {\n",
       "        vertical-align: top;\n",
       "    }\n",
       "\n",
       "    .dataframe thead th {\n",
       "        text-align: right;\n",
       "    }\n",
       "</style>\n",
       "<table border=\"1\" class=\"dataframe\">\n",
       "  <thead>\n",
       "    <tr style=\"text-align: right;\">\n",
       "      <th></th>\n",
       "      <th>date_crawled</th>\n",
       "      <th>price</th>\n",
       "      <th>vehicle_type</th>\n",
       "      <th>registration_year</th>\n",
       "      <th>gearbox</th>\n",
       "      <th>power</th>\n",
       "      <th>model</th>\n",
       "      <th>kilometer</th>\n",
       "      <th>registration_month</th>\n",
       "      <th>fuel_type</th>\n",
       "      <th>brand</th>\n",
       "      <th>not_repaired</th>\n",
       "      <th>date_created</th>\n",
       "      <th>number_of_pictures</th>\n",
       "      <th>postal_code</th>\n",
       "      <th>last_seen</th>\n",
       "    </tr>\n",
       "  </thead>\n",
       "  <tbody>\n",
       "    <tr>\n",
       "      <th>1816</th>\n",
       "      <td>2016-03-22 20:52:00</td>\n",
       "      <td>3200</td>\n",
       "      <td>small</td>\n",
       "      <td>2004.0</td>\n",
       "      <td>manual</td>\n",
       "      <td>1398</td>\n",
       "      <td>corolla</td>\n",
       "      <td>5000</td>\n",
       "      <td>6</td>\n",
       "      <td>petrol</td>\n",
       "      <td>toyota</td>\n",
       "      <td>no</td>\n",
       "      <td>2016-03-22</td>\n",
       "      <td>0</td>\n",
       "      <td>22043</td>\n",
       "      <td>2016-03-22 21:43:26</td>\n",
       "    </tr>\n",
       "    <tr>\n",
       "      <th>2102</th>\n",
       "      <td>2016-03-21 11:55:22</td>\n",
       "      <td>0</td>\n",
       "      <td>sedan</td>\n",
       "      <td>1999.0</td>\n",
       "      <td>NaN</td>\n",
       "      <td>1799</td>\n",
       "      <td>vectra</td>\n",
       "      <td>150000</td>\n",
       "      <td>1</td>\n",
       "      <td>petrol</td>\n",
       "      <td>opel</td>\n",
       "      <td>yes</td>\n",
       "      <td>2016-03-21</td>\n",
       "      <td>0</td>\n",
       "      <td>1723</td>\n",
       "      <td>2016-04-04 04:49:06</td>\n",
       "    </tr>\n",
       "    <tr>\n",
       "      <th>3746</th>\n",
       "      <td>2016-03-21 14:48:31</td>\n",
       "      <td>0</td>\n",
       "      <td>NaN</td>\n",
       "      <td>2017.0</td>\n",
       "      <td>manual</td>\n",
       "      <td>750</td>\n",
       "      <td>NaN</td>\n",
       "      <td>150000</td>\n",
       "      <td>8</td>\n",
       "      <td>petrol</td>\n",
       "      <td>smart</td>\n",
       "      <td>no</td>\n",
       "      <td>2016-03-21</td>\n",
       "      <td>0</td>\n",
       "      <td>49356</td>\n",
       "      <td>2016-03-24 03:44:59</td>\n",
       "    </tr>\n",
       "    <tr>\n",
       "      <th>4060</th>\n",
       "      <td>2016-04-03 20:31:00</td>\n",
       "      <td>3100</td>\n",
       "      <td>sedan</td>\n",
       "      <td>2005.0</td>\n",
       "      <td>manual</td>\n",
       "      <td>953</td>\n",
       "      <td>colt</td>\n",
       "      <td>150000</td>\n",
       "      <td>4</td>\n",
       "      <td>petrol</td>\n",
       "      <td>mitsubishi</td>\n",
       "      <td>no</td>\n",
       "      <td>2016-04-03</td>\n",
       "      <td>0</td>\n",
       "      <td>60326</td>\n",
       "      <td>2016-04-07 14:56:46</td>\n",
       "    </tr>\n",
       "    <tr>\n",
       "      <th>5328</th>\n",
       "      <td>2016-03-29 19:44:48</td>\n",
       "      <td>500</td>\n",
       "      <td>wagon</td>\n",
       "      <td>1999.0</td>\n",
       "      <td>manual</td>\n",
       "      <td>1001</td>\n",
       "      <td>astra</td>\n",
       "      <td>150000</td>\n",
       "      <td>7</td>\n",
       "      <td>petrol</td>\n",
       "      <td>opel</td>\n",
       "      <td>NaN</td>\n",
       "      <td>2016-03-29</td>\n",
       "      <td>0</td>\n",
       "      <td>33154</td>\n",
       "      <td>2016-04-06 05:44:36</td>\n",
       "    </tr>\n",
       "    <tr>\n",
       "      <th>...</th>\n",
       "      <td>...</td>\n",
       "      <td>...</td>\n",
       "      <td>...</td>\n",
       "      <td>...</td>\n",
       "      <td>...</td>\n",
       "      <td>...</td>\n",
       "      <td>...</td>\n",
       "      <td>...</td>\n",
       "      <td>...</td>\n",
       "      <td>...</td>\n",
       "      <td>...</td>\n",
       "      <td>...</td>\n",
       "      <td>...</td>\n",
       "      <td>...</td>\n",
       "      <td>...</td>\n",
       "      <td>...</td>\n",
       "    </tr>\n",
       "    <tr>\n",
       "      <th>348883</th>\n",
       "      <td>2016-03-13 11:51:57</td>\n",
       "      <td>7500</td>\n",
       "      <td>sedan</td>\n",
       "      <td>2011.0</td>\n",
       "      <td>manual</td>\n",
       "      <td>1548</td>\n",
       "      <td>scenic</td>\n",
       "      <td>90000</td>\n",
       "      <td>4</td>\n",
       "      <td>petrol</td>\n",
       "      <td>renault</td>\n",
       "      <td>NaN</td>\n",
       "      <td>2016-03-13</td>\n",
       "      <td>0</td>\n",
       "      <td>24568</td>\n",
       "      <td>2016-04-06 15:17:39</td>\n",
       "    </tr>\n",
       "    <tr>\n",
       "      <th>348968</th>\n",
       "      <td>2016-04-04 18:53:25</td>\n",
       "      <td>250</td>\n",
       "      <td>small</td>\n",
       "      <td>1999.0</td>\n",
       "      <td>manual</td>\n",
       "      <td>1241</td>\n",
       "      <td>ypsilon</td>\n",
       "      <td>150000</td>\n",
       "      <td>5</td>\n",
       "      <td>petrol</td>\n",
       "      <td>lancia</td>\n",
       "      <td>yes</td>\n",
       "      <td>2016-04-04</td>\n",
       "      <td>0</td>\n",
       "      <td>28259</td>\n",
       "      <td>2016-04-04 18:53:25</td>\n",
       "    </tr>\n",
       "    <tr>\n",
       "      <th>351947</th>\n",
       "      <td>2016-03-07 21:36:19</td>\n",
       "      <td>1500</td>\n",
       "      <td>bus</td>\n",
       "      <td>2001.0</td>\n",
       "      <td>manual</td>\n",
       "      <td>1001</td>\n",
       "      <td>zafira</td>\n",
       "      <td>5000</td>\n",
       "      <td>7</td>\n",
       "      <td>petrol</td>\n",
       "      <td>opel</td>\n",
       "      <td>no</td>\n",
       "      <td>2016-03-07</td>\n",
       "      <td>0</td>\n",
       "      <td>66117</td>\n",
       "      <td>2016-03-09 12:47:08</td>\n",
       "    </tr>\n",
       "    <tr>\n",
       "      <th>353493</th>\n",
       "      <td>2016-04-02 20:54:21</td>\n",
       "      <td>12500</td>\n",
       "      <td>NaN</td>\n",
       "      <td>2017.0</td>\n",
       "      <td>manual</td>\n",
       "      <td>2000</td>\n",
       "      <td>other</td>\n",
       "      <td>60000</td>\n",
       "      <td>0</td>\n",
       "      <td>petrol</td>\n",
       "      <td>chrysler</td>\n",
       "      <td>no</td>\n",
       "      <td>2016-04-02</td>\n",
       "      <td>0</td>\n",
       "      <td>44145</td>\n",
       "      <td>2016-04-06 21:44:39</td>\n",
       "    </tr>\n",
       "    <tr>\n",
       "      <th>354260</th>\n",
       "      <td>2016-03-09 17:59:03</td>\n",
       "      <td>399</td>\n",
       "      <td>other</td>\n",
       "      <td>1994.0</td>\n",
       "      <td>NaN</td>\n",
       "      <td>1103</td>\n",
       "      <td>3er</td>\n",
       "      <td>150000</td>\n",
       "      <td>0</td>\n",
       "      <td>NaN</td>\n",
       "      <td>bmw</td>\n",
       "      <td>NaN</td>\n",
       "      <td>2016-03-09</td>\n",
       "      <td>0</td>\n",
       "      <td>56235</td>\n",
       "      <td>2016-03-17 09:17:08</td>\n",
       "    </tr>\n",
       "  </tbody>\n",
       "</table>\n",
       "<p>362 rows × 16 columns</p>\n",
       "</div>"
      ],
      "text/plain": [
       "              date_crawled  price vehicle_type  registration_year gearbox  \\\n",
       "1816   2016-03-22 20:52:00   3200        small             2004.0  manual   \n",
       "2102   2016-03-21 11:55:22      0        sedan             1999.0     NaN   \n",
       "3746   2016-03-21 14:48:31      0          NaN             2017.0  manual   \n",
       "4060   2016-04-03 20:31:00   3100        sedan             2005.0  manual   \n",
       "5328   2016-03-29 19:44:48    500        wagon             1999.0  manual   \n",
       "...                    ...    ...          ...                ...     ...   \n",
       "348883 2016-03-13 11:51:57   7500        sedan             2011.0  manual   \n",
       "348968 2016-04-04 18:53:25    250        small             1999.0  manual   \n",
       "351947 2016-03-07 21:36:19   1500          bus             2001.0  manual   \n",
       "353493 2016-04-02 20:54:21  12500          NaN             2017.0  manual   \n",
       "354260 2016-03-09 17:59:03    399        other             1994.0     NaN   \n",
       "\n",
       "        power    model  kilometer  registration_month fuel_type       brand  \\\n",
       "1816     1398  corolla       5000                   6    petrol      toyota   \n",
       "2102     1799   vectra     150000                   1    petrol        opel   \n",
       "3746      750      NaN     150000                   8    petrol       smart   \n",
       "4060      953     colt     150000                   4    petrol  mitsubishi   \n",
       "5328     1001    astra     150000                   7    petrol        opel   \n",
       "...       ...      ...        ...                 ...       ...         ...   \n",
       "348883   1548   scenic      90000                   4    petrol     renault   \n",
       "348968   1241  ypsilon     150000                   5    petrol      lancia   \n",
       "351947   1001   zafira       5000                   7    petrol        opel   \n",
       "353493   2000    other      60000                   0    petrol    chrysler   \n",
       "354260   1103      3er     150000                   0       NaN         bmw   \n",
       "\n",
       "       not_repaired date_created  number_of_pictures  postal_code  \\\n",
       "1816             no   2016-03-22                   0        22043   \n",
       "2102            yes   2016-03-21                   0         1723   \n",
       "3746             no   2016-03-21                   0        49356   \n",
       "4060             no   2016-04-03                   0        60326   \n",
       "5328            NaN   2016-03-29                   0        33154   \n",
       "...             ...          ...                 ...          ...   \n",
       "348883          NaN   2016-03-13                   0        24568   \n",
       "348968          yes   2016-04-04                   0        28259   \n",
       "351947           no   2016-03-07                   0        66117   \n",
       "353493           no   2016-04-02                   0        44145   \n",
       "354260          NaN   2016-03-09                   0        56235   \n",
       "\n",
       "                 last_seen  \n",
       "1816   2016-03-22 21:43:26  \n",
       "2102   2016-04-04 04:49:06  \n",
       "3746   2016-03-24 03:44:59  \n",
       "4060   2016-04-07 14:56:46  \n",
       "5328   2016-04-06 05:44:36  \n",
       "...                    ...  \n",
       "348883 2016-04-06 15:17:39  \n",
       "348968 2016-04-04 18:53:25  \n",
       "351947 2016-03-09 12:47:08  \n",
       "353493 2016-04-06 21:44:39  \n",
       "354260 2016-03-17 09:17:08  \n",
       "\n",
       "[362 rows x 16 columns]"
      ]
     },
     "execution_count": 24,
     "metadata": {},
     "output_type": "execute_result"
    }
   ],
   "source": [
    "df.query('power>650')"
   ]
  },
  {
   "cell_type": "markdown",
   "metadata": {},
   "source": [
    "Таких значений 362 из 354369. Заменим эти значения медианой."
   ]
  },
  {
   "cell_type": "code",
   "execution_count": 25,
   "metadata": {},
   "outputs": [],
   "source": [
    "df['power'] = np.where((df['power']>650),df['power'].median(), df['power'])"
   ]
  },
  {
   "cell_type": "code",
   "execution_count": 26,
   "metadata": {
    "scrolled": true
   },
   "outputs": [
    {
     "data": {
      "text/html": [
       "<div>\n",
       "<style scoped>\n",
       "    .dataframe tbody tr th:only-of-type {\n",
       "        vertical-align: middle;\n",
       "    }\n",
       "\n",
       "    .dataframe tbody tr th {\n",
       "        vertical-align: top;\n",
       "    }\n",
       "\n",
       "    .dataframe thead th {\n",
       "        text-align: right;\n",
       "    }\n",
       "</style>\n",
       "<table border=\"1\" class=\"dataframe\">\n",
       "  <thead>\n",
       "    <tr style=\"text-align: right;\">\n",
       "      <th></th>\n",
       "      <th>price</th>\n",
       "      <th>registration_year</th>\n",
       "      <th>power</th>\n",
       "      <th>kilometer</th>\n",
       "      <th>registration_month</th>\n",
       "      <th>number_of_pictures</th>\n",
       "      <th>postal_code</th>\n",
       "    </tr>\n",
       "  </thead>\n",
       "  <tbody>\n",
       "    <tr>\n",
       "      <th>count</th>\n",
       "      <td>354369.000000</td>\n",
       "      <td>354369.000000</td>\n",
       "      <td>354369.000000</td>\n",
       "      <td>354369.000000</td>\n",
       "      <td>354369.000000</td>\n",
       "      <td>354369.0</td>\n",
       "      <td>354369.000000</td>\n",
       "    </tr>\n",
       "    <tr>\n",
       "      <th>mean</th>\n",
       "      <td>4416.656776</td>\n",
       "      <td>2003.126176</td>\n",
       "      <td>106.506780</td>\n",
       "      <td>128211.172535</td>\n",
       "      <td>5.714645</td>\n",
       "      <td>0.0</td>\n",
       "      <td>50508.689087</td>\n",
       "    </tr>\n",
       "    <tr>\n",
       "      <th>std</th>\n",
       "      <td>4514.158514</td>\n",
       "      <td>7.299733</td>\n",
       "      <td>63.556437</td>\n",
       "      <td>37905.341530</td>\n",
       "      <td>3.726421</td>\n",
       "      <td>0.0</td>\n",
       "      <td>25783.096248</td>\n",
       "    </tr>\n",
       "    <tr>\n",
       "      <th>min</th>\n",
       "      <td>0.000000</td>\n",
       "      <td>1950.000000</td>\n",
       "      <td>0.000000</td>\n",
       "      <td>5000.000000</td>\n",
       "      <td>0.000000</td>\n",
       "      <td>0.0</td>\n",
       "      <td>1067.000000</td>\n",
       "    </tr>\n",
       "    <tr>\n",
       "      <th>25%</th>\n",
       "      <td>1050.000000</td>\n",
       "      <td>1999.000000</td>\n",
       "      <td>69.000000</td>\n",
       "      <td>125000.000000</td>\n",
       "      <td>3.000000</td>\n",
       "      <td>0.0</td>\n",
       "      <td>30165.000000</td>\n",
       "    </tr>\n",
       "    <tr>\n",
       "      <th>50%</th>\n",
       "      <td>2700.000000</td>\n",
       "      <td>2003.000000</td>\n",
       "      <td>105.000000</td>\n",
       "      <td>150000.000000</td>\n",
       "      <td>6.000000</td>\n",
       "      <td>0.0</td>\n",
       "      <td>49413.000000</td>\n",
       "    </tr>\n",
       "    <tr>\n",
       "      <th>75%</th>\n",
       "      <td>6400.000000</td>\n",
       "      <td>2008.000000</td>\n",
       "      <td>141.000000</td>\n",
       "      <td>150000.000000</td>\n",
       "      <td>9.000000</td>\n",
       "      <td>0.0</td>\n",
       "      <td>71083.000000</td>\n",
       "    </tr>\n",
       "    <tr>\n",
       "      <th>max</th>\n",
       "      <td>20000.000000</td>\n",
       "      <td>2019.000000</td>\n",
       "      <td>650.000000</td>\n",
       "      <td>150000.000000</td>\n",
       "      <td>12.000000</td>\n",
       "      <td>0.0</td>\n",
       "      <td>99998.000000</td>\n",
       "    </tr>\n",
       "  </tbody>\n",
       "</table>\n",
       "</div>"
      ],
      "text/plain": [
       "               price  registration_year          power      kilometer  \\\n",
       "count  354369.000000      354369.000000  354369.000000  354369.000000   \n",
       "mean     4416.656776        2003.126176     106.506780  128211.172535   \n",
       "std      4514.158514           7.299733      63.556437   37905.341530   \n",
       "min         0.000000        1950.000000       0.000000    5000.000000   \n",
       "25%      1050.000000        1999.000000      69.000000  125000.000000   \n",
       "50%      2700.000000        2003.000000     105.000000  150000.000000   \n",
       "75%      6400.000000        2008.000000     141.000000  150000.000000   \n",
       "max     20000.000000        2019.000000     650.000000  150000.000000   \n",
       "\n",
       "       registration_month  number_of_pictures    postal_code  \n",
       "count       354369.000000            354369.0  354369.000000  \n",
       "mean             5.714645                 0.0   50508.689087  \n",
       "std              3.726421                 0.0   25783.096248  \n",
       "min              0.000000                 0.0    1067.000000  \n",
       "25%              3.000000                 0.0   30165.000000  \n",
       "50%              6.000000                 0.0   49413.000000  \n",
       "75%              9.000000                 0.0   71083.000000  \n",
       "max             12.000000                 0.0   99998.000000  "
      ]
     },
     "execution_count": 26,
     "metadata": {},
     "output_type": "execute_result"
    }
   ],
   "source": [
    "df.describe()"
   ]
  },
  {
   "cell_type": "markdown",
   "metadata": {},
   "source": [
    "Объявления с ценой 0 нас явно не интересуют. Посмотрим на кол-во объетов со стоимостью меньше 10 у.е."
   ]
  },
  {
   "cell_type": "code",
   "execution_count": 27,
   "metadata": {
    "scrolled": false
   },
   "outputs": [
    {
     "data": {
      "text/html": [
       "<div>\n",
       "<style scoped>\n",
       "    .dataframe tbody tr th:only-of-type {\n",
       "        vertical-align: middle;\n",
       "    }\n",
       "\n",
       "    .dataframe tbody tr th {\n",
       "        vertical-align: top;\n",
       "    }\n",
       "\n",
       "    .dataframe thead th {\n",
       "        text-align: right;\n",
       "    }\n",
       "</style>\n",
       "<table border=\"1\" class=\"dataframe\">\n",
       "  <thead>\n",
       "    <tr style=\"text-align: right;\">\n",
       "      <th></th>\n",
       "      <th>date_crawled</th>\n",
       "      <th>price</th>\n",
       "      <th>vehicle_type</th>\n",
       "      <th>registration_year</th>\n",
       "      <th>gearbox</th>\n",
       "      <th>power</th>\n",
       "      <th>model</th>\n",
       "      <th>kilometer</th>\n",
       "      <th>registration_month</th>\n",
       "      <th>fuel_type</th>\n",
       "      <th>brand</th>\n",
       "      <th>not_repaired</th>\n",
       "      <th>date_created</th>\n",
       "      <th>number_of_pictures</th>\n",
       "      <th>postal_code</th>\n",
       "      <th>last_seen</th>\n",
       "    </tr>\n",
       "  </thead>\n",
       "  <tbody>\n",
       "    <tr>\n",
       "      <th>7</th>\n",
       "      <td>2016-03-21 18:54:38</td>\n",
       "      <td>0</td>\n",
       "      <td>sedan</td>\n",
       "      <td>1980.0</td>\n",
       "      <td>manual</td>\n",
       "      <td>50.0</td>\n",
       "      <td>other</td>\n",
       "      <td>40000</td>\n",
       "      <td>7</td>\n",
       "      <td>petrol</td>\n",
       "      <td>volkswagen</td>\n",
       "      <td>no</td>\n",
       "      <td>2016-03-21</td>\n",
       "      <td>0</td>\n",
       "      <td>19348</td>\n",
       "      <td>2016-03-25 16:47:58</td>\n",
       "    </tr>\n",
       "    <tr>\n",
       "      <th>40</th>\n",
       "      <td>2016-03-26 22:06:17</td>\n",
       "      <td>0</td>\n",
       "      <td>NaN</td>\n",
       "      <td>1990.0</td>\n",
       "      <td>NaN</td>\n",
       "      <td>0.0</td>\n",
       "      <td>corsa</td>\n",
       "      <td>150000</td>\n",
       "      <td>1</td>\n",
       "      <td>petrol</td>\n",
       "      <td>opel</td>\n",
       "      <td>NaN</td>\n",
       "      <td>2016-03-26</td>\n",
       "      <td>0</td>\n",
       "      <td>56412</td>\n",
       "      <td>2016-03-27 17:43:34</td>\n",
       "    </tr>\n",
       "    <tr>\n",
       "      <th>59</th>\n",
       "      <td>2016-03-29 15:48:15</td>\n",
       "      <td>1</td>\n",
       "      <td>suv</td>\n",
       "      <td>1994.0</td>\n",
       "      <td>manual</td>\n",
       "      <td>286.0</td>\n",
       "      <td>NaN</td>\n",
       "      <td>150000</td>\n",
       "      <td>11</td>\n",
       "      <td>NaN</td>\n",
       "      <td>sonstige_autos</td>\n",
       "      <td>NaN</td>\n",
       "      <td>2016-03-29</td>\n",
       "      <td>0</td>\n",
       "      <td>53721</td>\n",
       "      <td>2016-04-06 01:44:38</td>\n",
       "    </tr>\n",
       "    <tr>\n",
       "      <th>89</th>\n",
       "      <td>2016-03-28 09:37:01</td>\n",
       "      <td>1</td>\n",
       "      <td>sedan</td>\n",
       "      <td>1995.0</td>\n",
       "      <td>manual</td>\n",
       "      <td>113.0</td>\n",
       "      <td>e_klasse</td>\n",
       "      <td>150000</td>\n",
       "      <td>4</td>\n",
       "      <td>petrol</td>\n",
       "      <td>mercedes_benz</td>\n",
       "      <td>no</td>\n",
       "      <td>2016-03-28</td>\n",
       "      <td>0</td>\n",
       "      <td>40589</td>\n",
       "      <td>2016-04-06 12:15:54</td>\n",
       "    </tr>\n",
       "    <tr>\n",
       "      <th>111</th>\n",
       "      <td>2016-03-19 18:40:12</td>\n",
       "      <td>0</td>\n",
       "      <td>NaN</td>\n",
       "      <td>2017.0</td>\n",
       "      <td>manual</td>\n",
       "      <td>0.0</td>\n",
       "      <td>golf</td>\n",
       "      <td>5000</td>\n",
       "      <td>12</td>\n",
       "      <td>petrol</td>\n",
       "      <td>volkswagen</td>\n",
       "      <td>NaN</td>\n",
       "      <td>2016-03-19</td>\n",
       "      <td>0</td>\n",
       "      <td>21698</td>\n",
       "      <td>2016-04-01 08:47:05</td>\n",
       "    </tr>\n",
       "    <tr>\n",
       "      <th>...</th>\n",
       "      <td>...</td>\n",
       "      <td>...</td>\n",
       "      <td>...</td>\n",
       "      <td>...</td>\n",
       "      <td>...</td>\n",
       "      <td>...</td>\n",
       "      <td>...</td>\n",
       "      <td>...</td>\n",
       "      <td>...</td>\n",
       "      <td>...</td>\n",
       "      <td>...</td>\n",
       "      <td>...</td>\n",
       "      <td>...</td>\n",
       "      <td>...</td>\n",
       "      <td>...</td>\n",
       "      <td>...</td>\n",
       "    </tr>\n",
       "    <tr>\n",
       "      <th>354205</th>\n",
       "      <td>2016-03-09 15:56:30</td>\n",
       "      <td>0</td>\n",
       "      <td>NaN</td>\n",
       "      <td>2000.0</td>\n",
       "      <td>manual</td>\n",
       "      <td>65.0</td>\n",
       "      <td>corsa</td>\n",
       "      <td>150000</td>\n",
       "      <td>0</td>\n",
       "      <td>NaN</td>\n",
       "      <td>opel</td>\n",
       "      <td>yes</td>\n",
       "      <td>2016-03-09</td>\n",
       "      <td>0</td>\n",
       "      <td>23758</td>\n",
       "      <td>2016-03-30 11:16:08</td>\n",
       "    </tr>\n",
       "    <tr>\n",
       "      <th>354238</th>\n",
       "      <td>2016-03-20 14:55:07</td>\n",
       "      <td>0</td>\n",
       "      <td>small</td>\n",
       "      <td>2002.0</td>\n",
       "      <td>manual</td>\n",
       "      <td>60.0</td>\n",
       "      <td>fiesta</td>\n",
       "      <td>150000</td>\n",
       "      <td>3</td>\n",
       "      <td>petrol</td>\n",
       "      <td>ford</td>\n",
       "      <td>NaN</td>\n",
       "      <td>2016-03-20</td>\n",
       "      <td>0</td>\n",
       "      <td>33659</td>\n",
       "      <td>2016-04-06 18:45:23</td>\n",
       "    </tr>\n",
       "    <tr>\n",
       "      <th>354248</th>\n",
       "      <td>2016-03-24 13:48:05</td>\n",
       "      <td>0</td>\n",
       "      <td>small</td>\n",
       "      <td>1999.0</td>\n",
       "      <td>manual</td>\n",
       "      <td>53.0</td>\n",
       "      <td>swift</td>\n",
       "      <td>150000</td>\n",
       "      <td>3</td>\n",
       "      <td>petrol</td>\n",
       "      <td>suzuki</td>\n",
       "      <td>NaN</td>\n",
       "      <td>2016-03-24</td>\n",
       "      <td>0</td>\n",
       "      <td>42329</td>\n",
       "      <td>2016-04-07 05:17:24</td>\n",
       "    </tr>\n",
       "    <tr>\n",
       "      <th>354277</th>\n",
       "      <td>2016-03-10 22:55:50</td>\n",
       "      <td>0</td>\n",
       "      <td>small</td>\n",
       "      <td>1999.0</td>\n",
       "      <td>manual</td>\n",
       "      <td>37.0</td>\n",
       "      <td>arosa</td>\n",
       "      <td>150000</td>\n",
       "      <td>7</td>\n",
       "      <td>petrol</td>\n",
       "      <td>seat</td>\n",
       "      <td>yes</td>\n",
       "      <td>2016-03-10</td>\n",
       "      <td>0</td>\n",
       "      <td>22559</td>\n",
       "      <td>2016-03-12 23:46:32</td>\n",
       "    </tr>\n",
       "    <tr>\n",
       "      <th>354364</th>\n",
       "      <td>2016-03-21 09:50:58</td>\n",
       "      <td>0</td>\n",
       "      <td>NaN</td>\n",
       "      <td>2005.0</td>\n",
       "      <td>manual</td>\n",
       "      <td>0.0</td>\n",
       "      <td>colt</td>\n",
       "      <td>150000</td>\n",
       "      <td>7</td>\n",
       "      <td>petrol</td>\n",
       "      <td>mitsubishi</td>\n",
       "      <td>yes</td>\n",
       "      <td>2016-03-21</td>\n",
       "      <td>0</td>\n",
       "      <td>2694</td>\n",
       "      <td>2016-03-21 10:42:49</td>\n",
       "    </tr>\n",
       "  </tbody>\n",
       "</table>\n",
       "<p>11982 rows × 16 columns</p>\n",
       "</div>"
      ],
      "text/plain": [
       "              date_crawled  price vehicle_type  registration_year gearbox  \\\n",
       "7      2016-03-21 18:54:38      0        sedan             1980.0  manual   \n",
       "40     2016-03-26 22:06:17      0          NaN             1990.0     NaN   \n",
       "59     2016-03-29 15:48:15      1          suv             1994.0  manual   \n",
       "89     2016-03-28 09:37:01      1        sedan             1995.0  manual   \n",
       "111    2016-03-19 18:40:12      0          NaN             2017.0  manual   \n",
       "...                    ...    ...          ...                ...     ...   \n",
       "354205 2016-03-09 15:56:30      0          NaN             2000.0  manual   \n",
       "354238 2016-03-20 14:55:07      0        small             2002.0  manual   \n",
       "354248 2016-03-24 13:48:05      0        small             1999.0  manual   \n",
       "354277 2016-03-10 22:55:50      0        small             1999.0  manual   \n",
       "354364 2016-03-21 09:50:58      0          NaN             2005.0  manual   \n",
       "\n",
       "        power     model  kilometer  registration_month fuel_type  \\\n",
       "7        50.0     other      40000                   7    petrol   \n",
       "40        0.0     corsa     150000                   1    petrol   \n",
       "59      286.0       NaN     150000                  11       NaN   \n",
       "89      113.0  e_klasse     150000                   4    petrol   \n",
       "111       0.0      golf       5000                  12    petrol   \n",
       "...       ...       ...        ...                 ...       ...   \n",
       "354205   65.0     corsa     150000                   0       NaN   \n",
       "354238   60.0    fiesta     150000                   3    petrol   \n",
       "354248   53.0     swift     150000                   3    petrol   \n",
       "354277   37.0     arosa     150000                   7    petrol   \n",
       "354364    0.0      colt     150000                   7    petrol   \n",
       "\n",
       "                 brand not_repaired date_created  number_of_pictures  \\\n",
       "7           volkswagen           no   2016-03-21                   0   \n",
       "40                opel          NaN   2016-03-26                   0   \n",
       "59      sonstige_autos          NaN   2016-03-29                   0   \n",
       "89       mercedes_benz           no   2016-03-28                   0   \n",
       "111         volkswagen          NaN   2016-03-19                   0   \n",
       "...                ...          ...          ...                 ...   \n",
       "354205            opel          yes   2016-03-09                   0   \n",
       "354238            ford          NaN   2016-03-20                   0   \n",
       "354248          suzuki          NaN   2016-03-24                   0   \n",
       "354277            seat          yes   2016-03-10                   0   \n",
       "354364      mitsubishi          yes   2016-03-21                   0   \n",
       "\n",
       "        postal_code           last_seen  \n",
       "7             19348 2016-03-25 16:47:58  \n",
       "40            56412 2016-03-27 17:43:34  \n",
       "59            53721 2016-04-06 01:44:38  \n",
       "89            40589 2016-04-06 12:15:54  \n",
       "111           21698 2016-04-01 08:47:05  \n",
       "...             ...                 ...  \n",
       "354205        23758 2016-03-30 11:16:08  \n",
       "354238        33659 2016-04-06 18:45:23  \n",
       "354248        42329 2016-04-07 05:17:24  \n",
       "354277        22559 2016-03-12 23:46:32  \n",
       "354364         2694 2016-03-21 10:42:49  \n",
       "\n",
       "[11982 rows x 16 columns]"
      ]
     },
     "execution_count": 27,
     "metadata": {},
     "output_type": "execute_result"
    }
   ],
   "source": [
    "df.query('price<5')"
   ]
  },
  {
   "cell_type": "markdown",
   "metadata": {},
   "source": [
    "Удалим объекты с ценой до 5 у.е. "
   ]
  },
  {
   "cell_type": "code",
   "execution_count": 28,
   "metadata": {},
   "outputs": [],
   "source": [
    "df=df.query('price>5')"
   ]
  },
  {
   "cell_type": "code",
   "execution_count": 29,
   "metadata": {},
   "outputs": [
    {
     "data": {
      "text/html": [
       "<div>\n",
       "<style scoped>\n",
       "    .dataframe tbody tr th:only-of-type {\n",
       "        vertical-align: middle;\n",
       "    }\n",
       "\n",
       "    .dataframe tbody tr th {\n",
       "        vertical-align: top;\n",
       "    }\n",
       "\n",
       "    .dataframe thead th {\n",
       "        text-align: right;\n",
       "    }\n",
       "</style>\n",
       "<table border=\"1\" class=\"dataframe\">\n",
       "  <thead>\n",
       "    <tr style=\"text-align: right;\">\n",
       "      <th></th>\n",
       "      <th>date_crawled</th>\n",
       "      <th>price</th>\n",
       "      <th>vehicle_type</th>\n",
       "      <th>registration_year</th>\n",
       "      <th>gearbox</th>\n",
       "      <th>power</th>\n",
       "      <th>model</th>\n",
       "      <th>kilometer</th>\n",
       "      <th>registration_month</th>\n",
       "      <th>fuel_type</th>\n",
       "      <th>brand</th>\n",
       "      <th>not_repaired</th>\n",
       "      <th>date_created</th>\n",
       "      <th>number_of_pictures</th>\n",
       "      <th>postal_code</th>\n",
       "      <th>last_seen</th>\n",
       "    </tr>\n",
       "  </thead>\n",
       "  <tbody>\n",
       "  </tbody>\n",
       "</table>\n",
       "</div>"
      ],
      "text/plain": [
       "Empty DataFrame\n",
       "Columns: [date_crawled, price, vehicle_type, registration_year, gearbox, power, model, kilometer, registration_month, fuel_type, brand, not_repaired, date_created, number_of_pictures, postal_code, last_seen]\n",
       "Index: []"
      ]
     },
     "execution_count": 29,
     "metadata": {},
     "output_type": "execute_result"
    }
   ],
   "source": [
    "df.query('price<5')"
   ]
  },
  {
   "cell_type": "markdown",
   "metadata": {},
   "source": [
    "Отлично, все убрали.\n",
    "<br>Посмотрим на распределения по ценам, мощности и пробегу. "
   ]
  },
  {
   "cell_type": "code",
   "execution_count": 30,
   "metadata": {},
   "outputs": [
    {
     "data": {
      "image/png": "[encoded data removed]",
      "text/plain": [
       "<Figure size 360x360 with 1 Axes>"
      ]
     },
     "metadata": {
      "needs_background": "light"
     },
     "output_type": "display_data"
    },
    {
     "data": {
      "image/png": "[encoded data removed]",
      "text/plain": [
       "<Figure size 360x360 with 1 Axes>"
      ]
     },
     "metadata": {
      "needs_background": "light"
     },
     "output_type": "display_data"
    },
    {
     "data": {
      "image/png": "[encoded data removed]",
      "text/plain": [
       "<Figure size 360x360 with 1 Axes>"
      ]
     },
     "metadata": {
      "needs_background": "light"
     },
     "output_type": "display_data"
    }
   ],
   "source": [
    "columns =['price', 'power', 'kilometer']\n",
    "i = 0\n",
    "for column in columns:\n",
    "    plt.figure(figsize=(5,5))\n",
    "    sns.histplot(data=df[column], palette=\"Blues\").set(title=column)\n",
    "    plt.show()\n",
    "    i += 1"
   ]
  },
  {
   "cell_type": "markdown",
   "metadata": {},
   "source": [
    "Построим боксплоты."
   ]
  },
  {
   "cell_type": "code",
   "execution_count": 31,
   "metadata": {},
   "outputs": [
    {
     "data": {
      "image/png": "[encoded data removed]",
      "text/plain": [
       "<Figure size 360x360 with 1 Axes>"
      ]
     },
     "metadata": {
      "needs_background": "light"
     },
     "output_type": "display_data"
    },
    {
     "data": {
      "image/png": "[encoded data removed]",
      "text/plain": [
       "<Figure size 360x360 with 1 Axes>"
      ]
     },
     "metadata": {
      "needs_background": "light"
     },
     "output_type": "display_data"
    },
    {
     "data": {
      "image/png": "[encoded data removed]",
      "text/plain": [
       "<Figure size 360x360 with 1 Axes>"
      ]
     },
     "metadata": {
      "needs_background": "light"
     },
     "output_type": "display_data"
    }
   ],
   "source": [
    "columns =['price', 'power', 'kilometer']\n",
    "i = 0\n",
    "for column in columns:\n",
    "    plt.figure(figsize=(5,5))\n",
    "    df.boxplot(column)\n",
    "    plt.ylim(100,df[column].max())\n",
    "    plt.show()\n",
    "    i += 1"
   ]
  },
  {
   "cell_type": "markdown",
   "metadata": {},
   "source": [
    "Достаточно много выбросов даже с нашей корректировкой. Посмотрим, как будут вести себя модели с такой выборкой."
   ]
  },
  {
   "cell_type": "markdown",
   "metadata": {},
   "source": [
    "## Обучение моделей"
   ]
  },
  {
   "cell_type": "markdown",
   "metadata": {},
   "source": [
    "### Модель градиентного бустинга. Библиотекf LightGBM."
   ]
  },
  {
   "cell_type": "markdown",
   "metadata": {},
   "source": [
    "Посмотрим на наши признаки."
   ]
  },
  {
   "cell_type": "code",
   "execution_count": 32,
   "metadata": {
    "scrolled": true
   },
   "outputs": [
    {
     "data": {
      "text/plain": [
       "Index(['date_crawled', 'price', 'vehicle_type', 'registration_year', 'gearbox',\n",
       "       'power', 'model', 'kilometer', 'registration_month', 'fuel_type',\n",
       "       'brand', 'not_repaired', 'date_created', 'number_of_pictures',\n",
       "       'postal_code', 'last_seen'],\n",
       "      dtype='object')"
      ]
     },
     "execution_count": 32,
     "metadata": {},
     "output_type": "execute_result"
    }
   ],
   "source": [
    "df.columns"
   ]
  },
  {
   "cell_type": "markdown",
   "metadata": {},
   "source": [
    "Значения в столбца с датой DateCrawled — дата скачивания анкеты из базы, DateCreated — дата создания анкеты и LastSeen — дата последней активности пользователя вряд ли связаны с ценой авто. В столбце numberofpictures только 0. Удалим эти признаки."
   ]
  },
  {
   "cell_type": "code",
   "execution_count": 33,
   "metadata": {
    "scrolled": false
   },
   "outputs": [
    {
     "name": "stdout",
     "output_type": "stream",
     "text": [
      "<class 'pandas.core.frame.DataFrame'>\n",
      "Int64Index: 342361 entries, 0 to 354368\n",
      "Data columns (total 12 columns):\n",
      " #   Column              Non-Null Count   Dtype   \n",
      "---  ------              --------------   -----   \n",
      " 0   price               342361 non-null  int64   \n",
      " 1   vehicle_type        309098 non-null  category\n",
      " 2   registration_year   342361 non-null  float64 \n",
      " 3   gearbox             325397 non-null  category\n",
      " 4   power               342361 non-null  float64 \n",
      " 5   model               325104 non-null  category\n",
      " 6   kilometer           342361 non-null  int64   \n",
      " 7   registration_month  342361 non-null  int64   \n",
      " 8   fuel_type           313364 non-null  category\n",
      " 9   brand               342361 non-null  category\n",
      " 10  not_repaired        277156 non-null  category\n",
      " 11  postal_code         342361 non-null  int64   \n",
      "dtypes: category(6), float64(2), int64(4)\n",
      "memory usage: 20.6 MB\n"
     ]
    }
   ],
   "source": [
    "df_LGBD = df.drop(['date_crawled','date_created', 'last_seen','number_of_pictures'], axis=1)\n",
    "cat = ['vehicle_type','gearbox','model','fuel_type','brand','not_repaired']\n",
    "for cat_ in cat:\n",
    "    df_LGBD[cat_] = df_LGBD[cat_].astype('category')\n",
    "df_LGBD.info()"
   ]
  },
  {
   "cell_type": "markdown",
   "metadata": {},
   "source": [
    "Разобъем данные на тренировочную и тестовую выборки. И сохраняем их методом Dataset в структуру данных lightgbm. "
   ]
  },
  {
   "cell_type": "code",
   "execution_count": 34,
   "metadata": {},
   "outputs": [],
   "source": [
    "features_train, features_valid, target_train, target_valid = train_test_split(\n",
    "    df_LGBD.drop('price', axis=1), df_LGBD.price, test_size=0.25, random_state=12345)\n",
    "train_dataset = lgb.Dataset(features_train, target_train, categorical_feature=cat,free_raw_data=False)\n",
    "valid_dataset = lgb.Dataset(features_valid, target_valid, categorical_feature=cat,free_raw_data=False)"
   ]
  },
  {
   "cell_type": "markdown",
   "metadata": {},
   "source": [
    "Зададим параметры модели."
   ]
  },
  {
   "cell_type": "markdown",
   "metadata": {},
   "source": [
    "1. Random Forest Случайный лес:"
   ]
  },
  {
   "cell_type": "code",
   "execution_count": 35,
   "metadata": {},
   "outputs": [],
   "source": [
    "params_RF = {'boosting_type' : 'rf',\n",
    "'metric' : 'rmse',\n",
    "'learning_rate' : 0.3,\n",
    "'num_leaves' : 32,\n",
    "'max_depth' : 6,\n",
    "'bagging_fraction' : 0.8,\n",
    "'bagging_freq' : 10,\n",
    "'feature_fraction' : 0.8,\n",
    "'lambda_l2' : 0.3,\n",
    "'lambda_l1' : 0.3}"
   ]
  },
  {
   "cell_type": "markdown",
   "metadata": {},
   "source": [
    "2. Gradient Boosted Decision Tree Решающее дерево:"
   ]
  },
  {
   "cell_type": "code",
   "execution_count": 36,
   "metadata": {},
   "outputs": [],
   "source": [
    "params_gbdt = {'boosting_type' : 'gbdt',\n",
    "'metric' : 'rmse',\n",
    "'learning_rate' : 0.3,\n",
    "'num_leaves' : 32,\n",
    "'max_depth' : 6,\n",
    "'bagging_fraction' : 0.8,\n",
    "'bagging_freq' : 10,\n",
    "'feature_fraction' : 0.8,\n",
    "'lambda_l2' : 0.3,\n",
    "'lambda_l1' : 0.3}"
   ]
  },
  {
   "cell_type": "markdown",
   "metadata": {},
   "source": [
    "2. Gradient-based One-Side Sampling Градиентная односторонняя выборка:"
   ]
  },
  {
   "cell_type": "code",
   "execution_count": 37,
   "metadata": {},
   "outputs": [],
   "source": [
    "params_goss = {'boosting_type' : 'goss',\n",
    "'metric' : 'rmse',\n",
    "'learning_rate' : 0.3,\n",
    "'num_leaves' : 32,\n",
    "'max_depth' : 6,\n",
    "'feature_fraction' : 0.8,\n",
    "'lambda_l2' : 0.3,\n",
    "'lambda_l1' : 0.3}"
   ]
  },
  {
   "cell_type": "markdown",
   "metadata": {},
   "source": [
    "Добавим параметры в отедльный список."
   ]
  },
  {
   "cell_type": "code",
   "execution_count": 38,
   "metadata": {},
   "outputs": [],
   "source": [
    "params_ = [params_RF,params_gbdt,params_goss]\n",
    "RMSE_LB=[]"
   ]
  },
  {
   "cell_type": "markdown",
   "metadata": {},
   "source": [
    "Напишем для удобстава и компактности функцию."
   ]
  },
  {
   "cell_type": "code",
   "execution_count": 39,
   "metadata": {},
   "outputs": [],
   "source": [
    "def LGB(param):\n",
    "    print(param)\n",
    "    result = lgb.train(train_set=train_dataset, valid_sets=valid_dataset, params=param,\n",
    "    num_boost_round=10, early_stopping_rounds=5)\n",
    "    return result"
   ]
  },
  {
   "cell_type": "code",
   "execution_count": 40,
   "metadata": {
    "scrolled": false
   },
   "outputs": [
    {
     "name": "stdout",
     "output_type": "stream",
     "text": [
      "{'boosting_type': 'rf', 'metric': 'rmse', 'learning_rate': 0.3, 'num_leaves': 32, 'max_depth': 6, 'bagging_fraction': 0.8, 'bagging_freq': 10, 'feature_fraction': 0.8, 'lambda_l2': 0.3, 'lambda_l1': 0.3}\n"
     ]
    },
    {
     "name": "stderr",
     "output_type": "stream",
     "text": [
      "/opt/conda/lib/python3.9/site-packages/lightgbm/engine.py:181: UserWarning: 'early_stopping_rounds' argument is deprecated and will be removed in a future release of LightGBM. Pass 'early_stopping()' callback via 'callbacks' argument instead.\n",
      "  _log_warning(\"'early_stopping_rounds' argument is deprecated and will be removed in a future release of LightGBM. \"\n",
      "/opt/conda/lib/python3.9/site-packages/lightgbm/basic.py:2065: UserWarning: Using categorical_feature in Dataset.\n",
      "  _log_warning('Using categorical_feature in Dataset.')\n"
     ]
    },
    {
     "name": "stdout",
     "output_type": "stream",
     "text": [
      "[LightGBM] [Warning] Auto-choosing row-wise multi-threading, the overhead of testing was 0.385925 seconds.\n",
      "You can set `force_row_wise=true` to remove the overhead.\n",
      "And if memory is not enough, you can set `force_col_wise=true`.\n",
      "[LightGBM] [Info] Total Bins 898\n",
      "[LightGBM] [Info] Number of data points in the train set: 256770, number of used features: 11\n",
      "[LightGBM] [Info] Start training from score 4570.612751\n"
     ]
    },
    {
     "name": "stderr",
     "output_type": "stream",
     "text": [
      "/opt/conda/lib/python3.9/site-packages/lightgbm/basic.py:1780: UserWarning: Overriding the parameters from Reference Dataset.\n",
      "  _log_warning('Overriding the parameters from Reference Dataset.')\n",
      "/opt/conda/lib/python3.9/site-packages/lightgbm/basic.py:1513: UserWarning: categorical_column in param dict is overridden.\n",
      "  _log_warning(f'{cat_alias} in param dict is overridden.')\n"
     ]
    },
    {
     "name": "stdout",
     "output_type": "stream",
     "text": [
      "[1]\tvalid_0's rmse: 2497.57\n",
      "Training until validation scores don't improve for 5 rounds\n",
      "[2]\tvalid_0's rmse: 2289.02\n",
      "[3]\tvalid_0's rmse: 2316.78\n",
      "[4]\tvalid_0's rmse: 2276.3\n",
      "[5]\tvalid_0's rmse: 2264.96\n",
      "[6]\tvalid_0's rmse: 2266.08\n",
      "[7]\tvalid_0's rmse: 2268.47\n",
      "[8]\tvalid_0's rmse: 2273.01\n",
      "[9]\tvalid_0's rmse: 2270.41\n",
      "[10]\tvalid_0's rmse: 2270.54\n",
      "Early stopping, best iteration is:\n",
      "[5]\tvalid_0's rmse: 2264.96\n",
      "Kexibq <lightgbm.basic.Booster object at 0x7f826b3c59a0>\n",
      "CPU times: user 34.5 s, sys: 298 ms, total: 34.8 s\n",
      "Wall time: 35.1 s\n"
     ]
    }
   ],
   "source": [
    "%%time\n",
    "print(LGB(params_[0]))"
   ]
  },
  {
   "cell_type": "code",
   "execution_count": 41,
   "metadata": {
    "scrolled": false
   },
   "outputs": [
    {
     "name": "stdout",
     "output_type": "stream",
     "text": [
      "{'boosting_type': 'gbdt', 'metric': 'rmse', 'learning_rate': 0.3, 'num_leaves': 32, 'max_depth': 6, 'bagging_fraction': 0.8, 'bagging_freq': 10, 'feature_fraction': 0.8, 'lambda_l2': 0.3, 'lambda_l1': 0.3}\n",
      "[LightGBM] [Warning] Auto-choosing row-wise multi-threading, the overhead of testing was 0.397426 seconds.\n",
      "You can set `force_row_wise=true` to remove the overhead.\n",
      "And if memory is not enough, you can set `force_col_wise=true`.\n",
      "[LightGBM] [Info] Total Bins 898\n",
      "[LightGBM] [Info] Number of data points in the train set: 256770, number of used features: 11\n",
      "[LightGBM] [Info] Start training from score 4570.612751\n",
      "[1]\tvalid_0's rmse: 3632.67\n",
      "Training until validation scores don't improve for 5 rounds\n",
      "[2]\tvalid_0's rmse: 3001.3\n",
      "[3]\tvalid_0's rmse: 2612.91\n",
      "[4]\tvalid_0's rmse: 2328.26\n",
      "[5]\tvalid_0's rmse: 2146.12\n",
      "[6]\tvalid_0's rmse: 2030.96\n",
      "[7]\tvalid_0's rmse: 1958.62\n",
      "[8]\tvalid_0's rmse: 1911.67\n",
      "[9]\tvalid_0's rmse: 1872.74\n",
      "[10]\tvalid_0's rmse: 1848.83\n",
      "Did not meet early stopping. Best iteration is:\n",
      "[10]\tvalid_0's rmse: 1848.83\n",
      "CPU times: user 32.3 s, sys: 206 ms, total: 32.5 s\n",
      "Wall time: 33.1 s\n"
     ]
    },
    {
     "data": {
      "text/plain": [
       "<lightgbm.basic.Booster at 0x7f826b343fd0>"
      ]
     },
     "execution_count": 41,
     "metadata": {},
     "output_type": "execute_result"
    }
   ],
   "source": [
    "%%time\n",
    "LGB(params_[1])"
   ]
  },
  {
   "cell_type": "code",
   "execution_count": 42,
   "metadata": {
    "scrolled": false
   },
   "outputs": [
    {
     "name": "stdout",
     "output_type": "stream",
     "text": [
      "{'boosting_type': 'goss', 'metric': 'rmse', 'learning_rate': 0.3, 'num_leaves': 32, 'max_depth': 6, 'feature_fraction': 0.8, 'lambda_l2': 0.3, 'lambda_l1': 0.3}\n",
      "[LightGBM] [Warning] Auto-choosing col-wise multi-threading, the overhead of testing was 0.391121 seconds.\n",
      "You can set `force_col_wise=true` to remove the overhead.\n",
      "[LightGBM] [Info] Total Bins 898\n",
      "[LightGBM] [Info] Number of data points in the train set: 256770, number of used features: 11\n",
      "[LightGBM] [Info] Using GOSS\n",
      "[LightGBM] [Info] Start training from score 4570.612751\n",
      "[1]\tvalid_0's rmse: 3632.29\n",
      "Training until validation scores don't improve for 5 rounds\n",
      "[2]\tvalid_0's rmse: 2998.9\n",
      "[3]\tvalid_0's rmse: 2614\n",
      "[4]\tvalid_0's rmse: 2335.21\n",
      "[5]\tvalid_0's rmse: 2150.63\n",
      "[6]\tvalid_0's rmse: 2039.21\n",
      "[7]\tvalid_0's rmse: 1960.84\n",
      "[8]\tvalid_0's rmse: 1910.72\n",
      "[9]\tvalid_0's rmse: 1871.36\n",
      "[10]\tvalid_0's rmse: 1848.86\n",
      "Did not meet early stopping. Best iteration is:\n",
      "[10]\tvalid_0's rmse: 1848.86\n",
      "CPU times: user 41.6 s, sys: 279 ms, total: 41.9 s\n",
      "Wall time: 42.3 s\n"
     ]
    },
    {
     "data": {
      "text/plain": [
       "<lightgbm.basic.Booster at 0x7f826b3cd8b0>"
      ]
     },
     "execution_count": 42,
     "metadata": {},
     "output_type": "execute_result"
    }
   ],
   "source": [
    "%%time\n",
    "LGB(params_[2])"
   ]
  },
  {
   "cell_type": "markdown",
   "metadata": {},
   "source": [
    "Значения RMSE с LightGBM ниже 2500. Попробуем запустить обучение без градиентного бустеринга. Категориальные признаки нужно заменить с помощью get_dummies. "
   ]
  },
  {
   "cell_type": "code",
   "execution_count": 43,
   "metadata": {},
   "outputs": [],
   "source": [
    "cat = ['vehicle_type','gearbox','model','fuel_type','brand','not_repaired']\n",
    "category_dummy_df = pd.get_dummies(df[cat], drop_first=True)\n",
    "df = df.merge(category_dummy_df, left_index=True, right_index=True)\n",
    "df = df.drop(cat, axis=1)"
   ]
  },
  {
   "cell_type": "markdown",
   "metadata": {},
   "source": [
    "Не забываем удалить даты и кол-во фотографий."
   ]
  },
  {
   "cell_type": "code",
   "execution_count": 44,
   "metadata": {},
   "outputs": [],
   "source": [
    "df = df.drop(['date_crawled','date_created', 'last_seen','number_of_pictures'], axis=1)"
   ]
  },
  {
   "cell_type": "code",
   "execution_count": 45,
   "metadata": {},
   "outputs": [],
   "source": [
    "for col in df.columns:\n",
    "    df[col] = pd.to_numeric(df[col])"
   ]
  },
  {
   "cell_type": "code",
   "execution_count": 46,
   "metadata": {
    "scrolled": false
   },
   "outputs": [
    {
     "data": {
      "text/html": [
       "<div>\n",
       "<style scoped>\n",
       "    .dataframe tbody tr th:only-of-type {\n",
       "        vertical-align: middle;\n",
       "    }\n",
       "\n",
       "    .dataframe tbody tr th {\n",
       "        vertical-align: top;\n",
       "    }\n",
       "\n",
       "    .dataframe thead th {\n",
       "        text-align: right;\n",
       "    }\n",
       "</style>\n",
       "<table border=\"1\" class=\"dataframe\">\n",
       "  <thead>\n",
       "    <tr style=\"text-align: right;\">\n",
       "      <th></th>\n",
       "      <th>price</th>\n",
       "      <th>registration_year</th>\n",
       "      <th>power</th>\n",
       "      <th>kilometer</th>\n",
       "      <th>registration_month</th>\n",
       "      <th>postal_code</th>\n",
       "      <th>vehicle_type_convertible</th>\n",
       "      <th>vehicle_type_coupe</th>\n",
       "      <th>vehicle_type_other</th>\n",
       "      <th>vehicle_type_sedan</th>\n",
       "      <th>...</th>\n",
       "      <th>brand_skoda</th>\n",
       "      <th>brand_smart</th>\n",
       "      <th>brand_sonstige_autos</th>\n",
       "      <th>brand_subaru</th>\n",
       "      <th>brand_suzuki</th>\n",
       "      <th>brand_toyota</th>\n",
       "      <th>brand_trabant</th>\n",
       "      <th>brand_volkswagen</th>\n",
       "      <th>brand_volvo</th>\n",
       "      <th>not_repaired_yes</th>\n",
       "    </tr>\n",
       "  </thead>\n",
       "  <tbody>\n",
       "    <tr>\n",
       "      <th>0</th>\n",
       "      <td>480</td>\n",
       "      <td>1993.0</td>\n",
       "      <td>0.0</td>\n",
       "      <td>150000</td>\n",
       "      <td>0</td>\n",
       "      <td>70435</td>\n",
       "      <td>0</td>\n",
       "      <td>0</td>\n",
       "      <td>0</td>\n",
       "      <td>0</td>\n",
       "      <td>...</td>\n",
       "      <td>0</td>\n",
       "      <td>0</td>\n",
       "      <td>0</td>\n",
       "      <td>0</td>\n",
       "      <td>0</td>\n",
       "      <td>0</td>\n",
       "      <td>0</td>\n",
       "      <td>1</td>\n",
       "      <td>0</td>\n",
       "      <td>0</td>\n",
       "    </tr>\n",
       "    <tr>\n",
       "      <th>1</th>\n",
       "      <td>18300</td>\n",
       "      <td>2011.0</td>\n",
       "      <td>190.0</td>\n",
       "      <td>125000</td>\n",
       "      <td>5</td>\n",
       "      <td>66954</td>\n",
       "      <td>0</td>\n",
       "      <td>1</td>\n",
       "      <td>0</td>\n",
       "      <td>0</td>\n",
       "      <td>...</td>\n",
       "      <td>0</td>\n",
       "      <td>0</td>\n",
       "      <td>0</td>\n",
       "      <td>0</td>\n",
       "      <td>0</td>\n",
       "      <td>0</td>\n",
       "      <td>0</td>\n",
       "      <td>0</td>\n",
       "      <td>0</td>\n",
       "      <td>1</td>\n",
       "    </tr>\n",
       "    <tr>\n",
       "      <th>2</th>\n",
       "      <td>9800</td>\n",
       "      <td>2004.0</td>\n",
       "      <td>163.0</td>\n",
       "      <td>125000</td>\n",
       "      <td>8</td>\n",
       "      <td>90480</td>\n",
       "      <td>0</td>\n",
       "      <td>0</td>\n",
       "      <td>0</td>\n",
       "      <td>0</td>\n",
       "      <td>...</td>\n",
       "      <td>0</td>\n",
       "      <td>0</td>\n",
       "      <td>0</td>\n",
       "      <td>0</td>\n",
       "      <td>0</td>\n",
       "      <td>0</td>\n",
       "      <td>0</td>\n",
       "      <td>0</td>\n",
       "      <td>0</td>\n",
       "      <td>0</td>\n",
       "    </tr>\n",
       "    <tr>\n",
       "      <th>3</th>\n",
       "      <td>1500</td>\n",
       "      <td>2001.0</td>\n",
       "      <td>75.0</td>\n",
       "      <td>150000</td>\n",
       "      <td>6</td>\n",
       "      <td>91074</td>\n",
       "      <td>0</td>\n",
       "      <td>0</td>\n",
       "      <td>0</td>\n",
       "      <td>0</td>\n",
       "      <td>...</td>\n",
       "      <td>0</td>\n",
       "      <td>0</td>\n",
       "      <td>0</td>\n",
       "      <td>0</td>\n",
       "      <td>0</td>\n",
       "      <td>0</td>\n",
       "      <td>0</td>\n",
       "      <td>1</td>\n",
       "      <td>0</td>\n",
       "      <td>0</td>\n",
       "    </tr>\n",
       "    <tr>\n",
       "      <th>4</th>\n",
       "      <td>3600</td>\n",
       "      <td>2008.0</td>\n",
       "      <td>69.0</td>\n",
       "      <td>90000</td>\n",
       "      <td>7</td>\n",
       "      <td>60437</td>\n",
       "      <td>0</td>\n",
       "      <td>0</td>\n",
       "      <td>0</td>\n",
       "      <td>0</td>\n",
       "      <td>...</td>\n",
       "      <td>1</td>\n",
       "      <td>0</td>\n",
       "      <td>0</td>\n",
       "      <td>0</td>\n",
       "      <td>0</td>\n",
       "      <td>0</td>\n",
       "      <td>0</td>\n",
       "      <td>0</td>\n",
       "      <td>0</td>\n",
       "      <td>0</td>\n",
       "    </tr>\n",
       "    <tr>\n",
       "      <th>...</th>\n",
       "      <td>...</td>\n",
       "      <td>...</td>\n",
       "      <td>...</td>\n",
       "      <td>...</td>\n",
       "      <td>...</td>\n",
       "      <td>...</td>\n",
       "      <td>...</td>\n",
       "      <td>...</td>\n",
       "      <td>...</td>\n",
       "      <td>...</td>\n",
       "      <td>...</td>\n",
       "      <td>...</td>\n",
       "      <td>...</td>\n",
       "      <td>...</td>\n",
       "      <td>...</td>\n",
       "      <td>...</td>\n",
       "      <td>...</td>\n",
       "      <td>...</td>\n",
       "      <td>...</td>\n",
       "      <td>...</td>\n",
       "      <td>...</td>\n",
       "    </tr>\n",
       "    <tr>\n",
       "      <th>354363</th>\n",
       "      <td>1150</td>\n",
       "      <td>2000.0</td>\n",
       "      <td>0.0</td>\n",
       "      <td>150000</td>\n",
       "      <td>3</td>\n",
       "      <td>26624</td>\n",
       "      <td>0</td>\n",
       "      <td>0</td>\n",
       "      <td>0</td>\n",
       "      <td>0</td>\n",
       "      <td>...</td>\n",
       "      <td>0</td>\n",
       "      <td>0</td>\n",
       "      <td>0</td>\n",
       "      <td>0</td>\n",
       "      <td>0</td>\n",
       "      <td>0</td>\n",
       "      <td>0</td>\n",
       "      <td>0</td>\n",
       "      <td>0</td>\n",
       "      <td>0</td>\n",
       "    </tr>\n",
       "    <tr>\n",
       "      <th>354365</th>\n",
       "      <td>2200</td>\n",
       "      <td>2005.0</td>\n",
       "      <td>0.0</td>\n",
       "      <td>20000</td>\n",
       "      <td>1</td>\n",
       "      <td>39576</td>\n",
       "      <td>0</td>\n",
       "      <td>0</td>\n",
       "      <td>0</td>\n",
       "      <td>0</td>\n",
       "      <td>...</td>\n",
       "      <td>0</td>\n",
       "      <td>0</td>\n",
       "      <td>1</td>\n",
       "      <td>0</td>\n",
       "      <td>0</td>\n",
       "      <td>0</td>\n",
       "      <td>0</td>\n",
       "      <td>0</td>\n",
       "      <td>0</td>\n",
       "      <td>0</td>\n",
       "    </tr>\n",
       "    <tr>\n",
       "      <th>354366</th>\n",
       "      <td>1199</td>\n",
       "      <td>2000.0</td>\n",
       "      <td>101.0</td>\n",
       "      <td>125000</td>\n",
       "      <td>3</td>\n",
       "      <td>26135</td>\n",
       "      <td>1</td>\n",
       "      <td>0</td>\n",
       "      <td>0</td>\n",
       "      <td>0</td>\n",
       "      <td>...</td>\n",
       "      <td>0</td>\n",
       "      <td>1</td>\n",
       "      <td>0</td>\n",
       "      <td>0</td>\n",
       "      <td>0</td>\n",
       "      <td>0</td>\n",
       "      <td>0</td>\n",
       "      <td>0</td>\n",
       "      <td>0</td>\n",
       "      <td>0</td>\n",
       "    </tr>\n",
       "    <tr>\n",
       "      <th>354367</th>\n",
       "      <td>9200</td>\n",
       "      <td>1996.0</td>\n",
       "      <td>102.0</td>\n",
       "      <td>150000</td>\n",
       "      <td>3</td>\n",
       "      <td>87439</td>\n",
       "      <td>0</td>\n",
       "      <td>0</td>\n",
       "      <td>0</td>\n",
       "      <td>0</td>\n",
       "      <td>...</td>\n",
       "      <td>0</td>\n",
       "      <td>0</td>\n",
       "      <td>0</td>\n",
       "      <td>0</td>\n",
       "      <td>0</td>\n",
       "      <td>0</td>\n",
       "      <td>0</td>\n",
       "      <td>1</td>\n",
       "      <td>0</td>\n",
       "      <td>0</td>\n",
       "    </tr>\n",
       "    <tr>\n",
       "      <th>354368</th>\n",
       "      <td>3400</td>\n",
       "      <td>2002.0</td>\n",
       "      <td>100.0</td>\n",
       "      <td>150000</td>\n",
       "      <td>6</td>\n",
       "      <td>40764</td>\n",
       "      <td>0</td>\n",
       "      <td>0</td>\n",
       "      <td>0</td>\n",
       "      <td>0</td>\n",
       "      <td>...</td>\n",
       "      <td>0</td>\n",
       "      <td>0</td>\n",
       "      <td>0</td>\n",
       "      <td>0</td>\n",
       "      <td>0</td>\n",
       "      <td>0</td>\n",
       "      <td>0</td>\n",
       "      <td>1</td>\n",
       "      <td>0</td>\n",
       "      <td>0</td>\n",
       "    </tr>\n",
       "  </tbody>\n",
       "</table>\n",
       "<p>342361 rows × 307 columns</p>\n",
       "</div>"
      ],
      "text/plain": [
       "        price  registration_year  power  kilometer  registration_month  \\\n",
       "0         480             1993.0    0.0     150000                   0   \n",
       "1       18300             2011.0  190.0     125000                   5   \n",
       "2        9800             2004.0  163.0     125000                   8   \n",
       "3        1500             2001.0   75.0     150000                   6   \n",
       "4        3600             2008.0   69.0      90000                   7   \n",
       "...       ...                ...    ...        ...                 ...   \n",
       "354363   1150             2000.0    0.0     150000                   3   \n",
       "354365   2200             2005.0    0.0      20000                   1   \n",
       "354366   1199             2000.0  101.0     125000                   3   \n",
       "354367   9200             1996.0  102.0     150000                   3   \n",
       "354368   3400             2002.0  100.0     150000                   6   \n",
       "\n",
       "        postal_code  vehicle_type_convertible  vehicle_type_coupe  \\\n",
       "0             70435                         0                   0   \n",
       "1             66954                         0                   1   \n",
       "2             90480                         0                   0   \n",
       "3             91074                         0                   0   \n",
       "4             60437                         0                   0   \n",
       "...             ...                       ...                 ...   \n",
       "354363        26624                         0                   0   \n",
       "354365        39576                         0                   0   \n",
       "354366        26135                         1                   0   \n",
       "354367        87439                         0                   0   \n",
       "354368        40764                         0                   0   \n",
       "\n",
       "        vehicle_type_other  vehicle_type_sedan  ...  brand_skoda  brand_smart  \\\n",
       "0                        0                   0  ...            0            0   \n",
       "1                        0                   0  ...            0            0   \n",
       "2                        0                   0  ...            0            0   \n",
       "3                        0                   0  ...            0            0   \n",
       "4                        0                   0  ...            1            0   \n",
       "...                    ...                 ...  ...          ...          ...   \n",
       "354363                   0                   0  ...            0            0   \n",
       "354365                   0                   0  ...            0            0   \n",
       "354366                   0                   0  ...            0            1   \n",
       "354367                   0                   0  ...            0            0   \n",
       "354368                   0                   0  ...            0            0   \n",
       "\n",
       "        brand_sonstige_autos  brand_subaru  brand_suzuki  brand_toyota  \\\n",
       "0                          0             0             0             0   \n",
       "1                          0             0             0             0   \n",
       "2                          0             0             0             0   \n",
       "3                          0             0             0             0   \n",
       "4                          0             0             0             0   \n",
       "...                      ...           ...           ...           ...   \n",
       "354363                     0             0             0             0   \n",
       "354365                     1             0             0             0   \n",
       "354366                     0             0             0             0   \n",
       "354367                     0             0             0             0   \n",
       "354368                     0             0             0             0   \n",
       "\n",
       "        brand_trabant  brand_volkswagen  brand_volvo  not_repaired_yes  \n",
       "0                   0                 1            0                 0  \n",
       "1                   0                 0            0                 1  \n",
       "2                   0                 0            0                 0  \n",
       "3                   0                 1            0                 0  \n",
       "4                   0                 0            0                 0  \n",
       "...               ...               ...          ...               ...  \n",
       "354363              0                 0            0                 0  \n",
       "354365              0                 0            0                 0  \n",
       "354366              0                 0            0                 0  \n",
       "354367              0                 1            0                 0  \n",
       "354368              0                 1            0                 0  \n",
       "\n",
       "[342361 rows x 307 columns]"
      ]
     },
     "execution_count": 46,
     "metadata": {},
     "output_type": "execute_result"
    }
   ],
   "source": [
    "df"
   ]
  },
  {
   "cell_type": "markdown",
   "metadata": {},
   "source": [
    "Создаем выборки. Тренировочную и валидационную."
   ]
  },
  {
   "cell_type": "code",
   "execution_count": 47,
   "metadata": {},
   "outputs": [],
   "source": [
    "features = df.drop(['price'], axis=1)\n",
    "target = df['price']\n",
    "features_train, features_valid, target_train, target_valid = train_test_split(\n",
    "    features,target,test_size=0.25, random_state=12345)"
   ]
  },
  {
   "cell_type": "code",
   "execution_count": 48,
   "metadata": {},
   "outputs": [],
   "source": [
    "params_LR = {\n",
    "             \"fit_intercept\":[True,False], \n",
    "             \"normalize\":[True,False] \n",
    "            }\n",
    "params_DT = {\n",
    "              \"min_samples_split\": [10, 20, 40],\n",
    "              \"max_depth\": [2, 6, 8]\n",
    "              }\n",
    "params_RF = {\n",
    "              \"n_estimators\": [100],\n",
    "              \"max_depth\": [2, 6, 8]\n",
    "            }\n",
    "params_ = [params_LR,params_DT,params_RF]\n",
    "models = [LinearRegression(),  DecisionTreeRegressor(), RandomForestRegressor()]\n",
    "grid_best_estimator_=[]\n",
    "RMSE=[]"
   ]
  },
  {
   "cell_type": "markdown",
   "metadata": {},
   "source": [
    "Для того, чтобы вычислить время обучения, запустим обучения разными ячейками(хотя безусловно красивее было бы запустить 1 циклом). Зато напишем функцию для компактности кода."
   ]
  },
  {
   "cell_type": "code",
   "execution_count": 49,
   "metadata": {},
   "outputs": [],
   "source": [
    "def modeling(models, params):\n",
    "    print(models)\n",
    "    grid = GridSearchCV(models,params,scoring='neg_root_mean_squared_error')\n",
    "    grid_fit = grid.fit(features_train, target_train)\n",
    "    grid_best_estimator_.append(grid_fit.best_estimator_)\n",
    "    y_pred = grid_fit.best_estimator_.predict(features_valid)\n",
    "    y_pred = pd.DataFrame(y_pred)\n",
    "    return mean_squared_error(target_valid, y_pred,squared=False)"
   ]
  },
  {
   "cell_type": "code",
   "execution_count": 50,
   "metadata": {},
   "outputs": [
    {
     "name": "stdout",
     "output_type": "stream",
     "text": [
      "LinearRegression()\n",
      "2795.111878909504\n",
      "CPU times: user 5min 27s, sys: 3min 10s, total: 8min 38s\n",
      "Wall time: 8min 39s\n"
     ]
    }
   ],
   "source": [
    "%%time\n",
    "RMSE.append(modeling(models[0], params_[0]))\n",
    "print(RMSE[0])"
   ]
  },
  {
   "cell_type": "code",
   "execution_count": 51,
   "metadata": {},
   "outputs": [
    {
     "name": "stdout",
     "output_type": "stream",
     "text": [
      "DecisionTreeRegressor()\n",
      "2167.5675587885835\n",
      "CPU times: user 1min 47s, sys: 12.8 s, total: 2min\n",
      "Wall time: 2min\n"
     ]
    }
   ],
   "source": [
    "%%time\n",
    "RMSE.append(modeling(models[1], params_[1]))\n",
    "print(RMSE[1])"
   ]
  },
  {
   "cell_type": "code",
   "execution_count": 52,
   "metadata": {},
   "outputs": [
    {
     "name": "stdout",
     "output_type": "stream",
     "text": [
      "RandomForestRegressor()\n",
      "2106.697523163213\n",
      "CPU times: user 40min 39s, sys: 7.25 s, total: 40min 46s\n",
      "Wall time: 40min 48s\n"
     ]
    }
   ],
   "source": [
    "%%time\n",
    "RMSE.append(modeling(models[2], params_[2]))\n",
    "print(RMSE[2])"
   ]
  },
  {
   "cell_type": "markdown",
   "metadata": {},
   "source": [
    "## Проверка модели на адекватность "
   ]
  },
  {
   "cell_type": "markdown",
   "metadata": {},
   "source": [
    "Адекватность модели проверим с помощью DummyRegressor. Посмотрим, какие значения он нам выдаст."
   ]
  },
  {
   "cell_type": "code",
   "execution_count": 53,
   "metadata": {},
   "outputs": [
    {
     "name": "stdout",
     "output_type": "stream",
     "text": [
      "RMSE 4520.123946456097\n"
     ]
    }
   ],
   "source": [
    "dummy = DummyRegressor(strategy='mean').fit(features_train, target_train)\n",
    "dummy_pred = dummy.predict(features_valid)\n",
    "print ('RMSE', mean_squared_error(target_valid, dummy_pred,squared=False))"
   ]
  },
  {
   "cell_type": "markdown",
   "metadata": {},
   "source": [
    "Полученное значение RMSE c помощью DummyRegressor выше нашего. Значит, наша работа проделана не даром."
   ]
  },
  {
   "cell_type": "markdown",
   "metadata": {},
   "source": [
    "## Анализ моделей"
   ]
  },
  {
   "cell_type": "markdown",
   "metadata": {},
   "source": [
    "**Выводы по обучению моделей** \n",
    "<br>1.По полученным данным RMSE, лучший показательмы получили с помощью дерева решений Gradient Boosting Decision Tree (GBDT) - 1848.83. Wall time: 35,1 s. Похожий резльутат был получен Gradient-based One-Side Sampling Градиентная односторонняя выборка: значение RMSE: 1848.86 со времем работы: Wall time: 42,3 s.\n",
    "<br>Модель, обученную с помощью дерева решений Gradient Boosting Decision Tree (GBDT) рекомендуем использовать заказчику для определения стоимости авто.\n",
    "<br>В процессе выполнения проекта были проведены следующие этапы:\n",
    "\n",
    "1. Подготовка данных\n",
    "2. Проведен исследовательский анализ данных\n",
    "3. Построена и обучена модель."
   ]
  }
 ],
 "metadata": {
  "ExecuteTimeLog": [
   {
    "duration": 444,
    "start_time": "2022-07-15T17:06:29.869Z"
   },
   {
    "duration": 1204,
    "start_time": "2022-07-15T17:06:32.298Z"
   },
   {
    "duration": 30,
    "start_time": "2022-07-15T17:06:37.621Z"
   },
   {
    "duration": 136,
    "start_time": "2022-07-15T17:06:47.969Z"
   },
   {
    "duration": 6,
    "start_time": "2022-07-15T17:16:15.036Z"
   },
   {
    "duration": 73,
    "start_time": "2022-07-15T17:17:05.975Z"
   },
   {
    "duration": 96,
    "start_time": "2022-07-15T17:18:02.988Z"
   },
   {
    "duration": 3,
    "start_time": "2022-07-15T17:18:42.095Z"
   },
   {
    "duration": 55,
    "start_time": "2022-07-15T17:19:23.938Z"
   },
   {
    "duration": 246,
    "start_time": "2022-07-15T17:21:28.067Z"
   },
   {
    "duration": 90,
    "start_time": "2022-07-15T17:21:56.591Z"
   },
   {
    "duration": 119,
    "start_time": "2022-07-15T17:22:06.990Z"
   },
   {
    "duration": 6,
    "start_time": "2022-07-15T17:23:02.175Z"
   },
   {
    "duration": 7,
    "start_time": "2022-07-15T17:26:18.738Z"
   },
   {
    "duration": 13,
    "start_time": "2022-07-15T17:26:22.094Z"
   },
   {
    "duration": 11,
    "start_time": "2022-07-15T17:26:23.974Z"
   },
   {
    "duration": 4,
    "start_time": "2022-07-15T17:26:27.246Z"
   },
   {
    "duration": 7,
    "start_time": "2022-07-15T17:28:27.405Z"
   },
   {
    "duration": 4,
    "start_time": "2022-07-15T17:29:29.557Z"
   },
   {
    "duration": 5,
    "start_time": "2022-07-15T17:29:35.489Z"
   },
   {
    "duration": 7,
    "start_time": "2022-07-15T17:30:53.621Z"
   },
   {
    "duration": 113,
    "start_time": "2022-07-15T17:30:58.950Z"
   },
   {
    "duration": 298,
    "start_time": "2022-07-15T17:34:09.532Z"
   },
   {
    "duration": 306,
    "start_time": "2022-07-15T17:34:14.196Z"
   },
   {
    "duration": 547,
    "start_time": "2022-07-15T17:36:52.779Z"
   },
   {
    "duration": 567,
    "start_time": "2022-07-15T17:38:04.375Z"
   },
   {
    "duration": 549,
    "start_time": "2022-07-15T17:38:17.983Z"
   },
   {
    "duration": 563,
    "start_time": "2022-07-15T17:38:29.411Z"
   },
   {
    "duration": 548,
    "start_time": "2022-07-15T17:38:39.395Z"
   },
   {
    "duration": 287,
    "start_time": "2022-07-15T17:38:43.395Z"
   },
   {
    "duration": 289,
    "start_time": "2022-07-15T17:39:27.770Z"
   },
   {
    "duration": 50,
    "start_time": "2022-07-16T06:06:00.395Z"
   },
   {
    "duration": 386,
    "start_time": "2022-07-16T06:06:06.206Z"
   },
   {
    "duration": 1136,
    "start_time": "2022-07-16T06:06:06.594Z"
   },
   {
    "duration": 129,
    "start_time": "2022-07-16T06:06:07.733Z"
   },
   {
    "duration": 28,
    "start_time": "2022-07-16T06:06:07.864Z"
   },
   {
    "duration": 381,
    "start_time": "2022-07-16T06:06:07.894Z"
   },
   {
    "duration": 5,
    "start_time": "2022-07-16T06:06:08.276Z"
   },
   {
    "duration": 97,
    "start_time": "2022-07-16T06:06:08.283Z"
   },
   {
    "duration": 322,
    "start_time": "2022-07-16T06:06:08.383Z"
   },
   {
    "duration": 364,
    "start_time": "2022-07-16T06:06:08.707Z"
   },
   {
    "duration": 100,
    "start_time": "2022-07-16T06:06:09.074Z"
   },
   {
    "duration": 50,
    "start_time": "2022-07-16T06:07:31.785Z"
   },
   {
    "duration": 65,
    "start_time": "2022-07-16T06:08:41.665Z"
   },
   {
    "duration": 855,
    "start_time": "2022-07-16T06:09:05.731Z"
   },
   {
    "duration": 865,
    "start_time": "2022-07-16T06:09:06.589Z"
   },
   {
    "duration": 142,
    "start_time": "2022-07-16T06:09:07.456Z"
   },
   {
    "duration": 24,
    "start_time": "2022-07-16T06:09:07.600Z"
   },
   {
    "duration": 380,
    "start_time": "2022-07-16T06:09:07.626Z"
   },
   {
    "duration": 5,
    "start_time": "2022-07-16T06:09:08.008Z"
   },
   {
    "duration": 91,
    "start_time": "2022-07-16T06:09:08.015Z"
   },
   {
    "duration": 359,
    "start_time": "2022-07-16T06:09:08.108Z"
   },
   {
    "duration": 438,
    "start_time": "2022-07-16T06:09:08.469Z"
   },
   {
    "duration": 145,
    "start_time": "2022-07-16T06:09:08.910Z"
   },
   {
    "duration": 94,
    "start_time": "2022-07-16T06:09:09.060Z"
   },
   {
    "duration": 1136,
    "start_time": "2022-07-16T06:10:27.492Z"
   },
   {
    "duration": 905,
    "start_time": "2022-07-16T06:10:28.630Z"
   },
   {
    "duration": 146,
    "start_time": "2022-07-16T06:10:29.537Z"
   },
   {
    "duration": 28,
    "start_time": "2022-07-16T06:10:29.685Z"
   },
   {
    "duration": 382,
    "start_time": "2022-07-16T06:10:29.715Z"
   },
   {
    "duration": 5,
    "start_time": "2022-07-16T06:10:30.098Z"
   },
   {
    "duration": 103,
    "start_time": "2022-07-16T06:10:30.105Z"
   },
   {
    "duration": 332,
    "start_time": "2022-07-16T06:10:30.210Z"
   },
   {
    "duration": 340,
    "start_time": "2022-07-16T06:10:30.544Z"
   },
   {
    "duration": 104,
    "start_time": "2022-07-16T06:10:30.887Z"
   },
   {
    "duration": 87343,
    "start_time": "2022-07-16T06:10:30.993Z"
   },
   {
    "duration": 934,
    "start_time": "2022-07-16T06:14:41.008Z"
   },
   {
    "duration": 1230,
    "start_time": "2022-07-16T06:14:51.433Z"
   },
   {
    "duration": 874,
    "start_time": "2022-07-16T06:14:52.665Z"
   },
   {
    "duration": 146,
    "start_time": "2022-07-16T06:14:53.541Z"
   },
   {
    "duration": 31,
    "start_time": "2022-07-16T06:14:53.689Z"
   },
   {
    "duration": 415,
    "start_time": "2022-07-16T06:14:53.722Z"
   },
   {
    "duration": 8,
    "start_time": "2022-07-16T06:14:54.139Z"
   },
   {
    "duration": 97,
    "start_time": "2022-07-16T06:14:54.149Z"
   },
   {
    "duration": 328,
    "start_time": "2022-07-16T06:14:54.248Z"
   },
   {
    "duration": 326,
    "start_time": "2022-07-16T06:14:54.578Z"
   },
   {
    "duration": 101,
    "start_time": "2022-07-16T06:14:54.907Z"
   },
   {
    "duration": 882,
    "start_time": "2022-07-16T06:14:55.010Z"
   },
   {
    "duration": 75319,
    "start_time": "2022-07-16T06:18:11.745Z"
   },
   {
    "duration": 21,
    "start_time": "2022-07-16T06:23:30.021Z"
   },
   {
    "duration": 104,
    "start_time": "2022-07-16T06:24:26.129Z"
   },
   {
    "duration": 27,
    "start_time": "2022-07-16T06:24:44.558Z"
   },
   {
    "duration": 32,
    "start_time": "2022-07-16T06:24:51.169Z"
   },
   {
    "duration": 9,
    "start_time": "2022-07-16T06:24:56.316Z"
   },
   {
    "duration": 22,
    "start_time": "2022-07-16T06:25:03.372Z"
   },
   {
    "duration": 22,
    "start_time": "2022-07-16T06:25:15.077Z"
   },
   {
    "duration": 1343,
    "start_time": "2022-07-16T06:55:00.646Z"
   },
   {
    "duration": 1097,
    "start_time": "2022-07-16T06:55:01.991Z"
   },
   {
    "duration": 186,
    "start_time": "2022-07-16T06:55:03.090Z"
   },
   {
    "duration": 31,
    "start_time": "2022-07-16T06:55:03.279Z"
   },
   {
    "duration": 465,
    "start_time": "2022-07-16T06:55:03.312Z"
   },
   {
    "duration": 6,
    "start_time": "2022-07-16T06:55:03.779Z"
   },
   {
    "duration": 130,
    "start_time": "2022-07-16T06:55:03.787Z"
   },
   {
    "duration": 54,
    "start_time": "2022-07-16T06:55:03.919Z"
   },
   {
    "duration": 27,
    "start_time": "2022-07-16T06:55:03.975Z"
   },
   {
    "duration": 465,
    "start_time": "2022-07-16T06:55:04.005Z"
   },
   {
    "duration": 450,
    "start_time": "2022-07-16T06:55:04.472Z"
   },
   {
    "duration": 143,
    "start_time": "2022-07-16T06:55:04.925Z"
   },
   {
    "duration": 87181,
    "start_time": "2022-07-16T06:55:05.071Z"
   },
   {
    "duration": 72,
    "start_time": "2022-07-16T06:59:20.662Z"
   },
   {
    "duration": 1609,
    "start_time": "2022-07-16T06:59:52.573Z"
   },
   {
    "duration": 1035,
    "start_time": "2022-07-16T06:59:54.185Z"
   },
   {
    "duration": 174,
    "start_time": "2022-07-16T06:59:55.222Z"
   },
   {
    "duration": 57,
    "start_time": "2022-07-16T06:59:55.399Z"
   },
   {
    "duration": 524,
    "start_time": "2022-07-16T06:59:55.465Z"
   },
   {
    "duration": 9,
    "start_time": "2022-07-16T06:59:55.991Z"
   },
   {
    "duration": 156,
    "start_time": "2022-07-16T06:59:56.003Z"
   },
   {
    "duration": 41,
    "start_time": "2022-07-16T06:59:56.170Z"
   },
   {
    "duration": 129,
    "start_time": "2022-07-16T06:59:56.213Z"
   },
   {
    "duration": 0,
    "start_time": "2022-07-16T06:59:56.346Z"
   },
   {
    "duration": 0,
    "start_time": "2022-07-16T06:59:56.348Z"
   },
   {
    "duration": 0,
    "start_time": "2022-07-16T06:59:56.349Z"
   },
   {
    "duration": 0,
    "start_time": "2022-07-16T06:59:56.350Z"
   },
   {
    "duration": 49,
    "start_time": "2022-07-16T07:00:21.581Z"
   },
   {
    "duration": 3,
    "start_time": "2022-07-16T07:04:16.868Z"
   },
   {
    "duration": 12,
    "start_time": "2022-07-16T07:06:10.187Z"
   },
   {
    "duration": 37,
    "start_time": "2022-07-16T07:06:21.763Z"
   },
   {
    "duration": 37,
    "start_time": "2022-07-16T07:07:08.274Z"
   },
   {
    "duration": 4,
    "start_time": "2022-07-16T07:07:29.301Z"
   },
   {
    "duration": 10,
    "start_time": "2022-07-16T07:07:54.865Z"
   },
   {
    "duration": 51,
    "start_time": "2022-07-16T07:08:38.319Z"
   },
   {
    "duration": 22,
    "start_time": "2022-07-16T07:08:53.368Z"
   },
   {
    "duration": 16,
    "start_time": "2022-07-16T07:08:58.101Z"
   },
   {
    "duration": 104,
    "start_time": "2022-07-16T07:13:35.620Z"
   },
   {
    "duration": 278,
    "start_time": "2022-07-16T07:13:50.525Z"
   },
   {
    "duration": 216,
    "start_time": "2022-07-16T07:14:03.013Z"
   },
   {
    "duration": 1987,
    "start_time": "2022-07-16T07:14:42.364Z"
   },
   {
    "duration": 1619,
    "start_time": "2022-07-16T07:15:06.373Z"
   },
   {
    "duration": 1499,
    "start_time": "2022-07-16T07:15:07.997Z"
   },
   {
    "duration": 229,
    "start_time": "2022-07-16T07:15:09.505Z"
   },
   {
    "duration": 112,
    "start_time": "2022-07-16T07:15:09.737Z"
   },
   {
    "duration": 627,
    "start_time": "2022-07-16T07:15:09.853Z"
   },
   {
    "duration": 17,
    "start_time": "2022-07-16T07:15:10.483Z"
   },
   {
    "duration": 192,
    "start_time": "2022-07-16T07:15:10.503Z"
   },
   {
    "duration": 58,
    "start_time": "2022-07-16T07:15:10.698Z"
   },
   {
    "duration": 4,
    "start_time": "2022-07-16T07:15:10.759Z"
   },
   {
    "duration": 2160,
    "start_time": "2022-07-16T07:15:10.765Z"
   },
   {
    "duration": 754,
    "start_time": "2022-07-16T07:15:12.928Z"
   },
   {
    "duration": 788,
    "start_time": "2022-07-16T07:15:13.684Z"
   },
   {
    "duration": 158,
    "start_time": "2022-07-16T07:15:14.475Z"
   },
   {
    "duration": 12697,
    "start_time": "2022-07-16T07:15:14.636Z"
   },
   {
    "duration": 1768,
    "start_time": "2022-07-16T07:15:54.017Z"
   },
   {
    "duration": 1711,
    "start_time": "2022-07-16T07:15:55.789Z"
   },
   {
    "duration": 261,
    "start_time": "2022-07-16T07:15:57.503Z"
   },
   {
    "duration": 50,
    "start_time": "2022-07-16T07:15:57.771Z"
   },
   {
    "duration": 697,
    "start_time": "2022-07-16T07:15:57.824Z"
   },
   {
    "duration": 21,
    "start_time": "2022-07-16T07:15:58.524Z"
   },
   {
    "duration": 149,
    "start_time": "2022-07-16T07:15:58.549Z"
   },
   {
    "duration": 76,
    "start_time": "2022-07-16T07:15:58.700Z"
   },
   {
    "duration": 4,
    "start_time": "2022-07-16T07:15:58.779Z"
   },
   {
    "duration": 2087,
    "start_time": "2022-07-16T07:15:58.787Z"
   },
   {
    "duration": 735,
    "start_time": "2022-07-16T07:16:00.881Z"
   },
   {
    "duration": 768,
    "start_time": "2022-07-16T07:16:01.624Z"
   },
   {
    "duration": 179,
    "start_time": "2022-07-16T07:16:02.395Z"
   },
   {
    "duration": 104537,
    "start_time": "2022-07-16T07:16:02.577Z"
   },
   {
    "duration": 225,
    "start_time": "2022-07-16T07:18:04.492Z"
   },
   {
    "duration": 140,
    "start_time": "2022-07-16T07:20:39.782Z"
   },
   {
    "duration": 1548,
    "start_time": "2022-07-16T07:33:24.200Z"
   },
   {
    "duration": 355,
    "start_time": "2022-07-16T07:33:31.284Z"
   },
   {
    "duration": 474,
    "start_time": "2022-07-16T07:33:53.880Z"
   },
   {
    "duration": 1863,
    "start_time": "2022-07-16T07:34:03.578Z"
   },
   {
    "duration": 323,
    "start_time": "2022-07-16T07:34:14.109Z"
   },
   {
    "duration": 18,
    "start_time": "2022-07-16T07:34:52.858Z"
   },
   {
    "duration": 245,
    "start_time": "2022-07-16T07:35:58.231Z"
   },
   {
    "duration": 146,
    "start_time": "2022-07-16T07:36:21.278Z"
   },
   {
    "duration": 1029,
    "start_time": "2022-07-16T07:37:00.679Z"
   },
   {
    "duration": 1549,
    "start_time": "2022-07-16T07:37:38.896Z"
   },
   {
    "duration": 90,
    "start_time": "2022-07-16T07:38:37.218Z"
   },
   {
    "duration": 44,
    "start_time": "2022-07-16T07:38:44.385Z"
   },
   {
    "duration": 40,
    "start_time": "2022-07-16T07:48:00.459Z"
   },
   {
    "duration": 59,
    "start_time": "2022-07-16T07:49:21.227Z"
   },
   {
    "duration": 41,
    "start_time": "2022-07-16T07:49:30.006Z"
   },
   {
    "duration": 47,
    "start_time": "2022-07-16T07:49:39.780Z"
   },
   {
    "duration": 29,
    "start_time": "2022-07-16T07:49:44.859Z"
   },
   {
    "duration": 49,
    "start_time": "2022-07-16T07:49:59.255Z"
   },
   {
    "duration": 14,
    "start_time": "2022-07-16T07:50:33.319Z"
   },
   {
    "duration": 15,
    "start_time": "2022-07-16T07:50:37.667Z"
   },
   {
    "duration": 54,
    "start_time": "2022-07-16T07:50:47.216Z"
   },
   {
    "duration": 13,
    "start_time": "2022-07-16T07:51:45.095Z"
   },
   {
    "duration": 1482,
    "start_time": "2022-07-16T07:52:04.804Z"
   },
   {
    "duration": 1230,
    "start_time": "2022-07-16T07:52:06.291Z"
   },
   {
    "duration": 246,
    "start_time": "2022-07-16T07:52:07.529Z"
   },
   {
    "duration": 47,
    "start_time": "2022-07-16T07:52:07.778Z"
   },
   {
    "duration": 554,
    "start_time": "2022-07-16T07:52:07.828Z"
   },
   {
    "duration": 7,
    "start_time": "2022-07-16T07:52:08.384Z"
   },
   {
    "duration": 120,
    "start_time": "2022-07-16T07:52:08.393Z"
   },
   {
    "duration": 42,
    "start_time": "2022-07-16T07:52:08.515Z"
   },
   {
    "duration": 4,
    "start_time": "2022-07-16T07:52:08.560Z"
   },
   {
    "duration": 197,
    "start_time": "2022-07-16T07:52:08.567Z"
   },
   {
    "duration": 510,
    "start_time": "2022-07-16T07:52:08.767Z"
   },
   {
    "duration": 0,
    "start_time": "2022-07-16T07:52:09.283Z"
   },
   {
    "duration": 0,
    "start_time": "2022-07-16T07:52:09.287Z"
   },
   {
    "duration": 0,
    "start_time": "2022-07-16T07:52:09.288Z"
   },
   {
    "duration": 0,
    "start_time": "2022-07-16T07:52:09.289Z"
   },
   {
    "duration": 0,
    "start_time": "2022-07-16T07:52:09.292Z"
   },
   {
    "duration": 74,
    "start_time": "2022-07-16T07:52:25.220Z"
   },
   {
    "duration": 186,
    "start_time": "2022-07-16T07:52:35.668Z"
   },
   {
    "duration": 79,
    "start_time": "2022-07-16T07:52:49.724Z"
   },
   {
    "duration": 1523,
    "start_time": "2022-07-16T07:53:06.240Z"
   },
   {
    "duration": 1298,
    "start_time": "2022-07-16T07:53:07.766Z"
   },
   {
    "duration": 259,
    "start_time": "2022-07-16T07:53:09.066Z"
   },
   {
    "duration": 71,
    "start_time": "2022-07-16T07:53:09.328Z"
   },
   {
    "duration": 715,
    "start_time": "2022-07-16T07:53:09.402Z"
   },
   {
    "duration": 6,
    "start_time": "2022-07-16T07:53:10.120Z"
   },
   {
    "duration": 185,
    "start_time": "2022-07-16T07:53:10.129Z"
   },
   {
    "duration": 45,
    "start_time": "2022-07-16T07:53:10.316Z"
   },
   {
    "duration": 4,
    "start_time": "2022-07-16T07:53:10.363Z"
   },
   {
    "duration": 178,
    "start_time": "2022-07-16T07:53:10.370Z"
   },
   {
    "duration": 73,
    "start_time": "2022-07-16T07:53:10.551Z"
   },
   {
    "duration": 187,
    "start_time": "2022-07-16T07:53:10.626Z"
   },
   {
    "duration": 769,
    "start_time": "2022-07-16T07:53:10.816Z"
   },
   {
    "duration": 758,
    "start_time": "2022-07-16T07:53:11.588Z"
   },
   {
    "duration": 148,
    "start_time": "2022-07-16T07:53:12.349Z"
   },
   {
    "duration": 1471,
    "start_time": "2022-07-16T07:53:41.884Z"
   },
   {
    "duration": 1291,
    "start_time": "2022-07-16T07:53:43.357Z"
   },
   {
    "duration": 261,
    "start_time": "2022-07-16T07:53:44.650Z"
   },
   {
    "duration": 59,
    "start_time": "2022-07-16T07:53:44.914Z"
   },
   {
    "duration": 649,
    "start_time": "2022-07-16T07:53:44.976Z"
   },
   {
    "duration": 17,
    "start_time": "2022-07-16T07:53:45.628Z"
   },
   {
    "duration": 160,
    "start_time": "2022-07-16T07:53:45.648Z"
   },
   {
    "duration": 64,
    "start_time": "2022-07-16T07:53:45.810Z"
   },
   {
    "duration": 4,
    "start_time": "2022-07-16T07:53:45.877Z"
   },
   {
    "duration": 175,
    "start_time": "2022-07-16T07:53:45.886Z"
   },
   {
    "duration": 86,
    "start_time": "2022-07-16T07:53:46.063Z"
   },
   {
    "duration": 176,
    "start_time": "2022-07-16T07:53:46.152Z"
   },
   {
    "duration": 730,
    "start_time": "2022-07-16T07:53:46.331Z"
   },
   {
    "duration": 737,
    "start_time": "2022-07-16T07:53:47.063Z"
   },
   {
    "duration": 146,
    "start_time": "2022-07-16T07:53:47.804Z"
   },
   {
    "duration": 1674,
    "start_time": "2022-07-16T07:54:36.645Z"
   },
   {
    "duration": 1844,
    "start_time": "2022-07-16T07:54:38.322Z"
   },
   {
    "duration": 258,
    "start_time": "2022-07-16T07:54:40.169Z"
   },
   {
    "duration": 39,
    "start_time": "2022-07-16T07:54:40.445Z"
   },
   {
    "duration": 712,
    "start_time": "2022-07-16T07:54:40.486Z"
   },
   {
    "duration": 7,
    "start_time": "2022-07-16T07:54:41.201Z"
   },
   {
    "duration": 159,
    "start_time": "2022-07-16T07:54:41.210Z"
   },
   {
    "duration": 43,
    "start_time": "2022-07-16T07:54:41.372Z"
   },
   {
    "duration": 4,
    "start_time": "2022-07-16T07:54:41.418Z"
   },
   {
    "duration": 399,
    "start_time": "2022-07-16T07:54:41.425Z"
   },
   {
    "duration": 167,
    "start_time": "2022-07-16T07:54:41.827Z"
   },
   {
    "duration": 684,
    "start_time": "2022-07-16T07:54:41.996Z"
   },
   {
    "duration": 785,
    "start_time": "2022-07-16T07:54:42.682Z"
   },
   {
    "duration": 152,
    "start_time": "2022-07-16T07:54:43.470Z"
   },
   {
    "duration": 1190,
    "start_time": "2022-07-16T07:56:21.683Z"
   },
   {
    "duration": 989,
    "start_time": "2022-07-16T07:56:22.876Z"
   },
   {
    "duration": 187,
    "start_time": "2022-07-16T07:56:23.867Z"
   },
   {
    "duration": 36,
    "start_time": "2022-07-16T07:56:24.056Z"
   },
   {
    "duration": 505,
    "start_time": "2022-07-16T07:56:24.094Z"
   },
   {
    "duration": 6,
    "start_time": "2022-07-16T07:56:24.601Z"
   },
   {
    "duration": 172,
    "start_time": "2022-07-16T07:56:24.609Z"
   },
   {
    "duration": 33,
    "start_time": "2022-07-16T07:56:24.783Z"
   },
   {
    "duration": 3,
    "start_time": "2022-07-16T07:56:24.818Z"
   },
   {
    "duration": 228,
    "start_time": "2022-07-16T07:56:24.845Z"
   },
   {
    "duration": 140,
    "start_time": "2022-07-16T07:56:25.074Z"
   },
   {
    "duration": 44,
    "start_time": "2022-07-16T07:56:25.220Z"
   },
   {
    "duration": 452,
    "start_time": "2022-07-16T07:56:25.266Z"
   },
   {
    "duration": 554,
    "start_time": "2022-07-16T07:56:25.719Z"
   },
   {
    "duration": 114,
    "start_time": "2022-07-16T07:56:26.276Z"
   },
   {
    "duration": 1547,
    "start_time": "2022-07-16T07:56:58.886Z"
   },
   {
    "duration": 1066,
    "start_time": "2022-07-16T07:57:00.436Z"
   },
   {
    "duration": 211,
    "start_time": "2022-07-16T07:57:01.504Z"
   },
   {
    "duration": 92,
    "start_time": "2022-07-16T07:57:01.718Z"
   },
   {
    "duration": 566,
    "start_time": "2022-07-16T07:57:01.813Z"
   },
   {
    "duration": 7,
    "start_time": "2022-07-16T07:57:02.381Z"
   },
   {
    "duration": 109,
    "start_time": "2022-07-16T07:57:02.390Z"
   },
   {
    "duration": 54,
    "start_time": "2022-07-16T07:57:02.501Z"
   },
   {
    "duration": 5,
    "start_time": "2022-07-16T07:57:02.557Z"
   },
   {
    "duration": 251,
    "start_time": "2022-07-16T07:57:02.565Z"
   },
   {
    "duration": 156,
    "start_time": "2022-07-16T07:57:02.818Z"
   },
   {
    "duration": 56,
    "start_time": "2022-07-16T07:57:02.977Z"
   },
   {
    "duration": 679,
    "start_time": "2022-07-16T07:57:03.046Z"
   },
   {
    "duration": 570,
    "start_time": "2022-07-16T07:57:03.727Z"
   },
   {
    "duration": 119,
    "start_time": "2022-07-16T07:57:04.300Z"
   },
   {
    "duration": 84972,
    "start_time": "2022-07-16T07:57:04.421Z"
   },
   {
    "duration": 148,
    "start_time": "2022-07-16T07:58:30.421Z"
   },
   {
    "duration": 135,
    "start_time": "2022-07-16T07:58:42.242Z"
   },
   {
    "duration": 162,
    "start_time": "2022-07-16T07:58:47.070Z"
   },
   {
    "duration": 20,
    "start_time": "2022-07-16T08:08:57.511Z"
   },
   {
    "duration": 7,
    "start_time": "2022-07-16T08:10:02.383Z"
   },
   {
    "duration": 12,
    "start_time": "2022-07-16T08:10:10.383Z"
   },
   {
    "duration": 1174,
    "start_time": "2022-07-16T08:29:12.314Z"
   },
   {
    "duration": 644,
    "start_time": "2022-07-16T08:29:47.068Z"
   },
   {
    "duration": 1368,
    "start_time": "2022-07-16T08:30:18.378Z"
   },
   {
    "duration": 1039,
    "start_time": "2022-07-16T09:05:53.873Z"
   },
   {
    "duration": 188,
    "start_time": "2022-07-16T09:06:06.130Z"
   },
   {
    "duration": 1205,
    "start_time": "2022-07-16T09:06:21.999Z"
   },
   {
    "duration": 1343,
    "start_time": "2022-07-16T09:08:07.188Z"
   },
   {
    "duration": 1251,
    "start_time": "2022-07-16T09:08:08.534Z"
   },
   {
    "duration": 202,
    "start_time": "2022-07-16T09:08:09.787Z"
   },
   {
    "duration": 35,
    "start_time": "2022-07-16T09:08:09.991Z"
   },
   {
    "duration": 463,
    "start_time": "2022-07-16T09:08:10.029Z"
   },
   {
    "duration": 5,
    "start_time": "2022-07-16T09:08:10.494Z"
   },
   {
    "duration": 125,
    "start_time": "2022-07-16T09:08:10.500Z"
   },
   {
    "duration": 41,
    "start_time": "2022-07-16T09:08:10.626Z"
   },
   {
    "duration": 7,
    "start_time": "2022-07-16T09:08:10.668Z"
   },
   {
    "duration": 275,
    "start_time": "2022-07-16T09:08:10.677Z"
   },
   {
    "duration": 153,
    "start_time": "2022-07-16T09:08:10.958Z"
   },
   {
    "duration": 180,
    "start_time": "2022-07-16T09:08:11.113Z"
   },
   {
    "duration": 526,
    "start_time": "2022-07-16T09:08:11.295Z"
   },
   {
    "duration": 536,
    "start_time": "2022-07-16T09:08:11.823Z"
   },
   {
    "duration": 119,
    "start_time": "2022-07-16T09:08:12.368Z"
   },
   {
    "duration": 348,
    "start_time": "2022-07-16T09:08:12.489Z"
   },
   {
    "duration": 1352,
    "start_time": "2022-07-16T09:08:39.739Z"
   },
   {
    "duration": 1094,
    "start_time": "2022-07-16T09:08:41.093Z"
   },
   {
    "duration": 180,
    "start_time": "2022-07-16T09:08:42.189Z"
   },
   {
    "duration": 46,
    "start_time": "2022-07-16T09:08:42.379Z"
   },
   {
    "duration": 487,
    "start_time": "2022-07-16T09:08:42.427Z"
   },
   {
    "duration": 6,
    "start_time": "2022-07-16T09:08:42.915Z"
   },
   {
    "duration": 120,
    "start_time": "2022-07-16T09:08:42.922Z"
   },
   {
    "duration": 45,
    "start_time": "2022-07-16T09:08:43.044Z"
   },
   {
    "duration": 3,
    "start_time": "2022-07-16T09:08:43.091Z"
   },
   {
    "duration": 286,
    "start_time": "2022-07-16T09:08:43.097Z"
   },
   {
    "duration": 141,
    "start_time": "2022-07-16T09:08:43.386Z"
   },
   {
    "duration": 213,
    "start_time": "2022-07-16T09:08:43.530Z"
   },
   {
    "duration": 546,
    "start_time": "2022-07-16T09:08:43.745Z"
   },
   {
    "duration": 579,
    "start_time": "2022-07-16T09:08:44.294Z"
   },
   {
    "duration": 121,
    "start_time": "2022-07-16T09:08:44.874Z"
   },
   {
    "duration": 73,
    "start_time": "2022-07-16T09:08:44.997Z"
   },
   {
    "duration": 1309,
    "start_time": "2022-07-16T09:09:11.693Z"
   },
   {
    "duration": 1107,
    "start_time": "2022-07-16T09:09:13.005Z"
   },
   {
    "duration": 194,
    "start_time": "2022-07-16T09:09:14.114Z"
   },
   {
    "duration": 62,
    "start_time": "2022-07-16T09:09:14.311Z"
   },
   {
    "duration": 433,
    "start_time": "2022-07-16T09:09:14.379Z"
   },
   {
    "duration": 5,
    "start_time": "2022-07-16T09:09:14.814Z"
   },
   {
    "duration": 131,
    "start_time": "2022-07-16T09:09:14.821Z"
   },
   {
    "duration": 36,
    "start_time": "2022-07-16T09:09:14.960Z"
   },
   {
    "duration": 3,
    "start_time": "2022-07-16T09:09:14.998Z"
   },
   {
    "duration": 295,
    "start_time": "2022-07-16T09:09:15.004Z"
   },
   {
    "duration": 147,
    "start_time": "2022-07-16T09:09:15.301Z"
   },
   {
    "duration": 236,
    "start_time": "2022-07-16T09:09:15.450Z"
   },
   {
    "duration": 540,
    "start_time": "2022-07-16T09:09:15.688Z"
   },
   {
    "duration": 545,
    "start_time": "2022-07-16T09:09:16.230Z"
   },
   {
    "duration": 127,
    "start_time": "2022-07-16T09:09:16.777Z"
   },
   {
    "duration": 20,
    "start_time": "2022-07-16T09:09:16.906Z"
   },
   {
    "duration": 94604,
    "start_time": "2022-07-16T09:09:16.928Z"
   },
   {
    "duration": 125,
    "start_time": "2022-07-16T09:23:19.824Z"
   },
   {
    "duration": 36,
    "start_time": "2022-07-16T09:23:26.588Z"
   },
   {
    "duration": 18,
    "start_time": "2022-07-16T09:23:49.304Z"
   },
   {
    "duration": 46,
    "start_time": "2022-07-16T09:23:53.987Z"
   },
   {
    "duration": 20,
    "start_time": "2022-07-16T09:24:02.816Z"
   },
   {
    "duration": 37,
    "start_time": "2022-07-16T09:24:07.732Z"
   },
   {
    "duration": 14,
    "start_time": "2022-07-16T09:27:31.636Z"
   },
   {
    "duration": 1332,
    "start_time": "2022-07-16T09:28:28.611Z"
   },
   {
    "duration": 947,
    "start_time": "2022-07-16T09:28:29.945Z"
   },
   {
    "duration": 152,
    "start_time": "2022-07-16T09:28:30.894Z"
   },
   {
    "duration": 31,
    "start_time": "2022-07-16T09:28:31.048Z"
   },
   {
    "duration": 442,
    "start_time": "2022-07-16T09:28:31.081Z"
   },
   {
    "duration": 6,
    "start_time": "2022-07-16T09:28:31.525Z"
   },
   {
    "duration": 138,
    "start_time": "2022-07-16T09:28:31.533Z"
   },
   {
    "duration": 35,
    "start_time": "2022-07-16T09:28:31.674Z"
   },
   {
    "duration": 3,
    "start_time": "2022-07-16T09:28:31.711Z"
   },
   {
    "duration": 247,
    "start_time": "2022-07-16T09:28:31.717Z"
   },
   {
    "duration": 160,
    "start_time": "2022-07-16T09:28:31.966Z"
   },
   {
    "duration": 184,
    "start_time": "2022-07-16T09:28:32.129Z"
   },
   {
    "duration": 463,
    "start_time": "2022-07-16T09:28:32.315Z"
   },
   {
    "duration": 440,
    "start_time": "2022-07-16T09:28:32.780Z"
   },
   {
    "duration": 127,
    "start_time": "2022-07-16T09:28:33.222Z"
   },
   {
    "duration": 55381,
    "start_time": "2022-07-16T09:28:33.351Z"
   },
   {
    "duration": 45,
    "start_time": "2022-07-16T09:29:28.734Z"
   },
   {
    "duration": 81699,
    "start_time": "2022-07-16T09:29:28.781Z"
   },
   {
    "duration": 1265,
    "start_time": "2022-07-16T09:31:06.516Z"
   },
   {
    "duration": 966,
    "start_time": "2022-07-16T09:31:07.783Z"
   },
   {
    "duration": 223,
    "start_time": "2022-07-16T09:31:08.751Z"
   },
   {
    "duration": 47,
    "start_time": "2022-07-16T09:31:08.980Z"
   },
   {
    "duration": 509,
    "start_time": "2022-07-16T09:31:09.045Z"
   },
   {
    "duration": 6,
    "start_time": "2022-07-16T09:31:09.556Z"
   },
   {
    "duration": 107,
    "start_time": "2022-07-16T09:31:09.563Z"
   },
   {
    "duration": 27,
    "start_time": "2022-07-16T09:31:09.672Z"
   },
   {
    "duration": 4,
    "start_time": "2022-07-16T09:31:09.701Z"
   },
   {
    "duration": 272,
    "start_time": "2022-07-16T09:31:09.708Z"
   },
   {
    "duration": 144,
    "start_time": "2022-07-16T09:31:09.981Z"
   },
   {
    "duration": 159,
    "start_time": "2022-07-16T09:31:10.127Z"
   },
   {
    "duration": 477,
    "start_time": "2022-07-16T09:31:10.288Z"
   },
   {
    "duration": 456,
    "start_time": "2022-07-16T09:31:10.767Z"
   },
   {
    "duration": 121,
    "start_time": "2022-07-16T09:31:11.225Z"
   },
   {
    "duration": 59552,
    "start_time": "2022-07-16T09:31:11.348Z"
   },
   {
    "duration": 62,
    "start_time": "2022-07-16T09:32:10.901Z"
   },
   {
    "duration": 88950,
    "start_time": "2022-07-16T09:32:10.965Z"
   },
   {
    "duration": 6,
    "start_time": "2022-07-16T09:33:39.918Z"
   },
   {
    "duration": 99,
    "start_time": "2022-07-16T09:34:09.702Z"
   },
   {
    "duration": 10,
    "start_time": "2022-07-16T09:35:53.942Z"
   },
   {
    "duration": 14,
    "start_time": "2022-07-16T09:36:19.029Z"
   },
   {
    "duration": 10,
    "start_time": "2022-07-16T09:36:29.733Z"
   },
   {
    "duration": 326,
    "start_time": "2022-07-16T09:37:19.098Z"
   },
   {
    "duration": 49,
    "start_time": "2022-07-16T09:37:46.524Z"
   },
   {
    "duration": 20,
    "start_time": "2022-07-16T09:37:51.172Z"
   },
   {
    "duration": 325,
    "start_time": "2022-07-16T09:37:57.392Z"
   },
   {
    "duration": 1224,
    "start_time": "2022-07-16T09:39:03.349Z"
   },
   {
    "duration": 988,
    "start_time": "2022-07-16T09:39:04.576Z"
   },
   {
    "duration": 148,
    "start_time": "2022-07-16T09:39:05.566Z"
   },
   {
    "duration": 42,
    "start_time": "2022-07-16T09:39:05.716Z"
   },
   {
    "duration": 395,
    "start_time": "2022-07-16T09:39:05.759Z"
   },
   {
    "duration": 5,
    "start_time": "2022-07-16T09:39:06.156Z"
   },
   {
    "duration": 98,
    "start_time": "2022-07-16T09:39:06.163Z"
   },
   {
    "duration": 32,
    "start_time": "2022-07-16T09:39:06.262Z"
   },
   {
    "duration": 2,
    "start_time": "2022-07-16T09:39:06.296Z"
   },
   {
    "duration": 245,
    "start_time": "2022-07-16T09:39:06.301Z"
   },
   {
    "duration": 138,
    "start_time": "2022-07-16T09:39:06.548Z"
   },
   {
    "duration": 147,
    "start_time": "2022-07-16T09:39:06.688Z"
   },
   {
    "duration": 458,
    "start_time": "2022-07-16T09:39:06.846Z"
   },
   {
    "duration": 498,
    "start_time": "2022-07-16T09:39:07.306Z"
   },
   {
    "duration": 132,
    "start_time": "2022-07-16T09:39:07.806Z"
   },
   {
    "duration": 56286,
    "start_time": "2022-07-16T09:39:07.939Z"
   },
   {
    "duration": 59,
    "start_time": "2022-07-16T09:40:04.227Z"
   },
   {
    "duration": 89252,
    "start_time": "2022-07-16T09:40:04.289Z"
   },
   {
    "duration": 586,
    "start_time": "2022-07-16T13:38:42.048Z"
   },
   {
    "duration": 15,
    "start_time": "2022-07-16T13:40:10.876Z"
   },
   {
    "duration": 13,
    "start_time": "2022-07-16T13:40:15.300Z"
   },
   {
    "duration": 50,
    "start_time": "2022-07-16T13:40:29.472Z"
   },
   {
    "duration": 8,
    "start_time": "2022-07-16T13:43:52.464Z"
   },
   {
    "duration": 9,
    "start_time": "2022-07-16T13:44:01.941Z"
   },
   {
    "duration": 13,
    "start_time": "2022-07-16T13:44:17.555Z"
   },
   {
    "duration": 112,
    "start_time": "2022-07-16T13:44:46.291Z"
   },
   {
    "duration": 17,
    "start_time": "2022-07-16T13:46:28.863Z"
   },
   {
    "duration": 11,
    "start_time": "2022-07-16T13:46:38.662Z"
   },
   {
    "duration": 4,
    "start_time": "2022-07-16T13:50:34.668Z"
   },
   {
    "duration": 12,
    "start_time": "2022-07-16T13:50:50.502Z"
   },
   {
    "duration": 13,
    "start_time": "2022-07-16T13:50:59.474Z"
   },
   {
    "duration": 57,
    "start_time": "2022-07-16T13:51:24.599Z"
   },
   {
    "duration": 14,
    "start_time": "2022-07-16T13:51:45.197Z"
   },
   {
    "duration": 37459,
    "start_time": "2022-07-16T13:51:53.685Z"
   },
   {
    "duration": 123,
    "start_time": "2022-07-16T13:52:57.284Z"
   },
   {
    "duration": 9,
    "start_time": "2022-07-16T13:53:28.154Z"
   },
   {
    "duration": 155,
    "start_time": "2022-07-16T13:54:33.608Z"
   },
   {
    "duration": 3116,
    "start_time": "2022-07-16T13:54:42.088Z"
   },
   {
    "duration": 37685,
    "start_time": "2022-07-16T13:54:54.402Z"
   },
   {
    "duration": 3030,
    "start_time": "2022-07-16T13:55:32.089Z"
   },
   {
    "duration": 8,
    "start_time": "2022-07-16T13:56:06.343Z"
   },
   {
    "duration": 108,
    "start_time": "2022-07-16T13:56:07.644Z"
   },
   {
    "duration": 41577,
    "start_time": "2022-07-16T13:56:12.524Z"
   },
   {
    "duration": 3011,
    "start_time": "2022-07-16T13:56:54.103Z"
   },
   {
    "duration": 33,
    "start_time": "2022-07-16T14:00:44.482Z"
   },
   {
    "duration": 1316,
    "start_time": "2022-07-16T14:00:58.108Z"
   },
   {
    "duration": 1280,
    "start_time": "2022-07-16T14:00:59.426Z"
   },
   {
    "duration": 19,
    "start_time": "2022-07-16T14:01:00.708Z"
   },
   {
    "duration": 154,
    "start_time": "2022-07-16T14:01:00.729Z"
   },
   {
    "duration": 40,
    "start_time": "2022-07-16T14:01:00.886Z"
   },
   {
    "duration": 422,
    "start_time": "2022-07-16T14:01:00.928Z"
   },
   {
    "duration": 5,
    "start_time": "2022-07-16T14:01:01.352Z"
   },
   {
    "duration": 126,
    "start_time": "2022-07-16T14:01:01.359Z"
   },
   {
    "duration": 52,
    "start_time": "2022-07-16T14:01:01.487Z"
   },
   {
    "duration": 4,
    "start_time": "2022-07-16T14:01:01.549Z"
   },
   {
    "duration": 271,
    "start_time": "2022-07-16T14:01:01.555Z"
   },
   {
    "duration": 160,
    "start_time": "2022-07-16T14:01:01.828Z"
   },
   {
    "duration": 220,
    "start_time": "2022-07-16T14:01:01.989Z"
   },
   {
    "duration": 485,
    "start_time": "2022-07-16T14:01:02.211Z"
   },
   {
    "duration": 460,
    "start_time": "2022-07-16T14:01:02.699Z"
   },
   {
    "duration": 109,
    "start_time": "2022-07-16T14:01:03.161Z"
   },
   {
    "duration": 47,
    "start_time": "2022-07-16T14:01:03.272Z"
   },
   {
    "duration": 25,
    "start_time": "2022-07-16T14:01:03.321Z"
   },
   {
    "duration": 138,
    "start_time": "2022-07-16T14:01:03.349Z"
   },
   {
    "duration": 32200,
    "start_time": "2022-07-16T14:01:03.490Z"
   },
   {
    "duration": 2831,
    "start_time": "2022-07-16T14:01:35.693Z"
   },
   {
    "duration": 1010,
    "start_time": "2022-07-16T14:01:39.554Z"
   },
   {
    "duration": 1237,
    "start_time": "2022-07-16T14:01:50.526Z"
   },
   {
    "duration": 927,
    "start_time": "2022-07-16T14:01:51.765Z"
   },
   {
    "duration": 21,
    "start_time": "2022-07-16T14:01:52.694Z"
   },
   {
    "duration": 29,
    "start_time": "2022-07-16T14:01:52.718Z"
   },
   {
    "duration": 141,
    "start_time": "2022-07-16T14:01:52.748Z"
   },
   {
    "duration": 27,
    "start_time": "2022-07-16T14:01:52.891Z"
   },
   {
    "duration": 411,
    "start_time": "2022-07-16T14:01:52.920Z"
   },
   {
    "duration": 5,
    "start_time": "2022-07-16T14:01:53.333Z"
   },
   {
    "duration": 92,
    "start_time": "2022-07-16T14:01:53.345Z"
   },
   {
    "duration": 37,
    "start_time": "2022-07-16T14:01:53.447Z"
   },
   {
    "duration": 4,
    "start_time": "2022-07-16T14:01:53.486Z"
   },
   {
    "duration": 251,
    "start_time": "2022-07-16T14:01:53.492Z"
   },
   {
    "duration": 147,
    "start_time": "2022-07-16T14:01:53.746Z"
   },
   {
    "duration": 167,
    "start_time": "2022-07-16T14:01:53.895Z"
   },
   {
    "duration": 460,
    "start_time": "2022-07-16T14:01:54.064Z"
   },
   {
    "duration": 474,
    "start_time": "2022-07-16T14:01:54.527Z"
   },
   {
    "duration": 115,
    "start_time": "2022-07-16T14:01:55.003Z"
   },
   {
    "duration": 56,
    "start_time": "2022-07-16T14:01:55.120Z"
   },
   {
    "duration": 7,
    "start_time": "2022-07-16T14:01:55.178Z"
   },
   {
    "duration": 108,
    "start_time": "2022-07-16T14:01:55.187Z"
   },
   {
    "duration": 32379,
    "start_time": "2022-07-16T14:01:55.297Z"
   },
   {
    "duration": 2888,
    "start_time": "2022-07-16T14:02:27.678Z"
   },
   {
    "duration": 31235,
    "start_time": "2022-07-16T14:09:31.344Z"
   },
   {
    "duration": 45,
    "start_time": "2022-07-16T14:10:28.692Z"
   },
   {
    "duration": 1563,
    "start_time": "2022-07-16T14:10:36.976Z"
   },
   {
    "duration": 27989,
    "start_time": "2022-07-16T14:10:51.191Z"
   },
   {
    "duration": 12,
    "start_time": "2022-07-16T14:22:59.419Z"
   },
   {
    "duration": 3613,
    "start_time": "2022-07-16T14:25:19.751Z"
   },
   {
    "duration": 2410,
    "start_time": "2022-07-16T14:25:30.203Z"
   },
   {
    "duration": 2495,
    "start_time": "2022-07-16T14:26:04.563Z"
   },
   {
    "duration": 3832,
    "start_time": "2022-07-16T14:27:04.051Z"
   },
   {
    "duration": 15486,
    "start_time": "2022-07-16T14:27:07.885Z"
   },
   {
    "duration": 1305,
    "start_time": "2022-07-16T14:27:23.373Z"
   },
   {
    "duration": 51,
    "start_time": "2022-07-16T14:29:32.922Z"
   },
   {
    "duration": 42,
    "start_time": "2022-07-16T14:30:14.373Z"
   },
   {
    "duration": 40,
    "start_time": "2022-07-16T14:30:24.646Z"
   },
   {
    "duration": 40,
    "start_time": "2022-07-16T14:30:34.741Z"
   },
   {
    "duration": 41,
    "start_time": "2022-07-16T14:31:45.959Z"
   },
   {
    "duration": 40,
    "start_time": "2022-07-16T14:32:37.085Z"
   },
   {
    "duration": 34,
    "start_time": "2022-07-16T14:33:09.574Z"
   },
   {
    "duration": 7,
    "start_time": "2022-07-16T14:34:21.505Z"
   },
   {
    "duration": 6,
    "start_time": "2022-07-16T14:34:29.301Z"
   },
   {
    "duration": 16,
    "start_time": "2022-07-16T14:35:05.118Z"
   },
   {
    "duration": 23,
    "start_time": "2022-07-16T14:35:25.582Z"
   },
   {
    "duration": 1133,
    "start_time": "2022-07-16T14:35:32.508Z"
   },
   {
    "duration": 840,
    "start_time": "2022-07-16T14:35:33.643Z"
   },
   {
    "duration": 16,
    "start_time": "2022-07-16T14:35:34.484Z"
   },
   {
    "duration": 136,
    "start_time": "2022-07-16T14:35:34.502Z"
   },
   {
    "duration": 24,
    "start_time": "2022-07-16T14:35:34.639Z"
   },
   {
    "duration": 387,
    "start_time": "2022-07-16T14:35:34.665Z"
   },
   {
    "duration": 6,
    "start_time": "2022-07-16T14:35:35.053Z"
   },
   {
    "duration": 104,
    "start_time": "2022-07-16T14:35:35.060Z"
   },
   {
    "duration": 33,
    "start_time": "2022-07-16T14:35:35.166Z"
   },
   {
    "duration": 3,
    "start_time": "2022-07-16T14:35:35.201Z"
   },
   {
    "duration": 213,
    "start_time": "2022-07-16T14:35:35.205Z"
   },
   {
    "duration": 141,
    "start_time": "2022-07-16T14:35:35.419Z"
   },
   {
    "duration": 169,
    "start_time": "2022-07-16T14:35:35.562Z"
   },
   {
    "duration": 389,
    "start_time": "2022-07-16T14:35:35.733Z"
   },
   {
    "duration": 390,
    "start_time": "2022-07-16T14:35:36.124Z"
   },
   {
    "duration": 100,
    "start_time": "2022-07-16T14:35:36.515Z"
   },
   {
    "duration": 61,
    "start_time": "2022-07-16T14:35:36.617Z"
   },
   {
    "duration": 19,
    "start_time": "2022-07-16T14:35:36.680Z"
   },
   {
    "duration": 51,
    "start_time": "2022-07-16T14:35:36.701Z"
   },
   {
    "duration": 18,
    "start_time": "2022-07-16T14:35:36.753Z"
   },
   {
    "duration": 108,
    "start_time": "2022-07-16T14:35:36.772Z"
   },
   {
    "duration": 1683,
    "start_time": "2022-07-16T14:35:36.882Z"
   },
   {
    "duration": 1313,
    "start_time": "2022-07-16T14:35:38.567Z"
   },
   {
    "duration": 92,
    "start_time": "2022-07-16T14:41:03.705Z"
   },
   {
    "duration": 9,
    "start_time": "2022-07-16T14:42:52.947Z"
   },
   {
    "duration": 1463,
    "start_time": "2022-07-16T14:43:42.960Z"
   },
   {
    "duration": 907,
    "start_time": "2022-07-16T14:43:44.425Z"
   },
   {
    "duration": 28,
    "start_time": "2022-07-16T14:43:45.334Z"
   },
   {
    "duration": 156,
    "start_time": "2022-07-16T14:43:45.365Z"
   },
   {
    "duration": 40,
    "start_time": "2022-07-16T14:43:45.524Z"
   },
   {
    "duration": 408,
    "start_time": "2022-07-16T14:43:45.565Z"
   },
   {
    "duration": 5,
    "start_time": "2022-07-16T14:43:45.975Z"
   },
   {
    "duration": 106,
    "start_time": "2022-07-16T14:43:45.982Z"
   },
   {
    "duration": 31,
    "start_time": "2022-07-16T14:43:46.090Z"
   },
   {
    "duration": 3,
    "start_time": "2022-07-16T14:43:46.123Z"
   },
   {
    "duration": 226,
    "start_time": "2022-07-16T14:43:46.145Z"
   },
   {
    "duration": 145,
    "start_time": "2022-07-16T14:43:46.373Z"
   },
   {
    "duration": 147,
    "start_time": "2022-07-16T14:43:46.520Z"
   },
   {
    "duration": 427,
    "start_time": "2022-07-16T14:43:46.669Z"
   },
   {
    "duration": 438,
    "start_time": "2022-07-16T14:43:47.097Z"
   },
   {
    "duration": 102,
    "start_time": "2022-07-16T14:43:47.537Z"
   },
   {
    "duration": 42,
    "start_time": "2022-07-16T14:43:47.645Z"
   },
   {
    "duration": 18,
    "start_time": "2022-07-16T14:43:47.689Z"
   },
   {
    "duration": 80,
    "start_time": "2022-07-16T14:43:47.709Z"
   },
   {
    "duration": 24,
    "start_time": "2022-07-16T14:43:47.791Z"
   },
   {
    "duration": 137,
    "start_time": "2022-07-16T14:43:47.817Z"
   },
   {
    "duration": 1876,
    "start_time": "2022-07-16T14:43:47.956Z"
   },
   {
    "duration": 1296,
    "start_time": "2022-07-16T14:43:49.834Z"
   },
   {
    "duration": 206,
    "start_time": "2022-07-16T14:43:51.132Z"
   },
   {
    "duration": 190,
    "start_time": "2022-07-16T14:44:49.665Z"
   },
   {
    "duration": 121,
    "start_time": "2022-07-16T14:46:07.651Z"
   },
   {
    "duration": 175,
    "start_time": "2022-07-16T14:46:15.440Z"
   },
   {
    "duration": 6,
    "start_time": "2022-07-16T14:46:30.981Z"
   },
   {
    "duration": 143,
    "start_time": "2022-07-16T14:46:54.975Z"
   },
   {
    "duration": 11,
    "start_time": "2022-07-16T14:49:43.461Z"
   },
   {
    "duration": 1442,
    "start_time": "2022-07-16T14:55:13.847Z"
   },
   {
    "duration": 878,
    "start_time": "2022-07-16T14:55:15.291Z"
   },
   {
    "duration": 17,
    "start_time": "2022-07-16T14:55:16.170Z"
   },
   {
    "duration": 148,
    "start_time": "2022-07-16T14:55:16.189Z"
   },
   {
    "duration": 27,
    "start_time": "2022-07-16T14:55:16.355Z"
   },
   {
    "duration": 380,
    "start_time": "2022-07-16T14:55:16.383Z"
   },
   {
    "duration": 6,
    "start_time": "2022-07-16T14:55:16.765Z"
   },
   {
    "duration": 90,
    "start_time": "2022-07-16T14:55:16.772Z"
   },
   {
    "duration": 34,
    "start_time": "2022-07-16T14:55:16.864Z"
   },
   {
    "duration": 3,
    "start_time": "2022-07-16T14:55:16.900Z"
   },
   {
    "duration": 230,
    "start_time": "2022-07-16T14:55:16.905Z"
   },
   {
    "duration": 137,
    "start_time": "2022-07-16T14:55:17.137Z"
   },
   {
    "duration": 143,
    "start_time": "2022-07-16T14:55:17.276Z"
   },
   {
    "duration": 429,
    "start_time": "2022-07-16T14:55:17.421Z"
   },
   {
    "duration": 417,
    "start_time": "2022-07-16T14:55:17.852Z"
   },
   {
    "duration": 98,
    "start_time": "2022-07-16T14:55:18.271Z"
   },
   {
    "duration": 36,
    "start_time": "2022-07-16T14:55:18.371Z"
   },
   {
    "duration": 17,
    "start_time": "2022-07-16T14:55:18.408Z"
   },
   {
    "duration": 53,
    "start_time": "2022-07-16T14:55:18.426Z"
   },
   {
    "duration": 18,
    "start_time": "2022-07-16T14:55:18.481Z"
   },
   {
    "duration": 116,
    "start_time": "2022-07-16T14:55:18.500Z"
   },
   {
    "duration": 1808,
    "start_time": "2022-07-16T14:55:18.617Z"
   },
   {
    "duration": 1337,
    "start_time": "2022-07-16T14:55:20.426Z"
   },
   {
    "duration": 211,
    "start_time": "2022-07-16T14:55:21.765Z"
   },
   {
    "duration": 175,
    "start_time": "2022-07-16T14:55:21.978Z"
   },
   {
    "duration": 2,
    "start_time": "2022-07-16T14:55:22.156Z"
   },
   {
    "duration": 1924,
    "start_time": "2022-07-16T14:55:22.163Z"
   },
   {
    "duration": 118,
    "start_time": "2022-07-16T15:00:08.022Z"
   },
   {
    "duration": 243,
    "start_time": "2022-07-16T15:00:15.813Z"
   },
   {
    "duration": 361,
    "start_time": "2022-07-16T15:01:04.477Z"
   },
   {
    "duration": 3,
    "start_time": "2022-07-16T15:01:17.077Z"
   },
   {
    "duration": 1507,
    "start_time": "2022-07-16T15:01:19.187Z"
   },
   {
    "duration": 1366,
    "start_time": "2022-07-16T15:02:04.103Z"
   },
   {
    "duration": 906,
    "start_time": "2022-07-16T15:02:05.471Z"
   },
   {
    "duration": 17,
    "start_time": "2022-07-16T15:02:06.378Z"
   },
   {
    "duration": 177,
    "start_time": "2022-07-16T15:02:06.397Z"
   },
   {
    "duration": 29,
    "start_time": "2022-07-16T15:02:06.576Z"
   },
   {
    "duration": 404,
    "start_time": "2022-07-16T15:02:06.608Z"
   },
   {
    "duration": 4,
    "start_time": "2022-07-16T15:02:07.014Z"
   },
   {
    "duration": 99,
    "start_time": "2022-07-16T15:02:07.020Z"
   },
   {
    "duration": 44,
    "start_time": "2022-07-16T15:02:07.121Z"
   },
   {
    "duration": 2,
    "start_time": "2022-07-16T15:02:07.168Z"
   },
   {
    "duration": 220,
    "start_time": "2022-07-16T15:02:07.172Z"
   },
   {
    "duration": 154,
    "start_time": "2022-07-16T15:02:07.394Z"
   },
   {
    "duration": 138,
    "start_time": "2022-07-16T15:02:07.550Z"
   },
   {
    "duration": 411,
    "start_time": "2022-07-16T15:02:07.690Z"
   },
   {
    "duration": 416,
    "start_time": "2022-07-16T15:02:08.103Z"
   },
   {
    "duration": 101,
    "start_time": "2022-07-16T15:02:08.520Z"
   },
   {
    "duration": 48,
    "start_time": "2022-07-16T15:02:08.623Z"
   },
   {
    "duration": 18,
    "start_time": "2022-07-16T15:02:08.673Z"
   },
   {
    "duration": 59,
    "start_time": "2022-07-16T15:02:08.693Z"
   },
   {
    "duration": 22,
    "start_time": "2022-07-16T15:02:08.754Z"
   },
   {
    "duration": 135,
    "start_time": "2022-07-16T15:02:08.778Z"
   },
   {
    "duration": 1724,
    "start_time": "2022-07-16T15:02:08.916Z"
   },
   {
    "duration": 1229,
    "start_time": "2022-07-16T15:02:10.641Z"
   },
   {
    "duration": 203,
    "start_time": "2022-07-16T15:02:11.871Z"
   },
   {
    "duration": 163,
    "start_time": "2022-07-16T15:02:12.076Z"
   },
   {
    "duration": 362,
    "start_time": "2022-07-16T15:02:12.245Z"
   },
   {
    "duration": 3,
    "start_time": "2022-07-16T15:02:12.609Z"
   },
   {
    "duration": 1672,
    "start_time": "2022-07-16T15:02:12.615Z"
   },
   {
    "duration": 5,
    "start_time": "2022-07-16T15:06:18.964Z"
   },
   {
    "duration": 161,
    "start_time": "2022-07-16T15:06:29.158Z"
   },
   {
    "duration": 57,
    "start_time": "2022-07-16T15:07:26.946Z"
   },
   {
    "duration": 418,
    "start_time": "2022-07-16T15:08:06.551Z"
   },
   {
    "duration": 1472,
    "start_time": "2022-07-16T15:08:12.185Z"
   },
   {
    "duration": 242,
    "start_time": "2022-07-16T15:09:10.449Z"
   },
   {
    "duration": 1888,
    "start_time": "2022-07-16T15:09:11.313Z"
   },
   {
    "duration": 1363,
    "start_time": "2022-07-16T15:12:14.853Z"
   },
   {
    "duration": 831,
    "start_time": "2022-07-16T15:12:16.218Z"
   },
   {
    "duration": 16,
    "start_time": "2022-07-16T15:12:17.050Z"
   },
   {
    "duration": 143,
    "start_time": "2022-07-16T15:12:17.068Z"
   },
   {
    "duration": 38,
    "start_time": "2022-07-16T15:12:17.215Z"
   },
   {
    "duration": 464,
    "start_time": "2022-07-16T15:12:17.255Z"
   },
   {
    "duration": 4,
    "start_time": "2022-07-16T15:12:17.721Z"
   },
   {
    "duration": 156,
    "start_time": "2022-07-16T15:12:17.727Z"
   },
   {
    "duration": 31,
    "start_time": "2022-07-16T15:12:17.885Z"
   },
   {
    "duration": 2,
    "start_time": "2022-07-16T15:12:17.918Z"
   },
   {
    "duration": 252,
    "start_time": "2022-07-16T15:12:17.922Z"
   },
   {
    "duration": 154,
    "start_time": "2022-07-16T15:12:18.176Z"
   },
   {
    "duration": 125,
    "start_time": "2022-07-16T15:12:18.346Z"
   },
   {
    "duration": 421,
    "start_time": "2022-07-16T15:12:18.474Z"
   },
   {
    "duration": 516,
    "start_time": "2022-07-16T15:12:18.896Z"
   },
   {
    "duration": 107,
    "start_time": "2022-07-16T15:12:19.414Z"
   },
   {
    "duration": 47,
    "start_time": "2022-07-16T15:12:19.522Z"
   },
   {
    "duration": 16,
    "start_time": "2022-07-16T15:12:19.571Z"
   },
   {
    "duration": 37,
    "start_time": "2022-07-16T15:12:19.589Z"
   },
   {
    "duration": 18,
    "start_time": "2022-07-16T15:12:19.646Z"
   },
   {
    "duration": 116,
    "start_time": "2022-07-16T15:12:19.666Z"
   },
   {
    "duration": 1621,
    "start_time": "2022-07-16T15:12:19.783Z"
   },
   {
    "duration": 1262,
    "start_time": "2022-07-16T15:12:21.406Z"
   },
   {
    "duration": 194,
    "start_time": "2022-07-16T15:12:22.669Z"
   },
   {
    "duration": 156,
    "start_time": "2022-07-16T15:12:22.865Z"
   },
   {
    "duration": 369,
    "start_time": "2022-07-16T15:12:23.023Z"
   },
   {
    "duration": 422,
    "start_time": "2022-07-16T15:12:23.394Z"
   },
   {
    "duration": 379,
    "start_time": "2022-07-16T15:12:23.818Z"
   },
   {
    "duration": 2157,
    "start_time": "2022-07-16T15:12:24.198Z"
   },
   {
    "duration": 2053,
    "start_time": "2022-07-16T15:13:40.339Z"
   },
   {
    "duration": 1991,
    "start_time": "2022-07-16T15:14:50.543Z"
   },
   {
    "duration": 2260,
    "start_time": "2022-07-16T15:14:58.564Z"
   },
   {
    "duration": 2033,
    "start_time": "2022-07-16T15:18:33.094Z"
   },
   {
    "duration": 1360,
    "start_time": "2022-07-16T15:19:15.192Z"
   },
   {
    "duration": 847,
    "start_time": "2022-07-16T15:19:16.556Z"
   },
   {
    "duration": 18,
    "start_time": "2022-07-16T15:19:17.405Z"
   },
   {
    "duration": 147,
    "start_time": "2022-07-16T15:19:17.425Z"
   },
   {
    "duration": 21,
    "start_time": "2022-07-16T15:19:17.574Z"
   },
   {
    "duration": 376,
    "start_time": "2022-07-16T15:19:17.597Z"
   },
   {
    "duration": 6,
    "start_time": "2022-07-16T15:19:17.976Z"
   },
   {
    "duration": 98,
    "start_time": "2022-07-16T15:19:17.984Z"
   },
   {
    "duration": 33,
    "start_time": "2022-07-16T15:19:18.084Z"
   },
   {
    "duration": 2,
    "start_time": "2022-07-16T15:19:18.120Z"
   },
   {
    "duration": 214,
    "start_time": "2022-07-16T15:19:18.124Z"
   },
   {
    "duration": 138,
    "start_time": "2022-07-16T15:19:18.339Z"
   },
   {
    "duration": 141,
    "start_time": "2022-07-16T15:19:18.479Z"
   },
   {
    "duration": 456,
    "start_time": "2022-07-16T15:19:18.622Z"
   },
   {
    "duration": 427,
    "start_time": "2022-07-16T15:19:19.080Z"
   },
   {
    "duration": 101,
    "start_time": "2022-07-16T15:19:19.509Z"
   },
   {
    "duration": 48,
    "start_time": "2022-07-16T15:19:19.611Z"
   },
   {
    "duration": 16,
    "start_time": "2022-07-16T15:19:19.661Z"
   },
   {
    "duration": 34,
    "start_time": "2022-07-16T15:19:19.679Z"
   },
   {
    "duration": 41,
    "start_time": "2022-07-16T15:19:19.715Z"
   },
   {
    "duration": 106,
    "start_time": "2022-07-16T15:19:19.757Z"
   },
   {
    "duration": 1614,
    "start_time": "2022-07-16T15:19:19.865Z"
   },
   {
    "duration": 1317,
    "start_time": "2022-07-16T15:19:21.482Z"
   },
   {
    "duration": 193,
    "start_time": "2022-07-16T15:19:22.801Z"
   },
   {
    "duration": 149,
    "start_time": "2022-07-16T15:19:22.996Z"
   },
   {
    "duration": 368,
    "start_time": "2022-07-16T15:19:23.147Z"
   },
   {
    "duration": 423,
    "start_time": "2022-07-16T15:19:23.518Z"
   },
   {
    "duration": 416,
    "start_time": "2022-07-16T15:19:23.946Z"
   },
   {
    "duration": 2118,
    "start_time": "2022-07-16T15:19:24.364Z"
   },
   {
    "duration": 5,
    "start_time": "2022-07-16T15:20:49.551Z"
   },
   {
    "duration": 2403,
    "start_time": "2022-07-16T15:20:53.378Z"
   },
   {
    "duration": 1460,
    "start_time": "2022-07-16T15:21:31.195Z"
   },
   {
    "duration": 1021,
    "start_time": "2022-07-16T15:21:32.657Z"
   },
   {
    "duration": 18,
    "start_time": "2022-07-16T15:21:33.680Z"
   },
   {
    "duration": 169,
    "start_time": "2022-07-16T15:21:33.701Z"
   },
   {
    "duration": 31,
    "start_time": "2022-07-16T15:21:33.872Z"
   },
   {
    "duration": 450,
    "start_time": "2022-07-16T15:21:33.905Z"
   },
   {
    "duration": 6,
    "start_time": "2022-07-16T15:21:34.357Z"
   },
   {
    "duration": 119,
    "start_time": "2022-07-16T15:21:34.365Z"
   },
   {
    "duration": 41,
    "start_time": "2022-07-16T15:21:34.486Z"
   },
   {
    "duration": 16,
    "start_time": "2022-07-16T15:21:34.530Z"
   },
   {
    "duration": 254,
    "start_time": "2022-07-16T15:21:34.548Z"
   },
   {
    "duration": 144,
    "start_time": "2022-07-16T15:21:34.804Z"
   },
   {
    "duration": 167,
    "start_time": "2022-07-16T15:21:34.950Z"
   },
   {
    "duration": 510,
    "start_time": "2022-07-16T15:21:35.119Z"
   },
   {
    "duration": 473,
    "start_time": "2022-07-16T15:21:35.630Z"
   },
   {
    "duration": 119,
    "start_time": "2022-07-16T15:21:36.104Z"
   },
   {
    "duration": 56,
    "start_time": "2022-07-16T15:21:36.225Z"
   },
   {
    "duration": 17,
    "start_time": "2022-07-16T15:21:36.283Z"
   },
   {
    "duration": 70,
    "start_time": "2022-07-16T15:21:36.303Z"
   },
   {
    "duration": 20,
    "start_time": "2022-07-16T15:21:36.375Z"
   },
   {
    "duration": 142,
    "start_time": "2022-07-16T15:21:36.397Z"
   },
   {
    "duration": 2049,
    "start_time": "2022-07-16T15:21:36.545Z"
   },
   {
    "duration": 1685,
    "start_time": "2022-07-16T15:21:38.596Z"
   },
   {
    "duration": 219,
    "start_time": "2022-07-16T15:21:40.284Z"
   },
   {
    "duration": 208,
    "start_time": "2022-07-16T15:21:40.505Z"
   },
   {
    "duration": 444,
    "start_time": "2022-07-16T15:21:40.715Z"
   },
   {
    "duration": 473,
    "start_time": "2022-07-16T15:21:41.162Z"
   },
   {
    "duration": 431,
    "start_time": "2022-07-16T15:21:41.639Z"
   },
   {
    "duration": 2534,
    "start_time": "2022-07-16T15:21:42.073Z"
   },
   {
    "duration": 2316,
    "start_time": "2022-07-16T15:22:33.179Z"
   },
   {
    "duration": 119,
    "start_time": "2022-07-16T15:39:14.218Z"
   },
   {
    "duration": 1381,
    "start_time": "2022-07-16T15:39:50.380Z"
   },
   {
    "duration": 842,
    "start_time": "2022-07-16T15:39:51.762Z"
   },
   {
    "duration": 16,
    "start_time": "2022-07-16T15:39:52.606Z"
   },
   {
    "duration": 144,
    "start_time": "2022-07-16T15:39:52.624Z"
   },
   {
    "duration": 25,
    "start_time": "2022-07-16T15:39:52.770Z"
   },
   {
    "duration": 375,
    "start_time": "2022-07-16T15:39:52.797Z"
   },
   {
    "duration": 4,
    "start_time": "2022-07-16T15:39:53.174Z"
   },
   {
    "duration": 102,
    "start_time": "2022-07-16T15:39:53.180Z"
   },
   {
    "duration": 31,
    "start_time": "2022-07-16T15:39:53.283Z"
   },
   {
    "duration": 4,
    "start_time": "2022-07-16T15:39:53.316Z"
   },
   {
    "duration": 219,
    "start_time": "2022-07-16T15:39:53.322Z"
   },
   {
    "duration": 144,
    "start_time": "2022-07-16T15:39:53.545Z"
   },
   {
    "duration": 134,
    "start_time": "2022-07-16T15:39:53.691Z"
   },
   {
    "duration": 427,
    "start_time": "2022-07-16T15:39:53.827Z"
   },
   {
    "duration": 431,
    "start_time": "2022-07-16T15:39:54.256Z"
   },
   {
    "duration": 115,
    "start_time": "2022-07-16T15:39:54.689Z"
   },
   {
    "duration": 47,
    "start_time": "2022-07-16T15:39:54.806Z"
   },
   {
    "duration": 17,
    "start_time": "2022-07-16T15:39:54.855Z"
   },
   {
    "duration": 39,
    "start_time": "2022-07-16T15:39:54.875Z"
   },
   {
    "duration": 45,
    "start_time": "2022-07-16T15:39:54.917Z"
   },
   {
    "duration": 118,
    "start_time": "2022-07-16T15:39:54.963Z"
   },
   {
    "duration": 1778,
    "start_time": "2022-07-16T15:39:55.083Z"
   },
   {
    "duration": 1293,
    "start_time": "2022-07-16T15:39:56.863Z"
   },
   {
    "duration": 198,
    "start_time": "2022-07-16T15:39:58.158Z"
   },
   {
    "duration": 194,
    "start_time": "2022-07-16T15:39:58.358Z"
   },
   {
    "duration": 10,
    "start_time": "2022-07-16T15:58:31.106Z"
   },
   {
    "duration": 1491,
    "start_time": "2022-07-16T15:58:37.822Z"
   },
   {
    "duration": 849,
    "start_time": "2022-07-16T15:58:39.315Z"
   },
   {
    "duration": 16,
    "start_time": "2022-07-16T15:58:40.166Z"
   },
   {
    "duration": 145,
    "start_time": "2022-07-16T15:58:40.183Z"
   },
   {
    "duration": 27,
    "start_time": "2022-07-16T15:58:40.330Z"
   },
   {
    "duration": 364,
    "start_time": "2022-07-16T15:58:40.358Z"
   },
   {
    "duration": 5,
    "start_time": "2022-07-16T15:58:40.723Z"
   },
   {
    "duration": 97,
    "start_time": "2022-07-16T15:58:40.730Z"
   },
   {
    "duration": 44,
    "start_time": "2022-07-16T15:58:40.829Z"
   },
   {
    "duration": 2,
    "start_time": "2022-07-16T15:58:40.876Z"
   },
   {
    "duration": 202,
    "start_time": "2022-07-16T15:58:40.880Z"
   },
   {
    "duration": 131,
    "start_time": "2022-07-16T15:58:41.083Z"
   },
   {
    "duration": 135,
    "start_time": "2022-07-16T15:58:41.216Z"
   },
   {
    "duration": 402,
    "start_time": "2022-07-16T15:58:41.352Z"
   },
   {
    "duration": 425,
    "start_time": "2022-07-16T15:58:41.756Z"
   },
   {
    "duration": 90,
    "start_time": "2022-07-16T15:58:42.183Z"
   },
   {
    "duration": 35,
    "start_time": "2022-07-16T15:58:42.274Z"
   },
   {
    "duration": 35,
    "start_time": "2022-07-16T15:58:42.310Z"
   },
   {
    "duration": 35,
    "start_time": "2022-07-16T15:58:42.347Z"
   },
   {
    "duration": 18,
    "start_time": "2022-07-16T15:58:42.384Z"
   },
   {
    "duration": 119,
    "start_time": "2022-07-16T15:58:42.404Z"
   },
   {
    "duration": 1645,
    "start_time": "2022-07-16T15:58:42.525Z"
   },
   {
    "duration": 1222,
    "start_time": "2022-07-16T15:58:44.172Z"
   },
   {
    "duration": 210,
    "start_time": "2022-07-16T15:58:45.396Z"
   },
   {
    "duration": 136,
    "start_time": "2022-07-16T15:58:45.608Z"
   },
   {
    "duration": 3,
    "start_time": "2022-07-16T16:13:08.137Z"
   },
   {
    "duration": 55,
    "start_time": "2022-07-16T16:13:39.338Z"
   },
   {
    "duration": 154,
    "start_time": "2022-07-16T16:14:35.763Z"
   },
   {
    "duration": 12,
    "start_time": "2022-07-16T16:16:20.043Z"
   },
   {
    "duration": 42,
    "start_time": "2022-07-16T16:16:31.575Z"
   },
   {
    "duration": 501,
    "start_time": "2022-07-16T16:20:30.753Z"
   },
   {
    "duration": 38,
    "start_time": "2022-07-16T16:20:45.805Z"
   },
   {
    "duration": 22,
    "start_time": "2022-07-16T16:20:52.969Z"
   },
   {
    "duration": 64,
    "start_time": "2022-07-16T16:21:24.568Z"
   },
   {
    "duration": 48456,
    "start_time": "2022-07-16T16:21:27.609Z"
   },
   {
    "duration": 46,
    "start_time": "2022-07-16T16:24:58.375Z"
   },
   {
    "duration": 87,
    "start_time": "2022-07-16T16:26:47.608Z"
   },
   {
    "duration": 30,
    "start_time": "2022-07-16T16:26:52.059Z"
   },
   {
    "duration": 11,
    "start_time": "2022-07-16T16:27:37.063Z"
   },
   {
    "duration": 544271,
    "start_time": "2022-07-16T16:28:31.987Z"
   },
   {
    "duration": 52,
    "start_time": "2022-07-16T16:37:40.385Z"
   },
   {
    "duration": 36465,
    "start_time": "2022-07-16T16:37:45.988Z"
   },
   {
    "duration": 31071,
    "start_time": "2022-07-16T16:39:05.976Z"
   },
   {
    "duration": 32043,
    "start_time": "2022-07-16T16:41:27.505Z"
   },
   {
    "duration": 33867,
    "start_time": "2022-07-16T16:42:38.788Z"
   },
   {
    "duration": 533,
    "start_time": "2022-07-16T16:44:50.655Z"
   },
   {
    "duration": 14,
    "start_time": "2022-07-16T16:45:10.067Z"
   },
   {
    "duration": 43162,
    "start_time": "2022-07-16T16:45:19.298Z"
   },
   {
    "duration": 13,
    "start_time": "2022-07-16T16:49:20.408Z"
   },
   {
    "duration": 180824,
    "start_time": "2022-07-16T16:50:23.747Z"
   },
   {
    "duration": 0,
    "start_time": "2022-07-16T16:53:24.573Z"
   },
   {
    "duration": 562,
    "start_time": "2022-07-16T16:53:25.501Z"
   },
   {
    "duration": 521,
    "start_time": "2022-07-16T16:54:05.451Z"
   },
   {
    "duration": 519,
    "start_time": "2022-07-16T16:55:35.243Z"
   },
   {
    "duration": 555,
    "start_time": "2022-07-16T16:55:48.807Z"
   },
   {
    "duration": 527,
    "start_time": "2022-07-16T16:57:18.371Z"
   },
   {
    "duration": 45756,
    "start_time": "2022-07-16T16:59:06.101Z"
   },
   {
    "duration": 0,
    "start_time": "2022-07-16T16:59:51.861Z"
   },
   {
    "duration": 171,
    "start_time": "2022-07-16T17:00:03.861Z"
   },
   {
    "duration": 10,
    "start_time": "2022-07-16T17:04:09.419Z"
   },
   {
    "duration": 17,
    "start_time": "2022-07-16T17:04:18.100Z"
   },
   {
    "duration": 10,
    "start_time": "2022-07-16T17:04:22.325Z"
   },
   {
    "duration": 6,
    "start_time": "2022-07-16T17:04:26.447Z"
   },
   {
    "duration": 29,
    "start_time": "2022-07-16T17:07:27.791Z"
   },
   {
    "duration": 7,
    "start_time": "2022-07-16T17:07:39.668Z"
   },
   {
    "duration": 173,
    "start_time": "2022-07-16T17:07:56.419Z"
   },
   {
    "duration": 171,
    "start_time": "2022-07-16T17:08:22.640Z"
   },
   {
    "duration": 178,
    "start_time": "2022-07-16T17:09:19.723Z"
   },
   {
    "duration": 183,
    "start_time": "2022-07-16T17:13:08.185Z"
   },
   {
    "duration": 187,
    "start_time": "2022-07-16T17:13:46.081Z"
   },
   {
    "duration": 228,
    "start_time": "2022-07-16T17:15:19.953Z"
   },
   {
    "duration": 361,
    "start_time": "2022-07-16T17:15:27.713Z"
   },
   {
    "duration": 459,
    "start_time": "2022-07-16T17:17:47.889Z"
   },
   {
    "duration": 226,
    "start_time": "2022-07-16T17:18:01.780Z"
   },
   {
    "duration": 826,
    "start_time": "2022-07-16T17:18:27.219Z"
   },
   {
    "duration": 1353,
    "start_time": "2022-07-16T17:22:57.279Z"
   },
   {
    "duration": 884,
    "start_time": "2022-07-16T17:22:58.634Z"
   },
   {
    "duration": 21,
    "start_time": "2022-07-16T17:22:59.522Z"
   },
   {
    "duration": 148,
    "start_time": "2022-07-16T17:22:59.546Z"
   },
   {
    "duration": 21,
    "start_time": "2022-07-16T17:22:59.695Z"
   },
   {
    "duration": 370,
    "start_time": "2022-07-16T17:22:59.718Z"
   },
   {
    "duration": 5,
    "start_time": "2022-07-16T17:23:00.089Z"
   },
   {
    "duration": 92,
    "start_time": "2022-07-16T17:23:00.095Z"
   },
   {
    "duration": 33,
    "start_time": "2022-07-16T17:23:00.189Z"
   },
   {
    "duration": 3,
    "start_time": "2022-07-16T17:23:00.225Z"
   },
   {
    "duration": 230,
    "start_time": "2022-07-16T17:23:00.245Z"
   },
   {
    "duration": 131,
    "start_time": "2022-07-16T17:23:00.477Z"
   },
   {
    "duration": 131,
    "start_time": "2022-07-16T17:23:00.610Z"
   },
   {
    "duration": 392,
    "start_time": "2022-07-16T17:23:00.742Z"
   },
   {
    "duration": 416,
    "start_time": "2022-07-16T17:23:01.136Z"
   },
   {
    "duration": 96,
    "start_time": "2022-07-16T17:23:01.554Z"
   },
   {
    "duration": 34,
    "start_time": "2022-07-16T17:23:01.651Z"
   },
   {
    "duration": 16,
    "start_time": "2022-07-16T17:23:01.687Z"
   },
   {
    "duration": 61,
    "start_time": "2022-07-16T17:23:01.705Z"
   },
   {
    "duration": 18,
    "start_time": "2022-07-16T17:23:01.767Z"
   },
   {
    "duration": 118,
    "start_time": "2022-07-16T17:23:01.787Z"
   },
   {
    "duration": 1677,
    "start_time": "2022-07-16T17:23:01.907Z"
   },
   {
    "duration": 1256,
    "start_time": "2022-07-16T17:23:03.585Z"
   },
   {
    "duration": 4,
    "start_time": "2022-07-16T17:23:04.843Z"
   },
   {
    "duration": 362,
    "start_time": "2022-07-16T17:23:04.848Z"
   },
   {
    "duration": 286,
    "start_time": "2022-07-16T17:23:05.211Z"
   },
   {
    "duration": 1251,
    "start_time": "2022-07-16T17:23:52.007Z"
   },
   {
    "duration": 823,
    "start_time": "2022-07-16T17:23:53.260Z"
   },
   {
    "duration": 18,
    "start_time": "2022-07-16T17:23:54.085Z"
   },
   {
    "duration": 151,
    "start_time": "2022-07-16T17:23:54.105Z"
   },
   {
    "duration": 25,
    "start_time": "2022-07-16T17:23:54.258Z"
   },
   {
    "duration": 366,
    "start_time": "2022-07-16T17:23:54.284Z"
   },
   {
    "duration": 5,
    "start_time": "2022-07-16T17:23:54.651Z"
   },
   {
    "duration": 97,
    "start_time": "2022-07-16T17:23:54.658Z"
   },
   {
    "duration": 33,
    "start_time": "2022-07-16T17:23:54.756Z"
   },
   {
    "duration": 3,
    "start_time": "2022-07-16T17:23:54.791Z"
   },
   {
    "duration": 211,
    "start_time": "2022-07-16T17:23:54.796Z"
   },
   {
    "duration": 128,
    "start_time": "2022-07-16T17:23:55.009Z"
   },
   {
    "duration": 125,
    "start_time": "2022-07-16T17:23:55.146Z"
   },
   {
    "duration": 382,
    "start_time": "2022-07-16T17:23:55.273Z"
   },
   {
    "duration": 394,
    "start_time": "2022-07-16T17:23:55.657Z"
   },
   {
    "duration": 95,
    "start_time": "2022-07-16T17:23:56.053Z"
   },
   {
    "duration": 34,
    "start_time": "2022-07-16T17:23:56.150Z"
   },
   {
    "duration": 19,
    "start_time": "2022-07-16T17:23:56.186Z"
   },
   {
    "duration": 62,
    "start_time": "2022-07-16T17:23:56.206Z"
   },
   {
    "duration": 19,
    "start_time": "2022-07-16T17:23:56.270Z"
   },
   {
    "duration": 109,
    "start_time": "2022-07-16T17:23:56.291Z"
   },
   {
    "duration": 1585,
    "start_time": "2022-07-16T17:23:56.402Z"
   },
   {
    "duration": 1312,
    "start_time": "2022-07-16T17:23:57.989Z"
   },
   {
    "duration": 4,
    "start_time": "2022-07-16T17:23:59.302Z"
   },
   {
    "duration": 370,
    "start_time": "2022-07-16T17:23:59.307Z"
   },
   {
    "duration": 282,
    "start_time": "2022-07-16T17:23:59.679Z"
   },
   {
    "duration": 260,
    "start_time": "2022-07-16T17:25:41.944Z"
   },
   {
    "duration": 263,
    "start_time": "2022-07-16T17:25:54.924Z"
   },
   {
    "duration": 1366,
    "start_time": "2022-07-16T17:26:46.046Z"
   },
   {
    "duration": 860,
    "start_time": "2022-07-16T17:26:47.413Z"
   },
   {
    "duration": 17,
    "start_time": "2022-07-16T17:26:48.275Z"
   },
   {
    "duration": 141,
    "start_time": "2022-07-16T17:26:48.293Z"
   },
   {
    "duration": 24,
    "start_time": "2022-07-16T17:26:48.447Z"
   },
   {
    "duration": 399,
    "start_time": "2022-07-16T17:26:48.473Z"
   },
   {
    "duration": 6,
    "start_time": "2022-07-16T17:26:48.876Z"
   },
   {
    "duration": 148,
    "start_time": "2022-07-16T17:26:48.884Z"
   },
   {
    "duration": 45,
    "start_time": "2022-07-16T17:26:49.034Z"
   },
   {
    "duration": 3,
    "start_time": "2022-07-16T17:26:49.081Z"
   },
   {
    "duration": 248,
    "start_time": "2022-07-16T17:26:49.087Z"
   },
   {
    "duration": 138,
    "start_time": "2022-07-16T17:26:49.336Z"
   },
   {
    "duration": 157,
    "start_time": "2022-07-16T17:26:49.476Z"
   },
   {
    "duration": 267,
    "start_time": "2022-07-16T17:26:49.645Z"
   },
   {
    "duration": 460,
    "start_time": "2022-07-16T17:26:49.914Z"
   },
   {
    "duration": 459,
    "start_time": "2022-07-16T17:26:50.376Z"
   },
   {
    "duration": 101,
    "start_time": "2022-07-16T17:26:50.836Z"
   },
   {
    "duration": 45,
    "start_time": "2022-07-16T17:26:50.946Z"
   },
   {
    "duration": 18,
    "start_time": "2022-07-16T17:26:50.993Z"
   },
   {
    "duration": 69,
    "start_time": "2022-07-16T17:26:51.013Z"
   },
   {
    "duration": 18,
    "start_time": "2022-07-16T17:26:51.084Z"
   },
   {
    "duration": 114,
    "start_time": "2022-07-16T17:26:51.103Z"
   },
   {
    "duration": 2005,
    "start_time": "2022-07-16T17:26:51.219Z"
   },
   {
    "duration": 1404,
    "start_time": "2022-07-16T17:26:53.226Z"
   },
   {
    "duration": 4,
    "start_time": "2022-07-16T17:26:54.632Z"
   },
   {
    "duration": 396,
    "start_time": "2022-07-16T17:26:54.646Z"
   },
   {
    "duration": 296,
    "start_time": "2022-07-16T17:26:55.045Z"
   },
   {
    "duration": 1357,
    "start_time": "2022-07-16T17:27:31.406Z"
   },
   {
    "duration": 846,
    "start_time": "2022-07-16T17:27:32.764Z"
   },
   {
    "duration": 17,
    "start_time": "2022-07-16T17:27:33.611Z"
   },
   {
    "duration": 145,
    "start_time": "2022-07-16T17:27:33.630Z"
   },
   {
    "duration": 26,
    "start_time": "2022-07-16T17:27:33.777Z"
   },
   {
    "duration": 403,
    "start_time": "2022-07-16T17:27:33.804Z"
   },
   {
    "duration": 4,
    "start_time": "2022-07-16T17:27:34.209Z"
   },
   {
    "duration": 93,
    "start_time": "2022-07-16T17:27:34.215Z"
   },
   {
    "duration": 104,
    "start_time": "2022-07-16T17:27:34.310Z"
   },
   {
    "duration": 0,
    "start_time": "2022-07-16T17:27:34.416Z"
   },
   {
    "duration": 0,
    "start_time": "2022-07-16T17:27:34.418Z"
   },
   {
    "duration": 0,
    "start_time": "2022-07-16T17:27:34.419Z"
   },
   {
    "duration": 0,
    "start_time": "2022-07-16T17:27:34.420Z"
   },
   {
    "duration": 0,
    "start_time": "2022-07-16T17:27:34.421Z"
   },
   {
    "duration": 0,
    "start_time": "2022-07-16T17:27:34.421Z"
   },
   {
    "duration": 0,
    "start_time": "2022-07-16T17:27:34.423Z"
   },
   {
    "duration": 0,
    "start_time": "2022-07-16T17:27:34.424Z"
   },
   {
    "duration": 0,
    "start_time": "2022-07-16T17:27:34.424Z"
   },
   {
    "duration": 0,
    "start_time": "2022-07-16T17:27:34.425Z"
   },
   {
    "duration": 0,
    "start_time": "2022-07-16T17:27:34.426Z"
   },
   {
    "duration": 0,
    "start_time": "2022-07-16T17:27:34.428Z"
   },
   {
    "duration": 0,
    "start_time": "2022-07-16T17:27:34.446Z"
   },
   {
    "duration": 0,
    "start_time": "2022-07-16T17:27:34.447Z"
   },
   {
    "duration": 1478,
    "start_time": "2022-07-16T17:27:49.010Z"
   },
   {
    "duration": 868,
    "start_time": "2022-07-16T17:27:50.490Z"
   },
   {
    "duration": 20,
    "start_time": "2022-07-16T17:27:51.360Z"
   },
   {
    "duration": 182,
    "start_time": "2022-07-16T17:27:51.382Z"
   },
   {
    "duration": 30,
    "start_time": "2022-07-16T17:27:51.565Z"
   },
   {
    "duration": 461,
    "start_time": "2022-07-16T17:27:51.597Z"
   },
   {
    "duration": 5,
    "start_time": "2022-07-16T17:27:52.060Z"
   },
   {
    "duration": 108,
    "start_time": "2022-07-16T17:27:52.068Z"
   },
   {
    "duration": 32,
    "start_time": "2022-07-16T17:27:52.177Z"
   },
   {
    "duration": 346,
    "start_time": "2022-07-16T17:27:52.212Z"
   },
   {
    "duration": 309,
    "start_time": "2022-07-16T17:27:52.560Z"
   },
   {
    "duration": 93,
    "start_time": "2022-07-16T17:27:52.870Z"
   },
   {
    "duration": 29,
    "start_time": "2022-07-16T17:27:52.964Z"
   },
   {
    "duration": 18,
    "start_time": "2022-07-16T17:27:52.995Z"
   },
   {
    "duration": 54,
    "start_time": "2022-07-16T17:27:53.015Z"
   },
   {
    "duration": 18,
    "start_time": "2022-07-16T17:27:53.071Z"
   },
   {
    "duration": 121,
    "start_time": "2022-07-16T17:27:53.091Z"
   },
   {
    "duration": 1579,
    "start_time": "2022-07-16T17:27:53.214Z"
   },
   {
    "duration": 1139,
    "start_time": "2022-07-16T17:27:54.795Z"
   },
   {
    "duration": 4,
    "start_time": "2022-07-16T17:27:55.935Z"
   },
   {
    "duration": 218,
    "start_time": "2022-07-16T17:27:55.946Z"
   },
   {
    "duration": 195901,
    "start_time": "2022-07-16T17:27:56.165Z"
   },
   {
    "duration": 171256,
    "start_time": "2022-07-16T17:31:20.024Z"
   },
   {
    "duration": 46,
    "start_time": "2022-07-16T17:40:41.390Z"
   },
   {
    "duration": 1386,
    "start_time": "2022-07-16T17:40:59.414Z"
   },
   {
    "duration": 1009,
    "start_time": "2022-07-16T17:41:00.802Z"
   },
   {
    "duration": 16,
    "start_time": "2022-07-16T17:41:01.813Z"
   },
   {
    "duration": 177,
    "start_time": "2022-07-16T17:41:01.831Z"
   },
   {
    "duration": 52,
    "start_time": "2022-07-16T17:41:02.009Z"
   },
   {
    "duration": 390,
    "start_time": "2022-07-16T17:41:02.063Z"
   },
   {
    "duration": 8,
    "start_time": "2022-07-16T17:41:02.455Z"
   },
   {
    "duration": 102,
    "start_time": "2022-07-16T17:41:02.464Z"
   },
   {
    "duration": 43,
    "start_time": "2022-07-16T17:41:02.569Z"
   },
   {
    "duration": 325,
    "start_time": "2022-07-16T17:41:02.616Z"
   },
   {
    "duration": 308,
    "start_time": "2022-07-16T17:41:02.943Z"
   },
   {
    "duration": 99,
    "start_time": "2022-07-16T17:41:03.254Z"
   },
   {
    "duration": 28,
    "start_time": "2022-07-16T17:41:03.355Z"
   },
   {
    "duration": 16,
    "start_time": "2022-07-16T17:41:03.384Z"
   },
   {
    "duration": 52,
    "start_time": "2022-07-16T17:41:03.402Z"
   },
   {
    "duration": 18,
    "start_time": "2022-07-16T17:41:03.455Z"
   },
   {
    "duration": 123,
    "start_time": "2022-07-16T17:41:03.475Z"
   },
   {
    "duration": 1710,
    "start_time": "2022-07-16T17:41:03.600Z"
   },
   {
    "duration": 1366,
    "start_time": "2022-07-16T17:41:05.311Z"
   },
   {
    "duration": 4,
    "start_time": "2022-07-16T17:41:06.679Z"
   },
   {
    "duration": 239,
    "start_time": "2022-07-16T17:41:06.684Z"
   },
   {
    "duration": 11576,
    "start_time": "2022-07-16T17:41:06.924Z"
   },
   {
    "duration": 0,
    "start_time": "2022-07-16T17:41:18.503Z"
   },
   {
    "duration": 0,
    "start_time": "2022-07-16T17:41:18.506Z"
   },
   {
    "duration": 87,
    "start_time": "2022-07-16T17:41:21.447Z"
   },
   {
    "duration": 52,
    "start_time": "2022-07-16T17:41:23.298Z"
   },
   {
    "duration": 56,
    "start_time": "2022-07-16T17:44:21.356Z"
   },
   {
    "duration": 56,
    "start_time": "2022-07-16T17:47:38.660Z"
   },
   {
    "duration": 17,
    "start_time": "2022-07-16T17:47:49.496Z"
   },
   {
    "duration": 12,
    "start_time": "2022-07-16T17:48:06.099Z"
   },
   {
    "duration": 49,
    "start_time": "2022-07-16T17:48:57.967Z"
   },
   {
    "duration": 68,
    "start_time": "2022-07-16T17:49:06.066Z"
   },
   {
    "duration": 17,
    "start_time": "2022-07-16T17:49:31.651Z"
   },
   {
    "duration": 1440,
    "start_time": "2022-07-16T17:49:44.640Z"
   },
   {
    "duration": 1034,
    "start_time": "2022-07-16T17:49:46.082Z"
   },
   {
    "duration": 23,
    "start_time": "2022-07-16T17:49:47.118Z"
   },
   {
    "duration": 172,
    "start_time": "2022-07-16T17:49:47.147Z"
   },
   {
    "duration": 49,
    "start_time": "2022-07-16T17:49:47.321Z"
   },
   {
    "duration": 407,
    "start_time": "2022-07-16T17:49:47.373Z"
   },
   {
    "duration": 6,
    "start_time": "2022-07-16T17:49:47.782Z"
   },
   {
    "duration": 105,
    "start_time": "2022-07-16T17:49:47.790Z"
   },
   {
    "duration": 24,
    "start_time": "2022-07-16T17:49:47.896Z"
   },
   {
    "duration": 374,
    "start_time": "2022-07-16T17:49:47.922Z"
   },
   {
    "duration": 356,
    "start_time": "2022-07-16T17:49:48.297Z"
   },
   {
    "duration": 117,
    "start_time": "2022-07-16T17:49:48.654Z"
   },
   {
    "duration": 31,
    "start_time": "2022-07-16T17:49:48.773Z"
   },
   {
    "duration": 50,
    "start_time": "2022-07-16T17:49:48.806Z"
   },
   {
    "duration": 45,
    "start_time": "2022-07-16T17:49:48.860Z"
   },
   {
    "duration": 35,
    "start_time": "2022-07-16T17:49:48.908Z"
   },
   {
    "duration": 169,
    "start_time": "2022-07-16T17:49:48.946Z"
   },
   {
    "duration": 1952,
    "start_time": "2022-07-16T17:49:49.117Z"
   },
   {
    "duration": 1452,
    "start_time": "2022-07-16T17:49:51.071Z"
   },
   {
    "duration": 5,
    "start_time": "2022-07-16T17:49:52.525Z"
   },
   {
    "duration": 329,
    "start_time": "2022-07-16T17:49:52.532Z"
   },
   {
    "duration": 17350,
    "start_time": "2022-07-16T17:49:52.863Z"
   },
   {
    "duration": 0,
    "start_time": "2022-07-16T17:50:10.216Z"
   },
   {
    "duration": 0,
    "start_time": "2022-07-16T17:50:10.220Z"
   },
   {
    "duration": 68,
    "start_time": "2022-07-16T17:50:15.852Z"
   },
   {
    "duration": 122,
    "start_time": "2022-07-16T17:53:39.479Z"
   },
   {
    "duration": 70,
    "start_time": "2022-07-16T18:07:46.028Z"
   },
   {
    "duration": 58,
    "start_time": "2022-07-16T18:07:58.635Z"
   },
   {
    "duration": 31211,
    "start_time": "2022-07-16T18:08:00.356Z"
   },
   {
    "duration": 62,
    "start_time": "2022-07-16T18:09:59.759Z"
   },
   {
    "duration": 26712,
    "start_time": "2022-07-16T18:10:05.545Z"
   },
   {
    "duration": 58,
    "start_time": "2022-07-16T18:10:34.799Z"
   },
   {
    "duration": 27208,
    "start_time": "2022-07-16T18:10:37.240Z"
   },
   {
    "duration": 84,
    "start_time": "2022-07-16T18:11:21.681Z"
   },
   {
    "duration": 32433,
    "start_time": "2022-07-16T18:11:25.939Z"
   },
   {
    "duration": 68,
    "start_time": "2022-07-16T18:12:33.120Z"
   },
   {
    "duration": 32189,
    "start_time": "2022-07-16T18:12:36.164Z"
   },
   {
    "duration": 231,
    "start_time": "2022-07-16T18:16:51.753Z"
   },
   {
    "duration": 53,
    "start_time": "2022-07-16T18:16:56.055Z"
   },
   {
    "duration": 40627,
    "start_time": "2022-07-16T18:17:00.333Z"
   },
   {
    "duration": 61,
    "start_time": "2022-07-16T18:25:48.865Z"
   },
   {
    "duration": 1543,
    "start_time": "2022-07-16T18:26:01.149Z"
   },
   {
    "duration": 874,
    "start_time": "2022-07-16T18:26:02.694Z"
   },
   {
    "duration": 21,
    "start_time": "2022-07-16T18:26:03.570Z"
   },
   {
    "duration": 151,
    "start_time": "2022-07-16T18:26:03.594Z"
   },
   {
    "duration": 31,
    "start_time": "2022-07-16T18:26:03.748Z"
   },
   {
    "duration": 403,
    "start_time": "2022-07-16T18:26:03.780Z"
   },
   {
    "duration": 6,
    "start_time": "2022-07-16T18:26:04.186Z"
   },
   {
    "duration": 143,
    "start_time": "2022-07-16T18:26:04.194Z"
   },
   {
    "duration": 36,
    "start_time": "2022-07-16T18:26:04.339Z"
   },
   {
    "duration": 320,
    "start_time": "2022-07-16T18:26:04.377Z"
   },
   {
    "duration": 293,
    "start_time": "2022-07-16T18:26:04.699Z"
   },
   {
    "duration": 109,
    "start_time": "2022-07-16T18:26:04.994Z"
   },
   {
    "duration": 50,
    "start_time": "2022-07-16T18:26:05.105Z"
   },
   {
    "duration": 18,
    "start_time": "2022-07-16T18:26:05.159Z"
   },
   {
    "duration": 35,
    "start_time": "2022-07-16T18:26:05.179Z"
   },
   {
    "duration": 41,
    "start_time": "2022-07-16T18:26:05.216Z"
   },
   {
    "duration": 120,
    "start_time": "2022-07-16T18:26:05.259Z"
   },
   {
    "duration": 1733,
    "start_time": "2022-07-16T18:26:05.380Z"
   },
   {
    "duration": 1297,
    "start_time": "2022-07-16T18:26:07.116Z"
   },
   {
    "duration": 5,
    "start_time": "2022-07-16T18:26:08.416Z"
   },
   {
    "duration": 257,
    "start_time": "2022-07-16T18:26:08.423Z"
   },
   {
    "duration": 217,
    "start_time": "2022-07-16T18:26:08.682Z"
   },
   {
    "duration": 1,
    "start_time": "2022-07-16T18:26:08.901Z"
   },
   {
    "duration": 0,
    "start_time": "2022-07-16T18:26:08.903Z"
   },
   {
    "duration": 0,
    "start_time": "2022-07-16T18:26:08.904Z"
   },
   {
    "duration": 0,
    "start_time": "2022-07-16T18:26:08.907Z"
   },
   {
    "duration": 0,
    "start_time": "2022-07-16T18:26:08.909Z"
   },
   {
    "duration": 82,
    "start_time": "2022-07-16T18:26:39.719Z"
   },
   {
    "duration": 3,
    "start_time": "2022-07-16T18:26:42.453Z"
   },
   {
    "duration": 3,
    "start_time": "2022-07-16T18:26:43.602Z"
   },
   {
    "duration": 4,
    "start_time": "2022-07-16T18:26:44.915Z"
   },
   {
    "duration": 156,
    "start_time": "2022-07-16T18:26:46.722Z"
   },
   {
    "duration": 1448,
    "start_time": "2022-07-16T18:27:03.689Z"
   },
   {
    "duration": 890,
    "start_time": "2022-07-16T18:27:05.139Z"
   },
   {
    "duration": 28,
    "start_time": "2022-07-16T18:27:06.032Z"
   },
   {
    "duration": 152,
    "start_time": "2022-07-16T18:27:06.063Z"
   },
   {
    "duration": 38,
    "start_time": "2022-07-16T18:27:06.217Z"
   },
   {
    "duration": 406,
    "start_time": "2022-07-16T18:27:06.257Z"
   },
   {
    "duration": 5,
    "start_time": "2022-07-16T18:27:06.668Z"
   },
   {
    "duration": 99,
    "start_time": "2022-07-16T18:27:06.675Z"
   },
   {
    "duration": 24,
    "start_time": "2022-07-16T18:27:06.776Z"
   },
   {
    "duration": 314,
    "start_time": "2022-07-16T18:27:06.803Z"
   },
   {
    "duration": 310,
    "start_time": "2022-07-16T18:27:07.119Z"
   },
   {
    "duration": 103,
    "start_time": "2022-07-16T18:27:07.431Z"
   },
   {
    "duration": 38,
    "start_time": "2022-07-16T18:27:07.548Z"
   },
   {
    "duration": 20,
    "start_time": "2022-07-16T18:27:07.587Z"
   },
   {
    "duration": 57,
    "start_time": "2022-07-16T18:27:07.610Z"
   },
   {
    "duration": 20,
    "start_time": "2022-07-16T18:27:07.669Z"
   },
   {
    "duration": 114,
    "start_time": "2022-07-16T18:27:07.690Z"
   },
   {
    "duration": 1881,
    "start_time": "2022-07-16T18:27:07.806Z"
   },
   {
    "duration": 1260,
    "start_time": "2022-07-16T18:27:09.689Z"
   },
   {
    "duration": 4,
    "start_time": "2022-07-16T18:27:10.951Z"
   },
   {
    "duration": 227,
    "start_time": "2022-07-16T18:27:10.956Z"
   },
   {
    "duration": 66,
    "start_time": "2022-07-16T18:27:11.184Z"
   },
   {
    "duration": 3,
    "start_time": "2022-07-16T18:27:11.252Z"
   },
   {
    "duration": 7,
    "start_time": "2022-07-16T18:27:11.256Z"
   },
   {
    "duration": 6,
    "start_time": "2022-07-16T18:27:11.265Z"
   },
   {
    "duration": 260,
    "start_time": "2022-07-16T18:27:11.272Z"
   },
   {
    "duration": 141,
    "start_time": "2022-07-16T18:27:11.534Z"
   },
   {
    "duration": 74,
    "start_time": "2022-07-16T18:28:36.381Z"
   },
   {
    "duration": 47,
    "start_time": "2022-07-16T18:29:10.195Z"
   },
   {
    "duration": 4,
    "start_time": "2022-07-16T18:29:11.575Z"
   },
   {
    "duration": 2,
    "start_time": "2022-07-16T18:29:12.688Z"
   },
   {
    "duration": 3,
    "start_time": "2022-07-16T18:29:13.780Z"
   },
   {
    "duration": 35400,
    "start_time": "2022-07-16T18:29:15.451Z"
   },
   {
    "duration": 59,
    "start_time": "2022-07-16T18:31:25.047Z"
   },
   {
    "duration": 55,
    "start_time": "2022-07-16T18:33:26.806Z"
   },
   {
    "duration": 56,
    "start_time": "2022-07-16T18:34:04.250Z"
   },
   {
    "duration": 55,
    "start_time": "2022-07-16T18:34:49.736Z"
   },
   {
    "duration": 3,
    "start_time": "2022-07-16T18:34:57.941Z"
   },
   {
    "duration": 4,
    "start_time": "2022-07-16T18:35:00.440Z"
   },
   {
    "duration": 107,
    "start_time": "2022-07-16T18:35:02.451Z"
   },
   {
    "duration": 71,
    "start_time": "2022-07-16T18:36:08.728Z"
   },
   {
    "duration": 32857,
    "start_time": "2022-07-16T18:36:11.300Z"
   },
   {
    "duration": 654,
    "start_time": "2022-07-16T18:38:21.557Z"
   },
   {
    "duration": 3,
    "start_time": "2022-07-16T18:41:01.788Z"
   },
   {
    "duration": 33407,
    "start_time": "2022-07-16T18:41:07.244Z"
   },
   {
    "duration": 1422,
    "start_time": "2022-07-16T18:41:58.565Z"
   },
   {
    "duration": 832,
    "start_time": "2022-07-16T18:41:59.989Z"
   },
   {
    "duration": 25,
    "start_time": "2022-07-16T18:42:00.822Z"
   },
   {
    "duration": 138,
    "start_time": "2022-07-16T18:42:00.849Z"
   },
   {
    "duration": 29,
    "start_time": "2022-07-16T18:42:00.989Z"
   },
   {
    "duration": 389,
    "start_time": "2022-07-16T18:42:01.020Z"
   },
   {
    "duration": 6,
    "start_time": "2022-07-16T18:42:01.410Z"
   },
   {
    "duration": 111,
    "start_time": "2022-07-16T18:42:01.417Z"
   },
   {
    "duration": 33,
    "start_time": "2022-07-16T18:42:01.530Z"
   },
   {
    "duration": 318,
    "start_time": "2022-07-16T18:42:01.566Z"
   },
   {
    "duration": 327,
    "start_time": "2022-07-16T18:42:01.885Z"
   },
   {
    "duration": 104,
    "start_time": "2022-07-16T18:42:02.214Z"
   },
   {
    "duration": 35,
    "start_time": "2022-07-16T18:42:02.319Z"
   },
   {
    "duration": 16,
    "start_time": "2022-07-16T18:42:02.356Z"
   },
   {
    "duration": 26,
    "start_time": "2022-07-16T18:42:02.374Z"
   },
   {
    "duration": 44,
    "start_time": "2022-07-16T18:42:02.402Z"
   },
   {
    "duration": 106,
    "start_time": "2022-07-16T18:42:02.448Z"
   },
   {
    "duration": 1705,
    "start_time": "2022-07-16T18:42:02.555Z"
   },
   {
    "duration": 1243,
    "start_time": "2022-07-16T18:42:04.262Z"
   },
   {
    "duration": 5,
    "start_time": "2022-07-16T18:42:05.508Z"
   },
   {
    "duration": 238,
    "start_time": "2022-07-16T18:42:05.515Z"
   },
   {
    "duration": 56,
    "start_time": "2022-07-16T18:42:05.755Z"
   },
   {
    "duration": 3,
    "start_time": "2022-07-16T18:42:05.813Z"
   },
   {
    "duration": 7,
    "start_time": "2022-07-16T18:42:05.818Z"
   },
   {
    "duration": 22,
    "start_time": "2022-07-16T18:42:05.827Z"
   },
   {
    "duration": 36099,
    "start_time": "2022-07-16T18:42:05.851Z"
   },
   {
    "duration": 177,
    "start_time": "2022-07-16T18:42:41.952Z"
   },
   {
    "duration": 72,
    "start_time": "2022-07-16T18:42:42.133Z"
   },
   {
    "duration": 1399,
    "start_time": "2022-07-16T18:44:07.254Z"
   },
   {
    "duration": 907,
    "start_time": "2022-07-16T18:44:08.655Z"
   },
   {
    "duration": 17,
    "start_time": "2022-07-16T18:44:09.563Z"
   },
   {
    "duration": 165,
    "start_time": "2022-07-16T18:44:09.581Z"
   },
   {
    "duration": 26,
    "start_time": "2022-07-16T18:44:09.748Z"
   },
   {
    "duration": 382,
    "start_time": "2022-07-16T18:44:09.776Z"
   },
   {
    "duration": 5,
    "start_time": "2022-07-16T18:44:10.160Z"
   },
   {
    "duration": 96,
    "start_time": "2022-07-16T18:44:10.166Z"
   },
   {
    "duration": 22,
    "start_time": "2022-07-16T18:44:10.263Z"
   },
   {
    "duration": 317,
    "start_time": "2022-07-16T18:44:10.287Z"
   },
   {
    "duration": 314,
    "start_time": "2022-07-16T18:44:10.605Z"
   },
   {
    "duration": 94,
    "start_time": "2022-07-16T18:44:10.921Z"
   },
   {
    "duration": 39,
    "start_time": "2022-07-16T18:44:11.016Z"
   },
   {
    "duration": 16,
    "start_time": "2022-07-16T18:44:11.056Z"
   },
   {
    "duration": 26,
    "start_time": "2022-07-16T18:44:11.074Z"
   },
   {
    "duration": 44,
    "start_time": "2022-07-16T18:44:11.102Z"
   },
   {
    "duration": 108,
    "start_time": "2022-07-16T18:44:11.148Z"
   },
   {
    "duration": 1639,
    "start_time": "2022-07-16T18:44:11.258Z"
   },
   {
    "duration": 1237,
    "start_time": "2022-07-16T18:44:12.898Z"
   },
   {
    "duration": 10,
    "start_time": "2022-07-16T18:44:14.137Z"
   },
   {
    "duration": 223,
    "start_time": "2022-07-16T18:44:14.148Z"
   },
   {
    "duration": 54,
    "start_time": "2022-07-16T18:44:14.372Z"
   },
   {
    "duration": 3,
    "start_time": "2022-07-16T18:44:14.428Z"
   },
   {
    "duration": 17,
    "start_time": "2022-07-16T18:44:14.433Z"
   },
   {
    "duration": 8,
    "start_time": "2022-07-16T18:44:14.451Z"
   },
   {
    "duration": 35496,
    "start_time": "2022-07-16T18:44:14.461Z"
   },
   {
    "duration": 33401,
    "start_time": "2022-07-16T18:44:49.959Z"
   },
   {
    "duration": 33901,
    "start_time": "2022-07-16T18:45:23.363Z"
   },
   {
    "duration": 3,
    "start_time": "2022-07-16T18:46:56.909Z"
   },
   {
    "duration": 37839,
    "start_time": "2022-07-16T18:48:29.455Z"
   },
   {
    "duration": 1347,
    "start_time": "2022-07-16T18:49:56.320Z"
   },
   {
    "duration": 821,
    "start_time": "2022-07-16T18:49:57.669Z"
   },
   {
    "duration": 27,
    "start_time": "2022-07-16T18:49:58.493Z"
   },
   {
    "duration": 155,
    "start_time": "2022-07-16T18:49:58.523Z"
   },
   {
    "duration": 31,
    "start_time": "2022-07-16T18:49:58.681Z"
   },
   {
    "duration": 467,
    "start_time": "2022-07-16T18:49:58.714Z"
   },
   {
    "duration": 6,
    "start_time": "2022-07-16T18:49:59.185Z"
   },
   {
    "duration": 99,
    "start_time": "2022-07-16T18:49:59.192Z"
   },
   {
    "duration": 29,
    "start_time": "2022-07-16T18:49:59.293Z"
   },
   {
    "duration": 340,
    "start_time": "2022-07-16T18:49:59.325Z"
   },
   {
    "duration": 301,
    "start_time": "2022-07-16T18:49:59.667Z"
   },
   {
    "duration": 99,
    "start_time": "2022-07-16T18:49:59.970Z"
   },
   {
    "duration": 28,
    "start_time": "2022-07-16T18:50:00.070Z"
   },
   {
    "duration": 18,
    "start_time": "2022-07-16T18:50:00.100Z"
   },
   {
    "duration": 52,
    "start_time": "2022-07-16T18:50:00.120Z"
   },
   {
    "duration": 19,
    "start_time": "2022-07-16T18:50:00.174Z"
   },
   {
    "duration": 140,
    "start_time": "2022-07-16T18:50:00.195Z"
   },
   {
    "duration": 1779,
    "start_time": "2022-07-16T18:50:00.337Z"
   },
   {
    "duration": 1320,
    "start_time": "2022-07-16T18:50:02.119Z"
   },
   {
    "duration": 7,
    "start_time": "2022-07-16T18:50:03.441Z"
   },
   {
    "duration": 243,
    "start_time": "2022-07-16T18:50:03.450Z"
   },
   {
    "duration": 63,
    "start_time": "2022-07-16T18:50:03.695Z"
   },
   {
    "duration": 3,
    "start_time": "2022-07-16T18:50:03.760Z"
   },
   {
    "duration": 7,
    "start_time": "2022-07-16T18:50:03.765Z"
   },
   {
    "duration": 7,
    "start_time": "2022-07-16T18:50:03.774Z"
   },
   {
    "duration": 39669,
    "start_time": "2022-07-16T18:50:03.783Z"
   },
   {
    "duration": 36097,
    "start_time": "2022-07-16T18:50:43.453Z"
   },
   {
    "duration": 36097,
    "start_time": "2022-07-16T18:51:19.552Z"
   },
   {
    "duration": 49,
    "start_time": "2022-07-16T18:53:11.844Z"
   },
   {
    "duration": 51,
    "start_time": "2022-07-16T18:53:31.808Z"
   },
   {
    "duration": 109,
    "start_time": "2022-07-16T18:53:39.355Z"
   },
   {
    "duration": 476,
    "start_time": "2022-07-16T18:53:48.947Z"
   },
   {
    "duration": 450,
    "start_time": "2022-07-16T18:54:33.214Z"
   },
   {
    "duration": 447,
    "start_time": "2022-07-16T18:54:54.499Z"
   },
   {
    "duration": 461,
    "start_time": "2022-07-16T18:55:13.699Z"
   },
   {
    "duration": 1370,
    "start_time": "2022-07-16T18:55:31.397Z"
   },
   {
    "duration": 880,
    "start_time": "2022-07-16T18:55:32.769Z"
   },
   {
    "duration": 17,
    "start_time": "2022-07-16T18:55:33.650Z"
   },
   {
    "duration": 152,
    "start_time": "2022-07-16T18:55:33.668Z"
   },
   {
    "duration": 34,
    "start_time": "2022-07-16T18:55:33.821Z"
   },
   {
    "duration": 470,
    "start_time": "2022-07-16T18:55:33.857Z"
   },
   {
    "duration": 6,
    "start_time": "2022-07-16T18:55:34.329Z"
   },
   {
    "duration": 104,
    "start_time": "2022-07-16T18:55:34.346Z"
   },
   {
    "duration": 25,
    "start_time": "2022-07-16T18:55:34.451Z"
   },
   {
    "duration": 340,
    "start_time": "2022-07-16T18:55:34.480Z"
   },
   {
    "duration": 345,
    "start_time": "2022-07-16T18:55:34.822Z"
   },
   {
    "duration": 117,
    "start_time": "2022-07-16T18:55:35.169Z"
   },
   {
    "duration": 31,
    "start_time": "2022-07-16T18:55:35.287Z"
   },
   {
    "duration": 37,
    "start_time": "2022-07-16T18:55:35.320Z"
   },
   {
    "duration": 27,
    "start_time": "2022-07-16T18:55:35.359Z"
   },
   {
    "duration": 20,
    "start_time": "2022-07-16T18:55:35.389Z"
   },
   {
    "duration": 142,
    "start_time": "2022-07-16T18:55:35.411Z"
   },
   {
    "duration": 1700,
    "start_time": "2022-07-16T18:55:35.555Z"
   },
   {
    "duration": 1379,
    "start_time": "2022-07-16T18:55:37.257Z"
   },
   {
    "duration": 9,
    "start_time": "2022-07-16T18:55:38.639Z"
   },
   {
    "duration": 276,
    "start_time": "2022-07-16T18:55:38.650Z"
   },
   {
    "duration": 71,
    "start_time": "2022-07-16T18:55:38.929Z"
   },
   {
    "duration": 4,
    "start_time": "2022-07-16T18:55:39.002Z"
   },
   {
    "duration": 39,
    "start_time": "2022-07-16T18:55:39.008Z"
   },
   {
    "duration": 15,
    "start_time": "2022-07-16T18:55:39.050Z"
   },
   {
    "duration": 50193,
    "start_time": "2022-07-16T18:55:39.067Z"
   },
   {
    "duration": 33113,
    "start_time": "2022-07-16T18:56:29.345Z"
   },
   {
    "duration": 36091,
    "start_time": "2022-07-16T18:57:02.462Z"
   },
   {
    "duration": 25,
    "start_time": "2022-07-16T18:57:38.555Z"
   },
   {
    "duration": 539,
    "start_time": "2022-07-16T18:57:38.582Z"
   },
   {
    "duration": 406,
    "start_time": "2022-07-16T18:58:20.320Z"
   },
   {
    "duration": 444,
    "start_time": "2022-07-16T18:58:30.449Z"
   },
   {
    "duration": 397,
    "start_time": "2022-07-16T18:58:45.792Z"
   },
   {
    "duration": 105,
    "start_time": "2022-07-16T18:59:44.427Z"
   },
   {
    "duration": 424,
    "start_time": "2022-07-16T18:59:48.420Z"
   },
   {
    "duration": 596,
    "start_time": "2022-07-16T19:00:01.972Z"
   },
   {
    "duration": 531,
    "start_time": "2022-07-16T19:00:12.463Z"
   },
   {
    "duration": 557,
    "start_time": "2022-07-16T19:00:28.359Z"
   },
   {
    "duration": 106,
    "start_time": "2022-07-16T19:01:34.699Z"
   },
   {
    "duration": 11,
    "start_time": "2022-07-16T19:02:15.915Z"
   },
   {
    "duration": 10,
    "start_time": "2022-07-16T19:02:46.187Z"
   },
   {
    "duration": 12,
    "start_time": "2022-07-16T19:03:08.052Z"
   },
   {
    "duration": 343,
    "start_time": "2022-07-16T19:03:23.771Z"
   },
   {
    "duration": 10,
    "start_time": "2022-07-16T19:03:27.264Z"
   },
   {
    "duration": 515,
    "start_time": "2022-07-16T19:03:44.426Z"
   },
   {
    "duration": 194,
    "start_time": "2022-07-16T19:03:55.663Z"
   },
   {
    "duration": 199,
    "start_time": "2022-07-16T19:04:00.330Z"
   },
   {
    "duration": 573,
    "start_time": "2022-07-16T19:04:09.179Z"
   },
   {
    "duration": 241,
    "start_time": "2022-07-16T19:04:34.958Z"
   },
   {
    "duration": 211,
    "start_time": "2022-07-16T19:04:40.778Z"
   },
   {
    "duration": 248,
    "start_time": "2022-07-16T19:05:07.522Z"
   },
   {
    "duration": 239,
    "start_time": "2022-07-16T19:05:34.378Z"
   },
   {
    "duration": 263,
    "start_time": "2022-07-16T19:06:50.994Z"
   },
   {
    "duration": 865,
    "start_time": "2022-07-16T19:06:58.308Z"
   },
   {
    "duration": 900,
    "start_time": "2022-07-16T19:07:47.093Z"
   },
   {
    "duration": 1455,
    "start_time": "2022-07-17T06:54:29.657Z"
   },
   {
    "duration": 1030,
    "start_time": "2022-07-17T06:54:31.114Z"
   },
   {
    "duration": 16,
    "start_time": "2022-07-17T06:54:32.145Z"
   },
   {
    "duration": 130,
    "start_time": "2022-07-17T06:54:32.163Z"
   },
   {
    "duration": 19,
    "start_time": "2022-07-17T06:54:32.294Z"
   },
   {
    "duration": 338,
    "start_time": "2022-07-17T06:54:32.315Z"
   },
   {
    "duration": 8,
    "start_time": "2022-07-17T06:54:32.654Z"
   },
   {
    "duration": 100,
    "start_time": "2022-07-17T06:54:32.664Z"
   },
   {
    "duration": 25,
    "start_time": "2022-07-17T06:54:32.766Z"
   },
   {
    "duration": 289,
    "start_time": "2022-07-17T06:54:32.794Z"
   },
   {
    "duration": 265,
    "start_time": "2022-07-17T06:54:33.084Z"
   },
   {
    "duration": 81,
    "start_time": "2022-07-17T06:54:33.351Z"
   },
   {
    "duration": 39,
    "start_time": "2022-07-17T06:54:33.433Z"
   },
   {
    "duration": 15,
    "start_time": "2022-07-17T06:54:33.473Z"
   },
   {
    "duration": 25,
    "start_time": "2022-07-17T06:54:33.490Z"
   },
   {
    "duration": 17,
    "start_time": "2022-07-17T06:54:33.516Z"
   },
   {
    "duration": 102,
    "start_time": "2022-07-17T06:54:33.560Z"
   },
   {
    "duration": 1668,
    "start_time": "2022-07-17T06:54:33.665Z"
   },
   {
    "duration": 1246,
    "start_time": "2022-07-17T06:54:35.335Z"
   },
   {
    "duration": 4,
    "start_time": "2022-07-17T06:54:36.583Z"
   },
   {
    "duration": 214,
    "start_time": "2022-07-17T06:54:36.588Z"
   },
   {
    "duration": 57,
    "start_time": "2022-07-17T06:54:36.804Z"
   },
   {
    "duration": 3,
    "start_time": "2022-07-17T06:54:36.862Z"
   },
   {
    "duration": 12,
    "start_time": "2022-07-17T06:54:36.867Z"
   },
   {
    "duration": 9,
    "start_time": "2022-07-17T06:54:36.880Z"
   },
   {
    "duration": 37470,
    "start_time": "2022-07-17T06:54:36.890Z"
   },
   {
    "duration": 44204,
    "start_time": "2022-07-17T06:55:14.362Z"
   },
   {
    "duration": 35106,
    "start_time": "2022-07-17T06:55:58.569Z"
   },
   {
    "duration": 111,
    "start_time": "2022-07-17T06:56:33.676Z"
   },
   {
    "duration": 341,
    "start_time": "2022-07-17T06:56:33.789Z"
   },
   {
    "duration": 952,
    "start_time": "2022-07-17T06:57:35.762Z"
   },
   {
    "duration": 720,
    "start_time": "2022-07-17T06:57:46.598Z"
   },
   {
    "duration": 724,
    "start_time": "2022-07-17T06:58:33.742Z"
   },
   {
    "duration": 782,
    "start_time": "2022-07-17T06:59:20.057Z"
   },
   {
    "duration": 854,
    "start_time": "2022-07-17T07:00:28.401Z"
   },
   {
    "duration": 1293,
    "start_time": "2022-07-17T07:00:43.840Z"
   },
   {
    "duration": 4,
    "start_time": "2022-07-17T07:01:03.061Z"
   },
   {
    "duration": 1264,
    "start_time": "2022-07-17T07:01:28.314Z"
   },
   {
    "duration": 767,
    "start_time": "2022-07-17T07:01:29.580Z"
   },
   {
    "duration": 17,
    "start_time": "2022-07-17T07:01:30.349Z"
   },
   {
    "duration": 148,
    "start_time": "2022-07-17T07:01:30.368Z"
   },
   {
    "duration": 22,
    "start_time": "2022-07-17T07:01:30.518Z"
   },
   {
    "duration": 378,
    "start_time": "2022-07-17T07:01:30.542Z"
   },
   {
    "duration": 4,
    "start_time": "2022-07-17T07:01:30.922Z"
   },
   {
    "duration": 102,
    "start_time": "2022-07-17T07:01:30.927Z"
   },
   {
    "duration": 22,
    "start_time": "2022-07-17T07:01:31.031Z"
   },
   {
    "duration": 283,
    "start_time": "2022-07-17T07:01:31.062Z"
   },
   {
    "duration": 286,
    "start_time": "2022-07-17T07:01:31.347Z"
   },
   {
    "duration": 91,
    "start_time": "2022-07-17T07:01:31.635Z"
   },
   {
    "duration": 33,
    "start_time": "2022-07-17T07:01:31.728Z"
   },
   {
    "duration": 16,
    "start_time": "2022-07-17T07:01:31.763Z"
   },
   {
    "duration": 27,
    "start_time": "2022-07-17T07:01:31.780Z"
   },
   {
    "duration": 17,
    "start_time": "2022-07-17T07:01:31.808Z"
   },
   {
    "duration": 127,
    "start_time": "2022-07-17T07:01:31.827Z"
   },
   {
    "duration": 1651,
    "start_time": "2022-07-17T07:01:31.955Z"
   },
   {
    "duration": 1169,
    "start_time": "2022-07-17T07:01:33.608Z"
   },
   {
    "duration": 4,
    "start_time": "2022-07-17T07:01:34.779Z"
   },
   {
    "duration": 212,
    "start_time": "2022-07-17T07:01:34.785Z"
   },
   {
    "duration": 61,
    "start_time": "2022-07-17T07:01:34.999Z"
   },
   {
    "duration": 3,
    "start_time": "2022-07-17T07:01:35.062Z"
   },
   {
    "duration": 9,
    "start_time": "2022-07-17T07:01:35.067Z"
   },
   {
    "duration": 6,
    "start_time": "2022-07-17T07:01:35.078Z"
   },
   {
    "duration": 45876,
    "start_time": "2022-07-17T07:01:35.085Z"
   },
   {
    "duration": 35512,
    "start_time": "2022-07-17T07:02:20.964Z"
   },
   {
    "duration": 36296,
    "start_time": "2022-07-17T07:02:56.480Z"
   },
   {
    "duration": 108,
    "start_time": "2022-07-17T07:03:32.777Z"
   },
   {
    "duration": 211,
    "start_time": "2022-07-17T07:03:32.886Z"
   },
   {
    "duration": 4,
    "start_time": "2022-07-17T07:04:32.212Z"
   },
   {
    "duration": 22,
    "start_time": "2022-07-17T07:04:36.985Z"
   },
   {
    "duration": 117,
    "start_time": "2022-07-17T14:26:15.258Z"
   },
   {
    "duration": 17,
    "start_time": "2022-07-17T14:30:55.565Z"
   },
   {
    "duration": 1479,
    "start_time": "2022-07-17T14:31:00.921Z"
   },
   {
    "duration": 803,
    "start_time": "2022-07-17T14:31:02.402Z"
   },
   {
    "duration": 16,
    "start_time": "2022-07-17T14:31:03.207Z"
   },
   {
    "duration": 152,
    "start_time": "2022-07-17T14:31:03.225Z"
   },
   {
    "duration": 22,
    "start_time": "2022-07-17T14:31:03.378Z"
   },
   {
    "duration": 375,
    "start_time": "2022-07-17T14:31:03.401Z"
   },
   {
    "duration": 4,
    "start_time": "2022-07-17T14:31:03.778Z"
   },
   {
    "duration": 98,
    "start_time": "2022-07-17T14:31:03.784Z"
   },
   {
    "duration": 24,
    "start_time": "2022-07-17T14:31:03.884Z"
   },
   {
    "duration": 308,
    "start_time": "2022-07-17T14:31:03.910Z"
   },
   {
    "duration": 308,
    "start_time": "2022-07-17T14:31:04.219Z"
   },
   {
    "duration": 91,
    "start_time": "2022-07-17T14:31:04.528Z"
   },
   {
    "duration": 26,
    "start_time": "2022-07-17T14:31:04.620Z"
   },
   {
    "duration": 43,
    "start_time": "2022-07-17T14:31:04.647Z"
   },
   {
    "duration": 29,
    "start_time": "2022-07-17T14:31:04.694Z"
   },
   {
    "duration": 17,
    "start_time": "2022-07-17T14:31:04.724Z"
   },
   {
    "duration": 110,
    "start_time": "2022-07-17T14:31:04.743Z"
   },
   {
    "duration": 1859,
    "start_time": "2022-07-17T14:31:04.854Z"
   },
   {
    "duration": 1213,
    "start_time": "2022-07-17T14:31:06.715Z"
   },
   {
    "duration": 3,
    "start_time": "2022-07-17T14:31:07.930Z"
   },
   {
    "duration": 222,
    "start_time": "2022-07-17T14:31:07.935Z"
   },
   {
    "duration": 58,
    "start_time": "2022-07-17T14:31:08.159Z"
   },
   {
    "duration": 4,
    "start_time": "2022-07-17T14:31:08.218Z"
   },
   {
    "duration": 13,
    "start_time": "2022-07-17T14:31:08.223Z"
   },
   {
    "duration": 7,
    "start_time": "2022-07-17T14:31:08.238Z"
   },
   {
    "duration": 6416,
    "start_time": "2022-07-17T14:31:08.246Z"
   },
   {
    "duration": 7218,
    "start_time": "2022-07-17T14:31:14.663Z"
   },
   {
    "duration": 5189,
    "start_time": "2022-07-17T14:31:21.885Z"
   },
   {
    "duration": 26,
    "start_time": "2022-07-17T14:31:27.080Z"
   },
   {
    "duration": 229,
    "start_time": "2022-07-17T14:31:27.107Z"
   },
   {
    "duration": 111,
    "start_time": "2022-07-17T14:31:27.338Z"
   },
   {
    "duration": 1412,
    "start_time": "2022-07-17T14:33:41.764Z"
   },
   {
    "duration": 769,
    "start_time": "2022-07-17T14:33:43.177Z"
   },
   {
    "duration": 26,
    "start_time": "2022-07-17T14:33:43.947Z"
   },
   {
    "duration": 159,
    "start_time": "2022-07-17T14:33:43.975Z"
   },
   {
    "duration": 27,
    "start_time": "2022-07-17T14:33:44.136Z"
   },
   {
    "duration": 394,
    "start_time": "2022-07-17T14:33:44.165Z"
   },
   {
    "duration": 14,
    "start_time": "2022-07-17T14:33:44.562Z"
   },
   {
    "duration": 121,
    "start_time": "2022-07-17T14:33:44.578Z"
   },
   {
    "duration": 24,
    "start_time": "2022-07-17T14:33:44.701Z"
   },
   {
    "duration": 297,
    "start_time": "2022-07-17T14:33:44.726Z"
   },
   {
    "duration": 289,
    "start_time": "2022-07-17T14:33:45.025Z"
   },
   {
    "duration": 95,
    "start_time": "2022-07-17T14:33:45.315Z"
   },
   {
    "duration": 24,
    "start_time": "2022-07-17T14:33:45.412Z"
   },
   {
    "duration": 27,
    "start_time": "2022-07-17T14:33:45.438Z"
   },
   {
    "duration": 30,
    "start_time": "2022-07-17T14:33:45.468Z"
   },
   {
    "duration": 21,
    "start_time": "2022-07-17T14:33:45.500Z"
   },
   {
    "duration": 103,
    "start_time": "2022-07-17T14:33:45.522Z"
   },
   {
    "duration": 1725,
    "start_time": "2022-07-17T14:33:45.626Z"
   },
   {
    "duration": 1185,
    "start_time": "2022-07-17T14:33:47.352Z"
   },
   {
    "duration": 5,
    "start_time": "2022-07-17T14:33:48.539Z"
   },
   {
    "duration": 228,
    "start_time": "2022-07-17T14:33:48.545Z"
   },
   {
    "duration": 51,
    "start_time": "2022-07-17T14:33:48.775Z"
   },
   {
    "duration": 3,
    "start_time": "2022-07-17T14:33:48.828Z"
   },
   {
    "duration": 8,
    "start_time": "2022-07-17T14:33:48.833Z"
   },
   {
    "duration": 11,
    "start_time": "2022-07-17T14:33:48.842Z"
   },
   {
    "duration": 5311,
    "start_time": "2022-07-17T14:33:48.855Z"
   },
   {
    "duration": 5406,
    "start_time": "2022-07-17T14:33:54.168Z"
   },
   {
    "duration": 3806,
    "start_time": "2022-07-17T14:33:59.577Z"
   },
   {
    "duration": 110,
    "start_time": "2022-07-17T14:34:03.385Z"
   },
   {
    "duration": 216,
    "start_time": "2022-07-17T14:34:03.496Z"
   },
   {
    "duration": 121,
    "start_time": "2022-07-17T14:34:03.714Z"
   },
   {
    "duration": 1394,
    "start_time": "2022-07-17T14:35:44.960Z"
   },
   {
    "duration": 905,
    "start_time": "2022-07-17T14:35:46.356Z"
   },
   {
    "duration": 20,
    "start_time": "2022-07-17T14:35:47.262Z"
   },
   {
    "duration": 153,
    "start_time": "2022-07-17T14:35:47.284Z"
   },
   {
    "duration": 36,
    "start_time": "2022-07-17T14:35:47.439Z"
   },
   {
    "duration": 418,
    "start_time": "2022-07-17T14:35:47.477Z"
   },
   {
    "duration": 5,
    "start_time": "2022-07-17T14:35:47.896Z"
   },
   {
    "duration": 108,
    "start_time": "2022-07-17T14:35:47.903Z"
   },
   {
    "duration": 23,
    "start_time": "2022-07-17T14:35:48.012Z"
   },
   {
    "duration": 310,
    "start_time": "2022-07-17T14:35:48.037Z"
   },
   {
    "duration": 297,
    "start_time": "2022-07-17T14:35:48.348Z"
   },
   {
    "duration": 84,
    "start_time": "2022-07-17T14:35:48.647Z"
   },
   {
    "duration": 40,
    "start_time": "2022-07-17T14:35:48.733Z"
   },
   {
    "duration": 15,
    "start_time": "2022-07-17T14:35:48.776Z"
   },
   {
    "duration": 24,
    "start_time": "2022-07-17T14:35:48.793Z"
   },
   {
    "duration": 16,
    "start_time": "2022-07-17T14:35:48.819Z"
   },
   {
    "duration": 121,
    "start_time": "2022-07-17T14:35:48.837Z"
   },
   {
    "duration": 1789,
    "start_time": "2022-07-17T14:35:48.960Z"
   },
   {
    "duration": 1261,
    "start_time": "2022-07-17T14:35:50.751Z"
   },
   {
    "duration": 5,
    "start_time": "2022-07-17T14:35:52.014Z"
   },
   {
    "duration": 233,
    "start_time": "2022-07-17T14:35:52.020Z"
   },
   {
    "duration": 59,
    "start_time": "2022-07-17T14:35:52.255Z"
   },
   {
    "duration": 4,
    "start_time": "2022-07-17T14:35:52.315Z"
   },
   {
    "duration": 8,
    "start_time": "2022-07-17T14:35:52.320Z"
   },
   {
    "duration": 6,
    "start_time": "2022-07-17T14:35:52.329Z"
   },
   {
    "duration": 46233,
    "start_time": "2022-07-17T14:35:52.336Z"
   },
   {
    "duration": 32608,
    "start_time": "2022-07-17T14:36:38.573Z"
   },
   {
    "duration": 33506,
    "start_time": "2022-07-17T14:37:11.186Z"
   },
   {
    "duration": 85,
    "start_time": "2022-07-17T14:37:44.696Z"
   },
   {
    "duration": 251,
    "start_time": "2022-07-17T14:37:44.783Z"
   },
   {
    "duration": 122,
    "start_time": "2022-07-17T14:37:45.035Z"
   },
   {
    "duration": 3788,
    "start_time": "2022-07-17T14:38:12.959Z"
   },
   {
    "duration": 105,
    "start_time": "2022-07-17T14:39:25.901Z"
   },
   {
    "duration": 19,
    "start_time": "2022-07-17T14:52:01.197Z"
   },
   {
    "duration": 113,
    "start_time": "2022-07-17T14:52:11.386Z"
   },
   {
    "duration": 134,
    "start_time": "2022-07-17T14:52:45.348Z"
   },
   {
    "duration": 95,
    "start_time": "2022-07-17T14:52:57.176Z"
   },
   {
    "duration": 204,
    "start_time": "2022-07-17T14:53:02.136Z"
   },
   {
    "duration": 98,
    "start_time": "2022-07-17T14:54:30.616Z"
   },
   {
    "duration": 1737,
    "start_time": "2022-07-17T14:54:45.043Z"
   },
   {
    "duration": 991,
    "start_time": "2022-07-17T14:54:46.782Z"
   },
   {
    "duration": 21,
    "start_time": "2022-07-17T14:54:47.775Z"
   },
   {
    "duration": 153,
    "start_time": "2022-07-17T14:54:47.799Z"
   },
   {
    "duration": 35,
    "start_time": "2022-07-17T14:54:47.954Z"
   },
   {
    "duration": 393,
    "start_time": "2022-07-17T14:54:47.991Z"
   },
   {
    "duration": 5,
    "start_time": "2022-07-17T14:54:48.386Z"
   },
   {
    "duration": 116,
    "start_time": "2022-07-17T14:54:48.393Z"
   },
   {
    "duration": 24,
    "start_time": "2022-07-17T14:54:48.511Z"
   },
   {
    "duration": 347,
    "start_time": "2022-07-17T14:54:48.537Z"
   },
   {
    "duration": 330,
    "start_time": "2022-07-17T14:54:48.886Z"
   },
   {
    "duration": 94,
    "start_time": "2022-07-17T14:54:49.218Z"
   },
   {
    "duration": 59,
    "start_time": "2022-07-17T14:54:49.314Z"
   },
   {
    "duration": 21,
    "start_time": "2022-07-17T14:54:49.374Z"
   },
   {
    "duration": 28,
    "start_time": "2022-07-17T14:54:49.396Z"
   },
   {
    "duration": 41,
    "start_time": "2022-07-17T14:54:49.426Z"
   },
   {
    "duration": 112,
    "start_time": "2022-07-17T14:54:49.470Z"
   },
   {
    "duration": 2010,
    "start_time": "2022-07-17T14:54:49.584Z"
   },
   {
    "duration": 1353,
    "start_time": "2022-07-17T14:54:51.597Z"
   },
   {
    "duration": 4,
    "start_time": "2022-07-17T14:54:52.952Z"
   },
   {
    "duration": 278,
    "start_time": "2022-07-17T14:54:52.964Z"
   },
   {
    "duration": 80,
    "start_time": "2022-07-17T14:54:53.244Z"
   },
   {
    "duration": 5,
    "start_time": "2022-07-17T14:54:53.326Z"
   },
   {
    "duration": 8,
    "start_time": "2022-07-17T14:54:53.333Z"
   },
   {
    "duration": 6,
    "start_time": "2022-07-17T14:54:53.343Z"
   },
   {
    "duration": 28217,
    "start_time": "2022-07-17T14:54:53.360Z"
   },
   {
    "duration": 28100,
    "start_time": "2022-07-17T14:55:21.582Z"
   },
   {
    "duration": 28997,
    "start_time": "2022-07-17T14:55:49.688Z"
   },
   {
    "duration": 152,
    "start_time": "2022-07-17T14:56:18.690Z"
   },
   {
    "duration": 3243,
    "start_time": "2022-07-17T14:56:18.844Z"
   },
   {
    "duration": 1373,
    "start_time": "2022-07-17T15:01:40.454Z"
   },
   {
    "duration": 805,
    "start_time": "2022-07-17T15:01:41.829Z"
   },
   {
    "duration": 16,
    "start_time": "2022-07-17T15:01:42.636Z"
   },
   {
    "duration": 206,
    "start_time": "2022-07-17T15:01:42.654Z"
   },
   {
    "duration": 27,
    "start_time": "2022-07-17T15:01:42.862Z"
   },
   {
    "duration": 425,
    "start_time": "2022-07-17T15:01:42.890Z"
   },
   {
    "duration": 5,
    "start_time": "2022-07-17T15:01:43.316Z"
   },
   {
    "duration": 114,
    "start_time": "2022-07-17T15:01:43.322Z"
   },
   {
    "duration": 25,
    "start_time": "2022-07-17T15:01:43.438Z"
   },
   {
    "duration": 328,
    "start_time": "2022-07-17T15:01:43.467Z"
   },
   {
    "duration": 326,
    "start_time": "2022-07-17T15:01:43.796Z"
   },
   {
    "duration": 89,
    "start_time": "2022-07-17T15:01:44.124Z"
   },
   {
    "duration": 26,
    "start_time": "2022-07-17T15:01:44.214Z"
   },
   {
    "duration": 35,
    "start_time": "2022-07-17T15:01:44.242Z"
   },
   {
    "duration": 26,
    "start_time": "2022-07-17T15:01:44.280Z"
   },
   {
    "duration": 18,
    "start_time": "2022-07-17T15:01:44.307Z"
   },
   {
    "duration": 116,
    "start_time": "2022-07-17T15:01:44.327Z"
   },
   {
    "duration": 1757,
    "start_time": "2022-07-17T15:01:44.445Z"
   },
   {
    "duration": 1325,
    "start_time": "2022-07-17T15:01:46.204Z"
   },
   {
    "duration": 4,
    "start_time": "2022-07-17T15:01:47.531Z"
   },
   {
    "duration": 240,
    "start_time": "2022-07-17T15:01:47.537Z"
   },
   {
    "duration": 52,
    "start_time": "2022-07-17T15:01:47.779Z"
   },
   {
    "duration": 3,
    "start_time": "2022-07-17T15:01:47.833Z"
   },
   {
    "duration": 5,
    "start_time": "2022-07-17T15:01:47.837Z"
   },
   {
    "duration": 26,
    "start_time": "2022-07-17T15:01:47.844Z"
   },
   {
    "duration": 36509,
    "start_time": "2022-07-17T15:01:47.871Z"
   },
   {
    "duration": 43182,
    "start_time": "2022-07-17T15:02:24.382Z"
   },
   {
    "duration": 34220,
    "start_time": "2022-07-17T15:03:07.568Z"
   },
   {
    "duration": 234,
    "start_time": "2022-07-17T15:03:41.790Z"
   },
   {
    "duration": 3061,
    "start_time": "2022-07-17T15:03:42.026Z"
   },
   {
    "duration": 270,
    "start_time": "2022-07-17T15:04:21.789Z"
   },
   {
    "duration": 237,
    "start_time": "2022-07-17T15:04:30.617Z"
   },
   {
    "duration": 1181,
    "start_time": "2022-07-17T15:08:49.132Z"
   },
   {
    "duration": 15,
    "start_time": "2022-07-17T15:08:57.177Z"
   },
   {
    "duration": 16,
    "start_time": "2022-07-17T15:09:08.705Z"
   },
   {
    "duration": 1359,
    "start_time": "2022-07-17T15:09:21.828Z"
   },
   {
    "duration": 803,
    "start_time": "2022-07-17T15:09:23.189Z"
   },
   {
    "duration": 17,
    "start_time": "2022-07-17T15:09:23.993Z"
   },
   {
    "duration": 160,
    "start_time": "2022-07-17T15:09:24.012Z"
   },
   {
    "duration": 26,
    "start_time": "2022-07-17T15:09:24.174Z"
   },
   {
    "duration": 407,
    "start_time": "2022-07-17T15:09:24.202Z"
   },
   {
    "duration": 5,
    "start_time": "2022-07-17T15:09:24.611Z"
   },
   {
    "duration": 110,
    "start_time": "2022-07-17T15:09:24.617Z"
   },
   {
    "duration": 42,
    "start_time": "2022-07-17T15:09:24.729Z"
   },
   {
    "duration": 298,
    "start_time": "2022-07-17T15:09:24.774Z"
   },
   {
    "duration": 327,
    "start_time": "2022-07-17T15:09:25.074Z"
   },
   {
    "duration": 101,
    "start_time": "2022-07-17T15:09:25.403Z"
   },
   {
    "duration": 30,
    "start_time": "2022-07-17T15:09:25.506Z"
   },
   {
    "duration": 30,
    "start_time": "2022-07-17T15:09:25.538Z"
   },
   {
    "duration": 27,
    "start_time": "2022-07-17T15:09:25.573Z"
   },
   {
    "duration": 18,
    "start_time": "2022-07-17T15:09:25.602Z"
   },
   {
    "duration": 121,
    "start_time": "2022-07-17T15:09:25.621Z"
   },
   {
    "duration": 1749,
    "start_time": "2022-07-17T15:09:25.744Z"
   },
   {
    "duration": 1211,
    "start_time": "2022-07-17T15:09:27.495Z"
   },
   {
    "duration": 4,
    "start_time": "2022-07-17T15:09:28.708Z"
   },
   {
    "duration": 236,
    "start_time": "2022-07-17T15:09:28.714Z"
   },
   {
    "duration": 66,
    "start_time": "2022-07-17T15:09:28.952Z"
   },
   {
    "duration": 2,
    "start_time": "2022-07-17T15:09:29.020Z"
   },
   {
    "duration": 5,
    "start_time": "2022-07-17T15:09:29.024Z"
   },
   {
    "duration": 5,
    "start_time": "2022-07-17T15:09:29.031Z"
   },
   {
    "duration": 5449,
    "start_time": "2022-07-17T15:09:29.037Z"
   },
   {
    "duration": 7225,
    "start_time": "2022-07-17T15:09:34.561Z"
   },
   {
    "duration": 4286,
    "start_time": "2022-07-17T15:09:41.789Z"
   },
   {
    "duration": 1305,
    "start_time": "2022-07-17T15:09:46.079Z"
   },
   {
    "duration": 2863,
    "start_time": "2022-07-17T15:09:47.386Z"
   },
   {
    "duration": 16,
    "start_time": "2022-07-17T15:10:28.600Z"
   },
   {
    "duration": 12,
    "start_time": "2022-07-17T15:10:39.632Z"
   },
   {
    "duration": 62,
    "start_time": "2022-07-17T15:10:45.911Z"
   },
   {
    "duration": 9,
    "start_time": "2022-07-17T15:10:52.343Z"
   },
   {
    "duration": 5,
    "start_time": "2022-07-17T15:10:59.629Z"
   },
   {
    "duration": 122,
    "start_time": "2022-07-17T15:11:43.673Z"
   },
   {
    "duration": 3092,
    "start_time": "2022-07-17T15:11:46.192Z"
   },
   {
    "duration": 129,
    "start_time": "2022-07-17T15:12:01.596Z"
   },
   {
    "duration": 128,
    "start_time": "2022-07-17T15:12:12.509Z"
   },
   {
    "duration": 3011,
    "start_time": "2022-07-17T15:12:15.816Z"
   },
   {
    "duration": 23,
    "start_time": "2022-07-17T15:12:34.355Z"
   },
   {
    "duration": 1361,
    "start_time": "2022-07-17T15:12:44.410Z"
   },
   {
    "duration": 902,
    "start_time": "2022-07-17T15:12:45.774Z"
   },
   {
    "duration": 18,
    "start_time": "2022-07-17T15:12:46.678Z"
   },
   {
    "duration": 144,
    "start_time": "2022-07-17T15:12:46.698Z"
   },
   {
    "duration": 37,
    "start_time": "2022-07-17T15:12:46.843Z"
   },
   {
    "duration": 365,
    "start_time": "2022-07-17T15:12:46.882Z"
   },
   {
    "duration": 4,
    "start_time": "2022-07-17T15:12:47.249Z"
   },
   {
    "duration": 89,
    "start_time": "2022-07-17T15:12:47.255Z"
   },
   {
    "duration": 43,
    "start_time": "2022-07-17T15:12:47.346Z"
   },
   {
    "duration": 307,
    "start_time": "2022-07-17T15:12:47.391Z"
   },
   {
    "duration": 307,
    "start_time": "2022-07-17T15:12:47.700Z"
   },
   {
    "duration": 91,
    "start_time": "2022-07-17T15:12:48.008Z"
   },
   {
    "duration": 26,
    "start_time": "2022-07-17T15:12:48.100Z"
   },
   {
    "duration": 15,
    "start_time": "2022-07-17T15:12:48.127Z"
   },
   {
    "duration": 29,
    "start_time": "2022-07-17T15:12:48.161Z"
   },
   {
    "duration": 20,
    "start_time": "2022-07-17T15:12:48.191Z"
   },
   {
    "duration": 110,
    "start_time": "2022-07-17T15:12:48.213Z"
   },
   {
    "duration": 1655,
    "start_time": "2022-07-17T15:12:48.325Z"
   },
   {
    "duration": 1255,
    "start_time": "2022-07-17T15:12:49.982Z"
   },
   {
    "duration": 4,
    "start_time": "2022-07-17T15:12:51.238Z"
   },
   {
    "duration": 233,
    "start_time": "2022-07-17T15:12:51.244Z"
   },
   {
    "duration": 52,
    "start_time": "2022-07-17T15:12:51.479Z"
   },
   {
    "duration": 3,
    "start_time": "2022-07-17T15:12:51.533Z"
   },
   {
    "duration": 8,
    "start_time": "2022-07-17T15:12:51.537Z"
   },
   {
    "duration": 16,
    "start_time": "2022-07-17T15:12:51.546Z"
   },
   {
    "duration": 6823,
    "start_time": "2022-07-17T15:12:51.563Z"
   },
   {
    "duration": 7220,
    "start_time": "2022-07-17T15:12:58.462Z"
   },
   {
    "duration": 7080,
    "start_time": "2022-07-17T15:13:05.686Z"
   },
   {
    "duration": 1258,
    "start_time": "2022-07-17T15:13:12.771Z"
   },
   {
    "duration": 151,
    "start_time": "2022-07-17T15:13:14.031Z"
   },
   {
    "duration": 3014,
    "start_time": "2022-07-17T15:13:14.184Z"
   },
   {
    "duration": 17,
    "start_time": "2022-07-17T16:24:13.726Z"
   },
   {
    "duration": 1355,
    "start_time": "2022-07-17T16:24:20.084Z"
   },
   {
    "duration": 894,
    "start_time": "2022-07-17T16:24:21.440Z"
   },
   {
    "duration": 18,
    "start_time": "2022-07-17T16:24:22.335Z"
   },
   {
    "duration": 148,
    "start_time": "2022-07-17T16:24:22.362Z"
   },
   {
    "duration": 19,
    "start_time": "2022-07-17T16:24:22.512Z"
   },
   {
    "duration": 432,
    "start_time": "2022-07-17T16:24:22.533Z"
   },
   {
    "duration": 9,
    "start_time": "2022-07-17T16:24:22.970Z"
   },
   {
    "duration": 104,
    "start_time": "2022-07-17T16:24:22.981Z"
   },
   {
    "duration": 22,
    "start_time": "2022-07-17T16:24:23.087Z"
   },
   {
    "duration": 320,
    "start_time": "2022-07-17T16:24:23.110Z"
   },
   {
    "duration": 314,
    "start_time": "2022-07-17T16:24:23.431Z"
   },
   {
    "duration": 92,
    "start_time": "2022-07-17T16:24:23.746Z"
   },
   {
    "duration": 59,
    "start_time": "2022-07-17T16:24:23.840Z"
   },
   {
    "duration": 16,
    "start_time": "2022-07-17T16:24:23.903Z"
   },
   {
    "duration": 27,
    "start_time": "2022-07-17T16:24:23.920Z"
   },
   {
    "duration": 29,
    "start_time": "2022-07-17T16:24:23.948Z"
   },
   {
    "duration": 111,
    "start_time": "2022-07-17T16:24:23.979Z"
   },
   {
    "duration": 1843,
    "start_time": "2022-07-17T16:24:24.091Z"
   },
   {
    "duration": 1422,
    "start_time": "2022-07-17T16:24:25.936Z"
   },
   {
    "duration": 6,
    "start_time": "2022-07-17T16:24:27.360Z"
   },
   {
    "duration": 269,
    "start_time": "2022-07-17T16:24:27.368Z"
   },
   {
    "duration": 65,
    "start_time": "2022-07-17T16:24:27.639Z"
   },
   {
    "duration": 3,
    "start_time": "2022-07-17T16:24:27.706Z"
   },
   {
    "duration": 10,
    "start_time": "2022-07-17T16:24:27.710Z"
   },
   {
    "duration": 5,
    "start_time": "2022-07-17T16:24:27.722Z"
   },
   {
    "duration": 20747,
    "start_time": "2022-07-17T16:24:27.728Z"
   },
   {
    "duration": 24179,
    "start_time": "2022-07-17T16:24:48.482Z"
   },
   {
    "duration": 18126,
    "start_time": "2022-07-17T16:25:12.668Z"
   },
   {
    "duration": 1182,
    "start_time": "2022-07-17T16:25:30.863Z"
   },
   {
    "duration": 263,
    "start_time": "2022-07-17T16:25:32.047Z"
   },
   {
    "duration": 0,
    "start_time": "2022-07-17T16:25:32.312Z"
   },
   {
    "duration": 21,
    "start_time": "2022-07-17T16:25:36.483Z"
   },
   {
    "duration": 23,
    "start_time": "2022-07-17T16:25:43.452Z"
   },
   {
    "duration": 4,
    "start_time": "2022-07-17T16:25:57.322Z"
   },
   {
    "duration": 13,
    "start_time": "2022-07-17T16:27:12.788Z"
   },
   {
    "duration": 89,
    "start_time": "2022-07-17T16:27:42.410Z"
   },
   {
    "duration": 42,
    "start_time": "2022-07-17T16:27:51.486Z"
   },
   {
    "duration": 3124,
    "start_time": "2022-07-17T16:27:55.171Z"
   },
   {
    "duration": 19,
    "start_time": "2022-07-17T16:28:52.791Z"
   },
   {
    "duration": 4,
    "start_time": "2022-07-17T16:30:44.984Z"
   },
   {
    "duration": 480,
    "start_time": "2022-07-17T16:32:56.884Z"
   },
   {
    "duration": 1529,
    "start_time": "2022-07-17T16:55:01.610Z"
   },
   {
    "duration": 879,
    "start_time": "2022-07-17T16:55:03.141Z"
   },
   {
    "duration": 17,
    "start_time": "2022-07-17T16:55:04.022Z"
   },
   {
    "duration": 167,
    "start_time": "2022-07-17T16:55:04.041Z"
   },
   {
    "duration": 20,
    "start_time": "2022-07-17T16:55:04.210Z"
   },
   {
    "duration": 446,
    "start_time": "2022-07-17T16:55:04.231Z"
   },
   {
    "duration": 12,
    "start_time": "2022-07-17T16:55:04.683Z"
   },
   {
    "duration": 135,
    "start_time": "2022-07-17T16:55:04.696Z"
   },
   {
    "duration": 23,
    "start_time": "2022-07-17T16:55:04.832Z"
   },
   {
    "duration": 356,
    "start_time": "2022-07-17T16:55:04.864Z"
   },
   {
    "duration": 353,
    "start_time": "2022-07-17T16:55:05.221Z"
   },
   {
    "duration": 108,
    "start_time": "2022-07-17T16:55:05.578Z"
   },
   {
    "duration": 28,
    "start_time": "2022-07-17T16:55:05.687Z"
   },
   {
    "duration": 15,
    "start_time": "2022-07-17T16:55:05.717Z"
   },
   {
    "duration": 49,
    "start_time": "2022-07-17T16:55:05.734Z"
   },
   {
    "duration": 19,
    "start_time": "2022-07-17T16:55:05.786Z"
   },
   {
    "duration": 101,
    "start_time": "2022-07-17T16:55:05.807Z"
   },
   {
    "duration": 1886,
    "start_time": "2022-07-17T16:55:05.910Z"
   },
   {
    "duration": 1337,
    "start_time": "2022-07-17T16:55:07.798Z"
   },
   {
    "duration": 5,
    "start_time": "2022-07-17T16:55:09.136Z"
   },
   {
    "duration": 276,
    "start_time": "2022-07-17T16:55:09.142Z"
   },
   {
    "duration": 74,
    "start_time": "2022-07-17T16:55:09.419Z"
   },
   {
    "duration": 3,
    "start_time": "2022-07-17T16:55:09.495Z"
   },
   {
    "duration": 21,
    "start_time": "2022-07-17T16:55:09.500Z"
   },
   {
    "duration": 27,
    "start_time": "2022-07-17T16:55:09.523Z"
   },
   {
    "duration": 23547,
    "start_time": "2022-07-17T16:55:09.552Z"
   },
   {
    "duration": 18139,
    "start_time": "2022-07-17T16:55:33.160Z"
   },
   {
    "duration": 12507,
    "start_time": "2022-07-17T16:55:51.360Z"
   },
   {
    "duration": 1162,
    "start_time": "2022-07-17T16:56:03.875Z"
   },
   {
    "duration": 133,
    "start_time": "2022-07-17T16:56:05.039Z"
   },
   {
    "duration": 98,
    "start_time": "2022-07-17T16:56:05.174Z"
   },
   {
    "duration": 48,
    "start_time": "2022-07-17T16:56:05.275Z"
   },
   {
    "duration": 490,
    "start_time": "2022-07-17T16:56:05.325Z"
   },
   {
    "duration": 0,
    "start_time": "2022-07-17T17:28:00.878Z"
   },
   {
    "duration": 824101,
    "start_time": "2022-07-17T17:41:08.187Z"
   },
   {
    "duration": 36741,
    "start_time": "2022-07-17T18:00:13.073Z"
   },
   {
    "duration": 1444,
    "start_time": "2022-07-17T18:03:11.694Z"
   },
   {
    "duration": 832,
    "start_time": "2022-07-17T18:03:13.140Z"
   },
   {
    "duration": 18,
    "start_time": "2022-07-17T18:03:13.974Z"
   },
   {
    "duration": 143,
    "start_time": "2022-07-17T18:03:13.994Z"
   },
   {
    "duration": 25,
    "start_time": "2022-07-17T18:03:14.139Z"
   },
   {
    "duration": 388,
    "start_time": "2022-07-17T18:03:14.166Z"
   },
   {
    "duration": 12,
    "start_time": "2022-07-17T18:03:14.556Z"
   },
   {
    "duration": 99,
    "start_time": "2022-07-17T18:03:14.571Z"
   },
   {
    "duration": 35,
    "start_time": "2022-07-17T18:03:14.673Z"
   },
   {
    "duration": 309,
    "start_time": "2022-07-17T18:03:14.711Z"
   },
   {
    "duration": 328,
    "start_time": "2022-07-17T18:03:15.022Z"
   },
   {
    "duration": 99,
    "start_time": "2022-07-17T18:03:15.352Z"
   },
   {
    "duration": 30,
    "start_time": "2022-07-17T18:03:15.453Z"
   },
   {
    "duration": 17,
    "start_time": "2022-07-17T18:03:15.484Z"
   },
   {
    "duration": 25,
    "start_time": "2022-07-17T18:03:15.503Z"
   },
   {
    "duration": 54,
    "start_time": "2022-07-17T18:03:15.530Z"
   },
   {
    "duration": 101,
    "start_time": "2022-07-17T18:03:15.586Z"
   },
   {
    "duration": 1746,
    "start_time": "2022-07-17T18:03:15.688Z"
   },
   {
    "duration": 1190,
    "start_time": "2022-07-17T18:03:17.436Z"
   },
   {
    "duration": 4,
    "start_time": "2022-07-17T18:03:18.627Z"
   },
   {
    "duration": 240,
    "start_time": "2022-07-17T18:03:18.633Z"
   },
   {
    "duration": 50,
    "start_time": "2022-07-17T18:03:18.874Z"
   },
   {
    "duration": 3,
    "start_time": "2022-07-17T18:03:18.926Z"
   },
   {
    "duration": 6,
    "start_time": "2022-07-17T18:03:18.931Z"
   },
   {
    "duration": 7,
    "start_time": "2022-07-17T18:03:18.938Z"
   },
   {
    "duration": 5733,
    "start_time": "2022-07-17T18:03:18.946Z"
   },
   {
    "duration": 5882,
    "start_time": "2022-07-17T18:03:24.684Z"
   },
   {
    "duration": 4714,
    "start_time": "2022-07-17T18:03:30.570Z"
   },
   {
    "duration": 1189,
    "start_time": "2022-07-17T18:03:35.290Z"
   },
   {
    "duration": 137,
    "start_time": "2022-07-17T18:03:36.482Z"
   },
   {
    "duration": 101,
    "start_time": "2022-07-17T18:03:36.621Z"
   },
   {
    "duration": 53,
    "start_time": "2022-07-17T18:03:36.724Z"
   },
   {
    "duration": 451,
    "start_time": "2022-07-17T18:03:36.778Z"
   },
   {
    "duration": 79,
    "start_time": "2022-07-18T11:21:39.734Z"
   },
   {
    "duration": 0,
    "start_time": "2022-07-18T11:21:39.815Z"
   },
   {
    "duration": 0,
    "start_time": "2022-07-18T11:21:39.816Z"
   },
   {
    "duration": 0,
    "start_time": "2022-07-18T11:21:39.817Z"
   },
   {
    "duration": 0,
    "start_time": "2022-07-18T11:21:39.818Z"
   },
   {
    "duration": 0,
    "start_time": "2022-07-18T11:21:39.819Z"
   },
   {
    "duration": 0,
    "start_time": "2022-07-18T11:21:39.820Z"
   },
   {
    "duration": 0,
    "start_time": "2022-07-18T11:21:39.820Z"
   },
   {
    "duration": 0,
    "start_time": "2022-07-18T11:21:39.821Z"
   },
   {
    "duration": 0,
    "start_time": "2022-07-18T11:21:39.822Z"
   },
   {
    "duration": 0,
    "start_time": "2022-07-18T11:21:39.823Z"
   },
   {
    "duration": 0,
    "start_time": "2022-07-18T11:21:39.824Z"
   },
   {
    "duration": 0,
    "start_time": "2022-07-18T11:21:39.825Z"
   },
   {
    "duration": 0,
    "start_time": "2022-07-18T11:21:39.826Z"
   },
   {
    "duration": 0,
    "start_time": "2022-07-18T11:21:39.827Z"
   },
   {
    "duration": 0,
    "start_time": "2022-07-18T11:21:39.827Z"
   },
   {
    "duration": 0,
    "start_time": "2022-07-18T11:21:39.828Z"
   },
   {
    "duration": 0,
    "start_time": "2022-07-18T11:21:39.829Z"
   },
   {
    "duration": 0,
    "start_time": "2022-07-18T11:21:39.830Z"
   },
   {
    "duration": 0,
    "start_time": "2022-07-18T11:21:39.831Z"
   },
   {
    "duration": 0,
    "start_time": "2022-07-18T11:21:39.832Z"
   },
   {
    "duration": 0,
    "start_time": "2022-07-18T11:21:39.832Z"
   },
   {
    "duration": 0,
    "start_time": "2022-07-18T11:21:39.833Z"
   },
   {
    "duration": 0,
    "start_time": "2022-07-18T11:21:39.834Z"
   },
   {
    "duration": 5,
    "start_time": "2022-07-18T11:21:39.837Z"
   },
   {
    "duration": 118,
    "start_time": "2022-07-18T11:21:39.843Z"
   },
   {
    "duration": 83,
    "start_time": "2022-07-18T11:21:39.962Z"
   },
   {
    "duration": 79,
    "start_time": "2022-07-18T11:21:40.047Z"
   },
   {
    "duration": 7,
    "start_time": "2022-07-18T11:21:40.128Z"
   },
   {
    "duration": 0,
    "start_time": "2022-07-18T11:21:40.136Z"
   },
   {
    "duration": 0,
    "start_time": "2022-07-18T11:21:40.137Z"
   },
   {
    "duration": 0,
    "start_time": "2022-07-18T11:21:40.138Z"
   },
   {
    "duration": 0,
    "start_time": "2022-07-18T11:21:40.139Z"
   },
   {
    "duration": 0,
    "start_time": "2022-07-18T11:21:40.140Z"
   },
   {
    "duration": 126,
    "start_time": "2022-07-18T11:21:58.946Z"
   },
   {
    "duration": 0,
    "start_time": "2022-07-18T11:21:59.075Z"
   },
   {
    "duration": 0,
    "start_time": "2022-07-18T11:21:59.076Z"
   },
   {
    "duration": 0,
    "start_time": "2022-07-18T11:21:59.077Z"
   },
   {
    "duration": 0,
    "start_time": "2022-07-18T11:21:59.079Z"
   },
   {
    "duration": 0,
    "start_time": "2022-07-18T11:21:59.080Z"
   },
   {
    "duration": 0,
    "start_time": "2022-07-18T11:21:59.081Z"
   },
   {
    "duration": 0,
    "start_time": "2022-07-18T11:21:59.083Z"
   },
   {
    "duration": 0,
    "start_time": "2022-07-18T11:21:59.084Z"
   },
   {
    "duration": 0,
    "start_time": "2022-07-18T11:21:59.085Z"
   },
   {
    "duration": 0,
    "start_time": "2022-07-18T11:21:59.086Z"
   },
   {
    "duration": 0,
    "start_time": "2022-07-18T11:21:59.088Z"
   },
   {
    "duration": 0,
    "start_time": "2022-07-18T11:21:59.090Z"
   },
   {
    "duration": 0,
    "start_time": "2022-07-18T11:21:59.091Z"
   },
   {
    "duration": 0,
    "start_time": "2022-07-18T11:21:59.092Z"
   },
   {
    "duration": 0,
    "start_time": "2022-07-18T11:21:59.094Z"
   },
   {
    "duration": 0,
    "start_time": "2022-07-18T11:21:59.095Z"
   },
   {
    "duration": 0,
    "start_time": "2022-07-18T11:21:59.096Z"
   },
   {
    "duration": 0,
    "start_time": "2022-07-18T11:21:59.097Z"
   },
   {
    "duration": 0,
    "start_time": "2022-07-18T11:21:59.097Z"
   },
   {
    "duration": 0,
    "start_time": "2022-07-18T11:21:59.098Z"
   },
   {
    "duration": 0,
    "start_time": "2022-07-18T11:21:59.099Z"
   },
   {
    "duration": 0,
    "start_time": "2022-07-18T11:21:59.100Z"
   },
   {
    "duration": 0,
    "start_time": "2022-07-18T11:21:59.101Z"
   },
   {
    "duration": 0,
    "start_time": "2022-07-18T11:21:59.102Z"
   },
   {
    "duration": 0,
    "start_time": "2022-07-18T11:21:59.103Z"
   },
   {
    "duration": 0,
    "start_time": "2022-07-18T11:21:59.104Z"
   },
   {
    "duration": 0,
    "start_time": "2022-07-18T11:21:59.105Z"
   },
   {
    "duration": 0,
    "start_time": "2022-07-18T11:21:59.106Z"
   },
   {
    "duration": 0,
    "start_time": "2022-07-18T11:21:59.107Z"
   },
   {
    "duration": 0,
    "start_time": "2022-07-18T11:21:59.109Z"
   },
   {
    "duration": 0,
    "start_time": "2022-07-18T11:21:59.152Z"
   },
   {
    "duration": 0,
    "start_time": "2022-07-18T11:21:59.153Z"
   },
   {
    "duration": 0,
    "start_time": "2022-07-18T11:21:59.154Z"
   },
   {
    "duration": 1574,
    "start_time": "2022-07-18T11:22:27.213Z"
   },
   {
    "duration": 2647,
    "start_time": "2022-07-18T11:22:28.788Z"
   },
   {
    "duration": 17,
    "start_time": "2022-07-18T11:22:31.437Z"
   },
   {
    "duration": 100,
    "start_time": "2022-07-18T11:22:31.456Z"
   },
   {
    "duration": 22,
    "start_time": "2022-07-18T11:22:31.557Z"
   },
   {
    "duration": 316,
    "start_time": "2022-07-18T11:22:31.580Z"
   },
   {
    "duration": 5,
    "start_time": "2022-07-18T11:22:31.897Z"
   },
   {
    "duration": 87,
    "start_time": "2022-07-18T11:22:31.903Z"
   },
   {
    "duration": 22,
    "start_time": "2022-07-18T11:22:31.992Z"
   },
   {
    "duration": 288,
    "start_time": "2022-07-18T11:22:32.016Z"
   },
   {
    "duration": 270,
    "start_time": "2022-07-18T11:22:32.305Z"
   },
   {
    "duration": 91,
    "start_time": "2022-07-18T11:22:32.576Z"
   },
   {
    "duration": 24,
    "start_time": "2022-07-18T11:22:32.669Z"
   },
   {
    "duration": 15,
    "start_time": "2022-07-18T11:22:32.694Z"
   },
   {
    "duration": 33,
    "start_time": "2022-07-18T11:22:32.711Z"
   },
   {
    "duration": 16,
    "start_time": "2022-07-18T11:22:32.752Z"
   },
   {
    "duration": 99,
    "start_time": "2022-07-18T11:22:32.769Z"
   },
   {
    "duration": 1653,
    "start_time": "2022-07-18T11:22:32.870Z"
   },
   {
    "duration": 1063,
    "start_time": "2022-07-18T11:22:34.525Z"
   },
   {
    "duration": 4,
    "start_time": "2022-07-18T11:22:35.590Z"
   },
   {
    "duration": 204,
    "start_time": "2022-07-18T11:22:35.595Z"
   },
   {
    "duration": 59,
    "start_time": "2022-07-18T11:22:35.801Z"
   },
   {
    "duration": 3,
    "start_time": "2022-07-18T11:22:35.862Z"
   },
   {
    "duration": 5,
    "start_time": "2022-07-18T11:22:35.867Z"
   },
   {
    "duration": 5,
    "start_time": "2022-07-18T11:22:35.873Z"
   },
   {
    "duration": 35974,
    "start_time": "2022-07-18T11:22:35.879Z"
   },
   {
    "duration": 43711,
    "start_time": "2022-07-18T11:23:11.855Z"
   },
   {
    "duration": 34292,
    "start_time": "2022-07-18T11:23:55.569Z"
   },
   {
    "duration": 1237,
    "start_time": "2022-07-18T11:24:29.863Z"
   },
   {
    "duration": 130,
    "start_time": "2022-07-18T11:24:31.102Z"
   },
   {
    "duration": 94,
    "start_time": "2022-07-18T11:24:31.234Z"
   },
   {
    "duration": 43,
    "start_time": "2022-07-18T11:24:31.330Z"
   },
   {
    "duration": 448,
    "start_time": "2022-07-18T11:24:31.375Z"
   },
   {
    "duration": 77,
    "start_time": "2022-07-18T11:24:31.825Z"
   },
   {
    "duration": 73,
    "start_time": "2022-07-18T11:26:35.613Z"
   },
   {
    "duration": 1419,
    "start_time": "2022-07-18T14:46:09.320Z"
   },
   {
    "duration": 2647,
    "start_time": "2022-07-18T14:46:10.741Z"
   },
   {
    "duration": 17,
    "start_time": "2022-07-18T14:46:13.389Z"
   },
   {
    "duration": 107,
    "start_time": "2022-07-18T14:46:13.408Z"
   },
   {
    "duration": 21,
    "start_time": "2022-07-18T14:46:13.517Z"
   },
   {
    "duration": 320,
    "start_time": "2022-07-18T14:46:13.540Z"
   },
   {
    "duration": 4,
    "start_time": "2022-07-18T14:46:13.862Z"
   },
   {
    "duration": 69,
    "start_time": "2022-07-18T14:46:13.867Z"
   },
   {
    "duration": 30,
    "start_time": "2022-07-18T14:46:13.937Z"
   },
   {
    "duration": 249,
    "start_time": "2022-07-18T14:46:13.969Z"
   },
   {
    "duration": 253,
    "start_time": "2022-07-18T14:46:14.219Z"
   },
   {
    "duration": 82,
    "start_time": "2022-07-18T14:46:14.474Z"
   },
   {
    "duration": 27,
    "start_time": "2022-07-18T14:46:14.557Z"
   },
   {
    "duration": 17,
    "start_time": "2022-07-18T14:46:14.586Z"
   },
   {
    "duration": 54,
    "start_time": "2022-07-18T14:46:14.605Z"
   },
   {
    "duration": 18,
    "start_time": "2022-07-18T14:46:14.661Z"
   },
   {
    "duration": 112,
    "start_time": "2022-07-18T14:46:14.681Z"
   },
   {
    "duration": 1815,
    "start_time": "2022-07-18T14:46:14.795Z"
   },
   {
    "duration": 1062,
    "start_time": "2022-07-18T14:46:16.611Z"
   },
   {
    "duration": 3,
    "start_time": "2022-07-18T14:46:17.675Z"
   },
   {
    "duration": 198,
    "start_time": "2022-07-18T14:46:17.680Z"
   },
   {
    "duration": 56,
    "start_time": "2022-07-18T14:46:17.880Z"
   },
   {
    "duration": 15,
    "start_time": "2022-07-18T14:46:17.937Z"
   },
   {
    "duration": 4,
    "start_time": "2022-07-18T14:46:17.954Z"
   },
   {
    "duration": 5,
    "start_time": "2022-07-18T14:46:17.960Z"
   },
   {
    "duration": 1793,
    "start_time": "2022-07-18T14:46:17.967Z"
   },
   {
    "duration": 1397,
    "start_time": "2022-07-18T14:46:19.762Z"
   },
   {
    "duration": 1394,
    "start_time": "2022-07-18T14:46:21.162Z"
   },
   {
    "duration": 1199,
    "start_time": "2022-07-18T14:46:22.558Z"
   },
   {
    "duration": 131,
    "start_time": "2022-07-18T14:46:23.759Z"
   },
   {
    "duration": 95,
    "start_time": "2022-07-18T14:46:23.892Z"
   },
   {
    "duration": 39,
    "start_time": "2022-07-18T14:46:23.988Z"
   },
   {
    "duration": 465,
    "start_time": "2022-07-18T14:46:24.028Z"
   },
   {
    "duration": 52,
    "start_time": "2022-07-18T15:11:18.510Z"
   },
   {
    "duration": 1508,
    "start_time": "2022-07-18T15:11:24.795Z"
   },
   {
    "duration": 4213,
    "start_time": "2022-07-18T15:11:26.305Z"
   },
   {
    "duration": 16,
    "start_time": "2022-07-18T15:11:30.520Z"
   },
   {
    "duration": 133,
    "start_time": "2022-07-18T15:11:30.538Z"
   },
   {
    "duration": 25,
    "start_time": "2022-07-18T15:11:30.673Z"
   },
   {
    "duration": 365,
    "start_time": "2022-07-18T15:11:30.699Z"
   },
   {
    "duration": 5,
    "start_time": "2022-07-18T15:11:31.065Z"
   },
   {
    "duration": 72,
    "start_time": "2022-07-18T15:11:31.071Z"
   },
   {
    "duration": 27,
    "start_time": "2022-07-18T15:11:31.144Z"
   },
   {
    "duration": 287,
    "start_time": "2022-07-18T15:11:31.173Z"
   },
   {
    "duration": 279,
    "start_time": "2022-07-18T15:11:31.462Z"
   },
   {
    "duration": 86,
    "start_time": "2022-07-18T15:11:31.743Z"
   },
   {
    "duration": 40,
    "start_time": "2022-07-18T15:11:31.831Z"
   },
   {
    "duration": 16,
    "start_time": "2022-07-18T15:11:31.872Z"
   },
   {
    "duration": 24,
    "start_time": "2022-07-18T15:11:31.890Z"
   },
   {
    "duration": 16,
    "start_time": "2022-07-18T15:11:31.916Z"
   },
   {
    "duration": 102,
    "start_time": "2022-07-18T15:11:31.953Z"
   },
   {
    "duration": 1561,
    "start_time": "2022-07-18T15:11:32.056Z"
   },
   {
    "duration": 997,
    "start_time": "2022-07-18T15:11:33.618Z"
   },
   {
    "duration": 4,
    "start_time": "2022-07-18T15:11:34.617Z"
   },
   {
    "duration": 206,
    "start_time": "2022-07-18T15:11:34.623Z"
   },
   {
    "duration": 58,
    "start_time": "2022-07-18T15:11:34.831Z"
   },
   {
    "duration": 3,
    "start_time": "2022-07-18T15:11:34.891Z"
   },
   {
    "duration": 6,
    "start_time": "2022-07-18T15:11:34.896Z"
   },
   {
    "duration": 6,
    "start_time": "2022-07-18T15:11:34.903Z"
   },
   {
    "duration": 43358,
    "start_time": "2022-07-18T15:11:34.910Z"
   },
   {
    "duration": 36490,
    "start_time": "2022-07-18T15:12:18.271Z"
   },
   {
    "duration": 25489,
    "start_time": "2022-07-18T15:12:54.764Z"
   },
   {
    "duration": 1084,
    "start_time": "2022-07-18T15:13:20.254Z"
   },
   {
    "duration": 130,
    "start_time": "2022-07-18T15:13:21.340Z"
   },
   {
    "duration": 101,
    "start_time": "2022-07-18T15:13:21.472Z"
   },
   {
    "duration": 38,
    "start_time": "2022-07-18T15:13:21.575Z"
   },
   {
    "duration": 477,
    "start_time": "2022-07-18T15:13:21.614Z"
   },
   {
    "duration": 51,
    "start_time": "2022-07-18T16:00:26.449Z"
   },
   {
    "duration": 2253,
    "start_time": "2022-07-18T16:00:32.647Z"
   },
   {
    "duration": 2939,
    "start_time": "2022-07-18T16:00:34.902Z"
   },
   {
    "duration": 18,
    "start_time": "2022-07-18T16:00:37.843Z"
   },
   {
    "duration": 116,
    "start_time": "2022-07-18T16:00:37.863Z"
   },
   {
    "duration": 23,
    "start_time": "2022-07-18T16:00:37.981Z"
   },
   {
    "duration": 391,
    "start_time": "2022-07-18T16:00:38.006Z"
   },
   {
    "duration": 6,
    "start_time": "2022-07-18T16:00:38.399Z"
   },
   {
    "duration": 117,
    "start_time": "2022-07-18T16:00:38.407Z"
   },
   {
    "duration": 34,
    "start_time": "2022-07-18T16:00:38.525Z"
   },
   {
    "duration": 326,
    "start_time": "2022-07-18T16:00:38.561Z"
   },
   {
    "duration": 311,
    "start_time": "2022-07-18T16:00:38.889Z"
   },
   {
    "duration": 106,
    "start_time": "2022-07-18T16:00:39.201Z"
   },
   {
    "duration": 31,
    "start_time": "2022-07-18T16:00:39.309Z"
   },
   {
    "duration": 19,
    "start_time": "2022-07-18T16:00:39.352Z"
   },
   {
    "duration": 31,
    "start_time": "2022-07-18T16:00:39.373Z"
   },
   {
    "duration": 18,
    "start_time": "2022-07-18T16:00:39.405Z"
   },
   {
    "duration": 135,
    "start_time": "2022-07-18T16:00:39.424Z"
   },
   {
    "duration": 1656,
    "start_time": "2022-07-18T16:00:39.561Z"
   },
   {
    "duration": 1147,
    "start_time": "2022-07-18T16:00:41.219Z"
   },
   {
    "duration": 5,
    "start_time": "2022-07-18T16:00:42.368Z"
   },
   {
    "duration": 241,
    "start_time": "2022-07-18T16:00:42.375Z"
   },
   {
    "duration": 67,
    "start_time": "2022-07-18T16:00:42.618Z"
   },
   {
    "duration": 3,
    "start_time": "2022-07-18T16:00:42.686Z"
   },
   {
    "duration": 7,
    "start_time": "2022-07-18T16:00:42.690Z"
   },
   {
    "duration": 5,
    "start_time": "2022-07-18T16:00:42.698Z"
   },
   {
    "duration": 1456,
    "start_time": "2022-07-18T16:01:07.832Z"
   },
   {
    "duration": 728,
    "start_time": "2022-07-18T16:01:09.289Z"
   },
   {
    "duration": 17,
    "start_time": "2022-07-18T16:01:10.018Z"
   },
   {
    "duration": 125,
    "start_time": "2022-07-18T16:01:10.038Z"
   },
   {
    "duration": 18,
    "start_time": "2022-07-18T16:01:10.165Z"
   },
   {
    "duration": 329,
    "start_time": "2022-07-18T16:01:10.185Z"
   },
   {
    "duration": 5,
    "start_time": "2022-07-18T16:01:10.515Z"
   },
   {
    "duration": 79,
    "start_time": "2022-07-18T16:01:10.521Z"
   },
   {
    "duration": 35,
    "start_time": "2022-07-18T16:01:10.602Z"
   },
   {
    "duration": 271,
    "start_time": "2022-07-18T16:01:10.652Z"
   },
   {
    "duration": 268,
    "start_time": "2022-07-18T16:01:10.925Z"
   },
   {
    "duration": 89,
    "start_time": "2022-07-18T16:01:11.195Z"
   },
   {
    "duration": 25,
    "start_time": "2022-07-18T16:01:11.285Z"
   },
   {
    "duration": 16,
    "start_time": "2022-07-18T16:01:11.311Z"
   },
   {
    "duration": 45,
    "start_time": "2022-07-18T16:01:11.329Z"
   },
   {
    "duration": 16,
    "start_time": "2022-07-18T16:01:11.375Z"
   },
   {
    "duration": 103,
    "start_time": "2022-07-18T16:01:11.393Z"
   },
   {
    "duration": 1514,
    "start_time": "2022-07-18T16:01:11.498Z"
   },
   {
    "duration": 1037,
    "start_time": "2022-07-18T16:01:13.013Z"
   },
   {
    "duration": 4,
    "start_time": "2022-07-18T16:01:14.052Z"
   },
   {
    "duration": 200,
    "start_time": "2022-07-18T16:01:14.057Z"
   },
   {
    "duration": 53,
    "start_time": "2022-07-18T16:01:14.259Z"
   },
   {
    "duration": 4,
    "start_time": "2022-07-18T16:01:14.313Z"
   },
   {
    "duration": 12,
    "start_time": "2022-07-18T16:01:14.318Z"
   },
   {
    "duration": 24,
    "start_time": "2022-07-18T16:01:14.331Z"
   },
   {
    "duration": 48608,
    "start_time": "2022-07-18T16:01:14.356Z"
   },
   {
    "duration": 34989,
    "start_time": "2022-07-18T16:02:02.965Z"
   },
   {
    "duration": 35401,
    "start_time": "2022-07-18T16:02:37.958Z"
   },
   {
    "duration": 1218,
    "start_time": "2022-07-18T16:03:13.361Z"
   },
   {
    "duration": 130,
    "start_time": "2022-07-18T16:03:14.581Z"
   },
   {
    "duration": 89,
    "start_time": "2022-07-18T16:03:14.712Z"
   },
   {
    "duration": 37,
    "start_time": "2022-07-18T16:03:14.803Z"
   },
   {
    "duration": 486,
    "start_time": "2022-07-18T16:03:14.841Z"
   },
   {
    "duration": 102,
    "start_time": "2022-07-18T16:03:15.328Z"
   },
   {
    "duration": 3101153,
    "start_time": "2022-07-18T17:00:17.920Z"
   },
   {
    "duration": 49,
    "start_time": "2022-07-19T08:58:52.078Z"
   },
   {
    "duration": 1723,
    "start_time": "2022-07-19T08:59:56.104Z"
   },
   {
    "duration": 2668,
    "start_time": "2022-07-19T08:59:57.829Z"
   },
   {
    "duration": 23,
    "start_time": "2022-07-19T09:00:00.499Z"
   },
   {
    "duration": 131,
    "start_time": "2022-07-19T09:00:00.524Z"
   },
   {
    "duration": 20,
    "start_time": "2022-07-19T09:00:00.658Z"
   },
   {
    "duration": 380,
    "start_time": "2022-07-19T09:00:00.680Z"
   },
   {
    "duration": 5,
    "start_time": "2022-07-19T09:00:01.062Z"
   },
   {
    "duration": 89,
    "start_time": "2022-07-19T09:00:01.069Z"
   },
   {
    "duration": 32,
    "start_time": "2022-07-19T09:00:01.160Z"
   },
   {
    "duration": 40,
    "start_time": "2022-07-19T09:00:01.194Z"
   },
   {
    "duration": 323,
    "start_time": "2022-07-19T09:00:01.241Z"
   },
   {
    "duration": 314,
    "start_time": "2022-07-19T09:00:01.566Z"
   },
   {
    "duration": 117,
    "start_time": "2022-07-19T09:00:01.882Z"
   },
   {
    "duration": 41,
    "start_time": "2022-07-19T09:00:02.002Z"
   },
   {
    "duration": 40,
    "start_time": "2022-07-19T09:00:02.045Z"
   },
   {
    "duration": 115,
    "start_time": "2022-07-19T09:00:02.087Z"
   },
   {
    "duration": 21,
    "start_time": "2022-07-19T09:00:02.204Z"
   },
   {
    "duration": 120,
    "start_time": "2022-07-19T09:00:02.227Z"
   },
   {
    "duration": 1899,
    "start_time": "2022-07-19T09:00:02.349Z"
   },
   {
    "duration": 1392,
    "start_time": "2022-07-19T09:00:04.250Z"
   },
   {
    "duration": 4,
    "start_time": "2022-07-19T09:00:05.644Z"
   },
   {
    "duration": 234,
    "start_time": "2022-07-19T09:00:05.650Z"
   },
   {
    "duration": 71,
    "start_time": "2022-07-19T09:00:05.885Z"
   },
   {
    "duration": 4,
    "start_time": "2022-07-19T09:00:05.958Z"
   },
   {
    "duration": 16,
    "start_time": "2022-07-19T09:00:05.964Z"
   },
   {
    "duration": 33,
    "start_time": "2022-07-19T09:00:05.982Z"
   },
   {
    "duration": 54725,
    "start_time": "2022-07-19T09:00:06.017Z"
   },
   {
    "duration": 40904,
    "start_time": "2022-07-19T09:01:00.744Z"
   },
   {
    "duration": 10210,
    "start_time": "2022-07-19T09:01:41.650Z"
   },
   {
    "duration": 1410,
    "start_time": "2022-07-19T09:01:51.862Z"
   },
   {
    "duration": 133,
    "start_time": "2022-07-19T09:01:53.274Z"
   },
   {
    "duration": 92,
    "start_time": "2022-07-19T09:01:53.409Z"
   },
   {
    "duration": 55,
    "start_time": "2022-07-19T09:01:53.503Z"
   },
   {
    "duration": 466,
    "start_time": "2022-07-19T09:01:53.560Z"
   },
   {
    "duration": 1555,
    "start_time": "2022-07-19T09:12:05.257Z"
   },
   {
    "duration": 809,
    "start_time": "2022-07-19T09:12:06.814Z"
   },
   {
    "duration": 28,
    "start_time": "2022-07-19T09:12:07.625Z"
   },
   {
    "duration": 154,
    "start_time": "2022-07-19T09:12:07.654Z"
   },
   {
    "duration": 45,
    "start_time": "2022-07-19T09:12:07.812Z"
   },
   {
    "duration": 398,
    "start_time": "2022-07-19T09:12:07.859Z"
   },
   {
    "duration": 5,
    "start_time": "2022-07-19T09:12:08.259Z"
   },
   {
    "duration": 96,
    "start_time": "2022-07-19T09:12:08.265Z"
   },
   {
    "duration": 299,
    "start_time": "2022-07-19T09:12:08.363Z"
   },
   {
    "duration": 330,
    "start_time": "2022-07-19T09:12:08.663Z"
   },
   {
    "duration": 108,
    "start_time": "2022-07-19T09:12:08.995Z"
   },
   {
    "duration": 48,
    "start_time": "2022-07-19T09:12:09.104Z"
   },
   {
    "duration": 17,
    "start_time": "2022-07-19T09:12:09.154Z"
   },
   {
    "duration": 30,
    "start_time": "2022-07-19T09:12:09.173Z"
   },
   {
    "duration": 18,
    "start_time": "2022-07-19T09:12:09.205Z"
   },
   {
    "duration": 136,
    "start_time": "2022-07-19T09:12:09.224Z"
   },
   {
    "duration": 1891,
    "start_time": "2022-07-19T09:12:09.362Z"
   },
   {
    "duration": 1299,
    "start_time": "2022-07-19T09:12:11.255Z"
   },
   {
    "duration": 4,
    "start_time": "2022-07-19T09:12:12.556Z"
   },
   {
    "duration": 231,
    "start_time": "2022-07-19T09:12:12.562Z"
   },
   {
    "duration": 64,
    "start_time": "2022-07-19T09:12:12.795Z"
   },
   {
    "duration": 4,
    "start_time": "2022-07-19T09:12:12.860Z"
   },
   {
    "duration": 10,
    "start_time": "2022-07-19T09:12:12.865Z"
   },
   {
    "duration": 21,
    "start_time": "2022-07-19T09:12:12.876Z"
   },
   {
    "duration": 11462,
    "start_time": "2022-07-19T09:12:12.899Z"
   },
   {
    "duration": 9678,
    "start_time": "2022-07-19T09:12:24.363Z"
   },
   {
    "duration": 5802,
    "start_time": "2022-07-19T09:12:34.043Z"
   },
   {
    "duration": 1366,
    "start_time": "2022-07-19T09:12:39.847Z"
   },
   {
    "duration": 139,
    "start_time": "2022-07-19T09:12:41.215Z"
   },
   {
    "duration": 94,
    "start_time": "2022-07-19T09:12:41.356Z"
   },
   {
    "duration": 42,
    "start_time": "2022-07-19T09:12:41.452Z"
   },
   {
    "duration": 466,
    "start_time": "2022-07-19T09:12:41.496Z"
   },
   {
    "duration": 1755819,
    "start_time": "2022-07-19T09:12:41.964Z"
   },
   {
    "duration": 0,
    "start_time": "2022-07-19T09:41:57.786Z"
   },
   {
    "duration": 0,
    "start_time": "2022-07-19T09:41:57.792Z"
   },
   {
    "duration": 0,
    "start_time": "2022-07-19T09:41:57.794Z"
   },
   {
    "duration": 0,
    "start_time": "2022-07-19T09:41:57.795Z"
   },
   {
    "duration": 1557,
    "start_time": "2022-07-19T09:42:02.788Z"
   },
   {
    "duration": 844,
    "start_time": "2022-07-19T09:42:04.347Z"
   },
   {
    "duration": 21,
    "start_time": "2022-07-19T09:42:05.193Z"
   },
   {
    "duration": 141,
    "start_time": "2022-07-19T09:42:05.215Z"
   },
   {
    "duration": 23,
    "start_time": "2022-07-19T09:42:05.359Z"
   },
   {
    "duration": 376,
    "start_time": "2022-07-19T09:42:05.384Z"
   },
   {
    "duration": 6,
    "start_time": "2022-07-19T09:42:05.762Z"
   },
   {
    "duration": 91,
    "start_time": "2022-07-19T09:42:05.769Z"
   },
   {
    "duration": 319,
    "start_time": "2022-07-19T09:42:05.862Z"
   },
   {
    "duration": 319,
    "start_time": "2022-07-19T09:42:06.183Z"
   },
   {
    "duration": 106,
    "start_time": "2022-07-19T09:42:06.504Z"
   },
   {
    "duration": 48,
    "start_time": "2022-07-19T09:42:06.612Z"
   },
   {
    "duration": 18,
    "start_time": "2022-07-19T09:42:06.661Z"
   },
   {
    "duration": 28,
    "start_time": "2022-07-19T09:42:06.682Z"
   },
   {
    "duration": 43,
    "start_time": "2022-07-19T09:42:06.711Z"
   },
   {
    "duration": 111,
    "start_time": "2022-07-19T09:42:06.755Z"
   },
   {
    "duration": 1995,
    "start_time": "2022-07-19T09:42:06.867Z"
   },
   {
    "duration": 1336,
    "start_time": "2022-07-19T09:42:08.864Z"
   },
   {
    "duration": 4,
    "start_time": "2022-07-19T09:42:10.202Z"
   },
   {
    "duration": 245,
    "start_time": "2022-07-19T09:42:10.207Z"
   },
   {
    "duration": 53,
    "start_time": "2022-07-19T09:42:10.454Z"
   },
   {
    "duration": 4,
    "start_time": "2022-07-19T09:42:10.508Z"
   },
   {
    "duration": 15,
    "start_time": "2022-07-19T09:42:10.513Z"
   },
   {
    "duration": 35,
    "start_time": "2022-07-19T09:42:10.530Z"
   },
   {
    "duration": 8385,
    "start_time": "2022-07-19T09:42:10.566Z"
   },
   {
    "duration": 8200,
    "start_time": "2022-07-19T09:42:18.953Z"
   },
   {
    "duration": 7202,
    "start_time": "2022-07-19T09:42:27.155Z"
   },
   {
    "duration": 1598,
    "start_time": "2022-07-19T09:42:34.360Z"
   },
   {
    "duration": 132,
    "start_time": "2022-07-19T09:42:35.959Z"
   },
   {
    "duration": 96,
    "start_time": "2022-07-19T09:42:36.093Z"
   },
   {
    "duration": 62,
    "start_time": "2022-07-19T09:42:36.191Z"
   },
   {
    "duration": 474,
    "start_time": "2022-07-19T09:42:36.255Z"
   },
   {
    "duration": 4,
    "start_time": "2022-07-19T09:42:36.731Z"
   },
   {
    "duration": 732508,
    "start_time": "2022-07-19T09:42:36.737Z"
   },
   {
    "duration": 134475,
    "start_time": "2022-07-19T09:54:49.247Z"
   },
   {
    "duration": 2714330,
    "start_time": "2022-07-19T09:57:03.724Z"
   },
   {
    "duration": 217,
    "start_time": "2022-07-19T10:42:18.055Z"
   },
   {
    "duration": 1495,
    "start_time": "2022-07-19T12:55:05.855Z"
   },
   {
    "duration": 917,
    "start_time": "2022-07-19T12:55:07.352Z"
   },
   {
    "duration": 24,
    "start_time": "2022-07-19T12:55:08.271Z"
   },
   {
    "duration": 149,
    "start_time": "2022-07-19T12:55:08.298Z"
   },
   {
    "duration": 24,
    "start_time": "2022-07-19T12:55:08.449Z"
   },
   {
    "duration": 398,
    "start_time": "2022-07-19T12:55:08.475Z"
   },
   {
    "duration": 9,
    "start_time": "2022-07-19T12:55:08.875Z"
   },
   {
    "duration": 140,
    "start_time": "2022-07-19T12:55:08.886Z"
   },
   {
    "duration": 344,
    "start_time": "2022-07-19T12:55:09.028Z"
   },
   {
    "duration": 317,
    "start_time": "2022-07-19T12:55:09.375Z"
   },
   {
    "duration": 114,
    "start_time": "2022-07-19T12:55:09.695Z"
   },
   {
    "duration": 44,
    "start_time": "2022-07-19T12:55:09.811Z"
   },
   {
    "duration": 19,
    "start_time": "2022-07-19T12:55:09.857Z"
   },
   {
    "duration": 32,
    "start_time": "2022-07-19T12:55:09.878Z"
   },
   {
    "duration": 43,
    "start_time": "2022-07-19T12:55:09.913Z"
   },
   {
    "duration": 130,
    "start_time": "2022-07-19T12:55:09.959Z"
   },
   {
    "duration": 1964,
    "start_time": "2022-07-19T12:55:10.091Z"
   },
   {
    "duration": 1322,
    "start_time": "2022-07-19T12:55:12.058Z"
   },
   {
    "duration": 5,
    "start_time": "2022-07-19T12:55:13.382Z"
   },
   {
    "duration": 229,
    "start_time": "2022-07-19T12:55:13.388Z"
   },
   {
    "duration": 62,
    "start_time": "2022-07-19T12:55:13.619Z"
   },
   {
    "duration": 4,
    "start_time": "2022-07-19T12:55:13.683Z"
   },
   {
    "duration": 6,
    "start_time": "2022-07-19T12:55:13.689Z"
   },
   {
    "duration": 6,
    "start_time": "2022-07-19T12:55:13.697Z"
   },
   {
    "duration": 39450,
    "start_time": "2022-07-19T12:55:13.705Z"
   },
   {
    "duration": 40500,
    "start_time": "2022-07-19T12:55:53.241Z"
   },
   {
    "duration": 39702,
    "start_time": "2022-07-19T12:56:33.743Z"
   },
   {
    "duration": 1447,
    "start_time": "2022-07-19T12:57:13.449Z"
   },
   {
    "duration": 136,
    "start_time": "2022-07-19T12:57:14.898Z"
   },
   {
    "duration": 124,
    "start_time": "2022-07-19T12:57:15.036Z"
   },
   {
    "duration": 55,
    "start_time": "2022-07-19T12:57:15.163Z"
   },
   {
    "duration": 483,
    "start_time": "2022-07-19T12:57:15.220Z"
   },
   {
    "duration": 4,
    "start_time": "2022-07-19T12:57:15.706Z"
   },
   {
    "duration": 530736,
    "start_time": "2022-07-19T12:57:15.712Z"
   },
   {
    "duration": 134002,
    "start_time": "2022-07-19T13:06:06.450Z"
   },
   {
    "duration": 2772290,
    "start_time": "2022-07-19T13:08:20.454Z"
   },
   {
    "duration": 152,
    "start_time": "2022-07-19T13:54:32.747Z"
   },
   {
    "duration": 783722,
    "start_time": "2022-07-19T14:53:21.628Z"
   },
   {
    "duration": 131229,
    "start_time": "2022-07-19T15:06:25.441Z"
   },
   {
    "duration": 1578,
    "start_time": "2022-07-19T15:39:27.951Z"
   },
   {
    "duration": 948,
    "start_time": "2022-07-19T15:39:29.531Z"
   },
   {
    "duration": 19,
    "start_time": "2022-07-19T15:39:30.481Z"
   },
   {
    "duration": 164,
    "start_time": "2022-07-19T15:39:30.503Z"
   },
   {
    "duration": 23,
    "start_time": "2022-07-19T15:39:30.669Z"
   },
   {
    "duration": 437,
    "start_time": "2022-07-19T15:39:30.694Z"
   },
   {
    "duration": 9,
    "start_time": "2022-07-19T15:39:31.133Z"
   },
   {
    "duration": 100,
    "start_time": "2022-07-19T15:39:31.144Z"
   },
   {
    "duration": 371,
    "start_time": "2022-07-19T15:39:31.248Z"
   },
   {
    "duration": 370,
    "start_time": "2022-07-19T15:39:31.621Z"
   },
   {
    "duration": 116,
    "start_time": "2022-07-19T15:39:31.993Z"
   },
   {
    "duration": 53,
    "start_time": "2022-07-19T15:39:32.110Z"
   },
   {
    "duration": 18,
    "start_time": "2022-07-19T15:39:32.164Z"
   },
   {
    "duration": 30,
    "start_time": "2022-07-19T15:39:32.184Z"
   },
   {
    "duration": 45,
    "start_time": "2022-07-19T15:39:32.215Z"
   },
   {
    "duration": 137,
    "start_time": "2022-07-19T15:39:32.263Z"
   },
   {
    "duration": 1838,
    "start_time": "2022-07-19T15:39:32.402Z"
   },
   {
    "duration": 1487,
    "start_time": "2022-07-19T15:39:34.242Z"
   },
   {
    "duration": 16,
    "start_time": "2022-07-19T15:39:35.730Z"
   },
   {
    "duration": 225,
    "start_time": "2022-07-19T15:39:35.748Z"
   },
   {
    "duration": 55,
    "start_time": "2022-07-19T15:39:35.975Z"
   },
   {
    "duration": 6,
    "start_time": "2022-07-19T15:39:36.039Z"
   },
   {
    "duration": 14,
    "start_time": "2022-07-19T15:39:36.047Z"
   },
   {
    "duration": 5,
    "start_time": "2022-07-19T15:39:36.064Z"
   },
   {
    "duration": 25377,
    "start_time": "2022-07-19T15:39:36.070Z"
   },
   {
    "duration": 19292,
    "start_time": "2022-07-19T15:40:01.451Z"
   },
   {
    "duration": 18298,
    "start_time": "2022-07-19T15:40:20.746Z"
   },
   {
    "duration": 1563,
    "start_time": "2022-07-19T15:40:39.049Z"
   },
   {
    "duration": 129,
    "start_time": "2022-07-19T15:40:40.614Z"
   },
   {
    "duration": 107,
    "start_time": "2022-07-19T15:40:40.745Z"
   },
   {
    "duration": 48,
    "start_time": "2022-07-19T15:40:40.855Z"
   },
   {
    "duration": 492,
    "start_time": "2022-07-19T15:40:40.905Z"
   },
   {
    "duration": 4,
    "start_time": "2022-07-19T15:40:41.399Z"
   },
   {
    "duration": 782044,
    "start_time": "2022-07-19T15:40:41.405Z"
   },
   {
    "duration": 130347,
    "start_time": "2022-07-19T15:53:43.453Z"
   },
   {
    "duration": 2621960,
    "start_time": "2022-07-19T15:55:53.802Z"
   },
   {
    "duration": 8,
    "start_time": "2022-07-19T16:39:35.764Z"
   },
   {
    "duration": 5,
    "start_time": "2022-07-19T16:39:35.777Z"
   },
   {
    "duration": 1724,
    "start_time": "2022-07-19T16:41:24.482Z"
   },
   {
    "duration": 1219,
    "start_time": "2022-07-19T16:41:26.209Z"
   },
   {
    "duration": 27,
    "start_time": "2022-07-19T16:41:27.430Z"
   },
   {
    "duration": 175,
    "start_time": "2022-07-19T16:41:27.460Z"
   },
   {
    "duration": 41,
    "start_time": "2022-07-19T16:41:27.646Z"
   },
   {
    "duration": 514,
    "start_time": "2022-07-19T16:41:27.690Z"
   },
   {
    "duration": 9,
    "start_time": "2022-07-19T16:41:28.206Z"
   },
   {
    "duration": 138,
    "start_time": "2022-07-19T16:41:28.219Z"
   },
   {
    "duration": 461,
    "start_time": "2022-07-19T16:41:28.362Z"
   },
   {
    "duration": 385,
    "start_time": "2022-07-19T16:41:28.826Z"
   },
   {
    "duration": 136,
    "start_time": "2022-07-19T16:41:29.213Z"
   },
   {
    "duration": 54,
    "start_time": "2022-07-19T16:41:29.361Z"
   },
   {
    "duration": 31,
    "start_time": "2022-07-19T16:41:29.418Z"
   },
   {
    "duration": 37,
    "start_time": "2022-07-19T16:41:29.451Z"
   },
   {
    "duration": 31,
    "start_time": "2022-07-19T16:41:29.490Z"
   },
   {
    "duration": 184,
    "start_time": "2022-07-19T16:41:29.524Z"
   },
   {
    "duration": 2235,
    "start_time": "2022-07-19T16:41:29.711Z"
   },
   {
    "duration": 1579,
    "start_time": "2022-07-19T16:41:31.948Z"
   },
   {
    "duration": 15,
    "start_time": "2022-07-19T16:41:33.529Z"
   },
   {
    "duration": 249,
    "start_time": "2022-07-19T16:41:33.554Z"
   },
   {
    "duration": 93,
    "start_time": "2022-07-19T16:41:33.806Z"
   },
   {
    "duration": 4,
    "start_time": "2022-07-19T16:41:33.901Z"
   },
   {
    "duration": 9,
    "start_time": "2022-07-19T16:41:33.906Z"
   },
   {
    "duration": 15,
    "start_time": "2022-07-19T16:41:33.917Z"
   },
   {
    "duration": 43805,
    "start_time": "2022-07-19T16:41:33.939Z"
   },
   {
    "duration": 40444,
    "start_time": "2022-07-19T16:42:17.747Z"
   },
   {
    "duration": 41009,
    "start_time": "2022-07-19T16:42:58.241Z"
   },
   {
    "duration": 1685,
    "start_time": "2022-07-19T16:43:39.260Z"
   },
   {
    "duration": 141,
    "start_time": "2022-07-19T16:43:40.956Z"
   },
   {
    "duration": 118,
    "start_time": "2022-07-19T16:43:41.099Z"
   },
   {
    "duration": 59,
    "start_time": "2022-07-19T16:43:41.219Z"
   },
   {
    "duration": 576,
    "start_time": "2022-07-19T16:43:41.280Z"
   },
   {
    "duration": 10,
    "start_time": "2022-07-19T16:43:41.860Z"
   },
   {
    "duration": 12,
    "start_time": "2022-07-19T16:43:41.873Z"
   },
   {
    "duration": 1268059,
    "start_time": "2022-07-19T16:43:41.888Z"
   },
   {
    "duration": 142916,
    "start_time": "2022-07-19T17:04:49.951Z"
   },
   {
    "duration": 2927443,
    "start_time": "2022-07-19T17:07:12.868Z"
   },
   {
    "duration": 6,
    "start_time": "2022-07-19T17:56:00.313Z"
   },
   {
    "duration": 1548,
    "start_time": "2022-07-19T18:05:37.161Z"
   },
   {
    "duration": 957,
    "start_time": "2022-07-19T18:05:38.712Z"
   },
   {
    "duration": 20,
    "start_time": "2022-07-19T18:05:39.671Z"
   },
   {
    "duration": 135,
    "start_time": "2022-07-19T18:05:39.692Z"
   },
   {
    "duration": 37,
    "start_time": "2022-07-19T18:05:39.830Z"
   },
   {
    "duration": 390,
    "start_time": "2022-07-19T18:05:39.869Z"
   },
   {
    "duration": 9,
    "start_time": "2022-07-19T18:05:40.264Z"
   },
   {
    "duration": 88,
    "start_time": "2022-07-19T18:05:40.275Z"
   },
   {
    "duration": 337,
    "start_time": "2022-07-19T18:05:40.366Z"
   },
   {
    "duration": 342,
    "start_time": "2022-07-19T18:05:40.705Z"
   },
   {
    "duration": 115,
    "start_time": "2022-07-19T18:05:41.051Z"
   },
   {
    "duration": 28,
    "start_time": "2022-07-19T18:05:41.167Z"
   },
   {
    "duration": 16,
    "start_time": "2022-07-19T18:05:41.197Z"
   },
   {
    "duration": 44,
    "start_time": "2022-07-19T18:05:41.216Z"
   },
   {
    "duration": 21,
    "start_time": "2022-07-19T18:05:41.262Z"
   },
   {
    "duration": 132,
    "start_time": "2022-07-19T18:05:41.285Z"
   },
   {
    "duration": 2070,
    "start_time": "2022-07-19T18:05:41.419Z"
   },
   {
    "duration": 1316,
    "start_time": "2022-07-19T18:05:43.491Z"
   },
   {
    "duration": 5,
    "start_time": "2022-07-19T18:05:44.808Z"
   },
   {
    "duration": 256,
    "start_time": "2022-07-19T18:05:44.814Z"
   },
   {
    "duration": 69,
    "start_time": "2022-07-19T18:05:45.073Z"
   },
   {
    "duration": 5,
    "start_time": "2022-07-19T18:05:45.150Z"
   },
   {
    "duration": 25,
    "start_time": "2022-07-19T18:05:45.159Z"
   },
   {
    "duration": 13,
    "start_time": "2022-07-19T18:05:45.186Z"
   },
   {
    "duration": 9,
    "start_time": "2022-07-19T18:05:45.201Z"
   },
   {
    "duration": 5,
    "start_time": "2022-07-19T18:05:45.212Z"
   },
   {
    "duration": 29660,
    "start_time": "2022-07-19T18:05:45.218Z"
   },
   {
    "duration": 33985,
    "start_time": "2022-07-19T18:06:14.880Z"
   },
   {
    "duration": 35672,
    "start_time": "2022-07-19T18:06:48.878Z"
   },
   {
    "duration": 1641,
    "start_time": "2022-07-19T18:07:24.553Z"
   },
   {
    "duration": 139,
    "start_time": "2022-07-19T18:07:26.196Z"
   },
   {
    "duration": 117,
    "start_time": "2022-07-19T18:07:26.337Z"
   },
   {
    "duration": 54,
    "start_time": "2022-07-19T18:07:26.463Z"
   },
   {
    "duration": 544,
    "start_time": "2022-07-19T18:07:26.519Z"
   },
   {
    "duration": 10,
    "start_time": "2022-07-19T18:07:27.064Z"
   },
   {
    "duration": 18,
    "start_time": "2022-07-19T18:07:27.077Z"
   },
   {
    "duration": 1856462,
    "start_time": "2022-07-19T18:07:27.097Z"
   },
   {
    "duration": 146554,
    "start_time": "2022-07-19T18:38:23.561Z"
   },
   {
    "duration": 3098160,
    "start_time": "2022-07-19T18:40:50.117Z"
   },
   {
    "duration": 12,
    "start_time": "2022-07-19T19:32:28.281Z"
   },
   {
    "duration": 57,
    "start_time": "2022-07-20T08:39:15.431Z"
   },
   {
    "duration": 1623,
    "start_time": "2022-07-20T08:39:20.774Z"
   },
   {
    "duration": 1048,
    "start_time": "2022-07-20T08:39:22.399Z"
   },
   {
    "duration": 19,
    "start_time": "2022-07-20T08:39:23.448Z"
   },
   {
    "duration": 161,
    "start_time": "2022-07-20T08:39:23.470Z"
   },
   {
    "duration": 19,
    "start_time": "2022-07-20T08:39:23.633Z"
   },
   {
    "duration": 374,
    "start_time": "2022-07-20T08:39:23.655Z"
   },
   {
    "duration": 4,
    "start_time": "2022-07-20T08:39:24.031Z"
   },
   {
    "duration": 83,
    "start_time": "2022-07-20T08:39:24.037Z"
   },
   {
    "duration": 291,
    "start_time": "2022-07-20T08:39:24.122Z"
   },
   {
    "duration": 292,
    "start_time": "2022-07-20T08:39:24.416Z"
   },
   {
    "duration": 20,
    "start_time": "2022-07-20T08:39:24.710Z"
   },
   {
    "duration": 99,
    "start_time": "2022-07-20T08:39:24.732Z"
   },
   {
    "duration": 28,
    "start_time": "2022-07-20T08:39:24.832Z"
   },
   {
    "duration": 15,
    "start_time": "2022-07-20T08:39:24.862Z"
   },
   {
    "duration": 43,
    "start_time": "2022-07-20T08:39:24.879Z"
   },
   {
    "duration": 17,
    "start_time": "2022-07-20T08:39:24.924Z"
   },
   {
    "duration": 121,
    "start_time": "2022-07-20T08:39:24.943Z"
   },
   {
    "duration": 1673,
    "start_time": "2022-07-20T08:39:25.065Z"
   },
   {
    "duration": 1042,
    "start_time": "2022-07-20T08:39:26.740Z"
   },
   {
    "duration": 4,
    "start_time": "2022-07-20T08:39:27.783Z"
   },
   {
    "duration": 186,
    "start_time": "2022-07-20T08:39:27.800Z"
   },
   {
    "duration": 58,
    "start_time": "2022-07-20T08:39:27.987Z"
   },
   {
    "duration": 3,
    "start_time": "2022-07-20T08:39:28.046Z"
   },
   {
    "duration": 5,
    "start_time": "2022-07-20T08:39:28.051Z"
   },
   {
    "duration": 16,
    "start_time": "2022-07-20T08:39:28.058Z"
   },
   {
    "duration": 16,
    "start_time": "2022-07-20T08:39:28.075Z"
   },
   {
    "duration": 11,
    "start_time": "2022-07-20T08:39:28.092Z"
   },
   {
    "duration": 1802,
    "start_time": "2022-07-20T08:39:28.106Z"
   },
   {
    "duration": 1298,
    "start_time": "2022-07-20T08:39:29.909Z"
   },
   {
    "duration": 1692,
    "start_time": "2022-07-20T08:39:31.209Z"
   },
   {
    "duration": 1108,
    "start_time": "2022-07-20T08:39:32.902Z"
   },
   {
    "duration": 128,
    "start_time": "2022-07-20T08:39:34.012Z"
   },
   {
    "duration": 91,
    "start_time": "2022-07-20T08:39:34.142Z"
   },
   {
    "duration": 38,
    "start_time": "2022-07-20T08:39:34.235Z"
   },
   {
    "duration": 547,
    "start_time": "2022-07-20T08:39:34.275Z"
   },
   {
    "duration": 4,
    "start_time": "2022-07-20T08:39:34.824Z"
   },
   {
    "duration": 14,
    "start_time": "2022-07-20T08:39:34.831Z"
   },
   {
    "duration": 262426,
    "start_time": "2022-07-20T08:39:34.847Z"
   },
   {
    "duration": 46079,
    "start_time": "2022-07-20T08:43:57.274Z"
   },
   {
    "duration": 3080,
    "start_time": "2022-07-20T08:44:43.355Z"
   },
   {
    "duration": 5,
    "start_time": "2022-07-20T08:44:46.437Z"
   },
   {
    "duration": 0,
    "start_time": "2022-07-20T08:44:47.357Z"
   },
   {
    "duration": 936,
    "start_time": "2022-07-20T08:44:47.613Z"
   },
   {
    "duration": 11,
    "start_time": "2022-07-20T08:45:05.308Z"
   },
   {
    "duration": 10,
    "start_time": "2022-07-20T08:45:13.576Z"
   },
   {
    "duration": 4,
    "start_time": "2022-07-20T08:45:19.472Z"
   },
   {
    "duration": 704,
    "start_time": "2022-07-20T08:45:45.892Z"
   },
   {
    "duration": 13,
    "start_time": "2022-07-20T08:45:47.120Z"
   },
   {
    "duration": 115,
    "start_time": "2022-07-20T08:45:49.436Z"
   },
   {
    "duration": 19,
    "start_time": "2022-07-20T08:45:52.568Z"
   },
   {
    "duration": 282,
    "start_time": "2022-07-20T08:45:54.664Z"
   },
   {
    "duration": 5,
    "start_time": "2022-07-20T08:45:58.668Z"
   },
   {
    "duration": 6,
    "start_time": "2022-07-20T08:46:00.835Z"
   },
   {
    "duration": 69,
    "start_time": "2022-07-20T08:46:03.191Z"
   },
   {
    "duration": 246,
    "start_time": "2022-07-20T08:46:05.608Z"
   },
   {
    "duration": 274,
    "start_time": "2022-07-20T08:46:07.185Z"
   },
   {
    "duration": 4,
    "start_time": "2022-07-20T08:46:09.716Z"
   },
   {
    "duration": 9,
    "start_time": "2022-07-20T08:46:12.252Z"
   },
   {
    "duration": 26,
    "start_time": "2022-07-20T08:46:24.584Z"
   },
   {
    "duration": 20,
    "start_time": "2022-07-20T08:46:32.348Z"
   },
   {
    "duration": 24,
    "start_time": "2022-07-20T08:46:37.864Z"
   },
   {
    "duration": 25,
    "start_time": "2022-07-20T08:47:15.770Z"
   },
   {
    "duration": 77,
    "start_time": "2022-07-20T08:47:49.655Z"
   },
   {
    "duration": 19,
    "start_time": "2022-07-20T08:48:21.199Z"
   },
   {
    "duration": 21,
    "start_time": "2022-07-20T08:48:30.358Z"
   },
   {
    "duration": 35,
    "start_time": "2022-07-20T08:48:42.999Z"
   },
   {
    "duration": 30,
    "start_time": "2022-07-20T08:48:49.647Z"
   },
   {
    "duration": 31,
    "start_time": "2022-07-20T08:49:23.799Z"
   },
   {
    "duration": 31,
    "start_time": "2022-07-20T08:49:29.682Z"
   },
   {
    "duration": 29,
    "start_time": "2022-07-20T08:49:51.894Z"
   },
   {
    "duration": 30,
    "start_time": "2022-07-20T08:50:01.683Z"
   },
   {
    "duration": 22,
    "start_time": "2022-07-20T08:56:51.065Z"
   },
   {
    "duration": 21,
    "start_time": "2022-07-20T08:57:09.566Z"
   },
   {
    "duration": 28,
    "start_time": "2022-07-20T08:57:11.712Z"
   },
   {
    "duration": 26,
    "start_time": "2022-07-20T08:58:40.144Z"
   },
   {
    "duration": 37,
    "start_time": "2022-07-20T08:58:57.908Z"
   },
   {
    "duration": 46,
    "start_time": "2022-07-20T08:59:29.760Z"
   },
   {
    "duration": 209,
    "start_time": "2022-07-20T08:59:39.483Z"
   },
   {
    "duration": 1358,
    "start_time": "2022-07-20T08:59:47.496Z"
   },
   {
    "duration": 771,
    "start_time": "2022-07-20T08:59:48.856Z"
   },
   {
    "duration": 17,
    "start_time": "2022-07-20T08:59:49.628Z"
   },
   {
    "duration": 264,
    "start_time": "2022-07-20T08:59:49.647Z"
   },
   {
    "duration": 19,
    "start_time": "2022-07-20T08:59:49.913Z"
   },
   {
    "duration": 685,
    "start_time": "2022-07-20T08:59:49.934Z"
   },
   {
    "duration": 4,
    "start_time": "2022-07-20T08:59:50.621Z"
   },
   {
    "duration": 182,
    "start_time": "2022-07-20T08:59:50.626Z"
   },
   {
    "duration": 461,
    "start_time": "2022-07-20T08:59:50.809Z"
   },
   {
    "duration": 298,
    "start_time": "2022-07-20T08:59:51.272Z"
   },
   {
    "duration": 4,
    "start_time": "2022-07-20T08:59:51.571Z"
   },
   {
    "duration": 51,
    "start_time": "2022-07-20T08:59:51.577Z"
   },
   {
    "duration": 458,
    "start_time": "2022-07-20T08:59:51.630Z"
   },
   {
    "duration": 0,
    "start_time": "2022-07-20T08:59:52.090Z"
   },
   {
    "duration": 0,
    "start_time": "2022-07-20T08:59:52.091Z"
   },
   {
    "duration": 0,
    "start_time": "2022-07-20T08:59:52.092Z"
   },
   {
    "duration": 0,
    "start_time": "2022-07-20T08:59:52.094Z"
   },
   {
    "duration": 0,
    "start_time": "2022-07-20T08:59:52.096Z"
   },
   {
    "duration": 0,
    "start_time": "2022-07-20T08:59:52.097Z"
   },
   {
    "duration": 1,
    "start_time": "2022-07-20T08:59:52.098Z"
   },
   {
    "duration": 0,
    "start_time": "2022-07-20T08:59:52.100Z"
   },
   {
    "duration": 0,
    "start_time": "2022-07-20T08:59:52.101Z"
   },
   {
    "duration": 0,
    "start_time": "2022-07-20T08:59:52.102Z"
   },
   {
    "duration": 0,
    "start_time": "2022-07-20T08:59:52.104Z"
   },
   {
    "duration": 0,
    "start_time": "2022-07-20T08:59:52.104Z"
   },
   {
    "duration": 0,
    "start_time": "2022-07-20T08:59:52.105Z"
   },
   {
    "duration": 0,
    "start_time": "2022-07-20T08:59:52.106Z"
   },
   {
    "duration": 0,
    "start_time": "2022-07-20T08:59:52.107Z"
   },
   {
    "duration": 0,
    "start_time": "2022-07-20T08:59:52.108Z"
   },
   {
    "duration": 0,
    "start_time": "2022-07-20T08:59:52.109Z"
   },
   {
    "duration": 0,
    "start_time": "2022-07-20T08:59:52.110Z"
   },
   {
    "duration": 0,
    "start_time": "2022-07-20T08:59:52.111Z"
   },
   {
    "duration": 0,
    "start_time": "2022-07-20T08:59:52.112Z"
   },
   {
    "duration": 0,
    "start_time": "2022-07-20T08:59:52.113Z"
   },
   {
    "duration": 0,
    "start_time": "2022-07-20T08:59:52.114Z"
   },
   {
    "duration": 0,
    "start_time": "2022-07-20T08:59:52.114Z"
   },
   {
    "duration": 0,
    "start_time": "2022-07-20T08:59:52.115Z"
   },
   {
    "duration": 0,
    "start_time": "2022-07-20T08:59:52.116Z"
   },
   {
    "duration": 0,
    "start_time": "2022-07-20T08:59:52.117Z"
   },
   {
    "duration": 0,
    "start_time": "2022-07-20T08:59:52.118Z"
   },
   {
    "duration": 0,
    "start_time": "2022-07-20T08:59:52.119Z"
   },
   {
    "duration": 0,
    "start_time": "2022-07-20T08:59:52.120Z"
   },
   {
    "duration": 0,
    "start_time": "2022-07-20T08:59:52.121Z"
   },
   {
    "duration": 0,
    "start_time": "2022-07-20T08:59:52.121Z"
   },
   {
    "duration": 0,
    "start_time": "2022-07-20T08:59:52.122Z"
   },
   {
    "duration": 0,
    "start_time": "2022-07-20T08:59:52.124Z"
   },
   {
    "duration": 44,
    "start_time": "2022-07-20T09:00:15.496Z"
   },
   {
    "duration": 26,
    "start_time": "2022-07-20T09:00:28.785Z"
   },
   {
    "duration": 51,
    "start_time": "2022-07-20T09:00:32.616Z"
   },
   {
    "duration": 40,
    "start_time": "2022-07-20T09:00:41.264Z"
   },
   {
    "duration": 34,
    "start_time": "2022-07-20T09:01:01.923Z"
   },
   {
    "duration": 22,
    "start_time": "2022-07-20T09:01:04.504Z"
   },
   {
    "duration": 24,
    "start_time": "2022-07-20T09:01:05.751Z"
   },
   {
    "duration": 39,
    "start_time": "2022-07-20T09:01:06.988Z"
   },
   {
    "duration": 30,
    "start_time": "2022-07-20T09:01:14.235Z"
   },
   {
    "duration": 19,
    "start_time": "2022-07-20T09:01:21.540Z"
   },
   {
    "duration": 28,
    "start_time": "2022-07-20T09:01:51.120Z"
   },
   {
    "duration": 927,
    "start_time": "2022-07-20T09:02:33.927Z"
   },
   {
    "duration": 37,
    "start_time": "2022-07-20T09:02:50.080Z"
   },
   {
    "duration": 27,
    "start_time": "2022-07-20T09:03:09.068Z"
   },
   {
    "duration": 28,
    "start_time": "2022-07-20T09:03:33.143Z"
   },
   {
    "duration": 47,
    "start_time": "2022-07-20T09:05:35.714Z"
   },
   {
    "duration": 21,
    "start_time": "2022-07-20T09:06:48.122Z"
   },
   {
    "duration": 20,
    "start_time": "2022-07-20T09:07:00.962Z"
   },
   {
    "duration": 1576,
    "start_time": "2022-07-20T09:07:01.790Z"
   },
   {
    "duration": 28,
    "start_time": "2022-07-20T09:07:22.218Z"
   },
   {
    "duration": 36,
    "start_time": "2022-07-20T09:07:39.248Z"
   },
   {
    "duration": 24,
    "start_time": "2022-07-20T09:08:06.438Z"
   },
   {
    "duration": 22,
    "start_time": "2022-07-20T09:08:07.337Z"
   },
   {
    "duration": 54,
    "start_time": "2022-07-20T09:08:08.226Z"
   },
   {
    "duration": 1635,
    "start_time": "2022-07-20T09:08:14.681Z"
   },
   {
    "duration": 886,
    "start_time": "2022-07-20T09:08:16.318Z"
   },
   {
    "duration": 23,
    "start_time": "2022-07-20T09:08:17.206Z"
   },
   {
    "duration": 289,
    "start_time": "2022-07-20T09:08:17.232Z"
   },
   {
    "duration": 78,
    "start_time": "2022-07-20T09:08:17.523Z"
   },
   {
    "duration": 728,
    "start_time": "2022-07-20T09:08:17.603Z"
   },
   {
    "duration": 5,
    "start_time": "2022-07-20T09:08:18.332Z"
   },
   {
    "duration": 202,
    "start_time": "2022-07-20T09:08:18.339Z"
   },
   {
    "duration": 567,
    "start_time": "2022-07-20T09:08:18.542Z"
   },
   {
    "duration": 527,
    "start_time": "2022-07-20T09:08:19.112Z"
   },
   {
    "duration": 4,
    "start_time": "2022-07-20T09:08:19.641Z"
   },
   {
    "duration": 29,
    "start_time": "2022-07-20T09:08:19.700Z"
   },
   {
    "duration": 88,
    "start_time": "2022-07-20T09:08:19.730Z"
   },
   {
    "duration": 20,
    "start_time": "2022-07-20T09:08:19.819Z"
   },
   {
    "duration": 71,
    "start_time": "2022-07-20T09:08:19.841Z"
   },
   {
    "duration": 23,
    "start_time": "2022-07-20T09:08:19.914Z"
   },
   {
    "duration": 87,
    "start_time": "2022-07-20T09:08:19.938Z"
   },
   {
    "duration": 84,
    "start_time": "2022-07-20T09:08:20.026Z"
   },
   {
    "duration": 40,
    "start_time": "2022-07-20T09:08:20.111Z"
   },
   {
    "duration": 104,
    "start_time": "2022-07-20T09:08:20.201Z"
   },
   {
    "duration": 24,
    "start_time": "2022-07-20T09:08:20.306Z"
   },
   {
    "duration": 74,
    "start_time": "2022-07-20T09:08:20.332Z"
   },
   {
    "duration": 109,
    "start_time": "2022-07-20T09:08:20.408Z"
   },
   {
    "duration": 191,
    "start_time": "2022-07-20T09:08:20.519Z"
   },
   {
    "duration": 27,
    "start_time": "2022-07-20T09:08:20.711Z"
   },
   {
    "duration": 64,
    "start_time": "2022-07-20T09:08:20.739Z"
   },
   {
    "duration": 26,
    "start_time": "2022-07-20T09:08:20.805Z"
   },
   {
    "duration": 67,
    "start_time": "2022-07-20T09:08:20.834Z"
   },
   {
    "duration": 200,
    "start_time": "2022-07-20T09:08:20.903Z"
   },
   {
    "duration": 2365,
    "start_time": "2022-07-20T09:08:21.104Z"
   },
   {
    "duration": 1171,
    "start_time": "2022-07-20T09:08:23.471Z"
   },
   {
    "duration": 5,
    "start_time": "2022-07-20T09:08:24.643Z"
   },
   {
    "duration": 214,
    "start_time": "2022-07-20T09:08:24.650Z"
   },
   {
    "duration": 66,
    "start_time": "2022-07-20T09:08:24.866Z"
   },
   {
    "duration": 3,
    "start_time": "2022-07-20T09:08:24.934Z"
   },
   {
    "duration": 10,
    "start_time": "2022-07-20T09:08:24.939Z"
   },
   {
    "duration": 6,
    "start_time": "2022-07-20T09:08:24.951Z"
   },
   {
    "duration": 5,
    "start_time": "2022-07-20T09:08:24.958Z"
   },
   {
    "duration": 5,
    "start_time": "2022-07-20T09:08:24.965Z"
   },
   {
    "duration": 2230,
    "start_time": "2022-07-20T09:08:24.972Z"
   },
   {
    "duration": 1604,
    "start_time": "2022-07-20T09:08:27.203Z"
   },
   {
    "duration": 3895,
    "start_time": "2022-07-20T09:08:28.809Z"
   },
   {
    "duration": 1143,
    "start_time": "2022-07-20T09:08:32.706Z"
   },
   {
    "duration": 129,
    "start_time": "2022-07-20T09:08:33.851Z"
   },
   {
    "duration": 93,
    "start_time": "2022-07-20T09:08:33.983Z"
   },
   {
    "duration": 44,
    "start_time": "2022-07-20T09:08:34.078Z"
   },
   {
    "duration": 461,
    "start_time": "2022-07-20T09:08:34.124Z"
   },
   {
    "duration": 3,
    "start_time": "2022-07-20T09:08:34.587Z"
   },
   {
    "duration": 14,
    "start_time": "2022-07-20T09:08:34.592Z"
   },
   {
    "duration": 1360,
    "start_time": "2022-07-20T09:08:56.988Z"
   },
   {
    "duration": 755,
    "start_time": "2022-07-20T09:08:58.350Z"
   },
   {
    "duration": 17,
    "start_time": "2022-07-20T09:08:59.107Z"
   },
   {
    "duration": 115,
    "start_time": "2022-07-20T09:08:59.126Z"
   },
   {
    "duration": 20,
    "start_time": "2022-07-20T09:08:59.243Z"
   },
   {
    "duration": 351,
    "start_time": "2022-07-20T09:08:59.265Z"
   },
   {
    "duration": 5,
    "start_time": "2022-07-20T09:08:59.618Z"
   },
   {
    "duration": 85,
    "start_time": "2022-07-20T09:08:59.625Z"
   },
   {
    "duration": 276,
    "start_time": "2022-07-20T09:08:59.711Z"
   },
   {
    "duration": 269,
    "start_time": "2022-07-20T09:08:59.990Z"
   },
   {
    "duration": 4,
    "start_time": "2022-07-20T09:09:00.261Z"
   },
   {
    "duration": 43,
    "start_time": "2022-07-20T09:09:00.266Z"
   },
   {
    "duration": 36,
    "start_time": "2022-07-20T09:09:00.311Z"
   },
   {
    "duration": 21,
    "start_time": "2022-07-20T09:09:00.349Z"
   },
   {
    "duration": 29,
    "start_time": "2022-07-20T09:09:00.372Z"
   },
   {
    "duration": 37,
    "start_time": "2022-07-20T09:09:00.403Z"
   },
   {
    "duration": 39,
    "start_time": "2022-07-20T09:09:00.442Z"
   },
   {
    "duration": 35,
    "start_time": "2022-07-20T09:09:00.483Z"
   },
   {
    "duration": 38,
    "start_time": "2022-07-20T09:09:00.520Z"
   },
   {
    "duration": 76,
    "start_time": "2022-07-20T09:09:00.559Z"
   },
   {
    "duration": 24,
    "start_time": "2022-07-20T09:09:00.637Z"
   },
   {
    "duration": 32,
    "start_time": "2022-07-20T09:09:00.663Z"
   },
   {
    "duration": 76,
    "start_time": "2022-07-20T09:09:00.696Z"
   },
   {
    "duration": 90,
    "start_time": "2022-07-20T09:09:00.774Z"
   },
   {
    "duration": 35,
    "start_time": "2022-07-20T09:09:00.866Z"
   },
   {
    "duration": 16,
    "start_time": "2022-07-20T09:09:00.904Z"
   },
   {
    "duration": 39,
    "start_time": "2022-07-20T09:09:00.921Z"
   },
   {
    "duration": 15,
    "start_time": "2022-07-20T09:09:00.964Z"
   },
   {
    "duration": 121,
    "start_time": "2022-07-20T09:09:00.981Z"
   },
   {
    "duration": 1705,
    "start_time": "2022-07-20T09:09:01.104Z"
   },
   {
    "duration": 1154,
    "start_time": "2022-07-20T09:09:02.810Z"
   },
   {
    "duration": 4,
    "start_time": "2022-07-20T09:09:03.966Z"
   },
   {
    "duration": 217,
    "start_time": "2022-07-20T09:09:03.972Z"
   },
   {
    "duration": 60,
    "start_time": "2022-07-20T09:09:04.191Z"
   },
   {
    "duration": 4,
    "start_time": "2022-07-20T09:09:04.252Z"
   },
   {
    "duration": 13,
    "start_time": "2022-07-20T09:09:04.258Z"
   },
   {
    "duration": 4,
    "start_time": "2022-07-20T09:09:04.273Z"
   },
   {
    "duration": 7,
    "start_time": "2022-07-20T09:09:04.279Z"
   },
   {
    "duration": 17,
    "start_time": "2022-07-20T09:09:04.288Z"
   },
   {
    "duration": 10003,
    "start_time": "2022-07-20T09:09:04.307Z"
   },
   {
    "duration": 1495,
    "start_time": "2022-07-20T09:09:14.312Z"
   },
   {
    "duration": 2298,
    "start_time": "2022-07-20T09:09:15.809Z"
   },
   {
    "duration": 1177,
    "start_time": "2022-07-20T09:09:18.109Z"
   },
   {
    "duration": 125,
    "start_time": "2022-07-20T09:09:19.288Z"
   },
   {
    "duration": 104,
    "start_time": "2022-07-20T09:09:19.414Z"
   },
   {
    "duration": 40,
    "start_time": "2022-07-20T09:09:19.519Z"
   },
   {
    "duration": 464,
    "start_time": "2022-07-20T09:09:19.562Z"
   },
   {
    "duration": 5,
    "start_time": "2022-07-20T09:09:20.027Z"
   },
   {
    "duration": 33,
    "start_time": "2022-07-20T09:09:20.033Z"
   },
   {
    "duration": 1293,
    "start_time": "2022-07-20T09:12:59.759Z"
   },
   {
    "duration": 804,
    "start_time": "2022-07-20T09:13:01.054Z"
   },
   {
    "duration": 18,
    "start_time": "2022-07-20T09:13:01.860Z"
   },
   {
    "duration": 180,
    "start_time": "2022-07-20T09:13:01.880Z"
   },
   {
    "duration": 19,
    "start_time": "2022-07-20T09:13:02.062Z"
   },
   {
    "duration": 382,
    "start_time": "2022-07-20T09:13:02.083Z"
   },
   {
    "duration": 5,
    "start_time": "2022-07-20T09:13:02.466Z"
   },
   {
    "duration": 95,
    "start_time": "2022-07-20T09:13:02.473Z"
   },
   {
    "duration": 278,
    "start_time": "2022-07-20T09:13:02.570Z"
   },
   {
    "duration": 264,
    "start_time": "2022-07-20T09:13:02.850Z"
   },
   {
    "duration": 4,
    "start_time": "2022-07-20T09:13:03.115Z"
   },
   {
    "duration": 980,
    "start_time": "2022-07-20T09:13:03.120Z"
   },
   {
    "duration": 31,
    "start_time": "2022-07-20T09:13:04.101Z"
   },
   {
    "duration": 47,
    "start_time": "2022-07-20T09:13:04.135Z"
   },
   {
    "duration": 29,
    "start_time": "2022-07-20T09:13:04.183Z"
   },
   {
    "duration": 21,
    "start_time": "2022-07-20T09:13:04.213Z"
   },
   {
    "duration": 28,
    "start_time": "2022-07-20T09:13:04.235Z"
   },
   {
    "duration": 40,
    "start_time": "2022-07-20T09:13:04.264Z"
   },
   {
    "duration": 38,
    "start_time": "2022-07-20T09:13:04.305Z"
   },
   {
    "duration": 31,
    "start_time": "2022-07-20T09:13:04.345Z"
   },
   {
    "duration": 71,
    "start_time": "2022-07-20T09:13:04.377Z"
   },
   {
    "duration": 26,
    "start_time": "2022-07-20T09:13:04.450Z"
   },
   {
    "duration": 34,
    "start_time": "2022-07-20T09:13:04.478Z"
   },
   {
    "duration": 49,
    "start_time": "2022-07-20T09:13:04.514Z"
   },
   {
    "duration": 108,
    "start_time": "2022-07-20T09:13:04.565Z"
   },
   {
    "duration": 34,
    "start_time": "2022-07-20T09:13:04.675Z"
   },
   {
    "duration": 17,
    "start_time": "2022-07-20T09:13:04.710Z"
   },
   {
    "duration": 28,
    "start_time": "2022-07-20T09:13:04.729Z"
   },
   {
    "duration": 17,
    "start_time": "2022-07-20T09:13:04.758Z"
   },
   {
    "duration": 107,
    "start_time": "2022-07-20T09:13:04.801Z"
   },
   {
    "duration": 1169,
    "start_time": "2022-07-20T09:13:04.910Z"
   },
   {
    "duration": 0,
    "start_time": "2022-07-20T09:13:06.081Z"
   },
   {
    "duration": 0,
    "start_time": "2022-07-20T09:13:06.083Z"
   },
   {
    "duration": 0,
    "start_time": "2022-07-20T09:13:06.084Z"
   },
   {
    "duration": 0,
    "start_time": "2022-07-20T09:13:06.085Z"
   },
   {
    "duration": 0,
    "start_time": "2022-07-20T09:13:06.086Z"
   },
   {
    "duration": 0,
    "start_time": "2022-07-20T09:13:06.087Z"
   },
   {
    "duration": 0,
    "start_time": "2022-07-20T09:13:06.088Z"
   },
   {
    "duration": 0,
    "start_time": "2022-07-20T09:13:06.101Z"
   },
   {
    "duration": 0,
    "start_time": "2022-07-20T09:13:06.102Z"
   },
   {
    "duration": 0,
    "start_time": "2022-07-20T09:13:06.103Z"
   },
   {
    "duration": 0,
    "start_time": "2022-07-20T09:13:06.104Z"
   },
   {
    "duration": 0,
    "start_time": "2022-07-20T09:13:06.105Z"
   },
   {
    "duration": 0,
    "start_time": "2022-07-20T09:13:06.106Z"
   },
   {
    "duration": 0,
    "start_time": "2022-07-20T09:13:06.107Z"
   },
   {
    "duration": 0,
    "start_time": "2022-07-20T09:13:06.109Z"
   },
   {
    "duration": 0,
    "start_time": "2022-07-20T09:13:06.110Z"
   },
   {
    "duration": 0,
    "start_time": "2022-07-20T09:13:06.111Z"
   },
   {
    "duration": 0,
    "start_time": "2022-07-20T09:13:06.112Z"
   },
   {
    "duration": 0,
    "start_time": "2022-07-20T09:13:06.113Z"
   },
   {
    "duration": 0,
    "start_time": "2022-07-20T09:13:06.115Z"
   },
   {
    "duration": 0,
    "start_time": "2022-07-20T09:13:06.116Z"
   },
   {
    "duration": 0,
    "start_time": "2022-07-20T09:13:06.117Z"
   },
   {
    "duration": 0,
    "start_time": "2022-07-20T09:13:06.117Z"
   },
   {
    "duration": 987,
    "start_time": "2022-07-20T09:13:29.008Z"
   },
   {
    "duration": 1481,
    "start_time": "2022-07-20T09:13:34.608Z"
   },
   {
    "duration": 760,
    "start_time": "2022-07-20T09:13:36.091Z"
   },
   {
    "duration": 19,
    "start_time": "2022-07-20T09:13:36.853Z"
   },
   {
    "duration": 120,
    "start_time": "2022-07-20T09:13:36.874Z"
   },
   {
    "duration": 20,
    "start_time": "2022-07-20T09:13:37.001Z"
   },
   {
    "duration": 355,
    "start_time": "2022-07-20T09:13:37.023Z"
   },
   {
    "duration": 5,
    "start_time": "2022-07-20T09:13:37.380Z"
   },
   {
    "duration": 78,
    "start_time": "2022-07-20T09:13:37.400Z"
   },
   {
    "duration": 290,
    "start_time": "2022-07-20T09:13:37.480Z"
   },
   {
    "duration": 271,
    "start_time": "2022-07-20T09:13:37.772Z"
   },
   {
    "duration": 4,
    "start_time": "2022-07-20T09:13:38.044Z"
   },
   {
    "duration": 1812,
    "start_time": "2022-07-20T09:13:38.050Z"
   },
   {
    "duration": 38,
    "start_time": "2022-07-20T09:13:39.864Z"
   },
   {
    "duration": 44,
    "start_time": "2022-07-20T09:13:39.906Z"
   },
   {
    "duration": 65,
    "start_time": "2022-07-20T09:13:39.952Z"
   },
   {
    "duration": 74,
    "start_time": "2022-07-20T09:13:40.018Z"
   },
   {
    "duration": 59,
    "start_time": "2022-07-20T09:13:40.094Z"
   },
   {
    "duration": 55,
    "start_time": "2022-07-20T09:13:40.155Z"
   },
   {
    "duration": 66,
    "start_time": "2022-07-20T09:13:40.211Z"
   },
   {
    "duration": 39,
    "start_time": "2022-07-20T09:13:40.279Z"
   },
   {
    "duration": 88,
    "start_time": "2022-07-20T09:13:40.320Z"
   },
   {
    "duration": 28,
    "start_time": "2022-07-20T09:13:40.410Z"
   },
   {
    "duration": 45,
    "start_time": "2022-07-20T09:13:40.440Z"
   },
   {
    "duration": 45,
    "start_time": "2022-07-20T09:13:40.486Z"
   },
   {
    "duration": 88,
    "start_time": "2022-07-20T09:13:40.533Z"
   },
   {
    "duration": 27,
    "start_time": "2022-07-20T09:13:40.623Z"
   },
   {
    "duration": 15,
    "start_time": "2022-07-20T09:13:40.651Z"
   },
   {
    "duration": 42,
    "start_time": "2022-07-20T09:13:40.668Z"
   },
   {
    "duration": 14,
    "start_time": "2022-07-20T09:13:40.712Z"
   },
   {
    "duration": 107,
    "start_time": "2022-07-20T09:13:40.728Z"
   },
   {
    "duration": 1659,
    "start_time": "2022-07-20T09:13:40.836Z"
   },
   {
    "duration": 1155,
    "start_time": "2022-07-20T09:13:42.496Z"
   },
   {
    "duration": 4,
    "start_time": "2022-07-20T09:13:43.653Z"
   },
   {
    "duration": 201,
    "start_time": "2022-07-20T09:13:43.658Z"
   },
   {
    "duration": 59,
    "start_time": "2022-07-20T09:13:43.860Z"
   },
   {
    "duration": 3,
    "start_time": "2022-07-20T09:13:43.921Z"
   },
   {
    "duration": 66,
    "start_time": "2022-07-20T09:13:43.926Z"
   },
   {
    "duration": 19,
    "start_time": "2022-07-20T09:13:43.993Z"
   },
   {
    "duration": 20,
    "start_time": "2022-07-20T09:13:44.014Z"
   },
   {
    "duration": 28,
    "start_time": "2022-07-20T09:13:44.036Z"
   },
   {
    "duration": 2338,
    "start_time": "2022-07-20T09:13:44.069Z"
   },
   {
    "duration": 1500,
    "start_time": "2022-07-20T09:13:46.408Z"
   },
   {
    "duration": 1494,
    "start_time": "2022-07-20T09:13:47.910Z"
   },
   {
    "duration": 1127,
    "start_time": "2022-07-20T09:13:49.406Z"
   },
   {
    "duration": 126,
    "start_time": "2022-07-20T09:13:50.534Z"
   },
   {
    "duration": 89,
    "start_time": "2022-07-20T09:13:50.661Z"
   },
   {
    "duration": 38,
    "start_time": "2022-07-20T09:13:50.751Z"
   },
   {
    "duration": 444,
    "start_time": "2022-07-20T09:13:50.790Z"
   },
   {
    "duration": 4,
    "start_time": "2022-07-20T09:13:51.235Z"
   },
   {
    "duration": 10,
    "start_time": "2022-07-20T09:13:51.240Z"
   },
   {
    "duration": 1452,
    "start_time": "2022-07-20T09:15:00.821Z"
   },
   {
    "duration": 782,
    "start_time": "2022-07-20T09:15:02.275Z"
   },
   {
    "duration": 19,
    "start_time": "2022-07-20T09:15:03.059Z"
   },
   {
    "duration": 208,
    "start_time": "2022-07-20T09:15:03.101Z"
   },
   {
    "duration": 22,
    "start_time": "2022-07-20T09:15:03.311Z"
   },
   {
    "duration": 767,
    "start_time": "2022-07-20T09:15:03.334Z"
   },
   {
    "duration": 5,
    "start_time": "2022-07-20T09:15:04.103Z"
   },
   {
    "duration": 128,
    "start_time": "2022-07-20T09:15:04.110Z"
   },
   {
    "duration": 599,
    "start_time": "2022-07-20T09:15:04.240Z"
   },
   {
    "duration": 671,
    "start_time": "2022-07-20T09:15:04.841Z"
   },
   {
    "duration": 4,
    "start_time": "2022-07-20T09:15:05.514Z"
   },
   {
    "duration": 326,
    "start_time": "2022-07-20T09:15:05.519Z"
   },
   {
    "duration": 80,
    "start_time": "2022-07-20T09:15:05.847Z"
   },
   {
    "duration": 104,
    "start_time": "2022-07-20T09:15:05.929Z"
   },
   {
    "duration": 75,
    "start_time": "2022-07-20T09:15:06.035Z"
   },
   {
    "duration": 91,
    "start_time": "2022-07-20T09:15:06.111Z"
   },
   {
    "duration": 37,
    "start_time": "2022-07-20T09:15:06.203Z"
   },
   {
    "duration": 74,
    "start_time": "2022-07-20T09:15:06.241Z"
   },
   {
    "duration": 86,
    "start_time": "2022-07-20T09:15:06.316Z"
   },
   {
    "duration": 44,
    "start_time": "2022-07-20T09:15:06.403Z"
   },
   {
    "duration": 161,
    "start_time": "2022-07-20T09:15:06.449Z"
   },
   {
    "duration": 26,
    "start_time": "2022-07-20T09:15:06.611Z"
   },
   {
    "duration": 77,
    "start_time": "2022-07-20T09:15:06.639Z"
   },
   {
    "duration": 92,
    "start_time": "2022-07-20T09:15:06.718Z"
   },
   {
    "duration": 100,
    "start_time": "2022-07-20T09:15:06.812Z"
   },
   {
    "duration": 30,
    "start_time": "2022-07-20T09:15:06.914Z"
   },
   {
    "duration": 18,
    "start_time": "2022-07-20T09:15:06.946Z"
   },
   {
    "duration": 55,
    "start_time": "2022-07-20T09:15:06.966Z"
   },
   {
    "duration": 16,
    "start_time": "2022-07-20T09:15:07.023Z"
   },
   {
    "duration": 139,
    "start_time": "2022-07-20T09:15:07.041Z"
   },
   {
    "duration": 1726,
    "start_time": "2022-07-20T09:15:07.181Z"
   },
   {
    "duration": 1097,
    "start_time": "2022-07-20T09:15:08.909Z"
   },
   {
    "duration": 4,
    "start_time": "2022-07-20T09:15:10.008Z"
   },
   {
    "duration": 203,
    "start_time": "2022-07-20T09:15:10.013Z"
   },
   {
    "duration": 53,
    "start_time": "2022-07-20T09:15:10.217Z"
   },
   {
    "duration": 3,
    "start_time": "2022-07-20T09:15:10.272Z"
   },
   {
    "duration": 12,
    "start_time": "2022-07-20T09:15:10.276Z"
   },
   {
    "duration": 11,
    "start_time": "2022-07-20T09:15:10.289Z"
   },
   {
    "duration": 18,
    "start_time": "2022-07-20T09:15:10.302Z"
   },
   {
    "duration": 14,
    "start_time": "2022-07-20T09:15:10.322Z"
   },
   {
    "duration": 1968,
    "start_time": "2022-07-20T09:15:10.339Z"
   },
   {
    "duration": 1202,
    "start_time": "2022-07-20T09:15:12.309Z"
   },
   {
    "duration": 2000,
    "start_time": "2022-07-20T09:15:13.513Z"
   },
   {
    "duration": 1276,
    "start_time": "2022-07-20T09:15:15.515Z"
   },
   {
    "duration": 136,
    "start_time": "2022-07-20T09:15:16.793Z"
   },
   {
    "duration": 96,
    "start_time": "2022-07-20T09:15:16.931Z"
   },
   {
    "duration": 41,
    "start_time": "2022-07-20T09:15:17.028Z"
   },
   {
    "duration": 463,
    "start_time": "2022-07-20T09:15:17.071Z"
   },
   {
    "duration": 3,
    "start_time": "2022-07-20T09:15:17.536Z"
   },
   {
    "duration": 8,
    "start_time": "2022-07-20T09:15:17.541Z"
   },
   {
    "duration": 1462,
    "start_time": "2022-07-20T09:15:39.607Z"
   },
   {
    "duration": 773,
    "start_time": "2022-07-20T09:15:41.072Z"
   },
   {
    "duration": 19,
    "start_time": "2022-07-20T09:15:41.846Z"
   },
   {
    "duration": 119,
    "start_time": "2022-07-20T09:15:41.867Z"
   },
   {
    "duration": 31,
    "start_time": "2022-07-20T09:15:41.988Z"
   },
   {
    "duration": 354,
    "start_time": "2022-07-20T09:15:42.021Z"
   },
   {
    "duration": 5,
    "start_time": "2022-07-20T09:15:42.377Z"
   },
   {
    "duration": 85,
    "start_time": "2022-07-20T09:15:42.384Z"
   },
   {
    "duration": 286,
    "start_time": "2022-07-20T09:15:42.471Z"
   },
   {
    "duration": 285,
    "start_time": "2022-07-20T09:15:42.759Z"
   },
   {
    "duration": 5,
    "start_time": "2022-07-20T09:15:43.045Z"
   },
   {
    "duration": 174,
    "start_time": "2022-07-20T09:15:43.051Z"
   },
   {
    "duration": 30,
    "start_time": "2022-07-20T09:15:43.226Z"
   },
   {
    "duration": 71,
    "start_time": "2022-07-20T09:15:43.257Z"
   },
   {
    "duration": 35,
    "start_time": "2022-07-20T09:15:43.330Z"
   },
   {
    "duration": 24,
    "start_time": "2022-07-20T09:15:43.367Z"
   },
   {
    "duration": 38,
    "start_time": "2022-07-20T09:15:43.392Z"
   },
   {
    "duration": 31,
    "start_time": "2022-07-20T09:15:43.432Z"
   },
   {
    "duration": 41,
    "start_time": "2022-07-20T09:15:43.465Z"
   },
   {
    "duration": 32,
    "start_time": "2022-07-20T09:15:43.508Z"
   },
   {
    "duration": 77,
    "start_time": "2022-07-20T09:15:43.541Z"
   },
   {
    "duration": 24,
    "start_time": "2022-07-20T09:15:43.619Z"
   },
   {
    "duration": 19,
    "start_time": "2022-07-20T09:15:43.645Z"
   },
   {
    "duration": 60,
    "start_time": "2022-07-20T09:15:43.665Z"
   },
   {
    "duration": 97,
    "start_time": "2022-07-20T09:15:43.727Z"
   },
   {
    "duration": 29,
    "start_time": "2022-07-20T09:15:43.826Z"
   },
   {
    "duration": 16,
    "start_time": "2022-07-20T09:15:43.857Z"
   },
   {
    "duration": 57,
    "start_time": "2022-07-20T09:15:43.877Z"
   },
   {
    "duration": 16,
    "start_time": "2022-07-20T09:15:43.936Z"
   },
   {
    "duration": 125,
    "start_time": "2022-07-20T09:15:43.954Z"
   },
   {
    "duration": 1716,
    "start_time": "2022-07-20T09:15:44.080Z"
   },
   {
    "duration": 1125,
    "start_time": "2022-07-20T09:15:45.798Z"
   },
   {
    "duration": 5,
    "start_time": "2022-07-20T09:15:46.924Z"
   },
   {
    "duration": 206,
    "start_time": "2022-07-20T09:15:46.930Z"
   },
   {
    "duration": 63,
    "start_time": "2022-07-20T09:15:47.138Z"
   },
   {
    "duration": 3,
    "start_time": "2022-07-20T09:15:47.203Z"
   },
   {
    "duration": 13,
    "start_time": "2022-07-20T09:15:47.207Z"
   },
   {
    "duration": 8,
    "start_time": "2022-07-20T09:15:47.221Z"
   },
   {
    "duration": 8,
    "start_time": "2022-07-20T09:15:47.230Z"
   },
   {
    "duration": 5,
    "start_time": "2022-07-20T09:15:47.239Z"
   },
   {
    "duration": 2061,
    "start_time": "2022-07-20T09:15:47.246Z"
   },
   {
    "duration": 1299,
    "start_time": "2022-07-20T09:15:49.308Z"
   },
   {
    "duration": 2992,
    "start_time": "2022-07-20T09:15:50.609Z"
   },
   {
    "duration": 1181,
    "start_time": "2022-07-20T09:15:53.603Z"
   },
   {
    "duration": 125,
    "start_time": "2022-07-20T09:15:54.786Z"
   },
   {
    "duration": 95,
    "start_time": "2022-07-20T09:15:54.912Z"
   },
   {
    "duration": 40,
    "start_time": "2022-07-20T09:15:55.009Z"
   },
   {
    "duration": 490,
    "start_time": "2022-07-20T09:15:55.051Z"
   },
   {
    "duration": 4,
    "start_time": "2022-07-20T09:15:55.543Z"
   },
   {
    "duration": 7,
    "start_time": "2022-07-20T09:15:55.548Z"
   },
   {
    "duration": 398946,
    "start_time": "2022-07-20T09:15:55.556Z"
   },
   {
    "duration": 1492,
    "start_time": "2022-07-20T09:23:14.396Z"
   },
   {
    "duration": 762,
    "start_time": "2022-07-20T09:23:15.890Z"
   },
   {
    "duration": 18,
    "start_time": "2022-07-20T09:23:16.653Z"
   },
   {
    "duration": 123,
    "start_time": "2022-07-20T09:23:16.672Z"
   },
   {
    "duration": 21,
    "start_time": "2022-07-20T09:23:16.796Z"
   },
   {
    "duration": 343,
    "start_time": "2022-07-20T09:23:16.818Z"
   },
   {
    "duration": 5,
    "start_time": "2022-07-20T09:23:17.163Z"
   },
   {
    "duration": 77,
    "start_time": "2022-07-20T09:23:17.169Z"
   },
   {
    "duration": 285,
    "start_time": "2022-07-20T09:23:17.248Z"
   },
   {
    "duration": 281,
    "start_time": "2022-07-20T09:23:17.536Z"
   },
   {
    "duration": 4,
    "start_time": "2022-07-20T09:23:17.819Z"
   },
   {
    "duration": 158,
    "start_time": "2022-07-20T09:23:17.825Z"
   },
   {
    "duration": 39,
    "start_time": "2022-07-20T09:23:17.985Z"
   },
   {
    "duration": 24,
    "start_time": "2022-07-20T09:23:18.026Z"
   },
   {
    "duration": 32,
    "start_time": "2022-07-20T09:23:18.052Z"
   },
   {
    "duration": 28,
    "start_time": "2022-07-20T09:23:18.086Z"
   },
   {
    "duration": 83,
    "start_time": "2022-07-20T09:23:18.115Z"
   },
   {
    "duration": 26,
    "start_time": "2022-07-20T09:23:18.199Z"
   },
   {
    "duration": 34,
    "start_time": "2022-07-20T09:23:18.227Z"
   },
   {
    "duration": 50,
    "start_time": "2022-07-20T09:23:18.263Z"
   },
   {
    "duration": 88,
    "start_time": "2022-07-20T09:23:18.316Z"
   },
   {
    "duration": 27,
    "start_time": "2022-07-20T09:23:18.406Z"
   },
   {
    "duration": 16,
    "start_time": "2022-07-20T09:23:18.435Z"
   },
   {
    "duration": 49,
    "start_time": "2022-07-20T09:23:18.453Z"
   },
   {
    "duration": 16,
    "start_time": "2022-07-20T09:23:18.504Z"
   },
   {
    "duration": 111,
    "start_time": "2022-07-20T09:23:18.521Z"
   },
   {
    "duration": 1699,
    "start_time": "2022-07-20T09:23:18.634Z"
   },
   {
    "duration": 1087,
    "start_time": "2022-07-20T09:23:20.336Z"
   },
   {
    "duration": 4,
    "start_time": "2022-07-20T09:23:21.425Z"
   },
   {
    "duration": 207,
    "start_time": "2022-07-20T09:23:21.430Z"
   },
   {
    "duration": 53,
    "start_time": "2022-07-20T09:23:21.638Z"
   },
   {
    "duration": 8,
    "start_time": "2022-07-20T09:23:21.693Z"
   },
   {
    "duration": 13,
    "start_time": "2022-07-20T09:23:21.703Z"
   },
   {
    "duration": 7,
    "start_time": "2022-07-20T09:23:21.718Z"
   },
   {
    "duration": 8,
    "start_time": "2022-07-20T09:23:21.727Z"
   },
   {
    "duration": 7,
    "start_time": "2022-07-20T09:23:21.736Z"
   },
   {
    "duration": 2165,
    "start_time": "2022-07-20T09:23:21.744Z"
   },
   {
    "duration": 1494,
    "start_time": "2022-07-20T09:23:23.911Z"
   },
   {
    "duration": 1402,
    "start_time": "2022-07-20T09:23:25.408Z"
   },
   {
    "duration": 1207,
    "start_time": "2022-07-20T09:23:26.812Z"
   },
   {
    "duration": 129,
    "start_time": "2022-07-20T09:23:28.020Z"
   },
   {
    "duration": 102,
    "start_time": "2022-07-20T09:23:28.150Z"
   },
   {
    "duration": 48,
    "start_time": "2022-07-20T09:23:28.254Z"
   },
   {
    "duration": 450,
    "start_time": "2022-07-20T09:23:28.303Z"
   },
   {
    "duration": 5,
    "start_time": "2022-07-20T09:23:28.755Z"
   },
   {
    "duration": 8,
    "start_time": "2022-07-20T09:23:28.761Z"
   },
   {
    "duration": 335265,
    "start_time": "2022-07-20T09:23:28.771Z"
   },
   {
    "duration": 1345,
    "start_time": "2022-07-20T09:29:28.248Z"
   },
   {
    "duration": 782,
    "start_time": "2022-07-20T09:29:29.594Z"
   },
   {
    "duration": 18,
    "start_time": "2022-07-20T09:29:30.377Z"
   },
   {
    "duration": 142,
    "start_time": "2022-07-20T09:29:30.401Z"
   },
   {
    "duration": 70,
    "start_time": "2022-07-20T09:29:30.545Z"
   },
   {
    "duration": 811,
    "start_time": "2022-07-20T09:29:30.617Z"
   },
   {
    "duration": 5,
    "start_time": "2022-07-20T09:29:31.430Z"
   },
   {
    "duration": 184,
    "start_time": "2022-07-20T09:29:31.436Z"
   },
   {
    "duration": 621,
    "start_time": "2022-07-20T09:29:31.621Z"
   },
   {
    "duration": 331,
    "start_time": "2022-07-20T09:29:32.300Z"
   },
   {
    "duration": 4,
    "start_time": "2022-07-20T09:29:32.633Z"
   },
   {
    "duration": 168,
    "start_time": "2022-07-20T09:29:32.639Z"
   },
   {
    "duration": 35,
    "start_time": "2022-07-20T09:29:32.809Z"
   },
   {
    "duration": 22,
    "start_time": "2022-07-20T09:29:32.846Z"
   },
   {
    "duration": 33,
    "start_time": "2022-07-20T09:29:32.870Z"
   },
   {
    "duration": 23,
    "start_time": "2022-07-20T09:29:32.905Z"
   },
   {
    "duration": 74,
    "start_time": "2022-07-20T09:29:32.930Z"
   },
   {
    "duration": 25,
    "start_time": "2022-07-20T09:29:33.006Z"
   },
   {
    "duration": 19,
    "start_time": "2022-07-20T09:29:33.032Z"
   },
   {
    "duration": 61,
    "start_time": "2022-07-20T09:29:33.053Z"
   },
   {
    "duration": 97,
    "start_time": "2022-07-20T09:29:33.116Z"
   },
   {
    "duration": 28,
    "start_time": "2022-07-20T09:29:33.215Z"
   },
   {
    "duration": 16,
    "start_time": "2022-07-20T09:29:33.245Z"
   },
   {
    "duration": 48,
    "start_time": "2022-07-20T09:29:33.263Z"
   },
   {
    "duration": 15,
    "start_time": "2022-07-20T09:29:33.313Z"
   },
   {
    "duration": 114,
    "start_time": "2022-07-20T09:29:33.330Z"
   },
   {
    "duration": 38,
    "start_time": "2022-07-20T09:29:33.446Z"
   },
   {
    "duration": 2022,
    "start_time": "2022-07-20T09:29:33.488Z"
   },
   {
    "duration": 1157,
    "start_time": "2022-07-20T09:29:35.512Z"
   },
   {
    "duration": 5,
    "start_time": "2022-07-20T09:29:36.670Z"
   },
   {
    "duration": 207,
    "start_time": "2022-07-20T09:29:36.676Z"
   },
   {
    "duration": 57,
    "start_time": "2022-07-20T09:29:36.885Z"
   },
   {
    "duration": 3,
    "start_time": "2022-07-20T09:29:36.943Z"
   },
   {
    "duration": 6,
    "start_time": "2022-07-20T09:29:36.948Z"
   },
   {
    "duration": 11,
    "start_time": "2022-07-20T09:29:36.956Z"
   },
   {
    "duration": 5,
    "start_time": "2022-07-20T09:29:36.969Z"
   },
   {
    "duration": 8,
    "start_time": "2022-07-20T09:29:36.975Z"
   },
   {
    "duration": 1497,
    "start_time": "2022-07-20T09:30:01.702Z"
   },
   {
    "duration": 906,
    "start_time": "2022-07-20T09:30:03.204Z"
   },
   {
    "duration": 20,
    "start_time": "2022-07-20T09:30:04.112Z"
   },
   {
    "duration": 170,
    "start_time": "2022-07-20T09:30:04.135Z"
   },
   {
    "duration": 22,
    "start_time": "2022-07-20T09:30:04.306Z"
   },
   {
    "duration": 381,
    "start_time": "2022-07-20T09:30:04.329Z"
   },
   {
    "duration": 5,
    "start_time": "2022-07-20T09:30:04.712Z"
   },
   {
    "duration": 95,
    "start_time": "2022-07-20T09:30:04.719Z"
   },
   {
    "duration": 308,
    "start_time": "2022-07-20T09:30:04.816Z"
   },
   {
    "duration": 389,
    "start_time": "2022-07-20T09:30:05.128Z"
   },
   {
    "duration": 5,
    "start_time": "2022-07-20T09:30:05.519Z"
   },
   {
    "duration": 203,
    "start_time": "2022-07-20T09:30:05.526Z"
   },
   {
    "duration": 37,
    "start_time": "2022-07-20T09:30:05.731Z"
   },
   {
    "duration": 42,
    "start_time": "2022-07-20T09:30:05.770Z"
   },
   {
    "duration": 43,
    "start_time": "2022-07-20T09:30:05.814Z"
   },
   {
    "duration": 41,
    "start_time": "2022-07-20T09:30:05.859Z"
   },
   {
    "duration": 92,
    "start_time": "2022-07-20T09:30:05.901Z"
   },
   {
    "duration": 26,
    "start_time": "2022-07-20T09:30:05.995Z"
   },
   {
    "duration": 37,
    "start_time": "2022-07-20T09:30:06.023Z"
   },
   {
    "duration": 93,
    "start_time": "2022-07-20T09:30:06.062Z"
   },
   {
    "duration": 107,
    "start_time": "2022-07-20T09:30:06.157Z"
   },
   {
    "duration": 40,
    "start_time": "2022-07-20T09:30:06.266Z"
   },
   {
    "duration": 18,
    "start_time": "2022-07-20T09:30:06.308Z"
   },
   {
    "duration": 36,
    "start_time": "2022-07-20T09:30:06.328Z"
   },
   {
    "duration": 15,
    "start_time": "2022-07-20T09:30:06.366Z"
   },
   {
    "duration": 123,
    "start_time": "2022-07-20T09:30:06.400Z"
   },
   {
    "duration": 43,
    "start_time": "2022-07-20T09:30:06.525Z"
   },
   {
    "duration": 1888,
    "start_time": "2022-07-20T09:30:06.573Z"
   },
   {
    "duration": 1267,
    "start_time": "2022-07-20T09:30:08.463Z"
   },
   {
    "duration": 5,
    "start_time": "2022-07-20T09:30:09.732Z"
   },
   {
    "duration": 217,
    "start_time": "2022-07-20T09:30:09.739Z"
   },
   {
    "duration": 64,
    "start_time": "2022-07-20T09:30:09.958Z"
   },
   {
    "duration": 3,
    "start_time": "2022-07-20T09:30:10.024Z"
   },
   {
    "duration": 9,
    "start_time": "2022-07-20T09:30:10.028Z"
   },
   {
    "duration": 33,
    "start_time": "2022-07-20T09:30:10.039Z"
   },
   {
    "duration": 10,
    "start_time": "2022-07-20T09:30:10.074Z"
   },
   {
    "duration": 8,
    "start_time": "2022-07-20T09:30:10.086Z"
   },
   {
    "duration": 16016,
    "start_time": "2022-07-20T09:30:10.096Z"
   },
   {
    "duration": 1296,
    "start_time": "2022-07-20T09:30:26.114Z"
   },
   {
    "duration": 10798,
    "start_time": "2022-07-20T09:30:27.412Z"
   },
   {
    "duration": 1213,
    "start_time": "2022-07-20T09:30:38.212Z"
   },
   {
    "duration": 129,
    "start_time": "2022-07-20T09:30:39.426Z"
   },
   {
    "duration": 93,
    "start_time": "2022-07-20T09:30:39.557Z"
   },
   {
    "duration": 41,
    "start_time": "2022-07-20T09:30:39.651Z"
   },
   {
    "duration": 447,
    "start_time": "2022-07-20T09:30:39.701Z"
   },
   {
    "duration": 4,
    "start_time": "2022-07-20T09:30:40.150Z"
   },
   {
    "duration": 15,
    "start_time": "2022-07-20T09:30:40.155Z"
   },
   {
    "duration": 418032,
    "start_time": "2022-07-20T09:30:40.172Z"
   },
   {
    "duration": 135263,
    "start_time": "2022-07-20T09:37:38.206Z"
   },
   {
    "duration": 1411,
    "start_time": "2022-07-20T09:55:40.781Z"
   },
   {
    "duration": 763,
    "start_time": "2022-07-20T09:55:42.194Z"
   },
   {
    "duration": 18,
    "start_time": "2022-07-20T09:55:42.958Z"
   },
   {
    "duration": 120,
    "start_time": "2022-07-20T09:55:42.977Z"
   },
   {
    "duration": 22,
    "start_time": "2022-07-20T09:55:43.100Z"
   },
   {
    "duration": 356,
    "start_time": "2022-07-20T09:55:43.124Z"
   },
   {
    "duration": 5,
    "start_time": "2022-07-20T09:55:43.482Z"
   },
   {
    "duration": 84,
    "start_time": "2022-07-20T09:55:43.489Z"
   },
   {
    "duration": 348,
    "start_time": "2022-07-20T09:55:43.575Z"
   },
   {
    "duration": 682,
    "start_time": "2022-07-20T09:55:43.926Z"
   },
   {
    "duration": 4,
    "start_time": "2022-07-20T09:55:44.610Z"
   },
   {
    "duration": 316,
    "start_time": "2022-07-20T09:55:44.615Z"
   },
   {
    "duration": 87,
    "start_time": "2022-07-20T09:55:44.932Z"
   },
   {
    "duration": 98,
    "start_time": "2022-07-20T09:55:45.021Z"
   },
   {
    "duration": 90,
    "start_time": "2022-07-20T09:55:45.120Z"
   },
   {
    "duration": 45,
    "start_time": "2022-07-20T09:55:45.212Z"
   },
   {
    "duration": 200,
    "start_time": "2022-07-20T09:55:45.301Z"
   },
   {
    "duration": 33,
    "start_time": "2022-07-20T09:55:45.503Z"
   },
   {
    "duration": 78,
    "start_time": "2022-07-20T09:55:45.538Z"
   },
   {
    "duration": 47,
    "start_time": "2022-07-20T09:55:45.618Z"
   },
   {
    "duration": 91,
    "start_time": "2022-07-20T09:55:45.701Z"
   },
   {
    "duration": 36,
    "start_time": "2022-07-20T09:55:45.802Z"
   },
   {
    "duration": 16,
    "start_time": "2022-07-20T09:55:45.840Z"
   },
   {
    "duration": 61,
    "start_time": "2022-07-20T09:55:45.857Z"
   },
   {
    "duration": 15,
    "start_time": "2022-07-20T09:55:45.920Z"
   },
   {
    "duration": 122,
    "start_time": "2022-07-20T09:55:45.937Z"
   },
   {
    "duration": 45,
    "start_time": "2022-07-20T09:55:46.061Z"
   },
   {
    "duration": 1867,
    "start_time": "2022-07-20T09:55:46.110Z"
   },
   {
    "duration": 1133,
    "start_time": "2022-07-20T09:55:47.979Z"
   },
   {
    "duration": 4,
    "start_time": "2022-07-20T09:55:49.114Z"
   },
   {
    "duration": 207,
    "start_time": "2022-07-20T09:55:49.119Z"
   },
   {
    "duration": 58,
    "start_time": "2022-07-20T09:55:49.328Z"
   },
   {
    "duration": 13,
    "start_time": "2022-07-20T09:55:49.388Z"
   },
   {
    "duration": 7,
    "start_time": "2022-07-20T09:55:49.403Z"
   },
   {
    "duration": 10,
    "start_time": "2022-07-20T09:55:49.411Z"
   },
   {
    "duration": 12,
    "start_time": "2022-07-20T09:55:49.423Z"
   },
   {
    "duration": 6,
    "start_time": "2022-07-20T09:55:49.436Z"
   },
   {
    "duration": 3367,
    "start_time": "2022-07-20T09:55:49.443Z"
   },
   {
    "duration": 1292,
    "start_time": "2022-07-20T09:55:52.811Z"
   },
   {
    "duration": 1697,
    "start_time": "2022-07-20T09:55:54.105Z"
   },
   {
    "duration": 1114,
    "start_time": "2022-07-20T09:55:55.804Z"
   },
   {
    "duration": 130,
    "start_time": "2022-07-20T09:55:56.920Z"
   },
   {
    "duration": 92,
    "start_time": "2022-07-20T09:55:57.052Z"
   },
   {
    "duration": 40,
    "start_time": "2022-07-20T09:55:57.146Z"
   },
   {
    "duration": 468,
    "start_time": "2022-07-20T09:55:57.187Z"
   },
   {
    "duration": 4,
    "start_time": "2022-07-20T09:55:57.657Z"
   },
   {
    "duration": 7,
    "start_time": "2022-07-20T09:55:57.662Z"
   },
   {
    "duration": 1425,
    "start_time": "2022-07-20T09:58:21.644Z"
   },
   {
    "duration": 937,
    "start_time": "2022-07-20T09:58:23.071Z"
   },
   {
    "duration": 25,
    "start_time": "2022-07-20T09:58:24.011Z"
   },
   {
    "duration": 272,
    "start_time": "2022-07-20T09:58:24.038Z"
   },
   {
    "duration": 24,
    "start_time": "2022-07-20T09:58:24.311Z"
   },
   {
    "duration": 767,
    "start_time": "2022-07-20T09:58:24.337Z"
   },
   {
    "duration": 4,
    "start_time": "2022-07-20T09:58:25.106Z"
   },
   {
    "duration": 190,
    "start_time": "2022-07-20T09:58:25.111Z"
   },
   {
    "duration": 698,
    "start_time": "2022-07-20T09:58:25.304Z"
   },
   {
    "duration": 528,
    "start_time": "2022-07-20T09:58:26.004Z"
   },
   {
    "duration": 4,
    "start_time": "2022-07-20T09:58:26.533Z"
   },
   {
    "duration": 304,
    "start_time": "2022-07-20T09:58:26.538Z"
   },
   {
    "duration": 82,
    "start_time": "2022-07-20T09:58:26.844Z"
   },
   {
    "duration": 79,
    "start_time": "2022-07-20T09:58:26.928Z"
   },
   {
    "duration": 19,
    "start_time": "2022-07-20T09:58:27.008Z"
   },
   {
    "duration": 79,
    "start_time": "2022-07-20T09:58:27.028Z"
   },
   {
    "duration": 124,
    "start_time": "2022-07-20T09:58:27.108Z"
   },
   {
    "duration": 74,
    "start_time": "2022-07-20T09:58:27.234Z"
   },
   {
    "duration": 19,
    "start_time": "2022-07-20T09:58:27.309Z"
   },
   {
    "duration": 57,
    "start_time": "2022-07-20T09:58:27.329Z"
   },
   {
    "duration": 97,
    "start_time": "2022-07-20T09:58:27.388Z"
   },
   {
    "duration": 40,
    "start_time": "2022-07-20T09:58:27.487Z"
   },
   {
    "duration": 17,
    "start_time": "2022-07-20T09:58:27.529Z"
   },
   {
    "duration": 27,
    "start_time": "2022-07-20T09:58:27.548Z"
   },
   {
    "duration": 37,
    "start_time": "2022-07-20T09:58:27.577Z"
   },
   {
    "duration": 114,
    "start_time": "2022-07-20T09:58:27.615Z"
   },
   {
    "duration": 33,
    "start_time": "2022-07-20T09:58:27.732Z"
   },
   {
    "duration": 51,
    "start_time": "2022-07-20T09:58:27.769Z"
   },
   {
    "duration": 38,
    "start_time": "2022-07-20T09:58:27.822Z"
   },
   {
    "duration": 1641,
    "start_time": "2022-07-20T09:58:27.862Z"
   },
   {
    "duration": 1082,
    "start_time": "2022-07-20T09:58:29.505Z"
   },
   {
    "duration": 4,
    "start_time": "2022-07-20T09:58:30.589Z"
   },
   {
    "duration": 242,
    "start_time": "2022-07-20T09:58:30.600Z"
   },
   {
    "duration": 58,
    "start_time": "2022-07-20T09:58:30.843Z"
   },
   {
    "duration": 3,
    "start_time": "2022-07-20T09:58:30.903Z"
   },
   {
    "duration": 16,
    "start_time": "2022-07-20T09:58:30.908Z"
   },
   {
    "duration": 31,
    "start_time": "2022-07-20T09:58:30.926Z"
   },
   {
    "duration": 20,
    "start_time": "2022-07-20T09:58:30.959Z"
   },
   {
    "duration": 35,
    "start_time": "2022-07-20T09:58:30.981Z"
   },
   {
    "duration": 2089,
    "start_time": "2022-07-20T09:58:31.018Z"
   },
   {
    "duration": 1399,
    "start_time": "2022-07-20T09:58:33.109Z"
   },
   {
    "duration": 1197,
    "start_time": "2022-07-20T09:58:34.509Z"
   },
   {
    "duration": 1141,
    "start_time": "2022-07-20T09:58:35.708Z"
   },
   {
    "duration": 126,
    "start_time": "2022-07-20T09:58:36.850Z"
   },
   {
    "duration": 87,
    "start_time": "2022-07-20T09:58:36.977Z"
   },
   {
    "duration": 44,
    "start_time": "2022-07-20T09:58:37.066Z"
   },
   {
    "duration": 430,
    "start_time": "2022-07-20T09:58:37.112Z"
   },
   {
    "duration": 3,
    "start_time": "2022-07-20T09:58:37.544Z"
   },
   {
    "duration": 11,
    "start_time": "2022-07-20T09:58:37.548Z"
   },
   {
    "duration": 207181,
    "start_time": "2022-07-20T09:58:37.561Z"
   },
   {
    "duration": 1522,
    "start_time": "2022-07-20T10:02:04.743Z"
   },
   {
    "duration": 1189,
    "start_time": "2022-07-20T10:02:06.267Z"
   },
   {
    "duration": 7,
    "start_time": "2022-07-20T10:02:07.458Z"
   },
   {
    "duration": 5,
    "start_time": "2022-07-20T10:02:07.471Z"
   },
   {
    "duration": 4,
    "start_time": "2022-07-20T10:02:09.579Z"
   },
   {
    "duration": 1463,
    "start_time": "2022-07-20T10:02:37.912Z"
   },
   {
    "duration": 768,
    "start_time": "2022-07-20T10:02:39.377Z"
   },
   {
    "duration": 19,
    "start_time": "2022-07-20T10:02:40.147Z"
   },
   {
    "duration": 123,
    "start_time": "2022-07-20T10:02:40.169Z"
   },
   {
    "duration": 23,
    "start_time": "2022-07-20T10:02:40.293Z"
   },
   {
    "duration": 367,
    "start_time": "2022-07-20T10:02:40.317Z"
   },
   {
    "duration": 4,
    "start_time": "2022-07-20T10:02:40.686Z"
   },
   {
    "duration": 79,
    "start_time": "2022-07-20T10:02:40.691Z"
   },
   {
    "duration": 319,
    "start_time": "2022-07-20T10:02:40.772Z"
   },
   {
    "duration": 291,
    "start_time": "2022-07-20T10:02:41.093Z"
   },
   {
    "duration": 4,
    "start_time": "2022-07-20T10:02:41.386Z"
   },
   {
    "duration": 169,
    "start_time": "2022-07-20T10:02:41.391Z"
   },
   {
    "duration": 42,
    "start_time": "2022-07-20T10:02:41.561Z"
   },
   {
    "duration": 58,
    "start_time": "2022-07-20T10:02:41.605Z"
   },
   {
    "duration": 27,
    "start_time": "2022-07-20T10:02:41.665Z"
   },
   {
    "duration": 39,
    "start_time": "2022-07-20T10:02:41.694Z"
   },
   {
    "duration": 87,
    "start_time": "2022-07-20T10:02:41.735Z"
   },
   {
    "duration": 24,
    "start_time": "2022-07-20T10:02:41.824Z"
   },
   {
    "duration": 32,
    "start_time": "2022-07-20T10:02:41.850Z"
   },
   {
    "duration": 54,
    "start_time": "2022-07-20T10:02:41.884Z"
   },
   {
    "duration": 95,
    "start_time": "2022-07-20T10:02:41.939Z"
   },
   {
    "duration": 29,
    "start_time": "2022-07-20T10:02:42.036Z"
   },
   {
    "duration": 39,
    "start_time": "2022-07-20T10:02:42.068Z"
   },
   {
    "duration": 29,
    "start_time": "2022-07-20T10:02:42.108Z"
   },
   {
    "duration": 17,
    "start_time": "2022-07-20T10:02:42.139Z"
   },
   {
    "duration": 125,
    "start_time": "2022-07-20T10:02:42.158Z"
   },
   {
    "duration": 39,
    "start_time": "2022-07-20T10:02:42.285Z"
   },
   {
    "duration": 40,
    "start_time": "2022-07-20T10:02:42.328Z"
   },
   {
    "duration": 1771,
    "start_time": "2022-07-20T10:02:42.370Z"
   },
   {
    "duration": 1074,
    "start_time": "2022-07-20T10:02:44.143Z"
   },
   {
    "duration": 4,
    "start_time": "2022-07-20T10:02:45.218Z"
   },
   {
    "duration": 242,
    "start_time": "2022-07-20T10:02:45.223Z"
   },
   {
    "duration": 67,
    "start_time": "2022-07-20T10:02:45.467Z"
   },
   {
    "duration": 3,
    "start_time": "2022-07-20T10:02:45.536Z"
   },
   {
    "duration": 11,
    "start_time": "2022-07-20T10:02:45.541Z"
   },
   {
    "duration": 21,
    "start_time": "2022-07-20T10:02:45.555Z"
   },
   {
    "duration": 40,
    "start_time": "2022-07-20T10:02:45.578Z"
   },
   {
    "duration": 17,
    "start_time": "2022-07-20T10:02:45.620Z"
   },
   {
    "duration": 1971,
    "start_time": "2022-07-20T10:02:45.638Z"
   },
   {
    "duration": 1293,
    "start_time": "2022-07-20T10:02:47.611Z"
   },
   {
    "duration": 1506,
    "start_time": "2022-07-20T10:02:48.906Z"
   },
   {
    "duration": 1098,
    "start_time": "2022-07-20T10:02:50.414Z"
   },
   {
    "duration": 125,
    "start_time": "2022-07-20T10:02:51.514Z"
   },
   {
    "duration": 82,
    "start_time": "2022-07-20T10:02:51.641Z"
   },
   {
    "duration": 40,
    "start_time": "2022-07-20T10:02:51.725Z"
   },
   {
    "duration": 439,
    "start_time": "2022-07-20T10:02:51.767Z"
   },
   {
    "duration": 3,
    "start_time": "2022-07-20T10:02:52.208Z"
   },
   {
    "duration": 31,
    "start_time": "2022-07-20T10:02:52.213Z"
   },
   {
    "duration": 377456,
    "start_time": "2022-07-20T10:02:52.246Z"
   },
   {
    "duration": 124111,
    "start_time": "2022-07-20T10:09:09.704Z"
   },
   {
    "duration": 1792,
    "start_time": "2022-07-20T10:15:24.435Z"
   },
   {
    "duration": 1712,
    "start_time": "2022-07-20T10:15:26.229Z"
   },
   {
    "duration": 66,
    "start_time": "2022-07-20T10:15:27.942Z"
   },
   {
    "duration": 217,
    "start_time": "2022-07-20T10:15:28.009Z"
   },
   {
    "duration": 81,
    "start_time": "2022-07-20T10:15:28.228Z"
   },
   {
    "duration": 791,
    "start_time": "2022-07-20T10:15:28.311Z"
   },
   {
    "duration": 5,
    "start_time": "2022-07-20T10:15:29.104Z"
   },
   {
    "duration": 138,
    "start_time": "2022-07-20T10:15:29.111Z"
   },
   {
    "duration": 336,
    "start_time": "2022-07-20T10:15:29.302Z"
   },
   {
    "duration": 299,
    "start_time": "2022-07-20T10:15:29.639Z"
   },
   {
    "duration": 4,
    "start_time": "2022-07-20T10:15:29.940Z"
   },
   {
    "duration": 205,
    "start_time": "2022-07-20T10:15:29.946Z"
   },
   {
    "duration": 52,
    "start_time": "2022-07-20T10:15:30.154Z"
   },
   {
    "duration": 77,
    "start_time": "2022-07-20T10:15:30.209Z"
   },
   {
    "duration": 121,
    "start_time": "2022-07-20T10:15:30.287Z"
   },
   {
    "duration": 88,
    "start_time": "2022-07-20T10:15:30.410Z"
   },
   {
    "duration": 113,
    "start_time": "2022-07-20T10:15:30.500Z"
   },
   {
    "duration": 44,
    "start_time": "2022-07-20T10:15:30.614Z"
   },
   {
    "duration": 119,
    "start_time": "2022-07-20T10:15:30.660Z"
   },
   {
    "duration": 80,
    "start_time": "2022-07-20T10:15:30.782Z"
   },
   {
    "duration": 100,
    "start_time": "2022-07-20T10:15:30.865Z"
   },
   {
    "duration": 35,
    "start_time": "2022-07-20T10:15:30.967Z"
   },
   {
    "duration": 18,
    "start_time": "2022-07-20T10:15:31.003Z"
   },
   {
    "duration": 52,
    "start_time": "2022-07-20T10:15:31.024Z"
   },
   {
    "duration": 32,
    "start_time": "2022-07-20T10:15:31.078Z"
   },
   {
    "duration": 114,
    "start_time": "2022-07-20T10:15:31.112Z"
   },
   {
    "duration": 33,
    "start_time": "2022-07-20T10:15:31.228Z"
   },
   {
    "duration": 52,
    "start_time": "2022-07-20T10:15:31.263Z"
   },
   {
    "duration": 28,
    "start_time": "2022-07-20T10:15:31.317Z"
   },
   {
    "duration": 1749,
    "start_time": "2022-07-20T10:15:31.347Z"
   },
   {
    "duration": 1268,
    "start_time": "2022-07-20T10:15:33.098Z"
   },
   {
    "duration": 5,
    "start_time": "2022-07-20T10:15:34.368Z"
   },
   {
    "duration": 252,
    "start_time": "2022-07-20T10:15:34.374Z"
   },
   {
    "duration": 106,
    "start_time": "2022-07-20T10:15:34.628Z"
   },
   {
    "duration": 3,
    "start_time": "2022-07-20T10:15:34.736Z"
   },
   {
    "duration": 10,
    "start_time": "2022-07-20T10:15:34.740Z"
   },
   {
    "duration": 27,
    "start_time": "2022-07-20T10:15:34.752Z"
   },
   {
    "duration": 11,
    "start_time": "2022-07-20T10:15:34.781Z"
   },
   {
    "duration": 11,
    "start_time": "2022-07-20T10:15:34.793Z"
   },
   {
    "duration": 16816,
    "start_time": "2022-07-20T10:15:34.805Z"
   },
   {
    "duration": 8081,
    "start_time": "2022-07-20T10:15:51.625Z"
   },
   {
    "duration": 12019,
    "start_time": "2022-07-20T10:15:59.707Z"
   },
   {
    "duration": 1166,
    "start_time": "2022-07-20T10:16:11.728Z"
   },
   {
    "duration": 130,
    "start_time": "2022-07-20T10:16:12.895Z"
   },
   {
    "duration": 97,
    "start_time": "2022-07-20T10:16:13.026Z"
   },
   {
    "duration": 41,
    "start_time": "2022-07-20T10:16:13.125Z"
   },
   {
    "duration": 459,
    "start_time": "2022-07-20T10:16:13.167Z"
   },
   {
    "duration": 4,
    "start_time": "2022-07-20T10:16:13.628Z"
   },
   {
    "duration": 33,
    "start_time": "2022-07-20T10:16:13.634Z"
   },
   {
    "duration": 455314,
    "start_time": "2022-07-20T10:16:13.668Z"
   },
   {
    "duration": 13892,
    "start_time": "2022-07-20T10:23:48.983Z"
   },
   {
    "duration": 1515,
    "start_time": "2022-07-20T10:24:07.000Z"
   },
   {
    "duration": 758,
    "start_time": "2022-07-20T10:24:08.517Z"
   },
   {
    "duration": 17,
    "start_time": "2022-07-20T10:24:09.277Z"
   },
   {
    "duration": 113,
    "start_time": "2022-07-20T10:24:09.301Z"
   },
   {
    "duration": 20,
    "start_time": "2022-07-20T10:24:09.417Z"
   },
   {
    "duration": 348,
    "start_time": "2022-07-20T10:24:09.439Z"
   },
   {
    "duration": 11,
    "start_time": "2022-07-20T10:24:09.789Z"
   },
   {
    "duration": 68,
    "start_time": "2022-07-20T10:24:09.802Z"
   },
   {
    "duration": 296,
    "start_time": "2022-07-20T10:24:09.872Z"
   },
   {
    "duration": 288,
    "start_time": "2022-07-20T10:24:10.170Z"
   },
   {
    "duration": 4,
    "start_time": "2022-07-20T10:24:10.460Z"
   },
   {
    "duration": 160,
    "start_time": "2022-07-20T10:24:10.465Z"
   },
   {
    "duration": 39,
    "start_time": "2022-07-20T10:24:10.627Z"
   },
   {
    "duration": 43,
    "start_time": "2022-07-20T10:24:10.670Z"
   },
   {
    "duration": 22,
    "start_time": "2022-07-20T10:24:10.714Z"
   },
   {
    "duration": 24,
    "start_time": "2022-07-20T10:24:10.737Z"
   },
   {
    "duration": 77,
    "start_time": "2022-07-20T10:24:10.763Z"
   },
   {
    "duration": 25,
    "start_time": "2022-07-20T10:24:10.841Z"
   },
   {
    "duration": 35,
    "start_time": "2022-07-20T10:24:10.868Z"
   },
   {
    "duration": 40,
    "start_time": "2022-07-20T10:24:10.905Z"
   },
   {
    "duration": 102,
    "start_time": "2022-07-20T10:24:10.947Z"
   },
   {
    "duration": 28,
    "start_time": "2022-07-20T10:24:11.051Z"
   },
   {
    "duration": 34,
    "start_time": "2022-07-20T10:24:11.081Z"
   },
   {
    "duration": 29,
    "start_time": "2022-07-20T10:24:11.117Z"
   },
   {
    "duration": 15,
    "start_time": "2022-07-20T10:24:11.148Z"
   },
   {
    "duration": 117,
    "start_time": "2022-07-20T10:24:11.165Z"
   },
   {
    "duration": 40,
    "start_time": "2022-07-20T10:24:11.284Z"
   },
   {
    "duration": 32,
    "start_time": "2022-07-20T10:24:11.326Z"
   },
   {
    "duration": 11,
    "start_time": "2022-07-20T10:24:11.360Z"
   },
   {
    "duration": 1570,
    "start_time": "2022-07-20T10:24:11.373Z"
   },
   {
    "duration": 1045,
    "start_time": "2022-07-20T10:24:12.944Z"
   },
   {
    "duration": 10,
    "start_time": "2022-07-20T10:24:13.991Z"
   },
   {
    "duration": 200,
    "start_time": "2022-07-20T10:24:14.003Z"
   },
   {
    "duration": 45,
    "start_time": "2022-07-20T10:24:14.205Z"
   },
   {
    "duration": 4,
    "start_time": "2022-07-20T10:24:14.252Z"
   },
   {
    "duration": 10,
    "start_time": "2022-07-20T10:24:14.258Z"
   },
   {
    "duration": 12,
    "start_time": "2022-07-20T10:24:14.270Z"
   },
   {
    "duration": 6,
    "start_time": "2022-07-20T10:24:14.284Z"
   },
   {
    "duration": 5,
    "start_time": "2022-07-20T10:24:14.300Z"
   },
   {
    "duration": 2743,
    "start_time": "2022-07-20T10:24:14.306Z"
   },
   {
    "duration": 1530,
    "start_time": "2022-07-20T10:24:17.053Z"
   },
   {
    "duration": 1223,
    "start_time": "2022-07-20T10:24:18.585Z"
   },
   {
    "duration": 1047,
    "start_time": "2022-07-20T10:24:19.810Z"
   },
   {
    "duration": 122,
    "start_time": "2022-07-20T10:24:20.858Z"
   },
   {
    "duration": 85,
    "start_time": "2022-07-20T10:24:20.982Z"
   },
   {
    "duration": 46,
    "start_time": "2022-07-20T10:24:21.069Z"
   },
   {
    "duration": 447,
    "start_time": "2022-07-20T10:24:21.116Z"
   },
   {
    "duration": 4,
    "start_time": "2022-07-20T10:24:21.565Z"
   },
   {
    "duration": 7,
    "start_time": "2022-07-20T10:24:21.570Z"
   },
   {
    "duration": 93575,
    "start_time": "2022-07-20T10:24:21.578Z"
   },
   {
    "duration": 112049,
    "start_time": "2022-07-20T10:25:55.155Z"
   },
   {
    "duration": 19124,
    "start_time": "2022-07-20T10:27:47.205Z"
   },
   {
    "duration": 6,
    "start_time": "2022-07-20T10:28:06.330Z"
   },
   {
    "duration": 14,
    "start_time": "2022-07-20T10:28:07.515Z"
   },
   {
    "duration": 1289,
    "start_time": "2022-07-20T10:28:08.974Z"
   },
   {
    "duration": 1773,
    "start_time": "2022-07-20T10:33:42.622Z"
   },
   {
    "duration": 772,
    "start_time": "2022-07-20T10:33:44.397Z"
   },
   {
    "duration": 17,
    "start_time": "2022-07-20T10:33:45.171Z"
   },
   {
    "duration": 114,
    "start_time": "2022-07-20T10:33:45.190Z"
   },
   {
    "duration": 20,
    "start_time": "2022-07-20T10:33:45.306Z"
   },
   {
    "duration": 425,
    "start_time": "2022-07-20T10:33:45.327Z"
   },
   {
    "duration": 6,
    "start_time": "2022-07-20T10:33:45.754Z"
   },
   {
    "duration": 82,
    "start_time": "2022-07-20T10:33:45.762Z"
   },
   {
    "duration": 286,
    "start_time": "2022-07-20T10:33:45.845Z"
   },
   {
    "duration": 273,
    "start_time": "2022-07-20T10:33:46.132Z"
   },
   {
    "duration": 4,
    "start_time": "2022-07-20T10:33:46.407Z"
   },
   {
    "duration": 174,
    "start_time": "2022-07-20T10:33:46.413Z"
   },
   {
    "duration": 35,
    "start_time": "2022-07-20T10:33:46.589Z"
   },
   {
    "duration": 25,
    "start_time": "2022-07-20T10:33:46.628Z"
   },
   {
    "duration": 27,
    "start_time": "2022-07-20T10:33:46.655Z"
   },
   {
    "duration": 30,
    "start_time": "2022-07-20T10:33:46.684Z"
   },
   {
    "duration": 78,
    "start_time": "2022-07-20T10:33:46.716Z"
   },
   {
    "duration": 25,
    "start_time": "2022-07-20T10:33:46.796Z"
   },
   {
    "duration": 44,
    "start_time": "2022-07-20T10:33:46.823Z"
   },
   {
    "duration": 45,
    "start_time": "2022-07-20T10:33:46.868Z"
   },
   {
    "duration": 94,
    "start_time": "2022-07-20T10:33:46.915Z"
   },
   {
    "duration": 29,
    "start_time": "2022-07-20T10:33:47.011Z"
   },
   {
    "duration": 16,
    "start_time": "2022-07-20T10:33:47.041Z"
   },
   {
    "duration": 51,
    "start_time": "2022-07-20T10:33:47.060Z"
   },
   {
    "duration": 15,
    "start_time": "2022-07-20T10:33:47.113Z"
   },
   {
    "duration": 115,
    "start_time": "2022-07-20T10:33:47.130Z"
   },
   {
    "duration": 32,
    "start_time": "2022-07-20T10:33:47.247Z"
   },
   {
    "duration": 42,
    "start_time": "2022-07-20T10:33:47.281Z"
   },
   {
    "duration": 12,
    "start_time": "2022-07-20T10:33:47.324Z"
   },
   {
    "duration": 1703,
    "start_time": "2022-07-20T10:33:47.337Z"
   },
   {
    "duration": 1104,
    "start_time": "2022-07-20T10:33:49.041Z"
   },
   {
    "duration": 5,
    "start_time": "2022-07-20T10:33:50.146Z"
   },
   {
    "duration": 209,
    "start_time": "2022-07-20T10:33:50.153Z"
   },
   {
    "duration": 58,
    "start_time": "2022-07-20T10:33:50.364Z"
   },
   {
    "duration": 3,
    "start_time": "2022-07-20T10:33:50.424Z"
   },
   {
    "duration": 6,
    "start_time": "2022-07-20T10:33:50.429Z"
   },
   {
    "duration": 7,
    "start_time": "2022-07-20T10:33:50.436Z"
   },
   {
    "duration": 8,
    "start_time": "2022-07-20T10:33:50.444Z"
   },
   {
    "duration": 7,
    "start_time": "2022-07-20T10:33:50.454Z"
   },
   {
    "duration": 27231,
    "start_time": "2022-07-20T10:33:50.462Z"
   },
   {
    "duration": 1208,
    "start_time": "2022-07-20T10:34:17.696Z"
   },
   {
    "duration": 1419,
    "start_time": "2022-07-20T10:34:18.906Z"
   },
   {
    "duration": 1025,
    "start_time": "2022-07-20T10:34:20.327Z"
   },
   {
    "duration": 126,
    "start_time": "2022-07-20T10:34:21.354Z"
   },
   {
    "duration": 89,
    "start_time": "2022-07-20T10:34:21.482Z"
   },
   {
    "duration": 48,
    "start_time": "2022-07-20T10:34:21.573Z"
   },
   {
    "duration": 442,
    "start_time": "2022-07-20T10:34:21.624Z"
   },
   {
    "duration": 4,
    "start_time": "2022-07-20T10:34:22.068Z"
   },
   {
    "duration": 8,
    "start_time": "2022-07-20T10:34:22.073Z"
   },
   {
    "duration": 370219,
    "start_time": "2022-07-20T10:34:22.082Z"
   },
   {
    "duration": 121079,
    "start_time": "2022-07-20T10:40:32.303Z"
   },
   {
    "duration": 2458432,
    "start_time": "2022-07-20T10:42:33.384Z"
   },
   {
    "duration": 5,
    "start_time": "2022-07-20T11:23:31.817Z"
   },
   {
    "duration": 1580,
    "start_time": "2022-07-22T18:36:36.356Z"
   },
   {
    "duration": 1343,
    "start_time": "2022-07-22T18:36:37.939Z"
   },
   {
    "duration": 18,
    "start_time": "2022-07-22T18:36:39.284Z"
   },
   {
    "duration": 134,
    "start_time": "2022-07-22T18:36:39.305Z"
   },
   {
    "duration": 27,
    "start_time": "2022-07-22T18:36:39.441Z"
   },
   {
    "duration": 412,
    "start_time": "2022-07-22T18:36:39.469Z"
   },
   {
    "duration": 6,
    "start_time": "2022-07-22T18:36:39.882Z"
   },
   {
    "duration": 99,
    "start_time": "2022-07-22T18:36:39.889Z"
   },
   {
    "duration": 301,
    "start_time": "2022-07-22T18:36:39.990Z"
   },
   {
    "duration": 289,
    "start_time": "2022-07-22T18:36:40.293Z"
   },
   {
    "duration": 5,
    "start_time": "2022-07-22T18:36:40.584Z"
   },
   {
    "duration": 189,
    "start_time": "2022-07-22T18:36:40.591Z"
   },
   {
    "duration": 36,
    "start_time": "2022-07-22T18:36:40.781Z"
   },
   {
    "duration": 37,
    "start_time": "2022-07-22T18:36:40.818Z"
   },
   {
    "duration": 24,
    "start_time": "2022-07-22T18:36:40.857Z"
   },
   {
    "duration": 26,
    "start_time": "2022-07-22T18:36:40.884Z"
   },
   {
    "duration": 136,
    "start_time": "2022-07-22T18:36:40.911Z"
   },
   {
    "duration": 38,
    "start_time": "2022-07-22T18:36:41.049Z"
   },
   {
    "duration": 75,
    "start_time": "2022-07-22T18:36:41.089Z"
   },
   {
    "duration": 113,
    "start_time": "2022-07-22T18:36:41.166Z"
   },
   {
    "duration": 209,
    "start_time": "2022-07-22T18:36:41.281Z"
   },
   {
    "duration": 88,
    "start_time": "2022-07-22T18:36:41.492Z"
   },
   {
    "duration": 68,
    "start_time": "2022-07-22T18:36:41.582Z"
   },
   {
    "duration": 27,
    "start_time": "2022-07-22T18:36:41.652Z"
   },
   {
    "duration": 65,
    "start_time": "2022-07-22T18:36:41.681Z"
   },
   {
    "duration": 211,
    "start_time": "2022-07-22T18:36:41.748Z"
   },
   {
    "duration": 88,
    "start_time": "2022-07-22T18:36:41.961Z"
   },
   {
    "duration": 99,
    "start_time": "2022-07-22T18:36:42.053Z"
   },
   {
    "duration": 16,
    "start_time": "2022-07-22T18:36:42.154Z"
   },
   {
    "duration": 3044,
    "start_time": "2022-07-22T18:36:42.172Z"
   },
   {
    "duration": 2068,
    "start_time": "2022-07-22T18:36:45.217Z"
   },
   {
    "duration": 59,
    "start_time": "2022-07-22T18:36:47.288Z"
   },
   {
    "duration": 340,
    "start_time": "2022-07-22T18:36:47.350Z"
   },
   {
    "duration": 58,
    "start_time": "2022-07-22T18:36:47.692Z"
   },
   {
    "duration": 6,
    "start_time": "2022-07-22T18:36:47.752Z"
   },
   {
    "duration": 35,
    "start_time": "2022-07-22T18:36:47.760Z"
   },
   {
    "duration": 12,
    "start_time": "2022-07-22T18:36:47.797Z"
   },
   {
    "duration": 22,
    "start_time": "2022-07-22T18:36:47.811Z"
   },
   {
    "duration": 7,
    "start_time": "2022-07-22T18:36:47.835Z"
   },
   {
    "duration": 47404,
    "start_time": "2022-07-22T18:36:47.843Z"
   },
   {
    "duration": 44961,
    "start_time": "2022-07-22T18:37:35.249Z"
   },
   {
    "duration": 36158,
    "start_time": "2022-07-22T18:38:20.211Z"
   },
   {
    "duration": 1202,
    "start_time": "2022-07-22T18:38:56.371Z"
   },
   {
    "duration": 132,
    "start_time": "2022-07-22T18:38:57.575Z"
   },
   {
    "duration": 91,
    "start_time": "2022-07-22T18:38:57.709Z"
   },
   {
    "duration": 49,
    "start_time": "2022-07-22T18:38:57.802Z"
   },
   {
    "duration": 440,
    "start_time": "2022-07-22T18:38:57.853Z"
   },
   {
    "duration": 4,
    "start_time": "2022-07-22T18:38:58.294Z"
   },
   {
    "duration": 8,
    "start_time": "2022-07-22T18:38:58.300Z"
   },
   {
    "duration": 0,
    "start_time": "2022-07-22T18:38:58.310Z"
   },
   {
    "duration": 0,
    "start_time": "2022-07-22T18:38:58.311Z"
   },
   {
    "duration": 0,
    "start_time": "2022-07-22T18:38:58.312Z"
   },
   {
    "duration": 0,
    "start_time": "2022-07-22T18:38:58.313Z"
   },
   {
    "duration": 4,
    "start_time": "2022-07-22T18:41:10.878Z"
   },
   {
    "duration": 543874,
    "start_time": "2022-07-22T18:41:16.606Z"
   },
   {
    "duration": 3,
    "start_time": "2022-07-22T18:51:46.275Z"
   },
   {
    "duration": 38432,
    "start_time": "2022-07-22T18:51:56.468Z"
   },
   {
    "duration": 3,
    "start_time": "2022-07-22T18:56:00.852Z"
   },
   {
    "duration": 3,
    "start_time": "2022-07-22T18:56:43.806Z"
   },
   {
    "duration": 6457,
    "start_time": "2022-07-22T18:57:14.253Z"
   },
   {
    "duration": 3,
    "start_time": "2022-07-22T18:57:20.713Z"
   },
   {
    "duration": 3,
    "start_time": "2022-07-22T18:57:25.144Z"
   },
   {
    "duration": 51995,
    "start_time": "2022-07-22T18:57:27.956Z"
   },
   {
    "duration": 2,
    "start_time": "2022-07-22T18:59:02.052Z"
   },
   {
    "duration": 37703,
    "start_time": "2022-07-22T18:59:02.056Z"
   },
   {
    "duration": 60,
    "start_time": "2022-07-22T19:07:26.519Z"
   },
   {
    "duration": 36911,
    "start_time": "2022-07-22T19:07:29.044Z"
   },
   {
    "duration": 49,
    "start_time": "2022-07-22T19:08:08.110Z"
   },
   {
    "duration": 51061,
    "start_time": "2022-07-22T19:08:10.594Z"
   },
   {
    "duration": 101,
    "start_time": "2022-07-22T19:09:07.344Z"
   },
   {
    "duration": 4,
    "start_time": "2022-07-22T19:09:17.397Z"
   },
   {
    "duration": 91,
    "start_time": "2022-07-22T19:09:31.243Z"
   },
   {
    "duration": 1378,
    "start_time": "2022-07-22T19:12:22.442Z"
   },
   {
    "duration": 791,
    "start_time": "2022-07-22T19:12:23.822Z"
   },
   {
    "duration": 17,
    "start_time": "2022-07-22T19:12:24.615Z"
   },
   {
    "duration": 145,
    "start_time": "2022-07-22T19:12:24.634Z"
   },
   {
    "duration": 25,
    "start_time": "2022-07-22T19:12:24.781Z"
   },
   {
    "duration": 359,
    "start_time": "2022-07-22T19:12:24.808Z"
   },
   {
    "duration": 4,
    "start_time": "2022-07-22T19:12:25.169Z"
   },
   {
    "duration": 90,
    "start_time": "2022-07-22T19:12:25.174Z"
   },
   {
    "duration": 296,
    "start_time": "2022-07-22T19:12:25.266Z"
   },
   {
    "duration": 326,
    "start_time": "2022-07-22T19:12:25.564Z"
   },
   {
    "duration": 4,
    "start_time": "2022-07-22T19:12:25.891Z"
   },
   {
    "duration": 194,
    "start_time": "2022-07-22T19:12:25.897Z"
   },
   {
    "duration": 36,
    "start_time": "2022-07-22T19:12:26.092Z"
   },
   {
    "duration": 22,
    "start_time": "2022-07-22T19:12:26.145Z"
   },
   {
    "duration": 19,
    "start_time": "2022-07-22T19:12:26.169Z"
   },
   {
    "duration": 21,
    "start_time": "2022-07-22T19:12:26.190Z"
   },
   {
    "duration": 79,
    "start_time": "2022-07-22T19:12:26.213Z"
   },
   {
    "duration": 24,
    "start_time": "2022-07-22T19:12:26.294Z"
   },
   {
    "duration": 36,
    "start_time": "2022-07-22T19:12:26.320Z"
   },
   {
    "duration": 44,
    "start_time": "2022-07-22T19:12:26.358Z"
   },
   {
    "duration": 93,
    "start_time": "2022-07-22T19:12:26.403Z"
   },
   {
    "duration": 30,
    "start_time": "2022-07-22T19:12:26.497Z"
   },
   {
    "duration": 27,
    "start_time": "2022-07-22T19:12:26.529Z"
   },
   {
    "duration": 26,
    "start_time": "2022-07-22T19:12:26.558Z"
   },
   {
    "duration": 16,
    "start_time": "2022-07-22T19:12:26.586Z"
   },
   {
    "duration": 125,
    "start_time": "2022-07-22T19:12:26.603Z"
   },
   {
    "duration": 42,
    "start_time": "2022-07-22T19:12:26.730Z"
   },
   {
    "duration": 34,
    "start_time": "2022-07-22T19:12:26.774Z"
   },
   {
    "duration": 14,
    "start_time": "2022-07-22T19:12:26.810Z"
   },
   {
    "duration": 1506,
    "start_time": "2022-07-22T19:12:26.846Z"
   },
   {
    "duration": 1214,
    "start_time": "2022-07-22T19:12:28.354Z"
   },
   {
    "duration": 5,
    "start_time": "2022-07-22T19:12:29.569Z"
   },
   {
    "duration": 213,
    "start_time": "2022-07-22T19:12:29.575Z"
   },
   {
    "duration": 47,
    "start_time": "2022-07-22T19:12:29.789Z"
   },
   {
    "duration": 3,
    "start_time": "2022-07-22T19:12:29.846Z"
   },
   {
    "duration": 6,
    "start_time": "2022-07-22T19:12:29.851Z"
   },
   {
    "duration": 7,
    "start_time": "2022-07-22T19:12:29.858Z"
   },
   {
    "duration": 6,
    "start_time": "2022-07-22T19:12:29.866Z"
   },
   {
    "duration": 7,
    "start_time": "2022-07-22T19:12:29.874Z"
   },
   {
    "duration": 172,
    "start_time": "2022-07-22T19:12:29.882Z"
   },
   {
    "duration": 59,
    "start_time": "2022-07-22T19:12:30.057Z"
   },
   {
    "duration": 57,
    "start_time": "2022-07-22T19:12:30.118Z"
   },
   {
    "duration": 1160,
    "start_time": "2022-07-22T19:12:30.177Z"
   },
   {
    "duration": 130,
    "start_time": "2022-07-22T19:12:31.339Z"
   },
   {
    "duration": 97,
    "start_time": "2022-07-22T19:12:31.470Z"
   },
   {
    "duration": 41,
    "start_time": "2022-07-22T19:12:31.569Z"
   },
   {
    "duration": 446,
    "start_time": "2022-07-22T19:12:31.612Z"
   },
   {
    "duration": 4,
    "start_time": "2022-07-22T19:12:32.061Z"
   },
   {
    "duration": 10,
    "start_time": "2022-07-22T19:12:32.067Z"
   },
   {
    "duration": 1473,
    "start_time": "2022-07-22T19:13:32.479Z"
   },
   {
    "duration": 778,
    "start_time": "2022-07-22T19:13:33.954Z"
   },
   {
    "duration": 29,
    "start_time": "2022-07-22T19:13:34.733Z"
   },
   {
    "duration": 150,
    "start_time": "2022-07-22T19:13:34.764Z"
   },
   {
    "duration": 31,
    "start_time": "2022-07-22T19:13:34.916Z"
   },
   {
    "duration": 400,
    "start_time": "2022-07-22T19:13:34.948Z"
   },
   {
    "duration": 5,
    "start_time": "2022-07-22T19:13:35.350Z"
   },
   {
    "duration": 214,
    "start_time": "2022-07-22T19:13:35.356Z"
   },
   {
    "duration": 594,
    "start_time": "2022-07-22T19:13:35.572Z"
   },
   {
    "duration": 594,
    "start_time": "2022-07-22T19:13:36.169Z"
   },
   {
    "duration": 4,
    "start_time": "2022-07-22T19:13:36.764Z"
   },
   {
    "duration": 311,
    "start_time": "2022-07-22T19:13:36.769Z"
   },
   {
    "duration": 35,
    "start_time": "2022-07-22T19:13:37.082Z"
   },
   {
    "duration": 37,
    "start_time": "2022-07-22T19:13:37.118Z"
   },
   {
    "duration": 23,
    "start_time": "2022-07-22T19:13:37.156Z"
   },
   {
    "duration": 26,
    "start_time": "2022-07-22T19:13:37.180Z"
   },
   {
    "duration": 72,
    "start_time": "2022-07-22T19:13:37.207Z"
   },
   {
    "duration": 24,
    "start_time": "2022-07-22T19:13:37.280Z"
   },
   {
    "duration": 22,
    "start_time": "2022-07-22T19:13:37.306Z"
   },
   {
    "duration": 43,
    "start_time": "2022-07-22T19:13:37.345Z"
   },
   {
    "duration": 91,
    "start_time": "2022-07-22T19:13:37.390Z"
   },
   {
    "duration": 27,
    "start_time": "2022-07-22T19:13:37.483Z"
   },
   {
    "duration": 34,
    "start_time": "2022-07-22T19:13:37.512Z"
   },
   {
    "duration": 27,
    "start_time": "2022-07-22T19:13:37.548Z"
   },
   {
    "duration": 15,
    "start_time": "2022-07-22T19:13:37.576Z"
   },
   {
    "duration": 116,
    "start_time": "2022-07-22T19:13:37.593Z"
   },
   {
    "duration": 41,
    "start_time": "2022-07-22T19:13:37.711Z"
   },
   {
    "duration": 33,
    "start_time": "2022-07-22T19:13:37.757Z"
   },
   {
    "duration": 12,
    "start_time": "2022-07-22T19:13:37.792Z"
   },
   {
    "duration": 1728,
    "start_time": "2022-07-22T19:13:37.806Z"
   },
   {
    "duration": 1097,
    "start_time": "2022-07-22T19:13:39.536Z"
   },
   {
    "duration": 4,
    "start_time": "2022-07-22T19:13:40.634Z"
   },
   {
    "duration": 206,
    "start_time": "2022-07-22T19:13:40.645Z"
   },
   {
    "duration": 44,
    "start_time": "2022-07-22T19:13:40.853Z"
   },
   {
    "duration": 4,
    "start_time": "2022-07-22T19:13:40.898Z"
   },
   {
    "duration": 7,
    "start_time": "2022-07-22T19:13:40.903Z"
   },
   {
    "duration": 8,
    "start_time": "2022-07-22T19:13:40.911Z"
   },
   {
    "duration": 5,
    "start_time": "2022-07-22T19:13:40.920Z"
   },
   {
    "duration": 6,
    "start_time": "2022-07-22T19:13:40.926Z"
   },
   {
    "duration": 154,
    "start_time": "2022-07-22T19:13:40.946Z"
   },
   {
    "duration": 57,
    "start_time": "2022-07-22T19:13:41.102Z"
   },
   {
    "duration": 59,
    "start_time": "2022-07-22T19:13:41.161Z"
   },
   {
    "duration": 1119,
    "start_time": "2022-07-22T19:13:41.221Z"
   },
   {
    "duration": 132,
    "start_time": "2022-07-22T19:13:42.341Z"
   },
   {
    "duration": 91,
    "start_time": "2022-07-22T19:13:42.475Z"
   },
   {
    "duration": 39,
    "start_time": "2022-07-22T19:13:42.568Z"
   },
   {
    "duration": 445,
    "start_time": "2022-07-22T19:13:42.609Z"
   },
   {
    "duration": 5,
    "start_time": "2022-07-22T19:13:43.055Z"
   },
   {
    "duration": 6,
    "start_time": "2022-07-22T19:13:43.061Z"
   },
   {
    "duration": 26390,
    "start_time": "2022-07-22T19:13:43.068Z"
   },
   {
    "duration": 8683,
    "start_time": "2022-07-22T19:14:09.460Z"
   },
   {
    "duration": 13361,
    "start_time": "2022-07-22T19:14:18.144Z"
   },
   {
    "duration": 6,
    "start_time": "2022-07-22T19:14:31.507Z"
   },
   {
    "duration": 3,
    "start_time": "2022-07-22T19:14:31.708Z"
   },
   {
    "duration": 65,
    "start_time": "2022-07-22T19:14:31.713Z"
   },
   {
    "duration": 58,
    "start_time": "2022-07-22T19:14:35.625Z"
   },
   {
    "duration": 3,
    "start_time": "2022-07-22T19:14:45.892Z"
   },
   {
    "duration": 2266,
    "start_time": "2022-07-22T19:15:06.203Z"
   },
   {
    "duration": 910,
    "start_time": "2022-07-22T19:15:08.471Z"
   },
   {
    "duration": 17,
    "start_time": "2022-07-22T19:15:09.383Z"
   },
   {
    "duration": 149,
    "start_time": "2022-07-22T19:15:09.402Z"
   },
   {
    "duration": 25,
    "start_time": "2022-07-22T19:15:09.553Z"
   },
   {
    "duration": 381,
    "start_time": "2022-07-22T19:15:09.580Z"
   },
   {
    "duration": 6,
    "start_time": "2022-07-22T19:15:09.963Z"
   },
   {
    "duration": 96,
    "start_time": "2022-07-22T19:15:09.970Z"
   },
   {
    "duration": 307,
    "start_time": "2022-07-22T19:15:10.068Z"
   },
   {
    "duration": 307,
    "start_time": "2022-07-22T19:15:10.379Z"
   },
   {
    "duration": 5,
    "start_time": "2022-07-22T19:15:10.688Z"
   },
   {
    "duration": 211,
    "start_time": "2022-07-22T19:15:10.695Z"
   },
   {
    "duration": 43,
    "start_time": "2022-07-22T19:15:10.908Z"
   },
   {
    "duration": 25,
    "start_time": "2022-07-22T19:15:10.952Z"
   },
   {
    "duration": 29,
    "start_time": "2022-07-22T19:15:10.979Z"
   },
   {
    "duration": 38,
    "start_time": "2022-07-22T19:15:11.009Z"
   },
   {
    "duration": 72,
    "start_time": "2022-07-22T19:15:11.049Z"
   },
   {
    "duration": 37,
    "start_time": "2022-07-22T19:15:11.124Z"
   },
   {
    "duration": 21,
    "start_time": "2022-07-22T19:15:11.163Z"
   },
   {
    "duration": 63,
    "start_time": "2022-07-22T19:15:11.186Z"
   },
   {
    "duration": 95,
    "start_time": "2022-07-22T19:15:11.251Z"
   },
   {
    "duration": 27,
    "start_time": "2022-07-22T19:15:11.349Z"
   },
   {
    "duration": 17,
    "start_time": "2022-07-22T19:15:11.378Z"
   },
   {
    "duration": 57,
    "start_time": "2022-07-22T19:15:11.397Z"
   },
   {
    "duration": 17,
    "start_time": "2022-07-22T19:15:11.456Z"
   },
   {
    "duration": 124,
    "start_time": "2022-07-22T19:15:11.475Z"
   },
   {
    "duration": 45,
    "start_time": "2022-07-22T19:15:11.601Z"
   },
   {
    "duration": 35,
    "start_time": "2022-07-22T19:15:11.649Z"
   },
   {
    "duration": 13,
    "start_time": "2022-07-22T19:15:11.685Z"
   },
   {
    "duration": 1605,
    "start_time": "2022-07-22T19:15:11.700Z"
   },
   {
    "duration": 1139,
    "start_time": "2022-07-22T19:15:13.307Z"
   },
   {
    "duration": 4,
    "start_time": "2022-07-22T19:15:14.447Z"
   },
   {
    "duration": 209,
    "start_time": "2022-07-22T19:15:14.453Z"
   },
   {
    "duration": 52,
    "start_time": "2022-07-22T19:15:14.663Z"
   },
   {
    "duration": 4,
    "start_time": "2022-07-22T19:15:14.717Z"
   },
   {
    "duration": 8,
    "start_time": "2022-07-22T19:15:14.723Z"
   },
   {
    "duration": 7,
    "start_time": "2022-07-22T19:15:14.746Z"
   },
   {
    "duration": 5,
    "start_time": "2022-07-22T19:15:14.755Z"
   },
   {
    "duration": 6,
    "start_time": "2022-07-22T19:15:14.761Z"
   },
   {
    "duration": 36682,
    "start_time": "2022-07-22T19:15:14.768Z"
   },
   {
    "duration": 43997,
    "start_time": "2022-07-22T19:15:51.452Z"
   },
   {
    "duration": 35395,
    "start_time": "2022-07-22T19:16:35.451Z"
   },
   {
    "duration": 1243,
    "start_time": "2022-07-22T19:17:10.848Z"
   },
   {
    "duration": 136,
    "start_time": "2022-07-22T19:17:12.093Z"
   },
   {
    "duration": 98,
    "start_time": "2022-07-22T19:17:12.231Z"
   },
   {
    "duration": 49,
    "start_time": "2022-07-22T19:17:12.331Z"
   },
   {
    "duration": 451,
    "start_time": "2022-07-22T19:17:12.381Z"
   },
   {
    "duration": 4,
    "start_time": "2022-07-22T19:17:12.834Z"
   },
   {
    "duration": 3,
    "start_time": "2022-07-22T19:17:12.846Z"
   },
   {
    "duration": 78383,
    "start_time": "2022-07-22T19:17:12.851Z"
   },
   {
    "duration": 3551,
    "start_time": "2022-07-22T19:18:31.236Z"
   },
   {
    "duration": 612,
    "start_time": "2022-07-22T19:18:34.788Z"
   },
   {
    "duration": 6,
    "start_time": "2022-07-22T19:18:35.401Z"
   },
   {
    "duration": 4,
    "start_time": "2022-07-22T19:18:35.410Z"
   },
   {
    "duration": 4,
    "start_time": "2022-07-22T19:18:38.906Z"
   },
   {
    "duration": 1417,
    "start_time": "2022-07-22T19:19:02.245Z"
   },
   {
    "duration": 807,
    "start_time": "2022-07-22T19:19:03.664Z"
   },
   {
    "duration": 19,
    "start_time": "2022-07-22T19:19:04.472Z"
   },
   {
    "duration": 134,
    "start_time": "2022-07-22T19:19:04.492Z"
   },
   {
    "duration": 31,
    "start_time": "2022-07-22T19:19:04.629Z"
   },
   {
    "duration": 384,
    "start_time": "2022-07-22T19:19:04.662Z"
   },
   {
    "duration": 4,
    "start_time": "2022-07-22T19:19:05.048Z"
   },
   {
    "duration": 100,
    "start_time": "2022-07-22T19:19:05.054Z"
   },
   {
    "duration": 319,
    "start_time": "2022-07-22T19:19:05.156Z"
   },
   {
    "duration": 309,
    "start_time": "2022-07-22T19:19:05.478Z"
   },
   {
    "duration": 4,
    "start_time": "2022-07-22T19:19:05.789Z"
   },
   {
    "duration": 191,
    "start_time": "2022-07-22T19:19:05.795Z"
   },
   {
    "duration": 36,
    "start_time": "2022-07-22T19:19:05.988Z"
   },
   {
    "duration": 31,
    "start_time": "2022-07-22T19:19:06.027Z"
   },
   {
    "duration": 20,
    "start_time": "2022-07-22T19:19:06.060Z"
   },
   {
    "duration": 23,
    "start_time": "2022-07-22T19:19:06.082Z"
   },
   {
    "duration": 89,
    "start_time": "2022-07-22T19:19:06.106Z"
   },
   {
    "duration": 24,
    "start_time": "2022-07-22T19:19:06.196Z"
   },
   {
    "duration": 29,
    "start_time": "2022-07-22T19:19:06.222Z"
   },
   {
    "duration": 44,
    "start_time": "2022-07-22T19:19:06.252Z"
   },
   {
    "duration": 105,
    "start_time": "2022-07-22T19:19:06.298Z"
   },
   {
    "duration": 28,
    "start_time": "2022-07-22T19:19:06.404Z"
   },
   {
    "duration": 26,
    "start_time": "2022-07-22T19:19:06.433Z"
   },
   {
    "duration": 27,
    "start_time": "2022-07-22T19:19:06.461Z"
   },
   {
    "duration": 15,
    "start_time": "2022-07-22T19:19:06.490Z"
   },
   {
    "duration": 120,
    "start_time": "2022-07-22T19:19:06.507Z"
   },
   {
    "duration": 42,
    "start_time": "2022-07-22T19:19:06.628Z"
   },
   {
    "duration": 38,
    "start_time": "2022-07-22T19:19:06.671Z"
   },
   {
    "duration": 13,
    "start_time": "2022-07-22T19:19:06.710Z"
   },
   {
    "duration": 1637,
    "start_time": "2022-07-22T19:19:06.724Z"
   },
   {
    "duration": 1588,
    "start_time": "2022-07-22T19:19:08.363Z"
   },
   {
    "duration": 3,
    "start_time": "2022-07-22T19:19:09.953Z"
   },
   {
    "duration": 411,
    "start_time": "2022-07-22T19:19:09.958Z"
   },
   {
    "duration": 103,
    "start_time": "2022-07-22T19:19:10.371Z"
   },
   {
    "duration": 3,
    "start_time": "2022-07-22T19:19:10.476Z"
   },
   {
    "duration": 7,
    "start_time": "2022-07-22T19:19:10.480Z"
   },
   {
    "duration": 5,
    "start_time": "2022-07-22T19:19:10.488Z"
   },
   {
    "duration": 52,
    "start_time": "2022-07-22T19:19:10.494Z"
   },
   {
    "duration": 6,
    "start_time": "2022-07-22T19:19:10.548Z"
   },
   {
    "duration": 38336,
    "start_time": "2022-07-22T19:19:10.555Z"
   },
   {
    "duration": 43751,
    "start_time": "2022-07-22T19:19:48.896Z"
   },
   {
    "duration": 36094,
    "start_time": "2022-07-22T19:20:32.648Z"
   },
   {
    "duration": 1257,
    "start_time": "2022-07-22T19:21:08.744Z"
   },
   {
    "duration": 133,
    "start_time": "2022-07-22T19:21:10.003Z"
   },
   {
    "duration": 92,
    "start_time": "2022-07-22T19:21:10.138Z"
   },
   {
    "duration": 48,
    "start_time": "2022-07-22T19:21:10.232Z"
   },
   {
    "duration": 440,
    "start_time": "2022-07-22T19:21:10.282Z"
   },
   {
    "duration": 4,
    "start_time": "2022-07-22T19:21:10.724Z"
   },
   {
    "duration": 9,
    "start_time": "2022-07-22T19:21:10.729Z"
   },
   {
    "duration": 1499,
    "start_time": "2022-07-22T19:21:53.655Z"
   },
   {
    "duration": 1304,
    "start_time": "2022-07-22T19:21:55.157Z"
   },
   {
    "duration": 19,
    "start_time": "2022-07-22T19:21:56.463Z"
   },
   {
    "duration": 483,
    "start_time": "2022-07-22T19:21:56.484Z"
   },
   {
    "duration": 77,
    "start_time": "2022-07-22T19:21:56.970Z"
   },
   {
    "duration": 726,
    "start_time": "2022-07-22T19:21:57.049Z"
   },
   {
    "duration": 6,
    "start_time": "2022-07-22T19:21:57.776Z"
   },
   {
    "duration": 134,
    "start_time": "2022-07-22T19:21:57.784Z"
   },
   {
    "duration": 304,
    "start_time": "2022-07-22T19:21:57.920Z"
   },
   {
    "duration": 294,
    "start_time": "2022-07-22T19:21:58.225Z"
   },
   {
    "duration": 5,
    "start_time": "2022-07-22T19:21:58.521Z"
   },
   {
    "duration": 197,
    "start_time": "2022-07-22T19:21:58.527Z"
   },
   {
    "duration": 43,
    "start_time": "2022-07-22T19:21:58.726Z"
   },
   {
    "duration": 27,
    "start_time": "2022-07-22T19:21:58.772Z"
   },
   {
    "duration": 21,
    "start_time": "2022-07-22T19:21:58.800Z"
   },
   {
    "duration": 50,
    "start_time": "2022-07-22T19:21:58.823Z"
   },
   {
    "duration": 86,
    "start_time": "2022-07-22T19:21:58.876Z"
   },
   {
    "duration": 33,
    "start_time": "2022-07-22T19:21:58.964Z"
   },
   {
    "duration": 41,
    "start_time": "2022-07-22T19:21:58.999Z"
   },
   {
    "duration": 74,
    "start_time": "2022-07-22T19:21:59.042Z"
   },
   {
    "duration": 99,
    "start_time": "2022-07-22T19:21:59.118Z"
   },
   {
    "duration": 37,
    "start_time": "2022-07-22T19:21:59.219Z"
   },
   {
    "duration": 16,
    "start_time": "2022-07-22T19:21:59.258Z"
   },
   {
    "duration": 25,
    "start_time": "2022-07-22T19:21:59.275Z"
   },
   {
    "duration": 46,
    "start_time": "2022-07-22T19:21:59.301Z"
   },
   {
    "duration": 104,
    "start_time": "2022-07-22T19:21:59.348Z"
   },
   {
    "duration": 33,
    "start_time": "2022-07-22T19:21:59.453Z"
   },
   {
    "duration": 58,
    "start_time": "2022-07-22T19:21:59.488Z"
   },
   {
    "duration": 11,
    "start_time": "2022-07-22T19:21:59.548Z"
   },
   {
    "duration": 1594,
    "start_time": "2022-07-22T19:21:59.561Z"
   },
   {
    "duration": 1230,
    "start_time": "2022-07-22T19:22:01.157Z"
   },
   {
    "duration": 6,
    "start_time": "2022-07-22T19:22:02.389Z"
   },
   {
    "duration": 218,
    "start_time": "2022-07-22T19:22:02.397Z"
   },
   {
    "duration": 55,
    "start_time": "2022-07-22T19:22:02.617Z"
   },
   {
    "duration": 4,
    "start_time": "2022-07-22T19:22:02.674Z"
   },
   {
    "duration": 7,
    "start_time": "2022-07-22T19:22:02.680Z"
   },
   {
    "duration": 6,
    "start_time": "2022-07-22T19:22:02.688Z"
   },
   {
    "duration": 7,
    "start_time": "2022-07-22T19:22:02.696Z"
   },
   {
    "duration": 7,
    "start_time": "2022-07-22T19:22:02.705Z"
   },
   {
    "duration": 34043,
    "start_time": "2022-07-22T19:22:02.713Z"
   },
   {
    "duration": 32401,
    "start_time": "2022-07-22T19:22:36.760Z"
   },
   {
    "duration": 32089,
    "start_time": "2022-07-22T19:23:09.164Z"
   },
   {
    "duration": 1311,
    "start_time": "2022-07-22T19:23:41.255Z"
   },
   {
    "duration": 137,
    "start_time": "2022-07-22T19:23:42.568Z"
   },
   {
    "duration": 99,
    "start_time": "2022-07-22T19:23:42.706Z"
   },
   {
    "duration": 50,
    "start_time": "2022-07-22T19:23:42.807Z"
   },
   {
    "duration": 455,
    "start_time": "2022-07-22T19:23:42.859Z"
   },
   {
    "duration": 5,
    "start_time": "2022-07-22T19:23:43.315Z"
   },
   {
    "duration": 7,
    "start_time": "2022-07-22T19:23:43.322Z"
   },
   {
    "duration": 203793,
    "start_time": "2022-07-22T19:23:43.331Z"
   },
   {
    "duration": 14652,
    "start_time": "2022-07-22T19:27:07.126Z"
   },
   {
    "duration": 1547,
    "start_time": "2022-07-22T19:27:21.780Z"
   },
   {
    "duration": 5,
    "start_time": "2022-07-22T19:27:23.329Z"
   },
   {
    "duration": 14438,
    "start_time": "2022-07-22T19:27:23.353Z"
   },
   {
    "duration": 18,
    "start_time": "2022-07-22T19:27:37.806Z"
   },
   {
    "duration": 4,
    "start_time": "2022-07-22T19:27:39.943Z"
   },
   {
    "duration": 1584,
    "start_time": "2022-07-22T19:28:12.938Z"
   },
   {
    "duration": 788,
    "start_time": "2022-07-22T19:28:14.524Z"
   },
   {
    "duration": 17,
    "start_time": "2022-07-22T19:28:15.314Z"
   },
   {
    "duration": 135,
    "start_time": "2022-07-22T19:28:15.333Z"
   },
   {
    "duration": 23,
    "start_time": "2022-07-22T19:28:15.470Z"
   },
   {
    "duration": 360,
    "start_time": "2022-07-22T19:28:15.495Z"
   },
   {
    "duration": 5,
    "start_time": "2022-07-22T19:28:15.856Z"
   },
   {
    "duration": 92,
    "start_time": "2022-07-22T19:28:15.864Z"
   },
   {
    "duration": 284,
    "start_time": "2022-07-22T19:28:15.958Z"
   },
   {
    "duration": 287,
    "start_time": "2022-07-22T19:28:16.245Z"
   },
   {
    "duration": 4,
    "start_time": "2022-07-22T19:28:16.534Z"
   },
   {
    "duration": 174,
    "start_time": "2022-07-22T19:28:16.539Z"
   },
   {
    "duration": 43,
    "start_time": "2022-07-22T19:28:16.715Z"
   },
   {
    "duration": 36,
    "start_time": "2022-07-22T19:28:16.761Z"
   },
   {
    "duration": 30,
    "start_time": "2022-07-22T19:28:16.799Z"
   },
   {
    "duration": 35,
    "start_time": "2022-07-22T19:28:16.846Z"
   },
   {
    "duration": 175,
    "start_time": "2022-07-22T19:28:16.883Z"
   },
   {
    "duration": 26,
    "start_time": "2022-07-22T19:28:17.060Z"
   },
   {
    "duration": 72,
    "start_time": "2022-07-22T19:28:17.088Z"
   },
   {
    "duration": 114,
    "start_time": "2022-07-22T19:28:17.162Z"
   },
   {
    "duration": 192,
    "start_time": "2022-07-22T19:28:17.277Z"
   },
   {
    "duration": 82,
    "start_time": "2022-07-22T19:28:17.471Z"
   },
   {
    "duration": 17,
    "start_time": "2022-07-22T19:28:17.554Z"
   },
   {
    "duration": 78,
    "start_time": "2022-07-22T19:28:17.572Z"
   },
   {
    "duration": 17,
    "start_time": "2022-07-22T19:28:17.651Z"
   },
   {
    "duration": 203,
    "start_time": "2022-07-22T19:28:17.670Z"
   },
   {
    "duration": 96,
    "start_time": "2022-07-22T19:28:17.875Z"
   },
   {
    "duration": 100,
    "start_time": "2022-07-22T19:28:17.973Z"
   },
   {
    "duration": 13,
    "start_time": "2022-07-22T19:28:18.075Z"
   },
   {
    "duration": 2165,
    "start_time": "2022-07-22T19:28:18.089Z"
   },
   {
    "duration": 1194,
    "start_time": "2022-07-22T19:28:20.256Z"
   },
   {
    "duration": 6,
    "start_time": "2022-07-22T19:28:21.452Z"
   },
   {
    "duration": 243,
    "start_time": "2022-07-22T19:28:21.460Z"
   },
   {
    "duration": 54,
    "start_time": "2022-07-22T19:28:21.706Z"
   },
   {
    "duration": 3,
    "start_time": "2022-07-22T19:28:21.762Z"
   },
   {
    "duration": 6,
    "start_time": "2022-07-22T19:28:21.767Z"
   },
   {
    "duration": 9,
    "start_time": "2022-07-22T19:28:21.774Z"
   },
   {
    "duration": 6,
    "start_time": "2022-07-22T19:28:21.785Z"
   },
   {
    "duration": 7,
    "start_time": "2022-07-22T19:28:21.792Z"
   },
   {
    "duration": 33506,
    "start_time": "2022-07-22T19:28:21.801Z"
   },
   {
    "duration": 42213,
    "start_time": "2022-07-22T19:28:55.311Z"
   },
   {
    "duration": 42617,
    "start_time": "2022-07-22T19:29:37.526Z"
   },
   {
    "duration": 1315,
    "start_time": "2022-07-22T19:30:20.145Z"
   },
   {
    "duration": 141,
    "start_time": "2022-07-22T19:30:21.462Z"
   },
   {
    "duration": 90,
    "start_time": "2022-07-22T19:30:21.605Z"
   },
   {
    "duration": 51,
    "start_time": "2022-07-22T19:30:21.697Z"
   },
   {
    "duration": 472,
    "start_time": "2022-07-22T19:30:21.750Z"
   },
   {
    "duration": 6,
    "start_time": "2022-07-22T19:30:22.224Z"
   },
   {
    "duration": 14,
    "start_time": "2022-07-22T19:30:22.232Z"
   },
   {
    "duration": 1514,
    "start_time": "2022-07-22T19:31:38.489Z"
   },
   {
    "duration": 805,
    "start_time": "2022-07-22T19:31:40.005Z"
   },
   {
    "duration": 17,
    "start_time": "2022-07-22T19:31:40.812Z"
   },
   {
    "duration": 140,
    "start_time": "2022-07-22T19:31:40.831Z"
   },
   {
    "duration": 21,
    "start_time": "2022-07-22T19:31:40.972Z"
   },
   {
    "duration": 376,
    "start_time": "2022-07-22T19:31:40.994Z"
   },
   {
    "duration": 4,
    "start_time": "2022-07-22T19:31:41.372Z"
   },
   {
    "duration": 91,
    "start_time": "2022-07-22T19:31:41.377Z"
   },
   {
    "duration": 297,
    "start_time": "2022-07-22T19:31:41.470Z"
   },
   {
    "duration": 292,
    "start_time": "2022-07-22T19:31:41.770Z"
   },
   {
    "duration": 4,
    "start_time": "2022-07-22T19:31:42.063Z"
   },
   {
    "duration": 210,
    "start_time": "2022-07-22T19:31:42.069Z"
   },
   {
    "duration": 35,
    "start_time": "2022-07-22T19:31:42.281Z"
   },
   {
    "duration": 37,
    "start_time": "2022-07-22T19:31:42.317Z"
   },
   {
    "duration": 21,
    "start_time": "2022-07-22T19:31:42.356Z"
   },
   {
    "duration": 22,
    "start_time": "2022-07-22T19:31:42.379Z"
   },
   {
    "duration": 89,
    "start_time": "2022-07-22T19:31:42.403Z"
   },
   {
    "duration": 27,
    "start_time": "2022-07-22T19:31:42.494Z"
   },
   {
    "duration": 32,
    "start_time": "2022-07-22T19:31:42.523Z"
   },
   {
    "duration": 46,
    "start_time": "2022-07-22T19:31:42.557Z"
   },
   {
    "duration": 107,
    "start_time": "2022-07-22T19:31:42.605Z"
   },
   {
    "duration": 44,
    "start_time": "2022-07-22T19:31:42.714Z"
   },
   {
    "duration": 18,
    "start_time": "2022-07-22T19:31:42.760Z"
   },
   {
    "duration": 27,
    "start_time": "2022-07-22T19:31:42.780Z"
   },
   {
    "duration": 44,
    "start_time": "2022-07-22T19:31:42.808Z"
   },
   {
    "duration": 110,
    "start_time": "2022-07-22T19:31:42.854Z"
   },
   {
    "duration": 33,
    "start_time": "2022-07-22T19:31:42.966Z"
   },
   {
    "duration": 48,
    "start_time": "2022-07-22T19:31:43.003Z"
   },
   {
    "duration": 13,
    "start_time": "2022-07-22T19:31:43.053Z"
   },
   {
    "duration": 2466,
    "start_time": "2022-07-22T19:31:43.068Z"
   },
   {
    "duration": 1173,
    "start_time": "2022-07-22T19:31:45.536Z"
   },
   {
    "duration": 4,
    "start_time": "2022-07-22T19:31:46.711Z"
   },
   {
    "duration": 215,
    "start_time": "2022-07-22T19:31:46.716Z"
   },
   {
    "duration": 50,
    "start_time": "2022-07-22T19:31:46.932Z"
   },
   {
    "duration": 3,
    "start_time": "2022-07-22T19:31:46.983Z"
   },
   {
    "duration": 8,
    "start_time": "2022-07-22T19:31:46.988Z"
   },
   {
    "duration": 6,
    "start_time": "2022-07-22T19:31:46.997Z"
   },
   {
    "duration": 9,
    "start_time": "2022-07-22T19:31:47.004Z"
   },
   {
    "duration": 5,
    "start_time": "2022-07-22T19:31:47.014Z"
   },
   {
    "duration": 37388,
    "start_time": "2022-07-22T19:31:47.021Z"
   },
   {
    "duration": 1472,
    "start_time": "2022-07-22T19:32:55.866Z"
   },
   {
    "duration": 852,
    "start_time": "2022-07-22T19:32:57.340Z"
   },
   {
    "duration": 19,
    "start_time": "2022-07-22T19:32:58.194Z"
   },
   {
    "duration": 161,
    "start_time": "2022-07-22T19:32:58.215Z"
   },
   {
    "duration": 27,
    "start_time": "2022-07-22T19:32:58.379Z"
   },
   {
    "duration": 397,
    "start_time": "2022-07-22T19:32:58.408Z"
   },
   {
    "duration": 6,
    "start_time": "2022-07-22T19:32:58.806Z"
   },
   {
    "duration": 122,
    "start_time": "2022-07-22T19:32:58.814Z"
   },
   {
    "duration": 348,
    "start_time": "2022-07-22T19:32:58.938Z"
   },
   {
    "duration": 310,
    "start_time": "2022-07-22T19:32:59.289Z"
   },
   {
    "duration": 4,
    "start_time": "2022-07-22T19:32:59.601Z"
   },
   {
    "duration": 176,
    "start_time": "2022-07-22T19:32:59.607Z"
   },
   {
    "duration": 36,
    "start_time": "2022-07-22T19:32:59.785Z"
   },
   {
    "duration": 38,
    "start_time": "2022-07-22T19:32:59.822Z"
   },
   {
    "duration": 23,
    "start_time": "2022-07-22T19:32:59.861Z"
   },
   {
    "duration": 21,
    "start_time": "2022-07-22T19:32:59.886Z"
   },
   {
    "duration": 79,
    "start_time": "2022-07-22T19:32:59.908Z"
   },
   {
    "duration": 25,
    "start_time": "2022-07-22T19:32:59.989Z"
   },
   {
    "duration": 33,
    "start_time": "2022-07-22T19:33:00.015Z"
   },
   {
    "duration": 44,
    "start_time": "2022-07-22T19:33:00.050Z"
   },
   {
    "duration": 106,
    "start_time": "2022-07-22T19:33:00.096Z"
   },
   {
    "duration": 27,
    "start_time": "2022-07-22T19:33:00.203Z"
   },
   {
    "duration": 28,
    "start_time": "2022-07-22T19:33:00.232Z"
   },
   {
    "duration": 26,
    "start_time": "2022-07-22T19:33:00.261Z"
   },
   {
    "duration": 16,
    "start_time": "2022-07-22T19:33:00.288Z"
   },
   {
    "duration": 137,
    "start_time": "2022-07-22T19:33:00.305Z"
   },
   {
    "duration": 37,
    "start_time": "2022-07-22T19:33:00.446Z"
   },
   {
    "duration": 37,
    "start_time": "2022-07-22T19:33:00.486Z"
   },
   {
    "duration": 32,
    "start_time": "2022-07-22T19:33:00.525Z"
   },
   {
    "duration": 1619,
    "start_time": "2022-07-22T19:33:00.559Z"
   },
   {
    "duration": 1181,
    "start_time": "2022-07-22T19:33:02.181Z"
   },
   {
    "duration": 6,
    "start_time": "2022-07-22T19:33:03.364Z"
   },
   {
    "duration": 256,
    "start_time": "2022-07-22T19:33:03.373Z"
   },
   {
    "duration": 57,
    "start_time": "2022-07-22T19:33:03.631Z"
   },
   {
    "duration": 4,
    "start_time": "2022-07-22T19:33:03.689Z"
   },
   {
    "duration": 12,
    "start_time": "2022-07-22T19:33:03.695Z"
   },
   {
    "duration": 16,
    "start_time": "2022-07-22T19:33:03.709Z"
   },
   {
    "duration": 12,
    "start_time": "2022-07-22T19:33:03.726Z"
   },
   {
    "duration": 17,
    "start_time": "2022-07-22T19:33:03.740Z"
   },
   {
    "duration": 45897,
    "start_time": "2022-07-22T19:33:03.759Z"
   },
   {
    "duration": 40801,
    "start_time": "2022-07-22T19:33:49.658Z"
   },
   {
    "duration": 34794,
    "start_time": "2022-07-22T19:34:30.461Z"
   },
   {
    "duration": 1189,
    "start_time": "2022-07-22T19:35:05.256Z"
   },
   {
    "duration": 124,
    "start_time": "2022-07-22T19:35:06.447Z"
   },
   {
    "duration": 86,
    "start_time": "2022-07-22T19:35:06.573Z"
   },
   {
    "duration": 41,
    "start_time": "2022-07-22T19:35:06.661Z"
   },
   {
    "duration": 445,
    "start_time": "2022-07-22T19:35:06.704Z"
   },
   {
    "duration": 4,
    "start_time": "2022-07-22T19:35:07.150Z"
   },
   {
    "duration": 7,
    "start_time": "2022-07-22T19:35:07.156Z"
   },
   {
    "duration": 481457,
    "start_time": "2022-07-22T19:35:07.165Z"
   },
   {
    "duration": 7917,
    "start_time": "2022-07-22T19:43:08.624Z"
   },
   {
    "duration": 1076,
    "start_time": "2022-07-22T19:43:16.542Z"
   },
   {
    "duration": 6,
    "start_time": "2022-07-22T19:43:17.619Z"
   },
   {
    "duration": 4,
    "start_time": "2022-07-22T19:43:17.627Z"
   },
   {
    "duration": 1017,
    "start_time": "2022-07-22T19:43:17.632Z"
   },
   {
    "duration": 5,
    "start_time": "2022-07-22T19:43:19.514Z"
   },
   {
    "duration": 1161,
    "start_time": "2022-07-22T19:43:21.419Z"
   },
   {
    "duration": 1361,
    "start_time": "2022-07-22T19:43:34.018Z"
   },
   {
    "duration": 758,
    "start_time": "2022-07-22T19:43:35.381Z"
   },
   {
    "duration": 19,
    "start_time": "2022-07-22T19:43:36.140Z"
   },
   {
    "duration": 132,
    "start_time": "2022-07-22T19:43:36.160Z"
   },
   {
    "duration": 19,
    "start_time": "2022-07-22T19:43:36.294Z"
   },
   {
    "duration": 371,
    "start_time": "2022-07-22T19:43:36.315Z"
   },
   {
    "duration": 4,
    "start_time": "2022-07-22T19:43:36.688Z"
   },
   {
    "duration": 103,
    "start_time": "2022-07-22T19:43:36.693Z"
   },
   {
    "duration": 457,
    "start_time": "2022-07-22T19:43:36.798Z"
   },
   {
    "duration": 535,
    "start_time": "2022-07-22T19:43:37.257Z"
   },
   {
    "duration": 5,
    "start_time": "2022-07-22T19:43:37.845Z"
   },
   {
    "duration": 323,
    "start_time": "2022-07-22T19:43:37.851Z"
   },
   {
    "duration": 84,
    "start_time": "2022-07-22T19:43:38.176Z"
   },
   {
    "duration": 22,
    "start_time": "2022-07-22T19:43:38.262Z"
   },
   {
    "duration": 75,
    "start_time": "2022-07-22T19:43:38.286Z"
   },
   {
    "duration": 23,
    "start_time": "2022-07-22T19:43:38.363Z"
   },
   {
    "duration": 198,
    "start_time": "2022-07-22T19:43:38.388Z"
   },
   {
    "duration": 80,
    "start_time": "2022-07-22T19:43:38.588Z"
   },
   {
    "duration": 20,
    "start_time": "2022-07-22T19:43:38.670Z"
   },
   {
    "duration": 97,
    "start_time": "2022-07-22T19:43:38.691Z"
   },
   {
    "duration": 119,
    "start_time": "2022-07-22T19:43:38.790Z"
   },
   {
    "duration": 44,
    "start_time": "2022-07-22T19:43:38.911Z"
   },
   {
    "duration": 19,
    "start_time": "2022-07-22T19:43:38.958Z"
   },
   {
    "duration": 40,
    "start_time": "2022-07-22T19:43:38.979Z"
   },
   {
    "duration": 35,
    "start_time": "2022-07-22T19:43:39.023Z"
   },
   {
    "duration": 125,
    "start_time": "2022-07-22T19:43:39.061Z"
   },
   {
    "duration": 31,
    "start_time": "2022-07-22T19:43:39.188Z"
   },
   {
    "duration": 46,
    "start_time": "2022-07-22T19:43:39.221Z"
   },
   {
    "duration": 12,
    "start_time": "2022-07-22T19:43:39.269Z"
   },
   {
    "duration": 1512,
    "start_time": "2022-07-22T19:43:39.283Z"
   },
   {
    "duration": 1080,
    "start_time": "2022-07-22T19:43:40.796Z"
   },
   {
    "duration": 5,
    "start_time": "2022-07-22T19:43:41.877Z"
   },
   {
    "duration": 212,
    "start_time": "2022-07-22T19:43:41.883Z"
   },
   {
    "duration": 63,
    "start_time": "2022-07-22T19:43:42.096Z"
   },
   {
    "duration": 3,
    "start_time": "2022-07-22T19:43:42.161Z"
   },
   {
    "duration": 9,
    "start_time": "2022-07-22T19:43:42.166Z"
   },
   {
    "duration": 8,
    "start_time": "2022-07-22T19:43:42.177Z"
   },
   {
    "duration": 5,
    "start_time": "2022-07-22T19:43:42.187Z"
   },
   {
    "duration": 6,
    "start_time": "2022-07-22T19:43:42.193Z"
   },
   {
    "duration": 2166,
    "start_time": "2022-07-22T19:43:42.200Z"
   },
   {
    "duration": 1221,
    "start_time": "2022-07-22T19:43:44.370Z"
   },
   {
    "duration": 1362,
    "start_time": "2022-07-22T19:43:45.592Z"
   },
   {
    "duration": 1109,
    "start_time": "2022-07-22T19:43:46.955Z"
   },
   {
    "duration": 125,
    "start_time": "2022-07-22T19:43:48.065Z"
   },
   {
    "duration": 96,
    "start_time": "2022-07-22T19:43:48.192Z"
   },
   {
    "duration": 42,
    "start_time": "2022-07-22T19:43:48.290Z"
   },
   {
    "duration": 437,
    "start_time": "2022-07-22T19:43:48.333Z"
   },
   {
    "duration": 4,
    "start_time": "2022-07-22T19:43:48.771Z"
   },
   {
    "duration": 7,
    "start_time": "2022-07-22T19:43:48.776Z"
   },
   {
    "duration": 160663,
    "start_time": "2022-07-22T19:43:48.784Z"
   },
   {
    "duration": 1373,
    "start_time": "2022-07-22T19:46:35.620Z"
   },
   {
    "duration": 771,
    "start_time": "2022-07-22T19:46:36.995Z"
   },
   {
    "duration": 17,
    "start_time": "2022-07-22T19:46:37.768Z"
   },
   {
    "duration": 140,
    "start_time": "2022-07-22T19:46:37.787Z"
   },
   {
    "duration": 25,
    "start_time": "2022-07-22T19:46:37.928Z"
   },
   {
    "duration": 359,
    "start_time": "2022-07-22T19:46:37.955Z"
   },
   {
    "duration": 5,
    "start_time": "2022-07-22T19:46:38.315Z"
   },
   {
    "duration": 88,
    "start_time": "2022-07-22T19:46:38.322Z"
   },
   {
    "duration": 299,
    "start_time": "2022-07-22T19:46:38.411Z"
   },
   {
    "duration": 357,
    "start_time": "2022-07-22T19:46:38.713Z"
   },
   {
    "duration": 5,
    "start_time": "2022-07-22T19:46:39.072Z"
   },
   {
    "duration": 298,
    "start_time": "2022-07-22T19:46:39.079Z"
   },
   {
    "duration": 89,
    "start_time": "2022-07-22T19:46:39.379Z"
   },
   {
    "duration": 25,
    "start_time": "2022-07-22T19:46:39.469Z"
   },
   {
    "duration": 21,
    "start_time": "2022-07-22T19:46:39.546Z"
   },
   {
    "duration": 22,
    "start_time": "2022-07-22T19:46:39.568Z"
   },
   {
    "duration": 167,
    "start_time": "2022-07-22T19:46:39.592Z"
   },
   {
    "duration": 23,
    "start_time": "2022-07-22T19:46:39.761Z"
   },
   {
    "duration": 70,
    "start_time": "2022-07-22T19:46:39.785Z"
   },
   {
    "duration": 94,
    "start_time": "2022-07-22T19:46:39.856Z"
   },
   {
    "duration": 135,
    "start_time": "2022-07-22T19:46:39.952Z"
   },
   {
    "duration": 79,
    "start_time": "2022-07-22T19:46:40.088Z"
   },
   {
    "duration": 15,
    "start_time": "2022-07-22T19:46:40.169Z"
   },
   {
    "duration": 78,
    "start_time": "2022-07-22T19:46:40.186Z"
   },
   {
    "duration": 15,
    "start_time": "2022-07-22T19:46:40.266Z"
   },
   {
    "duration": 196,
    "start_time": "2022-07-22T19:46:40.282Z"
   },
   {
    "duration": 86,
    "start_time": "2022-07-22T19:46:40.480Z"
   },
   {
    "duration": 88,
    "start_time": "2022-07-22T19:46:40.569Z"
   },
   {
    "duration": 13,
    "start_time": "2022-07-22T19:46:40.659Z"
   },
   {
    "duration": 1679,
    "start_time": "2022-07-22T19:46:40.673Z"
   },
   {
    "duration": 1090,
    "start_time": "2022-07-22T19:46:42.353Z"
   },
   {
    "duration": 3,
    "start_time": "2022-07-22T19:46:43.445Z"
   },
   {
    "duration": 214,
    "start_time": "2022-07-22T19:46:43.450Z"
   },
   {
    "duration": 48,
    "start_time": "2022-07-22T19:46:43.666Z"
   },
   {
    "duration": 3,
    "start_time": "2022-07-22T19:46:43.715Z"
   },
   {
    "duration": 6,
    "start_time": "2022-07-22T19:46:43.720Z"
   },
   {
    "duration": 18,
    "start_time": "2022-07-22T19:46:43.728Z"
   },
   {
    "duration": 5,
    "start_time": "2022-07-22T19:46:43.747Z"
   },
   {
    "duration": 6,
    "start_time": "2022-07-22T19:46:43.753Z"
   },
   {
    "duration": 2190,
    "start_time": "2022-07-22T19:46:43.760Z"
   },
   {
    "duration": 1464,
    "start_time": "2022-07-22T19:46:45.951Z"
   },
   {
    "duration": 1791,
    "start_time": "2022-07-22T19:46:47.416Z"
   },
   {
    "duration": 1109,
    "start_time": "2022-07-22T19:46:49.209Z"
   },
   {
    "duration": 127,
    "start_time": "2022-07-22T19:46:50.320Z"
   },
   {
    "duration": 80,
    "start_time": "2022-07-22T19:46:50.449Z"
   },
   {
    "duration": 49,
    "start_time": "2022-07-22T19:46:50.531Z"
   },
   {
    "duration": 430,
    "start_time": "2022-07-22T19:46:50.581Z"
   },
   {
    "duration": 3,
    "start_time": "2022-07-22T19:46:51.013Z"
   },
   {
    "duration": 6,
    "start_time": "2022-07-22T19:46:51.018Z"
   },
   {
    "duration": 1427,
    "start_time": "2022-07-22T19:47:14.792Z"
   },
   {
    "duration": 795,
    "start_time": "2022-07-22T19:47:16.221Z"
   },
   {
    "duration": 17,
    "start_time": "2022-07-22T19:47:17.018Z"
   },
   {
    "duration": 132,
    "start_time": "2022-07-22T19:47:17.037Z"
   },
   {
    "duration": 21,
    "start_time": "2022-07-22T19:47:17.170Z"
   },
   {
    "duration": 365,
    "start_time": "2022-07-22T19:47:17.193Z"
   },
   {
    "duration": 5,
    "start_time": "2022-07-22T19:47:17.560Z"
   },
   {
    "duration": 93,
    "start_time": "2022-07-22T19:47:17.566Z"
   },
   {
    "duration": 282,
    "start_time": "2022-07-22T19:47:17.661Z"
   },
   {
    "duration": 283,
    "start_time": "2022-07-22T19:47:17.946Z"
   },
   {
    "duration": 3,
    "start_time": "2022-07-22T19:47:18.230Z"
   },
   {
    "duration": 178,
    "start_time": "2022-07-22T19:47:18.235Z"
   },
   {
    "duration": 37,
    "start_time": "2022-07-22T19:47:18.415Z"
   },
   {
    "duration": 23,
    "start_time": "2022-07-22T19:47:18.453Z"
   },
   {
    "duration": 20,
    "start_time": "2022-07-22T19:47:18.477Z"
   },
   {
    "duration": 21,
    "start_time": "2022-07-22T19:47:18.498Z"
   },
   {
    "duration": 83,
    "start_time": "2022-07-22T19:47:18.521Z"
   },
   {
    "duration": 24,
    "start_time": "2022-07-22T19:47:18.606Z"
   },
   {
    "duration": 30,
    "start_time": "2022-07-22T19:47:18.631Z"
   },
   {
    "duration": 49,
    "start_time": "2022-07-22T19:47:18.662Z"
   },
   {
    "duration": 104,
    "start_time": "2022-07-22T19:47:18.713Z"
   },
   {
    "duration": 42,
    "start_time": "2022-07-22T19:47:18.819Z"
   },
   {
    "duration": 18,
    "start_time": "2022-07-22T19:47:18.863Z"
   },
   {
    "duration": 30,
    "start_time": "2022-07-22T19:47:18.884Z"
   },
   {
    "duration": 43,
    "start_time": "2022-07-22T19:47:18.916Z"
   },
   {
    "duration": 115,
    "start_time": "2022-07-22T19:47:18.961Z"
   },
   {
    "duration": 39,
    "start_time": "2022-07-22T19:47:19.077Z"
   },
   {
    "duration": 51,
    "start_time": "2022-07-22T19:47:19.119Z"
   },
   {
    "duration": 11,
    "start_time": "2022-07-22T19:47:19.172Z"
   },
   {
    "duration": 1476,
    "start_time": "2022-07-22T19:47:19.185Z"
   },
   {
    "duration": 1124,
    "start_time": "2022-07-22T19:47:20.662Z"
   },
   {
    "duration": 4,
    "start_time": "2022-07-22T19:47:21.788Z"
   },
   {
    "duration": 215,
    "start_time": "2022-07-22T19:47:21.794Z"
   },
   {
    "duration": 57,
    "start_time": "2022-07-22T19:47:22.010Z"
   },
   {
    "duration": 4,
    "start_time": "2022-07-22T19:47:22.069Z"
   },
   {
    "duration": 18,
    "start_time": "2022-07-22T19:47:22.074Z"
   },
   {
    "duration": 21,
    "start_time": "2022-07-22T19:47:22.094Z"
   },
   {
    "duration": 21,
    "start_time": "2022-07-22T19:47:22.117Z"
   },
   {
    "duration": 27,
    "start_time": "2022-07-22T19:47:22.140Z"
   },
   {
    "duration": 1882,
    "start_time": "2022-07-22T19:47:22.169Z"
   },
   {
    "duration": 1399,
    "start_time": "2022-07-22T19:47:24.053Z"
   },
   {
    "duration": 1301,
    "start_time": "2022-07-22T19:47:25.453Z"
   },
   {
    "duration": 1225,
    "start_time": "2022-07-22T19:47:26.756Z"
   },
   {
    "duration": 136,
    "start_time": "2022-07-22T19:47:27.983Z"
   },
   {
    "duration": 96,
    "start_time": "2022-07-22T19:47:28.121Z"
   },
   {
    "duration": 47,
    "start_time": "2022-07-22T19:47:28.218Z"
   },
   {
    "duration": 434,
    "start_time": "2022-07-22T19:47:28.266Z"
   },
   {
    "duration": 4,
    "start_time": "2022-07-22T19:47:28.701Z"
   },
   {
    "duration": 10,
    "start_time": "2022-07-22T19:47:28.706Z"
   },
   {
    "duration": 1410,
    "start_time": "2022-07-22T19:48:05.463Z"
   },
   {
    "duration": 812,
    "start_time": "2022-07-22T19:48:06.875Z"
   },
   {
    "duration": 19,
    "start_time": "2022-07-22T19:48:07.689Z"
   },
   {
    "duration": 148,
    "start_time": "2022-07-22T19:48:07.710Z"
   },
   {
    "duration": 25,
    "start_time": "2022-07-22T19:48:07.860Z"
   },
   {
    "duration": 380,
    "start_time": "2022-07-22T19:48:07.887Z"
   },
   {
    "duration": 4,
    "start_time": "2022-07-22T19:48:08.269Z"
   },
   {
    "duration": 102,
    "start_time": "2022-07-22T19:48:08.275Z"
   },
   {
    "duration": 301,
    "start_time": "2022-07-22T19:48:08.379Z"
   },
   {
    "duration": 348,
    "start_time": "2022-07-22T19:48:08.683Z"
   },
   {
    "duration": 5,
    "start_time": "2022-07-22T19:48:09.033Z"
   },
   {
    "duration": 183,
    "start_time": "2022-07-22T19:48:09.046Z"
   },
   {
    "duration": 37,
    "start_time": "2022-07-22T19:48:09.230Z"
   },
   {
    "duration": 22,
    "start_time": "2022-07-22T19:48:09.269Z"
   },
   {
    "duration": 27,
    "start_time": "2022-07-22T19:48:09.293Z"
   },
   {
    "duration": 39,
    "start_time": "2022-07-22T19:48:09.322Z"
   },
   {
    "duration": 66,
    "start_time": "2022-07-22T19:48:09.363Z"
   },
   {
    "duration": 35,
    "start_time": "2022-07-22T19:48:09.431Z"
   },
   {
    "duration": 23,
    "start_time": "2022-07-22T19:48:09.467Z"
   },
   {
    "duration": 67,
    "start_time": "2022-07-22T19:48:09.492Z"
   },
   {
    "duration": 91,
    "start_time": "2022-07-22T19:48:09.560Z"
   },
   {
    "duration": 26,
    "start_time": "2022-07-22T19:48:09.653Z"
   },
   {
    "duration": 16,
    "start_time": "2022-07-22T19:48:09.680Z"
   },
   {
    "duration": 49,
    "start_time": "2022-07-22T19:48:09.698Z"
   },
   {
    "duration": 16,
    "start_time": "2022-07-22T19:48:09.748Z"
   },
   {
    "duration": 108,
    "start_time": "2022-07-22T19:48:09.765Z"
   },
   {
    "duration": 31,
    "start_time": "2022-07-22T19:48:09.875Z"
   },
   {
    "duration": 49,
    "start_time": "2022-07-22T19:48:09.910Z"
   },
   {
    "duration": 11,
    "start_time": "2022-07-22T19:48:09.961Z"
   },
   {
    "duration": 1535,
    "start_time": "2022-07-22T19:48:09.974Z"
   },
   {
    "duration": 1275,
    "start_time": "2022-07-22T19:48:11.511Z"
   },
   {
    "duration": 4,
    "start_time": "2022-07-22T19:48:12.788Z"
   },
   {
    "duration": 212,
    "start_time": "2022-07-22T19:48:12.793Z"
   },
   {
    "duration": 52,
    "start_time": "2022-07-22T19:48:13.006Z"
   },
   {
    "duration": 2,
    "start_time": "2022-07-22T19:48:13.060Z"
   },
   {
    "duration": 8,
    "start_time": "2022-07-22T19:48:13.064Z"
   },
   {
    "duration": 9,
    "start_time": "2022-07-22T19:48:13.073Z"
   },
   {
    "duration": 6,
    "start_time": "2022-07-22T19:48:13.084Z"
   },
   {
    "duration": 5,
    "start_time": "2022-07-22T19:48:13.092Z"
   },
   {
    "duration": 7858,
    "start_time": "2022-07-22T19:48:13.098Z"
   },
   {
    "duration": 1493,
    "start_time": "2022-07-22T19:48:20.957Z"
   },
   {
    "duration": 1301,
    "start_time": "2022-07-22T19:48:22.452Z"
   },
   {
    "duration": 1106,
    "start_time": "2022-07-22T19:48:23.754Z"
   },
   {
    "duration": 122,
    "start_time": "2022-07-22T19:48:24.862Z"
   },
   {
    "duration": 85,
    "start_time": "2022-07-22T19:48:24.985Z"
   },
   {
    "duration": 38,
    "start_time": "2022-07-22T19:48:25.071Z"
   },
   {
    "duration": 429,
    "start_time": "2022-07-22T19:48:25.111Z"
   },
   {
    "duration": 3,
    "start_time": "2022-07-22T19:48:25.542Z"
   },
   {
    "duration": 7,
    "start_time": "2022-07-22T19:48:25.547Z"
   },
   {
    "duration": 161182,
    "start_time": "2022-07-22T19:48:25.556Z"
   },
   {
    "duration": 84,
    "start_time": "2022-07-24T17:17:38.578Z"
   },
   {
    "duration": 2240,
    "start_time": "2022-07-24T17:17:44.632Z"
   },
   {
    "duration": 1729,
    "start_time": "2022-07-24T17:17:46.875Z"
   },
   {
    "duration": 76,
    "start_time": "2022-07-24T17:17:48.607Z"
   },
   {
    "duration": 505,
    "start_time": "2022-07-24T17:17:48.687Z"
   },
   {
    "duration": 83,
    "start_time": "2022-07-24T17:17:49.194Z"
   },
   {
    "duration": 743,
    "start_time": "2022-07-24T17:17:49.279Z"
   },
   {
    "duration": 8,
    "start_time": "2022-07-24T17:17:50.025Z"
   },
   {
    "duration": 266,
    "start_time": "2022-07-24T17:17:50.035Z"
   },
   {
    "duration": 1058,
    "start_time": "2022-07-24T17:17:50.304Z"
   },
   {
    "duration": 1009,
    "start_time": "2022-07-24T17:17:51.366Z"
   },
   {
    "duration": 6,
    "start_time": "2022-07-24T17:17:52.377Z"
   },
   {
    "duration": 1236,
    "start_time": "2022-07-24T17:17:52.384Z"
   },
   {
    "duration": 0,
    "start_time": "2022-07-24T17:17:53.624Z"
   },
   {
    "duration": 0,
    "start_time": "2022-07-24T17:17:53.625Z"
   },
   {
    "duration": 0,
    "start_time": "2022-07-24T17:17:53.627Z"
   },
   {
    "duration": 0,
    "start_time": "2022-07-24T17:17:53.628Z"
   },
   {
    "duration": 0,
    "start_time": "2022-07-24T17:17:53.631Z"
   },
   {
    "duration": 0,
    "start_time": "2022-07-24T17:17:53.633Z"
   },
   {
    "duration": 0,
    "start_time": "2022-07-24T17:17:53.634Z"
   },
   {
    "duration": 0,
    "start_time": "2022-07-24T17:17:53.636Z"
   },
   {
    "duration": 0,
    "start_time": "2022-07-24T17:17:53.637Z"
   },
   {
    "duration": 0,
    "start_time": "2022-07-24T17:17:53.639Z"
   },
   {
    "duration": 0,
    "start_time": "2022-07-24T17:17:53.641Z"
   },
   {
    "duration": 0,
    "start_time": "2022-07-24T17:17:53.643Z"
   },
   {
    "duration": 0,
    "start_time": "2022-07-24T17:17:53.644Z"
   },
   {
    "duration": 0,
    "start_time": "2022-07-24T17:17:53.645Z"
   },
   {
    "duration": 0,
    "start_time": "2022-07-24T17:17:53.646Z"
   },
   {
    "duration": 0,
    "start_time": "2022-07-24T17:17:53.647Z"
   },
   {
    "duration": 0,
    "start_time": "2022-07-24T17:17:53.649Z"
   },
   {
    "duration": 0,
    "start_time": "2022-07-24T17:17:53.650Z"
   },
   {
    "duration": 0,
    "start_time": "2022-07-24T17:17:53.651Z"
   },
   {
    "duration": 0,
    "start_time": "2022-07-24T17:17:53.652Z"
   },
   {
    "duration": 0,
    "start_time": "2022-07-24T17:17:53.653Z"
   },
   {
    "duration": 1,
    "start_time": "2022-07-24T17:17:53.654Z"
   },
   {
    "duration": 0,
    "start_time": "2022-07-24T17:17:53.656Z"
   },
   {
    "duration": 0,
    "start_time": "2022-07-24T17:17:53.657Z"
   },
   {
    "duration": 0,
    "start_time": "2022-07-24T17:17:53.658Z"
   },
   {
    "duration": 0,
    "start_time": "2022-07-24T17:17:53.659Z"
   },
   {
    "duration": 0,
    "start_time": "2022-07-24T17:17:53.660Z"
   },
   {
    "duration": 1,
    "start_time": "2022-07-24T17:17:53.661Z"
   },
   {
    "duration": 1,
    "start_time": "2022-07-24T17:17:53.662Z"
   },
   {
    "duration": 0,
    "start_time": "2022-07-24T17:17:53.664Z"
   },
   {
    "duration": 0,
    "start_time": "2022-07-24T17:17:53.665Z"
   },
   {
    "duration": 0,
    "start_time": "2022-07-24T17:17:53.667Z"
   },
   {
    "duration": 0,
    "start_time": "2022-07-24T17:17:53.668Z"
   },
   {
    "duration": 0,
    "start_time": "2022-07-24T17:17:53.670Z"
   },
   {
    "duration": 0,
    "start_time": "2022-07-24T17:17:53.671Z"
   },
   {
    "duration": 0,
    "start_time": "2022-07-24T17:17:53.672Z"
   },
   {
    "duration": 0,
    "start_time": "2022-07-24T17:17:53.674Z"
   },
   {
    "duration": 0,
    "start_time": "2022-07-24T17:17:53.675Z"
   },
   {
    "duration": 0,
    "start_time": "2022-07-24T17:17:53.677Z"
   },
   {
    "duration": 0,
    "start_time": "2022-07-24T17:17:53.678Z"
   },
   {
    "duration": 0,
    "start_time": "2022-07-24T17:17:53.680Z"
   },
   {
    "duration": 229,
    "start_time": "2022-07-24T17:19:01.310Z"
   },
   {
    "duration": 55,
    "start_time": "2022-07-24T17:19:10.796Z"
   },
   {
    "duration": 23,
    "start_time": "2022-07-24T17:19:13.830Z"
   },
   {
    "duration": 37,
    "start_time": "2022-07-24T17:19:16.207Z"
   },
   {
    "duration": 1431,
    "start_time": "2022-07-24T17:19:20.793Z"
   },
   {
    "duration": 1550,
    "start_time": "2022-07-24T17:19:22.226Z"
   },
   {
    "duration": 18,
    "start_time": "2022-07-24T17:19:23.778Z"
   },
   {
    "duration": 291,
    "start_time": "2022-07-24T17:19:23.798Z"
   },
   {
    "duration": 71,
    "start_time": "2022-07-24T17:19:24.091Z"
   },
   {
    "duration": 816,
    "start_time": "2022-07-24T17:19:24.163Z"
   },
   {
    "duration": 10,
    "start_time": "2022-07-24T17:19:24.981Z"
   },
   {
    "duration": 305,
    "start_time": "2022-07-24T17:19:24.993Z"
   },
   {
    "duration": 431,
    "start_time": "2022-07-24T17:19:25.301Z"
   },
   {
    "duration": 309,
    "start_time": "2022-07-24T17:19:25.735Z"
   },
   {
    "duration": 5,
    "start_time": "2022-07-24T17:19:26.045Z"
   },
   {
    "duration": 232,
    "start_time": "2022-07-24T17:19:26.052Z"
   },
   {
    "duration": 55,
    "start_time": "2022-07-24T17:19:26.286Z"
   },
   {
    "duration": 59,
    "start_time": "2022-07-24T17:19:26.343Z"
   },
   {
    "duration": 45,
    "start_time": "2022-07-24T17:19:26.404Z"
   },
   {
    "duration": 70,
    "start_time": "2022-07-24T17:19:26.451Z"
   },
   {
    "duration": 1032,
    "start_time": "2022-07-24T17:19:26.523Z"
   },
   {
    "duration": 0,
    "start_time": "2022-07-24T17:19:27.559Z"
   },
   {
    "duration": 0,
    "start_time": "2022-07-24T17:19:27.561Z"
   },
   {
    "duration": 0,
    "start_time": "2022-07-24T17:19:27.563Z"
   },
   {
    "duration": 0,
    "start_time": "2022-07-24T17:19:27.565Z"
   },
   {
    "duration": 0,
    "start_time": "2022-07-24T17:19:27.566Z"
   },
   {
    "duration": 0,
    "start_time": "2022-07-24T17:19:27.568Z"
   },
   {
    "duration": 0,
    "start_time": "2022-07-24T17:19:27.569Z"
   },
   {
    "duration": 0,
    "start_time": "2022-07-24T17:19:27.571Z"
   },
   {
    "duration": 0,
    "start_time": "2022-07-24T17:19:27.572Z"
   },
   {
    "duration": 0,
    "start_time": "2022-07-24T17:19:27.573Z"
   },
   {
    "duration": 0,
    "start_time": "2022-07-24T17:19:27.574Z"
   },
   {
    "duration": 0,
    "start_time": "2022-07-24T17:19:27.577Z"
   },
   {
    "duration": 0,
    "start_time": "2022-07-24T17:19:27.578Z"
   },
   {
    "duration": 0,
    "start_time": "2022-07-24T17:19:27.580Z"
   },
   {
    "duration": 0,
    "start_time": "2022-07-24T17:19:27.581Z"
   },
   {
    "duration": 0,
    "start_time": "2022-07-24T17:19:27.583Z"
   },
   {
    "duration": 0,
    "start_time": "2022-07-24T17:19:27.585Z"
   },
   {
    "duration": 0,
    "start_time": "2022-07-24T17:19:27.586Z"
   },
   {
    "duration": 0,
    "start_time": "2022-07-24T17:19:27.587Z"
   },
   {
    "duration": 0,
    "start_time": "2022-07-24T17:19:27.588Z"
   },
   {
    "duration": 0,
    "start_time": "2022-07-24T17:19:27.590Z"
   },
   {
    "duration": 0,
    "start_time": "2022-07-24T17:19:27.591Z"
   },
   {
    "duration": 0,
    "start_time": "2022-07-24T17:19:27.593Z"
   },
   {
    "duration": 0,
    "start_time": "2022-07-24T17:19:27.594Z"
   },
   {
    "duration": 0,
    "start_time": "2022-07-24T17:19:27.595Z"
   },
   {
    "duration": 0,
    "start_time": "2022-07-24T17:19:27.596Z"
   },
   {
    "duration": 0,
    "start_time": "2022-07-24T17:19:27.597Z"
   },
   {
    "duration": 0,
    "start_time": "2022-07-24T17:19:27.598Z"
   },
   {
    "duration": 0,
    "start_time": "2022-07-24T17:19:27.599Z"
   },
   {
    "duration": 0,
    "start_time": "2022-07-24T17:19:27.601Z"
   },
   {
    "duration": 0,
    "start_time": "2022-07-24T17:19:27.602Z"
   },
   {
    "duration": 0,
    "start_time": "2022-07-24T17:19:27.603Z"
   },
   {
    "duration": 0,
    "start_time": "2022-07-24T17:19:27.661Z"
   },
   {
    "duration": 0,
    "start_time": "2022-07-24T17:19:27.662Z"
   },
   {
    "duration": 0,
    "start_time": "2022-07-24T17:19:27.664Z"
   },
   {
    "duration": 1,
    "start_time": "2022-07-24T17:19:27.665Z"
   },
   {
    "duration": 86,
    "start_time": "2022-07-24T17:19:45.788Z"
   },
   {
    "duration": 15,
    "start_time": "2022-07-24T17:19:51.359Z"
   },
   {
    "duration": 26,
    "start_time": "2022-07-24T17:20:02.308Z"
   },
   {
    "duration": 1424,
    "start_time": "2022-07-24T17:20:20.651Z"
   },
   {
    "duration": 858,
    "start_time": "2022-07-24T17:20:22.077Z"
   },
   {
    "duration": 25,
    "start_time": "2022-07-24T17:20:22.937Z"
   },
   {
    "duration": 152,
    "start_time": "2022-07-24T17:20:22.964Z"
   },
   {
    "duration": 24,
    "start_time": "2022-07-24T17:20:23.118Z"
   },
   {
    "duration": 365,
    "start_time": "2022-07-24T17:20:23.161Z"
   },
   {
    "duration": 7,
    "start_time": "2022-07-24T17:20:23.528Z"
   },
   {
    "duration": 111,
    "start_time": "2022-07-24T17:20:23.536Z"
   },
   {
    "duration": 315,
    "start_time": "2022-07-24T17:20:23.648Z"
   },
   {
    "duration": 311,
    "start_time": "2022-07-24T17:20:23.966Z"
   },
   {
    "duration": 4,
    "start_time": "2022-07-24T17:20:24.279Z"
   },
   {
    "duration": 376,
    "start_time": "2022-07-24T17:20:24.285Z"
   },
   {
    "duration": 120,
    "start_time": "2022-07-24T17:20:24.663Z"
   },
   {
    "duration": 85,
    "start_time": "2022-07-24T17:20:24.786Z"
   },
   {
    "duration": 21,
    "start_time": "2022-07-24T17:20:24.873Z"
   },
   {
    "duration": 90,
    "start_time": "2022-07-24T17:20:24.897Z"
   },
   {
    "duration": 204,
    "start_time": "2022-07-24T17:20:24.989Z"
   },
   {
    "duration": 82,
    "start_time": "2022-07-24T17:20:25.195Z"
   },
   {
    "duration": 89,
    "start_time": "2022-07-24T17:20:25.279Z"
   },
   {
    "duration": 98,
    "start_time": "2022-07-24T17:20:25.370Z"
   },
   {
    "duration": 192,
    "start_time": "2022-07-24T17:20:25.470Z"
   },
   {
    "duration": 234,
    "start_time": "2022-07-24T17:20:25.665Z"
   },
   {
    "duration": 0,
    "start_time": "2022-07-24T17:20:25.903Z"
   },
   {
    "duration": 0,
    "start_time": "2022-07-24T17:20:25.904Z"
   },
   {
    "duration": 0,
    "start_time": "2022-07-24T17:20:25.961Z"
   },
   {
    "duration": 0,
    "start_time": "2022-07-24T17:20:25.963Z"
   },
   {
    "duration": 0,
    "start_time": "2022-07-24T17:20:25.965Z"
   },
   {
    "duration": 0,
    "start_time": "2022-07-24T17:20:25.966Z"
   },
   {
    "duration": 0,
    "start_time": "2022-07-24T17:20:25.968Z"
   },
   {
    "duration": 0,
    "start_time": "2022-07-24T17:20:25.969Z"
   },
   {
    "duration": 0,
    "start_time": "2022-07-24T17:20:25.971Z"
   },
   {
    "duration": 0,
    "start_time": "2022-07-24T17:20:25.973Z"
   },
   {
    "duration": 0,
    "start_time": "2022-07-24T17:20:25.974Z"
   },
   {
    "duration": 0,
    "start_time": "2022-07-24T17:20:25.975Z"
   },
   {
    "duration": 0,
    "start_time": "2022-07-24T17:20:25.977Z"
   },
   {
    "duration": 0,
    "start_time": "2022-07-24T17:20:25.979Z"
   },
   {
    "duration": 0,
    "start_time": "2022-07-24T17:20:25.980Z"
   },
   {
    "duration": 0,
    "start_time": "2022-07-24T17:20:25.982Z"
   },
   {
    "duration": 0,
    "start_time": "2022-07-24T17:20:25.984Z"
   },
   {
    "duration": 0,
    "start_time": "2022-07-24T17:20:25.985Z"
   },
   {
    "duration": 0,
    "start_time": "2022-07-24T17:20:25.987Z"
   },
   {
    "duration": 0,
    "start_time": "2022-07-24T17:20:25.988Z"
   },
   {
    "duration": 0,
    "start_time": "2022-07-24T17:20:25.989Z"
   },
   {
    "duration": 0,
    "start_time": "2022-07-24T17:20:25.991Z"
   },
   {
    "duration": 0,
    "start_time": "2022-07-24T17:20:25.993Z"
   },
   {
    "duration": 0,
    "start_time": "2022-07-24T17:20:25.995Z"
   },
   {
    "duration": 0,
    "start_time": "2022-07-24T17:20:25.996Z"
   },
   {
    "duration": 0,
    "start_time": "2022-07-24T17:20:26.062Z"
   },
   {
    "duration": 0,
    "start_time": "2022-07-24T17:20:26.062Z"
   },
   {
    "duration": 0,
    "start_time": "2022-07-24T17:20:26.064Z"
   },
   {
    "duration": 0,
    "start_time": "2022-07-24T17:20:26.065Z"
   },
   {
    "duration": 0,
    "start_time": "2022-07-24T17:20:26.066Z"
   },
   {
    "duration": 0,
    "start_time": "2022-07-24T17:20:26.068Z"
   },
   {
    "duration": 25,
    "start_time": "2022-07-24T17:20:45.050Z"
   },
   {
    "duration": 1012,
    "start_time": "2022-07-24T17:21:15.863Z"
   },
   {
    "duration": 19,
    "start_time": "2022-07-24T17:21:51.055Z"
   },
   {
    "duration": 1480,
    "start_time": "2022-07-24T17:22:07.890Z"
   },
   {
    "duration": 1789,
    "start_time": "2022-07-24T17:22:09.372Z"
   },
   {
    "duration": 29,
    "start_time": "2022-07-24T17:22:11.163Z"
   },
   {
    "duration": 184,
    "start_time": "2022-07-24T17:22:11.194Z"
   },
   {
    "duration": 20,
    "start_time": "2022-07-24T17:22:11.380Z"
   },
   {
    "duration": 385,
    "start_time": "2022-07-24T17:22:11.403Z"
   },
   {
    "duration": 6,
    "start_time": "2022-07-24T17:22:11.790Z"
   },
   {
    "duration": 102,
    "start_time": "2022-07-24T17:22:11.798Z"
   },
   {
    "duration": 327,
    "start_time": "2022-07-24T17:22:11.902Z"
   },
   {
    "duration": 313,
    "start_time": "2022-07-24T17:22:12.233Z"
   },
   {
    "duration": 4,
    "start_time": "2022-07-24T17:22:12.548Z"
   },
   {
    "duration": 206,
    "start_time": "2022-07-24T17:22:12.560Z"
   },
   {
    "duration": 39,
    "start_time": "2022-07-24T17:22:12.768Z"
   },
   {
    "duration": 31,
    "start_time": "2022-07-24T17:22:12.808Z"
   },
   {
    "duration": 38,
    "start_time": "2022-07-24T17:22:12.842Z"
   },
   {
    "duration": 39,
    "start_time": "2022-07-24T17:22:12.882Z"
   },
   {
    "duration": 91,
    "start_time": "2022-07-24T17:22:12.923Z"
   },
   {
    "duration": 26,
    "start_time": "2022-07-24T17:22:13.016Z"
   },
   {
    "duration": 34,
    "start_time": "2022-07-24T17:22:13.044Z"
   },
   {
    "duration": 51,
    "start_time": "2022-07-24T17:22:13.080Z"
   },
   {
    "duration": 111,
    "start_time": "2022-07-24T17:22:13.133Z"
   },
   {
    "duration": 35,
    "start_time": "2022-07-24T17:22:13.245Z"
   },
   {
    "duration": 21,
    "start_time": "2022-07-24T17:22:13.282Z"
   },
   {
    "duration": 63,
    "start_time": "2022-07-24T17:22:13.305Z"
   },
   {
    "duration": 17,
    "start_time": "2022-07-24T17:22:13.370Z"
   },
   {
    "duration": 124,
    "start_time": "2022-07-24T17:22:13.389Z"
   },
   {
    "duration": 48,
    "start_time": "2022-07-24T17:22:13.515Z"
   },
   {
    "duration": 34,
    "start_time": "2022-07-24T17:22:13.567Z"
   },
   {
    "duration": 13,
    "start_time": "2022-07-24T17:22:13.603Z"
   },
   {
    "duration": 1752,
    "start_time": "2022-07-24T17:22:13.617Z"
   },
   {
    "duration": 1566,
    "start_time": "2022-07-24T17:22:15.371Z"
   },
   {
    "duration": 4,
    "start_time": "2022-07-24T17:22:16.939Z"
   },
   {
    "duration": 139,
    "start_time": "2022-07-24T17:22:16.945Z"
   },
   {
    "duration": 0,
    "start_time": "2022-07-24T17:22:17.086Z"
   },
   {
    "duration": 0,
    "start_time": "2022-07-24T17:22:17.089Z"
   },
   {
    "duration": 0,
    "start_time": "2022-07-24T17:22:17.091Z"
   },
   {
    "duration": 0,
    "start_time": "2022-07-24T17:22:17.093Z"
   },
   {
    "duration": 0,
    "start_time": "2022-07-24T17:22:17.094Z"
   },
   {
    "duration": 0,
    "start_time": "2022-07-24T17:22:17.095Z"
   },
   {
    "duration": 0,
    "start_time": "2022-07-24T17:22:17.099Z"
   },
   {
    "duration": 0,
    "start_time": "2022-07-24T17:22:17.101Z"
   },
   {
    "duration": 0,
    "start_time": "2022-07-24T17:22:17.102Z"
   },
   {
    "duration": 0,
    "start_time": "2022-07-24T17:22:17.104Z"
   },
   {
    "duration": 0,
    "start_time": "2022-07-24T17:22:17.106Z"
   },
   {
    "duration": 0,
    "start_time": "2022-07-24T17:22:17.108Z"
   },
   {
    "duration": 0,
    "start_time": "2022-07-24T17:22:17.110Z"
   },
   {
    "duration": 0,
    "start_time": "2022-07-24T17:22:17.111Z"
   },
   {
    "duration": 0,
    "start_time": "2022-07-24T17:22:17.113Z"
   },
   {
    "duration": 0,
    "start_time": "2022-07-24T17:22:17.115Z"
   },
   {
    "duration": 0,
    "start_time": "2022-07-24T17:22:17.162Z"
   },
   {
    "duration": 0,
    "start_time": "2022-07-24T17:22:17.163Z"
   },
   {
    "duration": 0,
    "start_time": "2022-07-24T17:22:17.165Z"
   },
   {
    "duration": 0,
    "start_time": "2022-07-24T17:22:17.167Z"
   },
   {
    "duration": 220,
    "start_time": "2022-07-24T17:23:36.602Z"
   },
   {
    "duration": 1386,
    "start_time": "2022-07-24T17:23:46.328Z"
   },
   {
    "duration": 807,
    "start_time": "2022-07-24T17:23:47.716Z"
   },
   {
    "duration": 17,
    "start_time": "2022-07-24T17:23:48.525Z"
   },
   {
    "duration": 134,
    "start_time": "2022-07-24T17:23:48.544Z"
   },
   {
    "duration": 22,
    "start_time": "2022-07-24T17:23:48.680Z"
   },
   {
    "duration": 381,
    "start_time": "2022-07-24T17:23:48.704Z"
   },
   {
    "duration": 7,
    "start_time": "2022-07-24T17:23:49.086Z"
   },
   {
    "duration": 99,
    "start_time": "2022-07-24T17:23:49.095Z"
   },
   {
    "duration": 314,
    "start_time": "2022-07-24T17:23:49.196Z"
   },
   {
    "duration": 290,
    "start_time": "2022-07-24T17:23:49.513Z"
   },
   {
    "duration": 7,
    "start_time": "2022-07-24T17:23:49.804Z"
   },
   {
    "duration": 190,
    "start_time": "2022-07-24T17:23:49.814Z"
   },
   {
    "duration": 37,
    "start_time": "2022-07-24T17:23:50.006Z"
   },
   {
    "duration": 23,
    "start_time": "2022-07-24T17:23:50.061Z"
   },
   {
    "duration": 25,
    "start_time": "2022-07-24T17:23:50.085Z"
   },
   {
    "duration": 62,
    "start_time": "2022-07-24T17:23:50.111Z"
   },
   {
    "duration": 121,
    "start_time": "2022-07-24T17:23:50.174Z"
   },
   {
    "duration": 78,
    "start_time": "2022-07-24T17:23:50.296Z"
   },
   {
    "duration": 86,
    "start_time": "2022-07-24T17:23:50.376Z"
   },
   {
    "duration": 97,
    "start_time": "2022-07-24T17:23:50.463Z"
   },
   {
    "duration": 136,
    "start_time": "2022-07-24T17:23:50.562Z"
   },
   {
    "duration": 80,
    "start_time": "2022-07-24T17:23:50.700Z"
   },
   {
    "duration": 15,
    "start_time": "2022-07-24T17:23:50.782Z"
   },
   {
    "duration": 79,
    "start_time": "2022-07-24T17:23:50.799Z"
   },
   {
    "duration": 15,
    "start_time": "2022-07-24T17:23:50.880Z"
   },
   {
    "duration": 206,
    "start_time": "2022-07-24T17:23:50.897Z"
   },
   {
    "duration": 80,
    "start_time": "2022-07-24T17:23:51.105Z"
   },
   {
    "duration": 90,
    "start_time": "2022-07-24T17:23:51.189Z"
   },
   {
    "duration": 17,
    "start_time": "2022-07-24T17:23:51.282Z"
   },
   {
    "duration": 1944,
    "start_time": "2022-07-24T17:23:51.301Z"
   },
   {
    "duration": 1202,
    "start_time": "2022-07-24T17:23:53.247Z"
   },
   {
    "duration": 10,
    "start_time": "2022-07-24T17:23:54.451Z"
   },
   {
    "duration": 232,
    "start_time": "2022-07-24T17:23:54.463Z"
   },
   {
    "duration": 64,
    "start_time": "2022-07-24T17:23:54.697Z"
   },
   {
    "duration": 3,
    "start_time": "2022-07-24T17:23:54.763Z"
   },
   {
    "duration": 7,
    "start_time": "2022-07-24T17:23:54.768Z"
   },
   {
    "duration": 5,
    "start_time": "2022-07-24T17:23:54.776Z"
   },
   {
    "duration": 5,
    "start_time": "2022-07-24T17:23:54.783Z"
   },
   {
    "duration": 4,
    "start_time": "2022-07-24T17:23:54.790Z"
   },
   {
    "duration": 32375,
    "start_time": "2022-07-24T17:23:54.796Z"
   },
   {
    "duration": 42413,
    "start_time": "2022-07-24T17:24:27.261Z"
   },
   {
    "duration": 42897,
    "start_time": "2022-07-24T17:25:09.676Z"
   },
   {
    "duration": 201,
    "start_time": "2022-07-24T17:25:52.574Z"
   },
   {
    "duration": 0,
    "start_time": "2022-07-24T17:25:52.777Z"
   },
   {
    "duration": 0,
    "start_time": "2022-07-24T17:25:52.778Z"
   },
   {
    "duration": 0,
    "start_time": "2022-07-24T17:25:52.779Z"
   },
   {
    "duration": 0,
    "start_time": "2022-07-24T17:25:52.780Z"
   },
   {
    "duration": 0,
    "start_time": "2022-07-24T17:25:52.781Z"
   },
   {
    "duration": 0,
    "start_time": "2022-07-24T17:25:52.782Z"
   },
   {
    "duration": 0,
    "start_time": "2022-07-24T17:25:52.783Z"
   },
   {
    "duration": 0,
    "start_time": "2022-07-24T17:25:52.784Z"
   },
   {
    "duration": 0,
    "start_time": "2022-07-24T17:25:52.786Z"
   },
   {
    "duration": 0,
    "start_time": "2022-07-24T17:25:52.787Z"
   },
   {
    "duration": 950,
    "start_time": "2022-07-24T17:26:53.712Z"
   },
   {
    "duration": 1135,
    "start_time": "2022-07-24T17:27:23.945Z"
   },
   {
    "duration": 5670,
    "start_time": "2022-07-24T17:27:52.963Z"
   },
   {
    "duration": 341,
    "start_time": "2022-07-24T17:28:42.823Z"
   },
   {
    "duration": 255,
    "start_time": "2022-07-24T17:28:45.615Z"
   },
   {
    "duration": 45,
    "start_time": "2022-07-24T17:28:50.867Z"
   },
   {
    "duration": 1348,
    "start_time": "2022-07-24T17:28:56.030Z"
   },
   {
    "duration": 4,
    "start_time": "2022-07-24T17:28:57.746Z"
   },
   {
    "duration": 2708,
    "start_time": "2022-07-24T17:29:03.459Z"
   },
   {
    "duration": 1777,
    "start_time": "2022-07-24T17:29:06.169Z"
   },
   {
    "duration": 18,
    "start_time": "2022-07-24T17:29:07.948Z"
   },
   {
    "duration": 140,
    "start_time": "2022-07-24T17:29:07.968Z"
   },
   {
    "duration": 24,
    "start_time": "2022-07-24T17:29:08.109Z"
   },
   {
    "duration": 384,
    "start_time": "2022-07-24T17:29:08.135Z"
   },
   {
    "duration": 9,
    "start_time": "2022-07-24T17:29:08.520Z"
   },
   {
    "duration": 102,
    "start_time": "2022-07-24T17:29:08.531Z"
   },
   {
    "duration": 372,
    "start_time": "2022-07-24T17:29:08.634Z"
   },
   {
    "duration": 412,
    "start_time": "2022-07-24T17:29:09.011Z"
   },
   {
    "duration": 4,
    "start_time": "2022-07-24T17:29:09.424Z"
   },
   {
    "duration": 199,
    "start_time": "2022-07-24T17:29:09.430Z"
   },
   {
    "duration": 46,
    "start_time": "2022-07-24T17:29:09.631Z"
   },
   {
    "duration": 25,
    "start_time": "2022-07-24T17:29:09.679Z"
   },
   {
    "duration": 22,
    "start_time": "2022-07-24T17:29:09.705Z"
   },
   {
    "duration": 60,
    "start_time": "2022-07-24T17:29:09.729Z"
   },
   {
    "duration": 83,
    "start_time": "2022-07-24T17:29:09.792Z"
   },
   {
    "duration": 25,
    "start_time": "2022-07-24T17:29:09.878Z"
   },
   {
    "duration": 22,
    "start_time": "2022-07-24T17:29:09.905Z"
   },
   {
    "duration": 67,
    "start_time": "2022-07-24T17:29:09.928Z"
   },
   {
    "duration": 105,
    "start_time": "2022-07-24T17:29:09.997Z"
   },
   {
    "duration": 31,
    "start_time": "2022-07-24T17:29:10.103Z"
   },
   {
    "duration": 39,
    "start_time": "2022-07-24T17:29:10.135Z"
   },
   {
    "duration": 27,
    "start_time": "2022-07-24T17:29:10.176Z"
   },
   {
    "duration": 16,
    "start_time": "2022-07-24T17:29:10.205Z"
   },
   {
    "duration": 146,
    "start_time": "2022-07-24T17:29:10.223Z"
   },
   {
    "duration": 33,
    "start_time": "2022-07-24T17:29:10.371Z"
   },
   {
    "duration": 59,
    "start_time": "2022-07-24T17:29:10.408Z"
   },
   {
    "duration": 13,
    "start_time": "2022-07-24T17:29:10.469Z"
   },
   {
    "duration": 1691,
    "start_time": "2022-07-24T17:29:10.484Z"
   },
   {
    "duration": 1278,
    "start_time": "2022-07-24T17:29:12.177Z"
   },
   {
    "duration": 6,
    "start_time": "2022-07-24T17:29:13.460Z"
   },
   {
    "duration": 222,
    "start_time": "2022-07-24T17:29:13.468Z"
   },
   {
    "duration": 49,
    "start_time": "2022-07-24T17:29:13.692Z"
   },
   {
    "duration": 4,
    "start_time": "2022-07-24T17:29:13.743Z"
   },
   {
    "duration": 20,
    "start_time": "2022-07-24T17:29:13.761Z"
   },
   {
    "duration": 25,
    "start_time": "2022-07-24T17:29:13.783Z"
   },
   {
    "duration": 18,
    "start_time": "2022-07-24T17:29:13.810Z"
   },
   {
    "duration": 14,
    "start_time": "2022-07-24T17:29:13.830Z"
   },
   {
    "duration": 43320,
    "start_time": "2022-07-24T17:29:13.846Z"
   },
   {
    "duration": 33207,
    "start_time": "2022-07-24T17:29:57.167Z"
   },
   {
    "duration": 33686,
    "start_time": "2022-07-24T17:30:30.377Z"
   },
   {
    "duration": 1237,
    "start_time": "2022-07-24T17:31:04.065Z"
   },
   {
    "duration": 131,
    "start_time": "2022-07-24T17:31:05.305Z"
   },
   {
    "duration": 108,
    "start_time": "2022-07-24T17:31:05.437Z"
   },
   {
    "duration": 56,
    "start_time": "2022-07-24T17:31:05.547Z"
   },
   {
    "duration": 444,
    "start_time": "2022-07-24T17:31:05.605Z"
   },
   {
    "duration": 4,
    "start_time": "2022-07-24T17:31:06.051Z"
   },
   {
    "duration": 7,
    "start_time": "2022-07-24T17:31:06.061Z"
   },
   {
    "duration": 512515,
    "start_time": "2022-07-24T17:31:06.069Z"
   },
   {
    "duration": 7,
    "start_time": "2022-07-24T17:42:32.199Z"
   },
   {
    "duration": 0,
    "start_time": "2022-07-24T17:42:32.262Z"
   },
   {
    "duration": 0,
    "start_time": "2022-07-24T17:42:32.265Z"
   },
   {
    "duration": 0,
    "start_time": "2022-07-24T17:42:32.266Z"
   },
   {
    "duration": 0,
    "start_time": "2022-07-24T17:42:32.268Z"
   },
   {
    "duration": 512148,
    "start_time": "2022-07-24T17:42:34.324Z"
   },
   {
    "duration": 1379,
    "start_time": "2022-07-24T17:54:53.645Z"
   },
   {
    "duration": 832,
    "start_time": "2022-07-24T17:54:55.026Z"
   },
   {
    "duration": 18,
    "start_time": "2022-07-24T17:54:55.860Z"
   },
   {
    "duration": 139,
    "start_time": "2022-07-24T17:54:55.881Z"
   },
   {
    "duration": 40,
    "start_time": "2022-07-24T17:54:56.022Z"
   },
   {
    "duration": 420,
    "start_time": "2022-07-24T17:54:56.064Z"
   },
   {
    "duration": 9,
    "start_time": "2022-07-24T17:54:56.486Z"
   },
   {
    "duration": 152,
    "start_time": "2022-07-24T17:54:56.497Z"
   },
   {
    "duration": 293,
    "start_time": "2022-07-24T17:54:56.650Z"
   },
   {
    "duration": 284,
    "start_time": "2022-07-24T17:54:56.946Z"
   },
   {
    "duration": 5,
    "start_time": "2022-07-24T17:54:57.231Z"
   },
   {
    "duration": 197,
    "start_time": "2022-07-24T17:54:57.237Z"
   },
   {
    "duration": 48,
    "start_time": "2022-07-24T17:54:57.436Z"
   },
   {
    "duration": 28,
    "start_time": "2022-07-24T17:54:57.486Z"
   },
   {
    "duration": 21,
    "start_time": "2022-07-24T17:54:57.516Z"
   },
   {
    "duration": 43,
    "start_time": "2022-07-24T17:54:57.539Z"
   },
   {
    "duration": 85,
    "start_time": "2022-07-24T17:54:57.584Z"
   },
   {
    "duration": 28,
    "start_time": "2022-07-24T17:54:57.671Z"
   },
   {
    "duration": 20,
    "start_time": "2022-07-24T17:54:57.701Z"
   },
   {
    "duration": 69,
    "start_time": "2022-07-24T17:54:57.723Z"
   },
   {
    "duration": 96,
    "start_time": "2022-07-24T17:54:57.794Z"
   },
   {
    "duration": 25,
    "start_time": "2022-07-24T17:54:57.892Z"
   },
   {
    "duration": 15,
    "start_time": "2022-07-24T17:54:57.919Z"
   },
   {
    "duration": 49,
    "start_time": "2022-07-24T17:54:57.936Z"
   },
   {
    "duration": 15,
    "start_time": "2022-07-24T17:54:57.987Z"
   },
   {
    "duration": 125,
    "start_time": "2022-07-24T17:54:58.007Z"
   },
   {
    "duration": 48,
    "start_time": "2022-07-24T17:54:58.133Z"
   },
   {
    "duration": 39,
    "start_time": "2022-07-24T17:54:58.185Z"
   },
   {
    "duration": 36,
    "start_time": "2022-07-24T17:54:58.226Z"
   },
   {
    "duration": 1638,
    "start_time": "2022-07-24T17:54:58.264Z"
   },
   {
    "duration": 1208,
    "start_time": "2022-07-24T17:54:59.904Z"
   },
   {
    "duration": 5,
    "start_time": "2022-07-24T17:55:01.114Z"
   },
   {
    "duration": 246,
    "start_time": "2022-07-24T17:55:01.121Z"
   },
   {
    "duration": 49,
    "start_time": "2022-07-24T17:55:01.369Z"
   },
   {
    "duration": 4,
    "start_time": "2022-07-24T17:55:01.419Z"
   },
   {
    "duration": 7,
    "start_time": "2022-07-24T17:55:01.425Z"
   },
   {
    "duration": 27,
    "start_time": "2022-07-24T17:55:01.433Z"
   },
   {
    "duration": 2,
    "start_time": "2022-07-24T17:55:01.463Z"
   },
   {
    "duration": 9,
    "start_time": "2022-07-24T17:55:01.467Z"
   },
   {
    "duration": 35099,
    "start_time": "2022-07-24T17:55:01.478Z"
   },
   {
    "duration": 33095,
    "start_time": "2022-07-24T17:55:36.579Z"
   },
   {
    "duration": 42300,
    "start_time": "2022-07-24T17:56:09.676Z"
   },
   {
    "duration": 1194,
    "start_time": "2022-07-24T17:56:51.978Z"
   },
   {
    "duration": 127,
    "start_time": "2022-07-24T17:56:53.174Z"
   },
   {
    "duration": 92,
    "start_time": "2022-07-24T17:56:53.303Z"
   },
   {
    "duration": 40,
    "start_time": "2022-07-24T17:56:53.397Z"
   },
   {
    "duration": 450,
    "start_time": "2022-07-24T17:56:53.439Z"
   },
   {
    "duration": 5,
    "start_time": "2022-07-24T17:56:53.891Z"
   },
   {
    "duration": 8,
    "start_time": "2022-07-24T17:56:53.898Z"
   },
   {
    "duration": 519655,
    "start_time": "2022-07-24T17:56:53.908Z"
   },
   {
    "duration": 120304,
    "start_time": "2022-07-24T18:05:33.565Z"
   },
   {
    "duration": 2448742,
    "start_time": "2022-07-24T18:07:33.871Z"
   },
   {
    "duration": 5,
    "start_time": "2022-07-24T18:48:22.615Z"
   }
  ],
  "kernelspec": {
   "display_name": "Python 3 (ipykernel)",
   "language": "python",
   "name": "python3"
  },
  "language_info": {
   "codemirror_mode": {
    "name": "ipython",
    "version": 3
   },
   "file_extension": ".py",
   "mimetype": "text/x-python",
   "name": "python",
   "nbconvert_exporter": "python",
   "pygments_lexer": "ipython3",
   "version": "3.9.5"
  },
  "toc": {
   "base_numbering": 1,
   "nav_menu": {},
   "number_sections": true,
   "sideBar": true,
   "skip_h1_title": true,
   "title_cell": "Table of Contents",
   "title_sidebar": "Contents",
   "toc_cell": false,
   "toc_position": {
    "height": "calc(100% - 180px)",
    "left": "10px",
    "top": "150px",
    "width": "165px"
   },
   "toc_section_display": true,
   "toc_window_display": true
  }
 },
 "nbformat": 4,
 "nbformat_minor": 2
}
