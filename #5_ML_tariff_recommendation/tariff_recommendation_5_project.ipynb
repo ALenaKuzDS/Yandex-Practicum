{
 "cells": [
  {
   "cell_type": "markdown",
   "id": "0acaf5bc",
   "metadata": {},
   "source": [
    "# Рекомендация  тарифов \"Смарт\" и \"Ультра\" оператора \"Мегалайн\""
   ]
  },
  {
   "cell_type": "markdown",
   "id": "b964627c",
   "metadata": {},
   "source": [
    "Описание проекта\n",
    "Оператор мобильной связи «Мегалайн» выяснил: многие клиенты пользуются архивными тарифами. Они хотят построить систему, способную проанализировать поведение клиентов и предложить пользователям новый тариф: «Смарт» или «Ультра».\n",
    "<br>В нашем распоряжении данные о поведении клиентов, которые уже перешли на эти тарифы (из проекта курса «Статистический анализ данных»). Нужно построить модель для задачи классификации, которая выберет подходящий тариф. Предобработка данных не понадобится — вы её уже сделали."
   ]
  },
  {
   "cell_type": "markdown",
   "id": "e6da4a2c",
   "metadata": {},
   "source": [
    "Проверку данных и все процедуры предобработки я все равно решила провести, чтобы структура проекта была полной.\n",
    "<br> После проверки данных, разделим их на 3 выборки: тренировочную, валидационную и тестовую. \n",
    "<br> Запустим 3 модели с вариациями гиперпараметров: решающее дерево, случайный лес и логическая регрессия. \n",
    "<br> Рассчитаем accuracy по валидационным и тестовым выборкам.\n",
    "<br> Проверим адекватность моделей с помощью DummyClassifier."
   ]
  },
  {
   "cell_type": "markdown",
   "id": "96addc45",
   "metadata": {},
   "source": [
    "## Обзор данных"
   ]
  },
  {
   "cell_type": "markdown",
   "id": "3a0c571a",
   "metadata": {},
   "source": [
    "Импортируем необходимые библиотеки."
   ]
  },
  {
   "cell_type": "code",
   "execution_count": 1,
   "id": "5b19d3d6",
   "metadata": {},
   "outputs": [],
   "source": [
    "import pandas as pd\n",
    "import numpy as np\n",
    "import seaborn as sns\n",
    "import matplotlib.pyplot as plt\n",
    "from sklearn.model_selection import train_test_split \n",
    "from sklearn.tree import DecisionTreeClassifier\n",
    "from sklearn.metrics import accuracy_score\n",
    "from sklearn.ensemble import RandomForestClassifier\n",
    "from sklearn.linear_model import LogisticRegression \n",
    "from sklearn.dummy import DummyClassifier\n",
    "from sklearn.model_selection import RandomizedSearchCV\n",
    "from sklearn.model_selection import GridSearchCV\n",
    "from sklearn.exceptions import FitFailedWarning\n",
    "import warnings\n",
    "warnings.simplefilter('always', FitFailedWarning)"
   ]
  },
  {
   "cell_type": "code",
   "execution_count": 2,
   "id": "3374b4e9",
   "metadata": {},
   "outputs": [],
   "source": [
    "df = pd.read_csv('/datasets/users_behavior.csv')"
   ]
  },
  {
   "cell_type": "code",
   "execution_count": 3,
   "id": "b5f3f9e8",
   "metadata": {
    "scrolled": true
   },
   "outputs": [
    {
     "name": "stdout",
     "output_type": "stream",
     "text": [
      "<class 'pandas.core.frame.DataFrame'>\n",
      "RangeIndex: 3214 entries, 0 to 3213\n",
      "Data columns (total 5 columns):\n",
      " #   Column    Non-Null Count  Dtype  \n",
      "---  ------    --------------  -----  \n",
      " 0   calls     3214 non-null   float64\n",
      " 1   minutes   3214 non-null   float64\n",
      " 2   messages  3214 non-null   float64\n",
      " 3   mb_used   3214 non-null   float64\n",
      " 4   is_ultra  3214 non-null   int64  \n",
      "dtypes: float64(4), int64(1)\n",
      "memory usage: 125.7 KB\n"
     ]
    },
    {
     "data": {
      "text/html": [
       "<div>\n",
       "<style scoped>\n",
       "    .dataframe tbody tr th:only-of-type {\n",
       "        vertical-align: middle;\n",
       "    }\n",
       "\n",
       "    .dataframe tbody tr th {\n",
       "        vertical-align: top;\n",
       "    }\n",
       "\n",
       "    .dataframe thead th {\n",
       "        text-align: right;\n",
       "    }\n",
       "</style>\n",
       "<table border=\"1\" class=\"dataframe\">\n",
       "  <thead>\n",
       "    <tr style=\"text-align: right;\">\n",
       "      <th></th>\n",
       "      <th>calls</th>\n",
       "      <th>minutes</th>\n",
       "      <th>messages</th>\n",
       "      <th>mb_used</th>\n",
       "      <th>is_ultra</th>\n",
       "    </tr>\n",
       "  </thead>\n",
       "  <tbody>\n",
       "    <tr>\n",
       "      <th>0</th>\n",
       "      <td>40.0</td>\n",
       "      <td>311.90</td>\n",
       "      <td>83.0</td>\n",
       "      <td>19915.42</td>\n",
       "      <td>0</td>\n",
       "    </tr>\n",
       "    <tr>\n",
       "      <th>1</th>\n",
       "      <td>85.0</td>\n",
       "      <td>516.75</td>\n",
       "      <td>56.0</td>\n",
       "      <td>22696.96</td>\n",
       "      <td>0</td>\n",
       "    </tr>\n",
       "    <tr>\n",
       "      <th>2</th>\n",
       "      <td>77.0</td>\n",
       "      <td>467.66</td>\n",
       "      <td>86.0</td>\n",
       "      <td>21060.45</td>\n",
       "      <td>0</td>\n",
       "    </tr>\n",
       "    <tr>\n",
       "      <th>3</th>\n",
       "      <td>106.0</td>\n",
       "      <td>745.53</td>\n",
       "      <td>81.0</td>\n",
       "      <td>8437.39</td>\n",
       "      <td>1</td>\n",
       "    </tr>\n",
       "    <tr>\n",
       "      <th>4</th>\n",
       "      <td>66.0</td>\n",
       "      <td>418.74</td>\n",
       "      <td>1.0</td>\n",
       "      <td>14502.75</td>\n",
       "      <td>0</td>\n",
       "    </tr>\n",
       "  </tbody>\n",
       "</table>\n",
       "</div>"
      ],
      "text/plain": [
       "   calls  minutes  messages   mb_used  is_ultra\n",
       "0   40.0   311.90      83.0  19915.42         0\n",
       "1   85.0   516.75      56.0  22696.96         0\n",
       "2   77.0   467.66      86.0  21060.45         0\n",
       "3  106.0   745.53      81.0   8437.39         1\n",
       "4   66.0   418.74       1.0  14502.75         0"
      ]
     },
     "execution_count": 3,
     "metadata": {},
     "output_type": "execute_result"
    }
   ],
   "source": [
    "df.info()\n",
    "df.head(5)"
   ]
  },
  {
   "cell_type": "markdown",
   "id": "06e742d0",
   "metadata": {},
   "source": [
    "В файле 5 столбцов. Содержатся сведения о кол-ве звонков - столбец calls, минутах разговора - столбец minutes, кол-ве сообщений - messages, объеме трафика mb_used bи колонка is_ultra. Вероятно, что 1 - пользователь тарифа Ultra, 0- пользователь тарифа Smart(это мы проверим).\n",
    "<br> Приступим к предобработке данных."
   ]
  },
  {
   "cell_type": "markdown",
   "id": "7fa992ea",
   "metadata": {},
   "source": [
    "## Предобработка данных"
   ]
  },
  {
   "cell_type": "markdown",
   "id": "6260200a",
   "metadata": {},
   "source": [
    "### Проверка названий столбцов"
   ]
  },
  {
   "cell_type": "markdown",
   "id": "4fefc015",
   "metadata": {},
   "source": [
    "Проверим как называются столбцы."
   ]
  },
  {
   "cell_type": "code",
   "execution_count": 4,
   "id": "dcfdc41e",
   "metadata": {},
   "outputs": [
    {
     "data": {
      "text/plain": [
       "Index(['calls', 'minutes', 'messages', 'mb_used', 'is_ultra'], dtype='object')"
      ]
     },
     "execution_count": 4,
     "metadata": {},
     "output_type": "execute_result"
    }
   ],
   "source": [
    "df.columns"
   ]
  },
  {
   "cell_type": "markdown",
   "id": "f367674f",
   "metadata": {},
   "source": [
    "Названия столбцов корректрые.Корректировка не требуется. "
   ]
  },
  {
   "cell_type": "markdown",
   "id": "f3ace34f",
   "metadata": {},
   "source": [
    "###  Проверка типов данных"
   ]
  },
  {
   "cell_type": "markdown",
   "id": "1a08bece",
   "metadata": {},
   "source": [
    "Посмотрим на типы данных."
   ]
  },
  {
   "cell_type": "code",
   "execution_count": 5,
   "id": "017625f2",
   "metadata": {
    "scrolled": true
   },
   "outputs": [
    {
     "name": "stdout",
     "output_type": "stream",
     "text": [
      "<class 'pandas.core.frame.DataFrame'>\n",
      "RangeIndex: 3214 entries, 0 to 3213\n",
      "Data columns (total 5 columns):\n",
      " #   Column    Non-Null Count  Dtype  \n",
      "---  ------    --------------  -----  \n",
      " 0   calls     3214 non-null   float64\n",
      " 1   minutes   3214 non-null   float64\n",
      " 2   messages  3214 non-null   float64\n",
      " 3   mb_used   3214 non-null   float64\n",
      " 4   is_ultra  3214 non-null   int64  \n",
      "dtypes: float64(4), int64(1)\n",
      "memory usage: 125.7 KB\n"
     ]
    },
    {
     "data": {
      "text/html": [
       "<div>\n",
       "<style scoped>\n",
       "    .dataframe tbody tr th:only-of-type {\n",
       "        vertical-align: middle;\n",
       "    }\n",
       "\n",
       "    .dataframe tbody tr th {\n",
       "        vertical-align: top;\n",
       "    }\n",
       "\n",
       "    .dataframe thead th {\n",
       "        text-align: right;\n",
       "    }\n",
       "</style>\n",
       "<table border=\"1\" class=\"dataframe\">\n",
       "  <thead>\n",
       "    <tr style=\"text-align: right;\">\n",
       "      <th></th>\n",
       "      <th>calls</th>\n",
       "      <th>minutes</th>\n",
       "      <th>messages</th>\n",
       "      <th>mb_used</th>\n",
       "      <th>is_ultra</th>\n",
       "    </tr>\n",
       "  </thead>\n",
       "  <tbody>\n",
       "    <tr>\n",
       "      <th>0</th>\n",
       "      <td>40.0</td>\n",
       "      <td>311.90</td>\n",
       "      <td>83.0</td>\n",
       "      <td>19915.42</td>\n",
       "      <td>0</td>\n",
       "    </tr>\n",
       "    <tr>\n",
       "      <th>1</th>\n",
       "      <td>85.0</td>\n",
       "      <td>516.75</td>\n",
       "      <td>56.0</td>\n",
       "      <td>22696.96</td>\n",
       "      <td>0</td>\n",
       "    </tr>\n",
       "    <tr>\n",
       "      <th>2</th>\n",
       "      <td>77.0</td>\n",
       "      <td>467.66</td>\n",
       "      <td>86.0</td>\n",
       "      <td>21060.45</td>\n",
       "      <td>0</td>\n",
       "    </tr>\n",
       "    <tr>\n",
       "      <th>3</th>\n",
       "      <td>106.0</td>\n",
       "      <td>745.53</td>\n",
       "      <td>81.0</td>\n",
       "      <td>8437.39</td>\n",
       "      <td>1</td>\n",
       "    </tr>\n",
       "    <tr>\n",
       "      <th>4</th>\n",
       "      <td>66.0</td>\n",
       "      <td>418.74</td>\n",
       "      <td>1.0</td>\n",
       "      <td>14502.75</td>\n",
       "      <td>0</td>\n",
       "    </tr>\n",
       "  </tbody>\n",
       "</table>\n",
       "</div>"
      ],
      "text/plain": [
       "   calls  minutes  messages   mb_used  is_ultra\n",
       "0   40.0   311.90      83.0  19915.42         0\n",
       "1   85.0   516.75      56.0  22696.96         0\n",
       "2   77.0   467.66      86.0  21060.45         0\n",
       "3  106.0   745.53      81.0   8437.39         1\n",
       "4   66.0   418.74       1.0  14502.75         0"
      ]
     },
     "execution_count": 5,
     "metadata": {},
     "output_type": "execute_result"
    }
   ],
   "source": [
    "df.info()\n",
    "df.head(5)"
   ]
  },
  {
   "cell_type": "markdown",
   "id": "fafcb25d",
   "metadata": {},
   "source": [
    "В выборке 5 столбцов. Во всех столбцах, кроме последнего, значения вещественные float. Типы данных верные.Посмотрим значения в столбце is_ultra."
   ]
  },
  {
   "cell_type": "code",
   "execution_count": 6,
   "id": "e04dfa03",
   "metadata": {},
   "outputs": [
    {
     "data": {
      "text/plain": [
       "0    2229\n",
       "1     985\n",
       "Name: is_ultra, dtype: int64"
      ]
     },
     "execution_count": 6,
     "metadata": {},
     "output_type": "execute_result"
    }
   ],
   "source": [
    "df['is_ultra'].value_counts()"
   ]
  },
  {
   "cell_type": "markdown",
   "id": "75d425f7",
   "metadata": {},
   "source": [
    "Значения is_ultra принимают значения 0 или 1. Т.е. 1 - пользователь тарифа ultra. 0 - пользователь тарифа smart."
   ]
  },
  {
   "cell_type": "markdown",
   "id": "23577f44",
   "metadata": {},
   "source": [
    "### Проверка на пропуски."
   ]
  },
  {
   "cell_type": "code",
   "execution_count": 7,
   "id": "a7b595f7",
   "metadata": {},
   "outputs": [
    {
     "data": {
      "text/plain": [
       "calls       0\n",
       "minutes     0\n",
       "messages    0\n",
       "mb_used     0\n",
       "is_ultra    0\n",
       "dtype: int64"
      ]
     },
     "execution_count": 7,
     "metadata": {},
     "output_type": "execute_result"
    }
   ],
   "source": [
    "df.isna().sum()"
   ]
  },
  {
   "cell_type": "markdown",
   "id": "07f97d8c",
   "metadata": {},
   "source": [
    "Отлично. Пропусков в данных нет."
   ]
  },
  {
   "cell_type": "markdown",
   "id": "4b3e1ed2",
   "metadata": {},
   "source": [
    "### Проверка дубликатов."
   ]
  },
  {
   "cell_type": "code",
   "execution_count": 8,
   "id": "8783270a",
   "metadata": {},
   "outputs": [
    {
     "data": {
      "text/plain": [
       "0"
      ]
     },
     "execution_count": 8,
     "metadata": {},
     "output_type": "execute_result"
    }
   ],
   "source": [
    "df.duplicated().sum()"
   ]
  },
  {
   "cell_type": "markdown",
   "id": "c9d58d83",
   "metadata": {},
   "source": [
    "Отлично. Дубликатов в данных нет."
   ]
  },
  {
   "cell_type": "markdown",
   "id": "b8a1bf76",
   "metadata": {},
   "source": [
    "### Аномалии в данных."
   ]
  },
  {
   "cell_type": "markdown",
   "id": "7655a690",
   "metadata": {},
   "source": [
    "Для начала, посмотрим на данные методом describe()."
   ]
  },
  {
   "cell_type": "code",
   "execution_count": 9,
   "id": "76b39960",
   "metadata": {},
   "outputs": [
    {
     "data": {
      "text/html": [
       "<div>\n",
       "<style scoped>\n",
       "    .dataframe tbody tr th:only-of-type {\n",
       "        vertical-align: middle;\n",
       "    }\n",
       "\n",
       "    .dataframe tbody tr th {\n",
       "        vertical-align: top;\n",
       "    }\n",
       "\n",
       "    .dataframe thead th {\n",
       "        text-align: right;\n",
       "    }\n",
       "</style>\n",
       "<table border=\"1\" class=\"dataframe\">\n",
       "  <thead>\n",
       "    <tr style=\"text-align: right;\">\n",
       "      <th></th>\n",
       "      <th>calls</th>\n",
       "      <th>minutes</th>\n",
       "      <th>messages</th>\n",
       "      <th>mb_used</th>\n",
       "      <th>is_ultra</th>\n",
       "    </tr>\n",
       "  </thead>\n",
       "  <tbody>\n",
       "    <tr>\n",
       "      <th>count</th>\n",
       "      <td>3214.000000</td>\n",
       "      <td>3214.000000</td>\n",
       "      <td>3214.000000</td>\n",
       "      <td>3214.000000</td>\n",
       "      <td>3214.000000</td>\n",
       "    </tr>\n",
       "    <tr>\n",
       "      <th>mean</th>\n",
       "      <td>63.038892</td>\n",
       "      <td>438.208787</td>\n",
       "      <td>38.281269</td>\n",
       "      <td>17207.673836</td>\n",
       "      <td>0.306472</td>\n",
       "    </tr>\n",
       "    <tr>\n",
       "      <th>std</th>\n",
       "      <td>33.236368</td>\n",
       "      <td>234.569872</td>\n",
       "      <td>36.148326</td>\n",
       "      <td>7570.968246</td>\n",
       "      <td>0.461100</td>\n",
       "    </tr>\n",
       "    <tr>\n",
       "      <th>min</th>\n",
       "      <td>0.000000</td>\n",
       "      <td>0.000000</td>\n",
       "      <td>0.000000</td>\n",
       "      <td>0.000000</td>\n",
       "      <td>0.000000</td>\n",
       "    </tr>\n",
       "    <tr>\n",
       "      <th>25%</th>\n",
       "      <td>40.000000</td>\n",
       "      <td>274.575000</td>\n",
       "      <td>9.000000</td>\n",
       "      <td>12491.902500</td>\n",
       "      <td>0.000000</td>\n",
       "    </tr>\n",
       "    <tr>\n",
       "      <th>50%</th>\n",
       "      <td>62.000000</td>\n",
       "      <td>430.600000</td>\n",
       "      <td>30.000000</td>\n",
       "      <td>16943.235000</td>\n",
       "      <td>0.000000</td>\n",
       "    </tr>\n",
       "    <tr>\n",
       "      <th>75%</th>\n",
       "      <td>82.000000</td>\n",
       "      <td>571.927500</td>\n",
       "      <td>57.000000</td>\n",
       "      <td>21424.700000</td>\n",
       "      <td>1.000000</td>\n",
       "    </tr>\n",
       "    <tr>\n",
       "      <th>max</th>\n",
       "      <td>244.000000</td>\n",
       "      <td>1632.060000</td>\n",
       "      <td>224.000000</td>\n",
       "      <td>49745.730000</td>\n",
       "      <td>1.000000</td>\n",
       "    </tr>\n",
       "  </tbody>\n",
       "</table>\n",
       "</div>"
      ],
      "text/plain": [
       "             calls      minutes     messages       mb_used     is_ultra\n",
       "count  3214.000000  3214.000000  3214.000000   3214.000000  3214.000000\n",
       "mean     63.038892   438.208787    38.281269  17207.673836     0.306472\n",
       "std      33.236368   234.569872    36.148326   7570.968246     0.461100\n",
       "min       0.000000     0.000000     0.000000      0.000000     0.000000\n",
       "25%      40.000000   274.575000     9.000000  12491.902500     0.000000\n",
       "50%      62.000000   430.600000    30.000000  16943.235000     0.000000\n",
       "75%      82.000000   571.927500    57.000000  21424.700000     1.000000\n",
       "max     244.000000  1632.060000   224.000000  49745.730000     1.000000"
      ]
     },
     "execution_count": 9,
     "metadata": {},
     "output_type": "execute_result"
    }
   ],
   "source": [
    "df.describe()"
   ]
  },
  {
   "cell_type": "markdown",
   "id": "4ff426d4",
   "metadata": {},
   "source": [
    "В данных нет отрицательных значений, т.к. мин значения - 0. Уже хорошо.\n",
    "<br> Посмотрим на данные более детально. Построим гистограммы значений."
   ]
  },
  {
   "cell_type": "code",
   "execution_count": 10,
   "id": "70ab1a38",
   "metadata": {},
   "outputs": [
    {
     "name": "stdout",
     "output_type": "stream",
     "text": [
      "calls\n"
     ]
    },
    {
     "data": {
      "image/png": "[encoded data removed]",
      "text/plain": [
       "<Figure size 864x576 with 1 Axes>"
      ]
     },
     "metadata": {
      "needs_background": "light"
     },
     "output_type": "display_data"
    },
    {
     "name": "stdout",
     "output_type": "stream",
     "text": [
      "minutes\n"
     ]
    },
    {
     "data": {
      "image/png": "[encoded data removed]",
      "text/plain": [
       "<Figure size 864x576 with 1 Axes>"
      ]
     },
     "metadata": {
      "needs_background": "light"
     },
     "output_type": "display_data"
    },
    {
     "name": "stdout",
     "output_type": "stream",
     "text": [
      "messages\n"
     ]
    },
    {
     "data": {
      "image/png": "[encoded data removed]",
      "text/plain": [
       "<Figure size 864x576 with 1 Axes>"
      ]
     },
     "metadata": {
      "needs_background": "light"
     },
     "output_type": "display_data"
    },
    {
     "name": "stdout",
     "output_type": "stream",
     "text": [
      "mb_used\n"
     ]
    },
    {
     "data": {
      "image/png": "[encoded data removed]",
      "text/plain": [
       "<Figure size 864x576 with 1 Axes>"
      ]
     },
     "metadata": {
      "needs_background": "light"
     },
     "output_type": "display_data"
    },
    {
     "name": "stdout",
     "output_type": "stream",
     "text": [
      "is_ultra\n"
     ]
    },
    {
     "data": {
      "image/png": "[encoded data removed]",
      "text/plain": [
       "<Figure size 864x576 with 1 Axes>"
      ]
     },
     "metadata": {
      "needs_background": "light"
     },
     "output_type": "display_data"
    }
   ],
   "source": [
    "columns =['calls', 'minutes', 'messages', 'mb_used', 'is_ultra']\n",
    "for column in columns:\n",
    "    print(column)\n",
    "    plt.figure(figsize=(12,8))\n",
    "    sns.set_palette('BuGn_r')\n",
    "    sns.lineplot(data=df[column])   \n",
    "    plt.grid()\n",
    "    plt.show()"
   ]
  },
  {
   "cell_type": "markdown",
   "id": "54a59d56",
   "metadata": {},
   "source": [
    "Пробелы видим только по is_ultra.Но там все логично. 0 и 1. По остальным столбца, кажется, что все в порядке."
   ]
  },
  {
   "cell_type": "markdown",
   "id": "b82287d3",
   "metadata": {},
   "source": [
    "Приступим к следующему шагу."
   ]
  },
  {
   "cell_type": "markdown",
   "id": "bc4bc2ac",
   "metadata": {},
   "source": [
    "    \n",
    "<div class=\"alert alert-block alert-success\">\n",
    "<b>Комментарий ревьюера👍:</b> Хорошо, можем двигаться дальше, молодец, что провела подробный EDA\n",
    "</div>"
   ]
  },
  {
   "cell_type": "markdown",
   "id": "1ddce669",
   "metadata": {},
   "source": [
    "## Разделение данных на обучающую, валидационную и тестовую выборки."
   ]
  },
  {
   "cell_type": "markdown",
   "id": "f7e6a40d",
   "metadata": {},
   "source": [
    "Разделим выборки в след соотношение от общих данных: \n",
    "<br>60% пойдет в обучающую выборку. И по 20% от всех данных в валидационную и тестовую."
   ]
  },
  {
   "cell_type": "markdown",
   "id": "f35f0531",
   "metadata": {},
   "source": [
    "Проведем разделение в 2 этапа. Разделим данные на обучающие и те, что пойдут на тестовую и обучающие выборки. Следующим этапом разделим тестовые и обучаюшие."
   ]
  },
  {
   "cell_type": "code",
   "execution_count": 11,
   "id": "b35ebcc7",
   "metadata": {},
   "outputs": [],
   "source": [
    "df_train, df_v_t = train_test_split(df, test_size=0.4, random_state=12345) "
   ]
  },
  {
   "cell_type": "code",
   "execution_count": 12,
   "id": "7defcac8",
   "metadata": {},
   "outputs": [],
   "source": [
    "df_valid, df_test = train_test_split(df_v_t, test_size=0.5, random_state=12345) "
   ]
  },
  {
   "cell_type": "markdown",
   "id": "a0a2fa55",
   "metadata": {},
   "source": [
    "Проверим, что у нас получилось."
   ]
  },
  {
   "cell_type": "code",
   "execution_count": 13,
   "id": "ec1a3c9a",
   "metadata": {},
   "outputs": [
    {
     "name": "stdout",
     "output_type": "stream",
     "text": [
      "0.5998755444928439 0.2000622277535781 0.2000622277535781\n"
     ]
    }
   ],
   "source": [
    "print(len(df_train)/len(df),len(df_valid)/len(df),len(df_test)/len(df))"
   ]
  },
  {
   "cell_type": "markdown",
   "id": "9e9f1380",
   "metadata": {},
   "source": [
    "    \n",
    "<div class=\"alert alert-block alert-success\">\n",
    "<b>Комментарий ревьюера👍:</b> Разделение на выборки произведено корректно в пропорции 3:1:1\n",
    "</div>"
   ]
  },
  {
   "cell_type": "markdown",
   "id": "6a8cd5ad",
   "metadata": {},
   "source": [
    "Целевой параметр это is_ultra. Задача Классификации, так как целевой параметр категориальный. 0 - тариф Smart. 1 -тариф Ultra. Необходимо построить модель  с максимально большим значением accuracy. Доля правильных ответов должна быть по крайней мере до 0.75. \n",
    "<br> Будем проверять так:\n",
    "<br> 1.Модель решающего дерева\n",
    "<br> 2.Модель случайного леса\n",
    "<br> 3.Модель логической регрессии"
   ]
  },
  {
   "cell_type": "markdown",
   "id": "f2889a52",
   "metadata": {},
   "source": [
    "Зададим переменные для признаков и целевого признака тестовой и валидационной выборок."
   ]
  },
  {
   "cell_type": "code",
   "execution_count": 14,
   "id": "7cb6df5e",
   "metadata": {},
   "outputs": [],
   "source": [
    "features_train = df_train.drop(['is_ultra'], axis=1)\n",
    "target_train = df_train['is_ultra']\n",
    "features_valid = df_valid.drop(['is_ultra'], axis=1)\n",
    "target_valid = df_valid['is_ultra']\n",
    "features_test = df_test.drop(['is_ultra'], axis=1)\n",
    "target_test = df_test['is_ultra']"
   ]
  },
  {
   "cell_type": "markdown",
   "id": "f91821f9",
   "metadata": {},
   "source": [
    "## Модель решающего дерева "
   ]
  },
  {
   "cell_type": "markdown",
   "id": "ce19adb7",
   "metadata": {},
   "source": [
    "Проверим модель DecisionTreeClassifier. Обучим ее методом fit(). Сформируем предсказание методом predict(). И проверим accuracy модели с помощью accuracy_score.\n",
    "<br>Для проверки гиперпараметров запустим цикл по max_depth. \n",
    "<br>В лучшую медель загрузим данные тестовой выборки и рассчитаем Accuracy для тестовой выборки."
   ]
  },
  {
   "cell_type": "code",
   "execution_count": 15,
   "id": "aa481d17",
   "metadata": {},
   "outputs": [
    {
     "name": "stdout",
     "output_type": "stream",
     "text": [
      "Accuracy наилучшей модели DecisionTreeClassifier на валидационной выборке: 0.7853810264385692\n",
      "Лучшая модель: DecisionTreeClassifier(max_depth=3, random_state=12345)\n"
     ]
    }
   ],
   "source": [
    "best_model = None\n",
    "best_result = 0\n",
    "for depth in range(1, 10):\n",
    "    model = DecisionTreeClassifier(random_state=12345, max_depth=depth)\n",
    "    model.fit(features_train,target_train) \n",
    "    predictions = model.predict(features_valid) \n",
    "    result = accuracy_score(target_valid, predictions) \n",
    "    if result > best_result:\n",
    "        best_model = model\n",
    "        best_result = result\n",
    "        \n",
    "print(\"Accuracy наилучшей модели DecisionTreeClassifier на валидационной выборке:\", best_result)\n",
    "print(\"Лучшая модель:\", best_model)"
   ]
  },
  {
   "cell_type": "markdown",
   "id": "2bf6e96a",
   "metadata": {},
   "source": [
    "**Вывод по результатам на валидационной выборке** В ходе цикла по глубинам, мы получили максимум по точности при глубине = 3. Далее, видимо, модель уже переобучается. "
   ]
  },
  {
   "cell_type": "markdown",
   "id": "d167ff96",
   "metadata": {},
   "source": [
    "Посмотрим на результат DecisionTreeClassifier по тестовой выборке. "
   ]
  },
  {
   "cell_type": "code",
   "execution_count": 16,
   "id": "8c1fc743",
   "metadata": {},
   "outputs": [
    {
     "name": "stdout",
     "output_type": "stream",
     "text": [
      "Accuracy наилучшей модели DecisionTreeClassifier на тестовой выборке: 0.7791601866251944\n"
     ]
    }
   ],
   "source": [
    "result_test_tree = best_model.score(features_test,target_test)\n",
    "print(\"Accuracy наилучшей модели DecisionTreeClassifier на тестовой выборке:\", result_test_tree) "
   ]
  },
  {
   "cell_type": "markdown",
   "id": "ac2b3d23",
   "metadata": {},
   "source": [
    "**Вывод по результатам на тестовой выборке** Разница между результати, конечно, есть но она не большая. Значит все в порядке."
   ]
  },
  {
   "cell_type": "markdown",
   "id": "7e799e79",
   "metadata": {},
   "source": [
    "## Модель случайного леса"
   ]
  },
  {
   "cell_type": "markdown",
   "id": "d4f24559",
   "metadata": {},
   "source": [
    "Проверим модель RandomForestClassifier. Обучим ее методом fit(). И проверим accuracy модели с помощью score(predict она запустит сама).\n",
    "<br>Для проверки гиперпараметров запустим цикл по n_estimators.\n",
    "<br>В лучшую медель загрузим данные тестовой выборки и рассчитаем Accuracy для тестовой выборки."
   ]
  },
  {
   "cell_type": "code",
   "execution_count": 17,
   "id": "92bf5113",
   "metadata": {
    "scrolled": true
   },
   "outputs": [
    {
     "name": "stdout",
     "output_type": "stream",
     "text": [
      "Accuracy наилучшей модели RandomForestClassifier на валидационной выборке: 0.7822706065318819\n",
      "Лучшая модель: RandomForestClassifier(n_estimators=8, random_state=12345)\n"
     ]
    }
   ],
   "source": [
    "best_model = None\n",
    "best_result = 0\n",
    "for est in range(1, 10):\n",
    "    model = RandomForestClassifier(random_state=12345, n_estimators=est)\n",
    "    model.fit(features_train,target_train) \n",
    "    result = model.score(features_valid,target_valid)\n",
    "    if result > best_result:\n",
    "        best_model = model\n",
    "        best_result = result\n",
    "print(\"Accuracy наилучшей модели RandomForestClassifier на валидационной выборке:\", best_result) \n",
    "print(\"Лучшая модель:\", best_model)"
   ]
  },
  {
   "cell_type": "markdown",
   "id": "5c2f8fc6",
   "metadata": {},
   "source": [
    "Посмотрим на результат RandomForestClassifier по тестовой выборке. "
   ]
  },
  {
   "cell_type": "code",
   "execution_count": 18,
   "id": "618ebe3f",
   "metadata": {},
   "outputs": [
    {
     "name": "stdout",
     "output_type": "stream",
     "text": [
      "Accuracy наилучшей модели RandomForestClassifier на тестовой выборке: 0.7869362363919129\n"
     ]
    }
   ],
   "source": [
    "result_test_forest = best_model.score(features_test,target_test)\n",
    "print(\"Accuracy наилучшей модели RandomForestClassifier на тестовой выборке:\", result_test_forest) "
   ]
  },
  {
   "cell_type": "markdown",
   "id": "419edf47",
   "metadata": {},
   "source": [
    "### Модель случайного леса RandomizedSearchCV"
   ]
  },
  {
   "cell_type": "markdown",
   "id": "85e890b6",
   "metadata": {},
   "source": [
    "Для вариаций гиперпараметров попробуем использовать RandomizedSearchCV."
   ]
  },
  {
   "cell_type": "code",
   "execution_count": 19,
   "id": "dacb9289",
   "metadata": {},
   "outputs": [],
   "source": [
    "model_params = { 'n_estimators': range (10, 51, 10),\n",
    "              'max_depth': range (1, 13, 2),\n",
    "              'min_samples_leaf': range (1,8),\n",
    "              'min_samples_split': range (2,10,2) }\n",
    "clf = RandomForestClassifier()"
   ]
  },
  {
   "cell_type": "code",
   "execution_count": 20,
   "id": "41ab485f",
   "metadata": {},
   "outputs": [
    {
     "data": {
      "text/plain": [
       "{'n_estimators': 40,\n",
       " 'min_samples_split': 8,\n",
       " 'min_samples_leaf': 2,\n",
       " 'max_depth': 9}"
      ]
     },
     "execution_count": 20,
     "metadata": {},
     "output_type": "execute_result"
    }
   ],
   "source": [
    "rand = RandomizedSearchCV(clf, model_params, cv=5)\n",
    "rand.fit(features_train,target_train)\n",
    "rand.best_params_"
   ]
  },
  {
   "cell_type": "code",
   "execution_count": 21,
   "id": "4b9bc92e",
   "metadata": {},
   "outputs": [
    {
     "name": "stdout",
     "output_type": "stream",
     "text": [
      "Accuracy наилучшей модели RandomForestClassifier c помощью RandomizedSearchCV на тренировочной выборке: 0.8630705394190872\n",
      "Accuracy наилучшей модели RandomForestClassifier c помощью RandomizedSearchCV на валидационной выборке: 0.7916018662519441\n",
      "Accuracy наилучшей модели RandomForestClassifier c помощью RandomizedSearchCV на тестовой выборке: 0.80248833592535\n"
     ]
    }
   ],
   "source": [
    "result_rand_test = rand.score(features_train,target_train)\n",
    "print(\"Accuracy наилучшей модели RandomForestClassifier c помощью RandomizedSearchCV на тренировочной выборке:\", result_rand_test) \n",
    "result_rand_valid = rand.score(features_valid,target_valid)\n",
    "print(\"Accuracy наилучшей модели RandomForestClassifier c помощью RandomizedSearchCV на валидационной выборке:\", result_rand_valid) \n",
    "result_rand_test = rand.score(features_test,target_test)\n",
    "print(\"Accuracy наилучшей модели RandomForestClassifier c помощью RandomizedSearchCV на тестовой выборке:\", result_rand_test) "
   ]
  },
  {
   "cell_type": "markdown",
   "id": "b4bcaf4b",
   "metadata": {},
   "source": [
    "### Модель случайного леса GridSearchCV"
   ]
  },
  {
   "cell_type": "markdown",
   "id": "fe3d91d7",
   "metadata": {},
   "source": [
    "Для вариаций гиперпараметров попробуем использовать GridSearchCV."
   ]
  },
  {
   "cell_type": "code",
   "execution_count": 22,
   "id": "68d2e15d",
   "metadata": {},
   "outputs": [],
   "source": [
    "model_params = { 'n_estimators': range (10, 51, 10),\n",
    "              'max_depth': range (1, 13, 2),\n",
    "              'min_samples_leaf': range (1,8),\n",
    "              'min_samples_split': range (2,10,2) }\n",
    "clf = RandomForestClassifier()\n",
    "grid = GridSearchCV(clf, model_params, cv=5)"
   ]
  },
  {
   "cell_type": "code",
   "execution_count": 23,
   "id": "0be3500a",
   "metadata": {},
   "outputs": [
    {
     "data": {
      "text/plain": [
       "GridSearchCV(cv=5, estimator=RandomForestClassifier(),\n",
       "             param_grid={'max_depth': range(1, 13, 2),\n",
       "                         'min_samples_leaf': range(1, 8),\n",
       "                         'min_samples_split': range(2, 10, 2),\n",
       "                         'n_estimators': range(10, 51, 10)})"
      ]
     },
     "execution_count": 23,
     "metadata": {},
     "output_type": "execute_result"
    }
   ],
   "source": [
    "grid.fit(features_train,target_train)"
   ]
  },
  {
   "cell_type": "code",
   "execution_count": 24,
   "id": "8b2b0d69",
   "metadata": {},
   "outputs": [
    {
     "data": {
      "text/plain": [
       "{'max_depth': 9,\n",
       " 'min_samples_leaf': 4,\n",
       " 'min_samples_split': 8,\n",
       " 'n_estimators': 20}"
      ]
     },
     "execution_count": 24,
     "metadata": {},
     "output_type": "execute_result"
    }
   ],
   "source": [
    "grid.best_params_"
   ]
  },
  {
   "cell_type": "code",
   "execution_count": 25,
   "id": "10512c25",
   "metadata": {},
   "outputs": [
    {
     "name": "stdout",
     "output_type": "stream",
     "text": [
      "Accuracy наилучшей модели RandomForestClassifier c помощью GridSearchCV на тренировочной выборке: 0.8558091286307054\n",
      "Accuracy наилучшей модели RandomForestClassifier c помощью GridSearchCV на валидационной выборке: 0.8009331259720062\n",
      "Accuracy наилучшей модели RandomForestClassifier c помощью GridSearchCV на тестовой выборке: 0.8009331259720062\n"
     ]
    }
   ],
   "source": [
    "result_grid_test = grid.score(features_train,target_train)\n",
    "print(\"Accuracy наилучшей модели RandomForestClassifier c помощью GridSearchCV на тренировочной выборке:\", result_grid_test) \n",
    "result_grid_valid = grid.score(features_valid,target_valid)\n",
    "print(\"Accuracy наилучшей модели RandomForestClassifier c помощью GridSearchCV на валидационной выборке:\", result_grid_valid) \n",
    "result_grid_test = grid.score(features_test,target_test)\n",
    "print(\"Accuracy наилучшей модели RandomForestClassifier c помощью GridSearchCV на тестовой выборке:\", result_grid_test) "
   ]
  },
  {
   "cell_type": "markdown",
   "id": "c56c6418",
   "metadata": {},
   "source": [
    "**Вывод по результатам на валидационной выборке** В ходе цикла по эстиматорам, мы получили максимум по точности при глубине = 8. Далее, видимо, модель уже переобучается."
   ]
  },
  {
   "cell_type": "markdown",
   "id": "33bdb9f7",
   "metadata": {},
   "source": [
    "**Вывод по результатам на тестовой выборке** Разница между результати, конечно, есть но она не большая. Значит все в порядке."
   ]
  },
  {
   "cell_type": "markdown",
   "id": "0ef9ff0d",
   "metadata": {},
   "source": [
    "## Модель логической регрессии"
   ]
  },
  {
   "cell_type": "markdown",
   "id": "49c7819e",
   "metadata": {},
   "source": [
    "Проверим модель LogisticRegression. Обучим ее методом fit(). И проверим accuracy модели с помощью score(predict она запустит сама).\n",
    "<br>Для проверки гиперпараметров запустим цикл по max_iter.\n",
    "<br>Также сделаем цикл по solver. В доке указаны следующие значения ‘newton-cg’, ‘lbfgs’, ‘liblinear’, ‘sag’, ‘saga’. Только по 2м: 'lbfgs' и 'liblinear' удалось запустить рабочую модель. Их и включим в цикл.\n",
    "<br>В лучшую медель загрузим данные тестовой выборки и рассчитаем Accuracy для тестовой выборки."
   ]
  },
  {
   "cell_type": "code",
   "execution_count": 26,
   "id": "52679e5c",
   "metadata": {
    "scrolled": true
   },
   "outputs": [
    {
     "name": "stdout",
     "output_type": "stream",
     "text": [
      "Accuracy наилучшей модели LogisticRegression на валидационной выборке: 0.7107309486780715\n",
      "Лучшая модель: LogisticRegression(random_state=12345),solver= lbfgs,max_iter=100\n"
     ]
    }
   ],
   "source": [
    "best_model = None\n",
    "best_result = 0\n",
    "\n",
    "solvers = ['lbfgs','liblinear']\n",
    "for iters in range(100, 1000):\n",
    "        for solv in solvers:\n",
    "            model = LogisticRegression(random_state=12345, solver=solv, max_iter=iters) \n",
    "            model.fit(features_train,target_train) \n",
    "            result = model.score(features_valid,target_valid)\n",
    "            if result > best_result:\n",
    "                best_model = model\n",
    "                best_result = result\n",
    "                solv_best=solv\n",
    "                iter_best=iters\n",
    "print(\"Accuracy наилучшей модели LogisticRegression на валидационной выборке:\", best_result) \n",
    "print(f\"Лучшая модель: {best_model},solver= {solv_best},max_iter={iter_best}\")"
   ]
  },
  {
   "cell_type": "markdown",
   "id": "68bbf682",
   "metadata": {},
   "source": [
    "**Вывод по результатам на валидационной выборке** В ходе цикла по solvers, мы получили максимум по точности при глубине liblinear. "
   ]
  },
  {
   "cell_type": "markdown",
   "id": "c60d413b",
   "metadata": {},
   "source": [
    "Посмотрим на результат LogisticRegression по тестовой выборке. "
   ]
  },
  {
   "cell_type": "code",
   "execution_count": 27,
   "id": "94736c04",
   "metadata": {},
   "outputs": [
    {
     "name": "stdout",
     "output_type": "stream",
     "text": [
      "Accuracy наилучшей модели LogisticRegression на тестовой выборке: 0.6842923794712286\n"
     ]
    }
   ],
   "source": [
    "result_test_regress = best_model.score(features_test,target_test)\n",
    "print(\"Accuracy наилучшей модели LogisticRegression на тестовой выборке:\", result_test_regress) "
   ]
  },
  {
   "cell_type": "markdown",
   "id": "4a3e3e86",
   "metadata": {},
   "source": [
    "**Вывод по результатам на тестовой выборке** Разница между результати, конечно, есть но она не большая. Значит все в порядке."
   ]
  },
  {
   "cell_type": "markdown",
   "id": "098f3af7",
   "metadata": {},
   "source": [
    "Выведем результаты по всем моделям."
   ]
  },
  {
   "cell_type": "code",
   "execution_count": 28,
   "id": "c539ed07",
   "metadata": {},
   "outputs": [
    {
     "name": "stdout",
     "output_type": "stream",
     "text": [
      "Accuracy наилучшей модели DecisionTreeClassifier на тестовой выборке: 0.7791601866251944\n",
      "Accuracy наилучшей модели RandomForestClassifier на тестовой выборке: 0.7869362363919129\n",
      "Accuracy наилучшей модели LogisticRegression на тестовой выборке: 0.6842923794712286\n"
     ]
    }
   ],
   "source": [
    "print('Accuracy наилучшей модели DecisionTreeClassifier на тестовой выборке:',result_test_tree)\n",
    "print('Accuracy наилучшей модели RandomForestClassifier на тестовой выборке:',result_test_forest)\n",
    "print('Accuracy наилучшей модели LogisticRegression на тестовой выборке:',result_test_regress)"
   ]
  },
  {
   "cell_type": "markdown",
   "id": "6b5489d6",
   "metadata": {},
   "source": [
    "**Общий вывод**\n",
    "<br>Получается, что наибольшая точность модели у нас по модели случайного леса RandomForestClassifier.\n",
    "<br>В ходе цикла подобрано максимальное значение эстиматора(кол-ва деревьев):n_estimators=8.\n",
    "<br>Не так далено по точности модель решающего дерева DecisionTreeClassifier. \n",
    "<br>В ходе цикла подобрано максимальное значение глубины :Значения глубины max_depth=3. \n",
    "<br> А вот с моделью логической регрессии LogisticRegression не все так хорошо. \n",
    "<br>Она явно не дотягивает до необходимого значения accurace 0.75. \n",
    "<br>Даже с учетом того, что тут была возможность подобрать 2 гиперпараметра:solvers и max_iter. "
   ]
  },
  {
   "cell_type": "markdown",
   "id": "2461e859",
   "metadata": {},
   "source": [
    "## Проверка модели на адекватность"
   ]
  },
  {
   "cell_type": "markdown",
   "id": "87b08200",
   "metadata": {},
   "source": [
    "Адекватность модели проверим с помощью DummyClassifier. Посмотрим, какие значения он нам выдаст."
   ]
  },
  {
   "cell_type": "code",
   "execution_count": 29,
   "id": "d914a259",
   "metadata": {},
   "outputs": [
    {
     "name": "stdout",
     "output_type": "stream",
     "text": [
      "Unique predicted labels:  [0]\n",
      "Test score:  0.6842923794712286\n"
     ]
    }
   ],
   "source": [
    "dummy = DummyClassifier(strategy='most_frequent').fit(features_train, target_train)\n",
    "dummy_pred = dummy.predict(features_test)\n",
    "print('Unique predicted labels: ', (np.unique(dummy_pred)))\n",
    "print('Test score: ', accuracy_score(target_test, dummy_pred))"
   ]
  },
  {
   "cell_type": "markdown",
   "id": "b3b39cf7",
   "metadata": {},
   "source": [
    "Полученное значение точности прогноза значительно ниже на DummyClassifier,чем полученное нами на моделях РД, СЛ и  ЛР. Значит, наша работа проделана не даром. "
   ]
  }
 ],
 "metadata": {
  "ExecuteTimeLog": [
   {
    "duration": 392,
    "start_time": "2022-05-08T04:52:03.003Z"
   },
   {
    "duration": 127,
    "start_time": "2022-05-08T04:52:32.279Z"
   },
   {
    "duration": 388,
    "start_time": "2022-05-08T04:52:45.604Z"
   },
   {
    "duration": 133,
    "start_time": "2022-05-08T04:52:45.994Z"
   },
   {
    "duration": 66,
    "start_time": "2022-05-08T04:53:18.032Z"
   },
   {
    "duration": 76,
    "start_time": "2022-05-08T04:53:43.524Z"
   },
   {
    "duration": 398,
    "start_time": "2022-05-08T04:53:49.515Z"
   },
   {
    "duration": 123,
    "start_time": "2022-05-08T04:53:49.915Z"
   },
   {
    "duration": 68,
    "start_time": "2022-05-08T04:53:53.742Z"
   },
   {
    "duration": 18,
    "start_time": "2022-05-08T04:53:57.851Z"
   },
   {
    "duration": 19,
    "start_time": "2022-05-08T04:54:42.903Z"
   },
   {
    "duration": 5,
    "start_time": "2022-05-08T04:58:58.577Z"
   },
   {
    "duration": 7,
    "start_time": "2022-05-08T05:07:50.082Z"
   },
   {
    "duration": 4,
    "start_time": "2022-05-08T05:07:53.954Z"
   },
   {
    "duration": 17,
    "start_time": "2022-05-08T05:08:32.871Z"
   },
   {
    "duration": 5,
    "start_time": "2022-05-08T05:08:54.671Z"
   },
   {
    "duration": 17,
    "start_time": "2022-05-08T05:09:57.726Z"
   },
   {
    "duration": 5,
    "start_time": "2022-05-08T05:10:33.910Z"
   },
   {
    "duration": 6,
    "start_time": "2022-05-08T05:14:31.860Z"
   },
   {
    "duration": 7,
    "start_time": "2022-05-08T05:15:29.756Z"
   },
   {
    "duration": 131,
    "start_time": "2022-05-08T05:17:19.079Z"
   },
   {
    "duration": 23,
    "start_time": "2022-05-08T05:17:48.764Z"
   },
   {
    "duration": 9,
    "start_time": "2022-05-08T05:21:06.015Z"
   },
   {
    "duration": 8,
    "start_time": "2022-05-08T05:21:37.311Z"
   },
   {
    "duration": 9,
    "start_time": "2022-05-08T05:22:17.831Z"
   },
   {
    "duration": 1312,
    "start_time": "2022-05-08T05:22:30.759Z"
   },
   {
    "duration": 62,
    "start_time": "2022-05-08T05:22:32.073Z"
   },
   {
    "duration": 20,
    "start_time": "2022-05-08T05:22:32.137Z"
   },
   {
    "duration": 4,
    "start_time": "2022-05-08T05:22:32.160Z"
   },
   {
    "duration": 20,
    "start_time": "2022-05-08T05:22:32.166Z"
   },
   {
    "duration": 5,
    "start_time": "2022-05-08T05:22:32.188Z"
   },
   {
    "duration": 10,
    "start_time": "2022-05-08T05:22:32.195Z"
   },
   {
    "duration": 9,
    "start_time": "2022-05-08T05:22:32.206Z"
   },
   {
    "duration": 24,
    "start_time": "2022-05-08T05:22:32.216Z"
   },
   {
    "duration": 1681,
    "start_time": "2022-05-08T05:22:32.242Z"
   },
   {
    "duration": 107,
    "start_time": "2022-05-08T05:28:53.085Z"
   },
   {
    "duration": 113,
    "start_time": "2022-05-08T05:28:57.046Z"
   },
   {
    "duration": 1504,
    "start_time": "2022-05-08T05:29:12.601Z"
   },
   {
    "duration": 349,
    "start_time": "2022-05-08T05:30:22.065Z"
   },
   {
    "duration": 269,
    "start_time": "2022-05-08T05:30:56.592Z"
   },
   {
    "duration": 260,
    "start_time": "2022-05-08T05:31:45.832Z"
   },
   {
    "duration": 1444,
    "start_time": "2022-05-08T05:32:23.760Z"
   },
   {
    "duration": 1602,
    "start_time": "2022-05-08T05:32:40.056Z"
   },
   {
    "duration": 12,
    "start_time": "2022-05-08T05:33:21.679Z"
   },
   {
    "duration": 1395,
    "start_time": "2022-05-08T05:33:51.032Z"
   },
   {
    "duration": 17,
    "start_time": "2022-05-08T05:34:20.259Z"
   },
   {
    "duration": 1549,
    "start_time": "2022-05-08T05:34:26.663Z"
   },
   {
    "duration": 113,
    "start_time": "2022-05-08T05:34:53.869Z"
   },
   {
    "duration": 1499,
    "start_time": "2022-05-08T05:35:27.127Z"
   },
   {
    "duration": 1404,
    "start_time": "2022-05-08T05:36:11.635Z"
   },
   {
    "duration": 13,
    "start_time": "2022-05-08T05:36:47.203Z"
   },
   {
    "duration": 1588,
    "start_time": "2022-05-08T05:36:51.231Z"
   },
   {
    "duration": 1423,
    "start_time": "2022-05-08T05:37:09.822Z"
   },
   {
    "duration": 1523,
    "start_time": "2022-05-08T05:37:17.735Z"
   },
   {
    "duration": 1432,
    "start_time": "2022-05-08T05:37:22.862Z"
   },
   {
    "duration": 1480,
    "start_time": "2022-05-08T05:37:29.562Z"
   },
   {
    "duration": 1522,
    "start_time": "2022-05-08T05:37:36.678Z"
   },
   {
    "duration": 1440,
    "start_time": "2022-05-08T05:38:03.795Z"
   },
   {
    "duration": 9,
    "start_time": "2022-05-08T05:43:22.041Z"
   },
   {
    "duration": 1445,
    "start_time": "2022-05-08T05:43:29.604Z"
   },
   {
    "duration": 91,
    "start_time": "2022-05-08T05:43:31.051Z"
   },
   {
    "duration": 22,
    "start_time": "2022-05-08T05:43:31.144Z"
   },
   {
    "duration": 17,
    "start_time": "2022-05-08T05:43:31.169Z"
   },
   {
    "duration": 37,
    "start_time": "2022-05-08T05:43:31.188Z"
   },
   {
    "duration": 26,
    "start_time": "2022-05-08T05:43:31.227Z"
   },
   {
    "duration": 42,
    "start_time": "2022-05-08T05:43:31.254Z"
   },
   {
    "duration": 17,
    "start_time": "2022-05-08T05:43:31.297Z"
   },
   {
    "duration": 73,
    "start_time": "2022-05-08T05:43:31.316Z"
   },
   {
    "duration": 1546,
    "start_time": "2022-05-08T05:43:31.392Z"
   },
   {
    "duration": 5,
    "start_time": "2022-05-08T05:43:32.940Z"
   },
   {
    "duration": 5,
    "start_time": "2022-05-08T06:02:16.227Z"
   },
   {
    "duration": 104,
    "start_time": "2022-05-08T06:03:54.951Z"
   },
   {
    "duration": 1530,
    "start_time": "2022-05-08T06:05:03.004Z"
   },
   {
    "duration": 97,
    "start_time": "2022-05-08T06:05:04.536Z"
   },
   {
    "duration": 21,
    "start_time": "2022-05-08T06:05:04.635Z"
   },
   {
    "duration": 4,
    "start_time": "2022-05-08T06:05:04.658Z"
   },
   {
    "duration": 18,
    "start_time": "2022-05-08T06:05:04.664Z"
   },
   {
    "duration": 5,
    "start_time": "2022-05-08T06:05:04.684Z"
   },
   {
    "duration": 12,
    "start_time": "2022-05-08T06:05:04.691Z"
   },
   {
    "duration": 5,
    "start_time": "2022-05-08T06:05:04.705Z"
   },
   {
    "duration": 21,
    "start_time": "2022-05-08T06:05:04.712Z"
   },
   {
    "duration": 1546,
    "start_time": "2022-05-08T06:05:04.736Z"
   },
   {
    "duration": 5,
    "start_time": "2022-05-08T06:05:06.292Z"
   },
   {
    "duration": 7,
    "start_time": "2022-05-08T06:05:06.298Z"
   },
   {
    "duration": 65,
    "start_time": "2022-05-08T06:05:06.306Z"
   },
   {
    "duration": 63,
    "start_time": "2022-05-08T06:05:44.820Z"
   },
   {
    "duration": 108,
    "start_time": "2022-05-08T06:07:56.424Z"
   },
   {
    "duration": 1453,
    "start_time": "2022-05-08T06:08:02.895Z"
   },
   {
    "duration": 78,
    "start_time": "2022-05-08T06:08:04.350Z"
   },
   {
    "duration": 22,
    "start_time": "2022-05-08T06:08:04.430Z"
   },
   {
    "duration": 5,
    "start_time": "2022-05-08T06:08:04.454Z"
   },
   {
    "duration": 26,
    "start_time": "2022-05-08T06:08:04.461Z"
   },
   {
    "duration": 6,
    "start_time": "2022-05-08T06:08:04.490Z"
   },
   {
    "duration": 7,
    "start_time": "2022-05-08T06:08:04.499Z"
   },
   {
    "duration": 8,
    "start_time": "2022-05-08T06:08:04.508Z"
   },
   {
    "duration": 31,
    "start_time": "2022-05-08T06:08:04.518Z"
   },
   {
    "duration": 1632,
    "start_time": "2022-05-08T06:08:04.552Z"
   },
   {
    "duration": 9,
    "start_time": "2022-05-08T06:08:06.187Z"
   },
   {
    "duration": 7,
    "start_time": "2022-05-08T06:08:06.198Z"
   },
   {
    "duration": 63,
    "start_time": "2022-05-08T06:08:06.206Z"
   },
   {
    "duration": 381,
    "start_time": "2022-05-08T06:08:06.271Z"
   },
   {
    "duration": 281,
    "start_time": "2022-05-08T06:08:28.630Z"
   },
   {
    "duration": 293,
    "start_time": "2022-05-08T06:09:01.219Z"
   },
   {
    "duration": 240,
    "start_time": "2022-05-08T06:09:05.366Z"
   },
   {
    "duration": 70,
    "start_time": "2022-05-08T06:10:09.126Z"
   },
   {
    "duration": 61,
    "start_time": "2022-05-08T06:10:32.030Z"
   },
   {
    "duration": 236,
    "start_time": "2022-05-08T06:10:42.326Z"
   },
   {
    "duration": 109,
    "start_time": "2022-05-08T06:17:46.299Z"
   },
   {
    "duration": 1484,
    "start_time": "2022-05-08T06:17:52.763Z"
   },
   {
    "duration": 51,
    "start_time": "2022-05-08T06:17:54.249Z"
   },
   {
    "duration": 21,
    "start_time": "2022-05-08T06:17:54.302Z"
   },
   {
    "duration": 4,
    "start_time": "2022-05-08T06:17:54.325Z"
   },
   {
    "duration": 25,
    "start_time": "2022-05-08T06:17:54.330Z"
   },
   {
    "duration": 4,
    "start_time": "2022-05-08T06:17:54.357Z"
   },
   {
    "duration": 12,
    "start_time": "2022-05-08T06:17:54.363Z"
   },
   {
    "duration": 6,
    "start_time": "2022-05-08T06:17:54.393Z"
   },
   {
    "duration": 21,
    "start_time": "2022-05-08T06:17:54.401Z"
   },
   {
    "duration": 2693,
    "start_time": "2022-05-08T06:17:54.424Z"
   },
   {
    "duration": 5,
    "start_time": "2022-05-08T06:17:57.120Z"
   },
   {
    "duration": 7,
    "start_time": "2022-05-08T06:17:57.127Z"
   },
   {
    "duration": 203,
    "start_time": "2022-05-08T06:17:57.135Z"
   },
   {
    "duration": 702,
    "start_time": "2022-05-08T06:17:57.392Z"
   },
   {
    "duration": 109,
    "start_time": "2022-05-08T06:17:58.095Z"
   },
   {
    "duration": 9,
    "start_time": "2022-05-08T06:18:27.184Z"
   },
   {
    "duration": 1484,
    "start_time": "2022-05-08T06:23:57.060Z"
   },
   {
    "duration": 69,
    "start_time": "2022-05-08T06:23:58.546Z"
   },
   {
    "duration": 21,
    "start_time": "2022-05-08T06:23:58.616Z"
   },
   {
    "duration": 7,
    "start_time": "2022-05-08T06:23:58.638Z"
   },
   {
    "duration": 21,
    "start_time": "2022-05-08T06:23:58.646Z"
   },
   {
    "duration": 5,
    "start_time": "2022-05-08T06:23:58.668Z"
   },
   {
    "duration": 7,
    "start_time": "2022-05-08T06:23:58.674Z"
   },
   {
    "duration": 11,
    "start_time": "2022-05-08T06:23:58.682Z"
   },
   {
    "duration": 24,
    "start_time": "2022-05-08T06:23:58.694Z"
   },
   {
    "duration": 1591,
    "start_time": "2022-05-08T06:23:58.720Z"
   },
   {
    "duration": 6,
    "start_time": "2022-05-08T06:24:00.313Z"
   },
   {
    "duration": 15,
    "start_time": "2022-05-08T06:24:00.321Z"
   },
   {
    "duration": 77,
    "start_time": "2022-05-08T06:24:00.338Z"
   },
   {
    "duration": 335,
    "start_time": "2022-05-08T06:24:00.417Z"
   },
   {
    "duration": 236841,
    "start_time": "2022-05-08T06:24:00.754Z"
   },
   {
    "duration": 1475,
    "start_time": "2022-05-08T06:35:37.372Z"
   },
   {
    "duration": 76,
    "start_time": "2022-05-08T06:35:38.849Z"
   },
   {
    "duration": 19,
    "start_time": "2022-05-08T06:35:38.927Z"
   },
   {
    "duration": 4,
    "start_time": "2022-05-08T06:35:38.948Z"
   },
   {
    "duration": 18,
    "start_time": "2022-05-08T06:35:38.954Z"
   },
   {
    "duration": 5,
    "start_time": "2022-05-08T06:35:38.974Z"
   },
   {
    "duration": 17,
    "start_time": "2022-05-08T06:35:38.981Z"
   },
   {
    "duration": 6,
    "start_time": "2022-05-08T06:35:39.000Z"
   },
   {
    "duration": 21,
    "start_time": "2022-05-08T06:35:39.008Z"
   },
   {
    "duration": 1536,
    "start_time": "2022-05-08T06:35:39.031Z"
   },
   {
    "duration": 5,
    "start_time": "2022-05-08T06:35:40.568Z"
   },
   {
    "duration": 17,
    "start_time": "2022-05-08T06:35:40.575Z"
   },
   {
    "duration": 68,
    "start_time": "2022-05-08T06:35:40.594Z"
   },
   {
    "duration": 345,
    "start_time": "2022-05-08T06:35:40.663Z"
   },
   {
    "duration": 235192,
    "start_time": "2022-05-08T06:35:41.009Z"
   },
   {
    "duration": 1569,
    "start_time": "2022-05-08T08:39:24.209Z"
   },
   {
    "duration": 129,
    "start_time": "2022-05-08T08:39:25.780Z"
   },
   {
    "duration": 21,
    "start_time": "2022-05-08T08:39:25.911Z"
   },
   {
    "duration": 4,
    "start_time": "2022-05-08T08:39:25.935Z"
   },
   {
    "duration": 24,
    "start_time": "2022-05-08T08:39:25.941Z"
   },
   {
    "duration": 5,
    "start_time": "2022-05-08T08:39:25.967Z"
   },
   {
    "duration": 22,
    "start_time": "2022-05-08T08:39:25.974Z"
   },
   {
    "duration": 11,
    "start_time": "2022-05-08T08:39:25.999Z"
   },
   {
    "duration": 25,
    "start_time": "2022-05-08T08:39:26.012Z"
   },
   {
    "duration": 1673,
    "start_time": "2022-05-08T08:39:26.040Z"
   },
   {
    "duration": 5,
    "start_time": "2022-05-08T08:39:27.714Z"
   },
   {
    "duration": 8,
    "start_time": "2022-05-08T08:39:27.720Z"
   },
   {
    "duration": 7,
    "start_time": "2022-05-08T08:39:27.729Z"
   },
   {
    "duration": 164,
    "start_time": "2022-05-08T08:39:27.737Z"
   },
   {
    "duration": 228,
    "start_time": "2022-05-08T08:39:27.904Z"
   },
   {
    "duration": 17875,
    "start_time": "2022-05-08T08:39:28.134Z"
   },
   {
    "duration": 122,
    "start_time": "2022-05-08T08:39:46.014Z"
   },
   {
    "duration": 4,
    "start_time": "2022-05-08T08:39:47.146Z"
   },
   {
    "duration": 4,
    "start_time": "2022-05-08T08:40:12.766Z"
   },
   {
    "duration": 9,
    "start_time": "2022-05-08T08:40:27.545Z"
   },
   {
    "duration": 10,
    "start_time": "2022-05-08T08:40:36.329Z"
   },
   {
    "duration": 4,
    "start_time": "2022-05-08T08:40:42.709Z"
   },
   {
    "duration": 5,
    "start_time": "2022-05-08T08:42:16.437Z"
   },
   {
    "duration": 3,
    "start_time": "2022-05-08T08:42:42.077Z"
   },
   {
    "duration": 5,
    "start_time": "2022-05-08T08:42:57.004Z"
   },
   {
    "duration": 1662,
    "start_time": "2022-05-08T08:43:11.169Z"
   },
   {
    "duration": 67,
    "start_time": "2022-05-08T08:43:12.833Z"
   },
   {
    "duration": 21,
    "start_time": "2022-05-08T08:43:12.902Z"
   },
   {
    "duration": 4,
    "start_time": "2022-05-08T08:43:12.925Z"
   },
   {
    "duration": 70,
    "start_time": "2022-05-08T08:43:12.931Z"
   },
   {
    "duration": 8,
    "start_time": "2022-05-08T08:43:13.003Z"
   },
   {
    "duration": 16,
    "start_time": "2022-05-08T08:43:13.013Z"
   },
   {
    "duration": 17,
    "start_time": "2022-05-08T08:43:13.030Z"
   },
   {
    "duration": 64,
    "start_time": "2022-05-08T08:43:13.049Z"
   },
   {
    "duration": 2098,
    "start_time": "2022-05-08T08:43:13.116Z"
   },
   {
    "duration": 5,
    "start_time": "2022-05-08T08:43:15.216Z"
   },
   {
    "duration": 7,
    "start_time": "2022-05-08T08:43:15.223Z"
   },
   {
    "duration": 7,
    "start_time": "2022-05-08T08:43:15.231Z"
   },
   {
    "duration": 6,
    "start_time": "2022-05-08T08:43:15.240Z"
   },
   {
    "duration": 158,
    "start_time": "2022-05-08T08:43:15.248Z"
   },
   {
    "duration": 222,
    "start_time": "2022-05-08T08:43:15.407Z"
   },
   {
    "duration": 16109,
    "start_time": "2022-05-08T08:43:15.630Z"
   },
   {
    "duration": 4,
    "start_time": "2022-05-08T08:43:31.741Z"
   },
   {
    "duration": 3,
    "start_time": "2022-05-08T08:43:36.977Z"
   },
   {
    "duration": 3,
    "start_time": "2022-05-08T08:43:54.045Z"
   },
   {
    "duration": 4,
    "start_time": "2022-05-08T08:44:03.753Z"
   },
   {
    "duration": 1789,
    "start_time": "2022-05-08T08:45:18.705Z"
   },
   {
    "duration": 59,
    "start_time": "2022-05-08T08:45:20.497Z"
   },
   {
    "duration": 22,
    "start_time": "2022-05-08T08:45:20.558Z"
   },
   {
    "duration": 3,
    "start_time": "2022-05-08T08:45:20.582Z"
   },
   {
    "duration": 29,
    "start_time": "2022-05-08T08:45:20.589Z"
   },
   {
    "duration": 5,
    "start_time": "2022-05-08T08:45:20.620Z"
   },
   {
    "duration": 23,
    "start_time": "2022-05-08T08:45:20.626Z"
   },
   {
    "duration": 17,
    "start_time": "2022-05-08T08:45:20.651Z"
   },
   {
    "duration": 40,
    "start_time": "2022-05-08T08:45:20.671Z"
   },
   {
    "duration": 1599,
    "start_time": "2022-05-08T08:45:20.713Z"
   },
   {
    "duration": 5,
    "start_time": "2022-05-08T08:45:22.313Z"
   },
   {
    "duration": 6,
    "start_time": "2022-05-08T08:45:22.320Z"
   },
   {
    "duration": 5,
    "start_time": "2022-05-08T08:45:22.328Z"
   },
   {
    "duration": 8,
    "start_time": "2022-05-08T08:45:22.335Z"
   },
   {
    "duration": 78,
    "start_time": "2022-05-08T08:45:22.344Z"
   },
   {
    "duration": 300,
    "start_time": "2022-05-08T08:45:22.423Z"
   },
   {
    "duration": 15837,
    "start_time": "2022-05-08T08:45:22.725Z"
   },
   {
    "duration": 110,
    "start_time": "2022-05-08T08:52:26.601Z"
   },
   {
    "duration": 12,
    "start_time": "2022-05-08T08:52:40.509Z"
   },
   {
    "duration": 4,
    "start_time": "2022-05-08T08:54:32.640Z"
   },
   {
    "duration": 14,
    "start_time": "2022-05-08T08:54:35.996Z"
   },
   {
    "duration": 12,
    "start_time": "2022-05-08T08:54:44.845Z"
   },
   {
    "duration": 21,
    "start_time": "2022-05-08T08:55:45.676Z"
   },
   {
    "duration": 69,
    "start_time": "2022-05-08T08:55:57.548Z"
   },
   {
    "duration": 63,
    "start_time": "2022-05-08T08:56:41.392Z"
   },
   {
    "duration": 210,
    "start_time": "2022-05-08T09:08:03.600Z"
   },
   {
    "duration": 217,
    "start_time": "2022-05-08T09:08:09.144Z"
   },
   {
    "duration": 7,
    "start_time": "2022-05-08T09:08:30.685Z"
   },
   {
    "duration": 56,
    "start_time": "2022-05-08T09:08:32.952Z"
   },
   {
    "duration": 208,
    "start_time": "2022-05-08T09:08:40.952Z"
   },
   {
    "duration": 214,
    "start_time": "2022-05-08T09:09:21.000Z"
   },
   {
    "duration": 58,
    "start_time": "2022-05-08T09:09:50.447Z"
   },
   {
    "duration": 71,
    "start_time": "2022-05-08T09:10:43.522Z"
   },
   {
    "duration": 14586,
    "start_time": "2022-05-08T09:11:09.206Z"
   },
   {
    "duration": 6,
    "start_time": "2022-05-08T09:30:33.049Z"
   },
   {
    "duration": 5,
    "start_time": "2022-05-08T09:30:42.321Z"
   },
   {
    "duration": 6,
    "start_time": "2022-05-08T09:31:39.832Z"
   },
   {
    "duration": 209,
    "start_time": "2022-05-08T09:31:42.884Z"
   },
   {
    "duration": 8,
    "start_time": "2022-05-08T09:32:22.616Z"
   },
   {
    "duration": 9,
    "start_time": "2022-05-08T09:32:35.672Z"
   },
   {
    "duration": 204,
    "start_time": "2022-05-08T09:32:40.317Z"
   },
   {
    "duration": 46,
    "start_time": "2022-05-08T18:24:16.925Z"
   },
   {
    "duration": 1540,
    "start_time": "2022-05-08T18:24:22.326Z"
   },
   {
    "duration": 70,
    "start_time": "2022-05-08T18:24:23.868Z"
   },
   {
    "duration": 20,
    "start_time": "2022-05-08T18:24:23.940Z"
   },
   {
    "duration": 4,
    "start_time": "2022-05-08T18:24:23.961Z"
   },
   {
    "duration": 15,
    "start_time": "2022-05-08T18:24:23.968Z"
   },
   {
    "duration": 5,
    "start_time": "2022-05-08T18:24:23.984Z"
   },
   {
    "duration": 12,
    "start_time": "2022-05-08T18:24:23.991Z"
   },
   {
    "duration": 8,
    "start_time": "2022-05-08T18:24:24.005Z"
   },
   {
    "duration": 24,
    "start_time": "2022-05-08T18:24:24.014Z"
   },
   {
    "duration": 1523,
    "start_time": "2022-05-08T18:24:24.040Z"
   },
   {
    "duration": 5,
    "start_time": "2022-05-08T18:24:25.573Z"
   },
   {
    "duration": 6,
    "start_time": "2022-05-08T18:24:25.580Z"
   },
   {
    "duration": 7,
    "start_time": "2022-05-08T18:24:25.587Z"
   },
   {
    "duration": 7,
    "start_time": "2022-05-08T18:24:25.597Z"
   },
   {
    "duration": 73,
    "start_time": "2022-05-08T18:24:25.605Z"
   },
   {
    "duration": 6,
    "start_time": "2022-05-08T18:24:25.680Z"
   },
   {
    "duration": 317,
    "start_time": "2022-05-08T18:24:25.688Z"
   },
   {
    "duration": 10,
    "start_time": "2022-05-08T18:24:26.007Z"
   },
   {
    "duration": 15582,
    "start_time": "2022-05-08T18:24:26.019Z"
   },
   {
    "duration": 7,
    "start_time": "2022-05-08T18:24:41.603Z"
   },
   {
    "duration": 11,
    "start_time": "2022-05-08T18:24:41.612Z"
   },
   {
    "duration": 1587,
    "start_time": "2022-05-08T18:29:54.054Z"
   },
   {
    "duration": 38,
    "start_time": "2022-05-08T18:29:55.643Z"
   },
   {
    "duration": 22,
    "start_time": "2022-05-08T18:29:55.682Z"
   },
   {
    "duration": 6,
    "start_time": "2022-05-08T18:29:55.706Z"
   },
   {
    "duration": 19,
    "start_time": "2022-05-08T18:29:55.715Z"
   },
   {
    "duration": 5,
    "start_time": "2022-05-08T18:29:55.736Z"
   },
   {
    "duration": 10,
    "start_time": "2022-05-08T18:29:55.742Z"
   },
   {
    "duration": 24,
    "start_time": "2022-05-08T18:29:55.753Z"
   },
   {
    "duration": 25,
    "start_time": "2022-05-08T18:29:55.779Z"
   },
   {
    "duration": 1709,
    "start_time": "2022-05-08T18:29:55.805Z"
   },
   {
    "duration": 5,
    "start_time": "2022-05-08T18:29:57.515Z"
   },
   {
    "duration": 9,
    "start_time": "2022-05-08T18:29:57.522Z"
   },
   {
    "duration": 8,
    "start_time": "2022-05-08T18:29:57.532Z"
   },
   {
    "duration": 6,
    "start_time": "2022-05-08T18:29:57.542Z"
   },
   {
    "duration": 79,
    "start_time": "2022-05-08T18:29:57.550Z"
   },
   {
    "duration": 6,
    "start_time": "2022-05-08T18:29:57.630Z"
   },
   {
    "duration": 297,
    "start_time": "2022-05-08T18:29:57.638Z"
   },
   {
    "duration": 7,
    "start_time": "2022-05-08T18:29:57.937Z"
   },
   {
    "duration": 1484,
    "start_time": "2022-05-08T18:30:46.972Z"
   },
   {
    "duration": 42,
    "start_time": "2022-05-08T18:30:48.458Z"
   },
   {
    "duration": 31,
    "start_time": "2022-05-08T18:30:48.502Z"
   },
   {
    "duration": 6,
    "start_time": "2022-05-08T18:30:48.535Z"
   },
   {
    "duration": 24,
    "start_time": "2022-05-08T18:30:48.545Z"
   },
   {
    "duration": 10,
    "start_time": "2022-05-08T18:30:48.570Z"
   },
   {
    "duration": 11,
    "start_time": "2022-05-08T18:30:48.582Z"
   },
   {
    "duration": 10,
    "start_time": "2022-05-08T18:30:48.595Z"
   },
   {
    "duration": 25,
    "start_time": "2022-05-08T18:30:48.607Z"
   },
   {
    "duration": 1549,
    "start_time": "2022-05-08T18:30:48.674Z"
   },
   {
    "duration": 6,
    "start_time": "2022-05-08T18:30:50.225Z"
   },
   {
    "duration": 19,
    "start_time": "2022-05-08T18:30:50.233Z"
   },
   {
    "duration": 11,
    "start_time": "2022-05-08T18:30:50.254Z"
   },
   {
    "duration": 11,
    "start_time": "2022-05-08T18:30:50.272Z"
   },
   {
    "duration": 76,
    "start_time": "2022-05-08T18:30:50.286Z"
   },
   {
    "duration": 6,
    "start_time": "2022-05-08T18:30:50.373Z"
   },
   {
    "duration": 320,
    "start_time": "2022-05-08T18:30:50.381Z"
   },
   {
    "duration": 8,
    "start_time": "2022-05-08T18:30:50.702Z"
   },
   {
    "duration": 1381,
    "start_time": "2022-05-08T18:31:31.621Z"
   },
   {
    "duration": 66,
    "start_time": "2022-05-08T18:31:33.005Z"
   },
   {
    "duration": 23,
    "start_time": "2022-05-08T18:31:33.072Z"
   },
   {
    "duration": 9,
    "start_time": "2022-05-08T18:31:33.097Z"
   },
   {
    "duration": 19,
    "start_time": "2022-05-08T18:31:33.110Z"
   },
   {
    "duration": 6,
    "start_time": "2022-05-08T18:31:33.130Z"
   },
   {
    "duration": 7,
    "start_time": "2022-05-08T18:31:33.137Z"
   },
   {
    "duration": 6,
    "start_time": "2022-05-08T18:31:33.174Z"
   },
   {
    "duration": 22,
    "start_time": "2022-05-08T18:31:33.182Z"
   },
   {
    "duration": 1519,
    "start_time": "2022-05-08T18:31:33.205Z"
   },
   {
    "duration": 5,
    "start_time": "2022-05-08T18:31:34.726Z"
   },
   {
    "duration": 11,
    "start_time": "2022-05-08T18:31:34.733Z"
   },
   {
    "duration": 5,
    "start_time": "2022-05-08T18:31:34.746Z"
   },
   {
    "duration": 22,
    "start_time": "2022-05-08T18:31:34.753Z"
   },
   {
    "duration": 63,
    "start_time": "2022-05-08T18:31:34.776Z"
   },
   {
    "duration": 6,
    "start_time": "2022-05-08T18:31:34.841Z"
   },
   {
    "duration": 317,
    "start_time": "2022-05-08T18:31:34.848Z"
   },
   {
    "duration": 13,
    "start_time": "2022-05-08T18:31:35.166Z"
   },
   {
    "duration": 1302,
    "start_time": "2022-05-08T18:32:31.727Z"
   },
   {
    "duration": 38,
    "start_time": "2022-05-08T18:32:33.031Z"
   },
   {
    "duration": 21,
    "start_time": "2022-05-08T18:32:33.070Z"
   },
   {
    "duration": 4,
    "start_time": "2022-05-08T18:32:33.093Z"
   },
   {
    "duration": 19,
    "start_time": "2022-05-08T18:32:33.099Z"
   },
   {
    "duration": 4,
    "start_time": "2022-05-08T18:32:33.120Z"
   },
   {
    "duration": 7,
    "start_time": "2022-05-08T18:32:33.125Z"
   },
   {
    "duration": 7,
    "start_time": "2022-05-08T18:32:33.134Z"
   },
   {
    "duration": 23,
    "start_time": "2022-05-08T18:32:33.174Z"
   },
   {
    "duration": 2140,
    "start_time": "2022-05-08T18:32:33.198Z"
   },
   {
    "duration": 34,
    "start_time": "2022-05-08T18:32:35.340Z"
   },
   {
    "duration": 4,
    "start_time": "2022-05-08T18:32:35.376Z"
   },
   {
    "duration": 17,
    "start_time": "2022-05-08T18:32:35.382Z"
   },
   {
    "duration": 21,
    "start_time": "2022-05-08T18:32:35.401Z"
   },
   {
    "duration": 71,
    "start_time": "2022-05-08T18:32:35.424Z"
   },
   {
    "duration": 5,
    "start_time": "2022-05-08T18:32:35.497Z"
   },
   {
    "duration": 312,
    "start_time": "2022-05-08T18:32:35.503Z"
   },
   {
    "duration": 7,
    "start_time": "2022-05-08T18:32:35.816Z"
   },
   {
    "duration": 15013,
    "start_time": "2022-05-08T18:32:35.825Z"
   },
   {
    "duration": 1320,
    "start_time": "2022-05-08T18:34:15.713Z"
   },
   {
    "duration": 43,
    "start_time": "2022-05-08T18:34:17.036Z"
   },
   {
    "duration": 20,
    "start_time": "2022-05-08T18:34:17.081Z"
   },
   {
    "duration": 3,
    "start_time": "2022-05-08T18:34:17.103Z"
   },
   {
    "duration": 19,
    "start_time": "2022-05-08T18:34:17.109Z"
   },
   {
    "duration": 5,
    "start_time": "2022-05-08T18:34:17.129Z"
   },
   {
    "duration": 7,
    "start_time": "2022-05-08T18:34:17.135Z"
   },
   {
    "duration": 35,
    "start_time": "2022-05-08T18:34:17.143Z"
   },
   {
    "duration": 22,
    "start_time": "2022-05-08T18:34:17.179Z"
   },
   {
    "duration": 2184,
    "start_time": "2022-05-08T18:34:17.202Z"
   },
   {
    "duration": 5,
    "start_time": "2022-05-08T18:34:19.388Z"
   },
   {
    "duration": 10,
    "start_time": "2022-05-08T18:34:19.394Z"
   },
   {
    "duration": 4,
    "start_time": "2022-05-08T18:34:19.406Z"
   },
   {
    "duration": 6,
    "start_time": "2022-05-08T18:34:19.412Z"
   },
   {
    "duration": 154,
    "start_time": "2022-05-08T18:34:19.419Z"
   },
   {
    "duration": 6,
    "start_time": "2022-05-08T18:34:19.575Z"
   },
   {
    "duration": 219,
    "start_time": "2022-05-08T18:34:19.583Z"
   },
   {
    "duration": 8,
    "start_time": "2022-05-08T18:34:19.804Z"
   },
   {
    "duration": 15532,
    "start_time": "2022-05-08T18:34:19.814Z"
   },
   {
    "duration": 5461,
    "start_time": "2022-05-08T18:34:35.348Z"
   },
   {
    "duration": 78974,
    "start_time": "2022-05-08T18:34:40.811Z"
   },
   {
    "duration": 5,
    "start_time": "2022-05-08T18:37:29.281Z"
   },
   {
    "duration": 7,
    "start_time": "2022-05-08T18:37:29.287Z"
   },
   {
    "duration": 84,
    "start_time": "2022-05-08T18:37:29.295Z"
   },
   {
    "duration": 0,
    "start_time": "2022-05-08T18:37:29.381Z"
   },
   {
    "duration": 1411,
    "start_time": "2022-05-08T18:38:26.643Z"
   },
   {
    "duration": 43,
    "start_time": "2022-05-08T18:38:28.056Z"
   },
   {
    "duration": 21,
    "start_time": "2022-05-08T18:38:28.101Z"
   },
   {
    "duration": 3,
    "start_time": "2022-05-08T18:38:28.124Z"
   },
   {
    "duration": 21,
    "start_time": "2022-05-08T18:38:28.129Z"
   },
   {
    "duration": 5,
    "start_time": "2022-05-08T18:38:28.151Z"
   },
   {
    "duration": 9,
    "start_time": "2022-05-08T18:38:28.157Z"
   },
   {
    "duration": 10,
    "start_time": "2022-05-08T18:38:28.167Z"
   },
   {
    "duration": 23,
    "start_time": "2022-05-08T18:38:28.178Z"
   },
   {
    "duration": 1462,
    "start_time": "2022-05-08T18:38:28.203Z"
   },
   {
    "duration": 8,
    "start_time": "2022-05-08T18:38:29.667Z"
   },
   {
    "duration": 7,
    "start_time": "2022-05-08T18:38:29.677Z"
   },
   {
    "duration": 6,
    "start_time": "2022-05-08T18:38:29.685Z"
   },
   {
    "duration": 8,
    "start_time": "2022-05-08T18:38:29.692Z"
   },
   {
    "duration": 153,
    "start_time": "2022-05-08T18:38:29.701Z"
   },
   {
    "duration": 5,
    "start_time": "2022-05-08T18:38:29.855Z"
   },
   {
    "duration": 222,
    "start_time": "2022-05-08T18:38:29.861Z"
   },
   {
    "duration": 8,
    "start_time": "2022-05-08T18:38:30.084Z"
   },
   {
    "duration": 1354,
    "start_time": "2022-05-08T18:38:50.078Z"
   },
   {
    "duration": 39,
    "start_time": "2022-05-08T18:38:51.434Z"
   },
   {
    "duration": 21,
    "start_time": "2022-05-08T18:38:51.475Z"
   },
   {
    "duration": 4,
    "start_time": "2022-05-08T18:38:51.497Z"
   },
   {
    "duration": 19,
    "start_time": "2022-05-08T18:38:51.503Z"
   },
   {
    "duration": 5,
    "start_time": "2022-05-08T18:38:51.523Z"
   },
   {
    "duration": 7,
    "start_time": "2022-05-08T18:38:51.529Z"
   },
   {
    "duration": 5,
    "start_time": "2022-05-08T18:38:51.538Z"
   },
   {
    "duration": 21,
    "start_time": "2022-05-08T18:38:51.574Z"
   },
   {
    "duration": 1455,
    "start_time": "2022-05-08T18:38:51.597Z"
   },
   {
    "duration": 5,
    "start_time": "2022-05-08T18:38:53.054Z"
   },
   {
    "duration": 16,
    "start_time": "2022-05-08T18:38:53.060Z"
   },
   {
    "duration": 5,
    "start_time": "2022-05-08T18:38:53.078Z"
   },
   {
    "duration": 5,
    "start_time": "2022-05-08T18:38:53.086Z"
   },
   {
    "duration": 61,
    "start_time": "2022-05-08T18:38:53.093Z"
   },
   {
    "duration": 7,
    "start_time": "2022-05-08T18:38:53.173Z"
   },
   {
    "duration": 309,
    "start_time": "2022-05-08T18:38:53.182Z"
   },
   {
    "duration": 7,
    "start_time": "2022-05-08T18:38:53.492Z"
   },
   {
    "duration": 20832,
    "start_time": "2022-05-08T18:38:53.501Z"
   },
   {
    "duration": 1415,
    "start_time": "2022-05-08T18:39:54.239Z"
   },
   {
    "duration": 55,
    "start_time": "2022-05-08T18:39:55.656Z"
   },
   {
    "duration": 21,
    "start_time": "2022-05-08T18:39:55.713Z"
   },
   {
    "duration": 4,
    "start_time": "2022-05-08T18:39:55.735Z"
   },
   {
    "duration": 19,
    "start_time": "2022-05-08T18:39:55.742Z"
   },
   {
    "duration": 5,
    "start_time": "2022-05-08T18:39:55.762Z"
   },
   {
    "duration": 8,
    "start_time": "2022-05-08T18:39:55.768Z"
   },
   {
    "duration": 6,
    "start_time": "2022-05-08T18:39:55.778Z"
   },
   {
    "duration": 22,
    "start_time": "2022-05-08T18:39:55.786Z"
   },
   {
    "duration": 1538,
    "start_time": "2022-05-08T18:39:55.809Z"
   },
   {
    "duration": 5,
    "start_time": "2022-05-08T18:39:57.348Z"
   },
   {
    "duration": 15,
    "start_time": "2022-05-08T18:39:57.354Z"
   },
   {
    "duration": 3,
    "start_time": "2022-05-08T18:39:57.373Z"
   },
   {
    "duration": 9,
    "start_time": "2022-05-08T18:39:57.378Z"
   },
   {
    "duration": 63,
    "start_time": "2022-05-08T18:39:57.389Z"
   },
   {
    "duration": 6,
    "start_time": "2022-05-08T18:39:57.453Z"
   },
   {
    "duration": 305,
    "start_time": "2022-05-08T18:39:57.474Z"
   },
   {
    "duration": 8,
    "start_time": "2022-05-08T18:39:57.781Z"
   },
   {
    "duration": 21498,
    "start_time": "2022-05-08T18:39:57.791Z"
   },
   {
    "duration": 5,
    "start_time": "2022-05-08T18:40:19.291Z"
   },
   {
    "duration": 9,
    "start_time": "2022-05-08T18:40:19.297Z"
   },
   {
    "duration": 82,
    "start_time": "2022-05-08T18:40:19.308Z"
   },
   {
    "duration": 80,
    "start_time": "2022-05-08T18:52:10.702Z"
   },
   {
    "duration": 81,
    "start_time": "2022-05-08T18:53:00.647Z"
   },
   {
    "duration": 21667,
    "start_time": "2022-05-08T19:00:17.979Z"
   },
   {
    "duration": 21924,
    "start_time": "2022-05-08T19:01:50.283Z"
   },
   {
    "duration": 7,
    "start_time": "2022-05-08T19:03:20.041Z"
   },
   {
    "duration": 21075,
    "start_time": "2022-05-08T19:03:30.879Z"
   },
   {
    "duration": 5,
    "start_time": "2022-05-08T19:04:08.818Z"
   },
   {
    "duration": 21402,
    "start_time": "2022-05-08T19:05:11.488Z"
   },
   {
    "duration": 109,
    "start_time": "2022-05-08T19:05:32.892Z"
   },
   {
    "duration": 4,
    "start_time": "2022-05-08T19:06:08.272Z"
   },
   {
    "duration": 63,
    "start_time": "2022-05-08T19:06:19.562Z"
   },
   {
    "duration": 2390,
    "start_time": "2022-05-11T10:16:15.467Z"
   },
   {
    "duration": 360,
    "start_time": "2022-05-11T10:16:17.861Z"
   },
   {
    "duration": 45,
    "start_time": "2022-05-11T10:16:18.224Z"
   },
   {
    "duration": 7,
    "start_time": "2022-05-11T10:16:18.273Z"
   },
   {
    "duration": 37,
    "start_time": "2022-05-11T10:16:18.283Z"
   },
   {
    "duration": 8,
    "start_time": "2022-05-11T10:16:18.323Z"
   },
   {
    "duration": 15,
    "start_time": "2022-05-11T10:16:18.334Z"
   },
   {
    "duration": 42,
    "start_time": "2022-05-11T10:16:18.351Z"
   },
   {
    "duration": 51,
    "start_time": "2022-05-11T10:16:18.395Z"
   },
   {
    "duration": 2813,
    "start_time": "2022-05-11T10:16:18.452Z"
   },
   {
    "duration": 20,
    "start_time": "2022-05-11T10:16:21.267Z"
   },
   {
    "duration": 22,
    "start_time": "2022-05-11T10:16:21.290Z"
   },
   {
    "duration": 16,
    "start_time": "2022-05-11T10:16:21.315Z"
   },
   {
    "duration": 19,
    "start_time": "2022-05-11T10:16:21.333Z"
   },
   {
    "duration": 176,
    "start_time": "2022-05-11T10:16:21.354Z"
   },
   {
    "duration": 10,
    "start_time": "2022-05-11T10:16:21.533Z"
   },
   {
    "duration": 322,
    "start_time": "2022-05-11T10:16:21.546Z"
   },
   {
    "duration": 21,
    "start_time": "2022-05-11T10:16:21.871Z"
   },
   {
    "duration": 57733,
    "start_time": "2022-05-11T10:16:21.894Z"
   },
   {
    "duration": 9,
    "start_time": "2022-05-11T10:17:19.630Z"
   },
   {
    "duration": 8,
    "start_time": "2022-05-11T10:17:19.642Z"
   },
   {
    "duration": 169,
    "start_time": "2022-05-11T10:17:19.652Z"
   },
   {
    "duration": 161,
    "start_time": "2022-05-11T10:18:04.522Z"
   },
   {
    "duration": 5,
    "start_time": "2022-05-11T10:47:55.562Z"
   },
   {
    "duration": 2336,
    "start_time": "2022-05-11T10:48:01.766Z"
   },
   {
    "duration": 58,
    "start_time": "2022-05-11T10:48:04.105Z"
   },
   {
    "duration": 42,
    "start_time": "2022-05-11T10:48:04.165Z"
   },
   {
    "duration": 7,
    "start_time": "2022-05-11T10:48:04.209Z"
   },
   {
    "duration": 26,
    "start_time": "2022-05-11T10:48:04.220Z"
   },
   {
    "duration": 8,
    "start_time": "2022-05-11T10:48:04.249Z"
   },
   {
    "duration": 15,
    "start_time": "2022-05-11T10:48:04.285Z"
   },
   {
    "duration": 10,
    "start_time": "2022-05-11T10:48:04.303Z"
   },
   {
    "duration": 34,
    "start_time": "2022-05-11T10:48:04.316Z"
   },
   {
    "duration": 2789,
    "start_time": "2022-05-11T10:48:04.388Z"
   },
   {
    "duration": 12,
    "start_time": "2022-05-11T10:48:07.179Z"
   },
   {
    "duration": 14,
    "start_time": "2022-05-11T10:48:07.197Z"
   },
   {
    "duration": 7,
    "start_time": "2022-05-11T10:48:07.214Z"
   },
   {
    "duration": 16,
    "start_time": "2022-05-11T10:48:07.225Z"
   },
   {
    "duration": 111,
    "start_time": "2022-05-11T10:48:07.243Z"
   },
   {
    "duration": 8,
    "start_time": "2022-05-11T10:48:07.356Z"
   },
   {
    "duration": 625,
    "start_time": "2022-05-11T10:48:07.366Z"
   },
   {
    "duration": 11,
    "start_time": "2022-05-11T10:48:07.993Z"
   },
   {
    "duration": 40049,
    "start_time": "2022-05-11T10:48:08.007Z"
   },
   {
    "duration": 22,
    "start_time": "2022-05-11T10:48:48.058Z"
   },
   {
    "duration": 9,
    "start_time": "2022-05-11T10:48:48.083Z"
   },
   {
    "duration": 124,
    "start_time": "2022-05-11T10:48:48.102Z"
   },
   {
    "duration": 0,
    "start_time": "2022-05-11T10:48:48.230Z"
   },
   {
    "duration": 9,
    "start_time": "2022-05-11T10:50:01.165Z"
   },
   {
    "duration": 9,
    "start_time": "2022-05-11T10:50:14.533Z"
   },
   {
    "duration": 6,
    "start_time": "2022-05-11T10:59:27.682Z"
   },
   {
    "duration": 176,
    "start_time": "2022-05-11T10:59:54.706Z"
   },
   {
    "duration": 26,
    "start_time": "2022-05-11T11:00:29.509Z"
   },
   {
    "duration": 9,
    "start_time": "2022-05-11T11:01:02.520Z"
   },
   {
    "duration": 7,
    "start_time": "2022-05-11T11:01:12.137Z"
   },
   {
    "duration": 8,
    "start_time": "2022-05-11T11:01:21.505Z"
   },
   {
    "duration": 19,
    "start_time": "2022-05-11T11:01:30.028Z"
   },
   {
    "duration": 24,
    "start_time": "2022-05-11T11:01:41.549Z"
   },
   {
    "duration": 15,
    "start_time": "2022-05-11T11:01:57.137Z"
   },
   {
    "duration": 16,
    "start_time": "2022-05-11T11:04:20.860Z"
   },
   {
    "duration": 1892,
    "start_time": "2022-05-11T17:17:27.206Z"
   },
   {
    "duration": 154,
    "start_time": "2022-05-11T17:17:29.101Z"
   },
   {
    "duration": 27,
    "start_time": "2022-05-11T17:17:29.257Z"
   },
   {
    "duration": 18,
    "start_time": "2022-05-11T17:17:29.286Z"
   },
   {
    "duration": 45,
    "start_time": "2022-05-11T17:17:29.308Z"
   },
   {
    "duration": 31,
    "start_time": "2022-05-11T17:17:29.355Z"
   },
   {
    "duration": 34,
    "start_time": "2022-05-11T17:17:29.389Z"
   },
   {
    "duration": 23,
    "start_time": "2022-05-11T17:17:29.425Z"
   },
   {
    "duration": 45,
    "start_time": "2022-05-11T17:17:29.450Z"
   },
   {
    "duration": 2657,
    "start_time": "2022-05-11T17:17:29.498Z"
   },
   {
    "duration": 7,
    "start_time": "2022-05-11T17:17:32.157Z"
   },
   {
    "duration": 38,
    "start_time": "2022-05-11T17:17:32.166Z"
   },
   {
    "duration": 28,
    "start_time": "2022-05-11T17:17:32.207Z"
   },
   {
    "duration": 19,
    "start_time": "2022-05-11T17:17:32.238Z"
   },
   {
    "duration": 241,
    "start_time": "2022-05-11T17:17:32.260Z"
   },
   {
    "duration": 9,
    "start_time": "2022-05-11T17:17:32.503Z"
   },
   {
    "duration": 279,
    "start_time": "2022-05-11T17:17:32.514Z"
   },
   {
    "duration": 9,
    "start_time": "2022-05-11T17:17:32.795Z"
   },
   {
    "duration": 30654,
    "start_time": "2022-05-11T17:17:32.807Z"
   },
   {
    "duration": 122,
    "start_time": "2022-05-11T17:18:03.464Z"
   },
   {
    "duration": 0,
    "start_time": "2022-05-11T17:18:03.588Z"
   },
   {
    "duration": 0,
    "start_time": "2022-05-11T17:18:03.589Z"
   },
   {
    "duration": 0,
    "start_time": "2022-05-11T17:18:03.590Z"
   },
   {
    "duration": 1739,
    "start_time": "2022-05-11T17:18:34.707Z"
   },
   {
    "duration": 113,
    "start_time": "2022-05-11T17:18:36.448Z"
   },
   {
    "duration": 27,
    "start_time": "2022-05-11T17:18:36.562Z"
   },
   {
    "duration": 8,
    "start_time": "2022-05-11T17:18:36.593Z"
   },
   {
    "duration": 28,
    "start_time": "2022-05-11T17:18:36.604Z"
   },
   {
    "duration": 22,
    "start_time": "2022-05-11T17:18:36.635Z"
   },
   {
    "duration": 23,
    "start_time": "2022-05-11T17:18:36.659Z"
   },
   {
    "duration": 27,
    "start_time": "2022-05-11T17:18:36.684Z"
   },
   {
    "duration": 44,
    "start_time": "2022-05-11T17:18:36.713Z"
   },
   {
    "duration": 1683,
    "start_time": "2022-05-11T17:18:36.760Z"
   },
   {
    "duration": 6,
    "start_time": "2022-05-11T17:18:38.445Z"
   },
   {
    "duration": 36,
    "start_time": "2022-05-11T17:18:38.452Z"
   },
   {
    "duration": 21,
    "start_time": "2022-05-11T17:18:38.490Z"
   },
   {
    "duration": 14,
    "start_time": "2022-05-11T17:18:38.513Z"
   },
   {
    "duration": 74,
    "start_time": "2022-05-11T17:18:38.529Z"
   },
   {
    "duration": 8,
    "start_time": "2022-05-11T17:18:38.605Z"
   },
   {
    "duration": 328,
    "start_time": "2022-05-11T17:18:38.615Z"
   },
   {
    "duration": 9,
    "start_time": "2022-05-11T17:18:38.944Z"
   },
   {
    "duration": 27762,
    "start_time": "2022-05-11T17:18:38.954Z"
   },
   {
    "duration": 9,
    "start_time": "2022-05-11T17:19:06.721Z"
   },
   {
    "duration": 19,
    "start_time": "2022-05-11T17:19:06.744Z"
   },
   {
    "duration": 155,
    "start_time": "2022-05-11T17:19:06.765Z"
   },
   {
    "duration": 129,
    "start_time": "2022-05-11T17:20:56.494Z"
   },
   {
    "duration": 17,
    "start_time": "2022-05-11T17:21:18.798Z"
   },
   {
    "duration": 8,
    "start_time": "2022-05-11T17:21:57.778Z"
   },
   {
    "duration": 1714,
    "start_time": "2022-05-11T17:22:04.724Z"
   },
   {
    "duration": 65,
    "start_time": "2022-05-11T17:22:06.440Z"
   },
   {
    "duration": 24,
    "start_time": "2022-05-11T17:22:06.507Z"
   },
   {
    "duration": 6,
    "start_time": "2022-05-11T17:22:06.534Z"
   },
   {
    "duration": 24,
    "start_time": "2022-05-11T17:22:06.542Z"
   },
   {
    "duration": 6,
    "start_time": "2022-05-11T17:22:06.568Z"
   },
   {
    "duration": 10,
    "start_time": "2022-05-11T17:22:06.575Z"
   },
   {
    "duration": 8,
    "start_time": "2022-05-11T17:22:06.588Z"
   },
   {
    "duration": 58,
    "start_time": "2022-05-11T17:22:06.599Z"
   },
   {
    "duration": 2612,
    "start_time": "2022-05-11T17:22:06.660Z"
   },
   {
    "duration": 6,
    "start_time": "2022-05-11T17:22:09.275Z"
   },
   {
    "duration": 8,
    "start_time": "2022-05-11T17:22:09.283Z"
   },
   {
    "duration": 5,
    "start_time": "2022-05-11T17:22:09.293Z"
   },
   {
    "duration": 11,
    "start_time": "2022-05-11T17:22:09.300Z"
   },
   {
    "duration": 231,
    "start_time": "2022-05-11T17:22:09.312Z"
   },
   {
    "duration": 8,
    "start_time": "2022-05-11T17:22:09.546Z"
   },
   {
    "duration": 361,
    "start_time": "2022-05-11T17:22:09.556Z"
   },
   {
    "duration": 9,
    "start_time": "2022-05-11T17:22:09.919Z"
   },
   {
    "duration": 31988,
    "start_time": "2022-05-11T17:22:09.930Z"
   },
   {
    "duration": 7,
    "start_time": "2022-05-11T17:22:41.919Z"
   },
   {
    "duration": 6,
    "start_time": "2022-05-11T17:22:41.944Z"
   },
   {
    "duration": 10,
    "start_time": "2022-05-11T17:22:41.952Z"
   },
   {
    "duration": 7,
    "start_time": "2022-05-11T17:32:52.160Z"
   },
   {
    "duration": 49,
    "start_time": "2022-05-12T10:58:08.784Z"
   },
   {
    "duration": 7,
    "start_time": "2022-05-12T10:59:28.244Z"
   },
   {
    "duration": 1799,
    "start_time": "2022-05-12T10:59:33.602Z"
   },
   {
    "duration": 15,
    "start_time": "2022-05-12T10:59:35.403Z"
   },
   {
    "duration": 29,
    "start_time": "2022-05-12T10:59:35.419Z"
   },
   {
    "duration": 18,
    "start_time": "2022-05-12T10:59:35.450Z"
   },
   {
    "duration": 42,
    "start_time": "2022-05-12T10:59:35.470Z"
   },
   {
    "duration": 11,
    "start_time": "2022-05-12T10:59:35.514Z"
   },
   {
    "duration": 17,
    "start_time": "2022-05-12T10:59:35.526Z"
   },
   {
    "duration": 28,
    "start_time": "2022-05-12T10:59:35.545Z"
   },
   {
    "duration": 30,
    "start_time": "2022-05-12T10:59:35.575Z"
   },
   {
    "duration": 1607,
    "start_time": "2022-05-12T10:59:35.608Z"
   },
   {
    "duration": 6,
    "start_time": "2022-05-12T10:59:37.217Z"
   },
   {
    "duration": 20,
    "start_time": "2022-05-12T10:59:37.225Z"
   },
   {
    "duration": 14,
    "start_time": "2022-05-12T10:59:37.247Z"
   },
   {
    "duration": 16,
    "start_time": "2022-05-12T10:59:37.263Z"
   },
   {
    "duration": 175,
    "start_time": "2022-05-12T10:59:37.281Z"
   },
   {
    "duration": 7,
    "start_time": "2022-05-12T10:59:37.457Z"
   },
   {
    "duration": 501,
    "start_time": "2022-05-12T10:59:37.465Z"
   },
   {
    "duration": 220,
    "start_time": "2022-05-12T10:59:37.968Z"
   },
   {
    "duration": 0,
    "start_time": "2022-05-12T10:59:38.189Z"
   },
   {
    "duration": 0,
    "start_time": "2022-05-12T10:59:38.243Z"
   },
   {
    "duration": 0,
    "start_time": "2022-05-12T10:59:38.244Z"
   },
   {
    "duration": 0,
    "start_time": "2022-05-12T10:59:38.245Z"
   },
   {
    "duration": 8,
    "start_time": "2022-05-12T11:00:23.986Z"
   },
   {
    "duration": 1680,
    "start_time": "2022-05-12T11:00:28.986Z"
   },
   {
    "duration": 19,
    "start_time": "2022-05-12T11:00:30.668Z"
   },
   {
    "duration": 55,
    "start_time": "2022-05-12T11:00:30.689Z"
   },
   {
    "duration": 43,
    "start_time": "2022-05-12T11:00:30.746Z"
   },
   {
    "duration": 56,
    "start_time": "2022-05-12T11:00:30.791Z"
   },
   {
    "duration": 57,
    "start_time": "2022-05-12T11:00:30.849Z"
   },
   {
    "duration": 39,
    "start_time": "2022-05-12T11:00:30.909Z"
   },
   {
    "duration": 25,
    "start_time": "2022-05-12T11:00:30.951Z"
   },
   {
    "duration": 90,
    "start_time": "2022-05-12T11:00:30.979Z"
   },
   {
    "duration": 4099,
    "start_time": "2022-05-12T11:00:31.073Z"
   },
   {
    "duration": 5,
    "start_time": "2022-05-12T11:00:35.174Z"
   },
   {
    "duration": 63,
    "start_time": "2022-05-12T11:00:35.180Z"
   },
   {
    "duration": 18,
    "start_time": "2022-05-12T11:00:35.245Z"
   },
   {
    "duration": 15,
    "start_time": "2022-05-12T11:00:35.264Z"
   },
   {
    "duration": 162,
    "start_time": "2022-05-12T11:00:35.281Z"
   },
   {
    "duration": 6,
    "start_time": "2022-05-12T11:00:35.444Z"
   },
   {
    "duration": 234,
    "start_time": "2022-05-12T11:00:35.452Z"
   },
   {
    "duration": 8,
    "start_time": "2022-05-12T11:00:35.687Z"
   },
   {
    "duration": 23634,
    "start_time": "2022-05-12T11:00:35.697Z"
   },
   {
    "duration": 11,
    "start_time": "2022-05-12T11:00:59.333Z"
   },
   {
    "duration": 7,
    "start_time": "2022-05-12T11:00:59.346Z"
   },
   {
    "duration": 8,
    "start_time": "2022-05-12T11:00:59.355Z"
   },
   {
    "duration": 115,
    "start_time": "2022-05-12T11:02:57.229Z"
   },
   {
    "duration": 1611,
    "start_time": "2022-05-12T11:04:06.128Z"
   },
   {
    "duration": 13,
    "start_time": "2022-05-12T11:04:07.741Z"
   },
   {
    "duration": 21,
    "start_time": "2022-05-12T11:04:07.756Z"
   },
   {
    "duration": 4,
    "start_time": "2022-05-12T11:04:07.779Z"
   },
   {
    "duration": 17,
    "start_time": "2022-05-12T11:04:07.785Z"
   },
   {
    "duration": 4,
    "start_time": "2022-05-12T11:04:07.804Z"
   },
   {
    "duration": 36,
    "start_time": "2022-05-12T11:04:07.810Z"
   },
   {
    "duration": 8,
    "start_time": "2022-05-12T11:04:07.848Z"
   },
   {
    "duration": 23,
    "start_time": "2022-05-12T11:04:07.858Z"
   },
   {
    "duration": 1650,
    "start_time": "2022-05-12T11:04:07.883Z"
   },
   {
    "duration": 12,
    "start_time": "2022-05-12T11:04:09.534Z"
   },
   {
    "duration": 9,
    "start_time": "2022-05-12T11:04:09.547Z"
   },
   {
    "duration": 7,
    "start_time": "2022-05-12T11:04:09.558Z"
   },
   {
    "duration": 9,
    "start_time": "2022-05-12T11:04:09.568Z"
   },
   {
    "duration": 75,
    "start_time": "2022-05-12T11:04:09.579Z"
   },
   {
    "duration": 6,
    "start_time": "2022-05-12T11:04:09.655Z"
   },
   {
    "duration": 321,
    "start_time": "2022-05-12T11:04:09.663Z"
   },
   {
    "duration": 8,
    "start_time": "2022-05-12T11:04:09.985Z"
   },
   {
    "duration": 23666,
    "start_time": "2022-05-12T11:04:09.995Z"
   },
   {
    "duration": 6,
    "start_time": "2022-05-12T11:04:33.662Z"
   },
   {
    "duration": 10,
    "start_time": "2022-05-12T11:04:33.669Z"
   },
   {
    "duration": 15,
    "start_time": "2022-05-12T11:04:33.680Z"
   },
   {
    "duration": 141,
    "start_time": "2022-05-12T13:18:04.586Z"
   },
   {
    "duration": 37,
    "start_time": "2022-05-12T13:18:43.355Z"
   },
   {
    "duration": 19,
    "start_time": "2022-05-12T13:18:52.581Z"
   },
   {
    "duration": 177,
    "start_time": "2022-05-12T13:20:36.595Z"
   },
   {
    "duration": 13,
    "start_time": "2022-05-12T13:20:58.401Z"
   },
   {
    "duration": 4691,
    "start_time": "2022-05-12T13:21:04.711Z"
   },
   {
    "duration": 5664,
    "start_time": "2022-05-12T13:22:14.600Z"
   },
   {
    "duration": 18151,
    "start_time": "2022-05-12T13:25:19.061Z"
   },
   {
    "duration": 4,
    "start_time": "2022-05-12T13:26:41.740Z"
   },
   {
    "duration": 4,
    "start_time": "2022-05-12T13:27:37.360Z"
   },
   {
    "duration": 11,
    "start_time": "2022-05-12T13:28:24.341Z"
   },
   {
    "duration": 12,
    "start_time": "2022-05-12T13:28:38.540Z"
   },
   {
    "duration": 5,
    "start_time": "2022-05-12T13:29:24.480Z"
   },
   {
    "duration": 5,
    "start_time": "2022-05-12T13:29:44.640Z"
   },
   {
    "duration": 6,
    "start_time": "2022-05-12T13:29:55.121Z"
   },
   {
    "duration": 11,
    "start_time": "2022-05-12T13:31:41.550Z"
   },
   {
    "duration": 1846,
    "start_time": "2022-05-12T13:41:45.769Z"
   },
   {
    "duration": 32,
    "start_time": "2022-05-12T13:41:47.617Z"
   },
   {
    "duration": 28,
    "start_time": "2022-05-12T13:41:47.652Z"
   },
   {
    "duration": 5,
    "start_time": "2022-05-12T13:41:47.682Z"
   },
   {
    "duration": 57,
    "start_time": "2022-05-12T13:41:47.689Z"
   },
   {
    "duration": 7,
    "start_time": "2022-05-12T13:41:47.748Z"
   },
   {
    "duration": 13,
    "start_time": "2022-05-12T13:41:47.757Z"
   },
   {
    "duration": 13,
    "start_time": "2022-05-12T13:41:47.773Z"
   },
   {
    "duration": 35,
    "start_time": "2022-05-12T13:41:47.789Z"
   },
   {
    "duration": 2668,
    "start_time": "2022-05-12T13:41:47.843Z"
   },
   {
    "duration": 7,
    "start_time": "2022-05-12T13:41:50.514Z"
   },
   {
    "duration": 23,
    "start_time": "2022-05-12T13:41:50.523Z"
   },
   {
    "duration": 23,
    "start_time": "2022-05-12T13:41:50.549Z"
   },
   {
    "duration": 22,
    "start_time": "2022-05-12T13:41:50.575Z"
   },
   {
    "duration": 163,
    "start_time": "2022-05-12T13:41:50.600Z"
   },
   {
    "duration": 7,
    "start_time": "2022-05-12T13:41:50.765Z"
   },
   {
    "duration": 1852,
    "start_time": "2022-05-12T13:44:23.640Z"
   },
   {
    "duration": 16,
    "start_time": "2022-05-12T13:44:25.494Z"
   },
   {
    "duration": 42,
    "start_time": "2022-05-12T13:44:25.513Z"
   },
   {
    "duration": 6,
    "start_time": "2022-05-12T13:44:25.557Z"
   },
   {
    "duration": 39,
    "start_time": "2022-05-12T13:44:25.566Z"
   },
   {
    "duration": 6,
    "start_time": "2022-05-12T13:44:25.607Z"
   },
   {
    "duration": 29,
    "start_time": "2022-05-12T13:44:25.615Z"
   },
   {
    "duration": 34,
    "start_time": "2022-05-12T13:44:25.646Z"
   },
   {
    "duration": 69,
    "start_time": "2022-05-12T13:44:25.682Z"
   },
   {
    "duration": 3729,
    "start_time": "2022-05-12T13:44:25.753Z"
   },
   {
    "duration": 7,
    "start_time": "2022-05-12T13:44:29.484Z"
   },
   {
    "duration": 56,
    "start_time": "2022-05-12T13:44:29.493Z"
   },
   {
    "duration": 21,
    "start_time": "2022-05-12T13:44:29.551Z"
   },
   {
    "duration": 9,
    "start_time": "2022-05-12T13:44:29.577Z"
   },
   {
    "duration": 245,
    "start_time": "2022-05-12T13:44:29.589Z"
   },
   {
    "duration": 11,
    "start_time": "2022-05-12T13:44:29.844Z"
   },
   {
    "duration": 1631,
    "start_time": "2022-05-12T13:46:31.233Z"
   },
   {
    "duration": 15,
    "start_time": "2022-05-12T13:46:32.866Z"
   },
   {
    "duration": 22,
    "start_time": "2022-05-12T13:46:32.883Z"
   },
   {
    "duration": 4,
    "start_time": "2022-05-12T13:46:32.907Z"
   },
   {
    "duration": 32,
    "start_time": "2022-05-12T13:46:32.914Z"
   },
   {
    "duration": 5,
    "start_time": "2022-05-12T13:46:32.948Z"
   },
   {
    "duration": 8,
    "start_time": "2022-05-12T13:46:32.955Z"
   },
   {
    "duration": 7,
    "start_time": "2022-05-12T13:46:32.964Z"
   },
   {
    "duration": 26,
    "start_time": "2022-05-12T13:46:32.972Z"
   },
   {
    "duration": 1653,
    "start_time": "2022-05-12T13:46:33.000Z"
   },
   {
    "duration": 5,
    "start_time": "2022-05-12T13:46:34.655Z"
   },
   {
    "duration": 7,
    "start_time": "2022-05-12T13:46:34.662Z"
   },
   {
    "duration": 6,
    "start_time": "2022-05-12T13:46:34.671Z"
   },
   {
    "duration": 10,
    "start_time": "2022-05-12T13:46:34.680Z"
   },
   {
    "duration": 177,
    "start_time": "2022-05-12T13:46:34.692Z"
   },
   {
    "duration": 7,
    "start_time": "2022-05-12T13:46:34.872Z"
   },
   {
    "duration": 1913,
    "start_time": "2022-05-12T13:47:22.783Z"
   },
   {
    "duration": 20,
    "start_time": "2022-05-12T13:47:24.699Z"
   },
   {
    "duration": 51,
    "start_time": "2022-05-12T13:47:24.721Z"
   },
   {
    "duration": 7,
    "start_time": "2022-05-12T13:47:24.780Z"
   },
   {
    "duration": 39,
    "start_time": "2022-05-12T13:47:24.793Z"
   },
   {
    "duration": 47,
    "start_time": "2022-05-12T13:47:24.835Z"
   },
   {
    "duration": 18,
    "start_time": "2022-05-12T13:47:24.885Z"
   },
   {
    "duration": 26,
    "start_time": "2022-05-12T13:47:24.905Z"
   },
   {
    "duration": 49,
    "start_time": "2022-05-12T13:47:24.933Z"
   },
   {
    "duration": 3611,
    "start_time": "2022-05-12T13:47:24.984Z"
   },
   {
    "duration": 5,
    "start_time": "2022-05-12T13:47:28.597Z"
   },
   {
    "duration": 8,
    "start_time": "2022-05-12T13:47:28.604Z"
   },
   {
    "duration": 11,
    "start_time": "2022-05-12T13:47:28.614Z"
   },
   {
    "duration": 73,
    "start_time": "2022-05-12T13:47:28.629Z"
   },
   {
    "duration": 178,
    "start_time": "2022-05-12T13:47:28.704Z"
   },
   {
    "duration": 15,
    "start_time": "2022-05-12T13:47:28.884Z"
   },
   {
    "duration": 324,
    "start_time": "2022-05-12T13:47:28.901Z"
   },
   {
    "duration": 176,
    "start_time": "2022-05-12T13:47:29.227Z"
   },
   {
    "duration": 0,
    "start_time": "2022-05-12T13:47:29.405Z"
   },
   {
    "duration": 0,
    "start_time": "2022-05-12T13:47:29.407Z"
   },
   {
    "duration": 0,
    "start_time": "2022-05-12T13:47:29.407Z"
   },
   {
    "duration": 0,
    "start_time": "2022-05-12T13:47:29.409Z"
   },
   {
    "duration": 0,
    "start_time": "2022-05-12T13:47:29.410Z"
   },
   {
    "duration": 0,
    "start_time": "2022-05-12T13:47:29.411Z"
   },
   {
    "duration": 1840,
    "start_time": "2022-05-12T13:48:40.958Z"
   },
   {
    "duration": 13,
    "start_time": "2022-05-12T13:48:42.800Z"
   },
   {
    "duration": 22,
    "start_time": "2022-05-12T13:48:42.815Z"
   },
   {
    "duration": 7,
    "start_time": "2022-05-12T13:48:42.842Z"
   },
   {
    "duration": 45,
    "start_time": "2022-05-12T13:48:42.855Z"
   },
   {
    "duration": 6,
    "start_time": "2022-05-12T13:48:42.902Z"
   },
   {
    "duration": 7,
    "start_time": "2022-05-12T13:48:42.910Z"
   },
   {
    "duration": 6,
    "start_time": "2022-05-12T13:48:42.920Z"
   },
   {
    "duration": 47,
    "start_time": "2022-05-12T13:48:42.928Z"
   },
   {
    "duration": 3095,
    "start_time": "2022-05-12T13:48:42.978Z"
   },
   {
    "duration": 12,
    "start_time": "2022-05-12T13:48:46.079Z"
   },
   {
    "duration": 9,
    "start_time": "2022-05-12T13:48:46.094Z"
   },
   {
    "duration": 8,
    "start_time": "2022-05-12T13:48:46.144Z"
   },
   {
    "duration": 47,
    "start_time": "2022-05-12T13:48:46.155Z"
   },
   {
    "duration": 377,
    "start_time": "2022-05-12T13:48:46.204Z"
   },
   {
    "duration": 12,
    "start_time": "2022-05-12T13:48:46.584Z"
   },
   {
    "duration": 505,
    "start_time": "2022-05-12T13:48:46.598Z"
   },
   {
    "duration": 357,
    "start_time": "2022-05-12T13:48:47.105Z"
   },
   {
    "duration": 0,
    "start_time": "2022-05-12T13:48:47.464Z"
   },
   {
    "duration": 0,
    "start_time": "2022-05-12T13:48:47.465Z"
   },
   {
    "duration": 0,
    "start_time": "2022-05-12T13:48:47.466Z"
   },
   {
    "duration": 0,
    "start_time": "2022-05-12T13:48:47.467Z"
   },
   {
    "duration": 0,
    "start_time": "2022-05-12T13:48:47.468Z"
   },
   {
    "duration": 0,
    "start_time": "2022-05-12T13:48:47.469Z"
   },
   {
    "duration": 1877,
    "start_time": "2022-05-12T13:49:59.084Z"
   },
   {
    "duration": 27,
    "start_time": "2022-05-12T13:50:00.964Z"
   },
   {
    "duration": 35,
    "start_time": "2022-05-12T13:50:00.993Z"
   },
   {
    "duration": 37,
    "start_time": "2022-05-12T13:50:01.030Z"
   },
   {
    "duration": 57,
    "start_time": "2022-05-12T13:50:01.068Z"
   },
   {
    "duration": 12,
    "start_time": "2022-05-12T13:50:01.127Z"
   },
   {
    "duration": 52,
    "start_time": "2022-05-12T13:50:01.144Z"
   },
   {
    "duration": 29,
    "start_time": "2022-05-12T13:50:01.198Z"
   },
   {
    "duration": 83,
    "start_time": "2022-05-12T13:50:01.229Z"
   },
   {
    "duration": 2311,
    "start_time": "2022-05-12T13:50:01.315Z"
   },
   {
    "duration": 16,
    "start_time": "2022-05-12T13:50:03.629Z"
   },
   {
    "duration": 159,
    "start_time": "2022-05-12T13:50:03.647Z"
   },
   {
    "duration": 15,
    "start_time": "2022-05-12T13:50:03.809Z"
   },
   {
    "duration": 106,
    "start_time": "2022-05-12T13:50:03.826Z"
   },
   {
    "duration": 237,
    "start_time": "2022-05-12T13:50:03.934Z"
   },
   {
    "duration": 15,
    "start_time": "2022-05-12T13:50:04.178Z"
   },
   {
    "duration": 301,
    "start_time": "2022-05-12T13:50:04.196Z"
   },
   {
    "duration": 1706,
    "start_time": "2022-05-12T15:53:01.204Z"
   },
   {
    "duration": 29,
    "start_time": "2022-05-12T15:53:02.913Z"
   },
   {
    "duration": 23,
    "start_time": "2022-05-12T15:53:02.943Z"
   },
   {
    "duration": 12,
    "start_time": "2022-05-12T15:53:02.968Z"
   },
   {
    "duration": 35,
    "start_time": "2022-05-12T15:53:02.982Z"
   },
   {
    "duration": 6,
    "start_time": "2022-05-12T15:53:03.019Z"
   },
   {
    "duration": 8,
    "start_time": "2022-05-12T15:53:03.026Z"
   },
   {
    "duration": 7,
    "start_time": "2022-05-12T15:53:03.035Z"
   },
   {
    "duration": 48,
    "start_time": "2022-05-12T15:53:03.044Z"
   },
   {
    "duration": 1620,
    "start_time": "2022-05-12T15:53:03.095Z"
   },
   {
    "duration": 6,
    "start_time": "2022-05-12T15:53:04.717Z"
   },
   {
    "duration": 7,
    "start_time": "2022-05-12T15:53:04.724Z"
   },
   {
    "duration": 4,
    "start_time": "2022-05-12T15:53:04.732Z"
   },
   {
    "duration": 33,
    "start_time": "2022-05-12T15:53:04.738Z"
   },
   {
    "duration": 136,
    "start_time": "2022-05-12T15:53:04.772Z"
   },
   {
    "duration": 6,
    "start_time": "2022-05-12T15:53:04.909Z"
   },
   {
    "duration": 224,
    "start_time": "2022-05-12T15:53:04.916Z"
   },
   {
    "duration": 135,
    "start_time": "2022-05-12T15:53:05.142Z"
   },
   {
    "duration": 0,
    "start_time": "2022-05-12T15:53:05.279Z"
   },
   {
    "duration": 0,
    "start_time": "2022-05-12T15:53:05.281Z"
   },
   {
    "duration": 0,
    "start_time": "2022-05-12T15:53:05.282Z"
   },
   {
    "duration": 0,
    "start_time": "2022-05-12T15:53:05.283Z"
   },
   {
    "duration": 0,
    "start_time": "2022-05-12T15:53:05.283Z"
   },
   {
    "duration": 0,
    "start_time": "2022-05-12T15:53:05.285Z"
   },
   {
    "duration": 5,
    "start_time": "2022-05-12T15:53:49.648Z"
   },
   {
    "duration": 6,
    "start_time": "2022-05-12T15:53:59.467Z"
   },
   {
    "duration": 1639,
    "start_time": "2022-05-12T15:54:19.383Z"
   },
   {
    "duration": 17,
    "start_time": "2022-05-12T15:54:21.024Z"
   },
   {
    "duration": 29,
    "start_time": "2022-05-12T15:54:21.043Z"
   },
   {
    "duration": 4,
    "start_time": "2022-05-12T15:54:21.075Z"
   },
   {
    "duration": 36,
    "start_time": "2022-05-12T15:54:21.080Z"
   },
   {
    "duration": 6,
    "start_time": "2022-05-12T15:54:21.117Z"
   },
   {
    "duration": 8,
    "start_time": "2022-05-12T15:54:21.125Z"
   },
   {
    "duration": 7,
    "start_time": "2022-05-12T15:54:21.134Z"
   },
   {
    "duration": 41,
    "start_time": "2022-05-12T15:54:21.142Z"
   },
   {
    "duration": 3309,
    "start_time": "2022-05-12T15:54:21.186Z"
   },
   {
    "duration": 6,
    "start_time": "2022-05-12T15:54:24.497Z"
   },
   {
    "duration": 58,
    "start_time": "2022-05-12T15:54:24.505Z"
   },
   {
    "duration": 7,
    "start_time": "2022-05-12T15:54:24.565Z"
   },
   {
    "duration": 23,
    "start_time": "2022-05-12T15:54:24.581Z"
   },
   {
    "duration": 284,
    "start_time": "2022-05-12T15:54:24.606Z"
   },
   {
    "duration": 7,
    "start_time": "2022-05-12T15:54:24.893Z"
   },
   {
    "duration": 503,
    "start_time": "2022-05-12T15:54:24.901Z"
   },
   {
    "duration": 4,
    "start_time": "2022-05-12T15:54:25.406Z"
   },
   {
    "duration": 1604,
    "start_time": "2022-05-12T15:57:36.143Z"
   },
   {
    "duration": 23,
    "start_time": "2022-05-12T15:57:37.749Z"
   },
   {
    "duration": 27,
    "start_time": "2022-05-12T15:57:37.774Z"
   },
   {
    "duration": 4,
    "start_time": "2022-05-12T15:57:37.803Z"
   },
   {
    "duration": 18,
    "start_time": "2022-05-12T15:57:37.808Z"
   },
   {
    "duration": 5,
    "start_time": "2022-05-12T15:57:37.828Z"
   },
   {
    "duration": 10,
    "start_time": "2022-05-12T15:57:37.835Z"
   },
   {
    "duration": 11,
    "start_time": "2022-05-12T15:57:37.870Z"
   },
   {
    "duration": 31,
    "start_time": "2022-05-12T15:57:37.882Z"
   },
   {
    "duration": 2855,
    "start_time": "2022-05-12T15:57:37.916Z"
   },
   {
    "duration": 7,
    "start_time": "2022-05-12T15:57:40.773Z"
   },
   {
    "duration": 19,
    "start_time": "2022-05-12T15:57:40.782Z"
   },
   {
    "duration": 5,
    "start_time": "2022-05-12T15:57:40.803Z"
   },
   {
    "duration": 9,
    "start_time": "2022-05-12T15:57:40.809Z"
   },
   {
    "duration": 169,
    "start_time": "2022-05-12T15:57:40.819Z"
   },
   {
    "duration": 8,
    "start_time": "2022-05-12T15:57:40.994Z"
   },
   {
    "duration": 279,
    "start_time": "2022-05-12T15:57:41.003Z"
   },
   {
    "duration": 6,
    "start_time": "2022-05-12T15:57:41.284Z"
   },
   {
    "duration": 1447,
    "start_time": "2022-05-12T15:57:58.896Z"
   },
   {
    "duration": 13,
    "start_time": "2022-05-12T15:58:00.345Z"
   },
   {
    "duration": 35,
    "start_time": "2022-05-12T15:58:00.359Z"
   },
   {
    "duration": 6,
    "start_time": "2022-05-12T15:58:00.396Z"
   },
   {
    "duration": 22,
    "start_time": "2022-05-12T15:58:00.404Z"
   },
   {
    "duration": 4,
    "start_time": "2022-05-12T15:58:00.428Z"
   },
   {
    "duration": 16,
    "start_time": "2022-05-12T15:58:00.433Z"
   },
   {
    "duration": 30,
    "start_time": "2022-05-12T15:58:00.451Z"
   },
   {
    "duration": 36,
    "start_time": "2022-05-12T15:58:00.483Z"
   },
   {
    "duration": 1745,
    "start_time": "2022-05-12T15:58:00.522Z"
   },
   {
    "duration": 15,
    "start_time": "2022-05-12T15:58:02.269Z"
   },
   {
    "duration": 24,
    "start_time": "2022-05-12T15:58:02.285Z"
   },
   {
    "duration": 24,
    "start_time": "2022-05-12T15:58:02.311Z"
   },
   {
    "duration": 37,
    "start_time": "2022-05-12T15:58:02.337Z"
   },
   {
    "duration": 218,
    "start_time": "2022-05-12T15:58:02.376Z"
   },
   {
    "duration": 6,
    "start_time": "2022-05-12T15:58:02.596Z"
   },
   {
    "duration": 255,
    "start_time": "2022-05-12T15:58:02.604Z"
   },
   {
    "duration": 9,
    "start_time": "2022-05-12T15:58:02.862Z"
   },
   {
    "duration": 46,
    "start_time": "2022-05-12T15:58:02.872Z"
   },
   {
    "duration": 23,
    "start_time": "2022-05-12T15:58:02.919Z"
   },
   {
    "duration": 1456,
    "start_time": "2022-05-12T15:58:23.499Z"
   },
   {
    "duration": 18,
    "start_time": "2022-05-12T15:58:24.957Z"
   },
   {
    "duration": 37,
    "start_time": "2022-05-12T15:58:24.977Z"
   },
   {
    "duration": 4,
    "start_time": "2022-05-12T15:58:25.016Z"
   },
   {
    "duration": 17,
    "start_time": "2022-05-12T15:58:25.022Z"
   },
   {
    "duration": 6,
    "start_time": "2022-05-12T15:58:25.041Z"
   },
   {
    "duration": 6,
    "start_time": "2022-05-12T15:58:25.049Z"
   },
   {
    "duration": 12,
    "start_time": "2022-05-12T15:58:25.062Z"
   },
   {
    "duration": 35,
    "start_time": "2022-05-12T15:58:25.078Z"
   },
   {
    "duration": 1593,
    "start_time": "2022-05-12T15:58:25.115Z"
   },
   {
    "duration": 4,
    "start_time": "2022-05-12T15:58:26.710Z"
   },
   {
    "duration": 7,
    "start_time": "2022-05-12T15:58:26.716Z"
   },
   {
    "duration": 6,
    "start_time": "2022-05-12T15:58:26.725Z"
   },
   {
    "duration": 6,
    "start_time": "2022-05-12T15:58:26.732Z"
   },
   {
    "duration": 168,
    "start_time": "2022-05-12T15:58:26.740Z"
   },
   {
    "duration": 6,
    "start_time": "2022-05-12T15:58:26.910Z"
   },
   {
    "duration": 279,
    "start_time": "2022-05-12T15:58:26.918Z"
   },
   {
    "duration": 5,
    "start_time": "2022-05-12T15:58:27.199Z"
   },
   {
    "duration": 11,
    "start_time": "2022-05-12T15:58:27.206Z"
   },
   {
    "duration": 10,
    "start_time": "2022-05-12T15:58:27.219Z"
   },
   {
    "duration": 25758,
    "start_time": "2022-05-12T15:58:27.231Z"
   },
   {
    "duration": 8,
    "start_time": "2022-05-12T15:58:52.991Z"
   },
   {
    "duration": 12,
    "start_time": "2022-05-12T15:58:53.000Z"
   },
   {
    "duration": 7,
    "start_time": "2022-05-12T15:58:53.014Z"
   },
   {
    "duration": 134,
    "start_time": "2022-05-12T15:58:53.024Z"
   },
   {
    "duration": 1522,
    "start_time": "2022-05-12T15:59:59.525Z"
   },
   {
    "duration": 21,
    "start_time": "2022-05-12T16:00:01.049Z"
   },
   {
    "duration": 58,
    "start_time": "2022-05-12T16:00:01.071Z"
   },
   {
    "duration": 12,
    "start_time": "2022-05-12T16:00:01.131Z"
   },
   {
    "duration": 33,
    "start_time": "2022-05-12T16:00:01.144Z"
   },
   {
    "duration": 48,
    "start_time": "2022-05-12T16:00:01.180Z"
   },
   {
    "duration": 12,
    "start_time": "2022-05-12T16:00:01.230Z"
   },
   {
    "duration": 8,
    "start_time": "2022-05-12T16:00:01.244Z"
   },
   {
    "duration": 28,
    "start_time": "2022-05-12T16:00:01.254Z"
   },
   {
    "duration": 1680,
    "start_time": "2022-05-12T16:00:01.286Z"
   },
   {
    "duration": 8,
    "start_time": "2022-05-12T16:00:02.968Z"
   },
   {
    "duration": 39,
    "start_time": "2022-05-12T16:00:02.979Z"
   },
   {
    "duration": 6,
    "start_time": "2022-05-12T16:00:03.020Z"
   },
   {
    "duration": 25,
    "start_time": "2022-05-12T16:00:03.027Z"
   },
   {
    "duration": 149,
    "start_time": "2022-05-12T16:00:03.054Z"
   },
   {
    "duration": 8,
    "start_time": "2022-05-12T16:00:03.205Z"
   },
   {
    "duration": 240,
    "start_time": "2022-05-12T16:00:03.215Z"
   },
   {
    "duration": 1646,
    "start_time": "2022-05-12T16:01:52.998Z"
   },
   {
    "duration": 13,
    "start_time": "2022-05-12T16:01:54.647Z"
   },
   {
    "duration": 35,
    "start_time": "2022-05-12T16:01:54.667Z"
   },
   {
    "duration": 16,
    "start_time": "2022-05-12T16:01:54.705Z"
   },
   {
    "duration": 19,
    "start_time": "2022-05-12T16:01:54.722Z"
   },
   {
    "duration": 4,
    "start_time": "2022-05-12T16:01:54.743Z"
   },
   {
    "duration": 10,
    "start_time": "2022-05-12T16:01:54.748Z"
   },
   {
    "duration": 7,
    "start_time": "2022-05-12T16:01:54.763Z"
   },
   {
    "duration": 62,
    "start_time": "2022-05-12T16:01:54.772Z"
   },
   {
    "duration": 2971,
    "start_time": "2022-05-12T16:01:54.838Z"
   },
   {
    "duration": 8,
    "start_time": "2022-05-12T16:01:57.811Z"
   },
   {
    "duration": 49,
    "start_time": "2022-05-12T16:01:57.820Z"
   },
   {
    "duration": 7,
    "start_time": "2022-05-12T16:01:57.871Z"
   },
   {
    "duration": 43,
    "start_time": "2022-05-12T16:01:57.880Z"
   },
   {
    "duration": 343,
    "start_time": "2022-05-12T16:01:57.925Z"
   },
   {
    "duration": 7,
    "start_time": "2022-05-12T16:01:58.270Z"
   },
   {
    "duration": 250,
    "start_time": "2022-05-12T16:01:58.287Z"
   },
   {
    "duration": 1720,
    "start_time": "2022-05-12T16:04:49.005Z"
   },
   {
    "duration": 17,
    "start_time": "2022-05-12T16:04:50.728Z"
   },
   {
    "duration": 22,
    "start_time": "2022-05-12T16:04:50.747Z"
   },
   {
    "duration": 49,
    "start_time": "2022-05-12T16:04:50.774Z"
   },
   {
    "duration": 21,
    "start_time": "2022-05-12T16:04:50.824Z"
   },
   {
    "duration": 5,
    "start_time": "2022-05-12T16:04:50.847Z"
   },
   {
    "duration": 33,
    "start_time": "2022-05-12T16:04:50.853Z"
   },
   {
    "duration": 37,
    "start_time": "2022-05-12T16:04:50.888Z"
   },
   {
    "duration": 22,
    "start_time": "2022-05-12T16:04:50.927Z"
   },
   {
    "duration": 1822,
    "start_time": "2022-05-12T16:04:50.951Z"
   },
   {
    "duration": 8,
    "start_time": "2022-05-12T16:04:52.774Z"
   },
   {
    "duration": 33,
    "start_time": "2022-05-12T16:04:52.786Z"
   },
   {
    "duration": 6,
    "start_time": "2022-05-12T16:04:52.820Z"
   },
   {
    "duration": 13,
    "start_time": "2022-05-12T16:04:52.828Z"
   },
   {
    "duration": 171,
    "start_time": "2022-05-12T16:04:52.842Z"
   },
   {
    "duration": 8,
    "start_time": "2022-05-12T16:04:53.015Z"
   },
   {
    "duration": 250,
    "start_time": "2022-05-12T16:04:53.024Z"
   },
   {
    "duration": 1543,
    "start_time": "2022-05-12T16:23:26.172Z"
   },
   {
    "duration": 15,
    "start_time": "2022-05-12T16:23:27.717Z"
   },
   {
    "duration": 25,
    "start_time": "2022-05-12T16:23:27.733Z"
   },
   {
    "duration": 4,
    "start_time": "2022-05-12T16:23:27.760Z"
   },
   {
    "duration": 23,
    "start_time": "2022-05-12T16:23:27.766Z"
   },
   {
    "duration": 22,
    "start_time": "2022-05-12T16:23:27.791Z"
   },
   {
    "duration": 9,
    "start_time": "2022-05-12T16:23:27.815Z"
   },
   {
    "duration": 15,
    "start_time": "2022-05-12T16:23:27.825Z"
   },
   {
    "duration": 29,
    "start_time": "2022-05-12T16:23:27.841Z"
   },
   {
    "duration": 1686,
    "start_time": "2022-05-12T16:23:27.872Z"
   },
   {
    "duration": 8,
    "start_time": "2022-05-12T16:23:29.561Z"
   },
   {
    "duration": 30,
    "start_time": "2022-05-12T16:23:29.571Z"
   },
   {
    "duration": 6,
    "start_time": "2022-05-12T16:23:29.602Z"
   },
   {
    "duration": 6,
    "start_time": "2022-05-12T16:23:29.611Z"
   },
   {
    "duration": 139,
    "start_time": "2022-05-12T16:23:29.618Z"
   },
   {
    "duration": 6,
    "start_time": "2022-05-12T16:23:29.758Z"
   },
   {
    "duration": 246,
    "start_time": "2022-05-12T16:23:29.766Z"
   },
   {
    "duration": 1911,
    "start_time": "2022-05-12T16:24:28.702Z"
   },
   {
    "duration": 14,
    "start_time": "2022-05-12T16:24:30.615Z"
   },
   {
    "duration": 50,
    "start_time": "2022-05-12T16:24:30.631Z"
   },
   {
    "duration": 38,
    "start_time": "2022-05-12T16:24:30.685Z"
   },
   {
    "duration": 54,
    "start_time": "2022-05-12T16:24:30.726Z"
   },
   {
    "duration": 46,
    "start_time": "2022-05-12T16:24:30.782Z"
   },
   {
    "duration": 173,
    "start_time": "2022-05-12T16:24:30.829Z"
   },
   {
    "duration": 25,
    "start_time": "2022-05-12T16:24:31.004Z"
   },
   {
    "duration": 62,
    "start_time": "2022-05-12T16:24:31.030Z"
   },
   {
    "duration": 3401,
    "start_time": "2022-05-12T16:24:31.094Z"
   },
   {
    "duration": 6,
    "start_time": "2022-05-12T16:24:34.497Z"
   },
   {
    "duration": 19,
    "start_time": "2022-05-12T16:24:34.505Z"
   },
   {
    "duration": 5,
    "start_time": "2022-05-12T16:24:34.526Z"
   },
   {
    "duration": 9,
    "start_time": "2022-05-12T16:24:34.534Z"
   },
   {
    "duration": 170,
    "start_time": "2022-05-12T16:24:34.544Z"
   },
   {
    "duration": 8,
    "start_time": "2022-05-12T16:24:34.716Z"
   },
   {
    "duration": 327,
    "start_time": "2022-05-12T16:24:34.726Z"
   },
   {
    "duration": 1671,
    "start_time": "2022-05-12T16:25:01.129Z"
   },
   {
    "duration": 13,
    "start_time": "2022-05-12T16:25:02.802Z"
   },
   {
    "duration": 34,
    "start_time": "2022-05-12T16:25:02.817Z"
   },
   {
    "duration": 49,
    "start_time": "2022-05-12T16:25:02.853Z"
   },
   {
    "duration": 46,
    "start_time": "2022-05-12T16:25:02.903Z"
   },
   {
    "duration": 21,
    "start_time": "2022-05-12T16:25:02.951Z"
   },
   {
    "duration": 40,
    "start_time": "2022-05-12T16:25:02.974Z"
   },
   {
    "duration": 22,
    "start_time": "2022-05-12T16:25:03.015Z"
   },
   {
    "duration": 38,
    "start_time": "2022-05-12T16:25:03.039Z"
   },
   {
    "duration": 3384,
    "start_time": "2022-05-12T16:25:03.079Z"
   },
   {
    "duration": 15,
    "start_time": "2022-05-12T16:25:06.466Z"
   },
   {
    "duration": 24,
    "start_time": "2022-05-12T16:25:06.483Z"
   },
   {
    "duration": 6,
    "start_time": "2022-05-12T16:25:06.509Z"
   },
   {
    "duration": 9,
    "start_time": "2022-05-12T16:25:06.516Z"
   },
   {
    "duration": 145,
    "start_time": "2022-05-12T16:25:06.526Z"
   },
   {
    "duration": 6,
    "start_time": "2022-05-12T16:25:06.677Z"
   },
   {
    "duration": 243,
    "start_time": "2022-05-12T16:25:06.685Z"
   },
   {
    "duration": 6,
    "start_time": "2022-05-12T16:25:06.930Z"
   },
   {
    "duration": 1550,
    "start_time": "2022-05-12T16:25:52.468Z"
   },
   {
    "duration": 19,
    "start_time": "2022-05-12T16:25:54.020Z"
   },
   {
    "duration": 19,
    "start_time": "2022-05-12T16:25:54.041Z"
   },
   {
    "duration": 4,
    "start_time": "2022-05-12T16:25:54.068Z"
   },
   {
    "duration": 42,
    "start_time": "2022-05-12T16:25:54.074Z"
   },
   {
    "duration": 5,
    "start_time": "2022-05-12T16:25:54.117Z"
   },
   {
    "duration": 8,
    "start_time": "2022-05-12T16:25:54.124Z"
   },
   {
    "duration": 7,
    "start_time": "2022-05-12T16:25:54.134Z"
   },
   {
    "duration": 33,
    "start_time": "2022-05-12T16:25:54.143Z"
   },
   {
    "duration": 1706,
    "start_time": "2022-05-12T16:25:54.180Z"
   },
   {
    "duration": 8,
    "start_time": "2022-05-12T16:25:55.890Z"
   },
   {
    "duration": 23,
    "start_time": "2022-05-12T16:25:55.900Z"
   },
   {
    "duration": 6,
    "start_time": "2022-05-12T16:25:55.924Z"
   },
   {
    "duration": 10,
    "start_time": "2022-05-12T16:25:55.932Z"
   },
   {
    "duration": 167,
    "start_time": "2022-05-12T16:25:55.944Z"
   },
   {
    "duration": 10,
    "start_time": "2022-05-12T16:25:56.113Z"
   },
   {
    "duration": 262,
    "start_time": "2022-05-12T16:25:56.125Z"
   },
   {
    "duration": 7,
    "start_time": "2022-05-12T16:25:56.396Z"
   },
   {
    "duration": 1793,
    "start_time": "2022-05-12T16:26:28.126Z"
   },
   {
    "duration": 14,
    "start_time": "2022-05-12T16:26:29.921Z"
   },
   {
    "duration": 21,
    "start_time": "2022-05-12T16:26:29.936Z"
   },
   {
    "duration": 7,
    "start_time": "2022-05-12T16:26:29.966Z"
   },
   {
    "duration": 23,
    "start_time": "2022-05-12T16:26:29.974Z"
   },
   {
    "duration": 17,
    "start_time": "2022-05-12T16:26:29.999Z"
   },
   {
    "duration": 24,
    "start_time": "2022-05-12T16:26:30.018Z"
   },
   {
    "duration": 26,
    "start_time": "2022-05-12T16:26:30.044Z"
   },
   {
    "duration": 47,
    "start_time": "2022-05-12T16:26:30.072Z"
   },
   {
    "duration": 1665,
    "start_time": "2022-05-12T16:26:30.123Z"
   },
   {
    "duration": 5,
    "start_time": "2022-05-12T16:26:31.790Z"
   },
   {
    "duration": 20,
    "start_time": "2022-05-12T16:26:31.797Z"
   },
   {
    "duration": 11,
    "start_time": "2022-05-12T16:26:31.819Z"
   },
   {
    "duration": 10,
    "start_time": "2022-05-12T16:26:31.832Z"
   },
   {
    "duration": 153,
    "start_time": "2022-05-12T16:26:31.843Z"
   },
   {
    "duration": 6,
    "start_time": "2022-05-12T16:26:31.998Z"
   },
   {
    "duration": 242,
    "start_time": "2022-05-12T16:26:32.006Z"
   },
   {
    "duration": 29,
    "start_time": "2022-05-12T16:26:32.249Z"
   },
   {
    "duration": 1549,
    "start_time": "2022-05-12T16:27:38.418Z"
   },
   {
    "duration": 15,
    "start_time": "2022-05-12T16:27:39.970Z"
   },
   {
    "duration": 21,
    "start_time": "2022-05-12T16:27:39.987Z"
   },
   {
    "duration": 4,
    "start_time": "2022-05-12T16:27:40.010Z"
   },
   {
    "duration": 19,
    "start_time": "2022-05-12T16:27:40.016Z"
   },
   {
    "duration": 5,
    "start_time": "2022-05-12T16:27:40.037Z"
   },
   {
    "duration": 24,
    "start_time": "2022-05-12T16:27:40.044Z"
   },
   {
    "duration": 25,
    "start_time": "2022-05-12T16:27:40.069Z"
   },
   {
    "duration": 22,
    "start_time": "2022-05-12T16:27:40.096Z"
   },
   {
    "duration": 1582,
    "start_time": "2022-05-12T16:27:40.121Z"
   },
   {
    "duration": 5,
    "start_time": "2022-05-12T16:27:41.704Z"
   },
   {
    "duration": 6,
    "start_time": "2022-05-12T16:27:41.711Z"
   },
   {
    "duration": 6,
    "start_time": "2022-05-12T16:27:41.718Z"
   },
   {
    "duration": 7,
    "start_time": "2022-05-12T16:27:41.726Z"
   },
   {
    "duration": 161,
    "start_time": "2022-05-12T16:27:41.735Z"
   },
   {
    "duration": 5,
    "start_time": "2022-05-12T16:27:41.898Z"
   },
   {
    "duration": 227,
    "start_time": "2022-05-12T16:27:41.904Z"
   },
   {
    "duration": 125,
    "start_time": "2022-05-12T16:27:42.133Z"
   },
   {
    "duration": 1,
    "start_time": "2022-05-12T16:27:42.259Z"
   },
   {
    "duration": 0,
    "start_time": "2022-05-12T16:27:42.264Z"
   },
   {
    "duration": 0,
    "start_time": "2022-05-12T16:27:42.265Z"
   },
   {
    "duration": 0,
    "start_time": "2022-05-12T16:27:42.266Z"
   },
   {
    "duration": 0,
    "start_time": "2022-05-12T16:27:42.267Z"
   },
   {
    "duration": 0,
    "start_time": "2022-05-12T16:27:42.268Z"
   },
   {
    "duration": 0,
    "start_time": "2022-05-12T16:27:42.269Z"
   },
   {
    "duration": 10,
    "start_time": "2022-05-12T16:30:33.498Z"
   },
   {
    "duration": 20,
    "start_time": "2022-05-12T16:31:47.359Z"
   },
   {
    "duration": 1803,
    "start_time": "2022-05-12T16:32:34.590Z"
   },
   {
    "duration": 33,
    "start_time": "2022-05-12T16:32:36.396Z"
   },
   {
    "duration": 21,
    "start_time": "2022-05-12T16:32:36.431Z"
   },
   {
    "duration": 5,
    "start_time": "2022-05-12T16:32:36.453Z"
   },
   {
    "duration": 75,
    "start_time": "2022-05-12T16:32:36.463Z"
   },
   {
    "duration": 6,
    "start_time": "2022-05-12T16:32:36.540Z"
   },
   {
    "duration": 9,
    "start_time": "2022-05-12T16:32:36.548Z"
   },
   {
    "duration": 59,
    "start_time": "2022-05-12T16:32:36.559Z"
   },
   {
    "duration": 27,
    "start_time": "2022-05-12T16:32:36.620Z"
   },
   {
    "duration": 3288,
    "start_time": "2022-05-12T16:32:36.649Z"
   },
   {
    "duration": 5,
    "start_time": "2022-05-12T16:32:39.939Z"
   },
   {
    "duration": 15,
    "start_time": "2022-05-12T16:32:39.946Z"
   },
   {
    "duration": 34,
    "start_time": "2022-05-12T16:32:39.964Z"
   },
   {
    "duration": 19,
    "start_time": "2022-05-12T16:32:40.001Z"
   },
   {
    "duration": 172,
    "start_time": "2022-05-12T16:32:40.022Z"
   },
   {
    "duration": 9,
    "start_time": "2022-05-12T16:32:40.196Z"
   },
   {
    "duration": 318,
    "start_time": "2022-05-12T16:32:40.207Z"
   },
   {
    "duration": 1981,
    "start_time": "2022-05-12T16:33:02.955Z"
   },
   {
    "duration": 16,
    "start_time": "2022-05-12T16:33:04.939Z"
   },
   {
    "duration": 59,
    "start_time": "2022-05-12T16:33:04.957Z"
   },
   {
    "duration": 16,
    "start_time": "2022-05-12T16:33:05.020Z"
   },
   {
    "duration": 31,
    "start_time": "2022-05-12T16:33:05.038Z"
   },
   {
    "duration": 61,
    "start_time": "2022-05-12T16:33:05.071Z"
   },
   {
    "duration": 18,
    "start_time": "2022-05-12T16:33:05.134Z"
   },
   {
    "duration": 87,
    "start_time": "2022-05-12T16:33:05.154Z"
   },
   {
    "duration": 33,
    "start_time": "2022-05-12T16:33:05.243Z"
   },
   {
    "duration": 2273,
    "start_time": "2022-05-12T16:33:05.279Z"
   },
   {
    "duration": 7,
    "start_time": "2022-05-12T16:33:07.554Z"
   },
   {
    "duration": 56,
    "start_time": "2022-05-12T16:33:07.568Z"
   },
   {
    "duration": 5,
    "start_time": "2022-05-12T16:33:07.626Z"
   },
   {
    "duration": 10,
    "start_time": "2022-05-12T16:33:07.633Z"
   },
   {
    "duration": 200,
    "start_time": "2022-05-12T16:33:07.645Z"
   },
   {
    "duration": 6,
    "start_time": "2022-05-12T16:33:07.847Z"
   },
   {
    "duration": 274,
    "start_time": "2022-05-12T16:33:07.855Z"
   },
   {
    "duration": 1887,
    "start_time": "2022-05-12T16:34:05.821Z"
   },
   {
    "duration": 21,
    "start_time": "2022-05-12T16:34:07.712Z"
   },
   {
    "duration": 28,
    "start_time": "2022-05-12T16:34:07.735Z"
   },
   {
    "duration": 5,
    "start_time": "2022-05-12T16:34:07.765Z"
   },
   {
    "duration": 72,
    "start_time": "2022-05-12T16:34:07.772Z"
   },
   {
    "duration": 6,
    "start_time": "2022-05-12T16:34:07.845Z"
   },
   {
    "duration": 8,
    "start_time": "2022-05-12T16:34:07.852Z"
   },
   {
    "duration": 10,
    "start_time": "2022-05-12T16:34:07.866Z"
   },
   {
    "duration": 59,
    "start_time": "2022-05-12T16:34:07.878Z"
   },
   {
    "duration": 2153,
    "start_time": "2022-05-12T16:34:07.940Z"
   },
   {
    "duration": 10,
    "start_time": "2022-05-12T16:34:10.099Z"
   },
   {
    "duration": 16,
    "start_time": "2022-05-12T16:34:10.111Z"
   },
   {
    "duration": 7,
    "start_time": "2022-05-12T16:34:10.129Z"
   },
   {
    "duration": 7,
    "start_time": "2022-05-12T16:34:10.138Z"
   },
   {
    "duration": 183,
    "start_time": "2022-05-12T16:34:10.146Z"
   },
   {
    "duration": 5,
    "start_time": "2022-05-12T16:34:10.331Z"
   },
   {
    "duration": 295,
    "start_time": "2022-05-12T16:34:10.338Z"
   },
   {
    "duration": 1533,
    "start_time": "2022-05-12T16:36:29.443Z"
   },
   {
    "duration": 14,
    "start_time": "2022-05-12T16:36:30.979Z"
   },
   {
    "duration": 23,
    "start_time": "2022-05-12T16:36:30.994Z"
   },
   {
    "duration": 4,
    "start_time": "2022-05-12T16:36:31.020Z"
   },
   {
    "duration": 38,
    "start_time": "2022-05-12T16:36:31.026Z"
   },
   {
    "duration": 7,
    "start_time": "2022-05-12T16:36:31.074Z"
   },
   {
    "duration": 8,
    "start_time": "2022-05-12T16:36:31.083Z"
   },
   {
    "duration": 10,
    "start_time": "2022-05-12T16:36:31.092Z"
   },
   {
    "duration": 30,
    "start_time": "2022-05-12T16:36:31.104Z"
   },
   {
    "duration": 2668,
    "start_time": "2022-05-12T16:36:31.137Z"
   },
   {
    "duration": 11,
    "start_time": "2022-05-12T16:36:33.862Z"
   },
   {
    "duration": 18,
    "start_time": "2022-05-12T16:36:33.875Z"
   },
   {
    "duration": 6,
    "start_time": "2022-05-12T16:36:33.895Z"
   },
   {
    "duration": 7,
    "start_time": "2022-05-12T16:36:33.903Z"
   },
   {
    "duration": 292,
    "start_time": "2022-05-12T16:36:33.911Z"
   },
   {
    "duration": 6,
    "start_time": "2022-05-12T16:36:34.205Z"
   },
   {
    "duration": 255,
    "start_time": "2022-05-12T16:36:34.213Z"
   },
   {
    "duration": 4,
    "start_time": "2022-05-12T16:36:34.470Z"
   },
   {
    "duration": 1529,
    "start_time": "2022-05-12T16:37:20.759Z"
   },
   {
    "duration": 13,
    "start_time": "2022-05-12T16:37:22.290Z"
   },
   {
    "duration": 23,
    "start_time": "2022-05-12T16:37:22.305Z"
   },
   {
    "duration": 4,
    "start_time": "2022-05-12T16:37:22.331Z"
   },
   {
    "duration": 38,
    "start_time": "2022-05-12T16:37:22.337Z"
   },
   {
    "duration": 8,
    "start_time": "2022-05-12T16:37:22.377Z"
   },
   {
    "duration": 11,
    "start_time": "2022-05-12T16:37:22.387Z"
   },
   {
    "duration": 6,
    "start_time": "2022-05-12T16:37:22.399Z"
   },
   {
    "duration": 20,
    "start_time": "2022-05-12T16:37:22.407Z"
   },
   {
    "duration": 1961,
    "start_time": "2022-05-12T16:37:22.430Z"
   },
   {
    "duration": 5,
    "start_time": "2022-05-12T16:37:24.393Z"
   },
   {
    "duration": 7,
    "start_time": "2022-05-12T16:37:24.400Z"
   },
   {
    "duration": 59,
    "start_time": "2022-05-12T16:37:24.409Z"
   },
   {
    "duration": 16,
    "start_time": "2022-05-12T16:37:24.471Z"
   },
   {
    "duration": 393,
    "start_time": "2022-05-12T16:37:24.489Z"
   },
   {
    "duration": 6,
    "start_time": "2022-05-12T16:37:24.884Z"
   },
   {
    "duration": 481,
    "start_time": "2022-05-12T16:37:24.891Z"
   },
   {
    "duration": 1367,
    "start_time": "2022-05-12T16:41:45.711Z"
   },
   {
    "duration": 13,
    "start_time": "2022-05-12T16:41:47.080Z"
   },
   {
    "duration": 19,
    "start_time": "2022-05-12T16:41:47.094Z"
   },
   {
    "duration": 4,
    "start_time": "2022-05-12T16:41:47.115Z"
   },
   {
    "duration": 23,
    "start_time": "2022-05-12T16:41:47.120Z"
   },
   {
    "duration": 6,
    "start_time": "2022-05-12T16:41:47.163Z"
   },
   {
    "duration": 8,
    "start_time": "2022-05-12T16:41:47.170Z"
   },
   {
    "duration": 6,
    "start_time": "2022-05-12T16:41:47.180Z"
   },
   {
    "duration": 28,
    "start_time": "2022-05-12T16:41:47.188Z"
   },
   {
    "duration": 1512,
    "start_time": "2022-05-12T16:41:47.220Z"
   },
   {
    "duration": 4,
    "start_time": "2022-05-12T16:41:48.734Z"
   },
   {
    "duration": 6,
    "start_time": "2022-05-12T16:41:48.740Z"
   },
   {
    "duration": 15,
    "start_time": "2022-05-12T16:41:48.747Z"
   },
   {
    "duration": 6,
    "start_time": "2022-05-12T16:41:48.763Z"
   },
   {
    "duration": 137,
    "start_time": "2022-05-12T16:41:48.771Z"
   },
   {
    "duration": 6,
    "start_time": "2022-05-12T16:41:48.910Z"
   },
   {
    "duration": 279,
    "start_time": "2022-05-12T16:41:48.918Z"
   },
   {
    "duration": 149,
    "start_time": "2022-05-12T16:41:49.199Z"
   },
   {
    "duration": 0,
    "start_time": "2022-05-12T16:41:49.351Z"
   },
   {
    "duration": 0,
    "start_time": "2022-05-12T16:41:49.352Z"
   },
   {
    "duration": 0,
    "start_time": "2022-05-12T16:41:49.353Z"
   },
   {
    "duration": 0,
    "start_time": "2022-05-12T16:41:49.354Z"
   },
   {
    "duration": 0,
    "start_time": "2022-05-12T16:41:49.361Z"
   },
   {
    "duration": 1416,
    "start_time": "2022-05-12T16:43:22.475Z"
   },
   {
    "duration": 14,
    "start_time": "2022-05-12T16:43:23.893Z"
   },
   {
    "duration": 22,
    "start_time": "2022-05-12T16:43:23.908Z"
   },
   {
    "duration": 4,
    "start_time": "2022-05-12T16:43:23.932Z"
   },
   {
    "duration": 34,
    "start_time": "2022-05-12T16:43:23.938Z"
   },
   {
    "duration": 5,
    "start_time": "2022-05-12T16:43:23.974Z"
   },
   {
    "duration": 9,
    "start_time": "2022-05-12T16:43:23.980Z"
   },
   {
    "duration": 7,
    "start_time": "2022-05-12T16:43:23.990Z"
   },
   {
    "duration": 22,
    "start_time": "2022-05-12T16:43:23.998Z"
   },
   {
    "duration": 1657,
    "start_time": "2022-05-12T16:43:24.022Z"
   },
   {
    "duration": 6,
    "start_time": "2022-05-12T16:43:25.681Z"
   },
   {
    "duration": 7,
    "start_time": "2022-05-12T16:43:25.688Z"
   },
   {
    "duration": 5,
    "start_time": "2022-05-12T16:43:25.697Z"
   },
   {
    "duration": 12,
    "start_time": "2022-05-12T16:43:25.703Z"
   },
   {
    "duration": 164,
    "start_time": "2022-05-12T16:43:25.717Z"
   },
   {
    "duration": 6,
    "start_time": "2022-05-12T16:43:25.883Z"
   },
   {
    "duration": 224,
    "start_time": "2022-05-12T16:43:25.891Z"
   },
   {
    "duration": 1456,
    "start_time": "2022-05-12T16:45:04.634Z"
   },
   {
    "duration": 13,
    "start_time": "2022-05-12T16:45:06.092Z"
   },
   {
    "duration": 20,
    "start_time": "2022-05-12T16:45:06.107Z"
   },
   {
    "duration": 4,
    "start_time": "2022-05-12T16:45:06.129Z"
   },
   {
    "duration": 31,
    "start_time": "2022-05-12T16:45:06.134Z"
   },
   {
    "duration": 6,
    "start_time": "2022-05-12T16:45:06.166Z"
   },
   {
    "duration": 6,
    "start_time": "2022-05-12T16:45:06.174Z"
   },
   {
    "duration": 7,
    "start_time": "2022-05-12T16:45:06.182Z"
   },
   {
    "duration": 27,
    "start_time": "2022-05-12T16:45:06.190Z"
   },
   {
    "duration": 2086,
    "start_time": "2022-05-12T16:45:06.219Z"
   },
   {
    "duration": 5,
    "start_time": "2022-05-12T16:45:08.307Z"
   },
   {
    "duration": 10,
    "start_time": "2022-05-12T16:45:08.314Z"
   },
   {
    "duration": 5,
    "start_time": "2022-05-12T16:45:08.326Z"
   },
   {
    "duration": 10,
    "start_time": "2022-05-12T16:45:08.333Z"
   },
   {
    "duration": 134,
    "start_time": "2022-05-12T16:45:08.361Z"
   },
   {
    "duration": 5,
    "start_time": "2022-05-12T16:45:08.497Z"
   },
   {
    "duration": 210,
    "start_time": "2022-05-12T16:45:08.503Z"
   },
   {
    "duration": 1559,
    "start_time": "2022-05-12T16:45:38.778Z"
   },
   {
    "duration": 14,
    "start_time": "2022-05-12T16:45:40.339Z"
   },
   {
    "duration": 21,
    "start_time": "2022-05-12T16:45:40.355Z"
   },
   {
    "duration": 4,
    "start_time": "2022-05-12T16:45:40.378Z"
   },
   {
    "duration": 24,
    "start_time": "2022-05-12T16:45:40.384Z"
   },
   {
    "duration": 6,
    "start_time": "2022-05-12T16:45:40.409Z"
   },
   {
    "duration": 8,
    "start_time": "2022-05-12T16:45:40.417Z"
   },
   {
    "duration": 39,
    "start_time": "2022-05-12T16:45:40.427Z"
   },
   {
    "duration": 32,
    "start_time": "2022-05-12T16:45:40.468Z"
   },
   {
    "duration": 1641,
    "start_time": "2022-05-12T16:45:40.503Z"
   },
   {
    "duration": 5,
    "start_time": "2022-05-12T16:45:42.145Z"
   },
   {
    "duration": 8,
    "start_time": "2022-05-12T16:45:42.152Z"
   },
   {
    "duration": 16,
    "start_time": "2022-05-12T16:45:42.162Z"
   },
   {
    "duration": 23,
    "start_time": "2022-05-12T16:45:42.180Z"
   },
   {
    "duration": 156,
    "start_time": "2022-05-12T16:45:42.206Z"
   },
   {
    "duration": 6,
    "start_time": "2022-05-12T16:45:42.364Z"
   },
   {
    "duration": 241,
    "start_time": "2022-05-12T16:45:42.372Z"
   },
   {
    "duration": 0,
    "start_time": "2022-05-12T16:48:57.376Z"
   },
   {
    "duration": 0,
    "start_time": "2022-05-12T16:48:57.378Z"
   },
   {
    "duration": 0,
    "start_time": "2022-05-12T16:48:57.379Z"
   },
   {
    "duration": 0,
    "start_time": "2022-05-12T16:48:57.381Z"
   },
   {
    "duration": 0,
    "start_time": "2022-05-12T16:48:57.382Z"
   },
   {
    "duration": 0,
    "start_time": "2022-05-12T16:48:57.385Z"
   },
   {
    "duration": 1601,
    "start_time": "2022-05-12T16:49:05.447Z"
   },
   {
    "duration": 17,
    "start_time": "2022-05-12T16:49:07.050Z"
   },
   {
    "duration": 24,
    "start_time": "2022-05-12T16:49:07.069Z"
   },
   {
    "duration": 12,
    "start_time": "2022-05-12T16:49:07.095Z"
   },
   {
    "duration": 36,
    "start_time": "2022-05-12T16:49:07.108Z"
   },
   {
    "duration": 15,
    "start_time": "2022-05-12T16:49:07.145Z"
   },
   {
    "duration": 22,
    "start_time": "2022-05-12T16:49:07.162Z"
   },
   {
    "duration": 28,
    "start_time": "2022-05-12T16:49:07.186Z"
   },
   {
    "duration": 37,
    "start_time": "2022-05-12T16:49:07.215Z"
   },
   {
    "duration": 2071,
    "start_time": "2022-05-12T16:49:07.255Z"
   },
   {
    "duration": 5,
    "start_time": "2022-05-12T16:49:09.328Z"
   },
   {
    "duration": 7,
    "start_time": "2022-05-12T16:49:09.335Z"
   },
   {
    "duration": 3,
    "start_time": "2022-05-12T16:49:09.344Z"
   },
   {
    "duration": 12,
    "start_time": "2022-05-12T16:49:09.362Z"
   },
   {
    "duration": 127,
    "start_time": "2022-05-12T16:49:09.375Z"
   },
   {
    "duration": 5,
    "start_time": "2022-05-12T16:49:09.503Z"
   },
   {
    "duration": 213,
    "start_time": "2022-05-12T16:49:09.510Z"
   },
   {
    "duration": 9152,
    "start_time": "2022-05-12T16:49:09.724Z"
   },
   {
    "duration": 0,
    "start_time": "2022-05-12T16:49:18.877Z"
   },
   {
    "duration": 0,
    "start_time": "2022-05-12T16:49:18.879Z"
   },
   {
    "duration": 0,
    "start_time": "2022-05-12T16:49:18.881Z"
   },
   {
    "duration": 0,
    "start_time": "2022-05-12T16:49:18.882Z"
   },
   {
    "duration": 0,
    "start_time": "2022-05-12T16:49:18.883Z"
   },
   {
    "duration": 1438,
    "start_time": "2022-05-12T16:51:20.726Z"
   },
   {
    "duration": 13,
    "start_time": "2022-05-12T16:51:22.166Z"
   },
   {
    "duration": 20,
    "start_time": "2022-05-12T16:51:22.181Z"
   },
   {
    "duration": 4,
    "start_time": "2022-05-12T16:51:22.204Z"
   },
   {
    "duration": 18,
    "start_time": "2022-05-12T16:51:22.210Z"
   },
   {
    "duration": 32,
    "start_time": "2022-05-12T16:51:22.230Z"
   },
   {
    "duration": 6,
    "start_time": "2022-05-12T16:51:22.264Z"
   },
   {
    "duration": 7,
    "start_time": "2022-05-12T16:51:22.272Z"
   },
   {
    "duration": 20,
    "start_time": "2022-05-12T16:51:22.281Z"
   },
   {
    "duration": 1961,
    "start_time": "2022-05-12T16:51:22.303Z"
   },
   {
    "duration": 5,
    "start_time": "2022-05-12T16:51:24.266Z"
   },
   {
    "duration": 6,
    "start_time": "2022-05-12T16:51:24.273Z"
   },
   {
    "duration": 5,
    "start_time": "2022-05-12T16:51:24.281Z"
   },
   {
    "duration": 8,
    "start_time": "2022-05-12T16:51:24.288Z"
   },
   {
    "duration": 382,
    "start_time": "2022-05-12T16:51:24.297Z"
   },
   {
    "duration": 7,
    "start_time": "2022-05-12T16:51:24.682Z"
   },
   {
    "duration": 487,
    "start_time": "2022-05-12T16:51:24.691Z"
   },
   {
    "duration": 14348,
    "start_time": "2022-05-12T16:51:25.180Z"
   },
   {
    "duration": 0,
    "start_time": "2022-05-12T16:51:39.530Z"
   },
   {
    "duration": 0,
    "start_time": "2022-05-12T16:51:39.531Z"
   },
   {
    "duration": 0,
    "start_time": "2022-05-12T16:51:39.532Z"
   },
   {
    "duration": 0,
    "start_time": "2022-05-12T16:51:39.533Z"
   },
   {
    "duration": 0,
    "start_time": "2022-05-12T16:51:39.534Z"
   },
   {
    "duration": 4,
    "start_time": "2022-05-12T16:52:08.282Z"
   },
   {
    "duration": 14314,
    "start_time": "2022-05-12T16:52:15.482Z"
   },
   {
    "duration": 8,
    "start_time": "2022-05-12T16:52:32.190Z"
   },
   {
    "duration": 1680,
    "start_time": "2022-05-12T16:55:43.448Z"
   },
   {
    "duration": 20,
    "start_time": "2022-05-12T16:55:45.131Z"
   },
   {
    "duration": 28,
    "start_time": "2022-05-12T16:55:45.153Z"
   },
   {
    "duration": 5,
    "start_time": "2022-05-12T16:55:45.183Z"
   },
   {
    "duration": 21,
    "start_time": "2022-05-12T16:55:45.190Z"
   },
   {
    "duration": 7,
    "start_time": "2022-05-12T16:55:45.213Z"
   },
   {
    "duration": 41,
    "start_time": "2022-05-12T16:55:45.221Z"
   },
   {
    "duration": 15,
    "start_time": "2022-05-12T16:55:45.264Z"
   },
   {
    "duration": 50,
    "start_time": "2022-05-12T16:55:45.281Z"
   },
   {
    "duration": 1505,
    "start_time": "2022-05-12T16:55:45.334Z"
   },
   {
    "duration": 4,
    "start_time": "2022-05-12T16:55:46.841Z"
   },
   {
    "duration": 17,
    "start_time": "2022-05-12T16:55:46.846Z"
   },
   {
    "duration": 3,
    "start_time": "2022-05-12T16:55:46.864Z"
   },
   {
    "duration": 6,
    "start_time": "2022-05-12T16:55:46.869Z"
   },
   {
    "duration": 143,
    "start_time": "2022-05-12T16:55:46.877Z"
   },
   {
    "duration": 5,
    "start_time": "2022-05-12T16:55:47.022Z"
   },
   {
    "duration": 209,
    "start_time": "2022-05-12T16:55:47.029Z"
   },
   {
    "duration": 4,
    "start_time": "2022-05-12T16:55:47.240Z"
   },
   {
    "duration": 1553,
    "start_time": "2022-05-12T16:57:40.131Z"
   },
   {
    "duration": 17,
    "start_time": "2022-05-12T16:57:41.686Z"
   },
   {
    "duration": 32,
    "start_time": "2022-05-12T16:57:41.706Z"
   },
   {
    "duration": 6,
    "start_time": "2022-05-12T16:57:41.740Z"
   },
   {
    "duration": 18,
    "start_time": "2022-05-12T16:57:41.762Z"
   },
   {
    "duration": 6,
    "start_time": "2022-05-12T16:57:41.782Z"
   },
   {
    "duration": 8,
    "start_time": "2022-05-12T16:57:41.790Z"
   },
   {
    "duration": 8,
    "start_time": "2022-05-12T16:57:41.801Z"
   },
   {
    "duration": 58,
    "start_time": "2022-05-12T16:57:41.811Z"
   },
   {
    "duration": 1928,
    "start_time": "2022-05-12T16:57:41.872Z"
   },
   {
    "duration": 7,
    "start_time": "2022-05-12T16:57:43.802Z"
   },
   {
    "duration": 9,
    "start_time": "2022-05-12T16:57:43.811Z"
   },
   {
    "duration": 8,
    "start_time": "2022-05-12T16:57:43.822Z"
   },
   {
    "duration": 36,
    "start_time": "2022-05-12T16:57:43.832Z"
   },
   {
    "duration": 152,
    "start_time": "2022-05-12T16:57:43.870Z"
   },
   {
    "duration": 8,
    "start_time": "2022-05-12T16:57:44.024Z"
   },
   {
    "duration": 379,
    "start_time": "2022-05-12T16:57:44.034Z"
   },
   {
    "duration": 5,
    "start_time": "2022-05-12T16:57:44.416Z"
   },
   {
    "duration": 41116,
    "start_time": "2022-05-12T16:57:44.424Z"
   },
   {
    "duration": 8,
    "start_time": "2022-05-12T16:58:25.542Z"
   },
   {
    "duration": 21832,
    "start_time": "2022-05-12T16:58:25.551Z"
   },
   {
    "duration": 5,
    "start_time": "2022-05-12T16:58:47.385Z"
   },
   {
    "duration": 8,
    "start_time": "2022-05-12T16:58:47.392Z"
   },
   {
    "duration": 7,
    "start_time": "2022-05-12T16:58:47.401Z"
   },
   {
    "duration": 4,
    "start_time": "2022-05-12T17:02:33.845Z"
   },
   {
    "duration": 1916,
    "start_time": "2022-05-12T17:02:39.546Z"
   },
   {
    "duration": 18,
    "start_time": "2022-05-12T17:02:41.464Z"
   },
   {
    "duration": 28,
    "start_time": "2022-05-12T17:02:41.484Z"
   },
   {
    "duration": 11,
    "start_time": "2022-05-12T17:02:41.567Z"
   },
   {
    "duration": 23,
    "start_time": "2022-05-12T17:02:41.579Z"
   },
   {
    "duration": 6,
    "start_time": "2022-05-12T17:02:41.603Z"
   },
   {
    "duration": 57,
    "start_time": "2022-05-12T17:02:41.610Z"
   },
   {
    "duration": 15,
    "start_time": "2022-05-12T17:02:41.668Z"
   },
   {
    "duration": 21,
    "start_time": "2022-05-12T17:02:41.685Z"
   },
   {
    "duration": 1801,
    "start_time": "2022-05-12T17:02:41.708Z"
   },
   {
    "duration": 5,
    "start_time": "2022-05-12T17:02:43.511Z"
   },
   {
    "duration": 6,
    "start_time": "2022-05-12T17:02:43.518Z"
   },
   {
    "duration": 6,
    "start_time": "2022-05-12T17:02:43.525Z"
   },
   {
    "duration": 34,
    "start_time": "2022-05-12T17:02:43.532Z"
   },
   {
    "duration": 143,
    "start_time": "2022-05-12T17:02:43.568Z"
   },
   {
    "duration": 5,
    "start_time": "2022-05-12T17:02:43.713Z"
   },
   {
    "duration": 220,
    "start_time": "2022-05-12T17:02:43.720Z"
   },
   {
    "duration": 4,
    "start_time": "2022-05-12T17:02:43.941Z"
   },
   {
    "duration": 39979,
    "start_time": "2022-05-12T17:02:43.947Z"
   },
   {
    "duration": 8,
    "start_time": "2022-05-12T17:03:23.927Z"
   },
   {
    "duration": 1425,
    "start_time": "2022-05-12T17:03:31.050Z"
   },
   {
    "duration": 13,
    "start_time": "2022-05-12T17:03:32.477Z"
   },
   {
    "duration": 34,
    "start_time": "2022-05-12T17:03:32.492Z"
   },
   {
    "duration": 4,
    "start_time": "2022-05-12T17:03:32.528Z"
   },
   {
    "duration": 35,
    "start_time": "2022-05-12T17:03:32.534Z"
   },
   {
    "duration": 11,
    "start_time": "2022-05-12T17:03:32.571Z"
   },
   {
    "duration": 27,
    "start_time": "2022-05-12T17:03:32.584Z"
   },
   {
    "duration": 24,
    "start_time": "2022-05-12T17:03:32.613Z"
   },
   {
    "duration": 27,
    "start_time": "2022-05-12T17:03:32.638Z"
   },
   {
    "duration": 1420,
    "start_time": "2022-05-12T17:03:32.667Z"
   },
   {
    "duration": 4,
    "start_time": "2022-05-12T17:03:34.089Z"
   },
   {
    "duration": 8,
    "start_time": "2022-05-12T17:03:34.095Z"
   },
   {
    "duration": 10,
    "start_time": "2022-05-12T17:03:34.105Z"
   },
   {
    "duration": 6,
    "start_time": "2022-05-12T17:03:34.117Z"
   },
   {
    "duration": 151,
    "start_time": "2022-05-12T17:03:34.125Z"
   },
   {
    "duration": 6,
    "start_time": "2022-05-12T17:03:34.278Z"
   },
   {
    "duration": 220,
    "start_time": "2022-05-12T17:03:34.285Z"
   },
   {
    "duration": 4,
    "start_time": "2022-05-12T17:03:34.507Z"
   },
   {
    "duration": 45565,
    "start_time": "2022-05-12T17:03:34.512Z"
   },
   {
    "duration": 7,
    "start_time": "2022-05-12T17:04:20.079Z"
   },
   {
    "duration": 23118,
    "start_time": "2022-05-12T17:04:20.088Z"
   },
   {
    "duration": 5,
    "start_time": "2022-05-12T17:04:43.208Z"
   },
   {
    "duration": 5,
    "start_time": "2022-05-12T17:04:43.215Z"
   },
   {
    "duration": 5,
    "start_time": "2022-05-12T17:04:43.222Z"
   },
   {
    "duration": 4,
    "start_time": "2022-05-12T17:04:57.858Z"
   },
   {
    "duration": 40337,
    "start_time": "2022-05-12T17:05:14.893Z"
   },
   {
    "duration": 0,
    "start_time": "2022-05-12T17:07:13.753Z"
   },
   {
    "duration": 0,
    "start_time": "2022-05-12T17:07:13.754Z"
   },
   {
    "duration": 1449,
    "start_time": "2022-05-12T17:08:10.982Z"
   },
   {
    "duration": 13,
    "start_time": "2022-05-12T17:08:12.433Z"
   },
   {
    "duration": 22,
    "start_time": "2022-05-12T17:08:12.448Z"
   },
   {
    "duration": 4,
    "start_time": "2022-05-12T17:08:12.472Z"
   },
   {
    "duration": 17,
    "start_time": "2022-05-12T17:08:12.479Z"
   },
   {
    "duration": 5,
    "start_time": "2022-05-12T17:08:12.497Z"
   },
   {
    "duration": 9,
    "start_time": "2022-05-12T17:08:12.503Z"
   },
   {
    "duration": 7,
    "start_time": "2022-05-12T17:08:12.513Z"
   },
   {
    "duration": 61,
    "start_time": "2022-05-12T17:08:12.521Z"
   },
   {
    "duration": 1484,
    "start_time": "2022-05-12T17:08:12.585Z"
   },
   {
    "duration": 6,
    "start_time": "2022-05-12T17:08:14.071Z"
   },
   {
    "duration": 9,
    "start_time": "2022-05-12T17:08:14.078Z"
   },
   {
    "duration": 5,
    "start_time": "2022-05-12T17:08:14.089Z"
   },
   {
    "duration": 8,
    "start_time": "2022-05-12T17:08:14.096Z"
   },
   {
    "duration": 157,
    "start_time": "2022-05-12T17:08:14.105Z"
   },
   {
    "duration": 7,
    "start_time": "2022-05-12T17:08:14.264Z"
   },
   {
    "duration": 226,
    "start_time": "2022-05-12T17:08:14.272Z"
   },
   {
    "duration": 3,
    "start_time": "2022-05-12T17:08:14.500Z"
   },
   {
    "duration": 121,
    "start_time": "2022-05-12T17:08:14.505Z"
   },
   {
    "duration": 0,
    "start_time": "2022-05-12T17:08:14.628Z"
   },
   {
    "duration": 0,
    "start_time": "2022-05-12T17:08:14.628Z"
   },
   {
    "duration": 0,
    "start_time": "2022-05-12T17:08:14.630Z"
   },
   {
    "duration": 0,
    "start_time": "2022-05-12T17:08:14.631Z"
   },
   {
    "duration": 0,
    "start_time": "2022-05-12T17:08:14.632Z"
   },
   {
    "duration": 1551,
    "start_time": "2022-05-12T17:09:02.473Z"
   },
   {
    "duration": 14,
    "start_time": "2022-05-12T17:09:04.025Z"
   },
   {
    "duration": 18,
    "start_time": "2022-05-12T17:09:04.041Z"
   },
   {
    "duration": 4,
    "start_time": "2022-05-12T17:09:04.061Z"
   },
   {
    "duration": 18,
    "start_time": "2022-05-12T17:09:04.067Z"
   },
   {
    "duration": 4,
    "start_time": "2022-05-12T17:09:04.087Z"
   },
   {
    "duration": 6,
    "start_time": "2022-05-12T17:09:04.093Z"
   },
   {
    "duration": 6,
    "start_time": "2022-05-12T17:09:04.101Z"
   },
   {
    "duration": 21,
    "start_time": "2022-05-12T17:09:04.108Z"
   },
   {
    "duration": 1463,
    "start_time": "2022-05-12T17:09:04.163Z"
   },
   {
    "duration": 5,
    "start_time": "2022-05-12T17:09:05.628Z"
   },
   {
    "duration": 6,
    "start_time": "2022-05-12T17:09:05.634Z"
   },
   {
    "duration": 7,
    "start_time": "2022-05-12T17:09:05.642Z"
   },
   {
    "duration": 6,
    "start_time": "2022-05-12T17:09:05.661Z"
   },
   {
    "duration": 136,
    "start_time": "2022-05-12T17:09:05.668Z"
   },
   {
    "duration": 6,
    "start_time": "2022-05-12T17:09:05.805Z"
   },
   {
    "duration": 205,
    "start_time": "2022-05-12T17:09:05.812Z"
   },
   {
    "duration": 3,
    "start_time": "2022-05-12T17:09:06.018Z"
   },
   {
    "duration": 308155,
    "start_time": "2022-05-12T17:09:06.023Z"
   },
   {
    "duration": 10,
    "start_time": "2022-05-12T17:14:14.180Z"
   },
   {
    "duration": 21199,
    "start_time": "2022-05-12T17:14:14.191Z"
   },
   {
    "duration": 6,
    "start_time": "2022-05-12T17:14:35.392Z"
   },
   {
    "duration": 8,
    "start_time": "2022-05-12T17:14:35.400Z"
   },
   {
    "duration": 10,
    "start_time": "2022-05-12T17:14:35.410Z"
   },
   {
    "duration": 103,
    "start_time": "2022-05-12T17:14:51.739Z"
   },
   {
    "duration": 12,
    "start_time": "2022-05-12T17:15:01.387Z"
   },
   {
    "duration": 13,
    "start_time": "2022-05-12T17:16:06.782Z"
   },
   {
    "duration": 19,
    "start_time": "2022-05-12T17:17:11.616Z"
   },
   {
    "duration": 20,
    "start_time": "2022-05-12T17:17:28.427Z"
   },
   {
    "duration": 3402,
    "start_time": "2022-05-12T17:19:24.490Z"
   },
   {
    "duration": 25,
    "start_time": "2022-05-12T17:20:02.450Z"
   },
   {
    "duration": 943,
    "start_time": "2022-05-12T17:20:27.230Z"
   },
   {
    "duration": 11,
    "start_time": "2022-05-12T17:20:30.854Z"
   },
   {
    "duration": 3127,
    "start_time": "2022-05-12T17:20:55.560Z"
   },
   {
    "duration": 19,
    "start_time": "2022-05-12T17:20:58.689Z"
   },
   {
    "duration": 6,
    "start_time": "2022-05-12T17:21:55.753Z"
   },
   {
    "duration": 1555,
    "start_time": "2022-05-12T17:22:14.575Z"
   },
   {
    "duration": 18,
    "start_time": "2022-05-12T17:22:16.132Z"
   },
   {
    "duration": 22,
    "start_time": "2022-05-12T17:22:16.152Z"
   },
   {
    "duration": 8,
    "start_time": "2022-05-12T17:22:16.176Z"
   },
   {
    "duration": 21,
    "start_time": "2022-05-12T17:22:16.185Z"
   },
   {
    "duration": 5,
    "start_time": "2022-05-12T17:22:16.208Z"
   },
   {
    "duration": 8,
    "start_time": "2022-05-12T17:22:16.214Z"
   },
   {
    "duration": 6,
    "start_time": "2022-05-12T17:22:16.224Z"
   },
   {
    "duration": 55,
    "start_time": "2022-05-12T17:22:16.231Z"
   },
   {
    "duration": 1664,
    "start_time": "2022-05-12T17:22:16.289Z"
   },
   {
    "duration": 11,
    "start_time": "2022-05-12T17:22:17.956Z"
   },
   {
    "duration": 16,
    "start_time": "2022-05-12T17:22:17.969Z"
   },
   {
    "duration": 12,
    "start_time": "2022-05-12T17:22:17.986Z"
   },
   {
    "duration": 7,
    "start_time": "2022-05-12T17:22:18.000Z"
   },
   {
    "duration": 136,
    "start_time": "2022-05-12T17:22:18.009Z"
   },
   {
    "duration": 5,
    "start_time": "2022-05-12T17:22:18.147Z"
   },
   {
    "duration": 228,
    "start_time": "2022-05-12T17:22:18.154Z"
   },
   {
    "duration": 8,
    "start_time": "2022-05-12T17:22:18.384Z"
   },
   {
    "duration": 5005,
    "start_time": "2022-05-12T17:22:18.394Z"
   },
   {
    "duration": 27,
    "start_time": "2022-05-12T17:22:23.401Z"
   },
   {
    "duration": 1541,
    "start_time": "2022-05-12T17:24:08.990Z"
   },
   {
    "duration": 13,
    "start_time": "2022-05-12T17:24:10.532Z"
   },
   {
    "duration": 24,
    "start_time": "2022-05-12T17:24:10.547Z"
   },
   {
    "duration": 4,
    "start_time": "2022-05-12T17:24:10.573Z"
   },
   {
    "duration": 17,
    "start_time": "2022-05-12T17:24:10.579Z"
   },
   {
    "duration": 6,
    "start_time": "2022-05-12T17:24:10.598Z"
   },
   {
    "duration": 6,
    "start_time": "2022-05-12T17:24:10.606Z"
   },
   {
    "duration": 6,
    "start_time": "2022-05-12T17:24:10.614Z"
   },
   {
    "duration": 60,
    "start_time": "2022-05-12T17:24:10.622Z"
   },
   {
    "duration": 1807,
    "start_time": "2022-05-12T17:24:10.685Z"
   },
   {
    "duration": 5,
    "start_time": "2022-05-12T17:24:12.494Z"
   },
   {
    "duration": 7,
    "start_time": "2022-05-12T17:24:12.501Z"
   },
   {
    "duration": 5,
    "start_time": "2022-05-12T17:24:12.562Z"
   },
   {
    "duration": 12,
    "start_time": "2022-05-12T17:24:12.571Z"
   },
   {
    "duration": 297,
    "start_time": "2022-05-12T17:24:12.584Z"
   },
   {
    "duration": 7,
    "start_time": "2022-05-12T17:24:12.883Z"
   },
   {
    "duration": 601,
    "start_time": "2022-05-12T17:24:12.891Z"
   },
   {
    "duration": 10,
    "start_time": "2022-05-12T17:24:13.494Z"
   },
   {
    "duration": 3909,
    "start_time": "2022-05-12T17:24:13.506Z"
   },
   {
    "duration": 19,
    "start_time": "2022-05-12T17:24:17.417Z"
   },
   {
    "duration": 1975,
    "start_time": "2022-05-12T17:27:20.691Z"
   },
   {
    "duration": 22,
    "start_time": "2022-05-12T17:27:22.671Z"
   },
   {
    "duration": 20,
    "start_time": "2022-05-12T17:27:22.695Z"
   },
   {
    "duration": 49,
    "start_time": "2022-05-12T17:27:22.717Z"
   },
   {
    "duration": 23,
    "start_time": "2022-05-12T17:27:22.771Z"
   },
   {
    "duration": 13,
    "start_time": "2022-05-12T17:27:22.795Z"
   },
   {
    "duration": 61,
    "start_time": "2022-05-12T17:27:22.810Z"
   },
   {
    "duration": 10,
    "start_time": "2022-05-12T17:27:22.872Z"
   },
   {
    "duration": 22,
    "start_time": "2022-05-12T17:27:22.884Z"
   },
   {
    "duration": 2138,
    "start_time": "2022-05-12T17:27:22.908Z"
   },
   {
    "duration": 5,
    "start_time": "2022-05-12T17:27:25.048Z"
   },
   {
    "duration": 15,
    "start_time": "2022-05-12T17:27:25.054Z"
   },
   {
    "duration": 18,
    "start_time": "2022-05-12T17:27:25.070Z"
   },
   {
    "duration": 11,
    "start_time": "2022-05-12T17:27:25.090Z"
   },
   {
    "duration": 174,
    "start_time": "2022-05-12T17:27:25.103Z"
   },
   {
    "duration": 7,
    "start_time": "2022-05-12T17:27:25.278Z"
   },
   {
    "duration": 260,
    "start_time": "2022-05-12T17:27:25.287Z"
   },
   {
    "duration": 14,
    "start_time": "2022-05-12T17:27:25.549Z"
   },
   {
    "duration": 3418,
    "start_time": "2022-05-12T17:27:25.564Z"
   },
   {
    "duration": 13,
    "start_time": "2022-05-12T17:27:28.983Z"
   },
   {
    "duration": 1804,
    "start_time": "2022-05-12T17:28:45.039Z"
   },
   {
    "duration": 17,
    "start_time": "2022-05-12T17:28:46.845Z"
   },
   {
    "duration": 27,
    "start_time": "2022-05-12T17:28:46.864Z"
   },
   {
    "duration": 4,
    "start_time": "2022-05-12T17:28:46.893Z"
   },
   {
    "duration": 21,
    "start_time": "2022-05-12T17:28:46.899Z"
   },
   {
    "duration": 56,
    "start_time": "2022-05-12T17:28:46.921Z"
   },
   {
    "duration": 11,
    "start_time": "2022-05-12T17:28:46.981Z"
   },
   {
    "duration": 8,
    "start_time": "2022-05-12T17:28:46.994Z"
   },
   {
    "duration": 73,
    "start_time": "2022-05-12T17:28:47.004Z"
   },
   {
    "duration": 3421,
    "start_time": "2022-05-12T17:28:47.079Z"
   },
   {
    "duration": 5,
    "start_time": "2022-05-12T17:28:50.502Z"
   },
   {
    "duration": 7,
    "start_time": "2022-05-12T17:28:50.509Z"
   },
   {
    "duration": 7,
    "start_time": "2022-05-12T17:28:50.518Z"
   },
   {
    "duration": 16,
    "start_time": "2022-05-12T17:28:50.528Z"
   },
   {
    "duration": 189,
    "start_time": "2022-05-12T17:28:50.546Z"
   },
   {
    "duration": 7,
    "start_time": "2022-05-12T17:28:50.737Z"
   },
   {
    "duration": 307,
    "start_time": "2022-05-12T17:28:50.745Z"
   },
   {
    "duration": 9,
    "start_time": "2022-05-12T17:28:51.061Z"
   },
   {
    "duration": 38123,
    "start_time": "2022-05-12T17:28:51.072Z"
   },
   {
    "duration": 157,
    "start_time": "2022-05-12T17:29:29.197Z"
   },
   {
    "duration": 1500,
    "start_time": "2022-05-12T17:31:11.673Z"
   },
   {
    "duration": 18,
    "start_time": "2022-05-12T17:31:13.177Z"
   },
   {
    "duration": 27,
    "start_time": "2022-05-12T17:31:13.196Z"
   },
   {
    "duration": 15,
    "start_time": "2022-05-12T17:31:13.225Z"
   },
   {
    "duration": 33,
    "start_time": "2022-05-12T17:31:13.242Z"
   },
   {
    "duration": 7,
    "start_time": "2022-05-12T17:31:13.277Z"
   },
   {
    "duration": 16,
    "start_time": "2022-05-12T17:31:13.286Z"
   },
   {
    "duration": 19,
    "start_time": "2022-05-12T17:31:13.304Z"
   },
   {
    "duration": 27,
    "start_time": "2022-05-12T17:31:13.325Z"
   },
   {
    "duration": 1533,
    "start_time": "2022-05-12T17:31:13.355Z"
   },
   {
    "duration": 5,
    "start_time": "2022-05-12T17:31:14.889Z"
   },
   {
    "duration": 7,
    "start_time": "2022-05-12T17:31:14.895Z"
   },
   {
    "duration": 5,
    "start_time": "2022-05-12T17:31:14.903Z"
   },
   {
    "duration": 7,
    "start_time": "2022-05-12T17:31:14.910Z"
   },
   {
    "duration": 153,
    "start_time": "2022-05-12T17:31:14.918Z"
   },
   {
    "duration": 7,
    "start_time": "2022-05-12T17:31:15.072Z"
   },
   {
    "duration": 217,
    "start_time": "2022-05-12T17:31:15.080Z"
   },
   {
    "duration": 9,
    "start_time": "2022-05-12T17:31:15.299Z"
   },
   {
    "duration": 1546,
    "start_time": "2022-05-12T17:31:42.902Z"
   },
   {
    "duration": 17,
    "start_time": "2022-05-12T17:31:44.450Z"
   },
   {
    "duration": 27,
    "start_time": "2022-05-12T17:31:44.469Z"
   },
   {
    "duration": 5,
    "start_time": "2022-05-12T17:31:44.499Z"
   },
   {
    "duration": 20,
    "start_time": "2022-05-12T17:31:44.505Z"
   },
   {
    "duration": 5,
    "start_time": "2022-05-12T17:31:44.526Z"
   },
   {
    "duration": 34,
    "start_time": "2022-05-12T17:31:44.533Z"
   },
   {
    "duration": 20,
    "start_time": "2022-05-12T17:31:44.570Z"
   },
   {
    "duration": 22,
    "start_time": "2022-05-12T17:31:44.592Z"
   },
   {
    "duration": 1764,
    "start_time": "2022-05-12T17:31:44.617Z"
   },
   {
    "duration": 9,
    "start_time": "2022-05-12T17:31:46.383Z"
   },
   {
    "duration": 8,
    "start_time": "2022-05-12T17:31:46.393Z"
   },
   {
    "duration": 15,
    "start_time": "2022-05-12T17:31:46.402Z"
   },
   {
    "duration": 6,
    "start_time": "2022-05-12T17:31:46.419Z"
   },
   {
    "duration": 137,
    "start_time": "2022-05-12T17:31:46.427Z"
   },
   {
    "duration": 6,
    "start_time": "2022-05-12T17:31:46.568Z"
   },
   {
    "duration": 215,
    "start_time": "2022-05-12T17:31:46.576Z"
   },
   {
    "duration": 7,
    "start_time": "2022-05-12T17:31:46.792Z"
   },
   {
    "duration": 5,
    "start_time": "2022-05-12T17:31:46.801Z"
   },
   {
    "duration": 37832,
    "start_time": "2022-05-12T17:31:46.807Z"
   },
   {
    "duration": 112,
    "start_time": "2022-05-12T17:32:24.641Z"
   },
   {
    "duration": 1454,
    "start_time": "2022-05-12T17:34:20.561Z"
   },
   {
    "duration": 14,
    "start_time": "2022-05-12T17:34:22.017Z"
   },
   {
    "duration": 21,
    "start_time": "2022-05-12T17:34:22.032Z"
   },
   {
    "duration": 4,
    "start_time": "2022-05-12T17:34:22.055Z"
   },
   {
    "duration": 34,
    "start_time": "2022-05-12T17:34:22.062Z"
   },
   {
    "duration": 5,
    "start_time": "2022-05-12T17:34:22.098Z"
   },
   {
    "duration": 5,
    "start_time": "2022-05-12T17:34:22.105Z"
   },
   {
    "duration": 6,
    "start_time": "2022-05-12T17:34:22.112Z"
   },
   {
    "duration": 20,
    "start_time": "2022-05-12T17:34:22.119Z"
   },
   {
    "duration": 1684,
    "start_time": "2022-05-12T17:34:22.142Z"
   },
   {
    "duration": 5,
    "start_time": "2022-05-12T17:34:23.828Z"
   },
   {
    "duration": 9,
    "start_time": "2022-05-12T17:34:23.834Z"
   },
   {
    "duration": 32,
    "start_time": "2022-05-12T17:34:23.844Z"
   },
   {
    "duration": 9,
    "start_time": "2022-05-12T17:34:23.878Z"
   },
   {
    "duration": 133,
    "start_time": "2022-05-12T17:34:23.888Z"
   },
   {
    "duration": 6,
    "start_time": "2022-05-12T17:34:24.023Z"
   },
   {
    "duration": 285,
    "start_time": "2022-05-12T17:34:24.030Z"
   },
   {
    "duration": 7,
    "start_time": "2022-05-12T17:34:24.317Z"
   },
   {
    "duration": 6,
    "start_time": "2022-05-12T17:34:24.326Z"
   },
   {
    "duration": 38673,
    "start_time": "2022-05-12T17:34:24.333Z"
   },
   {
    "duration": 147,
    "start_time": "2022-05-12T17:35:03.007Z"
   },
   {
    "duration": 1452,
    "start_time": "2022-05-12T17:37:18.687Z"
   },
   {
    "duration": 13,
    "start_time": "2022-05-12T17:37:20.141Z"
   },
   {
    "duration": 28,
    "start_time": "2022-05-12T17:37:20.155Z"
   },
   {
    "duration": 4,
    "start_time": "2022-05-12T17:37:20.185Z"
   },
   {
    "duration": 21,
    "start_time": "2022-05-12T17:37:20.190Z"
   },
   {
    "duration": 8,
    "start_time": "2022-05-12T17:37:20.213Z"
   },
   {
    "duration": 10,
    "start_time": "2022-05-12T17:37:20.222Z"
   },
   {
    "duration": 34,
    "start_time": "2022-05-12T17:37:20.233Z"
   },
   {
    "duration": 26,
    "start_time": "2022-05-12T17:37:20.269Z"
   },
   {
    "duration": 1560,
    "start_time": "2022-05-12T17:37:20.298Z"
   },
   {
    "duration": 10,
    "start_time": "2022-05-12T17:37:21.863Z"
   },
   {
    "duration": 15,
    "start_time": "2022-05-12T17:37:21.874Z"
   },
   {
    "duration": 9,
    "start_time": "2022-05-12T17:37:21.890Z"
   },
   {
    "duration": 9,
    "start_time": "2022-05-12T17:37:21.900Z"
   },
   {
    "duration": 138,
    "start_time": "2022-05-12T17:37:21.910Z"
   },
   {
    "duration": 5,
    "start_time": "2022-05-12T17:37:22.050Z"
   },
   {
    "duration": 225,
    "start_time": "2022-05-12T17:37:22.063Z"
   },
   {
    "duration": 8,
    "start_time": "2022-05-12T17:37:22.290Z"
   },
   {
    "duration": 4,
    "start_time": "2022-05-12T17:37:22.299Z"
   },
   {
    "duration": 32498,
    "start_time": "2022-05-12T17:37:22.304Z"
   },
   {
    "duration": 104,
    "start_time": "2022-05-12T17:37:54.804Z"
   },
   {
    "duration": 3,
    "start_time": "2022-05-12T17:37:54.910Z"
   },
   {
    "duration": 1422,
    "start_time": "2022-05-12T17:49:17.614Z"
   },
   {
    "duration": 13,
    "start_time": "2022-05-12T17:49:19.038Z"
   },
   {
    "duration": 24,
    "start_time": "2022-05-12T17:49:19.053Z"
   },
   {
    "duration": 4,
    "start_time": "2022-05-12T17:49:19.079Z"
   },
   {
    "duration": 16,
    "start_time": "2022-05-12T17:49:19.085Z"
   },
   {
    "duration": 5,
    "start_time": "2022-05-12T17:49:19.103Z"
   },
   {
    "duration": 9,
    "start_time": "2022-05-12T17:49:19.110Z"
   },
   {
    "duration": 7,
    "start_time": "2022-05-12T17:49:19.121Z"
   },
   {
    "duration": 52,
    "start_time": "2022-05-12T17:49:19.129Z"
   },
   {
    "duration": 2244,
    "start_time": "2022-05-12T17:49:19.185Z"
   },
   {
    "duration": 6,
    "start_time": "2022-05-12T17:49:21.431Z"
   },
   {
    "duration": 11,
    "start_time": "2022-05-12T17:49:21.439Z"
   },
   {
    "duration": 12,
    "start_time": "2022-05-12T17:49:21.451Z"
   },
   {
    "duration": 7,
    "start_time": "2022-05-12T17:49:21.465Z"
   },
   {
    "duration": 142,
    "start_time": "2022-05-12T17:49:21.474Z"
   },
   {
    "duration": 5,
    "start_time": "2022-05-12T17:49:21.617Z"
   },
   {
    "duration": 204,
    "start_time": "2022-05-12T17:49:21.623Z"
   },
   {
    "duration": 7,
    "start_time": "2022-05-12T17:49:21.828Z"
   },
   {
    "duration": 3,
    "start_time": "2022-05-12T17:49:21.837Z"
   },
   {
    "duration": 86,
    "start_time": "2022-05-12T17:49:56.541Z"
   },
   {
    "duration": 109,
    "start_time": "2022-05-12T17:49:56.628Z"
   },
   {
    "duration": 0,
    "start_time": "2022-05-12T17:49:56.739Z"
   },
   {
    "duration": 0,
    "start_time": "2022-05-12T17:49:56.740Z"
   },
   {
    "duration": 0,
    "start_time": "2022-05-12T17:49:56.741Z"
   },
   {
    "duration": 0,
    "start_time": "2022-05-12T17:49:56.742Z"
   },
   {
    "duration": 0,
    "start_time": "2022-05-12T17:49:56.743Z"
   },
   {
    "duration": 0,
    "start_time": "2022-05-12T17:49:56.744Z"
   },
   {
    "duration": 0,
    "start_time": "2022-05-12T17:49:56.745Z"
   },
   {
    "duration": 0,
    "start_time": "2022-05-12T17:49:56.746Z"
   },
   {
    "duration": 1469,
    "start_time": "2022-05-12T17:50:00.594Z"
   },
   {
    "duration": 14,
    "start_time": "2022-05-12T17:50:02.064Z"
   },
   {
    "duration": 22,
    "start_time": "2022-05-12T17:50:02.079Z"
   },
   {
    "duration": 3,
    "start_time": "2022-05-12T17:50:02.103Z"
   },
   {
    "duration": 33,
    "start_time": "2022-05-12T17:50:02.108Z"
   },
   {
    "duration": 22,
    "start_time": "2022-05-12T17:50:02.143Z"
   },
   {
    "duration": 18,
    "start_time": "2022-05-12T17:50:02.166Z"
   },
   {
    "duration": 11,
    "start_time": "2022-05-12T17:50:02.186Z"
   },
   {
    "duration": 27,
    "start_time": "2022-05-12T17:50:02.198Z"
   },
   {
    "duration": 2371,
    "start_time": "2022-05-12T17:50:02.228Z"
   },
   {
    "duration": 5,
    "start_time": "2022-05-12T17:50:04.601Z"
   },
   {
    "duration": 5,
    "start_time": "2022-05-12T17:50:04.662Z"
   },
   {
    "duration": 6,
    "start_time": "2022-05-12T17:50:04.669Z"
   },
   {
    "duration": 7,
    "start_time": "2022-05-12T17:50:04.676Z"
   },
   {
    "duration": 284,
    "start_time": "2022-05-12T17:50:04.684Z"
   },
   {
    "duration": 6,
    "start_time": "2022-05-12T17:50:04.969Z"
   },
   {
    "duration": 416,
    "start_time": "2022-05-12T17:50:04.976Z"
   },
   {
    "duration": 7,
    "start_time": "2022-05-12T17:50:05.393Z"
   },
   {
    "duration": 3,
    "start_time": "2022-05-12T17:50:05.402Z"
   },
   {
    "duration": 1523,
    "start_time": "2022-05-12T17:54:13.172Z"
   },
   {
    "duration": 16,
    "start_time": "2022-05-12T17:54:14.698Z"
   },
   {
    "duration": 26,
    "start_time": "2022-05-12T17:54:14.716Z"
   },
   {
    "duration": 4,
    "start_time": "2022-05-12T17:54:14.744Z"
   },
   {
    "duration": 22,
    "start_time": "2022-05-12T17:54:14.765Z"
   },
   {
    "duration": 5,
    "start_time": "2022-05-12T17:54:14.789Z"
   },
   {
    "duration": 6,
    "start_time": "2022-05-12T17:54:14.797Z"
   },
   {
    "duration": 11,
    "start_time": "2022-05-12T17:54:14.805Z"
   },
   {
    "duration": 49,
    "start_time": "2022-05-12T17:54:14.818Z"
   },
   {
    "duration": 1695,
    "start_time": "2022-05-12T17:54:14.869Z"
   },
   {
    "duration": 6,
    "start_time": "2022-05-12T17:54:16.566Z"
   },
   {
    "duration": 18,
    "start_time": "2022-05-12T17:54:16.573Z"
   },
   {
    "duration": 6,
    "start_time": "2022-05-12T17:54:16.593Z"
   },
   {
    "duration": 12,
    "start_time": "2022-05-12T17:54:16.602Z"
   },
   {
    "duration": 152,
    "start_time": "2022-05-12T17:54:16.616Z"
   },
   {
    "duration": 8,
    "start_time": "2022-05-12T17:54:16.771Z"
   },
   {
    "duration": 216,
    "start_time": "2022-05-12T17:54:16.781Z"
   },
   {
    "duration": 7,
    "start_time": "2022-05-12T17:54:16.999Z"
   },
   {
    "duration": 2,
    "start_time": "2022-05-12T17:54:17.008Z"
   },
   {
    "duration": 1672,
    "start_time": "2022-05-12T17:54:47.567Z"
   },
   {
    "duration": 15,
    "start_time": "2022-05-12T17:54:49.241Z"
   },
   {
    "duration": 26,
    "start_time": "2022-05-12T17:54:49.258Z"
   },
   {
    "duration": 4,
    "start_time": "2022-05-12T17:54:49.286Z"
   },
   {
    "duration": 23,
    "start_time": "2022-05-12T17:54:49.292Z"
   },
   {
    "duration": 6,
    "start_time": "2022-05-12T17:54:49.316Z"
   },
   {
    "duration": 7,
    "start_time": "2022-05-12T17:54:49.324Z"
   },
   {
    "duration": 7,
    "start_time": "2022-05-12T17:54:49.333Z"
   },
   {
    "duration": 35,
    "start_time": "2022-05-12T17:54:49.342Z"
   },
   {
    "duration": 1548,
    "start_time": "2022-05-12T17:54:49.378Z"
   },
   {
    "duration": 6,
    "start_time": "2022-05-12T17:54:50.928Z"
   },
   {
    "duration": 8,
    "start_time": "2022-05-12T17:54:50.936Z"
   },
   {
    "duration": 21,
    "start_time": "2022-05-12T17:54:50.946Z"
   },
   {
    "duration": 14,
    "start_time": "2022-05-12T17:54:50.971Z"
   },
   {
    "duration": 135,
    "start_time": "2022-05-12T17:54:50.987Z"
   },
   {
    "duration": 6,
    "start_time": "2022-05-12T17:54:51.123Z"
   },
   {
    "duration": 443,
    "start_time": "2022-05-12T17:54:51.131Z"
   },
   {
    "duration": 11,
    "start_time": "2022-05-12T17:54:51.575Z"
   },
   {
    "duration": 4,
    "start_time": "2022-05-12T17:54:51.587Z"
   },
   {
    "duration": 4349,
    "start_time": "2022-05-12T17:54:51.593Z"
   },
   {
    "duration": 46,
    "start_time": "2022-05-12T17:54:55.943Z"
   },
   {
    "duration": 3,
    "start_time": "2022-05-12T17:54:55.991Z"
   },
   {
    "duration": 1481,
    "start_time": "2022-05-12T18:03:02.823Z"
   },
   {
    "duration": 14,
    "start_time": "2022-05-12T18:03:04.306Z"
   },
   {
    "duration": 30,
    "start_time": "2022-05-12T18:03:04.321Z"
   },
   {
    "duration": 4,
    "start_time": "2022-05-12T18:03:04.354Z"
   },
   {
    "duration": 23,
    "start_time": "2022-05-12T18:03:04.365Z"
   },
   {
    "duration": 22,
    "start_time": "2022-05-12T18:03:04.390Z"
   },
   {
    "duration": 15,
    "start_time": "2022-05-12T18:03:04.414Z"
   },
   {
    "duration": 29,
    "start_time": "2022-05-12T18:03:04.430Z"
   },
   {
    "duration": 36,
    "start_time": "2022-05-12T18:03:04.461Z"
   },
   {
    "duration": 1498,
    "start_time": "2022-05-12T18:03:04.500Z"
   },
   {
    "duration": 5,
    "start_time": "2022-05-12T18:03:06.000Z"
   },
   {
    "duration": 13,
    "start_time": "2022-05-12T18:03:06.006Z"
   },
   {
    "duration": 7,
    "start_time": "2022-05-12T18:03:06.020Z"
   },
   {
    "duration": 7,
    "start_time": "2022-05-12T18:03:06.029Z"
   },
   {
    "duration": 149,
    "start_time": "2022-05-12T18:03:06.038Z"
   },
   {
    "duration": 6,
    "start_time": "2022-05-12T18:03:06.188Z"
   },
   {
    "duration": 240,
    "start_time": "2022-05-12T18:03:06.195Z"
   },
   {
    "duration": 8,
    "start_time": "2022-05-12T18:03:06.437Z"
   },
   {
    "duration": 16,
    "start_time": "2022-05-12T18:03:06.446Z"
   },
   {
    "duration": 3954,
    "start_time": "2022-05-12T18:03:06.464Z"
   },
   {
    "duration": 21,
    "start_time": "2022-05-12T18:03:10.420Z"
   },
   {
    "duration": 122,
    "start_time": "2022-05-12T18:03:10.442Z"
   },
   {
    "duration": 0,
    "start_time": "2022-05-12T18:03:10.567Z"
   },
   {
    "duration": 0,
    "start_time": "2022-05-12T18:03:10.568Z"
   },
   {
    "duration": 0,
    "start_time": "2022-05-12T18:03:10.570Z"
   },
   {
    "duration": 0,
    "start_time": "2022-05-12T18:03:10.571Z"
   },
   {
    "duration": 0,
    "start_time": "2022-05-12T18:03:10.573Z"
   },
   {
    "duration": 0,
    "start_time": "2022-05-12T18:03:10.575Z"
   },
   {
    "duration": 0,
    "start_time": "2022-05-12T18:03:10.576Z"
   },
   {
    "duration": 4,
    "start_time": "2022-05-12T18:03:16.899Z"
   },
   {
    "duration": 1530,
    "start_time": "2022-05-12T18:03:24.448Z"
   },
   {
    "duration": 14,
    "start_time": "2022-05-12T18:03:25.980Z"
   },
   {
    "duration": 22,
    "start_time": "2022-05-12T18:03:25.996Z"
   },
   {
    "duration": 6,
    "start_time": "2022-05-12T18:03:26.020Z"
   },
   {
    "duration": 43,
    "start_time": "2022-05-12T18:03:26.028Z"
   },
   {
    "duration": 6,
    "start_time": "2022-05-12T18:03:26.073Z"
   },
   {
    "duration": 12,
    "start_time": "2022-05-12T18:03:26.080Z"
   },
   {
    "duration": 14,
    "start_time": "2022-05-12T18:03:26.093Z"
   },
   {
    "duration": 22,
    "start_time": "2022-05-12T18:03:26.109Z"
   },
   {
    "duration": 1558,
    "start_time": "2022-05-12T18:03:26.135Z"
   },
   {
    "duration": 5,
    "start_time": "2022-05-12T18:03:27.695Z"
   },
   {
    "duration": 6,
    "start_time": "2022-05-12T18:03:27.702Z"
   },
   {
    "duration": 9,
    "start_time": "2022-05-12T18:03:27.710Z"
   },
   {
    "duration": 7,
    "start_time": "2022-05-12T18:03:27.721Z"
   },
   {
    "duration": 153,
    "start_time": "2022-05-12T18:03:27.730Z"
   },
   {
    "duration": 7,
    "start_time": "2022-05-12T18:03:27.885Z"
   },
   {
    "duration": 223,
    "start_time": "2022-05-12T18:03:27.894Z"
   },
   {
    "duration": 8,
    "start_time": "2022-05-12T18:03:28.119Z"
   },
   {
    "duration": 6,
    "start_time": "2022-05-12T18:03:28.129Z"
   },
   {
    "duration": 5418,
    "start_time": "2022-05-12T18:03:28.136Z"
   },
   {
    "duration": 42,
    "start_time": "2022-05-12T18:03:33.555Z"
   },
   {
    "duration": 4,
    "start_time": "2022-05-12T18:03:33.598Z"
   },
   {
    "duration": 272812,
    "start_time": "2022-05-12T18:03:33.604Z"
   },
   {
    "duration": 3,
    "start_time": "2022-05-12T18:08:06.418Z"
   },
   {
    "duration": 40,
    "start_time": "2022-05-12T18:08:06.423Z"
   },
   {
    "duration": 21206,
    "start_time": "2022-05-12T18:08:06.464Z"
   },
   {
    "duration": 7,
    "start_time": "2022-05-12T18:08:27.671Z"
   },
   {
    "duration": 7,
    "start_time": "2022-05-12T18:08:27.681Z"
   },
   {
    "duration": 10,
    "start_time": "2022-05-12T18:08:27.689Z"
   },
   {
    "duration": 81,
    "start_time": "2022-05-22T13:30:16.345Z"
   },
   {
    "duration": 1541,
    "start_time": "2022-09-28T05:19:09.408Z"
   },
   {
    "duration": 119,
    "start_time": "2022-09-28T05:19:10.951Z"
   },
   {
    "duration": 25,
    "start_time": "2022-09-28T05:19:11.072Z"
   },
   {
    "duration": 5,
    "start_time": "2022-09-28T05:19:11.100Z"
   },
   {
    "duration": 22,
    "start_time": "2022-09-28T05:19:11.106Z"
   },
   {
    "duration": 7,
    "start_time": "2022-09-28T05:19:11.129Z"
   },
   {
    "duration": 7,
    "start_time": "2022-09-28T05:19:11.154Z"
   },
   {
    "duration": 14,
    "start_time": "2022-09-28T05:19:11.163Z"
   },
   {
    "duration": 26,
    "start_time": "2022-09-28T05:19:11.179Z"
   },
   {
    "duration": 1837,
    "start_time": "2022-09-28T05:19:11.208Z"
   },
   {
    "duration": 8,
    "start_time": "2022-09-28T05:19:13.047Z"
   },
   {
    "duration": 4,
    "start_time": "2022-09-28T05:19:13.057Z"
   },
   {
    "duration": 23,
    "start_time": "2022-09-28T05:19:13.062Z"
   },
   {
    "duration": 14,
    "start_time": "2022-09-28T05:19:13.088Z"
   },
   {
    "duration": 141,
    "start_time": "2022-09-28T05:19:13.104Z"
   },
   {
    "duration": 11,
    "start_time": "2022-09-28T05:19:13.246Z"
   },
   {
    "duration": 233,
    "start_time": "2022-09-28T05:19:13.258Z"
   },
   {
    "duration": 8,
    "start_time": "2022-09-28T05:19:13.493Z"
   },
   {
    "duration": 5,
    "start_time": "2022-09-28T05:19:13.503Z"
   },
   {
    "duration": 3110,
    "start_time": "2022-09-28T05:19:13.510Z"
   },
   {
    "duration": 53,
    "start_time": "2022-09-28T05:19:16.622Z"
   },
   {
    "duration": 19,
    "start_time": "2022-09-28T05:19:16.677Z"
   },
   {
    "duration": 288521,
    "start_time": "2022-09-28T05:19:16.698Z"
   },
   {
    "duration": 4,
    "start_time": "2022-09-28T05:24:05.221Z"
   },
   {
    "duration": 37,
    "start_time": "2022-09-28T05:24:05.226Z"
   },
   {
    "duration": 23513,
    "start_time": "2022-09-28T05:24:05.265Z"
   },
   {
    "duration": 5,
    "start_time": "2022-09-28T05:24:28.780Z"
   },
   {
    "duration": 10,
    "start_time": "2022-09-28T05:24:28.787Z"
   },
   {
    "duration": 11,
    "start_time": "2022-09-28T05:24:28.799Z"
   }
  ],
  "kernelspec": {
   "display_name": "Python 3 (ipykernel)",
   "language": "python",
   "name": "python3"
  },
  "language_info": {
   "codemirror_mode": {
    "name": "ipython",
    "version": 3
   },
   "file_extension": ".py",
   "mimetype": "text/x-python",
   "name": "python",
   "nbconvert_exporter": "python",
   "pygments_lexer": "ipython3",
   "version": "3.9.5"
  },
  "toc": {
   "base_numbering": 1,
   "nav_menu": {},
   "number_sections": true,
   "sideBar": true,
   "skip_h1_title": true,
   "title_cell": "Table of Contents",
   "title_sidebar": "Contents",
   "toc_cell": false,
   "toc_position": {
    "height": "calc(100% - 180px)",
    "left": "10px",
    "top": "150px",
    "width": "302.222px"
   },
   "toc_section_display": true,
   "toc_window_display": true
  }
 },
 "nbformat": 4,
 "nbformat_minor": 5
}
