{
 "cells": [
  {
   "cell_type": "markdown",
   "metadata": {},
   "source": [
    "# Выбор локации для скважины"
   ]
  },
  {
   "cell_type": "markdown",
   "metadata": {},
   "source": [
    "Допустим, вы работаете в добывающей компании «ГлавРосГосНефть». Нужно решить, где бурить новую скважину.\n",
    "\n",
    "Вам предоставлены пробы нефти в трёх регионах: в каждом 10 000 месторождений, где измерили качество нефти и объём её запасов. Постройте модель машинного обучения, которая поможет определить регион, где добыча принесёт наибольшую прибыль. Проанализируйте возможную прибыль и риски техникой *Bootstrap.*\n",
    "\n",
    "Шаги для выбора локации:\n",
    "\n",
    "- В избранном регионе ищут месторождения, для каждого определяют значения признаков;\n",
    "- Строят модель и оценивают объём запасов;\n",
    "- Выбирают месторождения с самым высокими оценками значений. Количество месторождений зависит от бюджета компании и стоимости разработки одной скважины;\n",
    "- Прибыль равна суммарной прибыли отобранных месторождений."
   ]
  },
  {
   "cell_type": "markdown",
   "metadata": {},
   "source": [
    "## Загрузка и подготовка данных"
   ]
  },
  {
   "cell_type": "markdown",
   "metadata": {},
   "source": [
    "Импортируем необходимые библиотеки."
   ]
  },
  {
   "cell_type": "code",
   "execution_count": 1,
   "metadata": {},
   "outputs": [],
   "source": [
    "import pandas as pd\n",
    "import matplotlib.pyplot as plt\n",
    "import seaborn as sns\n",
    "import numpy as np\n",
    "from sklearn.linear_model import LinearRegression\n",
    "from sklearn.model_selection import train_test_split\n",
    "from sklearn.metrics import r2_score,mean_squared_error\n",
    "from sklearn.model_selection import GridSearchCV\n",
    "from numpy.random  import RandomState"
   ]
  },
  {
   "cell_type": "markdown",
   "metadata": {},
   "source": [
    "Откроем файлы с данными по геологоразведке трёх регионов из файлов."
   ]
  },
  {
   "cell_type": "code",
   "execution_count": 4,
   "metadata": {},
   "outputs": [],
   "source": [
    "df0 = pd.read_csv('/datasets/geo_data_0.csv')\n",
    "df1 = pd.read_csv('/datasets/geo_data_1.csv')\n",
    "df2 = pd.read_csv('/datasets/geo_data_2.csv')"
   ]
  },
  {
   "cell_type": "markdown",
   "metadata": {},
   "source": [
    "Посмотрим на информацию в файлах. Выведем по 5 строк каждого."
   ]
  },
  {
   "cell_type": "code",
   "execution_count": 5,
   "metadata": {
    "scrolled": true
   },
   "outputs": [
    {
     "name": "stdout",
     "output_type": "stream",
     "text": [
      "<class 'pandas.core.frame.DataFrame'>\n",
      "RangeIndex: 100000 entries, 0 to 99999\n",
      "Data columns (total 5 columns):\n",
      " #   Column   Non-Null Count   Dtype  \n",
      "---  ------   --------------   -----  \n",
      " 0   id       100000 non-null  object \n",
      " 1   f0       100000 non-null  float64\n",
      " 2   f1       100000 non-null  float64\n",
      " 3   f2       100000 non-null  float64\n",
      " 4   product  100000 non-null  float64\n",
      "dtypes: float64(4), object(1)\n",
      "memory usage: 3.8+ MB\n"
     ]
    }
   ],
   "source": [
    "df0.info()"
   ]
  },
  {
   "cell_type": "code",
   "execution_count": 6,
   "metadata": {
    "scrolled": true
   },
   "outputs": [
    {
     "name": "stdout",
     "output_type": "stream",
     "text": [
      "<class 'pandas.core.frame.DataFrame'>\n",
      "RangeIndex: 100000 entries, 0 to 99999\n",
      "Data columns (total 5 columns):\n",
      " #   Column   Non-Null Count   Dtype  \n",
      "---  ------   --------------   -----  \n",
      " 0   id       100000 non-null  object \n",
      " 1   f0       100000 non-null  float64\n",
      " 2   f1       100000 non-null  float64\n",
      " 3   f2       100000 non-null  float64\n",
      " 4   product  100000 non-null  float64\n",
      "dtypes: float64(4), object(1)\n",
      "memory usage: 3.8+ MB\n"
     ]
    }
   ],
   "source": [
    "df1.info()"
   ]
  },
  {
   "cell_type": "code",
   "execution_count": 7,
   "metadata": {
    "scrolled": false
   },
   "outputs": [
    {
     "name": "stdout",
     "output_type": "stream",
     "text": [
      "<class 'pandas.core.frame.DataFrame'>\n",
      "RangeIndex: 100000 entries, 0 to 99999\n",
      "Data columns (total 5 columns):\n",
      " #   Column   Non-Null Count   Dtype  \n",
      "---  ------   --------------   -----  \n",
      " 0   id       100000 non-null  object \n",
      " 1   f0       100000 non-null  float64\n",
      " 2   f1       100000 non-null  float64\n",
      " 3   f2       100000 non-null  float64\n",
      " 4   product  100000 non-null  float64\n",
      "dtypes: float64(4), object(1)\n",
      "memory usage: 3.8+ MB\n"
     ]
    }
   ],
   "source": [
    "df2.info()"
   ]
  },
  {
   "cell_type": "markdown",
   "metadata": {},
   "source": [
    "В каждом файле по 100000 объектов. Пропусков нет. По типам: ID object, остальные float64. Все ок. Посмотрим на дубли в файлах."
   ]
  },
  {
   "cell_type": "markdown",
   "metadata": {},
   "source": [
    "Мы знаем, что: id — уникальный идентификатор скважины;f0, f1, f2 — три признака точек; product — объём запасов в скважине (тыс. баррелей) - это и есть наш таргет - целеой признак."
   ]
  },
  {
   "cell_type": "markdown",
   "metadata": {},
   "source": [
    "Посмотрим на дубли в файлах."
   ]
  },
  {
   "cell_type": "code",
   "execution_count": 8,
   "metadata": {
    "scrolled": true
   },
   "outputs": [
    {
     "name": "stdout",
     "output_type": "stream",
     "text": [
      "1 регион\n",
      "0\n",
      "2 регион\n",
      "0\n",
      "3 регион\n",
      "0\n"
     ]
    }
   ],
   "source": [
    "i=0\n",
    "df=[df0,df1,df2]\n",
    "for df_ in df:\n",
    "    i += 1\n",
    "    print(f'{i} регион')\n",
    "    print(df_.duplicated().sum())"
   ]
  },
  {
   "cell_type": "markdown",
   "metadata": {},
   "source": [
    "Дублей в файлах нет. "
   ]
  },
  {
   "cell_type": "markdown",
   "metadata": {},
   "source": [
    "Посмотрим на уникальные значения."
   ]
  },
  {
   "cell_type": "code",
   "execution_count": 9,
   "metadata": {
    "scrolled": true
   },
   "outputs": [
    {
     "name": "stdout",
     "output_type": "stream",
     "text": [
      "0 регион\n",
      "id          99990\n",
      "f0         100000\n",
      "f1         100000\n",
      "f2         100000\n",
      "product    100000\n",
      "dtype: int64\n",
      "1 регион\n",
      "id          99996\n",
      "f0         100000\n",
      "f1         100000\n",
      "f2         100000\n",
      "product        12\n",
      "dtype: int64\n",
      "2 регион\n",
      "id          99996\n",
      "f0         100000\n",
      "f1         100000\n",
      "f2         100000\n",
      "product    100000\n",
      "dtype: int64\n"
     ]
    }
   ],
   "source": [
    "i=0\n",
    "df=[df0,df1,df2]\n",
    "for df_ in df:\n",
    "    print(f'{i} регион')\n",
    "    print(df_.nunique())\n",
    "    i += 1"
   ]
  },
  {
   "cell_type": "markdown",
   "metadata": {},
   "source": [
    "Во втором регионе очен малое колличество значений таргета product. В связи с чем не понятно. Но остальные значения признаков в стоках уникальные. Посмотрим на дублирующиеся id."
   ]
  },
  {
   "cell_type": "code",
   "execution_count": 10,
   "metadata": {
    "scrolled": true
   },
   "outputs": [
    {
     "name": "stdout",
     "output_type": "stream",
     "text": [
      "0 регион\n",
      "HZww2    2\n",
      "bsk9y    2\n",
      "74z30    2\n",
      "A5aEY    2\n",
      "AGS9W    2\n",
      "        ..\n",
      "np5bq    1\n",
      "2zKYQ    1\n",
      "o51nI    1\n",
      "ODTdt    1\n",
      "UUvpt    1\n",
      "Name: id, Length: 99990, dtype: int64\n",
      "1 регион\n",
      "wt4Uk    2\n",
      "LHZR0    2\n",
      "bfPNe    2\n",
      "5ltQ6    2\n",
      "Ki9EX    1\n",
      "        ..\n",
      "zjDdN    1\n",
      "AnZqb    1\n",
      "fFqTu    1\n",
      "GPRSn    1\n",
      "IIUcZ    1\n",
      "Name: id, Length: 99996, dtype: int64\n",
      "2 регион\n",
      "Vcm5J    2\n",
      "VF7Jo    2\n",
      "KUPhW    2\n",
      "xCHr8    2\n",
      "4ZTue    1\n",
      "        ..\n",
      "OhjYy    1\n",
      "RdNCQ    1\n",
      "rZDdm    1\n",
      "ouXf9    1\n",
      "voB8M    1\n",
      "Name: id, Length: 99996, dtype: int64\n"
     ]
    }
   ],
   "source": [
    "i=0\n",
    "df=[df0,df1,df2]\n",
    "for df_ in df:\n",
    "    print(f'{i} регион')\n",
    "    print(df_['id'].value_counts())\n",
    "    i += 1"
   ]
  },
  {
   "cell_type": "markdown",
   "metadata": {},
   "source": [
    "Получается, что в 1ом файле 10 скважин задублировалось. Во втором и 3тьем по 4 скважины. Либо это старые и новые значения, либо, ошибка в названиях, сбой в выгрузке или другом. Проще удалить данные значения. Общее число объектор 10 000. "
   ]
  },
  {
   "cell_type": "code",
   "execution_count": 11,
   "metadata": {},
   "outputs": [],
   "source": [
    "double0 = ['HZww2','bxg6G','fiKDv','TtcGQ','AGS9W',\n",
    "           'A5aEY','Tdehs','QcMuo','74z30','bsk9y']\n",
    "double1 = ['bfPNe','LHZR0','wt4Uk','5ltQ6']\n",
    "double2 = ['Vcm5J','VF7Jo','xCHr8','KUPhW']\n",
    "for doub in double2:\n",
    "    df2 = df2[df2['id']!=doub]\n",
    "for doub in double1:\n",
    "    df1 = df1[df1['id']!=doub]\n",
    "for doub in double0:\n",
    "    df0 = df0[df0['id']!=doub]    "
   ]
  },
  {
   "cell_type": "markdown",
   "metadata": {},
   "source": [
    "Посмотрим на значения тепреь."
   ]
  },
  {
   "cell_type": "code",
   "execution_count": 12,
   "metadata": {
    "scrolled": true
   },
   "outputs": [
    {
     "name": "stdout",
     "output_type": "stream",
     "text": [
      "0 регион\n",
      "id         99980\n",
      "f0         99980\n",
      "f1         99980\n",
      "f2         99980\n",
      "product    99980\n",
      "dtype: int64\n",
      "1 регион\n",
      "id         99992\n",
      "f0         99992\n",
      "f1         99992\n",
      "f2         99992\n",
      "product       12\n",
      "dtype: int64\n",
      "2 регион\n",
      "id         99992\n",
      "f0         99992\n",
      "f1         99992\n",
      "f2         99992\n",
      "product    99992\n",
      "dtype: int64\n"
     ]
    }
   ],
   "source": [
    "i=0\n",
    "df=[df0,df1,df2]\n",
    "for df_ in df:\n",
    "    print(f'{i} регион')\n",
    "    print(df_.nunique())\n",
    "    i += 1"
   ]
  },
  {
   "cell_type": "code",
   "execution_count": 13,
   "metadata": {
    "scrolled": false
   },
   "outputs": [
    {
     "data": {
      "image/png": "[encoded data removed]",
      "text/plain": [
       "<Figure size 1440x360 with 12 Axes>"
      ]
     },
     "metadata": {
      "needs_background": "light"
     },
     "output_type": "display_data"
    }
   ],
   "source": [
    "i=-1\n",
    "df=[df0,df1,df2]\n",
    "columns =['f0', 'f1', 'f2', 'product']\n",
    "fig, ax = plt.subplots(3, 4, figsize=(20,5) )\n",
    "plt.subplots_adjust(wspace=1, hspace=1)\n",
    "for df_ in df:\n",
    "    i +=1\n",
    "    j=0\n",
    "    for col in columns: \n",
    "        sns.histplot(data=df_[col],ax=ax[i][j]).set(title=str(i)+' регион')\n",
    "        j +=1     "
   ]
  },
  {
   "cell_type": "markdown",
   "metadata": {},
   "source": [
    "Если смотреть на распределения. Выделяются значения f2 и product во втором регионе.М знаем, что там всего 12 значений ЦП. А вот распределение фича f2 кажутя странными и сильн отличающимися от остальных."
   ]
  },
  {
   "cell_type": "markdown",
   "metadata": {},
   "source": [
    "Посмотрим на матрицу корреляции признаков. "
   ]
  },
  {
   "cell_type": "code",
   "execution_count": 14,
   "metadata": {},
   "outputs": [
    {
     "data": {
      "image/png": "[encoded data removed]",
      "text/plain": [
       "<Figure size 504x432 with 2 Axes>"
      ]
     },
     "metadata": {
      "needs_background": "light"
     },
     "output_type": "display_data"
    },
    {
     "data": {
      "image/png": "[encoded data removed]",
      "text/plain": [
       "<Figure size 504x432 with 2 Axes>"
      ]
     },
     "metadata": {
      "needs_background": "light"
     },
     "output_type": "display_data"
    },
    {
     "data": {
      "image/png": "[encoded data removed]",
      "text/plain": [
       "<Figure size 504x432 with 2 Axes>"
      ]
     },
     "metadata": {
      "needs_background": "light"
     },
     "output_type": "display_data"
    }
   ],
   "source": [
    "i=0\n",
    "df=[df0,df1,df2]\n",
    "for df_ in df:\n",
    "    plt.figure(figsize=(7,6))\n",
    "    corr = df_[['f0','f1','f2']].corr()\n",
    "    sns.heatmap(corr, cmap=sns.color_palette(\"Blues\", 1000), \n",
    "                vmin=-1, center=0, annot=True).set(title=str(i)+' регион')\n",
    "    plt.show()\n",
    "    i += 1"
   ]
  },
  {
   "cell_type": "markdown",
   "metadata": {},
   "source": [
    "Коэффициенты корреляции очень низкие или низкие (согласно шкале Чеддока). Посмотрим на выбросы в данных."
   ]
  },
  {
   "cell_type": "code",
   "execution_count": 15,
   "metadata": {},
   "outputs": [
    {
     "data": {
      "image/png": "[encoded data removed]",
      "text/plain": [
       "<Figure size 864x504 with 12 Axes>"
      ]
     },
     "metadata": {
      "needs_background": "light"
     },
     "output_type": "display_data"
    }
   ],
   "source": [
    "i=-1\n",
    "df=[df0,df1,df2]\n",
    "columns =['f0', 'f1', 'f2', 'product']\n",
    "fig, ax = plt.subplots(3, 4, figsize=(12,7) )\n",
    "plt.subplots_adjust(wspace=.5, hspace=.5)\n",
    "for df_ in df:\n",
    "    i +=1\n",
    "    j=0\n",
    "    for col in columns: \n",
    "        sns.boxplot(x=df_[col],ax=ax[i][j], orient=\"h\").set(title=str(i)+' регион')\n",
    "        j +=1   "
   ]
  },
  {
   "cell_type": "markdown",
   "metadata": {},
   "source": [
    "Выбросов нет тоько в таргете 'product' — объём запасов в скважине (тыс. баррелей). В первом регине выбросы только по признаку f2. Во втором по f0 и f1. В третьем же регионе выбросы по признакам есть по f0, f1 и f2. <br> Пока оставим их как есть. Если с моделью будут сложности, можем вернуться к вопросу удаления выбросов. Их достаточно много, чтобы удалить. По крайней мере сейчас."
   ]
  },
  {
   "cell_type": "markdown",
   "metadata": {},
   "source": [
    "**Вывод** По признакам f0, f1 и f2 есть выбосы. Для дальнейшей работы мы оставляем данные как есть. Если возникнут сложности с моделью, можем вернуться к вопросу удаления выбросов."
   ]
  },
  {
   "cell_type": "markdown",
   "metadata": {},
   "source": [
    "## Обучение и проверка модели"
   ]
  },
  {
   "cell_type": "markdown",
   "metadata": {},
   "source": [
    "Напишем функцию для разделения выборок на тестовую и валидационную."
   ]
  },
  {
   "cell_type": "code",
   "execution_count": 16,
   "metadata": {},
   "outputs": [],
   "source": [
    "def spliting(df):\n",
    "    target = df['product']\n",
    "    features = df[['f0','f1','f2']]\n",
    "    features_train, features_valid, target_train, target_valid = train_test_split(features, \n",
    "    target, test_size=0.25, random_state=12345)\n",
    "    return features_train, features_valid, target_train, target_valid"
   ]
  },
  {
   "cell_type": "markdown",
   "metadata": {},
   "source": [
    "Вызовем функцию для получения тестовых и валидационых фичей и таргетов по каждому региону. Для проверки верности разбиения добавим вывод shape после разбиения."
   ]
  },
  {
   "cell_type": "code",
   "execution_count": 17,
   "metadata": {},
   "outputs": [
    {
     "name": "stdout",
     "output_type": "stream",
     "text": [
      "(74985, 3) (24995, 3) (74985,) (24995,)\n",
      "(74994, 3) (24998, 3) (74994,) (24998,)\n",
      "(74994, 3) (24998, 3) (74994,) (24998,)\n"
     ]
    }
   ],
   "source": [
    "features_train_ = []\n",
    "features_valid_= []\n",
    "target_train_ = []\n",
    "target_valid_ = []\n",
    "i=0\n",
    "df=[df0,df1,df2]\n",
    "for df_ in df:\n",
    "    features_train, features_valid, target_train, target_valid = spliting(df_)\n",
    "    features_train_.append(features_train)\n",
    "    features_valid_.append(features_valid)\n",
    "    target_train_.append(target_train)\n",
    "    target_valid_.append(target_valid)\n",
    "    i += 1\n",
    "for i in range(3):    \n",
    "    print(features_train_[i].shape, features_valid_[i].shape, \n",
    "          target_train_[i].shape, target_valid_[i].shape)"
   ]
  },
  {
   "cell_type": "markdown",
   "metadata": {},
   "source": [
    "Согласно заданию мы будем работать только с линейной регрессией. Напишем функцию. Она будет Обучать модель, сделает предсказания на валидационной выборке и сохранит предсказания. Помимо это рассчитает RMSE модели."
   ]
  },
  {
   "cell_type": "code",
   "execution_count": 18,
   "metadata": {
    "scrolled": true
   },
   "outputs": [],
   "source": [
    "def modeling(features_train,target_train,features_valid,target_valid):\n",
    "    model=LinearRegression()\n",
    "    parameters = {'fit_intercept':[True,False], \n",
    "                  'normalize':[True,False], 'copy_X':[True, False]}\n",
    "    grid = GridSearchCV(model,parameters, cv=None)\n",
    "    grid.fit(features_train, target_train)\n",
    "    predicted = grid.predict(features_valid)\n",
    "    #predicted.index = target_valid.index\n",
    "    rmse = mean_squared_error(target_valid,predicted)**0.5\n",
    "    return rmse,predicted.mean(),predicted,grid.best_estimator_\n"
   ]
  },
  {
   "cell_type": "markdown",
   "metadata": {},
   "source": [
    "Запустим в функцию наши признаки и таргеты по тренировочной и валидационной выборкам. Напечатаем RMSE модели и средний предсказанный запас сырья."
   ]
  },
  {
   "cell_type": "code",
   "execution_count": 19,
   "metadata": {},
   "outputs": [
    {
     "name": "stdout",
     "output_type": "stream",
     "text": [
      "0 регион\n",
      "Средний запас предсказанного сырья: 92.42\n",
      "RMSE модели: 37.72\n",
      "1 регион\n",
      "Средний запас предсказанного сырья: 68.98\n",
      "RMSE модели: 0.89\n",
      "2 регион\n",
      "Средний запас предсказанного сырья: 95.12\n",
      "RMSE модели: 39.98\n"
     ]
    }
   ],
   "source": [
    "rmse_=[]\n",
    "predicted_mean_=[]\n",
    "predicted_ = []\n",
    "model1_=[]\n",
    "for i in range(3): \n",
    "    rmse, predicted_mean, predicted, model1 = modeling(features_train_[i], target_train_[i],\n",
    "                                           features_valid_[i],  target_valid_[i])\n",
    "    rmse_.append(rmse)\n",
    "    predicted_mean_.append(round(predicted_mean,2))\n",
    "    predicted_.append(predicted)\n",
    "    model1_.append(model1)\n",
    "    print(f'{i} регион')\n",
    "    print('Средний запас предсказанного сырья:',predicted_mean_[i])\n",
    "    print('RMSE модели:',round(rmse_[i],2))"
   ]
  },
  {
   "cell_type": "markdown",
   "metadata": {},
   "source": [
    "**Вывод:** <br>**1.** Корень от среднеквадратичной ошибки RMSE показывает насколько хорошо работает модель. По полученным данным, лучше всего модель работает в первом регионе. Значение 0.89 тыс. баррелей. При среднем запасе предсказанного сырья 68.98 тыс. баррелей.<br>**2.** Cредний запас предсказанного сырья по 0 и 2 региону примерно равны: 92.42 тыс. баррелей и 95.12 тыс. баррелей соответвтенно. При этом RMSE 37.72 и 39.97  тыс. баррелей.<br> **3.** Опираясь на средние запасы сырья перспетивными кажутся 0 и 2 регион. Посмотрим, что покажут расчеты.<br> **4.** Линейная регрессия наиболее оптимальна для работы, так как испоьзуется малое число параметров и она значительно меньше склонна к переобучению."
   ]
  },
  {
   "cell_type": "markdown",
   "metadata": {},
   "source": [
    "## Подготовка к расчёту прибыли"
   ]
  },
  {
   "cell_type": "markdown",
   "metadata": {},
   "source": [
    "Подготовимся к расчету прибыли. Наша задача звучит следующим образом:\n",
    "<br>При разведке региона исследуют 500 точек, из которых с помощью машинного обучения выбирают **200 лучших для разработки**.\n",
    "<br>Бюджет на разработку скважин в регионе — **10 млрд рублей**.\n",
    "<br>При нынешних ценах один баррель сырья приносит 450 рублей дохода. **Доход с каждой единицы продукта составляет 450 тыс. рублей**, поскольку объём указан в тысячах баррелей.\n",
    "<br>После оценки рисков **нужно оставить лишь те регионы, в которых вероятность убытков меньше 2.5%. Среди них выбирают регион с наибольшей средней прибылью."
   ]
  },
  {
   "cell_type": "markdown",
   "metadata": {},
   "source": [
    "Зададим следующие данные задачи. У нас будет 200 точек. Переменная POINTS. Доход с каждой единицы продукта составляет 450 тыс. рублей.Переменная PRICE_PER_UNIT. Бюджет на разработку скважин в регионе — 10 млрд рублей. Переменная BUDGET."
   ]
  },
  {
   "cell_type": "code",
   "execution_count": 20,
   "metadata": {},
   "outputs": [],
   "source": [
    "POINTS = 200\n",
    "PRICE_PER_UNIT = 450000\n",
    "BUDGET = 10000000000"
   ]
  },
  {
   "cell_type": "markdown",
   "metadata": {},
   "source": [
    "Рассчитаем достаточный объём сырья для безубыточной разработки новой скважины. Бюджет 10 млр руб. Всего 200 скважин. С единицы продукта мы получаем 450000 руб. Получается нужно разделить общий бюджет на произведение кол-ва точек и цены за единицу продука. "
   ]
  },
  {
   "cell_type": "code",
   "execution_count": 21,
   "metadata": {
    "scrolled": true
   },
   "outputs": [
    {
     "data": {
      "text/plain": [
       "111.11"
      ]
     },
     "execution_count": 21,
     "metadata": {},
     "output_type": "execute_result"
    }
   ],
   "source": [
    "min_break_even_product = round(BUDGET/(POINTS*PRICE_PER_UNIT),2)\n",
    "min_break_even_product"
   ]
  },
  {
   "cell_type": "markdown",
   "metadata": {},
   "source": [
    "Сравним полученный объём сырья со средним запасом в каждом регионе."
   ]
  },
  {
   "cell_type": "code",
   "execution_count": 22,
   "metadata": {},
   "outputs": [
    {
     "name": "stdout",
     "output_type": "stream",
     "text": [
      "Средний запас предсказанного сырья: 92.42\n",
      "Средний запас предсказанного сырья: 68.98\n",
      "Средний запас предсказанного сырья: 95.12\n"
     ]
    }
   ],
   "source": [
    "for i in range(3):\n",
    "    print('Средний запас предсказанного сырья:',predicted_mean_[i])"
   ]
  },
  {
   "cell_type": "markdown",
   "metadata": {},
   "source": [
    "**Вывод по этапу подготовка к расчету прибыли** получается, если ориентироваться по среднему, то ни один регион нас не устроит. Но это же среднее. При выборе 200 лучших значение может значительно повыситься. Посмотрим данные более детально. "
   ]
  },
  {
   "cell_type": "markdown",
   "metadata": {},
   "source": [
    "## Расчёт прибыли и рисков "
   ]
  },
  {
   "cell_type": "markdown",
   "metadata": {},
   "source": [
    "Напишим функцию для расчёта прибыли по выбранным скважинам и предсказаниям модели:\n",
    "1. Выберем скважины с максимальными значениями предсказаний.\n",
    "2. Просуммируем целевое значение объёма сырья, соответствующее этим предсказаниям.\n",
    "3. Рассчитаем прибыль для полученного объёма сырья."
   ]
  },
  {
   "cell_type": "code",
   "execution_count": 23,
   "metadata": {},
   "outputs": [],
   "source": [
    "def profit_calculation(target, predict,count):\n",
    "    probs_sorted = predict.sort_values(ascending=False)\n",
    "    selected = target[probs_sorted.index][:POINTS]\n",
    "    return PRICE_PER_UNIT * selected.sum()-BUDGET"
   ]
  },
  {
   "cell_type": "code",
   "execution_count": 24,
   "metadata": {},
   "outputs": [
    {
     "name": "stdout",
     "output_type": "stream",
     "text": [
      "Прибыль с 0 региона для полученного объёма сырья 3.14 млдр\n",
      "Прибыль с 1 региона для полученного объёма сырья 2.42 млдр\n",
      "Прибыль с 2 региона для полученного объёма сырья 2.47 млдр\n"
     ]
    }
   ],
   "source": [
    "profit=[]\n",
    "for i in range(3):\n",
    "    target_val = pd.Series(target_valid_[i])\n",
    "    predicte = pd.Series(predicted_[i])\n",
    "    target_val= target_val.reset_index(drop=True)\n",
    "    profit.append(profit_calculation(target_val, predicte,POINTS))\n",
    "    print(f'Прибыль с {i} региона для полученного объёма сырья {round(profit[i]/1000000000,2)} млдр')\n",
    "    \n",
    "    "
   ]
  },
  {
   "cell_type": "markdown",
   "metadata": {},
   "source": [
    "Создадим подвыборки для Bootstrap."
   ]
  },
  {
   "cell_type": "code",
   "execution_count": 25,
   "metadata": {},
   "outputs": [],
   "source": [
    "state = np.random.RandomState(12345)"
   ]
  },
  {
   "cell_type": "code",
   "execution_count": 26,
   "metadata": {
    "scrolled": false
   },
   "outputs": [
    {
     "name": "stdout",
     "output_type": "stream",
     "text": [
      "Средняя прибыль с 0 региона техникой Bootstrap 0.46 млрд.\n",
      "95% доверительный интервал 0 региона: (-0.09,0.99) млрд.\n",
      "Риск убытков 0 региона: 1.28 %\n",
      "\n",
      "Средняя прибыль с 1 региона техникой Bootstrap 0.52 млрд.\n",
      "95% доверительный интервал 1 региона: (0.13,0.96) млрд.\n",
      "Риск убытков 1 региона: 0.07 %\n",
      "\n",
      "Средняя прибыль с 2 региона техникой Bootstrap 0.34 млрд.\n",
      "95% доверительный интервал 2 региона: (-0.2,0.85) млрд.\n",
      "Риск убытков 2 региона: 4.28 %\n",
      "\n"
     ]
    }
   ],
   "source": [
    "for j in range(3):\n",
    "    values = []\n",
    "    negative_values = []\n",
    "    risk = []\n",
    "    for i in range(1000):\n",
    "        target_val = pd.Series(target_valid_[j])\n",
    "        predicte = pd.Series(predicted_[j])\n",
    "        target_val= target_val.reset_index(drop=True)\n",
    "        target_subsample  = target_val.sample(n=500, replace=True, random_state=state)\n",
    "        probs_subsample = predicte[target_subsample.index]\n",
    "        target_subsample=pd.Series(target_subsample)\n",
    "        probs_subsample=pd.Series(probs_subsample)\n",
    "        values.append(profit_calculation(target_subsample, probs_subsample, POINTS))\n",
    "\n",
    "    values = pd.Series(values)\n",
    "    lower = values.quantile(0.025) \n",
    "    highter = values.quantile(0.975)\n",
    "    \n",
    "    mean = values.mean()\n",
    "    for val in values:\n",
    "        if val<0:\n",
    "            negative_values.append(abs(val))\n",
    "    negative_values = pd.Series(negative_values)\n",
    "    risk=round(negative_values.sum()/values.sum()*100,2)\n",
    "    print(f'Средняя прибыль с {j} региона техникой Bootstrap {round((mean)/1000000000,2)} млрд.') \n",
    "    print(f'95% доверительный интервал {j} региона: ({round(lower/1000000000,2)},{round(highter/1000000000,2)}) млрд.')\n",
    "    print(f'Риск убытков {j} региона: {risk} %')\n",
    "    print()"
   ]
  },
  {
   "cell_type": "markdown",
   "metadata": {},
   "source": [
    "**Вывод** Нужно выбрать лишь те регионы, в которых вероятность убытков меньше 2.5%. Это 0ой и 1ый регионы. <br> Получается, что лучший это 1ый регион, где средняя прибыль составляет 0.52 млрд., доверительный интервал (0.13,0.96) млрд. Именно там следует начать разработку."
   ]
  }
 ],
 "metadata": {
  "ExecuteTimeLog": [
   {
    "duration": 52,
    "start_time": "2022-06-06T03:16:00.020Z"
   },
   {
    "duration": 444,
    "start_time": "2022-06-06T03:16:04.420Z"
   },
   {
    "duration": 27,
    "start_time": "2022-06-06T03:16:06.652Z"
   },
   {
    "duration": 18,
    "start_time": "2022-06-06T03:16:12.796Z"
   },
   {
    "duration": 12,
    "start_time": "2022-06-06T03:16:23.412Z"
   },
   {
    "duration": 12,
    "start_time": "2022-06-06T03:21:09.558Z"
   },
   {
    "duration": 123,
    "start_time": "2022-06-06T03:21:23.917Z"
   },
   {
    "duration": 250,
    "start_time": "2022-06-06T03:21:44.238Z"
   },
   {
    "duration": 392,
    "start_time": "2022-06-06T03:22:11.174Z"
   },
   {
    "duration": 21,
    "start_time": "2022-06-06T03:22:19.698Z"
   },
   {
    "duration": 8,
    "start_time": "2022-06-06T03:22:26.054Z"
   },
   {
    "duration": 9,
    "start_time": "2022-06-06T03:23:19.793Z"
   },
   {
    "duration": 10,
    "start_time": "2022-06-06T03:23:28.813Z"
   },
   {
    "duration": 8,
    "start_time": "2022-06-06T03:25:50.301Z"
   },
   {
    "duration": 8,
    "start_time": "2022-06-06T03:30:38.075Z"
   },
   {
    "duration": 8,
    "start_time": "2022-06-06T03:30:41.699Z"
   },
   {
    "duration": 10,
    "start_time": "2022-06-06T03:30:50.379Z"
   },
   {
    "duration": 8,
    "start_time": "2022-06-06T03:31:09.242Z"
   },
   {
    "duration": 7,
    "start_time": "2022-06-06T03:31:29.435Z"
   },
   {
    "duration": 7,
    "start_time": "2022-06-06T03:31:34.719Z"
   },
   {
    "duration": 8,
    "start_time": "2022-06-06T03:31:39.006Z"
   },
   {
    "duration": 5,
    "start_time": "2022-06-06T03:31:45.027Z"
   },
   {
    "duration": 6,
    "start_time": "2022-06-06T03:31:52.246Z"
   },
   {
    "duration": 18,
    "start_time": "2022-06-06T03:32:00.466Z"
   },
   {
    "duration": 6,
    "start_time": "2022-06-06T03:32:19.255Z"
   },
   {
    "duration": 8,
    "start_time": "2022-06-06T03:39:04.172Z"
   },
   {
    "duration": 7,
    "start_time": "2022-06-06T03:40:23.023Z"
   },
   {
    "duration": 6,
    "start_time": "2022-06-06T03:41:12.288Z"
   },
   {
    "duration": 8,
    "start_time": "2022-06-06T03:44:27.331Z"
   },
   {
    "duration": 9,
    "start_time": "2022-06-06T03:44:36.907Z"
   },
   {
    "duration": 30,
    "start_time": "2022-06-06T03:44:39.243Z"
   },
   {
    "duration": 8,
    "start_time": "2022-06-06T03:44:42.259Z"
   },
   {
    "duration": 9,
    "start_time": "2022-06-06T03:44:47.755Z"
   },
   {
    "duration": 9,
    "start_time": "2022-06-06T03:44:51.235Z"
   },
   {
    "duration": 12,
    "start_time": "2022-06-06T03:44:59.498Z"
   },
   {
    "duration": 107,
    "start_time": "2022-06-06T03:45:25.814Z"
   },
   {
    "duration": 21,
    "start_time": "2022-06-06T03:45:43.314Z"
   },
   {
    "duration": 20,
    "start_time": "2022-06-06T03:46:01.298Z"
   },
   {
    "duration": 9,
    "start_time": "2022-06-06T03:46:58.854Z"
   },
   {
    "duration": 9,
    "start_time": "2022-06-06T03:47:09.514Z"
   },
   {
    "duration": 11,
    "start_time": "2022-06-06T03:47:13.827Z"
   },
   {
    "duration": 35,
    "start_time": "2022-06-06T03:47:46.178Z"
   },
   {
    "duration": 37,
    "start_time": "2022-06-06T03:47:49.506Z"
   },
   {
    "duration": 16,
    "start_time": "2022-06-06T03:49:14.065Z"
   },
   {
    "duration": 16,
    "start_time": "2022-06-06T03:49:21.078Z"
   },
   {
    "duration": 29,
    "start_time": "2022-06-06T03:50:06.512Z"
   },
   {
    "duration": 26,
    "start_time": "2022-06-06T03:50:13.756Z"
   },
   {
    "duration": 21,
    "start_time": "2022-06-06T03:50:15.884Z"
   },
   {
    "duration": 16,
    "start_time": "2022-06-06T03:51:07.175Z"
   },
   {
    "duration": 20,
    "start_time": "2022-06-06T03:51:16.252Z"
   },
   {
    "duration": 16,
    "start_time": "2022-06-06T03:51:32.116Z"
   },
   {
    "duration": 402,
    "start_time": "2022-06-06T03:52:08.264Z"
   },
   {
    "duration": 3,
    "start_time": "2022-06-06T03:52:47.492Z"
   },
   {
    "duration": 37,
    "start_time": "2022-06-06T03:52:58.044Z"
   },
   {
    "duration": 22,
    "start_time": "2022-06-06T03:53:14.931Z"
   },
   {
    "duration": 41,
    "start_time": "2022-06-06T03:53:19.227Z"
   },
   {
    "duration": 41,
    "start_time": "2022-06-06T03:57:10.802Z"
   },
   {
    "duration": 14,
    "start_time": "2022-06-06T03:58:15.686Z"
   },
   {
    "duration": 21,
    "start_time": "2022-06-06T03:58:42.638Z"
   },
   {
    "duration": 12,
    "start_time": "2022-06-06T03:59:05.782Z"
   },
   {
    "duration": 9,
    "start_time": "2022-06-06T04:01:17.684Z"
   },
   {
    "duration": 105,
    "start_time": "2022-06-06T04:01:22.418Z"
   },
   {
    "duration": 93,
    "start_time": "2022-06-06T04:01:49.968Z"
   },
   {
    "duration": 13,
    "start_time": "2022-06-06T04:02:31.432Z"
   },
   {
    "duration": 13,
    "start_time": "2022-06-06T04:02:39.043Z"
   },
   {
    "duration": 14,
    "start_time": "2022-06-06T04:02:43.823Z"
   },
   {
    "duration": 709,
    "start_time": "2022-06-06T04:14:38.738Z"
   },
   {
    "duration": 452,
    "start_time": "2022-06-06T04:14:47.618Z"
   },
   {
    "duration": 139,
    "start_time": "2022-06-06T04:14:54.006Z"
   },
   {
    "duration": 7,
    "start_time": "2022-06-06T04:18:01.440Z"
   },
   {
    "duration": 7,
    "start_time": "2022-06-06T04:20:56.332Z"
   },
   {
    "duration": 14,
    "start_time": "2022-06-06T04:21:05.775Z"
   },
   {
    "duration": 12,
    "start_time": "2022-06-06T04:31:34.647Z"
   },
   {
    "duration": 14,
    "start_time": "2022-06-06T04:31:52.159Z"
   },
   {
    "duration": 127,
    "start_time": "2022-06-06T04:32:18.007Z"
   },
   {
    "duration": 37,
    "start_time": "2022-06-06T04:34:47.930Z"
   },
   {
    "duration": 8,
    "start_time": "2022-06-06T04:39:28.154Z"
   },
   {
    "duration": 17,
    "start_time": "2022-06-06T04:39:37.194Z"
   },
   {
    "duration": 348,
    "start_time": "2022-06-06T04:39:54.998Z"
   },
   {
    "duration": 11,
    "start_time": "2022-06-06T04:42:05.974Z"
   },
   {
    "duration": 10,
    "start_time": "2022-06-06T04:42:13.678Z"
   },
   {
    "duration": 10,
    "start_time": "2022-06-06T04:42:41.526Z"
   },
   {
    "duration": 10,
    "start_time": "2022-06-06T04:47:01.133Z"
   },
   {
    "duration": 4,
    "start_time": "2022-06-06T04:47:29.336Z"
   },
   {
    "duration": 68,
    "start_time": "2022-06-06T04:47:32.152Z"
   },
   {
    "duration": 212,
    "start_time": "2022-06-06T04:48:09.240Z"
   },
   {
    "duration": 150,
    "start_time": "2022-06-06T04:48:39.260Z"
   },
   {
    "duration": 121,
    "start_time": "2022-06-06T04:48:50.900Z"
   },
   {
    "duration": 132,
    "start_time": "2022-06-06T04:49:32.831Z"
   },
   {
    "duration": 55,
    "start_time": "2022-06-06T04:55:28.903Z"
   },
   {
    "duration": 45,
    "start_time": "2022-06-06T04:55:35.391Z"
   },
   {
    "duration": 96,
    "start_time": "2022-06-06T04:55:48.398Z"
   },
   {
    "duration": 200,
    "start_time": "2022-06-06T04:56:42.918Z"
   },
   {
    "duration": 4,
    "start_time": "2022-06-06T04:57:33.634Z"
   },
   {
    "duration": 5,
    "start_time": "2022-06-06T04:57:37.129Z"
   },
   {
    "duration": 234,
    "start_time": "2022-06-06T04:57:49.174Z"
   },
   {
    "duration": 471,
    "start_time": "2022-06-06T04:58:06.919Z"
   },
   {
    "duration": 422,
    "start_time": "2022-06-06T04:58:07.392Z"
   },
   {
    "duration": 17,
    "start_time": "2022-06-06T04:58:07.816Z"
   },
   {
    "duration": 21,
    "start_time": "2022-06-06T04:58:07.835Z"
   },
   {
    "duration": 14,
    "start_time": "2022-06-06T04:58:07.858Z"
   },
   {
    "duration": 164,
    "start_time": "2022-06-06T04:58:07.874Z"
   },
   {
    "duration": 136,
    "start_time": "2022-06-06T04:58:08.040Z"
   },
   {
    "duration": 217,
    "start_time": "2022-06-06T04:58:08.178Z"
   },
   {
    "duration": 248,
    "start_time": "2022-06-06T04:58:08.397Z"
   },
   {
    "duration": 4,
    "start_time": "2022-06-06T04:58:08.647Z"
   },
   {
    "duration": 219,
    "start_time": "2022-06-06T05:03:16.681Z"
   },
   {
    "duration": 198,
    "start_time": "2022-06-06T05:04:20.049Z"
   },
   {
    "duration": 137,
    "start_time": "2022-06-06T05:04:52.156Z"
   },
   {
    "duration": 128,
    "start_time": "2022-06-06T05:05:00.536Z"
   },
   {
    "duration": 124,
    "start_time": "2022-06-06T05:05:13.889Z"
   },
   {
    "duration": 128,
    "start_time": "2022-06-06T05:06:42.896Z"
   },
   {
    "duration": 144,
    "start_time": "2022-06-06T05:07:22.684Z"
   },
   {
    "duration": 201,
    "start_time": "2022-06-06T05:08:11.576Z"
   },
   {
    "duration": 49,
    "start_time": "2022-06-06T05:08:16.276Z"
   },
   {
    "duration": 315,
    "start_time": "2022-06-06T05:08:19.767Z"
   },
   {
    "duration": 101,
    "start_time": "2022-06-06T05:08:32.467Z"
   },
   {
    "duration": 233,
    "start_time": "2022-06-06T05:08:41.716Z"
   },
   {
    "duration": 153,
    "start_time": "2022-06-06T05:08:52.668Z"
   },
   {
    "duration": 105,
    "start_time": "2022-06-06T05:08:57.799Z"
   },
   {
    "duration": 10,
    "start_time": "2022-06-06T05:33:34.345Z"
   },
   {
    "duration": 1346,
    "start_time": "2022-06-06T05:34:06.337Z"
   },
   {
    "duration": 387,
    "start_time": "2022-06-06T05:34:07.684Z"
   },
   {
    "duration": 17,
    "start_time": "2022-06-06T05:34:08.073Z"
   },
   {
    "duration": 13,
    "start_time": "2022-06-06T05:34:08.092Z"
   },
   {
    "duration": 33,
    "start_time": "2022-06-06T05:34:08.107Z"
   },
   {
    "duration": 136,
    "start_time": "2022-06-06T05:34:08.142Z"
   },
   {
    "duration": 141,
    "start_time": "2022-06-06T05:34:08.279Z"
   },
   {
    "duration": 191,
    "start_time": "2022-06-06T05:34:08.427Z"
   },
   {
    "duration": 174,
    "start_time": "2022-06-06T05:34:08.626Z"
   },
   {
    "duration": 116,
    "start_time": "2022-06-06T05:34:08.803Z"
   },
   {
    "duration": 127,
    "start_time": "2022-06-06T05:34:08.921Z"
   },
   {
    "duration": 0,
    "start_time": "2022-06-06T05:34:09.050Z"
   },
   {
    "duration": 9728,
    "start_time": "2022-06-06T05:41:54.471Z"
   },
   {
    "duration": 52,
    "start_time": "2022-06-06T05:54:49.344Z"
   },
   {
    "duration": 71,
    "start_time": "2022-06-06T05:55:05.223Z"
   },
   {
    "duration": 25,
    "start_time": "2022-06-06T05:55:17.027Z"
   },
   {
    "duration": 29,
    "start_time": "2022-06-06T05:55:22.858Z"
   },
   {
    "duration": 23,
    "start_time": "2022-06-06T05:55:28.663Z"
   },
   {
    "duration": 33,
    "start_time": "2022-06-06T05:55:48.575Z"
   },
   {
    "duration": 22,
    "start_time": "2022-06-06T05:55:57.418Z"
   },
   {
    "duration": 23,
    "start_time": "2022-06-06T05:56:07.959Z"
   },
   {
    "duration": 9113,
    "start_time": "2022-06-06T05:56:18.278Z"
   },
   {
    "duration": 8510,
    "start_time": "2022-06-06T05:56:35.643Z"
   },
   {
    "duration": 2570,
    "start_time": "2022-06-06T06:03:58.528Z"
   },
   {
    "duration": 683,
    "start_time": "2022-06-06T06:05:01.589Z"
   },
   {
    "duration": 947,
    "start_time": "2022-06-06T06:05:29.596Z"
   },
   {
    "duration": 1192,
    "start_time": "2022-06-06T06:05:35.512Z"
   },
   {
    "duration": 952,
    "start_time": "2022-06-06T06:06:02.364Z"
   },
   {
    "duration": 360,
    "start_time": "2022-06-06T06:06:36.344Z"
   },
   {
    "duration": 236,
    "start_time": "2022-06-06T06:06:54.600Z"
   },
   {
    "duration": 2682,
    "start_time": "2022-06-06T06:07:01.580Z"
   },
   {
    "duration": 2763,
    "start_time": "2022-06-06T06:07:10.216Z"
   },
   {
    "duration": 3282,
    "start_time": "2022-06-06T06:07:22.859Z"
   },
   {
    "duration": 47,
    "start_time": "2022-06-06T06:07:55.115Z"
   },
   {
    "duration": 3377,
    "start_time": "2022-06-06T06:08:01.812Z"
   },
   {
    "duration": 3794,
    "start_time": "2022-06-06T06:08:15.672Z"
   },
   {
    "duration": 3405,
    "start_time": "2022-06-06T06:08:24.023Z"
   },
   {
    "duration": 3090,
    "start_time": "2022-06-06T06:09:03.839Z"
   },
   {
    "duration": 263,
    "start_time": "2022-06-06T06:09:32.535Z"
   },
   {
    "duration": 268,
    "start_time": "2022-06-06T06:14:02.538Z"
   },
   {
    "duration": 293,
    "start_time": "2022-06-06T06:14:13.587Z"
   },
   {
    "duration": 3120,
    "start_time": "2022-06-06T06:14:18.530Z"
   },
   {
    "duration": 26,
    "start_time": "2022-06-06T06:16:32.114Z"
   },
   {
    "duration": 9,
    "start_time": "2022-06-06T06:16:39.050Z"
   },
   {
    "duration": 11,
    "start_time": "2022-06-06T06:16:45.082Z"
   },
   {
    "duration": 21,
    "start_time": "2022-06-06T06:17:06.897Z"
   },
   {
    "duration": 481,
    "start_time": "2022-06-06T06:22:15.805Z"
   },
   {
    "duration": 10414,
    "start_time": "2022-06-06T06:22:29.704Z"
   },
   {
    "duration": 2760,
    "start_time": "2022-06-06T06:22:56.516Z"
   },
   {
    "duration": 531,
    "start_time": "2022-06-06T06:23:38.088Z"
   },
   {
    "duration": 5850,
    "start_time": "2022-06-06T06:23:50.705Z"
   },
   {
    "duration": 7149,
    "start_time": "2022-06-06T06:24:58.908Z"
   },
   {
    "duration": 6822,
    "start_time": "2022-06-06T06:25:27.908Z"
   },
   {
    "duration": 6937,
    "start_time": "2022-06-06T06:25:35.132Z"
   },
   {
    "duration": 1721,
    "start_time": "2022-06-06T06:25:53.648Z"
   },
   {
    "duration": 443,
    "start_time": "2022-06-06T06:26:05.464Z"
   },
   {
    "duration": 326,
    "start_time": "2022-06-06T06:26:21.040Z"
   },
   {
    "duration": 316,
    "start_time": "2022-06-06T06:26:45.880Z"
   },
   {
    "duration": 323,
    "start_time": "2022-06-06T06:27:17.236Z"
   },
   {
    "duration": 308,
    "start_time": "2022-06-06T06:27:25.864Z"
   },
   {
    "duration": 320,
    "start_time": "2022-06-06T06:31:58.827Z"
   },
   {
    "duration": 881,
    "start_time": "2022-06-06T06:45:10.464Z"
   },
   {
    "duration": 363,
    "start_time": "2022-06-06T06:45:32.384Z"
   },
   {
    "duration": 6201,
    "start_time": "2022-06-06T06:46:11.016Z"
   },
   {
    "duration": 1729,
    "start_time": "2022-06-06T06:46:32.483Z"
   },
   {
    "duration": 2039,
    "start_time": "2022-06-06T07:56:14.898Z"
   },
   {
    "duration": 3245,
    "start_time": "2022-06-06T07:57:04.270Z"
   },
   {
    "duration": 32,
    "start_time": "2022-06-06T07:57:51.478Z"
   },
   {
    "duration": 2545,
    "start_time": "2022-06-06T07:58:01.844Z"
   },
   {
    "duration": 2425,
    "start_time": "2022-06-06T07:58:13.724Z"
   },
   {
    "duration": 30615,
    "start_time": "2022-06-06T07:58:23.749Z"
   },
   {
    "duration": 30,
    "start_time": "2022-06-06T08:00:57.327Z"
   },
   {
    "duration": 538,
    "start_time": "2022-06-06T08:01:01.826Z"
   },
   {
    "duration": 299,
    "start_time": "2022-06-06T08:01:44.290Z"
   },
   {
    "duration": 337,
    "start_time": "2022-06-06T08:02:00.117Z"
   },
   {
    "duration": 316,
    "start_time": "2022-06-06T08:02:34.138Z"
   },
   {
    "duration": 352,
    "start_time": "2022-06-06T08:03:05.284Z"
   },
   {
    "duration": 269,
    "start_time": "2022-06-06T08:03:51.714Z"
   },
   {
    "duration": 426,
    "start_time": "2022-06-06T08:03:59.022Z"
   },
   {
    "duration": 19,
    "start_time": "2022-06-06T08:05:14.474Z"
   },
   {
    "duration": 278,
    "start_time": "2022-06-06T08:05:55.454Z"
   },
   {
    "duration": 275,
    "start_time": "2022-06-06T08:06:03.954Z"
   },
   {
    "duration": 245,
    "start_time": "2022-06-06T08:06:38.802Z"
   },
   {
    "duration": 282,
    "start_time": "2022-06-06T08:07:17.249Z"
   },
   {
    "duration": 312,
    "start_time": "2022-06-06T08:07:36.178Z"
   },
   {
    "duration": 357,
    "start_time": "2022-06-06T08:07:53.137Z"
   },
   {
    "duration": 252,
    "start_time": "2022-06-06T08:08:02.175Z"
   },
   {
    "duration": 259,
    "start_time": "2022-06-06T08:09:04.050Z"
   },
   {
    "duration": 12,
    "start_time": "2022-06-06T08:12:17.965Z"
   },
   {
    "duration": 157,
    "start_time": "2022-06-06T08:12:28.658Z"
   },
   {
    "duration": 13,
    "start_time": "2022-06-06T08:12:53.917Z"
   },
   {
    "duration": 4853,
    "start_time": "2022-06-06T08:13:06.553Z"
   },
   {
    "duration": 17458,
    "start_time": "2022-06-06T08:13:37.725Z"
   },
   {
    "duration": 19472,
    "start_time": "2022-06-06T08:14:04.750Z"
   },
   {
    "duration": 6511,
    "start_time": "2022-06-06T08:16:04.928Z"
   },
   {
    "duration": 6193,
    "start_time": "2022-06-06T08:16:41.144Z"
   },
   {
    "duration": 694,
    "start_time": "2022-06-06T08:19:33.360Z"
   },
   {
    "duration": 505,
    "start_time": "2022-06-06T08:20:18.360Z"
   },
   {
    "duration": 571,
    "start_time": "2022-06-06T08:21:46.784Z"
   },
   {
    "duration": 1076,
    "start_time": "2022-06-06T08:21:56.745Z"
   },
   {
    "duration": 1518,
    "start_time": "2022-06-06T08:22:07.094Z"
   },
   {
    "duration": 1169,
    "start_time": "2022-06-06T08:22:34.787Z"
   },
   {
    "duration": 1401,
    "start_time": "2022-06-06T08:22:49.200Z"
   },
   {
    "duration": 1331,
    "start_time": "2022-06-06T08:23:06.168Z"
   },
   {
    "duration": 1058,
    "start_time": "2022-06-06T08:23:19.083Z"
   },
   {
    "duration": 5513,
    "start_time": "2022-06-06T08:23:27.091Z"
   },
   {
    "duration": 1409,
    "start_time": "2022-06-06T08:23:42.403Z"
   },
   {
    "duration": 1623,
    "start_time": "2022-06-06T08:24:00.895Z"
   },
   {
    "duration": 1447,
    "start_time": "2022-06-06T08:24:11.756Z"
   },
   {
    "duration": 1639,
    "start_time": "2022-06-06T08:24:20.700Z"
   },
   {
    "duration": 1329,
    "start_time": "2022-06-06T08:24:32.392Z"
   },
   {
    "duration": 1484,
    "start_time": "2022-06-06T08:24:52.650Z"
   },
   {
    "duration": 538,
    "start_time": "2022-06-06T08:25:04.624Z"
   },
   {
    "duration": 1368,
    "start_time": "2022-06-06T08:25:25.150Z"
   },
   {
    "duration": 1512,
    "start_time": "2022-06-06T08:25:46.544Z"
   },
   {
    "duration": 1316,
    "start_time": "2022-06-06T08:26:07.203Z"
   },
   {
    "duration": 4058,
    "start_time": "2022-06-06T08:26:22.594Z"
   },
   {
    "duration": 3061,
    "start_time": "2022-06-06T08:26:34.603Z"
   },
   {
    "duration": 3187,
    "start_time": "2022-06-06T08:27:13.682Z"
   },
   {
    "duration": 3148,
    "start_time": "2022-06-06T08:27:57.922Z"
   },
   {
    "duration": 776,
    "start_time": "2022-06-06T08:28:30.844Z"
   },
   {
    "duration": 952,
    "start_time": "2022-06-06T08:28:36.794Z"
   },
   {
    "duration": 3264,
    "start_time": "2022-06-06T08:29:30.502Z"
   },
   {
    "duration": 6608,
    "start_time": "2022-06-06T08:29:39.826Z"
   },
   {
    "duration": 6867,
    "start_time": "2022-06-06T08:29:58.302Z"
   },
   {
    "duration": 5028,
    "start_time": "2022-06-06T08:30:20.153Z"
   },
   {
    "duration": 843,
    "start_time": "2022-06-06T08:30:48.049Z"
   },
   {
    "duration": 4617,
    "start_time": "2022-06-06T08:31:11.849Z"
   },
   {
    "duration": 2392,
    "start_time": "2022-06-06T10:02:15.782Z"
   },
   {
    "duration": 2310,
    "start_time": "2022-06-06T10:02:25.827Z"
   },
   {
    "duration": 1758,
    "start_time": "2022-06-06T10:02:42.563Z"
   },
   {
    "duration": 1131,
    "start_time": "2022-06-06T10:03:19.166Z"
   },
   {
    "duration": 1586,
    "start_time": "2022-06-06T10:03:47.090Z"
   },
   {
    "duration": 1676,
    "start_time": "2022-06-06T10:05:04.510Z"
   },
   {
    "duration": 1868,
    "start_time": "2022-06-06T10:05:31.510Z"
   },
   {
    "duration": 1456,
    "start_time": "2022-06-06T10:05:54.406Z"
   },
   {
    "duration": 2352,
    "start_time": "2022-06-06T10:06:09.801Z"
   },
   {
    "duration": 1129,
    "start_time": "2022-06-06T10:06:34.860Z"
   },
   {
    "duration": 1671,
    "start_time": "2022-06-06T10:06:41.334Z"
   },
   {
    "duration": 842,
    "start_time": "2022-06-06T10:07:01.897Z"
   },
   {
    "duration": 1656,
    "start_time": "2022-06-06T10:07:16.829Z"
   },
   {
    "duration": 1491,
    "start_time": "2022-06-06T10:10:47.768Z"
   },
   {
    "duration": 987,
    "start_time": "2022-06-06T10:10:56.808Z"
   },
   {
    "duration": 1252,
    "start_time": "2022-06-06T10:11:01.212Z"
   },
   {
    "duration": 1675,
    "start_time": "2022-06-06T10:11:09.064Z"
   },
   {
    "duration": 1336,
    "start_time": "2022-06-06T10:11:42.970Z"
   },
   {
    "duration": 1497,
    "start_time": "2022-06-06T10:11:54.188Z"
   },
   {
    "duration": 1368,
    "start_time": "2022-06-06T10:12:08.150Z"
   },
   {
    "duration": 1315,
    "start_time": "2022-06-06T10:19:07.865Z"
   },
   {
    "duration": 2399,
    "start_time": "2022-06-06T10:19:55.879Z"
   },
   {
    "duration": 1854,
    "start_time": "2022-06-06T10:32:14.548Z"
   },
   {
    "duration": 2015,
    "start_time": "2022-06-06T10:32:57.712Z"
   },
   {
    "duration": 4,
    "start_time": "2022-06-06T10:33:31.952Z"
   },
   {
    "duration": 1436,
    "start_time": "2022-06-06T10:33:42.082Z"
   },
   {
    "duration": 1355,
    "start_time": "2022-06-06T10:34:15.955Z"
   },
   {
    "duration": 2176,
    "start_time": "2022-06-06T10:34:33.281Z"
   },
   {
    "duration": 3200,
    "start_time": "2022-06-06T10:34:49.659Z"
   },
   {
    "duration": 3134,
    "start_time": "2022-06-06T10:35:23.395Z"
   },
   {
    "duration": 3293,
    "start_time": "2022-06-06T10:35:33.582Z"
   },
   {
    "duration": 3217,
    "start_time": "2022-06-06T10:35:46.347Z"
   },
   {
    "duration": 3178,
    "start_time": "2022-06-06T10:45:28.008Z"
   },
   {
    "duration": 3121,
    "start_time": "2022-06-06T10:45:47.745Z"
   },
   {
    "duration": 1178,
    "start_time": "2022-06-06T10:47:01.283Z"
   },
   {
    "duration": 971,
    "start_time": "2022-06-06T10:47:13.596Z"
   },
   {
    "duration": 55,
    "start_time": "2022-06-06T10:47:22.379Z"
   },
   {
    "duration": 3176,
    "start_time": "2022-06-06T10:47:50.212Z"
   },
   {
    "duration": 859,
    "start_time": "2022-06-06T10:48:05.860Z"
   },
   {
    "duration": 1002,
    "start_time": "2022-06-06T10:48:19.679Z"
   },
   {
    "duration": 743,
    "start_time": "2022-06-06T10:48:26.643Z"
   },
   {
    "duration": 3146,
    "start_time": "2022-06-06T10:48:32.811Z"
   },
   {
    "duration": 55,
    "start_time": "2022-06-06T16:45:44.765Z"
   },
   {
    "duration": 1282,
    "start_time": "2022-06-06T16:45:55.920Z"
   },
   {
    "duration": 1260,
    "start_time": "2022-06-06T16:45:57.204Z"
   },
   {
    "duration": 14,
    "start_time": "2022-06-06T16:45:58.466Z"
   },
   {
    "duration": 12,
    "start_time": "2022-06-06T16:45:58.481Z"
   },
   {
    "duration": 11,
    "start_time": "2022-06-06T16:45:58.494Z"
   },
   {
    "duration": 133,
    "start_time": "2022-06-06T16:45:58.507Z"
   },
   {
    "duration": 137,
    "start_time": "2022-06-06T16:45:58.642Z"
   },
   {
    "duration": 162,
    "start_time": "2022-06-06T16:45:58.781Z"
   },
   {
    "duration": 154,
    "start_time": "2022-06-06T16:45:58.945Z"
   },
   {
    "duration": 120,
    "start_time": "2022-06-06T16:45:59.102Z"
   },
   {
    "duration": 911,
    "start_time": "2022-06-06T16:45:59.224Z"
   },
   {
    "duration": 795,
    "start_time": "2022-06-06T16:46:15.550Z"
   },
   {
    "duration": 756,
    "start_time": "2022-06-06T16:46:26.775Z"
   },
   {
    "duration": 3107,
    "start_time": "2022-06-06T16:47:14.971Z"
   },
   {
    "duration": 3319,
    "start_time": "2022-06-06T16:47:28.803Z"
   },
   {
    "duration": 15317,
    "start_time": "2022-06-06T16:49:40.909Z"
   },
   {
    "duration": 15362,
    "start_time": "2022-06-06T16:50:18.675Z"
   },
   {
    "duration": 15,
    "start_time": "2022-06-06T16:52:23.498Z"
   },
   {
    "duration": 1066,
    "start_time": "2022-06-06T16:53:59.106Z"
   },
   {
    "duration": 51,
    "start_time": "2022-06-06T16:55:11.929Z"
   },
   {
    "duration": 1017,
    "start_time": "2022-06-06T16:55:18.377Z"
   },
   {
    "duration": 1341,
    "start_time": "2022-06-06T16:55:55.430Z"
   },
   {
    "duration": 961,
    "start_time": "2022-06-06T16:59:44.244Z"
   },
   {
    "duration": 875,
    "start_time": "2022-06-06T17:00:00.522Z"
   },
   {
    "duration": 15,
    "start_time": "2022-06-06T17:00:33.609Z"
   },
   {
    "duration": 449,
    "start_time": "2022-06-06T17:01:43.336Z"
   },
   {
    "duration": 394,
    "start_time": "2022-06-06T17:01:57.720Z"
   },
   {
    "duration": 413,
    "start_time": "2022-06-06T17:02:12.552Z"
   },
   {
    "duration": 25,
    "start_time": "2022-06-06T17:02:18.248Z"
   },
   {
    "duration": 741,
    "start_time": "2022-06-06T17:02:50.132Z"
   },
   {
    "duration": 1203,
    "start_time": "2022-06-06T17:06:49.739Z"
   },
   {
    "duration": 414,
    "start_time": "2022-06-06T17:06:50.944Z"
   },
   {
    "duration": 14,
    "start_time": "2022-06-06T17:06:51.364Z"
   },
   {
    "duration": 15,
    "start_time": "2022-06-06T17:06:51.381Z"
   },
   {
    "duration": 14,
    "start_time": "2022-06-06T17:06:51.398Z"
   },
   {
    "duration": 151,
    "start_time": "2022-06-06T17:06:51.414Z"
   },
   {
    "duration": 131,
    "start_time": "2022-06-06T17:06:51.567Z"
   },
   {
    "duration": 193,
    "start_time": "2022-06-06T17:06:51.699Z"
   },
   {
    "duration": 182,
    "start_time": "2022-06-06T17:06:51.893Z"
   },
   {
    "duration": 137,
    "start_time": "2022-06-06T17:06:52.078Z"
   },
   {
    "duration": 3227,
    "start_time": "2022-06-06T17:06:52.217Z"
   },
   {
    "duration": 1033,
    "start_time": "2022-06-06T17:06:55.446Z"
   },
   {
    "duration": 123,
    "start_time": "2022-06-06T17:06:56.481Z"
   },
   {
    "duration": 23,
    "start_time": "2022-06-06T17:07:22.419Z"
   },
   {
    "duration": 21,
    "start_time": "2022-06-06T17:07:40.511Z"
   },
   {
    "duration": 22,
    "start_time": "2022-06-06T17:07:48.008Z"
   },
   {
    "duration": 851,
    "start_time": "2022-06-06T17:08:22.408Z"
   },
   {
    "duration": 304,
    "start_time": "2022-06-06T17:08:34.165Z"
   },
   {
    "duration": 344,
    "start_time": "2022-06-06T17:09:05.556Z"
   },
   {
    "duration": 353,
    "start_time": "2022-06-06T17:09:19.703Z"
   },
   {
    "duration": 607,
    "start_time": "2022-06-06T17:09:58.806Z"
   },
   {
    "duration": 691,
    "start_time": "2022-06-06T17:11:29.286Z"
   },
   {
    "duration": 852,
    "start_time": "2022-06-06T17:11:41.406Z"
   },
   {
    "duration": 18,
    "start_time": "2022-06-06T17:19:26.394Z"
   },
   {
    "duration": 126,
    "start_time": "2022-06-06T17:21:32.842Z"
   },
   {
    "duration": 667,
    "start_time": "2022-06-06T17:21:57.963Z"
   },
   {
    "duration": 761,
    "start_time": "2022-06-06T17:24:15.303Z"
   },
   {
    "duration": 676,
    "start_time": "2022-06-06T17:24:33.609Z"
   },
   {
    "duration": 1011,
    "start_time": "2022-06-06T17:25:20.218Z"
   },
   {
    "duration": 904,
    "start_time": "2022-06-06T17:28:35.601Z"
   },
   {
    "duration": 681,
    "start_time": "2022-06-06T17:29:53.894Z"
   },
   {
    "duration": 855,
    "start_time": "2022-06-06T17:30:00.944Z"
   },
   {
    "duration": 654,
    "start_time": "2022-06-06T17:30:10.304Z"
   },
   {
    "duration": 679,
    "start_time": "2022-06-06T17:30:16.494Z"
   },
   {
    "duration": 791,
    "start_time": "2022-06-06T17:30:35.664Z"
   },
   {
    "duration": 726,
    "start_time": "2022-06-06T17:30:44.344Z"
   },
   {
    "duration": 887,
    "start_time": "2022-06-06T17:32:17.620Z"
   },
   {
    "duration": 685,
    "start_time": "2022-06-06T17:33:38.539Z"
   },
   {
    "duration": 750,
    "start_time": "2022-06-06T17:33:50.039Z"
   },
   {
    "duration": 867,
    "start_time": "2022-06-06T17:34:01.139Z"
   },
   {
    "duration": 745,
    "start_time": "2022-06-06T17:34:14.700Z"
   },
   {
    "duration": 980,
    "start_time": "2022-06-06T17:34:38.363Z"
   },
   {
    "duration": 803,
    "start_time": "2022-06-06T17:34:45.690Z"
   },
   {
    "duration": 868,
    "start_time": "2022-06-06T17:34:54.987Z"
   },
   {
    "duration": 782,
    "start_time": "2022-06-06T17:35:07.698Z"
   },
   {
    "duration": 834,
    "start_time": "2022-06-06T17:35:44.050Z"
   },
   {
    "duration": 978,
    "start_time": "2022-06-06T17:35:54.362Z"
   },
   {
    "duration": 826,
    "start_time": "2022-06-06T17:36:10.747Z"
   },
   {
    "duration": 903,
    "start_time": "2022-06-06T17:36:17.595Z"
   },
   {
    "duration": 717,
    "start_time": "2022-06-06T17:36:23.653Z"
   },
   {
    "duration": 833,
    "start_time": "2022-06-06T17:37:16.594Z"
   },
   {
    "duration": 690,
    "start_time": "2022-06-06T17:37:41.717Z"
   },
   {
    "duration": 790,
    "start_time": "2022-06-06T17:37:50.750Z"
   },
   {
    "duration": 918,
    "start_time": "2022-06-06T17:37:55.847Z"
   },
   {
    "duration": 743,
    "start_time": "2022-06-06T17:38:00.162Z"
   },
   {
    "duration": 753,
    "start_time": "2022-06-06T17:38:05.897Z"
   },
   {
    "duration": 875,
    "start_time": "2022-06-06T17:38:10.221Z"
   },
   {
    "duration": 759,
    "start_time": "2022-06-06T17:38:39.893Z"
   },
   {
    "duration": 892,
    "start_time": "2022-06-06T17:38:44.064Z"
   },
   {
    "duration": 796,
    "start_time": "2022-06-06T17:38:55.547Z"
   },
   {
    "duration": 725,
    "start_time": "2022-06-06T17:40:07.279Z"
   },
   {
    "duration": 865,
    "start_time": "2022-06-06T17:40:14.048Z"
   },
   {
    "duration": 735,
    "start_time": "2022-06-06T17:40:40.848Z"
   },
   {
    "duration": 769,
    "start_time": "2022-06-06T17:40:57.249Z"
   },
   {
    "duration": 835,
    "start_time": "2022-06-06T17:41:07.205Z"
   },
   {
    "duration": 112,
    "start_time": "2022-06-06T17:41:41.551Z"
   },
   {
    "duration": 2917,
    "start_time": "2022-06-06T17:42:17.199Z"
   },
   {
    "duration": 3212,
    "start_time": "2022-06-06T17:42:33.121Z"
   },
   {
    "duration": 2988,
    "start_time": "2022-06-06T17:42:41.772Z"
   },
   {
    "duration": 1154,
    "start_time": "2022-06-06T17:42:52.817Z"
   },
   {
    "duration": 1012,
    "start_time": "2022-06-06T17:42:57.290Z"
   },
   {
    "duration": 1326,
    "start_time": "2022-06-06T17:43:31.623Z"
   },
   {
    "duration": 343,
    "start_time": "2022-06-06T17:43:32.951Z"
   },
   {
    "duration": 17,
    "start_time": "2022-06-06T17:43:33.295Z"
   },
   {
    "duration": 16,
    "start_time": "2022-06-06T17:43:33.314Z"
   },
   {
    "duration": 34,
    "start_time": "2022-06-06T17:43:33.332Z"
   },
   {
    "duration": 130,
    "start_time": "2022-06-06T17:43:33.368Z"
   },
   {
    "duration": 125,
    "start_time": "2022-06-06T17:43:33.500Z"
   },
   {
    "duration": 169,
    "start_time": "2022-06-06T17:43:33.627Z"
   },
   {
    "duration": 155,
    "start_time": "2022-06-06T17:43:33.798Z"
   },
   {
    "duration": 109,
    "start_time": "2022-06-06T17:43:33.955Z"
   },
   {
    "duration": 3044,
    "start_time": "2022-06-06T17:43:34.065Z"
   },
   {
    "duration": 989,
    "start_time": "2022-06-06T17:43:37.111Z"
   },
   {
    "duration": 848,
    "start_time": "2022-06-06T17:43:38.102Z"
   },
   {
    "duration": 3096,
    "start_time": "2022-06-06T17:43:50.802Z"
   },
   {
    "duration": 865,
    "start_time": "2022-06-06T17:48:46.591Z"
   },
   {
    "duration": 4,
    "start_time": "2022-06-06T17:52:24.256Z"
   },
   {
    "duration": 129,
    "start_time": "2022-06-06T17:54:30.220Z"
   },
   {
    "duration": 1472,
    "start_time": "2022-06-06T17:54:37.157Z"
   },
   {
    "duration": 401,
    "start_time": "2022-06-06T17:54:38.631Z"
   },
   {
    "duration": 19,
    "start_time": "2022-06-06T17:54:39.034Z"
   },
   {
    "duration": 12,
    "start_time": "2022-06-06T17:54:39.054Z"
   },
   {
    "duration": 13,
    "start_time": "2022-06-06T17:54:39.068Z"
   },
   {
    "duration": 143,
    "start_time": "2022-06-06T17:54:39.082Z"
   },
   {
    "duration": 127,
    "start_time": "2022-06-06T17:54:39.226Z"
   },
   {
    "duration": 154,
    "start_time": "2022-06-06T17:54:39.355Z"
   },
   {
    "duration": 168,
    "start_time": "2022-06-06T17:54:39.510Z"
   },
   {
    "duration": 123,
    "start_time": "2022-06-06T17:54:39.679Z"
   },
   {
    "duration": 3165,
    "start_time": "2022-06-06T17:54:39.804Z"
   },
   {
    "duration": 895,
    "start_time": "2022-06-06T17:54:42.971Z"
   },
   {
    "duration": 858,
    "start_time": "2022-06-06T17:54:43.867Z"
   },
   {
    "duration": 3,
    "start_time": "2022-06-06T17:54:44.727Z"
   },
   {
    "duration": 5,
    "start_time": "2022-06-06T18:02:02.085Z"
   },
   {
    "duration": 5,
    "start_time": "2022-06-06T18:02:09.637Z"
   },
   {
    "duration": 276,
    "start_time": "2022-06-06T18:02:55.552Z"
   },
   {
    "duration": 3,
    "start_time": "2022-06-06T18:03:43.603Z"
   },
   {
    "duration": 3054,
    "start_time": "2022-06-06T18:03:52.051Z"
   },
   {
    "duration": 592,
    "start_time": "2022-06-06T18:03:55.107Z"
   },
   {
    "duration": 18,
    "start_time": "2022-06-06T18:03:55.702Z"
   },
   {
    "duration": 13,
    "start_time": "2022-06-06T18:03:55.722Z"
   },
   {
    "duration": 31,
    "start_time": "2022-06-06T18:03:55.739Z"
   },
   {
    "duration": 157,
    "start_time": "2022-06-06T18:03:55.775Z"
   },
   {
    "duration": 152,
    "start_time": "2022-06-06T18:03:55.934Z"
   },
   {
    "duration": 214,
    "start_time": "2022-06-06T18:03:56.088Z"
   },
   {
    "duration": 215,
    "start_time": "2022-06-06T18:03:56.304Z"
   },
   {
    "duration": 126,
    "start_time": "2022-06-06T18:03:56.521Z"
   },
   {
    "duration": 3516,
    "start_time": "2022-06-06T18:03:56.649Z"
   },
   {
    "duration": 1066,
    "start_time": "2022-06-06T18:04:00.173Z"
   },
   {
    "duration": 1087,
    "start_time": "2022-06-06T18:04:01.240Z"
   },
   {
    "duration": 6,
    "start_time": "2022-06-06T18:04:02.330Z"
   },
   {
    "duration": 0,
    "start_time": "2022-06-06T18:04:02.338Z"
   },
   {
    "duration": 0,
    "start_time": "2022-06-06T18:04:02.351Z"
   },
   {
    "duration": 5,
    "start_time": "2022-06-06T18:04:25.974Z"
   },
   {
    "duration": 12,
    "start_time": "2022-06-06T18:04:29.388Z"
   },
   {
    "duration": 37,
    "start_time": "2022-06-06T18:04:55.277Z"
   },
   {
    "duration": 28,
    "start_time": "2022-06-06T18:05:51.183Z"
   },
   {
    "duration": 25,
    "start_time": "2022-06-06T18:06:51.910Z"
   },
   {
    "duration": 18,
    "start_time": "2022-06-06T18:07:44.203Z"
   },
   {
    "duration": 17,
    "start_time": "2022-06-06T18:07:45.791Z"
   },
   {
    "duration": 15,
    "start_time": "2022-06-06T18:07:56.192Z"
   },
   {
    "duration": 28,
    "start_time": "2022-06-06T18:08:27.968Z"
   },
   {
    "duration": 20,
    "start_time": "2022-06-06T18:08:48.000Z"
   },
   {
    "duration": 50,
    "start_time": "2022-06-06T18:08:50.404Z"
   },
   {
    "duration": 132,
    "start_time": "2022-06-06T18:08:51.705Z"
   },
   {
    "duration": 16,
    "start_time": "2022-06-06T18:09:01.381Z"
   },
   {
    "duration": 15,
    "start_time": "2022-06-06T18:09:34.593Z"
   },
   {
    "duration": 21,
    "start_time": "2022-06-06T18:11:34.650Z"
   },
   {
    "duration": 14,
    "start_time": "2022-06-06T18:12:33.786Z"
   },
   {
    "duration": 64,
    "start_time": "2022-06-07T04:03:52.168Z"
   },
   {
    "duration": 33,
    "start_time": "2022-06-07T04:03:57.270Z"
   },
   {
    "duration": 3,
    "start_time": "2022-06-07T04:04:04.412Z"
   },
   {
    "duration": 8,
    "start_time": "2022-06-07T04:04:06.949Z"
   },
   {
    "duration": 1485,
    "start_time": "2022-06-07T04:04:14.774Z"
   },
   {
    "duration": 884,
    "start_time": "2022-06-07T04:04:16.261Z"
   },
   {
    "duration": 19,
    "start_time": "2022-06-07T04:04:17.150Z"
   },
   {
    "duration": 21,
    "start_time": "2022-06-07T04:04:17.173Z"
   },
   {
    "duration": 18,
    "start_time": "2022-06-07T04:04:17.196Z"
   },
   {
    "duration": 175,
    "start_time": "2022-06-07T04:04:17.216Z"
   },
   {
    "duration": 176,
    "start_time": "2022-06-07T04:04:17.393Z"
   },
   {
    "duration": 206,
    "start_time": "2022-06-07T04:04:17.572Z"
   },
   {
    "duration": 169,
    "start_time": "2022-06-07T04:04:17.780Z"
   },
   {
    "duration": 142,
    "start_time": "2022-06-07T04:04:17.952Z"
   },
   {
    "duration": 3238,
    "start_time": "2022-06-07T04:04:18.097Z"
   },
   {
    "duration": 1048,
    "start_time": "2022-06-07T04:04:21.337Z"
   },
   {
    "duration": 1006,
    "start_time": "2022-06-07T04:04:22.386Z"
   },
   {
    "duration": 5,
    "start_time": "2022-06-07T04:04:23.394Z"
   },
   {
    "duration": 160,
    "start_time": "2022-06-07T04:04:23.400Z"
   },
   {
    "duration": 0,
    "start_time": "2022-06-07T04:04:23.562Z"
   },
   {
    "duration": 0,
    "start_time": "2022-06-07T04:04:23.564Z"
   },
   {
    "duration": 4,
    "start_time": "2022-06-07T04:08:35.133Z"
   },
   {
    "duration": 22,
    "start_time": "2022-06-07T04:08:37.033Z"
   },
   {
    "duration": 4,
    "start_time": "2022-06-07T04:08:45.884Z"
   },
   {
    "duration": 40,
    "start_time": "2022-06-07T04:08:47.849Z"
   },
   {
    "duration": 3,
    "start_time": "2022-06-07T04:08:50.253Z"
   },
   {
    "duration": 14,
    "start_time": "2022-06-07T04:08:56.997Z"
   },
   {
    "duration": 3,
    "start_time": "2022-06-07T04:11:15.673Z"
   },
   {
    "duration": 32,
    "start_time": "2022-06-07T04:11:16.761Z"
   },
   {
    "duration": 4,
    "start_time": "2022-06-07T04:11:17.816Z"
   },
   {
    "duration": 17,
    "start_time": "2022-06-07T04:11:20.421Z"
   },
   {
    "duration": 3,
    "start_time": "2022-06-07T04:11:25.412Z"
   },
   {
    "duration": 26,
    "start_time": "2022-06-07T04:11:27.481Z"
   },
   {
    "duration": 21,
    "start_time": "2022-06-07T04:15:05.120Z"
   },
   {
    "duration": 3,
    "start_time": "2022-06-07T04:15:06.628Z"
   },
   {
    "duration": 9,
    "start_time": "2022-06-07T04:15:07.812Z"
   },
   {
    "duration": 9,
    "start_time": "2022-06-07T04:15:35.579Z"
   },
   {
    "duration": 4,
    "start_time": "2022-06-07T04:15:47.983Z"
   },
   {
    "duration": 209,
    "start_time": "2022-06-07T04:15:49.059Z"
   },
   {
    "duration": 1270,
    "start_time": "2022-06-07T04:16:25.262Z"
   },
   {
    "duration": 400,
    "start_time": "2022-06-07T04:16:26.534Z"
   },
   {
    "duration": 16,
    "start_time": "2022-06-07T04:16:26.936Z"
   },
   {
    "duration": 14,
    "start_time": "2022-06-07T04:16:26.959Z"
   },
   {
    "duration": 14,
    "start_time": "2022-06-07T04:16:26.974Z"
   },
   {
    "duration": 147,
    "start_time": "2022-06-07T04:16:26.989Z"
   },
   {
    "duration": 156,
    "start_time": "2022-06-07T04:16:27.138Z"
   },
   {
    "duration": 297,
    "start_time": "2022-06-07T04:16:27.296Z"
   },
   {
    "duration": 167,
    "start_time": "2022-06-07T04:16:27.595Z"
   },
   {
    "duration": 114,
    "start_time": "2022-06-07T04:16:27.765Z"
   },
   {
    "duration": 2927,
    "start_time": "2022-06-07T04:16:27.880Z"
   },
   {
    "duration": 986,
    "start_time": "2022-06-07T04:16:30.809Z"
   },
   {
    "duration": 914,
    "start_time": "2022-06-07T04:16:31.797Z"
   },
   {
    "duration": 5,
    "start_time": "2022-06-07T04:16:32.713Z"
   },
   {
    "duration": 54,
    "start_time": "2022-06-07T04:16:32.721Z"
   },
   {
    "duration": 5,
    "start_time": "2022-06-07T04:16:32.777Z"
   },
   {
    "duration": 301,
    "start_time": "2022-06-07T04:16:32.784Z"
   },
   {
    "duration": 5,
    "start_time": "2022-06-07T04:23:56.492Z"
   },
   {
    "duration": 16,
    "start_time": "2022-06-07T04:23:58.428Z"
   },
   {
    "duration": 1274,
    "start_time": "2022-06-07T04:24:44.075Z"
   },
   {
    "duration": 390,
    "start_time": "2022-06-07T04:24:45.351Z"
   },
   {
    "duration": 17,
    "start_time": "2022-06-07T04:24:45.743Z"
   },
   {
    "duration": 13,
    "start_time": "2022-06-07T04:24:45.762Z"
   },
   {
    "duration": 12,
    "start_time": "2022-06-07T04:24:45.777Z"
   },
   {
    "duration": 165,
    "start_time": "2022-06-07T04:24:45.791Z"
   },
   {
    "duration": 159,
    "start_time": "2022-06-07T04:24:45.959Z"
   },
   {
    "duration": 170,
    "start_time": "2022-06-07T04:24:46.120Z"
   },
   {
    "duration": 165,
    "start_time": "2022-06-07T04:24:46.292Z"
   },
   {
    "duration": 117,
    "start_time": "2022-06-07T04:24:46.459Z"
   },
   {
    "duration": 3017,
    "start_time": "2022-06-07T04:24:46.578Z"
   },
   {
    "duration": 864,
    "start_time": "2022-06-07T04:24:49.597Z"
   },
   {
    "duration": 891,
    "start_time": "2022-06-07T04:24:50.463Z"
   },
   {
    "duration": 4,
    "start_time": "2022-06-07T04:24:51.355Z"
   },
   {
    "duration": 34,
    "start_time": "2022-06-07T04:24:51.361Z"
   },
   {
    "duration": 4,
    "start_time": "2022-06-07T04:24:51.397Z"
   },
   {
    "duration": 3873,
    "start_time": "2022-06-07T04:24:51.402Z"
   },
   {
    "duration": 4,
    "start_time": "2022-06-07T04:26:13.837Z"
   },
   {
    "duration": 3303,
    "start_time": "2022-06-07T04:26:16.657Z"
   },
   {
    "duration": 4,
    "start_time": "2022-06-07T04:28:03.017Z"
   },
   {
    "duration": 4223,
    "start_time": "2022-06-07T04:28:05.837Z"
   },
   {
    "duration": 5,
    "start_time": "2022-06-07T04:29:21.584Z"
   },
   {
    "duration": 3539,
    "start_time": "2022-06-07T04:29:28.128Z"
   },
   {
    "duration": 3449,
    "start_time": "2022-06-07T04:31:17.914Z"
   },
   {
    "duration": 20,
    "start_time": "2022-06-07T04:39:31.525Z"
   },
   {
    "duration": 18,
    "start_time": "2022-06-07T04:40:39.405Z"
   },
   {
    "duration": 29,
    "start_time": "2022-06-07T04:47:51.095Z"
   },
   {
    "duration": 28,
    "start_time": "2022-06-07T04:48:22.230Z"
   },
   {
    "duration": 22,
    "start_time": "2022-06-07T04:48:29.254Z"
   },
   {
    "duration": 29,
    "start_time": "2022-06-07T04:49:05.241Z"
   },
   {
    "duration": 26,
    "start_time": "2022-06-07T04:49:37.618Z"
   },
   {
    "duration": 52,
    "start_time": "2022-06-07T04:51:32.501Z"
   },
   {
    "duration": 39,
    "start_time": "2022-06-07T04:53:30.324Z"
   },
   {
    "duration": 39,
    "start_time": "2022-06-07T04:53:41.044Z"
   },
   {
    "duration": 30,
    "start_time": "2022-06-07T04:53:48.336Z"
   },
   {
    "duration": 34,
    "start_time": "2022-06-07T04:53:51.360Z"
   },
   {
    "duration": 34,
    "start_time": "2022-06-07T04:54:02.132Z"
   },
   {
    "duration": 5,
    "start_time": "2022-06-07T04:55:18.175Z"
   },
   {
    "duration": 19,
    "start_time": "2022-06-07T04:57:41.478Z"
   },
   {
    "duration": 3140,
    "start_time": "2022-06-07T05:03:46.720Z"
   },
   {
    "duration": 4847,
    "start_time": "2022-06-07T05:04:01.812Z"
   },
   {
    "duration": 4060,
    "start_time": "2022-06-07T05:04:36.600Z"
   },
   {
    "duration": 12321,
    "start_time": "2022-06-07T05:05:06.248Z"
   },
   {
    "duration": 12235,
    "start_time": "2022-06-07T05:05:44.528Z"
   },
   {
    "duration": 9,
    "start_time": "2022-06-07T15:26:55.262Z"
   },
   {
    "duration": 56,
    "start_time": "2022-06-07T15:26:56.382Z"
   },
   {
    "duration": 1511,
    "start_time": "2022-06-07T15:30:59.278Z"
   },
   {
    "duration": 896,
    "start_time": "2022-06-07T15:31:00.791Z"
   },
   {
    "duration": 20,
    "start_time": "2022-06-07T15:31:01.690Z"
   },
   {
    "duration": 26,
    "start_time": "2022-06-07T15:31:01.712Z"
   },
   {
    "duration": 21,
    "start_time": "2022-06-07T15:31:01.740Z"
   },
   {
    "duration": 137,
    "start_time": "2022-06-07T15:31:01.763Z"
   },
   {
    "duration": 151,
    "start_time": "2022-06-07T15:31:01.903Z"
   },
   {
    "duration": 220,
    "start_time": "2022-06-07T15:31:02.056Z"
   },
   {
    "duration": 180,
    "start_time": "2022-06-07T15:31:02.278Z"
   },
   {
    "duration": 141,
    "start_time": "2022-06-07T15:31:02.462Z"
   },
   {
    "duration": 3025,
    "start_time": "2022-06-07T15:31:02.605Z"
   },
   {
    "duration": 1179,
    "start_time": "2022-06-07T15:31:05.631Z"
   },
   {
    "duration": 758,
    "start_time": "2022-06-07T15:31:06.812Z"
   },
   {
    "duration": 4,
    "start_time": "2022-06-07T15:31:07.571Z"
   },
   {
    "duration": 61,
    "start_time": "2022-06-07T15:31:07.577Z"
   },
   {
    "duration": 13,
    "start_time": "2022-06-07T15:31:07.640Z"
   },
   {
    "duration": 12,
    "start_time": "2022-06-07T15:31:07.654Z"
   },
   {
    "duration": 1363,
    "start_time": "2022-06-07T15:32:02.950Z"
   },
   {
    "duration": 380,
    "start_time": "2022-06-07T15:32:04.315Z"
   },
   {
    "duration": 14,
    "start_time": "2022-06-07T15:32:04.697Z"
   },
   {
    "duration": 15,
    "start_time": "2022-06-07T15:32:04.713Z"
   },
   {
    "duration": 13,
    "start_time": "2022-06-07T15:32:04.731Z"
   },
   {
    "duration": 149,
    "start_time": "2022-06-07T15:32:04.746Z"
   },
   {
    "duration": 140,
    "start_time": "2022-06-07T15:32:04.897Z"
   },
   {
    "duration": 190,
    "start_time": "2022-06-07T15:32:05.039Z"
   },
   {
    "duration": 170,
    "start_time": "2022-06-07T15:32:05.231Z"
   },
   {
    "duration": 121,
    "start_time": "2022-06-07T15:32:05.403Z"
   },
   {
    "duration": 2923,
    "start_time": "2022-06-07T15:32:05.526Z"
   },
   {
    "duration": 964,
    "start_time": "2022-06-07T15:32:08.451Z"
   },
   {
    "duration": 886,
    "start_time": "2022-06-07T15:32:09.417Z"
   },
   {
    "duration": 3,
    "start_time": "2022-06-07T15:32:10.306Z"
   },
   {
    "duration": 34,
    "start_time": "2022-06-07T15:32:10.311Z"
   },
   {
    "duration": 4,
    "start_time": "2022-06-07T15:32:10.347Z"
   },
   {
    "duration": 4551,
    "start_time": "2022-06-07T15:32:10.353Z"
   },
   {
    "duration": 6,
    "start_time": "2022-06-07T15:32:24.820Z"
   },
   {
    "duration": 4317,
    "start_time": "2022-06-07T15:32:40.480Z"
   },
   {
    "duration": 1333,
    "start_time": "2022-06-07T15:37:44.777Z"
   },
   {
    "duration": 389,
    "start_time": "2022-06-07T15:37:46.112Z"
   },
   {
    "duration": 16,
    "start_time": "2022-06-07T15:37:46.504Z"
   },
   {
    "duration": 14,
    "start_time": "2022-06-07T15:37:46.522Z"
   },
   {
    "duration": 14,
    "start_time": "2022-06-07T15:37:46.538Z"
   },
   {
    "duration": 162,
    "start_time": "2022-06-07T15:37:46.553Z"
   },
   {
    "duration": 138,
    "start_time": "2022-06-07T15:37:46.717Z"
   },
   {
    "duration": 200,
    "start_time": "2022-06-07T15:37:46.857Z"
   },
   {
    "duration": 179,
    "start_time": "2022-06-07T15:37:47.058Z"
   },
   {
    "duration": 124,
    "start_time": "2022-06-07T15:37:47.240Z"
   },
   {
    "duration": 3073,
    "start_time": "2022-06-07T15:37:47.366Z"
   },
   {
    "duration": 944,
    "start_time": "2022-06-07T15:37:50.441Z"
   },
   {
    "duration": 882,
    "start_time": "2022-06-07T15:37:51.393Z"
   },
   {
    "duration": 3,
    "start_time": "2022-06-07T15:37:52.277Z"
   },
   {
    "duration": 40,
    "start_time": "2022-06-07T15:37:52.282Z"
   },
   {
    "duration": 5,
    "start_time": "2022-06-07T15:37:52.323Z"
   },
   {
    "duration": 12676,
    "start_time": "2022-06-07T15:37:52.329Z"
   },
   {
    "duration": 12721,
    "start_time": "2022-06-07T16:16:34.783Z"
   },
   {
    "duration": 4,
    "start_time": "2022-06-07T16:20:22.570Z"
   },
   {
    "duration": 12413,
    "start_time": "2022-06-07T16:20:28.183Z"
   },
   {
    "duration": 4,
    "start_time": "2022-06-07T16:22:15.524Z"
   },
   {
    "duration": 10854,
    "start_time": "2022-06-07T16:22:17.844Z"
   },
   {
    "duration": 5496,
    "start_time": "2022-06-07T16:41:57.319Z"
   },
   {
    "duration": 6,
    "start_time": "2022-06-07T16:42:24.298Z"
   },
   {
    "duration": 11589,
    "start_time": "2022-06-07T16:42:24.306Z"
   },
   {
    "duration": 39,
    "start_time": "2022-06-07T16:44:59.144Z"
   },
   {
    "duration": 10063,
    "start_time": "2022-06-07T16:45:14.233Z"
   },
   {
    "duration": 11,
    "start_time": "2022-06-07T16:53:20.273Z"
   },
   {
    "duration": 29,
    "start_time": "2022-06-07T16:53:40.365Z"
   },
   {
    "duration": 4,
    "start_time": "2022-06-07T16:53:42.297Z"
   },
   {
    "duration": 6,
    "start_time": "2022-06-07T16:54:12.362Z"
   },
   {
    "duration": 5,
    "start_time": "2022-06-07T16:54:22.462Z"
   },
   {
    "duration": 5,
    "start_time": "2022-06-07T16:55:26.741Z"
   },
   {
    "duration": 12689,
    "start_time": "2022-06-07T16:55:28.010Z"
   },
   {
    "duration": 5,
    "start_time": "2022-06-07T16:55:49.969Z"
   },
   {
    "duration": 13,
    "start_time": "2022-06-07T16:56:14.517Z"
   },
   {
    "duration": 2970,
    "start_time": "2022-06-07T16:56:50.068Z"
   },
   {
    "duration": 11,
    "start_time": "2022-06-07T16:57:36.601Z"
   },
   {
    "duration": 9,
    "start_time": "2022-06-07T16:57:42.526Z"
   },
   {
    "duration": 10,
    "start_time": "2022-06-07T16:58:02.510Z"
   },
   {
    "duration": 9,
    "start_time": "2022-06-07T16:58:06.826Z"
   },
   {
    "duration": 9,
    "start_time": "2022-06-07T16:58:27.526Z"
   },
   {
    "duration": 4,
    "start_time": "2022-06-07T16:58:49.570Z"
   },
   {
    "duration": 11,
    "start_time": "2022-06-07T16:59:01.217Z"
   },
   {
    "duration": 9,
    "start_time": "2022-06-07T16:59:04.378Z"
   },
   {
    "duration": 10,
    "start_time": "2022-06-07T16:59:50.790Z"
   },
   {
    "duration": 10,
    "start_time": "2022-06-07T17:00:14.250Z"
   },
   {
    "duration": 10,
    "start_time": "2022-06-07T17:00:23.046Z"
   },
   {
    "duration": 36,
    "start_time": "2022-06-07T17:00:31.766Z"
   },
   {
    "duration": 3,
    "start_time": "2022-06-07T17:00:34.579Z"
   },
   {
    "duration": 4,
    "start_time": "2022-06-07T17:00:41.321Z"
   },
   {
    "duration": 4,
    "start_time": "2022-06-07T17:00:50.909Z"
   },
   {
    "duration": 3,
    "start_time": "2022-06-07T17:01:03.617Z"
   },
   {
    "duration": 4,
    "start_time": "2022-06-07T17:01:06.393Z"
   },
   {
    "duration": 4,
    "start_time": "2022-06-07T17:01:17.073Z"
   },
   {
    "duration": 24,
    "start_time": "2022-06-07T17:02:08.803Z"
   },
   {
    "duration": 10,
    "start_time": "2022-06-07T17:02:27.435Z"
   },
   {
    "duration": 25,
    "start_time": "2022-06-07T17:02:38.207Z"
   },
   {
    "duration": 28,
    "start_time": "2022-06-07T17:03:02.074Z"
   },
   {
    "duration": 26,
    "start_time": "2022-06-07T17:03:11.943Z"
   },
   {
    "duration": 30,
    "start_time": "2022-06-07T17:05:35.962Z"
   },
   {
    "duration": 7,
    "start_time": "2022-06-07T17:05:47.534Z"
   },
   {
    "duration": 6,
    "start_time": "2022-06-07T17:06:26.333Z"
   },
   {
    "duration": 25,
    "start_time": "2022-06-07T17:07:30.790Z"
   },
   {
    "duration": 29,
    "start_time": "2022-06-07T17:07:57.638Z"
   },
   {
    "duration": 23,
    "start_time": "2022-06-07T17:08:45.297Z"
   },
   {
    "duration": 3,
    "start_time": "2022-06-07T17:08:49.706Z"
   },
   {
    "duration": 31,
    "start_time": "2022-06-07T17:08:50.282Z"
   },
   {
    "duration": 10,
    "start_time": "2022-06-07T17:11:57.305Z"
   },
   {
    "duration": 5,
    "start_time": "2022-06-07T17:13:01.351Z"
   },
   {
    "duration": 3,
    "start_time": "2022-06-07T17:16:51.298Z"
   },
   {
    "duration": 5,
    "start_time": "2022-06-07T17:17:04.562Z"
   },
   {
    "duration": 3,
    "start_time": "2022-06-07T17:17:33.751Z"
   },
   {
    "duration": 6,
    "start_time": "2022-06-07T17:17:37.687Z"
   },
   {
    "duration": 6,
    "start_time": "2022-06-07T17:18:05.843Z"
   },
   {
    "duration": 6,
    "start_time": "2022-06-07T17:19:02.823Z"
   },
   {
    "duration": 44,
    "start_time": "2022-06-07T17:20:03.925Z"
   },
   {
    "duration": 52,
    "start_time": "2022-06-07T17:20:21.277Z"
   },
   {
    "duration": 5,
    "start_time": "2022-06-07T17:20:34.547Z"
   },
   {
    "duration": 3,
    "start_time": "2022-06-07T17:47:13.035Z"
   },
   {
    "duration": 4,
    "start_time": "2022-06-07T17:51:28.620Z"
   },
   {
    "duration": 4,
    "start_time": "2022-06-07T17:54:24.799Z"
   },
   {
    "duration": 4,
    "start_time": "2022-06-07T17:56:54.786Z"
   },
   {
    "duration": 3,
    "start_time": "2022-06-07T18:00:39.525Z"
   },
   {
    "duration": 4,
    "start_time": "2022-06-07T18:01:29.593Z"
   },
   {
    "duration": 1341,
    "start_time": "2022-06-07T18:01:59.449Z"
   },
   {
    "duration": 0,
    "start_time": "2022-06-07T18:02:00.794Z"
   },
   {
    "duration": 0,
    "start_time": "2022-06-07T18:02:00.795Z"
   },
   {
    "duration": 0,
    "start_time": "2022-06-07T18:02:00.796Z"
   },
   {
    "duration": 0,
    "start_time": "2022-06-07T18:02:00.797Z"
   },
   {
    "duration": 0,
    "start_time": "2022-06-07T18:02:00.798Z"
   },
   {
    "duration": 0,
    "start_time": "2022-06-07T18:02:00.799Z"
   },
   {
    "duration": 1,
    "start_time": "2022-06-07T18:02:00.800Z"
   },
   {
    "duration": 0,
    "start_time": "2022-06-07T18:02:00.802Z"
   },
   {
    "duration": 0,
    "start_time": "2022-06-07T18:02:00.803Z"
   },
   {
    "duration": 0,
    "start_time": "2022-06-07T18:02:00.805Z"
   },
   {
    "duration": 0,
    "start_time": "2022-06-07T18:02:00.806Z"
   },
   {
    "duration": 0,
    "start_time": "2022-06-07T18:02:00.808Z"
   },
   {
    "duration": 0,
    "start_time": "2022-06-07T18:02:00.809Z"
   },
   {
    "duration": 0,
    "start_time": "2022-06-07T18:02:00.810Z"
   },
   {
    "duration": 0,
    "start_time": "2022-06-07T18:02:00.811Z"
   },
   {
    "duration": 0,
    "start_time": "2022-06-07T18:02:00.813Z"
   },
   {
    "duration": 0,
    "start_time": "2022-06-07T18:02:00.814Z"
   },
   {
    "duration": 1,
    "start_time": "2022-06-07T18:02:00.815Z"
   },
   {
    "duration": 0,
    "start_time": "2022-06-07T18:02:00.823Z"
   },
   {
    "duration": 0,
    "start_time": "2022-06-07T18:02:00.825Z"
   },
   {
    "duration": 0,
    "start_time": "2022-06-07T18:02:00.826Z"
   },
   {
    "duration": 0,
    "start_time": "2022-06-07T18:02:00.828Z"
   },
   {
    "duration": 5,
    "start_time": "2022-06-07T18:02:48.471Z"
   },
   {
    "duration": 1412,
    "start_time": "2022-06-07T18:02:53.554Z"
   },
   {
    "duration": 408,
    "start_time": "2022-06-07T18:02:54.969Z"
   },
   {
    "duration": 19,
    "start_time": "2022-06-07T18:02:55.379Z"
   },
   {
    "duration": 14,
    "start_time": "2022-06-07T18:02:55.399Z"
   },
   {
    "duration": 14,
    "start_time": "2022-06-07T18:02:55.414Z"
   },
   {
    "duration": 142,
    "start_time": "2022-06-07T18:02:55.430Z"
   },
   {
    "duration": 133,
    "start_time": "2022-06-07T18:02:55.574Z"
   },
   {
    "duration": 161,
    "start_time": "2022-06-07T18:02:55.709Z"
   },
   {
    "duration": 169,
    "start_time": "2022-06-07T18:02:55.872Z"
   },
   {
    "duration": 122,
    "start_time": "2022-06-07T18:02:56.043Z"
   },
   {
    "duration": 3071,
    "start_time": "2022-06-07T18:02:56.167Z"
   },
   {
    "duration": 956,
    "start_time": "2022-06-07T18:02:59.240Z"
   },
   {
    "duration": 893,
    "start_time": "2022-06-07T18:03:00.198Z"
   },
   {
    "duration": 4,
    "start_time": "2022-06-07T18:03:01.093Z"
   },
   {
    "duration": 44,
    "start_time": "2022-06-07T18:03:01.098Z"
   },
   {
    "duration": 5,
    "start_time": "2022-06-07T18:03:01.144Z"
   },
   {
    "duration": 12650,
    "start_time": "2022-06-07T18:03:01.151Z"
   },
   {
    "duration": 91,
    "start_time": "2022-06-07T18:03:13.804Z"
   },
   {
    "duration": 124,
    "start_time": "2022-06-07T18:03:13.898Z"
   },
   {
    "duration": 31,
    "start_time": "2022-06-07T18:03:14.024Z"
   },
   {
    "duration": 76,
    "start_time": "2022-06-07T18:03:14.057Z"
   },
   {
    "duration": 17,
    "start_time": "2022-06-07T18:03:14.134Z"
   },
   {
    "duration": 136,
    "start_time": "2022-06-07T18:03:14.153Z"
   },
   {
    "duration": 56,
    "start_time": "2022-06-08T02:49:23.159Z"
   },
   {
    "duration": 6,
    "start_time": "2022-06-08T02:49:26.775Z"
   },
   {
    "duration": 1497,
    "start_time": "2022-06-08T02:49:37.438Z"
   },
   {
    "duration": 924,
    "start_time": "2022-06-08T02:49:38.938Z"
   },
   {
    "duration": 16,
    "start_time": "2022-06-08T02:49:39.864Z"
   },
   {
    "duration": 13,
    "start_time": "2022-06-08T02:49:39.882Z"
   },
   {
    "duration": 12,
    "start_time": "2022-06-08T02:49:39.897Z"
   },
   {
    "duration": 151,
    "start_time": "2022-06-08T02:49:39.911Z"
   },
   {
    "duration": 136,
    "start_time": "2022-06-08T02:49:40.064Z"
   },
   {
    "duration": 164,
    "start_time": "2022-06-08T02:49:40.202Z"
   },
   {
    "duration": 157,
    "start_time": "2022-06-08T02:49:40.368Z"
   },
   {
    "duration": 109,
    "start_time": "2022-06-08T02:49:40.527Z"
   },
   {
    "duration": 2810,
    "start_time": "2022-06-08T02:49:40.638Z"
   },
   {
    "duration": 1014,
    "start_time": "2022-06-08T02:49:43.450Z"
   },
   {
    "duration": 685,
    "start_time": "2022-06-08T02:49:44.466Z"
   },
   {
    "duration": 3,
    "start_time": "2022-06-08T02:49:45.154Z"
   },
   {
    "duration": 33,
    "start_time": "2022-06-08T02:49:45.164Z"
   },
   {
    "duration": 3,
    "start_time": "2022-06-08T02:49:45.199Z"
   },
   {
    "duration": 11969,
    "start_time": "2022-06-08T02:49:45.204Z"
   },
   {
    "duration": 98,
    "start_time": "2022-06-08T02:49:57.175Z"
   },
   {
    "duration": 15,
    "start_time": "2022-06-08T02:49:57.364Z"
   },
   {
    "duration": 11,
    "start_time": "2022-06-08T02:49:57.381Z"
   },
   {
    "duration": 5,
    "start_time": "2022-06-08T02:49:57.404Z"
   },
   {
    "duration": 0,
    "start_time": "2022-06-08T02:49:57.411Z"
   },
   {
    "duration": 0,
    "start_time": "2022-06-08T02:49:57.413Z"
   },
   {
    "duration": 0,
    "start_time": "2022-06-08T02:49:57.414Z"
   },
   {
    "duration": 0,
    "start_time": "2022-06-08T02:49:57.416Z"
   },
   {
    "duration": 6,
    "start_time": "2022-06-08T02:59:37.790Z"
   },
   {
    "duration": 12309,
    "start_time": "2022-06-08T03:06:51.859Z"
   },
   {
    "duration": 25,
    "start_time": "2022-06-08T03:07:24.643Z"
   },
   {
    "duration": 109,
    "start_time": "2022-06-08T03:07:37.111Z"
   },
   {
    "duration": 1223,
    "start_time": "2022-06-08T03:08:05.008Z"
   },
   {
    "duration": 379,
    "start_time": "2022-06-08T03:08:06.233Z"
   },
   {
    "duration": 16,
    "start_time": "2022-06-08T03:08:06.613Z"
   },
   {
    "duration": 43,
    "start_time": "2022-06-08T03:08:06.631Z"
   },
   {
    "duration": 20,
    "start_time": "2022-06-08T03:08:06.675Z"
   },
   {
    "duration": 139,
    "start_time": "2022-06-08T03:08:06.697Z"
   },
   {
    "duration": 154,
    "start_time": "2022-06-08T03:08:06.838Z"
   },
   {
    "duration": 159,
    "start_time": "2022-06-08T03:08:06.994Z"
   },
   {
    "duration": 174,
    "start_time": "2022-06-08T03:08:07.164Z"
   },
   {
    "duration": 114,
    "start_time": "2022-06-08T03:08:07.341Z"
   },
   {
    "duration": 2920,
    "start_time": "2022-06-08T03:08:07.457Z"
   },
   {
    "duration": 887,
    "start_time": "2022-06-08T03:08:10.379Z"
   },
   {
    "duration": 833,
    "start_time": "2022-06-08T03:08:11.268Z"
   },
   {
    "duration": 4,
    "start_time": "2022-06-08T03:08:12.102Z"
   },
   {
    "duration": 30,
    "start_time": "2022-06-08T03:08:12.108Z"
   },
   {
    "duration": 4,
    "start_time": "2022-06-08T03:08:12.140Z"
   },
   {
    "duration": 13028,
    "start_time": "2022-06-08T03:08:12.145Z"
   },
   {
    "duration": 3,
    "start_time": "2022-06-08T03:08:25.175Z"
   },
   {
    "duration": 190,
    "start_time": "2022-06-08T03:08:25.180Z"
   },
   {
    "duration": 6,
    "start_time": "2022-06-08T03:08:25.372Z"
   },
   {
    "duration": 5,
    "start_time": "2022-06-08T03:08:25.379Z"
   },
   {
    "duration": 141,
    "start_time": "2022-06-08T03:08:25.386Z"
   },
   {
    "duration": 0,
    "start_time": "2022-06-08T03:08:25.528Z"
   },
   {
    "duration": 0,
    "start_time": "2022-06-08T03:08:25.530Z"
   },
   {
    "duration": 14,
    "start_time": "2022-06-08T03:10:42.399Z"
   },
   {
    "duration": 14,
    "start_time": "2022-06-08T03:10:46.939Z"
   },
   {
    "duration": 3,
    "start_time": "2022-06-08T03:11:29.267Z"
   },
   {
    "duration": 6,
    "start_time": "2022-06-08T03:11:39.911Z"
   },
   {
    "duration": 10,
    "start_time": "2022-06-08T03:11:51.846Z"
   },
   {
    "duration": 9,
    "start_time": "2022-06-08T03:12:07.083Z"
   },
   {
    "duration": 4,
    "start_time": "2022-06-08T03:13:04.842Z"
   },
   {
    "duration": 9,
    "start_time": "2022-06-08T03:13:05.739Z"
   },
   {
    "duration": 4,
    "start_time": "2022-06-08T03:13:14.703Z"
   },
   {
    "duration": 6,
    "start_time": "2022-06-08T03:13:20.622Z"
   },
   {
    "duration": 5,
    "start_time": "2022-06-08T03:13:26.634Z"
   },
   {
    "duration": 4584,
    "start_time": "2022-06-08T03:38:24.681Z"
   },
   {
    "duration": 3,
    "start_time": "2022-06-08T03:41:30.136Z"
   },
   {
    "duration": 28,
    "start_time": "2022-06-08T03:41:45.680Z"
   },
   {
    "duration": 27,
    "start_time": "2022-06-08T03:42:13.420Z"
   },
   {
    "duration": 309,
    "start_time": "2022-06-08T03:42:40.667Z"
   },
   {
    "duration": 29,
    "start_time": "2022-06-08T03:46:03.353Z"
   },
   {
    "duration": 1209,
    "start_time": "2022-06-08T03:46:19.791Z"
   },
   {
    "duration": 371,
    "start_time": "2022-06-08T03:46:21.002Z"
   },
   {
    "duration": 15,
    "start_time": "2022-06-08T03:46:21.374Z"
   },
   {
    "duration": 12,
    "start_time": "2022-06-08T03:46:21.390Z"
   },
   {
    "duration": 12,
    "start_time": "2022-06-08T03:46:21.404Z"
   },
   {
    "duration": 138,
    "start_time": "2022-06-08T03:46:21.417Z"
   },
   {
    "duration": 132,
    "start_time": "2022-06-08T03:46:21.557Z"
   },
   {
    "duration": 156,
    "start_time": "2022-06-08T03:46:21.690Z"
   },
   {
    "duration": 164,
    "start_time": "2022-06-08T03:46:21.848Z"
   },
   {
    "duration": 117,
    "start_time": "2022-06-08T03:46:22.015Z"
   },
   {
    "duration": 2827,
    "start_time": "2022-06-08T03:46:22.134Z"
   },
   {
    "duration": 883,
    "start_time": "2022-06-08T03:46:24.964Z"
   },
   {
    "duration": 846,
    "start_time": "2022-06-08T03:46:25.849Z"
   },
   {
    "duration": 4,
    "start_time": "2022-06-08T03:46:26.696Z"
   },
   {
    "duration": 30,
    "start_time": "2022-06-08T03:46:26.701Z"
   },
   {
    "duration": 5,
    "start_time": "2022-06-08T03:46:26.733Z"
   },
   {
    "duration": 12428,
    "start_time": "2022-06-08T03:46:26.740Z"
   },
   {
    "duration": 93,
    "start_time": "2022-06-08T03:46:39.171Z"
   },
   {
    "duration": 11,
    "start_time": "2022-06-08T03:46:39.267Z"
   },
   {
    "duration": 90,
    "start_time": "2022-06-08T03:46:39.279Z"
   },
   {
    "duration": 6,
    "start_time": "2022-06-08T03:46:39.371Z"
   },
   {
    "duration": 29,
    "start_time": "2022-06-08T03:46:39.379Z"
   },
   {
    "duration": 135,
    "start_time": "2022-06-08T03:46:39.410Z"
   },
   {
    "duration": 0,
    "start_time": "2022-06-08T03:46:39.547Z"
   },
   {
    "duration": 0,
    "start_time": "2022-06-08T03:46:39.548Z"
   },
   {
    "duration": 16,
    "start_time": "2022-06-08T03:47:34.590Z"
   },
   {
    "duration": 1290,
    "start_time": "2022-06-08T03:47:52.241Z"
   },
   {
    "duration": 376,
    "start_time": "2022-06-08T03:47:53.533Z"
   },
   {
    "duration": 16,
    "start_time": "2022-06-08T03:47:53.911Z"
   },
   {
    "duration": 13,
    "start_time": "2022-06-08T03:47:53.929Z"
   },
   {
    "duration": 27,
    "start_time": "2022-06-08T03:47:53.943Z"
   },
   {
    "duration": 125,
    "start_time": "2022-06-08T03:47:53.972Z"
   },
   {
    "duration": 130,
    "start_time": "2022-06-08T03:47:54.098Z"
   },
   {
    "duration": 160,
    "start_time": "2022-06-08T03:47:54.230Z"
   },
   {
    "duration": 172,
    "start_time": "2022-06-08T03:47:54.392Z"
   },
   {
    "duration": 112,
    "start_time": "2022-06-08T03:47:54.567Z"
   },
   {
    "duration": 2904,
    "start_time": "2022-06-08T03:47:54.680Z"
   },
   {
    "duration": 873,
    "start_time": "2022-06-08T03:47:57.585Z"
   },
   {
    "duration": 879,
    "start_time": "2022-06-08T03:47:58.465Z"
   },
   {
    "duration": 3,
    "start_time": "2022-06-08T03:47:59.346Z"
   },
   {
    "duration": 32,
    "start_time": "2022-06-08T03:47:59.351Z"
   },
   {
    "duration": 4,
    "start_time": "2022-06-08T03:47:59.385Z"
   },
   {
    "duration": 13179,
    "start_time": "2022-06-08T03:47:59.390Z"
   },
   {
    "duration": 96,
    "start_time": "2022-06-08T03:48:12.575Z"
   },
   {
    "duration": 9,
    "start_time": "2022-06-08T03:48:12.764Z"
   },
   {
    "duration": 5,
    "start_time": "2022-06-08T03:48:12.775Z"
   },
   {
    "duration": 6,
    "start_time": "2022-06-08T03:48:12.781Z"
   },
   {
    "duration": 139,
    "start_time": "2022-06-08T03:48:12.788Z"
   },
   {
    "duration": 0,
    "start_time": "2022-06-08T03:48:12.929Z"
   },
   {
    "duration": 0,
    "start_time": "2022-06-08T03:48:12.930Z"
   },
   {
    "duration": 4,
    "start_time": "2022-06-08T04:02:32.743Z"
   },
   {
    "duration": 28,
    "start_time": "2022-06-08T04:02:35.764Z"
   },
   {
    "duration": 26,
    "start_time": "2022-06-08T04:03:00.944Z"
   },
   {
    "duration": 26,
    "start_time": "2022-06-08T04:16:47.623Z"
   },
   {
    "duration": 10,
    "start_time": "2022-06-08T04:18:48.473Z"
   },
   {
    "duration": 4,
    "start_time": "2022-06-08T04:19:43.696Z"
   },
   {
    "duration": 14,
    "start_time": "2022-06-08T04:19:58.693Z"
   },
   {
    "duration": 12,
    "start_time": "2022-06-08T04:20:07.400Z"
   },
   {
    "duration": 9,
    "start_time": "2022-06-08T04:27:21.927Z"
   },
   {
    "duration": 9,
    "start_time": "2022-06-08T04:27:26.263Z"
   },
   {
    "duration": 10,
    "start_time": "2022-06-08T04:27:35.887Z"
   },
   {
    "duration": 9,
    "start_time": "2022-06-08T04:27:44.491Z"
   },
   {
    "duration": 9,
    "start_time": "2022-06-08T04:28:11.347Z"
   },
   {
    "duration": 10,
    "start_time": "2022-06-08T04:28:16.203Z"
   },
   {
    "duration": 9,
    "start_time": "2022-06-08T04:28:25.071Z"
   },
   {
    "duration": 4,
    "start_time": "2022-06-08T04:29:13.491Z"
   },
   {
    "duration": 9,
    "start_time": "2022-06-08T04:29:28.207Z"
   },
   {
    "duration": 24,
    "start_time": "2022-06-08T04:29:44.367Z"
   },
   {
    "duration": 18,
    "start_time": "2022-06-08T04:29:50.515Z"
   },
   {
    "duration": 15,
    "start_time": "2022-06-08T04:29:55.959Z"
   },
   {
    "duration": 10,
    "start_time": "2022-06-08T04:30:06.002Z"
   },
   {
    "duration": 10,
    "start_time": "2022-06-08T04:32:16.119Z"
   },
   {
    "duration": 7,
    "start_time": "2022-06-08T04:32:24.698Z"
   },
   {
    "duration": 21,
    "start_time": "2022-06-08T04:34:26.222Z"
   },
   {
    "duration": 24,
    "start_time": "2022-06-08T04:36:03.094Z"
   },
   {
    "duration": 3,
    "start_time": "2022-06-08T04:56:36.599Z"
   },
   {
    "duration": 3,
    "start_time": "2022-06-08T04:56:45.883Z"
   },
   {
    "duration": 30,
    "start_time": "2022-06-08T04:56:47.075Z"
   },
   {
    "duration": 23,
    "start_time": "2022-06-08T04:57:18.191Z"
   },
   {
    "duration": 4,
    "start_time": "2022-06-08T04:59:31.853Z"
   },
   {
    "duration": 24,
    "start_time": "2022-06-08T04:59:34.861Z"
   },
   {
    "duration": 1221,
    "start_time": "2022-06-08T04:59:43.917Z"
   },
   {
    "duration": 375,
    "start_time": "2022-06-08T04:59:45.140Z"
   },
   {
    "duration": 17,
    "start_time": "2022-06-08T04:59:45.517Z"
   },
   {
    "duration": 16,
    "start_time": "2022-06-08T04:59:45.536Z"
   },
   {
    "duration": 25,
    "start_time": "2022-06-08T04:59:45.554Z"
   },
   {
    "duration": 129,
    "start_time": "2022-06-08T04:59:45.581Z"
   },
   {
    "duration": 127,
    "start_time": "2022-06-08T04:59:45.712Z"
   },
   {
    "duration": 188,
    "start_time": "2022-06-08T04:59:45.841Z"
   },
   {
    "duration": 178,
    "start_time": "2022-06-08T04:59:46.031Z"
   },
   {
    "duration": 121,
    "start_time": "2022-06-08T04:59:46.211Z"
   },
   {
    "duration": 2884,
    "start_time": "2022-06-08T04:59:46.334Z"
   },
   {
    "duration": 951,
    "start_time": "2022-06-08T04:59:49.221Z"
   },
   {
    "duration": 849,
    "start_time": "2022-06-08T04:59:50.175Z"
   },
   {
    "duration": 4,
    "start_time": "2022-06-08T04:59:51.026Z"
   },
   {
    "duration": 47,
    "start_time": "2022-06-08T04:59:51.032Z"
   },
   {
    "duration": 5,
    "start_time": "2022-06-08T04:59:51.081Z"
   },
   {
    "duration": 12786,
    "start_time": "2022-06-08T04:59:51.088Z"
   },
   {
    "duration": 3,
    "start_time": "2022-06-08T05:00:03.966Z"
   },
   {
    "duration": 100,
    "start_time": "2022-06-08T05:00:03.974Z"
   },
   {
    "duration": 21,
    "start_time": "2022-06-08T05:00:04.076Z"
   },
   {
    "duration": 14,
    "start_time": "2022-06-08T05:00:04.099Z"
   },
   {
    "duration": 136,
    "start_time": "2022-06-08T05:00:04.115Z"
   },
   {
    "duration": 22,
    "start_time": "2022-06-08T06:19:49.761Z"
   },
   {
    "duration": 8,
    "start_time": "2022-06-08T06:27:44.311Z"
   },
   {
    "duration": 28,
    "start_time": "2022-06-08T06:28:43.908Z"
   },
   {
    "duration": 32,
    "start_time": "2022-06-08T06:29:18.944Z"
   },
   {
    "duration": 9,
    "start_time": "2022-06-08T06:31:24.120Z"
   },
   {
    "duration": 9,
    "start_time": "2022-06-08T06:31:36.152Z"
   },
   {
    "duration": 7,
    "start_time": "2022-06-08T06:31:40.904Z"
   },
   {
    "duration": 22,
    "start_time": "2022-06-08T06:32:06.031Z"
   },
   {
    "duration": 15,
    "start_time": "2022-06-08T06:32:43.655Z"
   },
   {
    "duration": 9,
    "start_time": "2022-06-08T06:32:51.959Z"
   },
   {
    "duration": 8,
    "start_time": "2022-06-08T06:33:02.619Z"
   },
   {
    "duration": 22,
    "start_time": "2022-06-08T06:33:16.275Z"
   },
   {
    "duration": 21,
    "start_time": "2022-06-08T06:33:31.491Z"
   },
   {
    "duration": 21,
    "start_time": "2022-06-08T06:33:59.547Z"
   },
   {
    "duration": 8,
    "start_time": "2022-06-08T06:34:37.963Z"
   },
   {
    "duration": 1331,
    "start_time": "2022-06-08T06:35:15.948Z"
   },
   {
    "duration": 402,
    "start_time": "2022-06-08T06:35:17.281Z"
   },
   {
    "duration": 17,
    "start_time": "2022-06-08T06:35:17.685Z"
   },
   {
    "duration": 14,
    "start_time": "2022-06-08T06:35:17.703Z"
   },
   {
    "duration": 14,
    "start_time": "2022-06-08T06:35:17.719Z"
   },
   {
    "duration": 167,
    "start_time": "2022-06-08T06:35:17.735Z"
   },
   {
    "duration": 137,
    "start_time": "2022-06-08T06:35:17.904Z"
   },
   {
    "duration": 181,
    "start_time": "2022-06-08T06:35:18.042Z"
   },
   {
    "duration": 175,
    "start_time": "2022-06-08T06:35:18.224Z"
   },
   {
    "duration": 117,
    "start_time": "2022-06-08T06:35:18.402Z"
   },
   {
    "duration": 2896,
    "start_time": "2022-06-08T06:35:18.521Z"
   },
   {
    "duration": 951,
    "start_time": "2022-06-08T06:35:21.419Z"
   },
   {
    "duration": 849,
    "start_time": "2022-06-08T06:35:22.371Z"
   },
   {
    "duration": 4,
    "start_time": "2022-06-08T06:35:23.221Z"
   },
   {
    "duration": 45,
    "start_time": "2022-06-08T06:35:23.226Z"
   },
   {
    "duration": 3,
    "start_time": "2022-06-08T06:35:23.273Z"
   },
   {
    "duration": 12995,
    "start_time": "2022-06-08T06:35:23.278Z"
   },
   {
    "duration": 4,
    "start_time": "2022-06-08T06:35:36.366Z"
   },
   {
    "duration": 100,
    "start_time": "2022-06-08T06:35:36.374Z"
   },
   {
    "duration": 6,
    "start_time": "2022-06-08T06:35:36.476Z"
   },
   {
    "duration": 5,
    "start_time": "2022-06-08T06:35:36.483Z"
   },
   {
    "duration": 13,
    "start_time": "2022-06-08T06:35:36.490Z"
   },
   {
    "duration": 136,
    "start_time": "2022-06-08T06:35:36.505Z"
   },
   {
    "duration": 1272,
    "start_time": "2022-06-08T06:45:35.293Z"
   },
   {
    "duration": 371,
    "start_time": "2022-06-08T06:45:36.567Z"
   },
   {
    "duration": 15,
    "start_time": "2022-06-08T06:45:36.940Z"
   },
   {
    "duration": 15,
    "start_time": "2022-06-08T06:45:36.957Z"
   },
   {
    "duration": 13,
    "start_time": "2022-06-08T06:45:36.973Z"
   },
   {
    "duration": 146,
    "start_time": "2022-06-08T06:45:36.988Z"
   },
   {
    "duration": 142,
    "start_time": "2022-06-08T06:45:37.135Z"
   },
   {
    "duration": 197,
    "start_time": "2022-06-08T06:45:37.279Z"
   },
   {
    "duration": 165,
    "start_time": "2022-06-08T06:45:37.477Z"
   },
   {
    "duration": 121,
    "start_time": "2022-06-08T06:45:37.644Z"
   },
   {
    "duration": 2899,
    "start_time": "2022-06-08T06:45:37.766Z"
   },
   {
    "duration": 897,
    "start_time": "2022-06-08T06:45:40.667Z"
   },
   {
    "duration": 833,
    "start_time": "2022-06-08T06:45:41.566Z"
   },
   {
    "duration": 4,
    "start_time": "2022-06-08T06:45:42.401Z"
   },
   {
    "duration": 30,
    "start_time": "2022-06-08T06:45:42.406Z"
   },
   {
    "duration": 3,
    "start_time": "2022-06-08T06:45:42.438Z"
   },
   {
    "duration": 12930,
    "start_time": "2022-06-08T06:45:42.443Z"
   },
   {
    "duration": 97,
    "start_time": "2022-06-08T06:45:55.375Z"
   },
   {
    "duration": 102,
    "start_time": "2022-06-08T06:45:55.475Z"
   },
   {
    "duration": 8,
    "start_time": "2022-06-08T06:45:55.579Z"
   },
   {
    "duration": 6,
    "start_time": "2022-06-08T06:45:55.589Z"
   },
   {
    "duration": 118,
    "start_time": "2022-06-08T06:45:55.596Z"
   },
   {
    "duration": 0,
    "start_time": "2022-06-08T06:45:55.716Z"
   },
   {
    "duration": 12,
    "start_time": "2022-06-08T06:46:35.277Z"
   },
   {
    "duration": 12,
    "start_time": "2022-06-08T06:47:17.889Z"
   },
   {
    "duration": 9,
    "start_time": "2022-06-08T06:47:41.692Z"
   },
   {
    "duration": 1316,
    "start_time": "2022-06-08T06:47:49.745Z"
   },
   {
    "duration": 382,
    "start_time": "2022-06-08T06:47:51.064Z"
   },
   {
    "duration": 18,
    "start_time": "2022-06-08T06:47:51.447Z"
   },
   {
    "duration": 12,
    "start_time": "2022-06-08T06:47:51.467Z"
   },
   {
    "duration": 14,
    "start_time": "2022-06-08T06:47:51.481Z"
   },
   {
    "duration": 149,
    "start_time": "2022-06-08T06:47:51.497Z"
   },
   {
    "duration": 151,
    "start_time": "2022-06-08T06:47:51.648Z"
   },
   {
    "duration": 198,
    "start_time": "2022-06-08T06:47:51.800Z"
   },
   {
    "duration": 176,
    "start_time": "2022-06-08T06:47:51.999Z"
   },
   {
    "duration": 114,
    "start_time": "2022-06-08T06:47:52.177Z"
   },
   {
    "duration": 2932,
    "start_time": "2022-06-08T06:47:52.293Z"
   },
   {
    "duration": 938,
    "start_time": "2022-06-08T06:47:55.227Z"
   },
   {
    "duration": 870,
    "start_time": "2022-06-08T06:47:56.166Z"
   },
   {
    "duration": 3,
    "start_time": "2022-06-08T06:47:57.039Z"
   },
   {
    "duration": 39,
    "start_time": "2022-06-08T06:47:57.043Z"
   },
   {
    "duration": 4,
    "start_time": "2022-06-08T06:47:57.084Z"
   },
   {
    "duration": 12778,
    "start_time": "2022-06-08T06:47:57.089Z"
   },
   {
    "duration": 3,
    "start_time": "2022-06-08T06:48:09.870Z"
   },
   {
    "duration": 103,
    "start_time": "2022-06-08T06:48:09.964Z"
   },
   {
    "duration": 6,
    "start_time": "2022-06-08T06:48:10.069Z"
   },
   {
    "duration": 9,
    "start_time": "2022-06-08T06:48:10.077Z"
   },
   {
    "duration": 14,
    "start_time": "2022-06-08T06:48:10.088Z"
   },
   {
    "duration": 139,
    "start_time": "2022-06-08T06:48:10.103Z"
   },
   {
    "duration": 28,
    "start_time": "2022-06-08T06:49:20.496Z"
   },
   {
    "duration": 27,
    "start_time": "2022-06-08T06:57:29.211Z"
   },
   {
    "duration": 37,
    "start_time": "2022-06-08T06:57:47.047Z"
   },
   {
    "duration": 26,
    "start_time": "2022-06-08T06:57:57.774Z"
   },
   {
    "duration": 5,
    "start_time": "2022-06-08T06:58:08.763Z"
   },
   {
    "duration": 26,
    "start_time": "2022-06-08T06:58:28.231Z"
   },
   {
    "duration": 25,
    "start_time": "2022-06-08T07:03:32.927Z"
   },
   {
    "duration": 27,
    "start_time": "2022-06-08T07:03:59.986Z"
   },
   {
    "duration": 26,
    "start_time": "2022-06-08T07:04:06.222Z"
   },
   {
    "duration": 25,
    "start_time": "2022-06-08T07:04:17.987Z"
   },
   {
    "duration": 81,
    "start_time": "2022-06-08T08:14:27.992Z"
   },
   {
    "duration": 1648,
    "start_time": "2022-06-08T08:14:33.762Z"
   },
   {
    "duration": 1100,
    "start_time": "2022-06-08T08:14:35.411Z"
   },
   {
    "duration": 15,
    "start_time": "2022-06-08T08:14:36.513Z"
   },
   {
    "duration": 22,
    "start_time": "2022-06-08T08:14:36.530Z"
   },
   {
    "duration": 14,
    "start_time": "2022-06-08T08:14:36.554Z"
   },
   {
    "duration": 173,
    "start_time": "2022-06-08T08:14:36.570Z"
   },
   {
    "duration": 185,
    "start_time": "2022-06-08T08:14:36.745Z"
   },
   {
    "duration": 240,
    "start_time": "2022-06-08T08:14:36.942Z"
   },
   {
    "duration": 338,
    "start_time": "2022-06-08T08:14:37.184Z"
   },
   {
    "duration": 129,
    "start_time": "2022-06-08T08:14:37.525Z"
   },
   {
    "duration": 3234,
    "start_time": "2022-06-08T08:14:37.656Z"
   },
   {
    "duration": 1155,
    "start_time": "2022-06-08T08:14:40.892Z"
   },
   {
    "duration": 805,
    "start_time": "2022-06-08T08:14:42.049Z"
   },
   {
    "duration": 5,
    "start_time": "2022-06-08T08:14:42.856Z"
   },
   {
    "duration": 38,
    "start_time": "2022-06-08T08:14:42.863Z"
   },
   {
    "duration": 6,
    "start_time": "2022-06-08T08:14:42.903Z"
   },
   {
    "duration": 9836,
    "start_time": "2022-06-08T08:14:42.911Z"
   },
   {
    "duration": 3,
    "start_time": "2022-06-08T08:14:52.752Z"
   },
   {
    "duration": 98,
    "start_time": "2022-06-08T08:14:52.756Z"
   },
   {
    "duration": 88,
    "start_time": "2022-06-08T08:14:52.855Z"
   },
   {
    "duration": 5,
    "start_time": "2022-06-08T08:14:52.945Z"
   },
   {
    "duration": 141,
    "start_time": "2022-06-08T08:14:52.951Z"
   },
   {
    "duration": 0,
    "start_time": "2022-06-08T08:14:53.094Z"
   },
   {
    "duration": 10,
    "start_time": "2022-06-08T08:19:17.993Z"
   },
   {
    "duration": 9,
    "start_time": "2022-06-08T08:19:32.425Z"
   },
   {
    "duration": 11,
    "start_time": "2022-06-08T08:19:51.461Z"
   },
   {
    "duration": 31,
    "start_time": "2022-06-08T08:20:15.037Z"
   },
   {
    "duration": 28,
    "start_time": "2022-06-08T08:20:29.093Z"
   },
   {
    "duration": 31,
    "start_time": "2022-06-08T08:20:54.044Z"
   },
   {
    "duration": 33,
    "start_time": "2022-06-08T08:26:14.060Z"
   },
   {
    "duration": 28,
    "start_time": "2022-06-08T08:26:45.995Z"
   },
   {
    "duration": 26,
    "start_time": "2022-06-08T08:27:16.379Z"
   },
   {
    "duration": 7,
    "start_time": "2022-06-08T08:27:21.591Z"
   },
   {
    "duration": 8,
    "start_time": "2022-06-08T08:27:35.295Z"
   },
   {
    "duration": 8,
    "start_time": "2022-06-08T08:28:52.179Z"
   },
   {
    "duration": 3278,
    "start_time": "2022-06-08T08:30:37.269Z"
   },
   {
    "duration": 11,
    "start_time": "2022-06-08T08:34:10.282Z"
   },
   {
    "duration": 28,
    "start_time": "2022-06-08T08:34:45.627Z"
   },
   {
    "duration": 11,
    "start_time": "2022-06-08T08:54:03.921Z"
   },
   {
    "duration": 10,
    "start_time": "2022-06-08T08:54:23.629Z"
   },
   {
    "duration": 5,
    "start_time": "2022-06-08T08:54:39.633Z"
   },
   {
    "duration": 1431,
    "start_time": "2022-06-08T08:55:05.578Z"
   },
   {
    "duration": 542,
    "start_time": "2022-06-08T08:55:07.012Z"
   },
   {
    "duration": 28,
    "start_time": "2022-06-08T08:55:07.555Z"
   },
   {
    "duration": 20,
    "start_time": "2022-06-08T08:55:07.585Z"
   },
   {
    "duration": 14,
    "start_time": "2022-06-08T08:55:07.607Z"
   },
   {
    "duration": 175,
    "start_time": "2022-06-08T08:55:07.622Z"
   },
   {
    "duration": 181,
    "start_time": "2022-06-08T08:55:07.798Z"
   },
   {
    "duration": 324,
    "start_time": "2022-06-08T08:55:07.981Z"
   },
   {
    "duration": 187,
    "start_time": "2022-06-08T08:55:08.307Z"
   },
   {
    "duration": 141,
    "start_time": "2022-06-08T08:55:08.497Z"
   },
   {
    "duration": 3530,
    "start_time": "2022-06-08T08:55:08.639Z"
   },
   {
    "duration": 1078,
    "start_time": "2022-06-08T08:55:12.171Z"
   },
   {
    "duration": 1001,
    "start_time": "2022-06-08T08:55:13.251Z"
   },
   {
    "duration": 11,
    "start_time": "2022-06-08T08:55:14.255Z"
   },
   {
    "duration": 50,
    "start_time": "2022-06-08T08:55:14.271Z"
   },
   {
    "duration": 5,
    "start_time": "2022-06-08T08:55:14.323Z"
   },
   {
    "duration": 9355,
    "start_time": "2022-06-08T08:55:14.329Z"
   },
   {
    "duration": 69,
    "start_time": "2022-06-08T08:55:23.690Z"
   },
   {
    "duration": 100,
    "start_time": "2022-06-08T08:55:23.780Z"
   },
   {
    "duration": 10,
    "start_time": "2022-06-08T08:55:23.882Z"
   },
   {
    "duration": 5,
    "start_time": "2022-06-08T08:55:23.894Z"
   },
   {
    "duration": 10,
    "start_time": "2022-06-08T08:55:23.901Z"
   },
   {
    "duration": 50,
    "start_time": "2022-06-08T08:56:26.970Z"
   },
   {
    "duration": 8,
    "start_time": "2022-06-08T08:56:39.919Z"
   },
   {
    "duration": 10,
    "start_time": "2022-06-08T08:56:46.092Z"
   },
   {
    "duration": 6,
    "start_time": "2022-06-08T08:57:01.159Z"
   },
   {
    "duration": 12,
    "start_time": "2022-06-08T08:57:08.664Z"
   },
   {
    "duration": 71,
    "start_time": "2022-06-08T08:58:09.703Z"
   },
   {
    "duration": 9674,
    "start_time": "2022-06-08T08:58:12.778Z"
   },
   {
    "duration": 9679,
    "start_time": "2022-06-08T08:58:46.491Z"
   },
   {
    "duration": 4,
    "start_time": "2022-06-08T09:01:05.987Z"
   },
   {
    "duration": 5,
    "start_time": "2022-06-08T09:06:13.541Z"
   },
   {
    "duration": 9,
    "start_time": "2022-06-08T09:06:51.293Z"
   },
   {
    "duration": 9,
    "start_time": "2022-06-08T09:07:11.208Z"
   },
   {
    "duration": 20,
    "start_time": "2022-06-08T09:15:40.205Z"
   },
   {
    "duration": 568,
    "start_time": "2022-06-08T09:16:12.569Z"
   },
   {
    "duration": 480,
    "start_time": "2022-06-08T09:16:24.342Z"
   },
   {
    "duration": 11,
    "start_time": "2022-06-08T09:16:42.350Z"
   },
   {
    "duration": 11,
    "start_time": "2022-06-08T09:17:03.151Z"
   },
   {
    "duration": 17,
    "start_time": "2022-06-08T09:17:14.047Z"
   },
   {
    "duration": 13,
    "start_time": "2022-06-08T09:17:35.793Z"
   },
   {
    "duration": 11,
    "start_time": "2022-06-08T09:18:03.366Z"
   },
   {
    "duration": 12,
    "start_time": "2022-06-08T09:18:11.313Z"
   },
   {
    "duration": 29,
    "start_time": "2022-06-08T09:18:32.325Z"
   },
   {
    "duration": 11,
    "start_time": "2022-06-08T09:19:00.860Z"
   },
   {
    "duration": 9,
    "start_time": "2022-06-08T09:19:12.263Z"
   },
   {
    "duration": 13,
    "start_time": "2022-06-08T09:20:12.954Z"
   },
   {
    "duration": 22,
    "start_time": "2022-06-08T09:20:55.904Z"
   },
   {
    "duration": 15,
    "start_time": "2022-06-08T09:21:52.128Z"
   },
   {
    "duration": 21,
    "start_time": "2022-06-08T09:22:07.120Z"
   },
   {
    "duration": 22,
    "start_time": "2022-06-08T09:23:29.255Z"
   },
   {
    "duration": 34,
    "start_time": "2022-06-08T09:24:11.743Z"
   },
   {
    "duration": 21,
    "start_time": "2022-06-08T09:24:27.275Z"
   },
   {
    "duration": 24,
    "start_time": "2022-06-08T09:24:44.591Z"
   },
   {
    "duration": 21,
    "start_time": "2022-06-08T09:25:19.279Z"
   },
   {
    "duration": 21,
    "start_time": "2022-06-08T10:14:57.962Z"
   },
   {
    "duration": 22,
    "start_time": "2022-06-08T10:15:13.078Z"
   },
   {
    "duration": 22,
    "start_time": "2022-06-08T10:15:35.839Z"
   },
   {
    "duration": 23,
    "start_time": "2022-06-08T10:15:52.437Z"
   },
   {
    "duration": 22,
    "start_time": "2022-06-08T10:16:07.345Z"
   },
   {
    "duration": 22,
    "start_time": "2022-06-08T10:16:27.910Z"
   },
   {
    "duration": 16,
    "start_time": "2022-06-08T10:26:07.530Z"
   },
   {
    "duration": 24,
    "start_time": "2022-06-08T10:26:17.405Z"
   },
   {
    "duration": 24,
    "start_time": "2022-06-08T10:26:22.930Z"
   },
   {
    "duration": 1308,
    "start_time": "2022-06-08T10:28:02.522Z"
   },
   {
    "duration": 414,
    "start_time": "2022-06-08T10:28:03.833Z"
   },
   {
    "duration": 16,
    "start_time": "2022-06-08T10:28:04.249Z"
   },
   {
    "duration": 14,
    "start_time": "2022-06-08T10:28:04.267Z"
   },
   {
    "duration": 15,
    "start_time": "2022-06-08T10:28:04.283Z"
   },
   {
    "duration": 166,
    "start_time": "2022-06-08T10:28:04.299Z"
   },
   {
    "duration": 145,
    "start_time": "2022-06-08T10:28:04.467Z"
   },
   {
    "duration": 208,
    "start_time": "2022-06-08T10:28:04.615Z"
   },
   {
    "duration": 172,
    "start_time": "2022-06-08T10:28:04.825Z"
   },
   {
    "duration": 121,
    "start_time": "2022-06-08T10:28:04.999Z"
   },
   {
    "duration": 3104,
    "start_time": "2022-06-08T10:28:05.121Z"
   },
   {
    "duration": 909,
    "start_time": "2022-06-08T10:28:08.226Z"
   },
   {
    "duration": 939,
    "start_time": "2022-06-08T10:28:09.142Z"
   },
   {
    "duration": 4,
    "start_time": "2022-06-08T10:28:10.092Z"
   },
   {
    "duration": 53,
    "start_time": "2022-06-08T10:28:10.098Z"
   },
   {
    "duration": 5,
    "start_time": "2022-06-08T10:28:10.152Z"
   },
   {
    "duration": 9984,
    "start_time": "2022-06-08T10:28:10.159Z"
   },
   {
    "duration": 5,
    "start_time": "2022-06-08T10:28:20.148Z"
   },
   {
    "duration": 97,
    "start_time": "2022-06-08T10:28:20.156Z"
   },
   {
    "duration": 9,
    "start_time": "2022-06-08T10:28:20.255Z"
   },
   {
    "duration": 4,
    "start_time": "2022-06-08T10:28:20.266Z"
   },
   {
    "duration": 31,
    "start_time": "2022-06-08T10:28:20.272Z"
   },
   {
    "duration": 21,
    "start_time": "2022-06-08T10:47:38.966Z"
   },
   {
    "duration": 21,
    "start_time": "2022-06-08T11:01:51.007Z"
   },
   {
    "duration": 66,
    "start_time": "2022-06-08T17:06:20.549Z"
   },
   {
    "duration": 5,
    "start_time": "2022-06-08T17:15:53.005Z"
   },
   {
    "duration": 1289,
    "start_time": "2022-06-08T17:15:59.745Z"
   },
   {
    "duration": 1229,
    "start_time": "2022-06-08T17:16:01.036Z"
   },
   {
    "duration": 19,
    "start_time": "2022-06-08T17:16:02.267Z"
   },
   {
    "duration": 27,
    "start_time": "2022-06-08T17:16:02.287Z"
   },
   {
    "duration": 11,
    "start_time": "2022-06-08T17:16:02.316Z"
   },
   {
    "duration": 110,
    "start_time": "2022-06-08T17:16:02.329Z"
   },
   {
    "duration": 110,
    "start_time": "2022-06-08T17:16:02.441Z"
   },
   {
    "duration": 166,
    "start_time": "2022-06-08T17:16:02.552Z"
   },
   {
    "duration": 156,
    "start_time": "2022-06-08T17:16:02.719Z"
   },
   {
    "duration": 111,
    "start_time": "2022-06-08T17:16:02.882Z"
   },
   {
    "duration": 2830,
    "start_time": "2022-06-08T17:16:02.994Z"
   },
   {
    "duration": 923,
    "start_time": "2022-06-08T17:16:05.825Z"
   },
   {
    "duration": 665,
    "start_time": "2022-06-08T17:16:06.749Z"
   },
   {
    "duration": 3,
    "start_time": "2022-06-08T17:16:07.416Z"
   },
   {
    "duration": 39,
    "start_time": "2022-06-08T17:16:07.420Z"
   },
   {
    "duration": 3,
    "start_time": "2022-06-08T17:16:07.461Z"
   },
   {
    "duration": 8013,
    "start_time": "2022-06-08T17:16:07.466Z"
   },
   {
    "duration": 4,
    "start_time": "2022-06-08T17:16:15.481Z"
   },
   {
    "duration": 115,
    "start_time": "2022-06-08T17:16:15.486Z"
   },
   {
    "duration": 5,
    "start_time": "2022-06-08T17:16:15.603Z"
   },
   {
    "duration": 5,
    "start_time": "2022-06-08T17:16:15.609Z"
   },
   {
    "duration": 18,
    "start_time": "2022-06-08T17:16:15.615Z"
   },
   {
    "duration": 3,
    "start_time": "2022-06-08T17:16:15.634Z"
   },
   {
    "duration": 106,
    "start_time": "2022-06-08T17:17:33.997Z"
   },
   {
    "duration": 1242,
    "start_time": "2022-06-08T17:18:58.687Z"
   },
   {
    "duration": 363,
    "start_time": "2022-06-08T17:18:59.931Z"
   },
   {
    "duration": 17,
    "start_time": "2022-06-08T17:19:00.295Z"
   },
   {
    "duration": 23,
    "start_time": "2022-06-08T17:19:00.314Z"
   },
   {
    "duration": 27,
    "start_time": "2022-06-08T17:19:00.339Z"
   },
   {
    "duration": 129,
    "start_time": "2022-06-08T17:19:00.367Z"
   },
   {
    "duration": 122,
    "start_time": "2022-06-08T17:19:00.498Z"
   },
   {
    "duration": 167,
    "start_time": "2022-06-08T17:19:00.622Z"
   },
   {
    "duration": 200,
    "start_time": "2022-06-08T17:19:00.790Z"
   },
   {
    "duration": 110,
    "start_time": "2022-06-08T17:19:00.993Z"
   },
   {
    "duration": 2916,
    "start_time": "2022-06-08T17:19:01.104Z"
   },
   {
    "duration": 926,
    "start_time": "2022-06-08T17:19:04.022Z"
   },
   {
    "duration": 757,
    "start_time": "2022-06-08T17:19:04.951Z"
   },
   {
    "duration": 4,
    "start_time": "2022-06-08T17:19:05.710Z"
   },
   {
    "duration": 61,
    "start_time": "2022-06-08T17:19:05.715Z"
   },
   {
    "duration": 16,
    "start_time": "2022-06-08T17:19:05.777Z"
   },
   {
    "duration": 8008,
    "start_time": "2022-06-08T17:19:05.797Z"
   },
   {
    "duration": 76,
    "start_time": "2022-06-08T17:19:13.807Z"
   },
   {
    "duration": 115,
    "start_time": "2022-06-08T17:19:13.885Z"
   },
   {
    "duration": 7,
    "start_time": "2022-06-08T17:19:14.001Z"
   },
   {
    "duration": 4,
    "start_time": "2022-06-08T17:19:14.009Z"
   },
   {
    "duration": 19,
    "start_time": "2022-06-08T17:19:14.015Z"
   },
   {
    "duration": 4,
    "start_time": "2022-06-08T17:19:14.035Z"
   },
   {
    "duration": 7,
    "start_time": "2022-06-08T17:19:14.041Z"
   },
   {
    "duration": 0,
    "start_time": "2022-06-08T17:19:14.049Z"
   },
   {
    "duration": 7,
    "start_time": "2022-06-08T17:19:26.275Z"
   },
   {
    "duration": 101,
    "start_time": "2022-06-08T17:19:29.650Z"
   },
   {
    "duration": 13,
    "start_time": "2022-06-08T17:19:48.158Z"
   },
   {
    "duration": 3,
    "start_time": "2022-06-08T17:23:30.649Z"
   },
   {
    "duration": 13,
    "start_time": "2022-06-08T17:23:33.733Z"
   },
   {
    "duration": 11,
    "start_time": "2022-06-08T17:23:41.796Z"
   },
   {
    "duration": 18,
    "start_time": "2022-06-08T17:23:42.684Z"
   },
   {
    "duration": 5,
    "start_time": "2022-06-08T17:24:47.628Z"
   },
   {
    "duration": 24,
    "start_time": "2022-06-08T17:24:49.820Z"
   },
   {
    "duration": 6,
    "start_time": "2022-06-08T17:25:02.804Z"
   },
   {
    "duration": 16,
    "start_time": "2022-06-08T17:25:05.944Z"
   },
   {
    "duration": 3,
    "start_time": "2022-06-08T17:25:10.127Z"
   },
   {
    "duration": 19,
    "start_time": "2022-06-08T17:25:12.540Z"
   },
   {
    "duration": 5,
    "start_time": "2022-06-08T17:25:45.406Z"
   },
   {
    "duration": 17,
    "start_time": "2022-06-08T17:25:47.312Z"
   },
   {
    "duration": 10,
    "start_time": "2022-06-08T17:26:34.783Z"
   },
   {
    "duration": 1014,
    "start_time": "2022-06-08T17:26:37.115Z"
   },
   {
    "duration": 4,
    "start_time": "2022-06-08T17:27:11.409Z"
   },
   {
    "duration": 935,
    "start_time": "2022-06-08T17:27:13.423Z"
   },
   {
    "duration": 14,
    "start_time": "2022-06-08T17:32:26.283Z"
   },
   {
    "duration": 8,
    "start_time": "2022-06-08T17:33:51.705Z"
   },
   {
    "duration": 3,
    "start_time": "2022-06-08T17:33:55.653Z"
   },
   {
    "duration": 10,
    "start_time": "2022-06-08T17:33:56.770Z"
   },
   {
    "duration": 4,
    "start_time": "2022-06-08T17:34:26.149Z"
   },
   {
    "duration": 22,
    "start_time": "2022-06-08T17:34:28.721Z"
   },
   {
    "duration": 13,
    "start_time": "2022-06-08T17:35:46.641Z"
   },
   {
    "duration": 1113,
    "start_time": "2022-06-08T17:36:18.414Z"
   },
   {
    "duration": 338,
    "start_time": "2022-06-08T17:36:19.529Z"
   },
   {
    "duration": 18,
    "start_time": "2022-06-08T17:36:19.869Z"
   },
   {
    "duration": 22,
    "start_time": "2022-06-08T17:36:19.890Z"
   },
   {
    "duration": 17,
    "start_time": "2022-06-08T17:36:19.914Z"
   },
   {
    "duration": 122,
    "start_time": "2022-06-08T17:36:19.933Z"
   },
   {
    "duration": 131,
    "start_time": "2022-06-08T17:36:20.057Z"
   },
   {
    "duration": 154,
    "start_time": "2022-06-08T17:36:20.196Z"
   },
   {
    "duration": 167,
    "start_time": "2022-06-08T17:36:20.352Z"
   },
   {
    "duration": 123,
    "start_time": "2022-06-08T17:36:20.521Z"
   },
   {
    "duration": 3157,
    "start_time": "2022-06-08T17:36:20.645Z"
   },
   {
    "duration": 857,
    "start_time": "2022-06-08T17:36:23.804Z"
   },
   {
    "duration": 706,
    "start_time": "2022-06-08T17:36:24.663Z"
   },
   {
    "duration": 8,
    "start_time": "2022-06-08T17:36:25.370Z"
   },
   {
    "duration": 42,
    "start_time": "2022-06-08T17:36:25.384Z"
   },
   {
    "duration": 4,
    "start_time": "2022-06-08T17:36:25.427Z"
   },
   {
    "duration": 9273,
    "start_time": "2022-06-08T17:36:25.432Z"
   },
   {
    "duration": 11,
    "start_time": "2022-06-08T17:36:34.784Z"
   },
   {
    "duration": 101,
    "start_time": "2022-06-08T17:36:34.796Z"
   },
   {
    "duration": 6,
    "start_time": "2022-06-08T17:36:34.899Z"
   },
   {
    "duration": 4,
    "start_time": "2022-06-08T17:36:34.907Z"
   },
   {
    "duration": 18,
    "start_time": "2022-06-08T17:36:34.912Z"
   },
   {
    "duration": 2,
    "start_time": "2022-06-08T17:36:34.931Z"
   },
   {
    "duration": 9,
    "start_time": "2022-06-08T17:36:34.935Z"
   },
   {
    "duration": 103,
    "start_time": "2022-06-08T17:36:34.945Z"
   },
   {
    "duration": 0,
    "start_time": "2022-06-08T17:36:35.050Z"
   },
   {
    "duration": 3,
    "start_time": "2022-06-08T17:37:03.463Z"
   },
   {
    "duration": 9,
    "start_time": "2022-06-08T17:37:04.903Z"
   },
   {
    "duration": 10,
    "start_time": "2022-06-08T17:37:06.558Z"
   },
   {
    "duration": 4,
    "start_time": "2022-06-08T17:37:08.814Z"
   },
   {
    "duration": 3,
    "start_time": "2022-06-08T17:37:22.807Z"
   },
   {
    "duration": 8,
    "start_time": "2022-06-08T17:37:24.543Z"
   },
   {
    "duration": 3,
    "start_time": "2022-06-08T17:38:06.443Z"
   },
   {
    "duration": 13,
    "start_time": "2022-06-08T17:38:08.093Z"
   },
   {
    "duration": 31,
    "start_time": "2022-06-08T17:38:47.895Z"
   },
   {
    "duration": 11,
    "start_time": "2022-06-08T17:38:52.662Z"
   },
   {
    "duration": 8,
    "start_time": "2022-06-08T17:39:32.904Z"
   },
   {
    "duration": 6,
    "start_time": "2022-06-08T17:39:49.205Z"
   },
   {
    "duration": 6,
    "start_time": "2022-06-08T17:39:51.970Z"
   },
   {
    "duration": 12,
    "start_time": "2022-06-08T17:40:35.373Z"
   },
   {
    "duration": 10,
    "start_time": "2022-06-08T17:40:47.703Z"
   },
   {
    "duration": 11,
    "start_time": "2022-06-08T17:41:01.922Z"
   },
   {
    "duration": 8,
    "start_time": "2022-06-08T17:41:31.210Z"
   },
   {
    "duration": 18,
    "start_time": "2022-06-08T17:41:38.288Z"
   },
   {
    "duration": 14,
    "start_time": "2022-06-08T17:41:52.374Z"
   },
   {
    "duration": 13,
    "start_time": "2022-06-08T17:42:02.919Z"
   },
   {
    "duration": 10,
    "start_time": "2022-06-08T17:42:22.538Z"
   },
   {
    "duration": 12,
    "start_time": "2022-06-08T17:42:27.732Z"
   },
   {
    "duration": 36,
    "start_time": "2022-06-08T17:43:15.891Z"
   },
   {
    "duration": 10,
    "start_time": "2022-06-08T17:43:20.617Z"
   },
   {
    "duration": 10,
    "start_time": "2022-06-08T17:43:29.949Z"
   },
   {
    "duration": 14,
    "start_time": "2022-06-08T17:43:44.777Z"
   },
   {
    "duration": 4,
    "start_time": "2022-06-08T17:43:49.097Z"
   },
   {
    "duration": 17,
    "start_time": "2022-06-08T17:43:49.985Z"
   },
   {
    "duration": 16,
    "start_time": "2022-06-08T17:43:59.097Z"
   },
   {
    "duration": 4,
    "start_time": "2022-06-08T17:44:16.054Z"
   },
   {
    "duration": 18,
    "start_time": "2022-06-08T17:44:42.396Z"
   },
   {
    "duration": 3,
    "start_time": "2022-06-08T17:48:06.300Z"
   },
   {
    "duration": 17,
    "start_time": "2022-06-08T17:48:07.109Z"
   },
   {
    "duration": 20,
    "start_time": "2022-06-08T17:48:17.321Z"
   },
   {
    "duration": 3,
    "start_time": "2022-06-08T17:48:38.038Z"
   },
   {
    "duration": 16,
    "start_time": "2022-06-08T17:48:39.123Z"
   },
   {
    "duration": 34,
    "start_time": "2022-06-09T02:50:33.150Z"
   },
   {
    "duration": 19,
    "start_time": "2022-06-09T02:50:36.102Z"
   },
   {
    "duration": 41,
    "start_time": "2022-06-09T02:50:44.130Z"
   },
   {
    "duration": 4,
    "start_time": "2022-06-09T02:50:46.534Z"
   },
   {
    "duration": 7,
    "start_time": "2022-06-09T02:50:56.870Z"
   },
   {
    "duration": 1359,
    "start_time": "2022-06-09T02:51:09.728Z"
   },
   {
    "duration": 1089,
    "start_time": "2022-06-09T02:51:11.088Z"
   },
   {
    "duration": 14,
    "start_time": "2022-06-09T02:51:12.179Z"
   },
   {
    "duration": 13,
    "start_time": "2022-06-09T02:51:12.195Z"
   },
   {
    "duration": 28,
    "start_time": "2022-06-09T02:51:12.211Z"
   },
   {
    "duration": 123,
    "start_time": "2022-06-09T02:51:12.240Z"
   },
   {
    "duration": 123,
    "start_time": "2022-06-09T02:51:12.365Z"
   },
   {
    "duration": 148,
    "start_time": "2022-06-09T02:51:12.489Z"
   },
   {
    "duration": 164,
    "start_time": "2022-06-09T02:51:12.639Z"
   },
   {
    "duration": 100,
    "start_time": "2022-06-09T02:51:12.804Z"
   },
   {
    "duration": 2779,
    "start_time": "2022-06-09T02:51:12.905Z"
   },
   {
    "duration": 931,
    "start_time": "2022-06-09T02:51:15.686Z"
   },
   {
    "duration": 674,
    "start_time": "2022-06-09T02:51:16.619Z"
   },
   {
    "duration": 8,
    "start_time": "2022-06-09T02:51:17.297Z"
   },
   {
    "duration": 35,
    "start_time": "2022-06-09T02:51:17.306Z"
   },
   {
    "duration": 4,
    "start_time": "2022-06-09T02:51:17.343Z"
   },
   {
    "duration": 13191,
    "start_time": "2022-06-09T02:51:17.348Z"
   },
   {
    "duration": 88,
    "start_time": "2022-06-09T02:51:30.541Z"
   },
   {
    "duration": 111,
    "start_time": "2022-06-09T02:51:30.631Z"
   },
   {
    "duration": 10,
    "start_time": "2022-06-09T02:51:30.744Z"
   },
   {
    "duration": 13,
    "start_time": "2022-06-09T02:51:30.756Z"
   },
   {
    "duration": 27,
    "start_time": "2022-06-09T02:51:30.771Z"
   },
   {
    "duration": 4,
    "start_time": "2022-06-09T02:51:30.800Z"
   },
   {
    "duration": 29,
    "start_time": "2022-06-09T02:51:30.806Z"
   },
   {
    "duration": 19,
    "start_time": "2022-06-09T02:52:11.681Z"
   },
   {
    "duration": 51,
    "start_time": "2022-06-10T09:10:31.614Z"
   },
   {
    "duration": 48,
    "start_time": "2022-06-10T09:10:40.778Z"
   },
   {
    "duration": 1687,
    "start_time": "2022-06-10T09:11:01.063Z"
   },
   {
    "duration": 1235,
    "start_time": "2022-06-10T09:11:02.753Z"
   },
   {
    "duration": 20,
    "start_time": "2022-06-10T09:11:03.991Z"
   },
   {
    "duration": 21,
    "start_time": "2022-06-10T09:11:04.027Z"
   },
   {
    "duration": 20,
    "start_time": "2022-06-10T09:11:04.052Z"
   },
   {
    "duration": 226,
    "start_time": "2022-06-10T09:11:04.075Z"
   },
   {
    "duration": 190,
    "start_time": "2022-06-10T09:11:04.304Z"
   },
   {
    "duration": 319,
    "start_time": "2022-06-10T09:11:04.496Z"
   },
   {
    "duration": 211,
    "start_time": "2022-06-10T09:11:04.825Z"
   },
   {
    "duration": 161,
    "start_time": "2022-06-10T09:11:05.039Z"
   },
   {
    "duration": 3602,
    "start_time": "2022-06-10T09:11:05.202Z"
   },
   {
    "duration": 1116,
    "start_time": "2022-06-10T09:11:08.806Z"
   },
   {
    "duration": 920,
    "start_time": "2022-06-10T09:11:09.926Z"
   },
   {
    "duration": 4,
    "start_time": "2022-06-10T09:11:10.848Z"
   },
   {
    "duration": 59,
    "start_time": "2022-06-10T09:11:10.854Z"
   },
   {
    "duration": 5,
    "start_time": "2022-06-10T09:11:10.925Z"
   },
   {
    "duration": 12996,
    "start_time": "2022-06-10T09:11:10.933Z"
   },
   {
    "duration": 3,
    "start_time": "2022-06-10T09:11:23.932Z"
   },
   {
    "duration": 13,
    "start_time": "2022-06-10T09:11:24.027Z"
   },
   {
    "duration": 13,
    "start_time": "2022-06-10T09:11:24.043Z"
   },
   {
    "duration": 68,
    "start_time": "2022-06-10T09:11:24.058Z"
   },
   {
    "duration": 26,
    "start_time": "2022-06-10T09:11:24.129Z"
   },
   {
    "duration": 140,
    "start_time": "2022-06-10T09:11:24.157Z"
   },
   {
    "duration": 3,
    "start_time": "2022-06-10T09:17:10.883Z"
   },
   {
    "duration": 10,
    "start_time": "2022-06-10T09:17:11.761Z"
   },
   {
    "duration": 10,
    "start_time": "2022-06-10T09:32:48.461Z"
   },
   {
    "duration": 25,
    "start_time": "2022-06-10T09:33:53.228Z"
   },
   {
    "duration": 21,
    "start_time": "2022-06-10T09:34:16.445Z"
   },
   {
    "duration": 17,
    "start_time": "2022-06-10T09:34:57.810Z"
   },
   {
    "duration": 1416,
    "start_time": "2022-06-10T09:35:48.642Z"
   },
   {
    "duration": 1518,
    "start_time": "2022-06-10T09:36:45.562Z"
   },
   {
    "duration": 237,
    "start_time": "2022-06-10T09:37:57.865Z"
   },
   {
    "duration": 751,
    "start_time": "2022-06-10T10:04:53.760Z"
   },
   {
    "duration": 715,
    "start_time": "2022-06-10T10:05:00.099Z"
   },
   {
    "duration": 717,
    "start_time": "2022-06-10T10:05:05.471Z"
   },
   {
    "duration": 1966,
    "start_time": "2022-06-10T10:05:11.702Z"
   },
   {
    "duration": 1491,
    "start_time": "2022-06-10T10:05:19.499Z"
   },
   {
    "duration": 1456,
    "start_time": "2022-06-10T10:05:22.292Z"
   },
   {
    "duration": 1514,
    "start_time": "2022-06-10T10:05:25.212Z"
   },
   {
    "duration": 1834,
    "start_time": "2022-06-10T10:05:29.862Z"
   },
   {
    "duration": 1472,
    "start_time": "2022-06-10T10:05:47.934Z"
   },
   {
    "duration": 10,
    "start_time": "2022-06-10T18:10:13.046Z"
   },
   {
    "duration": 1675,
    "start_time": "2022-06-10T18:10:17.714Z"
   },
   {
    "duration": 1023,
    "start_time": "2022-06-10T18:10:19.391Z"
   },
   {
    "duration": 19,
    "start_time": "2022-06-10T18:10:20.416Z"
   },
   {
    "duration": 25,
    "start_time": "2022-06-10T18:10:20.438Z"
   },
   {
    "duration": 46,
    "start_time": "2022-06-10T18:10:20.465Z"
   },
   {
    "duration": 162,
    "start_time": "2022-06-10T18:10:20.513Z"
   },
   {
    "duration": 177,
    "start_time": "2022-06-10T18:10:20.677Z"
   },
   {
    "duration": 232,
    "start_time": "2022-06-10T18:10:20.857Z"
   },
   {
    "duration": 220,
    "start_time": "2022-06-10T18:10:21.091Z"
   },
   {
    "duration": 139,
    "start_time": "2022-06-10T18:10:21.315Z"
   },
   {
    "duration": 3401,
    "start_time": "2022-06-10T18:10:21.456Z"
   },
   {
    "duration": 1052,
    "start_time": "2022-06-10T18:10:24.859Z"
   },
   {
    "duration": 764,
    "start_time": "2022-06-10T18:10:25.913Z"
   },
   {
    "duration": 3,
    "start_time": "2022-06-10T18:10:26.679Z"
   },
   {
    "duration": 46,
    "start_time": "2022-06-10T18:10:26.694Z"
   },
   {
    "duration": 4,
    "start_time": "2022-06-10T18:10:26.742Z"
   },
   {
    "duration": 4340,
    "start_time": "2022-06-10T18:10:26.748Z"
   },
   {
    "duration": 0,
    "start_time": "2022-06-10T18:10:31.102Z"
   },
   {
    "duration": 0,
    "start_time": "2022-06-10T18:10:31.107Z"
   },
   {
    "duration": 0,
    "start_time": "2022-06-10T18:10:31.109Z"
   },
   {
    "duration": 0,
    "start_time": "2022-06-10T18:10:31.111Z"
   },
   {
    "duration": 0,
    "start_time": "2022-06-10T18:10:31.113Z"
   },
   {
    "duration": 0,
    "start_time": "2022-06-10T18:10:31.115Z"
   },
   {
    "duration": 0,
    "start_time": "2022-06-10T18:10:31.116Z"
   },
   {
    "duration": 1278,
    "start_time": "2022-06-10T18:11:21.614Z"
   },
   {
    "duration": 439,
    "start_time": "2022-06-10T18:11:22.895Z"
   },
   {
    "duration": 16,
    "start_time": "2022-06-10T18:11:23.335Z"
   },
   {
    "duration": 13,
    "start_time": "2022-06-10T18:11:23.353Z"
   },
   {
    "duration": 30,
    "start_time": "2022-06-10T18:11:23.367Z"
   },
   {
    "duration": 154,
    "start_time": "2022-06-10T18:11:23.401Z"
   },
   {
    "duration": 155,
    "start_time": "2022-06-10T18:11:23.556Z"
   },
   {
    "duration": 182,
    "start_time": "2022-06-10T18:11:23.712Z"
   },
   {
    "duration": 223,
    "start_time": "2022-06-10T18:11:23.895Z"
   },
   {
    "duration": 120,
    "start_time": "2022-06-10T18:11:24.121Z"
   },
   {
    "duration": 3266,
    "start_time": "2022-06-10T18:11:24.242Z"
   },
   {
    "duration": 900,
    "start_time": "2022-06-10T18:11:27.510Z"
   },
   {
    "duration": 917,
    "start_time": "2022-06-10T18:11:28.412Z"
   },
   {
    "duration": 3,
    "start_time": "2022-06-10T18:11:29.332Z"
   },
   {
    "duration": 45,
    "start_time": "2022-06-10T18:11:29.337Z"
   },
   {
    "duration": 7,
    "start_time": "2022-06-10T18:11:29.401Z"
   },
   {
    "duration": 3675,
    "start_time": "2022-06-10T18:11:29.410Z"
   },
   {
    "duration": 0,
    "start_time": "2022-06-10T18:11:33.086Z"
   },
   {
    "duration": 0,
    "start_time": "2022-06-10T18:11:33.106Z"
   },
   {
    "duration": 0,
    "start_time": "2022-06-10T18:11:33.109Z"
   },
   {
    "duration": 0,
    "start_time": "2022-06-10T18:11:33.111Z"
   },
   {
    "duration": 0,
    "start_time": "2022-06-10T18:11:33.112Z"
   },
   {
    "duration": 0,
    "start_time": "2022-06-10T18:11:33.114Z"
   },
   {
    "duration": 0,
    "start_time": "2022-06-10T18:11:33.115Z"
   },
   {
    "duration": 5,
    "start_time": "2022-06-10T18:14:08.407Z"
   },
   {
    "duration": 3865,
    "start_time": "2022-06-10T18:14:50.537Z"
   },
   {
    "duration": 5,
    "start_time": "2022-06-10T18:15:13.981Z"
   },
   {
    "duration": 3683,
    "start_time": "2022-06-10T18:15:16.320Z"
   },
   {
    "duration": 11605,
    "start_time": "2022-06-10T18:15:54.721Z"
   },
   {
    "duration": 10,
    "start_time": "2022-06-10T18:16:37.006Z"
   },
   {
    "duration": 10,
    "start_time": "2022-06-10T18:16:44.845Z"
   },
   {
    "duration": 4,
    "start_time": "2022-06-10T18:17:02.177Z"
   },
   {
    "duration": 6,
    "start_time": "2022-06-10T18:17:10.988Z"
   },
   {
    "duration": 4,
    "start_time": "2022-06-10T18:17:14.813Z"
   },
   {
    "duration": 3,
    "start_time": "2022-06-10T18:17:52.023Z"
   },
   {
    "duration": 13,
    "start_time": "2022-06-10T18:18:01.093Z"
   },
   {
    "duration": 20,
    "start_time": "2022-06-10T18:18:05.889Z"
   },
   {
    "duration": 1368,
    "start_time": "2022-06-10T18:18:14.309Z"
   },
   {
    "duration": 456,
    "start_time": "2022-06-10T18:18:15.680Z"
   },
   {
    "duration": 17,
    "start_time": "2022-06-10T18:18:16.138Z"
   },
   {
    "duration": 16,
    "start_time": "2022-06-10T18:18:16.157Z"
   },
   {
    "duration": 37,
    "start_time": "2022-06-10T18:18:16.175Z"
   },
   {
    "duration": 171,
    "start_time": "2022-06-10T18:18:16.214Z"
   },
   {
    "duration": 172,
    "start_time": "2022-06-10T18:18:16.387Z"
   },
   {
    "duration": 253,
    "start_time": "2022-06-10T18:18:16.561Z"
   },
   {
    "duration": 218,
    "start_time": "2022-06-10T18:18:16.816Z"
   },
   {
    "duration": 143,
    "start_time": "2022-06-10T18:18:17.038Z"
   },
   {
    "duration": 3403,
    "start_time": "2022-06-10T18:18:17.182Z"
   },
   {
    "duration": 1026,
    "start_time": "2022-06-10T18:18:20.587Z"
   },
   {
    "duration": 784,
    "start_time": "2022-06-10T18:18:21.614Z"
   },
   {
    "duration": 5,
    "start_time": "2022-06-10T18:18:22.407Z"
   },
   {
    "duration": 45,
    "start_time": "2022-06-10T18:18:22.413Z"
   },
   {
    "duration": 4,
    "start_time": "2022-06-10T18:18:22.460Z"
   },
   {
    "duration": 11436,
    "start_time": "2022-06-10T18:18:22.466Z"
   },
   {
    "duration": 291,
    "start_time": "2022-06-10T18:18:33.904Z"
   },
   {
    "duration": 0,
    "start_time": "2022-06-10T18:18:34.197Z"
   },
   {
    "duration": 0,
    "start_time": "2022-06-10T18:18:34.198Z"
   },
   {
    "duration": 0,
    "start_time": "2022-06-10T18:18:34.200Z"
   },
   {
    "duration": 0,
    "start_time": "2022-06-10T18:18:34.201Z"
   },
   {
    "duration": 0,
    "start_time": "2022-06-10T18:18:34.202Z"
   },
   {
    "duration": 0,
    "start_time": "2022-06-10T18:18:34.204Z"
   },
   {
    "duration": 0,
    "start_time": "2022-06-10T18:18:34.205Z"
   },
   {
    "duration": 1378,
    "start_time": "2022-06-10T18:21:05.908Z"
   },
   {
    "duration": 459,
    "start_time": "2022-06-10T18:21:07.288Z"
   },
   {
    "duration": 17,
    "start_time": "2022-06-10T18:21:07.749Z"
   },
   {
    "duration": 32,
    "start_time": "2022-06-10T18:21:07.770Z"
   },
   {
    "duration": 24,
    "start_time": "2022-06-10T18:21:07.804Z"
   },
   {
    "duration": 146,
    "start_time": "2022-06-10T18:21:07.829Z"
   },
   {
    "duration": 168,
    "start_time": "2022-06-10T18:21:07.977Z"
   },
   {
    "duration": 208,
    "start_time": "2022-06-10T18:21:08.146Z"
   },
   {
    "duration": 199,
    "start_time": "2022-06-10T18:21:08.355Z"
   },
   {
    "duration": 158,
    "start_time": "2022-06-10T18:21:08.556Z"
   },
   {
    "duration": 3438,
    "start_time": "2022-06-10T18:21:08.716Z"
   },
   {
    "duration": 1028,
    "start_time": "2022-06-10T18:21:12.157Z"
   },
   {
    "duration": 785,
    "start_time": "2022-06-10T18:21:13.186Z"
   },
   {
    "duration": 4,
    "start_time": "2022-06-10T18:21:13.973Z"
   },
   {
    "duration": 62,
    "start_time": "2022-06-10T18:21:13.978Z"
   },
   {
    "duration": 5,
    "start_time": "2022-06-10T18:21:14.043Z"
   },
   {
    "duration": 11354,
    "start_time": "2022-06-10T18:21:14.050Z"
   },
   {
    "duration": 8,
    "start_time": "2022-06-10T18:21:25.410Z"
   },
   {
    "duration": 114,
    "start_time": "2022-06-10T18:21:25.421Z"
   },
   {
    "duration": 6,
    "start_time": "2022-06-10T18:21:25.537Z"
   },
   {
    "duration": 24,
    "start_time": "2022-06-10T18:21:25.597Z"
   },
   {
    "duration": 21,
    "start_time": "2022-06-10T18:21:25.623Z"
   },
   {
    "duration": 3,
    "start_time": "2022-06-10T18:21:25.645Z"
   },
   {
    "duration": 1845,
    "start_time": "2022-06-10T18:21:25.649Z"
   },
   {
    "duration": 1757,
    "start_time": "2022-06-10T18:22:13.553Z"
   },
   {
    "duration": 1790,
    "start_time": "2022-06-10T18:22:47.111Z"
   },
   {
    "duration": 29,
    "start_time": "2022-06-10T18:26:43.224Z"
   },
   {
    "duration": 26,
    "start_time": "2022-06-10T18:26:51.916Z"
   },
   {
    "duration": 6,
    "start_time": "2022-06-10T18:27:09.341Z"
   },
   {
    "duration": 1653,
    "start_time": "2022-06-10T18:27:24.591Z"
   },
   {
    "duration": 38,
    "start_time": "2022-06-10T18:28:03.535Z"
   },
   {
    "duration": 47,
    "start_time": "2022-06-10T18:28:22.247Z"
   },
   {
    "duration": 35,
    "start_time": "2022-06-10T18:28:25.007Z"
   },
   {
    "duration": 1829,
    "start_time": "2022-06-10T18:28:47.827Z"
   },
   {
    "duration": 1784,
    "start_time": "2022-06-10T18:29:28.505Z"
   },
   {
    "duration": 1768,
    "start_time": "2022-06-10T18:30:15.591Z"
   },
   {
    "duration": 1801,
    "start_time": "2022-06-10T18:30:29.370Z"
   },
   {
    "duration": 40,
    "start_time": "2022-06-10T18:31:19.751Z"
   },
   {
    "duration": 21,
    "start_time": "2022-06-10T18:31:26.270Z"
   },
   {
    "duration": 6,
    "start_time": "2022-06-10T18:31:35.442Z"
   },
   {
    "duration": 5,
    "start_time": "2022-06-10T18:31:41.350Z"
   },
   {
    "duration": 1843,
    "start_time": "2022-06-10T18:31:59.924Z"
   },
   {
    "duration": 1894,
    "start_time": "2022-06-10T18:32:07.790Z"
   },
   {
    "duration": 1865,
    "start_time": "2022-06-10T18:32:14.158Z"
   },
   {
    "duration": 5234,
    "start_time": "2022-06-10T18:34:37.290Z"
   },
   {
    "duration": 5383,
    "start_time": "2022-06-10T18:34:46.322Z"
   },
   {
    "duration": 5221,
    "start_time": "2022-06-10T18:35:18.050Z"
   },
   {
    "duration": 5217,
    "start_time": "2022-06-10T18:36:11.874Z"
   },
   {
    "duration": 5548,
    "start_time": "2022-06-10T18:40:07.187Z"
   },
   {
    "duration": 44,
    "start_time": "2022-06-13T06:49:42.682Z"
   },
   {
    "duration": 1272,
    "start_time": "2022-06-13T06:49:48.724Z"
   },
   {
    "duration": 1493,
    "start_time": "2022-06-13T06:49:49.997Z"
   },
   {
    "duration": 13,
    "start_time": "2022-06-13T06:49:51.492Z"
   },
   {
    "duration": 11,
    "start_time": "2022-06-13T06:49:51.508Z"
   },
   {
    "duration": 16,
    "start_time": "2022-06-13T06:49:51.520Z"
   },
   {
    "duration": 129,
    "start_time": "2022-06-13T06:49:51.538Z"
   },
   {
    "duration": 121,
    "start_time": "2022-06-13T06:49:51.678Z"
   },
   {
    "duration": 132,
    "start_time": "2022-06-13T06:49:51.801Z"
   },
   {
    "duration": 141,
    "start_time": "2022-06-13T06:49:51.934Z"
   },
   {
    "duration": 104,
    "start_time": "2022-06-13T06:49:52.079Z"
   },
   {
    "duration": 2608,
    "start_time": "2022-06-13T06:49:52.184Z"
   },
   {
    "duration": 847,
    "start_time": "2022-06-13T06:49:54.793Z"
   },
   {
    "duration": 684,
    "start_time": "2022-06-13T06:49:55.641Z"
   },
   {
    "duration": 4,
    "start_time": "2022-06-13T06:49:56.327Z"
   },
   {
    "duration": 45,
    "start_time": "2022-06-13T06:49:56.333Z"
   },
   {
    "duration": 4,
    "start_time": "2022-06-13T06:49:56.380Z"
   },
   {
    "duration": 9102,
    "start_time": "2022-06-13T06:49:56.385Z"
   },
   {
    "duration": 90,
    "start_time": "2022-06-13T06:50:05.489Z"
   },
   {
    "duration": 109,
    "start_time": "2022-06-13T06:50:05.580Z"
   },
   {
    "duration": 6,
    "start_time": "2022-06-13T06:50:05.691Z"
   },
   {
    "duration": 9,
    "start_time": "2022-06-13T06:50:05.699Z"
   },
   {
    "duration": 30,
    "start_time": "2022-06-13T06:50:05.709Z"
   },
   {
    "duration": 3,
    "start_time": "2022-06-13T06:50:05.740Z"
   },
   {
    "duration": 1539,
    "start_time": "2022-06-13T06:50:05.744Z"
   },
   {
    "duration": 4080,
    "start_time": "2022-06-13T06:50:18.185Z"
   },
   {
    "duration": 4613,
    "start_time": "2022-06-13T06:50:23.261Z"
   },
   {
    "duration": 4213,
    "start_time": "2022-06-13T06:50:42.251Z"
   },
   {
    "duration": 4245,
    "start_time": "2022-06-13T06:50:59.189Z"
   },
   {
    "duration": 4253,
    "start_time": "2022-06-13T06:51:15.516Z"
   },
   {
    "duration": 4209,
    "start_time": "2022-06-13T06:52:02.311Z"
   },
   {
    "duration": 4745,
    "start_time": "2022-06-13T06:52:22.096Z"
   },
   {
    "duration": 4272,
    "start_time": "2022-06-13T06:52:37.116Z"
   },
   {
    "duration": 1470,
    "start_time": "2022-06-13T06:52:46.287Z"
   },
   {
    "duration": 4648,
    "start_time": "2022-06-13T06:52:55.307Z"
   },
   {
    "duration": 4196,
    "start_time": "2022-06-13T06:53:07.940Z"
   },
   {
    "duration": 4243,
    "start_time": "2022-06-13T06:53:32.685Z"
   },
   {
    "duration": 4357,
    "start_time": "2022-06-13T06:59:20.006Z"
   },
   {
    "duration": 1168,
    "start_time": "2022-06-13T07:12:17.934Z"
   },
   {
    "duration": 333,
    "start_time": "2022-06-13T07:12:19.104Z"
   },
   {
    "duration": 13,
    "start_time": "2022-06-13T07:12:19.439Z"
   },
   {
    "duration": 19,
    "start_time": "2022-06-13T07:12:19.454Z"
   },
   {
    "duration": 12,
    "start_time": "2022-06-13T07:12:19.474Z"
   },
   {
    "duration": 115,
    "start_time": "2022-06-13T07:12:19.487Z"
   },
   {
    "duration": 114,
    "start_time": "2022-06-13T07:12:19.604Z"
   },
   {
    "duration": 163,
    "start_time": "2022-06-13T07:12:19.720Z"
   },
   {
    "duration": 136,
    "start_time": "2022-06-13T07:12:19.884Z"
   },
   {
    "duration": 121,
    "start_time": "2022-06-13T07:12:20.023Z"
   },
   {
    "duration": 2820,
    "start_time": "2022-06-13T07:12:20.146Z"
   },
   {
    "duration": 901,
    "start_time": "2022-06-13T07:12:22.968Z"
   },
   {
    "duration": 633,
    "start_time": "2022-06-13T07:12:23.871Z"
   },
   {
    "duration": 3,
    "start_time": "2022-06-13T07:12:24.506Z"
   },
   {
    "duration": 37,
    "start_time": "2022-06-13T07:12:24.510Z"
   },
   {
    "duration": 4,
    "start_time": "2022-06-13T07:12:24.548Z"
   },
   {
    "duration": 15,
    "start_time": "2022-06-13T07:12:24.553Z"
   },
   {
    "duration": 0,
    "start_time": "2022-06-13T07:12:24.569Z"
   },
   {
    "duration": 0,
    "start_time": "2022-06-13T07:12:24.578Z"
   },
   {
    "duration": 0,
    "start_time": "2022-06-13T07:12:24.579Z"
   },
   {
    "duration": 0,
    "start_time": "2022-06-13T07:12:24.580Z"
   },
   {
    "duration": 0,
    "start_time": "2022-06-13T07:12:24.581Z"
   },
   {
    "duration": 0,
    "start_time": "2022-06-13T07:12:24.582Z"
   },
   {
    "duration": 0,
    "start_time": "2022-06-13T07:12:24.583Z"
   },
   {
    "duration": 1140,
    "start_time": "2022-06-13T07:13:31.284Z"
   },
   {
    "duration": 298,
    "start_time": "2022-06-13T07:13:32.426Z"
   },
   {
    "duration": 14,
    "start_time": "2022-06-13T07:13:32.725Z"
   },
   {
    "duration": 12,
    "start_time": "2022-06-13T07:13:32.741Z"
   },
   {
    "duration": 31,
    "start_time": "2022-06-13T07:13:32.755Z"
   },
   {
    "duration": 119,
    "start_time": "2022-06-13T07:13:32.788Z"
   },
   {
    "duration": 121,
    "start_time": "2022-06-13T07:13:32.909Z"
   },
   {
    "duration": 159,
    "start_time": "2022-06-13T07:13:33.032Z"
   },
   {
    "duration": 153,
    "start_time": "2022-06-13T07:13:33.193Z"
   },
   {
    "duration": 103,
    "start_time": "2022-06-13T07:13:33.349Z"
   },
   {
    "duration": 2636,
    "start_time": "2022-06-13T07:13:33.453Z"
   },
   {
    "duration": 827,
    "start_time": "2022-06-13T07:13:36.090Z"
   },
   {
    "duration": 605,
    "start_time": "2022-06-13T07:13:36.918Z"
   },
   {
    "duration": 3,
    "start_time": "2022-06-13T07:13:37.524Z"
   },
   {
    "duration": 39,
    "start_time": "2022-06-13T07:13:37.528Z"
   },
   {
    "duration": 9,
    "start_time": "2022-06-13T07:13:37.569Z"
   },
   {
    "duration": 9298,
    "start_time": "2022-06-13T07:13:37.580Z"
   },
   {
    "duration": 5,
    "start_time": "2022-06-13T07:13:46.882Z"
   },
   {
    "duration": 9,
    "start_time": "2022-06-13T07:13:46.978Z"
   },
   {
    "duration": 7,
    "start_time": "2022-06-13T07:13:46.989Z"
   },
   {
    "duration": 6,
    "start_time": "2022-06-13T07:13:46.997Z"
   },
   {
    "duration": 18,
    "start_time": "2022-06-13T07:13:47.004Z"
   },
   {
    "duration": 2,
    "start_time": "2022-06-13T07:13:47.023Z"
   },
   {
    "duration": 4185,
    "start_time": "2022-06-13T07:13:47.027Z"
   },
   {
    "duration": 46,
    "start_time": "2022-06-14T04:40:38.203Z"
   },
   {
    "duration": 1334,
    "start_time": "2022-06-14T04:41:09.823Z"
   },
   {
    "duration": 865,
    "start_time": "2022-06-14T04:41:11.159Z"
   },
   {
    "duration": 15,
    "start_time": "2022-06-14T04:41:12.026Z"
   },
   {
    "duration": 24,
    "start_time": "2022-06-14T04:41:12.043Z"
   },
   {
    "duration": 13,
    "start_time": "2022-06-14T04:41:12.068Z"
   },
   {
    "duration": 134,
    "start_time": "2022-06-14T04:41:12.083Z"
   },
   {
    "duration": 131,
    "start_time": "2022-06-14T04:41:12.219Z"
   },
   {
    "duration": 152,
    "start_time": "2022-06-14T04:41:12.352Z"
   },
   {
    "duration": 172,
    "start_time": "2022-06-14T04:41:12.506Z"
   },
   {
    "duration": 106,
    "start_time": "2022-06-14T04:41:12.680Z"
   },
   {
    "duration": 2953,
    "start_time": "2022-06-14T04:41:12.787Z"
   },
   {
    "duration": 911,
    "start_time": "2022-06-14T04:41:15.742Z"
   },
   {
    "duration": 679,
    "start_time": "2022-06-14T04:41:16.654Z"
   },
   {
    "duration": 3,
    "start_time": "2022-06-14T04:41:17.334Z"
   },
   {
    "duration": 44,
    "start_time": "2022-06-14T04:41:17.339Z"
   },
   {
    "duration": 4,
    "start_time": "2022-06-14T04:41:17.385Z"
   },
   {
    "duration": 12482,
    "start_time": "2022-06-14T04:41:17.391Z"
   },
   {
    "duration": 95,
    "start_time": "2022-06-14T04:41:29.876Z"
   },
   {
    "duration": 93,
    "start_time": "2022-06-14T04:41:29.975Z"
   },
   {
    "duration": 7,
    "start_time": "2022-06-14T04:41:30.070Z"
   },
   {
    "duration": 9,
    "start_time": "2022-06-14T04:41:30.079Z"
   },
   {
    "duration": 25,
    "start_time": "2022-06-14T04:41:30.090Z"
   },
   {
    "duration": 4,
    "start_time": "2022-06-14T04:41:30.116Z"
   },
   {
    "duration": 14,
    "start_time": "2022-06-14T04:41:30.121Z"
   },
   {
    "duration": 19,
    "start_time": "2022-06-14T04:46:59.242Z"
   },
   {
    "duration": 4599,
    "start_time": "2022-06-14T04:48:19.549Z"
   },
   {
    "duration": 4815,
    "start_time": "2022-06-14T04:48:38.730Z"
   },
   {
    "duration": 4733,
    "start_time": "2022-06-14T04:48:59.725Z"
   },
   {
    "duration": 4686,
    "start_time": "2022-06-14T04:49:13.209Z"
   },
   {
    "duration": 3,
    "start_time": "2022-06-14T04:53:29.536Z"
   },
   {
    "duration": 20,
    "start_time": "2022-06-14T04:53:35.326Z"
   },
   {
    "duration": 3,
    "start_time": "2022-06-14T04:53:37.031Z"
   },
   {
    "duration": 20,
    "start_time": "2022-06-14T04:53:38.171Z"
   },
   {
    "duration": 4776,
    "start_time": "2022-06-14T04:53:40.074Z"
   },
   {
    "duration": 4728,
    "start_time": "2022-06-14T05:10:20.020Z"
   },
   {
    "duration": 1947,
    "start_time": "2022-06-14T05:16:03.330Z"
   },
   {
    "duration": 1741,
    "start_time": "2022-06-14T05:16:16.367Z"
   },
   {
    "duration": 1602,
    "start_time": "2022-06-14T05:16:26.715Z"
   },
   {
    "duration": 1666,
    "start_time": "2022-06-14T05:16:44.935Z"
   },
   {
    "duration": 1714,
    "start_time": "2022-06-14T05:17:18.639Z"
   },
   {
    "duration": 4779,
    "start_time": "2022-06-14T05:18:03.363Z"
   },
   {
    "duration": 4919,
    "start_time": "2022-06-14T05:18:42.174Z"
   },
   {
    "duration": 4879,
    "start_time": "2022-06-14T05:20:11.899Z"
   },
   {
    "duration": 5131,
    "start_time": "2022-06-14T05:22:38.782Z"
   },
   {
    "duration": 5102,
    "start_time": "2022-06-14T05:44:30.743Z"
   },
   {
    "duration": 4872,
    "start_time": "2022-06-14T05:44:51.794Z"
   },
   {
    "duration": 5153,
    "start_time": "2022-06-14T05:45:03.140Z"
   },
   {
    "duration": 5007,
    "start_time": "2022-06-14T05:45:46.210Z"
   },
   {
    "duration": 5212,
    "start_time": "2022-06-14T05:45:57.522Z"
   },
   {
    "duration": 5140,
    "start_time": "2022-06-14T05:46:49.098Z"
   },
   {
    "duration": 5364,
    "start_time": "2022-06-14T05:47:04.178Z"
   },
   {
    "duration": 5183,
    "start_time": "2022-06-14T05:57:06.247Z"
   },
   {
    "duration": 5328,
    "start_time": "2022-06-14T05:57:18.427Z"
   },
   {
    "duration": 5100,
    "start_time": "2022-06-14T06:21:33.628Z"
   },
   {
    "duration": 5116,
    "start_time": "2022-06-14T06:21:54.945Z"
   },
   {
    "duration": 5123,
    "start_time": "2022-06-14T06:22:01.716Z"
   },
   {
    "duration": 5156,
    "start_time": "2022-06-14T06:22:10.242Z"
   },
   {
    "duration": 5274,
    "start_time": "2022-06-14T06:22:46.109Z"
   },
   {
    "duration": 22,
    "start_time": "2022-06-14T06:27:23.299Z"
   },
   {
    "duration": 1330,
    "start_time": "2022-06-14T07:44:36.111Z"
   },
   {
    "duration": 0,
    "start_time": "2022-06-14T07:44:37.445Z"
   },
   {
    "duration": 0,
    "start_time": "2022-06-14T07:44:37.447Z"
   },
   {
    "duration": 0,
    "start_time": "2022-06-14T07:44:37.448Z"
   },
   {
    "duration": 0,
    "start_time": "2022-06-14T07:44:37.450Z"
   },
   {
    "duration": 0,
    "start_time": "2022-06-14T07:44:37.465Z"
   },
   {
    "duration": 0,
    "start_time": "2022-06-14T07:44:37.467Z"
   },
   {
    "duration": 0,
    "start_time": "2022-06-14T07:44:37.469Z"
   },
   {
    "duration": 0,
    "start_time": "2022-06-14T07:44:37.470Z"
   },
   {
    "duration": 0,
    "start_time": "2022-06-14T07:44:37.472Z"
   },
   {
    "duration": 0,
    "start_time": "2022-06-14T07:44:37.473Z"
   },
   {
    "duration": 0,
    "start_time": "2022-06-14T07:44:37.474Z"
   },
   {
    "duration": 0,
    "start_time": "2022-06-14T07:44:37.475Z"
   },
   {
    "duration": 0,
    "start_time": "2022-06-14T07:44:37.477Z"
   },
   {
    "duration": 0,
    "start_time": "2022-06-14T07:44:37.479Z"
   },
   {
    "duration": 0,
    "start_time": "2022-06-14T07:44:37.480Z"
   },
   {
    "duration": 0,
    "start_time": "2022-06-14T07:44:37.481Z"
   },
   {
    "duration": 0,
    "start_time": "2022-06-14T07:44:37.483Z"
   },
   {
    "duration": 0,
    "start_time": "2022-06-14T07:44:37.484Z"
   },
   {
    "duration": 0,
    "start_time": "2022-06-14T07:44:37.485Z"
   },
   {
    "duration": 0,
    "start_time": "2022-06-14T07:44:37.486Z"
   },
   {
    "duration": 0,
    "start_time": "2022-06-14T07:44:37.488Z"
   },
   {
    "duration": 0,
    "start_time": "2022-06-14T07:44:37.489Z"
   },
   {
    "duration": 0,
    "start_time": "2022-06-14T07:44:37.489Z"
   },
   {
    "duration": 0,
    "start_time": "2022-06-14T07:44:37.491Z"
   },
   {
    "duration": 32,
    "start_time": "2022-06-14T07:54:11.341Z"
   },
   {
    "duration": 25,
    "start_time": "2022-06-14T07:54:28.461Z"
   },
   {
    "duration": 10,
    "start_time": "2022-06-14T07:55:32.873Z"
   },
   {
    "duration": 10,
    "start_time": "2022-06-14T07:55:46.876Z"
   },
   {
    "duration": 22,
    "start_time": "2022-06-14T07:56:41.280Z"
   },
   {
    "duration": 24,
    "start_time": "2022-06-14T07:56:53.108Z"
   },
   {
    "duration": 25,
    "start_time": "2022-06-14T07:57:34.032Z"
   },
   {
    "duration": 3,
    "start_time": "2022-06-14T07:57:42.844Z"
   },
   {
    "duration": 1369,
    "start_time": "2022-06-14T07:59:26.967Z"
   },
   {
    "duration": 382,
    "start_time": "2022-06-14T07:59:28.338Z"
   },
   {
    "duration": 18,
    "start_time": "2022-06-14T07:59:28.721Z"
   },
   {
    "duration": 27,
    "start_time": "2022-06-14T07:59:28.741Z"
   },
   {
    "duration": 15,
    "start_time": "2022-06-14T07:59:28.769Z"
   },
   {
    "duration": 164,
    "start_time": "2022-06-14T07:59:28.786Z"
   },
   {
    "duration": 173,
    "start_time": "2022-06-14T07:59:28.952Z"
   },
   {
    "duration": 191,
    "start_time": "2022-06-14T07:59:29.127Z"
   },
   {
    "duration": 168,
    "start_time": "2022-06-14T07:59:29.320Z"
   },
   {
    "duration": 119,
    "start_time": "2022-06-14T07:59:29.491Z"
   },
   {
    "duration": 118,
    "start_time": "2022-06-14T07:59:29.612Z"
   },
   {
    "duration": 0,
    "start_time": "2022-06-14T07:59:29.731Z"
   },
   {
    "duration": 0,
    "start_time": "2022-06-14T07:59:29.732Z"
   },
   {
    "duration": 0,
    "start_time": "2022-06-14T07:59:29.733Z"
   },
   {
    "duration": 0,
    "start_time": "2022-06-14T07:59:29.734Z"
   },
   {
    "duration": 0,
    "start_time": "2022-06-14T07:59:29.735Z"
   },
   {
    "duration": 0,
    "start_time": "2022-06-14T07:59:29.736Z"
   },
   {
    "duration": 0,
    "start_time": "2022-06-14T07:59:29.737Z"
   },
   {
    "duration": 0,
    "start_time": "2022-06-14T07:59:29.738Z"
   },
   {
    "duration": 0,
    "start_time": "2022-06-14T07:59:29.739Z"
   },
   {
    "duration": 0,
    "start_time": "2022-06-14T07:59:29.740Z"
   },
   {
    "duration": 0,
    "start_time": "2022-06-14T07:59:29.741Z"
   },
   {
    "duration": 0,
    "start_time": "2022-06-14T07:59:29.742Z"
   },
   {
    "duration": 0,
    "start_time": "2022-06-14T07:59:29.765Z"
   },
   {
    "duration": 0,
    "start_time": "2022-06-14T07:59:29.766Z"
   },
   {
    "duration": 25,
    "start_time": "2022-06-14T08:05:52.869Z"
   },
   {
    "duration": 1338,
    "start_time": "2022-06-14T08:06:53.636Z"
   },
   {
    "duration": 398,
    "start_time": "2022-06-14T08:06:54.976Z"
   },
   {
    "duration": 17,
    "start_time": "2022-06-14T08:06:55.376Z"
   },
   {
    "duration": 13,
    "start_time": "2022-06-14T08:06:55.396Z"
   },
   {
    "duration": 14,
    "start_time": "2022-06-14T08:06:55.410Z"
   },
   {
    "duration": 172,
    "start_time": "2022-06-14T08:06:55.426Z"
   },
   {
    "duration": 153,
    "start_time": "2022-06-14T08:06:55.600Z"
   },
   {
    "duration": 189,
    "start_time": "2022-06-14T08:06:55.755Z"
   },
   {
    "duration": 184,
    "start_time": "2022-06-14T08:06:55.946Z"
   },
   {
    "duration": 132,
    "start_time": "2022-06-14T08:06:56.133Z"
   },
   {
    "duration": 3193,
    "start_time": "2022-06-14T08:06:56.267Z"
   },
   {
    "duration": 905,
    "start_time": "2022-06-14T08:06:59.464Z"
   },
   {
    "duration": 782,
    "start_time": "2022-06-14T08:07:00.370Z"
   },
   {
    "duration": 4,
    "start_time": "2022-06-14T08:07:01.153Z"
   },
   {
    "duration": 44,
    "start_time": "2022-06-14T08:07:01.164Z"
   },
   {
    "duration": 4,
    "start_time": "2022-06-14T08:07:01.210Z"
   },
   {
    "duration": 13255,
    "start_time": "2022-06-14T08:07:01.216Z"
   },
   {
    "duration": 91,
    "start_time": "2022-06-14T08:07:14.475Z"
   },
   {
    "duration": 15,
    "start_time": "2022-06-14T08:07:14.569Z"
   },
   {
    "duration": 80,
    "start_time": "2022-06-14T08:07:14.587Z"
   },
   {
    "duration": 8,
    "start_time": "2022-06-14T08:07:14.669Z"
   },
   {
    "duration": 24,
    "start_time": "2022-06-14T08:07:14.679Z"
   },
   {
    "duration": 3,
    "start_time": "2022-06-14T08:07:14.704Z"
   },
   {
    "duration": 5162,
    "start_time": "2022-06-14T08:07:14.709Z"
   },
   {
    "duration": 1558,
    "start_time": "2022-06-14T20:23:40.440Z"
   },
   {
    "duration": 110,
    "start_time": "2022-06-14T20:23:42.000Z"
   },
   {
    "duration": 0,
    "start_time": "2022-06-14T20:23:42.112Z"
   },
   {
    "duration": 0,
    "start_time": "2022-06-14T20:23:42.113Z"
   },
   {
    "duration": 0,
    "start_time": "2022-06-14T20:23:42.114Z"
   },
   {
    "duration": 0,
    "start_time": "2022-06-14T20:23:42.115Z"
   },
   {
    "duration": 0,
    "start_time": "2022-06-14T20:23:42.116Z"
   },
   {
    "duration": 0,
    "start_time": "2022-06-14T20:23:42.117Z"
   },
   {
    "duration": 0,
    "start_time": "2022-06-14T20:23:42.118Z"
   },
   {
    "duration": 0,
    "start_time": "2022-06-14T20:23:42.130Z"
   },
   {
    "duration": 0,
    "start_time": "2022-06-14T20:23:42.133Z"
   },
   {
    "duration": 0,
    "start_time": "2022-06-14T20:23:42.134Z"
   },
   {
    "duration": 0,
    "start_time": "2022-06-14T20:23:42.135Z"
   },
   {
    "duration": 0,
    "start_time": "2022-06-14T20:23:42.136Z"
   },
   {
    "duration": 0,
    "start_time": "2022-06-14T20:23:42.136Z"
   },
   {
    "duration": 0,
    "start_time": "2022-06-14T20:23:42.137Z"
   },
   {
    "duration": 0,
    "start_time": "2022-06-14T20:23:42.138Z"
   },
   {
    "duration": 0,
    "start_time": "2022-06-14T20:23:42.139Z"
   },
   {
    "duration": 0,
    "start_time": "2022-06-14T20:23:42.142Z"
   },
   {
    "duration": 0,
    "start_time": "2022-06-14T20:23:42.143Z"
   },
   {
    "duration": 0,
    "start_time": "2022-06-14T20:23:42.144Z"
   },
   {
    "duration": 0,
    "start_time": "2022-06-14T20:23:42.145Z"
   },
   {
    "duration": 0,
    "start_time": "2022-06-14T20:23:42.146Z"
   },
   {
    "duration": 0,
    "start_time": "2022-06-14T20:23:42.147Z"
   },
   {
    "duration": 424,
    "start_time": "2022-06-14T20:23:53.751Z"
   },
   {
    "duration": 538,
    "start_time": "2022-06-14T20:23:58.783Z"
   },
   {
    "duration": 24,
    "start_time": "2022-06-14T20:23:59.323Z"
   },
   {
    "duration": 19,
    "start_time": "2022-06-14T20:23:59.521Z"
   },
   {
    "duration": 18,
    "start_time": "2022-06-14T20:23:59.720Z"
   },
   {
    "duration": 117,
    "start_time": "2022-06-14T20:24:00.585Z"
   },
   {
    "duration": 103,
    "start_time": "2022-06-14T20:24:00.840Z"
   },
   {
    "duration": 147,
    "start_time": "2022-06-14T20:24:01.002Z"
   },
   {
    "duration": 173,
    "start_time": "2022-06-14T20:24:01.170Z"
   },
   {
    "duration": 109,
    "start_time": "2022-06-14T20:24:01.344Z"
   },
   {
    "duration": 2986,
    "start_time": "2022-06-14T20:24:01.455Z"
   },
   {
    "duration": 873,
    "start_time": "2022-06-14T20:24:04.443Z"
   },
   {
    "duration": 693,
    "start_time": "2022-06-14T20:24:05.318Z"
   },
   {
    "duration": 3,
    "start_time": "2022-06-14T20:24:06.013Z"
   },
   {
    "duration": 36,
    "start_time": "2022-06-14T20:24:06.026Z"
   },
   {
    "duration": 3,
    "start_time": "2022-06-14T20:24:06.063Z"
   },
   {
    "duration": 9074,
    "start_time": "2022-06-14T20:24:06.068Z"
   },
   {
    "duration": 15,
    "start_time": "2022-06-14T20:24:15.228Z"
   },
   {
    "duration": 103,
    "start_time": "2022-06-14T20:24:15.247Z"
   },
   {
    "duration": 6,
    "start_time": "2022-06-14T20:24:15.351Z"
   },
   {
    "duration": 5,
    "start_time": "2022-06-14T20:24:15.359Z"
   },
   {
    "duration": 21,
    "start_time": "2022-06-14T20:24:15.365Z"
   },
   {
    "duration": 3,
    "start_time": "2022-06-14T20:24:15.388Z"
   },
   {
    "duration": 4769,
    "start_time": "2022-06-14T20:24:15.392Z"
   }
  ],
  "kernelspec": {
   "display_name": "Python 3 (ipykernel)",
   "language": "python",
   "name": "python3"
  },
  "language_info": {
   "codemirror_mode": {
    "name": "ipython",
    "version": 3
   },
   "file_extension": ".py",
   "mimetype": "text/x-python",
   "name": "python",
   "nbconvert_exporter": "python",
   "pygments_lexer": "ipython3",
   "version": "3.9.5"
  },
  "toc": {
   "base_numbering": 1,
   "nav_menu": {},
   "number_sections": true,
   "sideBar": true,
   "skip_h1_title": true,
   "title_cell": "Table of Contents",
   "title_sidebar": "Contents",
   "toc_cell": false,
   "toc_position": {},
   "toc_section_display": true,
   "toc_window_display": false
  }
 },
 "nbformat": 4,
 "nbformat_minor": 2
}
