{
 "cells": [
  {
   "cell_type": "markdown",
   "metadata": {
    "toc": true
   },
   "source": [
    "<h1>Содержание<span class=\"tocSkip\"></span></h1>\n",
    "<div class=\"toc\"><ul class=\"toc-item\"><li><span><a href=\"#Подготовка\" data-toc-modified-id=\"Подготовка-1\"><span class=\"toc-item-num\">1&nbsp;&nbsp;</span>Подготовка</a></span><ul class=\"toc-item\"><li><span><a href=\"#Результаты-моделирования-+-график-полученных-F1-на-тестовой-выборке.\" data-toc-modified-id=\"Результаты-моделирования-+-график-полученных-F1-на-тестовой-выборке.-1.1\"><span class=\"toc-item-num\">1.1&nbsp;&nbsp;</span>Результаты моделирования + график полученных F1 на тестовой выборке.</a></span></li></ul></li><li><span><a href=\"#Лемматизация-nltk-+-TfidfTransformer().\" data-toc-modified-id=\"Лемматизация-nltk-+-TfidfTransformer().-2\"><span class=\"toc-item-num\">2&nbsp;&nbsp;</span>Лемматизация nltk + TfidfTransformer().</a></span><ul class=\"toc-item\"><li><span><a href=\"#Результаты-моделирования-+-график-полученных-F1-на-тестовой-выборке.\" data-toc-modified-id=\"Результаты-моделирования-+-график-полученных-F1-на-тестовой-выборке.-2.1\"><span class=\"toc-item-num\">2.1&nbsp;&nbsp;</span>Результаты моделирования + график полученных F1 на тестовой выборке.</a></span></li></ul></li><li><span><a href=\"#Проверка-модели-на-адекватность\" data-toc-modified-id=\"Проверка-модели-на-адекватность-3\"><span class=\"toc-item-num\">3&nbsp;&nbsp;</span>Проверка модели на адекватность</a></span></li><li><span><a href=\"#Вывод.\" data-toc-modified-id=\"Вывод.-4\"><span class=\"toc-item-num\">4&nbsp;&nbsp;</span>Вывод.</a></span></li></ul></div>"
   ]
  },
  {
   "cell_type": "markdown",
   "metadata": {},
   "source": [
    "# Проект для «Викишоп» c BERT"
   ]
  },
  {
   "cell_type": "markdown",
   "metadata": {},
   "source": [
    "Интернет-магазин «Викишоп» запускает новый сервис. Теперь пользователи могут редактировать и дополнять описания товаров, как в вики-сообществах. То есть клиенты предлагают свои правки и комментируют изменения других. Магазину нужен инструмент, который будет искать токсичные комментарии и отправлять их на модерацию. \n",
    "\n",
    "Инструментом будет модель, которую необходимо обучить модель классифицировать комментарии на позитивные и негативные. В этом поможет набор данных с разметкой о токсичности правок.\n",
    "\n",
    "**Задача:** Подобрать модель с F1 не меньше 0.75. "
   ]
  },
  {
   "cell_type": "markdown",
   "metadata": {},
   "source": [
    "## Подготовка"
   ]
  },
  {
   "cell_type": "markdown",
   "metadata": {},
   "source": [
    "Импортируем библиотеки для работы."
   ]
  },
  {
   "cell_type": "code",
   "execution_count": 1,
   "metadata": {},
   "outputs": [
    {
     "name": "stderr",
     "output_type": "stream",
     "text": [
      "[nltk_data] Downloading package stopwords to /home/jovyan/nltk_data...\n",
      "[nltk_data]   Package stopwords is already up-to-date!\n",
      "[nltk_data] Downloading package averaged_perceptron_tagger to\n",
      "[nltk_data]     /home/jovyan/nltk_data...\n",
      "[nltk_data]   Package averaged_perceptron_tagger is already up-to-\n",
      "[nltk_data]       date!\n"
     ]
    }
   ],
   "source": [
    "from catboost import CatBoostClassifier\n",
    "import numpy as np\n",
    "import matplotlib.pyplot as plt\n",
    "from nltk.stem import WordNetLemmatizer\n",
    "from nltk.corpus import wordnet\n",
    "from nltk.corpus import stopwords \n",
    "import nltk\n",
    "nltk.download('stopwords')\n",
    "import nltk\n",
    "nltk.download('averaged_perceptron_tagger')\n",
    "import pandas as pd\n",
    "import re\n",
    "from sklearn.feature_extraction.text import TfidfTransformer\n",
    "from sklearn.model_selection import train_test_split,GridSearchCV\n",
    "from sklearn.metrics import f1_score\n",
    "from sklearn.feature_extraction.text import CountVectorizer \n",
    "from sklearn.dummy import DummyClassifier\n",
    "from sklearn.linear_model import LogisticRegression\n",
    "from sklearn.tree import DecisionTreeClassifier\n",
    "from sklearn.ensemble import RandomForestClassifier\n",
    "from tqdm import notebook\n",
    "import warnings\n",
    "warnings.filterwarnings('ignore')"
   ]
  },
  {
   "cell_type": "markdown",
   "metadata": {},
   "source": [
    "<font color='blue'><b>Комментарий ревьюера: </b></font> ✔️ <br>\n",
    "<font color='green'>Здорово, что все импорты находятся в одной ячейке.<br>\n",
    "Если хочешь сделать ещё лучше, соблюдай стандарт PEP-8, разбей импорты на функциональные группы, раздели группы пустой строкой. Можно в каждой группе отсортировать импорты в алфавитном порядке.<br>\n",
    "Ссылка для ознакомления: https://pythonworld.ru/osnovy/pep-8-rukovodstvo-po-napisaniyu-koda-na-python.html\n",
    "</font>"
   ]
  },
  {
   "cell_type": "markdown",
   "metadata": {},
   "source": [
    "Откроем данные с комментариями и загрузим их в dataframe df."
   ]
  },
  {
   "cell_type": "code",
   "execution_count": 2,
   "metadata": {},
   "outputs": [],
   "source": [
    "df = pd.read_csv('https://code.s3.yandex.net/datasets/toxic_comments.csv')"
   ]
  },
  {
   "cell_type": "code",
   "execution_count": 3,
   "metadata": {},
   "outputs": [
    {
     "data": {
      "text/html": [
       "<div>\n",
       "<style scoped>\n",
       "    .dataframe tbody tr th:only-of-type {\n",
       "        vertical-align: middle;\n",
       "    }\n",
       "\n",
       "    .dataframe tbody tr th {\n",
       "        vertical-align: top;\n",
       "    }\n",
       "\n",
       "    .dataframe thead th {\n",
       "        text-align: right;\n",
       "    }\n",
       "</style>\n",
       "<table border=\"1\" class=\"dataframe\">\n",
       "  <thead>\n",
       "    <tr style=\"text-align: right;\">\n",
       "      <th></th>\n",
       "      <th>Unnamed: 0</th>\n",
       "      <th>text</th>\n",
       "      <th>toxic</th>\n",
       "    </tr>\n",
       "  </thead>\n",
       "  <tbody>\n",
       "    <tr>\n",
       "      <th>0</th>\n",
       "      <td>0</td>\n",
       "      <td>Explanation\\nWhy the edits made under my usern...</td>\n",
       "      <td>0</td>\n",
       "    </tr>\n",
       "    <tr>\n",
       "      <th>1</th>\n",
       "      <td>1</td>\n",
       "      <td>D'aww! He matches this background colour I'm s...</td>\n",
       "      <td>0</td>\n",
       "    </tr>\n",
       "    <tr>\n",
       "      <th>2</th>\n",
       "      <td>2</td>\n",
       "      <td>Hey man, I'm really not trying to edit war. It...</td>\n",
       "      <td>0</td>\n",
       "    </tr>\n",
       "    <tr>\n",
       "      <th>3</th>\n",
       "      <td>3</td>\n",
       "      <td>\"\\nMore\\nI can't make any real suggestions on ...</td>\n",
       "      <td>0</td>\n",
       "    </tr>\n",
       "    <tr>\n",
       "      <th>4</th>\n",
       "      <td>4</td>\n",
       "      <td>You, sir, are my hero. Any chance you remember...</td>\n",
       "      <td>0</td>\n",
       "    </tr>\n",
       "  </tbody>\n",
       "</table>\n",
       "</div>"
      ],
      "text/plain": [
       "   Unnamed: 0                                               text  toxic\n",
       "0           0  Explanation\\nWhy the edits made under my usern...      0\n",
       "1           1  D'aww! He matches this background colour I'm s...      0\n",
       "2           2  Hey man, I'm really not trying to edit war. It...      0\n",
       "3           3  \"\\nMore\\nI can't make any real suggestions on ...      0\n",
       "4           4  You, sir, are my hero. Any chance you remember...      0"
      ]
     },
     "execution_count": 3,
     "metadata": {},
     "output_type": "execute_result"
    }
   ],
   "source": [
    "df.head(5)"
   ]
  },
  {
   "cell_type": "markdown",
   "metadata": {},
   "source": [
    "Посмотрим на пропуски в данных."
   ]
  },
  {
   "cell_type": "markdown",
   "metadata": {},
   "source": [
    "**Вывод по пропускам:** Пропусков в данных нет."
   ]
  },
  {
   "cell_type": "markdown",
   "metadata": {},
   "source": [
    "Проверим файл на дубликаты."
   ]
  },
  {
   "cell_type": "code",
   "execution_count": 4,
   "metadata": {},
   "outputs": [
    {
     "data": {
      "text/plain": [
       "0"
      ]
     },
     "execution_count": 4,
     "metadata": {},
     "output_type": "execute_result"
    }
   ],
   "source": [
    "df.duplicated().sum()"
   ]
  },
  {
   "cell_type": "markdown",
   "metadata": {},
   "source": [
    "**Вывод по дубликатам:** Дубликатов в данных нет."
   ]
  },
  {
   "cell_type": "markdown",
   "metadata": {},
   "source": [
    "<font color='blue'><b>Комментарий ревьюера: </b></font> ✔️\\\n",
    "<font color='green'>Данные загружены корректно, первичный осмотр проведен.</font>"
   ]
  },
  {
   "cell_type": "markdown",
   "metadata": {},
   "source": [
    "Посмотрим на распределение по классам таргета."
   ]
  },
  {
   "cell_type": "code",
   "execution_count": 5,
   "metadata": {
    "scrolled": false
   },
   "outputs": [
    {
     "data": {
      "text/plain": [
       "0    143106\n",
       "1     16186\n",
       "Name: toxic, dtype: int64"
      ]
     },
     "execution_count": 5,
     "metadata": {},
     "output_type": "execute_result"
    }
   ],
   "source": [
    "df['toxic'].value_counts()"
   ]
  },
  {
   "cell_type": "markdown",
   "metadata": {},
   "source": [
    "Посмотрим на распределение по барчарту."
   ]
  },
  {
   "cell_type": "code",
   "execution_count": 6,
   "metadata": {
    "scrolled": true
   },
   "outputs": [
    {
     "data": {
      "text/plain": [
       "<AxesSubplot:ylabel='Comments: 1- toxic, 0 - ok'>"
      ]
     },
     "execution_count": 6,
     "metadata": {},
     "output_type": "execute_result"
    },
    {
     "data": {
      "image/png": "[encoded data removed]",
      "text/plain": [
       "<Figure size 432x288 with 1 Axes>"
      ]
     },
     "metadata": {
      "needs_background": "light"
     },
     "output_type": "display_data"
    }
   ],
   "source": [
    "df['toxic'].value_counts().plot.barh(color='CadetBlue', xlabel='Comments: 1- toxic, 0 - ok')"
   ]
  },
  {
   "cell_type": "markdown",
   "metadata": {},
   "source": [
    "**Вывод по распределению класов:** 1 в таргете, то есть косичных комментариев, значительно меньше чем 0. Для Вики-шопа это, конечно, хорошо. А нам нужно будет учесть это при подборе модели с лучшим F1. "
   ]
  },
  {
   "cell_type": "markdown",
   "metadata": {},
   "source": [
    "Сделаем словари по гиперпараметрам моделей для валидаций с помощью GridSearchCV."
   ]
  },
  {
   "cell_type": "code",
   "execution_count": 7,
   "metadata": {},
   "outputs": [],
   "source": [
    "params_LR = {'C': [10],\n",
    "             'solver' : ['lbfgs'], \n",
    "             'class_weight' : ['auto', 'balanced', {0:1,1:4}]}\n",
    "\n",
    "params_DT = {'max_depth': [5, 20, 50]} \n",
    "\n",
    "params_RF = {'n_estimators': [5, 20, 50],\n",
    "             'max_depth': [10, 20]} \n",
    "\n",
    "params_сat = {\"eval_metric\" : 'TotalF1',\n",
    "              \"random_seed\": 911,\n",
    "              \"learning_rate\": 0.028,\n",
    "             }"
   ]
  },
  {
   "cell_type": "code",
   "execution_count": 8,
   "metadata": {
    "scrolled": true
   },
   "outputs": [],
   "source": [
    "params_ = [params_LR, params_DT, params_RF, params_сat]\n",
    "models_ = [LogisticRegression(random_state=911, max_iter=100),\n",
    "           DecisionTreeClassifier(random_state=911), \n",
    "           RandomForestClassifier(random_state=911), \n",
    "           CatBoostClassifier(**params_сat)]\n",
    "\n",
    "f1_scores = []\n",
    "model_best_estimator=[]\n",
    "f1_scores_test=[]\n",
    "model_best_estimator_test=[]"
   ]
  },
  {
   "cell_type": "markdown",
   "metadata": {},
   "source": [
    "# Лемматизация nltk + TfidfTransformer()."
   ]
  },
  {
   "cell_type": "code",
   "execution_count": 25,
   "metadata": {},
   "outputs": [],
   "source": [
    "df = pd.read_csv('https://code.s3.yandex.net/datasets/toxic_comments.csv')"
   ]
  },
  {
   "cell_type": "markdown",
   "metadata": {},
   "source": [
    "EDA мы уже проводили. Разобъем данные на X - фичи(признаки) и Y - таргент(целевой признак)."
   ]
  },
  {
   "cell_type": "code",
   "execution_count": 4,
   "metadata": {},
   "outputs": [],
   "source": [
    "# df=df[:50000]"
   ]
  },
  {
   "cell_type": "code",
   "execution_count": 10,
   "metadata": {},
   "outputs": [],
   "source": [
    "X = df['text']\n",
    "Y = df['toxic']"
   ]
  },
  {
   "cell_type": "code",
   "execution_count": 11,
   "metadata": {},
   "outputs": [],
   "source": [
    "del df"
   ]
  },
  {
   "cell_type": "markdown",
   "metadata": {},
   "source": [
    "Разобъем данные на выборки."
   ]
  },
  {
   "cell_type": "markdown",
   "metadata": {},
   "source": [
    "Запустим лемматизацию с помощью WordNetLemmatizer.\n",
    "Чистим каждый комментарий: удаляем нунужные символы, побелы, знаки пунктуации и прочее. Сводим к нижнему регистру. \n",
    "Запускаем лемматизацию.\n",
    "На последнем шаге цикла текст соединяется пробелами и добавляется в общий список лемматизированного текста"
   ]
  },
  {
   "cell_type": "code",
   "execution_count": 12,
   "metadata": {},
   "outputs": [],
   "source": [
    "def get_wordnet_pos(word):\n",
    "    tag = nltk.pos_tag([word])[0][1][0].upper()\n",
    "    tag_dict = {\"J\": wordnet.ADJ,\n",
    "                \"N\": wordnet.NOUN,\n",
    "                \"V\": wordnet.VERB,\n",
    "                \"R\": wordnet.ADV}\n",
    "    return tag_dict.get(tag, wordnet.NOUN)"
   ]
  },
  {
   "cell_type": "code",
   "execution_count": 13,
   "metadata": {},
   "outputs": [],
   "source": [
    "documents = []\n",
    "stemmer = WordNetLemmatizer()\n",
    "\n",
    "for sen in range(0, len(X)):\n",
    "    document = re.sub(r'\\W', ' ', str(X[sen]))\n",
    "    document = re.sub(r'\\s+[a-zA-Z]\\s+', ' ', document)\n",
    "    document = re.sub(r'\\^[a-zA-Z]\\s+', ' ', document) \n",
    "    document = re.sub(r'\\s+', ' ', document, flags=re.I)\n",
    "    document = re.sub(r'^b\\s+', '', document)\n",
    "    document = document.lower()\n",
    "    document = document.split()\n",
    "    document = [stemmer.lemmatize(w, get_wordnet_pos(w)) for w in document]\n",
    "    document = ' '.join(document)\n",
    "    documents.append(document)"
   ]
  },
  {
   "cell_type": "markdown",
   "metadata": {},
   "source": [
    "Создаем мешок слов. Ограничим максимальное число признаков 1500 словами. Обучать выборку на редкоиспользуемых словах безсмысленно."
   ]
  },
  {
   "cell_type": "code",
   "execution_count": 15,
   "metadata": {},
   "outputs": [],
   "source": [
    "X_train, X_test, y_train, y_test = train_test_split(documents, Y, train_size=0.6, random_state=911, stratify=Y)"
   ]
  },
  {
   "cell_type": "code",
   "execution_count": 16,
   "metadata": {},
   "outputs": [],
   "source": [
    "X_val, X_test, y_val, y_test = train_test_split(X_test, y_test, train_size=0.5, random_state=911, stratify=y_test)"
   ]
  },
  {
   "cell_type": "code",
   "execution_count": 17,
   "metadata": {},
   "outputs": [],
   "source": [
    "vectorizer = CountVectorizer( stop_words=stopwords.words('english')) \n",
    "X_train = vectorizer.fit_transform(X_train) "
   ]
  },
  {
   "cell_type": "code",
   "execution_count": 18,
   "metadata": {},
   "outputs": [],
   "source": [
    "X_val = vectorizer.transform(X_val)\n",
    "X_test = vectorizer.transform(X_test)"
   ]
  },
  {
   "cell_type": "markdown",
   "metadata": {},
   "source": [
    "Построим матрицу TF-IDF c помощью TfidfTransformer()."
   ]
  },
  {
   "cell_type": "code",
   "execution_count": 19,
   "metadata": {},
   "outputs": [],
   "source": [
    "tfidfconverter = TfidfTransformer()\n",
    "X_train = tfidfconverter.fit_transform(X_train) #.toarray()"
   ]
  },
  {
   "cell_type": "code",
   "execution_count": 20,
   "metadata": {},
   "outputs": [],
   "source": [
    "X_val = tfidfconverter.transform(X_val)\n",
    "X_test = tfidfconverter.transform(X_test)"
   ]
  },
  {
   "cell_type": "markdown",
   "metadata": {},
   "source": [
    "Запустим обучение. Список моделей, параметров, а также функция для LR, DT и RF у нас есть. Писали их при запуске в BERT. Воспользуемся повторно."
   ]
  },
  {
   "cell_type": "code",
   "execution_count": 21,
   "metadata": {},
   "outputs": [
    {
     "name": "stdout",
     "output_type": "stream",
     "text": [
      "LogisticRegression(random_state=911)\n",
      "F1 score: 0.777151799687011\n",
      "Best_estimator: LogisticRegression(C=10, class_weight={0: 1, 1: 4}, random_state=911)\n",
      "\n"
     ]
    }
   ],
   "source": [
    "for i in range(1):\n",
    "    print(models_[i])\n",
    "    score, estimator= modeling(models_[i],params_[i],\n",
    "                       X_train,y_train,X_val,y_val)\n",
    "    \n",
    "    f1_scores.append(round(score,2))\n",
    "    model_best_estimator.append(estimator)\n",
    "    print(f'F1 score: {score}') \n",
    "    print(f'Best_estimator: {model_best_estimator[i]}')\n",
    "    print()"
   ]
  },
  {
   "cell_type": "markdown",
   "metadata": {},
   "source": [
    "Лучшие результаты дала LogisticRegression. Посмотрим на данные на тесте по лучшей модели: "
   ]
  },
  {
   "cell_type": "code",
   "execution_count": 22,
   "metadata": {},
   "outputs": [
    {
     "name": "stdout",
     "output_type": "stream",
     "text": [
      "LogisticRegression(random_state=911) F1 score на тесте : 0.7758241758241758\n"
     ]
    }
   ],
   "source": [
    "model=model_best_estimator[0]\n",
    "predicted_test = model.predict(X_test)\n",
    "f1_score_test = f1_score(y_test, predicted_test, average='binary')\n",
    "f1_scores_test.append(round(f1_score_test,2))\n",
    "model_best_estimator_test.append(models_[0])\n",
    "print(f'{models_[0]} F1 score на тесте : {f1_score_test}')"
   ]
  },
  {
   "cell_type": "markdown",
   "metadata": {},
   "source": [
    "Запустим CatBoost:"
   ]
  },
  {
   "cell_type": "code",
   "execution_count": 23,
   "metadata": {},
   "outputs": [
    {
     "data": {
      "application/vnd.jupyter.widget-view+json": {
       "model_id": "2c4db46257ff441da19f1a50a93986df",
       "version_major": 2,
       "version_minor": 0
      },
      "text/plain": [
       "MetricVisualizer(layout=Layout(align_self='stretch', height='500px'))"
      ]
     },
     "metadata": {},
     "output_type": "display_data"
    },
    {
     "name": "stdout",
     "output_type": "stream",
     "text": [
      "<catboost.core.CatBoostClassifier object at 0x7fe239501520> F1 score: 0.7180358829084043\n"
     ]
    }
   ],
   "source": [
    "models_[3] = CatBoostClassifier(**params_сat)\n",
    "models_[3].fit(X_train,y_train, eval_set =(X_val,y_val),verbose=False, plot=True)\n",
    "predicted_test = models_[3].predict(X_test)\n",
    "f1_score_ = f1_score(y_test, predicted_test, average='binary')\n",
    "f1_scores_test.append(round(f1_score_,2))\n",
    "model_best_estimator_test.append(models_[3])\n",
    "print(f'{models_[3]} F1 score: {f1_score_}')"
   ]
  },
  {
   "cell_type": "markdown",
   "metadata": {},
   "source": [
    "### Результаты моделирования + график полученных F1 на тестовой выборке."
   ]
  },
  {
   "cell_type": "markdown",
   "metadata": {},
   "source": [
    "Загрузим данные в DataFrame. Постоим график, чтобы визуализировать полученные результаты: F1 на тестовых данных."
   ]
  },
  {
   "cell_type": "code",
   "execution_count": 24,
   "metadata": {
    "scrolled": true
   },
   "outputs": [
    {
     "data": {
      "text/html": [
       "<div>\n",
       "<style scoped>\n",
       "    .dataframe tbody tr th:only-of-type {\n",
       "        vertical-align: middle;\n",
       "    }\n",
       "\n",
       "    .dataframe tbody tr th {\n",
       "        vertical-align: top;\n",
       "    }\n",
       "\n",
       "    .dataframe thead th {\n",
       "        text-align: right;\n",
       "    }\n",
       "</style>\n",
       "<table border=\"1\" class=\"dataframe\">\n",
       "  <thead>\n",
       "    <tr style=\"text-align: right;\">\n",
       "      <th></th>\n",
       "      <th>F1_score test</th>\n",
       "    </tr>\n",
       "  </thead>\n",
       "  <tbody>\n",
       "    <tr>\n",
       "      <th>LR</th>\n",
       "      <td>0.78</td>\n",
       "    </tr>\n",
       "    <tr>\n",
       "      <th>Cat</th>\n",
       "      <td>0.72</td>\n",
       "    </tr>\n",
       "  </tbody>\n",
       "</table>\n",
       "</div>"
      ],
      "text/plain": [
       "     F1_score test\n",
       "LR            0.78\n",
       "Cat           0.72"
      ]
     },
     "execution_count": 24,
     "metadata": {},
     "output_type": "execute_result"
    },
    {
     "data": {
      "image/png": "[encoded data removed]",
      "text/plain": [
       "<Figure size 1080x504 with 1 Axes>"
      ]
     },
     "metadata": {
      "needs_background": "light"
     },
     "output_type": "display_data"
    }
   ],
   "source": [
    "model_names = ['LR', 'Cat']\n",
    "F1 =  {'F1_score test':  f1_scores_test }\n",
    "results=pd.DataFrame(data=F1,index=model_names)\n",
    "results.plot(figsize=(15,7))\n",
    "plt.grid()\n",
    "results"
   ]
  },
  {
   "cell_type": "markdown",
   "metadata": {},
   "source": [
    "## Проверка модели на адекватность "
   ]
  },
  {
   "cell_type": "code",
   "execution_count": 25,
   "metadata": {},
   "outputs": [
    {
     "name": "stdout",
     "output_type": "stream",
     "text": [
      "F1: 0.0965813276099954\n"
     ]
    }
   ],
   "source": [
    "dummy = DummyClassifier(strategy='stratified', random_state = 100, constant = None)\n",
    "dummy.fit(X_train, y_train)\n",
    "dummy_pred = dummy.predict(X_test)\n",
    "f1_score_ = f1_score(y_test, dummy_pred, average='binary')\n",
    "print ('F1:', f1_score_)"
   ]
  },
  {
   "cell_type": "markdown",
   "metadata": {},
   "source": [
    "Полученное значение F1 c помощью DummyClassifier значительно ниже нашего на разных моделях. Значит, наша работа проделана не даром."
   ]
  },
  {
   "cell_type": "markdown",
   "metadata": {},
   "source": [
    "## Вывод."
   ]
  },
  {
   "cell_type": "markdown",
   "metadata": {},
   "source": [
    "**Вывод** Лучший F1 на тестовый выборке получен с помощью CatBoostClassifier(). Эту модель и будем рекомендовать заказчику для инструмента, который будет искать токсичные комментарии и отправлять их на модерацию."
   ]
  }
 ],
 "metadata": {
  "ExecuteTimeLog": [
   {
    "duration": 163717,
    "start_time": "2022-08-22T17:06:12.447Z"
   },
   {
    "duration": 533,
    "start_time": "2022-08-22T17:08:56.167Z"
   },
   {
    "duration": 5573,
    "start_time": "2022-08-22T17:10:05.818Z"
   },
   {
    "duration": 5020,
    "start_time": "2022-08-22T17:11:24.876Z"
   },
   {
    "duration": 16,
    "start_time": "2022-08-22T17:11:33.323Z"
   },
   {
    "duration": 4,
    "start_time": "2022-08-22T17:11:52.776Z"
   },
   {
    "duration": 64083,
    "start_time": "2022-08-22T17:11:54.184Z"
   },
   {
    "duration": 123,
    "start_time": "2022-08-22T17:14:47.339Z"
   },
   {
    "duration": 25,
    "start_time": "2022-08-22T17:15:14.522Z"
   },
   {
    "duration": 5,
    "start_time": "2022-08-22T17:15:23.242Z"
   },
   {
    "duration": 11033,
    "start_time": "2022-08-22T17:21:59.320Z"
   },
   {
    "duration": 51840,
    "start_time": "2022-08-23T02:54:15.300Z"
   },
   {
    "duration": 2301,
    "start_time": "2022-08-23T02:55:07.143Z"
   },
   {
    "duration": 12,
    "start_time": "2022-08-23T02:55:09.446Z"
   },
   {
    "duration": 235,
    "start_time": "2022-08-23T02:55:09.460Z"
   },
   {
    "duration": 9,
    "start_time": "2022-08-23T02:55:09.696Z"
   },
   {
    "duration": 156,
    "start_time": "2022-08-23T02:55:09.706Z"
   },
   {
    "duration": 3,
    "start_time": "2022-08-23T02:55:09.864Z"
   },
   {
    "duration": 8,
    "start_time": "2022-08-23T02:55:09.869Z"
   },
   {
    "duration": 5,
    "start_time": "2022-08-23T02:55:09.879Z"
   },
   {
    "duration": 12222,
    "start_time": "2022-08-23T02:55:09.886Z"
   },
   {
    "duration": 191825,
    "start_time": "2022-08-23T02:55:22.110Z"
   },
   {
    "duration": 6,
    "start_time": "2022-08-23T02:58:33.937Z"
   },
   {
    "duration": 1182,
    "start_time": "2022-08-23T02:58:33.945Z"
   },
   {
    "duration": 37,
    "start_time": "2022-08-23T02:58:35.129Z"
   },
   {
    "duration": 217790,
    "start_time": "2022-08-23T02:58:35.168Z"
   },
   {
    "duration": 0,
    "start_time": "2022-08-23T03:02:12.960Z"
   },
   {
    "duration": 0,
    "start_time": "2022-08-23T03:02:12.961Z"
   },
   {
    "duration": 0,
    "start_time": "2022-08-23T03:02:12.962Z"
   },
   {
    "duration": 0,
    "start_time": "2022-08-23T03:02:12.963Z"
   },
   {
    "duration": 0,
    "start_time": "2022-08-23T03:02:12.964Z"
   },
   {
    "duration": 0,
    "start_time": "2022-08-23T03:02:12.966Z"
   },
   {
    "duration": 0,
    "start_time": "2022-08-23T03:02:12.966Z"
   },
   {
    "duration": 0,
    "start_time": "2022-08-23T03:02:12.968Z"
   },
   {
    "duration": 0,
    "start_time": "2022-08-23T03:02:12.969Z"
   },
   {
    "duration": 0,
    "start_time": "2022-08-23T03:02:12.970Z"
   },
   {
    "duration": 0,
    "start_time": "2022-08-23T03:02:12.971Z"
   },
   {
    "duration": 0,
    "start_time": "2022-08-23T03:02:12.972Z"
   },
   {
    "duration": 0,
    "start_time": "2022-08-23T03:02:12.973Z"
   },
   {
    "duration": 0,
    "start_time": "2022-08-23T03:02:12.974Z"
   },
   {
    "duration": 0,
    "start_time": "2022-08-23T03:02:12.975Z"
   },
   {
    "duration": 0,
    "start_time": "2022-08-23T03:02:12.976Z"
   },
   {
    "duration": 0,
    "start_time": "2022-08-23T03:02:12.977Z"
   },
   {
    "duration": 0,
    "start_time": "2022-08-23T03:02:12.978Z"
   },
   {
    "duration": 0,
    "start_time": "2022-08-23T03:02:13.000Z"
   },
   {
    "duration": 0,
    "start_time": "2022-08-23T03:02:13.002Z"
   },
   {
    "duration": 0,
    "start_time": "2022-08-23T03:02:13.003Z"
   },
   {
    "duration": 0,
    "start_time": "2022-08-23T03:02:13.004Z"
   },
   {
    "duration": 0,
    "start_time": "2022-08-23T03:02:13.005Z"
   },
   {
    "duration": 0,
    "start_time": "2022-08-23T03:02:13.006Z"
   },
   {
    "duration": 0,
    "start_time": "2022-08-23T03:02:13.007Z"
   },
   {
    "duration": 49,
    "start_time": "2022-08-23T03:02:23.422Z"
   },
   {
    "duration": 674,
    "start_time": "2022-08-23T03:02:43.845Z"
   },
   {
    "duration": 3,
    "start_time": "2022-08-23T03:02:45.281Z"
   },
   {
    "duration": 21,
    "start_time": "2022-08-23T03:02:47.270Z"
   },
   {
    "duration": 58,
    "start_time": "2022-08-23T03:02:55.889Z"
   },
   {
    "duration": 18,
    "start_time": "2022-08-23T03:02:57.401Z"
   },
   {
    "duration": 23,
    "start_time": "2022-08-23T03:03:13.422Z"
   },
   {
    "duration": 28,
    "start_time": "2022-08-23T03:03:22.241Z"
   },
   {
    "duration": 3,
    "start_time": "2022-08-23T03:03:26.073Z"
   },
   {
    "duration": 43,
    "start_time": "2022-08-23T03:03:27.413Z"
   },
   {
    "duration": 109,
    "start_time": "2022-08-23T03:10:31.681Z"
   },
   {
    "duration": 452,
    "start_time": "2022-08-23T03:10:58.722Z"
   },
   {
    "duration": 936878,
    "start_time": "2022-08-23T03:11:13.307Z"
   },
   {
    "duration": 4,
    "start_time": "2022-08-23T03:28:42.255Z"
   },
   {
    "duration": 4540,
    "start_time": "2022-08-23T03:29:25.424Z"
   },
   {
    "duration": 2367,
    "start_time": "2022-08-23T03:29:29.966Z"
   },
   {
    "duration": 44,
    "start_time": "2022-08-23T03:29:45.454Z"
   },
   {
    "duration": 55717,
    "start_time": "2022-08-23T03:29:52.476Z"
   },
   {
    "duration": 2266,
    "start_time": "2022-08-23T03:30:48.194Z"
   },
   {
    "duration": 10,
    "start_time": "2022-08-23T03:30:50.462Z"
   },
   {
    "duration": 231,
    "start_time": "2022-08-23T03:30:50.474Z"
   },
   {
    "duration": 6,
    "start_time": "2022-08-23T03:30:50.707Z"
   },
   {
    "duration": 134,
    "start_time": "2022-08-23T03:30:50.714Z"
   },
   {
    "duration": 4,
    "start_time": "2022-08-23T03:30:50.849Z"
   },
   {
    "duration": 13,
    "start_time": "2022-08-23T03:30:50.854Z"
   },
   {
    "duration": 12,
    "start_time": "2022-08-23T03:30:50.869Z"
   },
   {
    "duration": 9923,
    "start_time": "2022-08-23T03:30:50.882Z"
   },
   {
    "duration": 69432,
    "start_time": "2022-08-23T03:31:00.807Z"
   },
   {
    "duration": 0,
    "start_time": "2022-08-23T03:32:10.242Z"
   },
   {
    "duration": 0,
    "start_time": "2022-08-23T03:32:10.244Z"
   },
   {
    "duration": 0,
    "start_time": "2022-08-23T03:32:10.244Z"
   },
   {
    "duration": 0,
    "start_time": "2022-08-23T03:32:10.246Z"
   },
   {
    "duration": 0,
    "start_time": "2022-08-23T03:32:10.247Z"
   },
   {
    "duration": 0,
    "start_time": "2022-08-23T03:32:10.248Z"
   },
   {
    "duration": 0,
    "start_time": "2022-08-23T03:32:10.249Z"
   },
   {
    "duration": 0,
    "start_time": "2022-08-23T03:32:10.251Z"
   },
   {
    "duration": 0,
    "start_time": "2022-08-23T03:32:10.251Z"
   },
   {
    "duration": 0,
    "start_time": "2022-08-23T03:32:10.253Z"
   },
   {
    "duration": 0,
    "start_time": "2022-08-23T03:32:10.254Z"
   },
   {
    "duration": 0,
    "start_time": "2022-08-23T03:32:10.255Z"
   },
   {
    "duration": 0,
    "start_time": "2022-08-23T03:32:10.256Z"
   },
   {
    "duration": 0,
    "start_time": "2022-08-23T03:32:10.257Z"
   },
   {
    "duration": 0,
    "start_time": "2022-08-23T03:32:10.258Z"
   },
   {
    "duration": 0,
    "start_time": "2022-08-23T03:32:10.259Z"
   },
   {
    "duration": 0,
    "start_time": "2022-08-23T03:32:10.261Z"
   },
   {
    "duration": 0,
    "start_time": "2022-08-23T03:32:10.262Z"
   },
   {
    "duration": 0,
    "start_time": "2022-08-23T03:32:10.263Z"
   },
   {
    "duration": 0,
    "start_time": "2022-08-23T03:32:10.265Z"
   },
   {
    "duration": 0,
    "start_time": "2022-08-23T03:32:10.266Z"
   },
   {
    "duration": 0,
    "start_time": "2022-08-23T03:32:10.268Z"
   },
   {
    "duration": 0,
    "start_time": "2022-08-23T03:32:10.269Z"
   },
   {
    "duration": 0,
    "start_time": "2022-08-23T03:32:10.273Z"
   },
   {
    "duration": 0,
    "start_time": "2022-08-23T03:32:10.274Z"
   },
   {
    "duration": 0,
    "start_time": "2022-08-23T03:32:10.275Z"
   },
   {
    "duration": 0,
    "start_time": "2022-08-23T03:32:10.277Z"
   },
   {
    "duration": 0,
    "start_time": "2022-08-23T03:32:10.278Z"
   },
   {
    "duration": 0,
    "start_time": "2022-08-23T03:32:10.306Z"
   },
   {
    "duration": 28,
    "start_time": "2022-08-23T03:32:15.145Z"
   },
   {
    "duration": 717,
    "start_time": "2022-08-23T03:32:20.891Z"
   },
   {
    "duration": 3,
    "start_time": "2022-08-23T03:32:22.361Z"
   },
   {
    "duration": 60,
    "start_time": "2022-08-23T03:32:23.292Z"
   },
   {
    "duration": 28,
    "start_time": "2022-08-23T03:32:24.014Z"
   },
   {
    "duration": 3,
    "start_time": "2022-08-23T03:32:24.706Z"
   },
   {
    "duration": 931905,
    "start_time": "2022-08-23T03:32:25.738Z"
   },
   {
    "duration": 4,
    "start_time": "2022-08-23T03:47:57.645Z"
   },
   {
    "duration": 4613,
    "start_time": "2022-08-23T03:47:57.651Z"
   },
   {
    "duration": 2328,
    "start_time": "2022-08-23T03:48:02.266Z"
   },
   {
    "duration": 3800,
    "start_time": "2022-08-23T03:48:04.596Z"
   },
   {
    "duration": 31,
    "start_time": "2022-08-23T03:48:08.398Z"
   },
   {
    "duration": 323798,
    "start_time": "2022-08-23T03:48:08.431Z"
   },
   {
    "duration": 0,
    "start_time": "2022-08-23T03:53:32.300Z"
   },
   {
    "duration": 52036,
    "start_time": "2022-08-23T03:55:22.050Z"
   },
   {
    "duration": 2035,
    "start_time": "2022-08-23T03:56:14.088Z"
   },
   {
    "duration": 11,
    "start_time": "2022-08-23T03:56:16.125Z"
   },
   {
    "duration": 223,
    "start_time": "2022-08-23T03:56:16.138Z"
   },
   {
    "duration": 5,
    "start_time": "2022-08-23T03:56:16.363Z"
   },
   {
    "duration": 141,
    "start_time": "2022-08-23T03:56:16.370Z"
   },
   {
    "duration": 3,
    "start_time": "2022-08-23T03:56:16.512Z"
   },
   {
    "duration": 8,
    "start_time": "2022-08-23T03:56:16.517Z"
   },
   {
    "duration": 6,
    "start_time": "2022-08-23T03:56:16.527Z"
   },
   {
    "duration": 9869,
    "start_time": "2022-08-23T03:56:16.535Z"
   },
   {
    "duration": 190687,
    "start_time": "2022-08-23T03:56:26.406Z"
   },
   {
    "duration": 7,
    "start_time": "2022-08-23T03:59:37.095Z"
   },
   {
    "duration": 1175,
    "start_time": "2022-08-23T03:59:37.103Z"
   },
   {
    "duration": 39,
    "start_time": "2022-08-23T03:59:38.281Z"
   },
   {
    "duration": 45,
    "start_time": "2022-08-23T04:16:32.905Z"
   },
   {
    "duration": 52342,
    "start_time": "2022-08-23T04:16:39.398Z"
   },
   {
    "duration": 2230,
    "start_time": "2022-08-23T04:17:31.742Z"
   },
   {
    "duration": 10,
    "start_time": "2022-08-23T04:17:33.974Z"
   },
   {
    "duration": 220,
    "start_time": "2022-08-23T04:17:33.986Z"
   },
   {
    "duration": 6,
    "start_time": "2022-08-23T04:17:34.207Z"
   },
   {
    "duration": 125,
    "start_time": "2022-08-23T04:17:34.214Z"
   },
   {
    "duration": 4,
    "start_time": "2022-08-23T04:17:34.340Z"
   },
   {
    "duration": 7,
    "start_time": "2022-08-23T04:17:34.345Z"
   },
   {
    "duration": 8,
    "start_time": "2022-08-23T04:17:34.353Z"
   },
   {
    "duration": 9937,
    "start_time": "2022-08-23T04:17:34.363Z"
   },
   {
    "duration": 190884,
    "start_time": "2022-08-23T04:17:44.301Z"
   },
   {
    "duration": 4,
    "start_time": "2022-08-23T04:20:55.187Z"
   },
   {
    "duration": 1126,
    "start_time": "2022-08-23T04:20:55.193Z"
   },
   {
    "duration": 36,
    "start_time": "2022-08-23T04:20:56.320Z"
   },
   {
    "duration": 48,
    "start_time": "2022-08-23T04:43:49.067Z"
   },
   {
    "duration": 55691,
    "start_time": "2022-08-23T04:43:57.427Z"
   },
   {
    "duration": 2236,
    "start_time": "2022-08-23T04:44:53.120Z"
   },
   {
    "duration": 3,
    "start_time": "2022-08-23T04:44:55.358Z"
   },
   {
    "duration": 71,
    "start_time": "2022-08-23T04:44:55.362Z"
   },
   {
    "duration": 30,
    "start_time": "2022-08-23T04:44:55.434Z"
   },
   {
    "duration": 4,
    "start_time": "2022-08-23T04:44:55.465Z"
   },
   {
    "duration": 950046,
    "start_time": "2022-08-23T04:44:55.470Z"
   },
   {
    "duration": 4908,
    "start_time": "2022-08-23T05:00:45.517Z"
   },
   {
    "duration": 2532,
    "start_time": "2022-08-23T05:00:50.427Z"
   },
   {
    "duration": 3701,
    "start_time": "2022-08-23T05:00:52.961Z"
   },
   {
    "duration": 24,
    "start_time": "2022-08-23T05:00:56.664Z"
   },
   {
    "duration": 263,
    "start_time": "2022-08-23T05:00:56.690Z"
   },
   {
    "duration": 0,
    "start_time": "2022-08-23T05:00:56.956Z"
   },
   {
    "duration": 0,
    "start_time": "2022-08-23T05:00:56.957Z"
   },
   {
    "duration": 6,
    "start_time": "2022-08-23T05:24:08.007Z"
   },
   {
    "duration": 4,
    "start_time": "2022-08-23T05:24:30.802Z"
   },
   {
    "duration": 3,
    "start_time": "2022-08-23T05:24:32.535Z"
   },
   {
    "duration": 3,
    "start_time": "2022-08-23T05:24:34.571Z"
   },
   {
    "duration": 340918,
    "start_time": "2022-08-23T05:24:40.403Z"
   },
   {
    "duration": 1,
    "start_time": "2022-08-23T05:30:21.322Z"
   },
   {
    "duration": 0,
    "start_time": "2022-08-23T05:30:21.324Z"
   },
   {
    "duration": 51,
    "start_time": "2022-08-23T05:43:55.484Z"
   },
   {
    "duration": 1080533,
    "start_time": "2022-08-23T05:44:03.197Z"
   },
   {
    "duration": 31,
    "start_time": "2022-08-23T08:46:26.872Z"
   },
   {
    "duration": 22,
    "start_time": "2022-08-23T08:47:04.252Z"
   },
   {
    "duration": 20,
    "start_time": "2022-08-23T14:19:35.399Z"
   },
   {
    "duration": 34,
    "start_time": "2022-08-23T14:21:33.874Z"
   },
   {
    "duration": 65717,
    "start_time": "2022-08-23T14:23:21.800Z"
   },
   {
    "duration": 0,
    "start_time": "2022-08-23T14:24:27.520Z"
   },
   {
    "duration": 0,
    "start_time": "2022-08-23T14:24:27.521Z"
   },
   {
    "duration": 0,
    "start_time": "2022-08-23T14:24:27.524Z"
   },
   {
    "duration": 0,
    "start_time": "2022-08-23T14:24:27.526Z"
   },
   {
    "duration": 0,
    "start_time": "2022-08-23T14:24:27.528Z"
   },
   {
    "duration": 0,
    "start_time": "2022-08-23T14:24:27.529Z"
   },
   {
    "duration": 0,
    "start_time": "2022-08-23T14:24:27.530Z"
   },
   {
    "duration": 0,
    "start_time": "2022-08-23T14:24:27.531Z"
   },
   {
    "duration": 0,
    "start_time": "2022-08-23T14:24:27.532Z"
   },
   {
    "duration": 0,
    "start_time": "2022-08-23T14:24:27.534Z"
   },
   {
    "duration": 0,
    "start_time": "2022-08-23T14:24:27.535Z"
   },
   {
    "duration": 0,
    "start_time": "2022-08-23T14:24:27.536Z"
   },
   {
    "duration": 0,
    "start_time": "2022-08-23T14:24:27.537Z"
   },
   {
    "duration": 1,
    "start_time": "2022-08-23T14:24:27.538Z"
   },
   {
    "duration": 0,
    "start_time": "2022-08-23T14:24:27.540Z"
   },
   {
    "duration": 0,
    "start_time": "2022-08-23T14:24:27.541Z"
   },
   {
    "duration": 0,
    "start_time": "2022-08-23T14:24:27.543Z"
   },
   {
    "duration": 0,
    "start_time": "2022-08-23T14:24:27.544Z"
   },
   {
    "duration": 0,
    "start_time": "2022-08-23T14:24:27.545Z"
   },
   {
    "duration": 0,
    "start_time": "2022-08-23T14:24:27.547Z"
   },
   {
    "duration": 0,
    "start_time": "2022-08-23T14:24:27.548Z"
   },
   {
    "duration": 0,
    "start_time": "2022-08-23T14:24:27.549Z"
   },
   {
    "duration": 0,
    "start_time": "2022-08-23T14:24:27.550Z"
   },
   {
    "duration": 0,
    "start_time": "2022-08-23T14:24:27.551Z"
   },
   {
    "duration": 0,
    "start_time": "2022-08-23T14:24:27.553Z"
   },
   {
    "duration": 72867,
    "start_time": "2022-08-23T14:24:33.969Z"
   },
   {
    "duration": 789,
    "start_time": "2022-08-23T14:25:46.838Z"
   },
   {
    "duration": 15,
    "start_time": "2022-08-23T14:25:47.629Z"
   },
   {
    "duration": 247,
    "start_time": "2022-08-23T14:25:47.646Z"
   },
   {
    "duration": 8,
    "start_time": "2022-08-23T14:25:47.901Z"
   },
   {
    "duration": 150,
    "start_time": "2022-08-23T14:25:47.914Z"
   },
   {
    "duration": 4,
    "start_time": "2022-08-23T14:25:48.066Z"
   },
   {
    "duration": 8,
    "start_time": "2022-08-23T14:25:48.072Z"
   },
   {
    "duration": 6,
    "start_time": "2022-08-23T14:25:48.082Z"
   },
   {
    "duration": 348,
    "start_time": "2022-08-23T14:25:48.100Z"
   },
   {
    "duration": 0,
    "start_time": "2022-08-23T14:25:48.450Z"
   },
   {
    "duration": 0,
    "start_time": "2022-08-23T14:25:48.451Z"
   },
   {
    "duration": 0,
    "start_time": "2022-08-23T14:25:48.452Z"
   },
   {
    "duration": 0,
    "start_time": "2022-08-23T14:25:48.453Z"
   },
   {
    "duration": 0,
    "start_time": "2022-08-23T14:25:48.454Z"
   },
   {
    "duration": 0,
    "start_time": "2022-08-23T14:25:48.455Z"
   },
   {
    "duration": 0,
    "start_time": "2022-08-23T14:25:48.456Z"
   },
   {
    "duration": 0,
    "start_time": "2022-08-23T14:25:48.457Z"
   },
   {
    "duration": 0,
    "start_time": "2022-08-23T14:25:48.458Z"
   },
   {
    "duration": 0,
    "start_time": "2022-08-23T14:25:48.459Z"
   },
   {
    "duration": 0,
    "start_time": "2022-08-23T14:25:48.460Z"
   },
   {
    "duration": 0,
    "start_time": "2022-08-23T14:25:48.461Z"
   },
   {
    "duration": 0,
    "start_time": "2022-08-23T14:25:48.463Z"
   },
   {
    "duration": 0,
    "start_time": "2022-08-23T14:25:48.464Z"
   },
   {
    "duration": 0,
    "start_time": "2022-08-23T14:25:48.464Z"
   },
   {
    "duration": 0,
    "start_time": "2022-08-23T14:25:48.465Z"
   },
   {
    "duration": 726,
    "start_time": "2022-08-23T14:26:26.552Z"
   },
   {
    "duration": 4,
    "start_time": "2022-08-23T14:26:27.880Z"
   },
   {
    "duration": 63,
    "start_time": "2022-08-23T14:26:28.772Z"
   },
   {
    "duration": 32,
    "start_time": "2022-08-23T14:26:30.113Z"
   },
   {
    "duration": 4,
    "start_time": "2022-08-23T14:26:30.997Z"
   },
   {
    "duration": 1033066,
    "start_time": "2022-08-23T14:26:32.137Z"
   },
   {
    "duration": 4,
    "start_time": "2022-08-23T14:43:45.204Z"
   },
   {
    "duration": 4710,
    "start_time": "2022-08-23T14:43:45.209Z"
   },
   {
    "duration": 2442,
    "start_time": "2022-08-23T14:43:49.921Z"
   },
   {
    "duration": 3729,
    "start_time": "2022-08-23T14:43:52.364Z"
   },
   {
    "duration": 26,
    "start_time": "2022-08-23T14:43:56.095Z"
   },
   {
    "duration": 1031501,
    "start_time": "2022-08-23T14:43:56.123Z"
   },
   {
    "duration": 20,
    "start_time": "2022-08-23T15:01:07.626Z"
   },
   {
    "duration": 0,
    "start_time": "2022-08-23T15:01:07.648Z"
   },
   {
    "duration": 4,
    "start_time": "2022-08-23T15:01:24.858Z"
   },
   {
    "duration": 1064141,
    "start_time": "2022-08-23T15:01:29.363Z"
   },
   {
    "duration": 24,
    "start_time": "2022-08-23T15:19:13.514Z"
   },
   {
    "duration": 0,
    "start_time": "2022-08-23T15:19:13.540Z"
   },
   {
    "duration": 30,
    "start_time": "2022-08-23T15:24:41.561Z"
   },
   {
    "duration": 24,
    "start_time": "2022-08-23T15:25:15.699Z"
   },
   {
    "duration": 28,
    "start_time": "2022-08-23T15:25:40.484Z"
   },
   {
    "duration": 29,
    "start_time": "2022-08-23T15:25:50.892Z"
   },
   {
    "duration": 14,
    "start_time": "2022-08-23T15:25:58.088Z"
   },
   {
    "duration": 0,
    "start_time": "2022-08-23T15:32:41.866Z"
   },
   {
    "duration": 0,
    "start_time": "2022-08-23T15:32:41.867Z"
   },
   {
    "duration": 0,
    "start_time": "2022-08-23T15:33:18.230Z"
   },
   {
    "duration": 0,
    "start_time": "2022-08-23T15:33:18.233Z"
   },
   {
    "duration": 6,
    "start_time": "2022-08-23T15:33:21.510Z"
   },
   {
    "duration": 811972,
    "start_time": "2022-08-23T15:33:55.290Z"
   },
   {
    "duration": 22,
    "start_time": "2022-08-23T15:48:56.095Z"
   },
   {
    "duration": 73444,
    "start_time": "2022-08-23T15:49:12.395Z"
   },
   {
    "duration": 4,
    "start_time": "2022-08-23T15:50:25.982Z"
   },
   {
    "duration": 826398,
    "start_time": "2022-08-23T15:50:31.258Z"
   },
   {
    "duration": 178,
    "start_time": "2022-08-23T16:04:17.658Z"
   },
   {
    "duration": 18,
    "start_time": "2022-08-23T16:04:17.838Z"
   },
   {
    "duration": 3,
    "start_time": "2022-08-23T16:07:14.057Z"
   },
   {
    "duration": 38160,
    "start_time": "2022-08-23T16:07:20.605Z"
   },
   {
    "duration": 3,
    "start_time": "2022-08-23T16:08:01.193Z"
   },
   {
    "duration": 49,
    "start_time": "2022-08-23T16:08:56.441Z"
   },
   {
    "duration": 55493,
    "start_time": "2022-08-23T16:09:07.574Z"
   },
   {
    "duration": 2617,
    "start_time": "2022-08-23T16:10:03.070Z"
   },
   {
    "duration": 15,
    "start_time": "2022-08-23T16:10:05.691Z"
   },
   {
    "duration": 311,
    "start_time": "2022-08-23T16:10:05.708Z"
   },
   {
    "duration": 6,
    "start_time": "2022-08-23T16:10:06.022Z"
   },
   {
    "duration": 159,
    "start_time": "2022-08-23T16:10:06.030Z"
   },
   {
    "duration": 9,
    "start_time": "2022-08-23T16:10:06.191Z"
   },
   {
    "duration": 24,
    "start_time": "2022-08-23T16:10:06.202Z"
   },
   {
    "duration": 5,
    "start_time": "2022-08-23T16:10:06.229Z"
   },
   {
    "duration": 10,
    "start_time": "2022-08-23T16:10:06.236Z"
   },
   {
    "duration": 817,
    "start_time": "2022-08-23T16:10:06.248Z"
   },
   {
    "duration": 4,
    "start_time": "2022-08-23T16:10:07.067Z"
   },
   {
    "duration": 89,
    "start_time": "2022-08-23T16:10:07.072Z"
   },
   {
    "duration": 38,
    "start_time": "2022-08-23T16:10:07.164Z"
   },
   {
    "duration": 3,
    "start_time": "2022-08-23T16:10:07.204Z"
   },
   {
    "duration": 1022439,
    "start_time": "2022-08-23T16:10:07.209Z"
   },
   {
    "duration": 4,
    "start_time": "2022-08-23T16:27:09.649Z"
   },
   {
    "duration": 5675,
    "start_time": "2022-08-23T16:27:09.655Z"
   },
   {
    "duration": 2728,
    "start_time": "2022-08-23T16:27:15.333Z"
   },
   {
    "duration": 3982,
    "start_time": "2022-08-23T16:27:18.063Z"
   },
   {
    "duration": 26,
    "start_time": "2022-08-23T16:27:22.047Z"
   },
   {
    "duration": 0,
    "start_time": "2022-08-23T17:52:19.989Z"
   },
   {
    "duration": 0,
    "start_time": "2022-08-23T17:52:19.990Z"
   },
   {
    "duration": 0,
    "start_time": "2022-08-23T17:52:19.991Z"
   },
   {
    "duration": 0,
    "start_time": "2022-08-23T17:52:19.992Z"
   },
   {
    "duration": 0,
    "start_time": "2022-08-23T17:52:19.993Z"
   },
   {
    "duration": 75076,
    "start_time": "2022-08-23T17:52:36.474Z"
   },
   {
    "duration": 3117,
    "start_time": "2022-08-23T17:53:51.552Z"
   },
   {
    "duration": 12,
    "start_time": "2022-08-23T17:53:54.670Z"
   },
   {
    "duration": 261,
    "start_time": "2022-08-23T17:53:54.684Z"
   },
   {
    "duration": 6,
    "start_time": "2022-08-23T17:53:54.946Z"
   },
   {
    "duration": 354,
    "start_time": "2022-08-23T17:53:54.954Z"
   },
   {
    "duration": 24,
    "start_time": "2022-08-23T17:53:55.317Z"
   },
   {
    "duration": 14,
    "start_time": "2022-08-23T17:53:55.343Z"
   },
   {
    "duration": 10,
    "start_time": "2022-08-23T17:53:55.358Z"
   },
   {
    "duration": 10,
    "start_time": "2022-08-23T17:53:55.370Z"
   },
   {
    "duration": 829,
    "start_time": "2022-08-23T17:53:55.382Z"
   },
   {
    "duration": 4,
    "start_time": "2022-08-23T17:53:56.213Z"
   },
   {
    "duration": 109,
    "start_time": "2022-08-23T17:53:56.224Z"
   },
   {
    "duration": 31,
    "start_time": "2022-08-23T17:53:56.338Z"
   },
   {
    "duration": 4,
    "start_time": "2022-08-23T17:53:56.371Z"
   },
   {
    "duration": 1149298,
    "start_time": "2022-08-23T17:53:56.377Z"
   },
   {
    "duration": 5,
    "start_time": "2022-08-23T18:13:05.676Z"
   },
   {
    "duration": 6565,
    "start_time": "2022-08-23T18:13:05.683Z"
   },
   {
    "duration": 3285,
    "start_time": "2022-08-23T18:13:12.250Z"
   },
   {
    "duration": 4184,
    "start_time": "2022-08-23T18:13:15.539Z"
   },
   {
    "duration": 30,
    "start_time": "2022-08-23T18:13:19.731Z"
   },
   {
    "duration": 1874908,
    "start_time": "2022-08-23T18:13:19.763Z"
   },
   {
    "duration": 13,
    "start_time": "2022-08-23T18:44:34.673Z"
   },
   {
    "duration": 903827,
    "start_time": "2022-08-23T18:44:34.687Z"
   },
   {
    "duration": 165,
    "start_time": "2022-08-23T18:59:38.521Z"
   },
   {
    "duration": 39,
    "start_time": "2022-08-23T18:59:38.688Z"
   },
   {
    "duration": 50951,
    "start_time": "2022-08-24T01:43:04.510Z"
   },
   {
    "duration": 2382,
    "start_time": "2022-08-24T01:43:55.463Z"
   },
   {
    "duration": 10,
    "start_time": "2022-08-24T01:43:57.847Z"
   },
   {
    "duration": 227,
    "start_time": "2022-08-24T01:43:57.859Z"
   },
   {
    "duration": 6,
    "start_time": "2022-08-24T01:43:58.087Z"
   },
   {
    "duration": 315,
    "start_time": "2022-08-24T01:43:58.099Z"
   },
   {
    "duration": 3,
    "start_time": "2022-08-24T01:43:58.416Z"
   },
   {
    "duration": 6,
    "start_time": "2022-08-24T01:43:58.420Z"
   },
   {
    "duration": 5,
    "start_time": "2022-08-24T01:43:58.428Z"
   },
   {
    "duration": 7,
    "start_time": "2022-08-24T01:43:58.435Z"
   },
   {
    "duration": 784,
    "start_time": "2022-08-24T01:43:58.443Z"
   },
   {
    "duration": 3,
    "start_time": "2022-08-24T01:43:59.230Z"
   },
   {
    "duration": 6,
    "start_time": "2022-08-24T01:43:59.235Z"
   },
   {
    "duration": 1002101,
    "start_time": "2022-08-24T01:43:59.243Z"
   },
   {
    "duration": 4,
    "start_time": "2022-08-24T02:00:41.346Z"
   },
   {
    "duration": 144,
    "start_time": "2022-08-24T02:00:41.352Z"
   },
   {
    "duration": 56,
    "start_time": "2022-08-24T02:00:41.499Z"
   },
   {
    "duration": 5167,
    "start_time": "2022-08-24T02:00:41.557Z"
   },
   {
    "duration": 2554,
    "start_time": "2022-08-24T02:00:46.725Z"
   },
   {
    "duration": 4033,
    "start_time": "2022-08-24T02:00:49.280Z"
   },
   {
    "duration": 26,
    "start_time": "2022-08-24T02:00:53.315Z"
   },
   {
    "duration": 51324,
    "start_time": "2022-08-24T02:51:49.413Z"
   },
   {
    "duration": 810,
    "start_time": "2022-08-24T02:52:40.740Z"
   },
   {
    "duration": 16,
    "start_time": "2022-08-24T02:52:41.553Z"
   },
   {
    "duration": 265,
    "start_time": "2022-08-24T02:52:41.571Z"
   },
   {
    "duration": 6,
    "start_time": "2022-08-24T02:52:41.838Z"
   },
   {
    "duration": 331,
    "start_time": "2022-08-24T02:52:41.845Z"
   },
   {
    "duration": 4,
    "start_time": "2022-08-24T02:52:42.178Z"
   },
   {
    "duration": 22,
    "start_time": "2022-08-24T02:52:42.183Z"
   },
   {
    "duration": 16,
    "start_time": "2022-08-24T02:52:42.206Z"
   },
   {
    "duration": 9,
    "start_time": "2022-08-24T02:52:42.224Z"
   },
   {
    "duration": 775,
    "start_time": "2022-08-24T02:52:42.234Z"
   },
   {
    "duration": 4,
    "start_time": "2022-08-24T02:52:43.012Z"
   },
   {
    "duration": 8,
    "start_time": "2022-08-24T02:52:43.018Z"
   },
   {
    "duration": 1038075,
    "start_time": "2022-08-24T02:52:43.029Z"
   },
   {
    "duration": 7,
    "start_time": "2022-08-24T03:10:01.111Z"
   },
   {
    "duration": 151,
    "start_time": "2022-08-24T03:10:01.119Z"
   },
   {
    "duration": 61,
    "start_time": "2022-08-24T03:10:01.271Z"
   },
   {
    "duration": 4820,
    "start_time": "2022-08-24T03:10:01.333Z"
   },
   {
    "duration": 2454,
    "start_time": "2022-08-24T03:10:06.154Z"
   },
   {
    "duration": 4098,
    "start_time": "2022-08-24T03:10:08.615Z"
   },
   {
    "duration": 27,
    "start_time": "2022-08-24T03:10:12.715Z"
   },
   {
    "duration": 1820042,
    "start_time": "2022-08-24T03:10:12.743Z"
   },
   {
    "duration": 29,
    "start_time": "2022-08-24T03:40:32.787Z"
   },
   {
    "duration": 839001,
    "start_time": "2022-08-24T03:40:32.824Z"
   },
   {
    "duration": 154,
    "start_time": "2022-08-24T03:54:31.826Z"
   },
   {
    "duration": 37,
    "start_time": "2022-08-24T03:54:31.981Z"
   },
   {
    "duration": 3,
    "start_time": "2022-08-24T03:57:03.453Z"
   },
   {
    "duration": 845410,
    "start_time": "2022-08-24T03:57:08.645Z"
   },
   {
    "duration": 324,
    "start_time": "2022-08-24T04:11:14.057Z"
   },
   {
    "duration": 4,
    "start_time": "2022-08-24T04:12:12.319Z"
   },
   {
    "duration": 844124,
    "start_time": "2022-08-24T04:12:17.728Z"
   },
   {
    "duration": 26,
    "start_time": "2022-08-24T04:26:21.854Z"
   },
   {
    "duration": 4,
    "start_time": "2022-08-24T04:34:02.699Z"
   },
   {
    "duration": 441028,
    "start_time": "2022-08-24T04:34:08.271Z"
   },
   {
    "duration": 10,
    "start_time": "2022-08-24T04:41:29.307Z"
   },
   {
    "duration": 610770,
    "start_time": "2022-08-24T04:41:33.129Z"
   },
   {
    "duration": 0,
    "start_time": "2022-08-24T04:51:43.902Z"
   },
   {
    "duration": 37653,
    "start_time": "2022-08-24T04:51:45.383Z"
   },
   {
    "duration": 0,
    "start_time": "2022-08-24T04:52:23.038Z"
   },
   {
    "duration": 36884,
    "start_time": "2022-08-24T04:52:24.674Z"
   },
   {
    "duration": 0,
    "start_time": "2022-08-24T04:53:01.559Z"
   },
   {
    "duration": 4,
    "start_time": "2022-08-24T04:53:03.906Z"
   },
   {
    "duration": 407322,
    "start_time": "2022-08-24T04:53:13.423Z"
   },
   {
    "duration": 4,
    "start_time": "2022-08-24T05:03:53.819Z"
   },
   {
    "duration": 808366,
    "start_time": "2022-08-24T05:03:58.883Z"
   },
   {
    "duration": 4,
    "start_time": "2022-08-24T05:22:48.575Z"
   },
   {
    "duration": 834144,
    "start_time": "2022-08-24T05:22:53.886Z"
   },
   {
    "duration": 53,
    "start_time": "2022-08-24T05:51:34.953Z"
   },
   {
    "duration": 5,
    "start_time": "2022-08-24T05:51:40.933Z"
   },
   {
    "duration": 37952,
    "start_time": "2022-08-24T05:51:50.261Z"
   },
   {
    "duration": 4,
    "start_time": "2022-08-24T05:57:44.311Z"
   },
   {
    "duration": 58,
    "start_time": "2022-08-24T06:08:39.087Z"
   },
   {
    "duration": 59156,
    "start_time": "2022-08-24T06:08:44.763Z"
   },
   {
    "duration": 2388,
    "start_time": "2022-08-24T06:09:43.922Z"
   },
   {
    "duration": 17,
    "start_time": "2022-08-24T06:09:46.312Z"
   },
   {
    "duration": 276,
    "start_time": "2022-08-24T06:09:46.331Z"
   },
   {
    "duration": 7,
    "start_time": "2022-08-24T06:09:46.611Z"
   },
   {
    "duration": 340,
    "start_time": "2022-08-24T06:09:46.619Z"
   },
   {
    "duration": 4,
    "start_time": "2022-08-24T06:09:46.961Z"
   },
   {
    "duration": 21,
    "start_time": "2022-08-24T06:09:46.967Z"
   },
   {
    "duration": 50,
    "start_time": "2022-08-24T06:09:46.991Z"
   },
   {
    "duration": 8,
    "start_time": "2022-08-24T06:09:47.043Z"
   },
   {
    "duration": 813,
    "start_time": "2022-08-24T06:09:47.053Z"
   },
   {
    "duration": 4,
    "start_time": "2022-08-24T06:09:47.868Z"
   },
   {
    "duration": 16,
    "start_time": "2022-08-24T06:09:47.874Z"
   },
   {
    "duration": 1041531,
    "start_time": "2022-08-24T06:09:47.892Z"
   },
   {
    "duration": 4,
    "start_time": "2022-08-24T06:27:09.425Z"
   },
   {
    "duration": 111,
    "start_time": "2022-08-24T06:27:09.431Z"
   },
   {
    "duration": 69,
    "start_time": "2022-08-24T06:27:09.544Z"
   },
   {
    "duration": 4989,
    "start_time": "2022-08-24T06:27:09.616Z"
   },
   {
    "duration": 2356,
    "start_time": "2022-08-24T06:27:14.606Z"
   },
   {
    "duration": 4047,
    "start_time": "2022-08-24T06:27:16.963Z"
   },
   {
    "duration": 38,
    "start_time": "2022-08-24T06:27:21.012Z"
   },
   {
    "duration": 1794244,
    "start_time": "2022-08-24T06:27:21.052Z"
   },
   {
    "duration": 17,
    "start_time": "2022-08-24T06:57:15.300Z"
   },
   {
    "duration": 9,
    "start_time": "2022-08-24T07:21:41.724Z"
   },
   {
    "duration": 43,
    "start_time": "2022-08-24T07:21:46.711Z"
   },
   {
    "duration": 57802,
    "start_time": "2022-08-24T07:21:52.532Z"
   },
   {
    "duration": 2346,
    "start_time": "2022-08-24T07:22:50.336Z"
   },
   {
    "duration": 15,
    "start_time": "2022-08-24T07:22:52.684Z"
   },
   {
    "duration": 263,
    "start_time": "2022-08-24T07:22:52.701Z"
   },
   {
    "duration": 10,
    "start_time": "2022-08-24T07:22:52.967Z"
   },
   {
    "duration": 381,
    "start_time": "2022-08-24T07:22:52.979Z"
   },
   {
    "duration": 6,
    "start_time": "2022-08-24T07:22:53.362Z"
   },
   {
    "duration": 10,
    "start_time": "2022-08-24T07:22:53.370Z"
   },
   {
    "duration": 33,
    "start_time": "2022-08-24T07:22:53.382Z"
   },
   {
    "duration": 82,
    "start_time": "2022-08-24T07:22:53.417Z"
   },
   {
    "duration": 868,
    "start_time": "2022-08-24T07:22:53.500Z"
   },
   {
    "duration": 4,
    "start_time": "2022-08-24T07:22:54.371Z"
   },
   {
    "duration": 18,
    "start_time": "2022-08-24T07:22:54.377Z"
   },
   {
    "duration": 988542,
    "start_time": "2022-08-24T07:22:54.399Z"
   },
   {
    "duration": 3,
    "start_time": "2022-08-24T07:39:22.943Z"
   },
   {
    "duration": 114,
    "start_time": "2022-08-24T07:39:22.948Z"
   },
   {
    "duration": 58,
    "start_time": "2022-08-24T07:39:23.064Z"
   },
   {
    "duration": 4266,
    "start_time": "2022-08-24T07:39:23.124Z"
   },
   {
    "duration": 2251,
    "start_time": "2022-08-24T07:39:27.392Z"
   },
   {
    "duration": 3868,
    "start_time": "2022-08-24T07:39:29.645Z"
   },
   {
    "duration": 25,
    "start_time": "2022-08-24T07:39:33.514Z"
   },
   {
    "duration": 1799933,
    "start_time": "2022-08-24T07:39:33.541Z"
   },
   {
    "duration": 24,
    "start_time": "2022-08-24T08:09:33.476Z"
   },
   {
    "duration": 795693,
    "start_time": "2022-08-24T08:09:33.501Z"
   },
   {
    "duration": 167,
    "start_time": "2022-08-24T08:22:49.196Z"
   },
   {
    "duration": 20,
    "start_time": "2022-08-24T08:22:49.365Z"
   },
   {
    "duration": 5,
    "start_time": "2022-08-24T08:25:01.271Z"
   },
   {
    "duration": 58,
    "start_time": "2022-08-24T08:53:01.607Z"
   },
   {
    "duration": 54005,
    "start_time": "2022-08-24T08:53:08.418Z"
   },
   {
    "duration": 2134,
    "start_time": "2022-08-24T08:54:02.424Z"
   },
   {
    "duration": 11,
    "start_time": "2022-08-24T08:54:04.560Z"
   },
   {
    "duration": 224,
    "start_time": "2022-08-24T08:54:04.572Z"
   },
   {
    "duration": 5,
    "start_time": "2022-08-24T08:54:04.801Z"
   },
   {
    "duration": 305,
    "start_time": "2022-08-24T08:54:04.808Z"
   },
   {
    "duration": 3,
    "start_time": "2022-08-24T08:54:05.115Z"
   },
   {
    "duration": 6,
    "start_time": "2022-08-24T08:54:05.120Z"
   },
   {
    "duration": 6,
    "start_time": "2022-08-24T08:54:05.128Z"
   },
   {
    "duration": 7,
    "start_time": "2022-08-24T08:54:05.135Z"
   },
   {
    "duration": 721,
    "start_time": "2022-08-24T08:54:05.143Z"
   },
   {
    "duration": 3,
    "start_time": "2022-08-24T08:54:05.865Z"
   },
   {
    "duration": 9,
    "start_time": "2022-08-24T08:54:05.870Z"
   },
   {
    "duration": 969945,
    "start_time": "2022-08-24T08:54:05.882Z"
   },
   {
    "duration": 3,
    "start_time": "2022-08-24T09:10:15.829Z"
   },
   {
    "duration": 106,
    "start_time": "2022-08-24T09:10:15.834Z"
   },
   {
    "duration": 47,
    "start_time": "2022-08-24T09:10:15.941Z"
   },
   {
    "duration": 4346,
    "start_time": "2022-08-24T09:10:15.990Z"
   },
   {
    "duration": 2219,
    "start_time": "2022-08-24T09:10:20.338Z"
   },
   {
    "duration": 3861,
    "start_time": "2022-08-24T09:10:22.559Z"
   },
   {
    "duration": 28,
    "start_time": "2022-08-24T09:10:26.421Z"
   },
   {
    "duration": 344,
    "start_time": "2022-08-24T09:10:26.451Z"
   },
   {
    "duration": 0,
    "start_time": "2022-08-24T09:10:26.796Z"
   },
   {
    "duration": 1,
    "start_time": "2022-08-24T09:10:26.799Z"
   },
   {
    "duration": 0,
    "start_time": "2022-08-24T09:10:26.801Z"
   },
   {
    "duration": 0,
    "start_time": "2022-08-24T09:10:26.802Z"
   },
   {
    "duration": 4,
    "start_time": "2022-08-24T09:14:57.645Z"
   },
   {
    "duration": 45,
    "start_time": "2022-08-24T09:15:06.150Z"
   },
   {
    "duration": 49,
    "start_time": "2022-08-24T09:15:38.254Z"
   },
   {
    "duration": 3,
    "start_time": "2022-08-24T09:17:45.911Z"
   },
   {
    "duration": 51,
    "start_time": "2022-08-24T09:17:53.014Z"
   },
   {
    "duration": 4,
    "start_time": "2022-08-24T09:18:10.366Z"
   },
   {
    "duration": 48,
    "start_time": "2022-08-24T09:18:23.810Z"
   },
   {
    "duration": 4,
    "start_time": "2022-08-24T09:19:44.281Z"
   },
   {
    "duration": 64,
    "start_time": "2022-08-24T09:19:52.073Z"
   },
   {
    "duration": 4,
    "start_time": "2022-08-24T09:20:08.965Z"
   },
   {
    "duration": 42,
    "start_time": "2022-08-24T09:20:14.773Z"
   },
   {
    "duration": 3,
    "start_time": "2022-08-24T09:20:26.288Z"
   },
   {
    "duration": 45,
    "start_time": "2022-08-24T09:20:32.794Z"
   },
   {
    "duration": 46,
    "start_time": "2022-08-24T09:20:34.631Z"
   },
   {
    "duration": 54,
    "start_time": "2022-08-24T09:21:05.412Z"
   },
   {
    "duration": 3,
    "start_time": "2022-08-24T09:21:24.415Z"
   },
   {
    "duration": 47,
    "start_time": "2022-08-24T09:21:29.023Z"
   },
   {
    "duration": 52208,
    "start_time": "2022-08-24T09:22:01.127Z"
   },
   {
    "duration": 2108,
    "start_time": "2022-08-24T09:22:53.337Z"
   },
   {
    "duration": 13,
    "start_time": "2022-08-24T09:22:55.447Z"
   },
   {
    "duration": 238,
    "start_time": "2022-08-24T09:22:55.461Z"
   },
   {
    "duration": 14,
    "start_time": "2022-08-24T09:22:55.700Z"
   },
   {
    "duration": 599,
    "start_time": "2022-08-24T09:22:55.716Z"
   },
   {
    "duration": 4,
    "start_time": "2022-08-24T09:22:56.316Z"
   },
   {
    "duration": 15,
    "start_time": "2022-08-24T09:22:56.321Z"
   },
   {
    "duration": 9,
    "start_time": "2022-08-24T09:22:56.338Z"
   },
   {
    "duration": 7,
    "start_time": "2022-08-24T09:22:56.350Z"
   },
   {
    "duration": 726,
    "start_time": "2022-08-24T09:22:56.359Z"
   },
   {
    "duration": 3,
    "start_time": "2022-08-24T09:22:57.087Z"
   },
   {
    "duration": 4,
    "start_time": "2022-08-24T09:22:57.099Z"
   },
   {
    "duration": 933494,
    "start_time": "2022-08-24T09:22:57.104Z"
   },
   {
    "duration": 4,
    "start_time": "2022-08-24T09:38:30.600Z"
   },
   {
    "duration": 313,
    "start_time": "2022-08-24T09:38:30.605Z"
   },
   {
    "duration": 0,
    "start_time": "2022-08-24T09:38:30.920Z"
   },
   {
    "duration": 0,
    "start_time": "2022-08-24T09:38:30.921Z"
   },
   {
    "duration": 0,
    "start_time": "2022-08-24T09:38:30.923Z"
   },
   {
    "duration": 0,
    "start_time": "2022-08-24T09:38:30.924Z"
   },
   {
    "duration": 0,
    "start_time": "2022-08-24T09:38:30.924Z"
   },
   {
    "duration": 0,
    "start_time": "2022-08-24T09:38:30.926Z"
   },
   {
    "duration": 0,
    "start_time": "2022-08-24T09:38:30.927Z"
   },
   {
    "duration": 0,
    "start_time": "2022-08-24T09:38:30.927Z"
   },
   {
    "duration": 1,
    "start_time": "2022-08-24T09:38:30.928Z"
   },
   {
    "duration": 0,
    "start_time": "2022-08-24T09:38:30.930Z"
   },
   {
    "duration": 21,
    "start_time": "2022-08-24T09:39:16.649Z"
   },
   {
    "duration": 54889,
    "start_time": "2022-08-24T09:39:31.302Z"
   },
   {
    "duration": 727,
    "start_time": "2022-08-24T09:40:26.193Z"
   },
   {
    "duration": 12,
    "start_time": "2022-08-24T09:40:26.922Z"
   },
   {
    "duration": 239,
    "start_time": "2022-08-24T09:40:26.936Z"
   },
   {
    "duration": 23,
    "start_time": "2022-08-24T09:40:27.178Z"
   },
   {
    "duration": 600,
    "start_time": "2022-08-24T09:40:27.202Z"
   },
   {
    "duration": 4,
    "start_time": "2022-08-24T09:40:27.804Z"
   },
   {
    "duration": 12,
    "start_time": "2022-08-24T09:40:27.809Z"
   },
   {
    "duration": 6,
    "start_time": "2022-08-24T09:40:27.822Z"
   },
   {
    "duration": 7,
    "start_time": "2022-08-24T09:40:27.829Z"
   },
   {
    "duration": 725,
    "start_time": "2022-08-24T09:40:27.838Z"
   },
   {
    "duration": 3,
    "start_time": "2022-08-24T09:40:28.565Z"
   },
   {
    "duration": 8,
    "start_time": "2022-08-24T09:40:28.569Z"
   },
   {
    "duration": 49996,
    "start_time": "2022-08-24T09:42:01.427Z"
   },
   {
    "duration": 757,
    "start_time": "2022-08-24T09:42:51.425Z"
   },
   {
    "duration": 18,
    "start_time": "2022-08-24T09:42:52.184Z"
   },
   {
    "duration": 236,
    "start_time": "2022-08-24T09:42:52.203Z"
   },
   {
    "duration": 14,
    "start_time": "2022-08-24T09:42:52.441Z"
   },
   {
    "duration": 619,
    "start_time": "2022-08-24T09:42:52.456Z"
   },
   {
    "duration": 4,
    "start_time": "2022-08-24T09:42:53.077Z"
   },
   {
    "duration": 17,
    "start_time": "2022-08-24T09:42:53.082Z"
   },
   {
    "duration": 15,
    "start_time": "2022-08-24T09:42:53.100Z"
   },
   {
    "duration": 9,
    "start_time": "2022-08-24T09:42:53.116Z"
   },
   {
    "duration": 751,
    "start_time": "2022-08-24T09:42:53.126Z"
   },
   {
    "duration": 3,
    "start_time": "2022-08-24T09:42:53.879Z"
   },
   {
    "duration": 6,
    "start_time": "2022-08-24T09:42:53.884Z"
   },
   {
    "duration": 55962,
    "start_time": "2022-08-24T09:45:40.623Z"
   },
   {
    "duration": 735,
    "start_time": "2022-08-24T09:46:36.587Z"
   },
   {
    "duration": 12,
    "start_time": "2022-08-24T09:46:37.323Z"
   },
   {
    "duration": 236,
    "start_time": "2022-08-24T09:46:37.337Z"
   },
   {
    "duration": 14,
    "start_time": "2022-08-24T09:46:37.576Z"
   },
   {
    "duration": 607,
    "start_time": "2022-08-24T09:46:37.592Z"
   },
   {
    "duration": 4,
    "start_time": "2022-08-24T09:46:38.200Z"
   },
   {
    "duration": 12,
    "start_time": "2022-08-24T09:46:38.205Z"
   },
   {
    "duration": 11,
    "start_time": "2022-08-24T09:46:38.219Z"
   },
   {
    "duration": 13,
    "start_time": "2022-08-24T09:46:38.232Z"
   },
   {
    "duration": 14957,
    "start_time": "2022-08-24T09:46:38.247Z"
   },
   {
    "duration": 196990,
    "start_time": "2022-08-24T09:46:53.206Z"
   },
   {
    "duration": 5,
    "start_time": "2022-08-24T09:50:10.199Z"
   },
   {
    "duration": 1281,
    "start_time": "2022-08-24T09:50:10.208Z"
   },
   {
    "duration": 41,
    "start_time": "2022-08-24T09:50:11.492Z"
   },
   {
    "duration": 50647,
    "start_time": "2022-08-24T10:18:15.676Z"
   },
   {
    "duration": 2225,
    "start_time": "2022-08-24T10:19:06.325Z"
   },
   {
    "duration": 12,
    "start_time": "2022-08-24T10:19:08.551Z"
   },
   {
    "duration": 247,
    "start_time": "2022-08-24T10:19:08.564Z"
   },
   {
    "duration": 16,
    "start_time": "2022-08-24T10:19:08.815Z"
   },
   {
    "duration": 628,
    "start_time": "2022-08-24T10:19:08.833Z"
   },
   {
    "duration": 4,
    "start_time": "2022-08-24T10:19:09.464Z"
   },
   {
    "duration": 15,
    "start_time": "2022-08-24T10:19:09.470Z"
   },
   {
    "duration": 13,
    "start_time": "2022-08-24T10:19:09.487Z"
   },
   {
    "duration": 4,
    "start_time": "2022-08-24T10:19:09.502Z"
   },
   {
    "duration": 9922,
    "start_time": "2022-08-24T10:19:09.508Z"
   },
   {
    "duration": 193337,
    "start_time": "2022-08-24T10:19:19.431Z"
   },
   {
    "duration": 4,
    "start_time": "2022-08-24T10:22:32.770Z"
   },
   {
    "duration": 1154,
    "start_time": "2022-08-24T10:22:32.777Z"
   },
   {
    "duration": 38,
    "start_time": "2022-08-24T10:22:33.933Z"
   },
   {
    "duration": 191456,
    "start_time": "2022-08-24T10:22:33.972Z"
   },
   {
    "duration": 0,
    "start_time": "2022-08-24T10:25:45.430Z"
   },
   {
    "duration": 0,
    "start_time": "2022-08-24T10:25:45.431Z"
   },
   {
    "duration": 0,
    "start_time": "2022-08-24T10:25:45.433Z"
   },
   {
    "duration": 0,
    "start_time": "2022-08-24T10:25:45.433Z"
   },
   {
    "duration": 0,
    "start_time": "2022-08-24T10:25:45.435Z"
   },
   {
    "duration": 0,
    "start_time": "2022-08-24T10:25:45.435Z"
   },
   {
    "duration": 0,
    "start_time": "2022-08-24T10:25:45.436Z"
   },
   {
    "duration": 0,
    "start_time": "2022-08-24T10:25:45.437Z"
   },
   {
    "duration": 0,
    "start_time": "2022-08-24T10:25:45.438Z"
   },
   {
    "duration": 0,
    "start_time": "2022-08-24T10:25:45.439Z"
   },
   {
    "duration": 0,
    "start_time": "2022-08-24T10:25:45.440Z"
   },
   {
    "duration": 0,
    "start_time": "2022-08-24T10:25:45.442Z"
   },
   {
    "duration": 0,
    "start_time": "2022-08-24T10:25:45.442Z"
   },
   {
    "duration": 1,
    "start_time": "2022-08-24T10:25:45.443Z"
   },
   {
    "duration": 0,
    "start_time": "2022-08-24T10:25:45.444Z"
   },
   {
    "duration": 0,
    "start_time": "2022-08-24T10:25:45.445Z"
   },
   {
    "duration": 0,
    "start_time": "2022-08-24T10:25:45.447Z"
   },
   {
    "duration": 0,
    "start_time": "2022-08-24T10:25:45.447Z"
   },
   {
    "duration": 0,
    "start_time": "2022-08-24T10:25:45.448Z"
   },
   {
    "duration": 0,
    "start_time": "2022-08-24T10:25:45.449Z"
   },
   {
    "duration": 0,
    "start_time": "2022-08-24T10:25:45.450Z"
   },
   {
    "duration": 0,
    "start_time": "2022-08-24T10:25:45.451Z"
   },
   {
    "duration": 0,
    "start_time": "2022-08-24T10:25:45.452Z"
   },
   {
    "duration": 0,
    "start_time": "2022-08-24T10:25:45.453Z"
   },
   {
    "duration": 0,
    "start_time": "2022-08-24T10:25:45.455Z"
   },
   {
    "duration": 0,
    "start_time": "2022-08-24T10:25:45.456Z"
   },
   {
    "duration": 0,
    "start_time": "2022-08-24T10:25:45.457Z"
   },
   {
    "duration": 0,
    "start_time": "2022-08-24T10:25:45.458Z"
   },
   {
    "duration": 28,
    "start_time": "2022-08-24T10:25:48.356Z"
   },
   {
    "duration": 205,
    "start_time": "2022-08-24T10:25:51.701Z"
   },
   {
    "duration": 15,
    "start_time": "2022-08-24T10:25:54.009Z"
   },
   {
    "duration": 30,
    "start_time": "2022-08-24T10:26:03.843Z"
   },
   {
    "duration": 34,
    "start_time": "2022-08-24T10:26:11.081Z"
   },
   {
    "duration": 27,
    "start_time": "2022-08-24T10:26:13.989Z"
   },
   {
    "duration": 21,
    "start_time": "2022-08-24T10:26:17.697Z"
   },
   {
    "duration": 20,
    "start_time": "2022-08-24T10:26:28.189Z"
   },
   {
    "duration": 17,
    "start_time": "2022-08-24T10:26:36.253Z"
   },
   {
    "duration": 9,
    "start_time": "2022-08-24T10:26:40.012Z"
   },
   {
    "duration": 720,
    "start_time": "2022-08-24T10:26:54.817Z"
   },
   {
    "duration": 7,
    "start_time": "2022-08-24T10:26:55.649Z"
   },
   {
    "duration": 211,
    "start_time": "2022-08-24T10:26:57.709Z"
   },
   {
    "duration": 14,
    "start_time": "2022-08-24T10:26:58.853Z"
   },
   {
    "duration": 4,
    "start_time": "2022-08-24T10:27:06.004Z"
   },
   {
    "duration": 14,
    "start_time": "2022-08-24T10:27:08.368Z"
   },
   {
    "duration": 27,
    "start_time": "2022-08-24T10:27:19.105Z"
   },
   {
    "duration": 120574,
    "start_time": "2022-08-24T16:13:09.979Z"
   },
   {
    "duration": 345,
    "start_time": "2022-08-24T16:15:10.556Z"
   },
   {
    "duration": 0,
    "start_time": "2022-08-24T16:15:10.904Z"
   },
   {
    "duration": 0,
    "start_time": "2022-08-24T16:15:10.905Z"
   },
   {
    "duration": 0,
    "start_time": "2022-08-24T16:15:10.906Z"
   },
   {
    "duration": 0,
    "start_time": "2022-08-24T16:15:10.907Z"
   },
   {
    "duration": 0,
    "start_time": "2022-08-24T16:15:10.908Z"
   },
   {
    "duration": 0,
    "start_time": "2022-08-24T16:15:10.909Z"
   },
   {
    "duration": 0,
    "start_time": "2022-08-24T16:15:10.910Z"
   },
   {
    "duration": 0,
    "start_time": "2022-08-24T16:15:10.911Z"
   },
   {
    "duration": 0,
    "start_time": "2022-08-24T16:15:10.912Z"
   },
   {
    "duration": 0,
    "start_time": "2022-08-24T16:15:10.914Z"
   },
   {
    "duration": 0,
    "start_time": "2022-08-24T16:15:10.915Z"
   },
   {
    "duration": 0,
    "start_time": "2022-08-24T16:15:10.916Z"
   },
   {
    "duration": 0,
    "start_time": "2022-08-24T16:15:10.917Z"
   },
   {
    "duration": 0,
    "start_time": "2022-08-24T16:15:10.919Z"
   },
   {
    "duration": 0,
    "start_time": "2022-08-24T16:15:10.919Z"
   },
   {
    "duration": 0,
    "start_time": "2022-08-24T16:15:10.921Z"
   },
   {
    "duration": 0,
    "start_time": "2022-08-24T16:15:10.922Z"
   },
   {
    "duration": 0,
    "start_time": "2022-08-24T16:15:10.923Z"
   },
   {
    "duration": 0,
    "start_time": "2022-08-24T16:15:10.924Z"
   },
   {
    "duration": 0,
    "start_time": "2022-08-24T16:15:10.925Z"
   },
   {
    "duration": 0,
    "start_time": "2022-08-24T16:15:10.927Z"
   },
   {
    "duration": 0,
    "start_time": "2022-08-24T16:15:10.928Z"
   },
   {
    "duration": 0,
    "start_time": "2022-08-24T16:15:10.930Z"
   },
   {
    "duration": 0,
    "start_time": "2022-08-24T16:15:10.931Z"
   },
   {
    "duration": 0,
    "start_time": "2022-08-24T16:15:10.932Z"
   },
   {
    "duration": 0,
    "start_time": "2022-08-24T16:15:10.933Z"
   },
   {
    "duration": 1470,
    "start_time": "2022-08-24T16:15:16.658Z"
   },
   {
    "duration": 106056,
    "start_time": "2022-08-24T16:15:36.274Z"
   },
   {
    "duration": 1093,
    "start_time": "2022-08-24T16:17:22.332Z"
   },
   {
    "duration": 12,
    "start_time": "2022-08-24T16:17:23.427Z"
   },
   {
    "duration": 238,
    "start_time": "2022-08-24T16:17:23.441Z"
   },
   {
    "duration": 6,
    "start_time": "2022-08-24T16:17:23.681Z"
   },
   {
    "duration": 293,
    "start_time": "2022-08-24T16:17:23.699Z"
   },
   {
    "duration": 0,
    "start_time": "2022-08-24T16:17:24.001Z"
   },
   {
    "duration": 0,
    "start_time": "2022-08-24T16:17:24.002Z"
   },
   {
    "duration": 0,
    "start_time": "2022-08-24T16:17:24.003Z"
   },
   {
    "duration": 0,
    "start_time": "2022-08-24T16:17:24.004Z"
   },
   {
    "duration": 0,
    "start_time": "2022-08-24T16:17:24.006Z"
   },
   {
    "duration": 0,
    "start_time": "2022-08-24T16:17:24.007Z"
   },
   {
    "duration": 0,
    "start_time": "2022-08-24T16:17:24.009Z"
   },
   {
    "duration": 0,
    "start_time": "2022-08-24T16:17:24.010Z"
   },
   {
    "duration": 0,
    "start_time": "2022-08-24T16:17:24.011Z"
   },
   {
    "duration": 0,
    "start_time": "2022-08-24T16:17:24.012Z"
   },
   {
    "duration": 0,
    "start_time": "2022-08-24T16:17:24.014Z"
   },
   {
    "duration": 0,
    "start_time": "2022-08-24T16:17:24.015Z"
   },
   {
    "duration": 0,
    "start_time": "2022-08-24T16:17:24.016Z"
   },
   {
    "duration": 0,
    "start_time": "2022-08-24T16:17:24.017Z"
   },
   {
    "duration": 0,
    "start_time": "2022-08-24T16:17:24.019Z"
   },
   {
    "duration": 0,
    "start_time": "2022-08-24T16:17:24.020Z"
   },
   {
    "duration": 0,
    "start_time": "2022-08-24T16:17:24.021Z"
   },
   {
    "duration": 0,
    "start_time": "2022-08-24T16:17:24.023Z"
   },
   {
    "duration": 0,
    "start_time": "2022-08-24T16:17:24.024Z"
   },
   {
    "duration": 0,
    "start_time": "2022-08-24T16:17:24.025Z"
   },
   {
    "duration": 0,
    "start_time": "2022-08-24T16:17:24.026Z"
   },
   {
    "duration": 114513,
    "start_time": "2022-08-24T16:18:06.926Z"
   },
   {
    "duration": 1285,
    "start_time": "2022-08-24T16:20:01.441Z"
   },
   {
    "duration": 11,
    "start_time": "2022-08-24T16:20:02.728Z"
   },
   {
    "duration": 251,
    "start_time": "2022-08-24T16:20:02.741Z"
   },
   {
    "duration": 11,
    "start_time": "2022-08-24T16:20:02.994Z"
   },
   {
    "duration": 320,
    "start_time": "2022-08-24T16:20:03.006Z"
   },
   {
    "duration": 3,
    "start_time": "2022-08-24T16:20:03.328Z"
   },
   {
    "duration": 8,
    "start_time": "2022-08-24T16:20:03.333Z"
   },
   {
    "duration": 13,
    "start_time": "2022-08-24T16:20:03.342Z"
   },
   {
    "duration": 1331,
    "start_time": "2022-08-24T16:20:03.358Z"
   },
   {
    "duration": 3,
    "start_time": "2022-08-24T16:20:04.691Z"
   },
   {
    "duration": 20,
    "start_time": "2022-08-24T16:20:04.700Z"
   },
   {
    "duration": 104715,
    "start_time": "2022-08-24T16:34:54.307Z"
   },
   {
    "duration": 1245,
    "start_time": "2022-08-24T16:36:39.024Z"
   },
   {
    "duration": 13,
    "start_time": "2022-08-24T16:36:40.271Z"
   },
   {
    "duration": 260,
    "start_time": "2022-08-24T16:36:40.285Z"
   },
   {
    "duration": 6,
    "start_time": "2022-08-24T16:36:40.548Z"
   },
   {
    "duration": 326,
    "start_time": "2022-08-24T16:36:40.556Z"
   },
   {
    "duration": 3,
    "start_time": "2022-08-24T16:36:40.883Z"
   },
   {
    "duration": 33,
    "start_time": "2022-08-24T16:36:40.887Z"
   },
   {
    "duration": 18,
    "start_time": "2022-08-24T16:36:40.922Z"
   },
   {
    "duration": 1355,
    "start_time": "2022-08-24T16:36:40.942Z"
   },
   {
    "duration": 3,
    "start_time": "2022-08-24T16:36:42.300Z"
   },
   {
    "duration": 11,
    "start_time": "2022-08-24T16:36:42.305Z"
   },
   {
    "duration": 40359,
    "start_time": "2022-08-24T16:36:42.317Z"
   },
   {
    "duration": 4,
    "start_time": "2022-08-24T16:37:22.678Z"
   },
   {
    "duration": 105,
    "start_time": "2022-08-24T16:37:22.684Z"
   },
   {
    "duration": 37,
    "start_time": "2022-08-24T16:37:22.790Z"
   },
   {
    "duration": 4311,
    "start_time": "2022-08-24T16:37:22.829Z"
   },
   {
    "duration": 2152,
    "start_time": "2022-08-24T16:37:27.141Z"
   },
   {
    "duration": 5010,
    "start_time": "2022-08-24T16:37:29.294Z"
   },
   {
    "duration": 28,
    "start_time": "2022-08-24T16:37:34.311Z"
   },
   {
    "duration": 11479,
    "start_time": "2022-08-24T16:43:20.114Z"
   },
   {
    "duration": 0,
    "start_time": "2022-08-24T16:43:31.597Z"
   },
   {
    "duration": 0,
    "start_time": "2022-08-24T16:43:31.599Z"
   },
   {
    "duration": 0,
    "start_time": "2022-08-24T16:43:31.600Z"
   },
   {
    "duration": 0,
    "start_time": "2022-08-24T16:43:31.601Z"
   },
   {
    "duration": 0,
    "start_time": "2022-08-24T16:43:31.603Z"
   },
   {
    "duration": 0,
    "start_time": "2022-08-24T16:43:31.604Z"
   },
   {
    "duration": 0,
    "start_time": "2022-08-24T16:43:31.605Z"
   },
   {
    "duration": 0,
    "start_time": "2022-08-24T16:43:31.606Z"
   },
   {
    "duration": 0,
    "start_time": "2022-08-24T16:43:31.608Z"
   },
   {
    "duration": 0,
    "start_time": "2022-08-24T16:43:31.609Z"
   },
   {
    "duration": 0,
    "start_time": "2022-08-24T16:43:31.610Z"
   },
   {
    "duration": 1,
    "start_time": "2022-08-24T16:43:31.611Z"
   },
   {
    "duration": 0,
    "start_time": "2022-08-24T16:43:31.613Z"
   },
   {
    "duration": 0,
    "start_time": "2022-08-24T16:43:31.614Z"
   },
   {
    "duration": 0,
    "start_time": "2022-08-24T16:43:31.615Z"
   },
   {
    "duration": 0,
    "start_time": "2022-08-24T16:43:31.617Z"
   },
   {
    "duration": 0,
    "start_time": "2022-08-24T16:43:31.619Z"
   },
   {
    "duration": 0,
    "start_time": "2022-08-24T16:43:31.622Z"
   },
   {
    "duration": 0,
    "start_time": "2022-08-24T16:43:31.623Z"
   },
   {
    "duration": 0,
    "start_time": "2022-08-24T16:43:31.624Z"
   },
   {
    "duration": 0,
    "start_time": "2022-08-24T16:43:31.625Z"
   },
   {
    "duration": 0,
    "start_time": "2022-08-24T16:43:31.626Z"
   },
   {
    "duration": 0,
    "start_time": "2022-08-24T16:43:31.628Z"
   },
   {
    "duration": 0,
    "start_time": "2022-08-24T16:43:31.629Z"
   },
   {
    "duration": 96081,
    "start_time": "2022-08-24T16:44:44.665Z"
   },
   {
    "duration": 1145,
    "start_time": "2022-08-24T16:46:20.748Z"
   },
   {
    "duration": 13,
    "start_time": "2022-08-24T16:46:21.894Z"
   },
   {
    "duration": 228,
    "start_time": "2022-08-24T16:46:21.909Z"
   },
   {
    "duration": 7,
    "start_time": "2022-08-24T16:46:22.140Z"
   },
   {
    "duration": 309,
    "start_time": "2022-08-24T16:46:22.148Z"
   },
   {
    "duration": 4,
    "start_time": "2022-08-24T16:46:22.458Z"
   },
   {
    "duration": 8,
    "start_time": "2022-08-24T16:46:22.463Z"
   },
   {
    "duration": 6,
    "start_time": "2022-08-24T16:46:22.473Z"
   },
   {
    "duration": 1106,
    "start_time": "2022-08-24T16:46:22.480Z"
   },
   {
    "duration": 4,
    "start_time": "2022-08-24T16:46:23.587Z"
   },
   {
    "duration": 1276,
    "start_time": "2022-08-24T16:46:23.592Z"
   },
   {
    "duration": 18271,
    "start_time": "2022-08-24T16:46:24.870Z"
   },
   {
    "duration": 5,
    "start_time": "2022-08-24T16:46:43.144Z"
   },
   {
    "duration": 106,
    "start_time": "2022-08-24T16:46:43.151Z"
   },
   {
    "duration": 45,
    "start_time": "2022-08-24T16:46:43.259Z"
   },
   {
    "duration": 4547,
    "start_time": "2022-08-24T16:46:43.306Z"
   },
   {
    "duration": 2180,
    "start_time": "2022-08-24T16:46:47.855Z"
   },
   {
    "duration": 3742,
    "start_time": "2022-08-24T16:46:50.037Z"
   },
   {
    "duration": 31,
    "start_time": "2022-08-24T16:46:53.780Z"
   },
   {
    "duration": 67472,
    "start_time": "2022-08-24T16:48:08.818Z"
   },
   {
    "duration": 1023,
    "start_time": "2022-08-24T16:49:16.292Z"
   },
   {
    "duration": 11,
    "start_time": "2022-08-24T16:49:17.316Z"
   },
   {
    "duration": 242,
    "start_time": "2022-08-24T16:49:17.329Z"
   },
   {
    "duration": 7,
    "start_time": "2022-08-24T16:49:17.574Z"
   },
   {
    "duration": 317,
    "start_time": "2022-08-24T16:49:17.583Z"
   },
   {
    "duration": 4,
    "start_time": "2022-08-24T16:49:17.902Z"
   },
   {
    "duration": 13,
    "start_time": "2022-08-24T16:49:17.908Z"
   },
   {
    "duration": 21,
    "start_time": "2022-08-24T16:49:17.922Z"
   },
   {
    "duration": 1097,
    "start_time": "2022-08-24T16:49:17.945Z"
   },
   {
    "duration": 3,
    "start_time": "2022-08-24T16:49:19.044Z"
   },
   {
    "duration": 1312,
    "start_time": "2022-08-24T16:49:19.049Z"
   },
   {
    "duration": 17907,
    "start_time": "2022-08-24T16:49:20.363Z"
   },
   {
    "duration": 4,
    "start_time": "2022-08-24T16:49:38.273Z"
   },
   {
    "duration": 105,
    "start_time": "2022-08-24T16:49:38.279Z"
   },
   {
    "duration": 41,
    "start_time": "2022-08-24T16:49:38.387Z"
   },
   {
    "duration": 4687,
    "start_time": "2022-08-24T16:49:38.430Z"
   },
   {
    "duration": 2260,
    "start_time": "2022-08-24T16:49:43.119Z"
   },
   {
    "duration": 3757,
    "start_time": "2022-08-24T16:49:45.381Z"
   },
   {
    "duration": 25,
    "start_time": "2022-08-24T16:49:49.139Z"
   },
   {
    "duration": 91710,
    "start_time": "2022-08-24T16:51:15.514Z"
   },
   {
    "duration": 1114,
    "start_time": "2022-08-24T16:52:47.226Z"
   },
   {
    "duration": 13,
    "start_time": "2022-08-24T16:52:48.342Z"
   },
   {
    "duration": 232,
    "start_time": "2022-08-24T16:52:48.356Z"
   },
   {
    "duration": 13,
    "start_time": "2022-08-24T16:52:48.591Z"
   },
   {
    "duration": 306,
    "start_time": "2022-08-24T16:52:48.606Z"
   },
   {
    "duration": 3,
    "start_time": "2022-08-24T16:52:48.914Z"
   },
   {
    "duration": 10,
    "start_time": "2022-08-24T16:52:48.919Z"
   },
   {
    "duration": 5,
    "start_time": "2022-08-24T16:52:48.931Z"
   },
   {
    "duration": 1260,
    "start_time": "2022-08-24T16:52:48.938Z"
   },
   {
    "duration": 3,
    "start_time": "2022-08-24T16:52:50.200Z"
   },
   {
    "duration": 1329,
    "start_time": "2022-08-24T16:52:50.205Z"
   },
   {
    "duration": 18210,
    "start_time": "2022-08-24T16:52:51.536Z"
   },
   {
    "duration": 4,
    "start_time": "2022-08-24T16:53:09.749Z"
   },
   {
    "duration": 129,
    "start_time": "2022-08-24T16:53:09.755Z"
   },
   {
    "duration": 44,
    "start_time": "2022-08-24T16:53:09.886Z"
   },
   {
    "duration": 5067,
    "start_time": "2022-08-24T16:53:09.933Z"
   },
   {
    "duration": 2181,
    "start_time": "2022-08-24T16:53:15.002Z"
   },
   {
    "duration": 3629,
    "start_time": "2022-08-24T16:53:17.184Z"
   },
   {
    "duration": 23,
    "start_time": "2022-08-24T16:53:20.815Z"
   },
   {
    "duration": 84790,
    "start_time": "2022-08-24T16:55:27.512Z"
   },
   {
    "duration": 1028,
    "start_time": "2022-08-24T16:56:52.304Z"
   },
   {
    "duration": 12,
    "start_time": "2022-08-24T16:56:53.334Z"
   },
   {
    "duration": 235,
    "start_time": "2022-08-24T16:56:53.348Z"
   },
   {
    "duration": 17,
    "start_time": "2022-08-24T16:56:53.585Z"
   },
   {
    "duration": 317,
    "start_time": "2022-08-24T16:56:53.604Z"
   },
   {
    "duration": 5,
    "start_time": "2022-08-24T16:56:53.923Z"
   },
   {
    "duration": 11,
    "start_time": "2022-08-24T16:56:53.930Z"
   },
   {
    "duration": 9,
    "start_time": "2022-08-24T16:56:53.942Z"
   },
   {
    "duration": 9,
    "start_time": "2022-08-24T16:56:53.952Z"
   },
   {
    "duration": 1066,
    "start_time": "2022-08-24T16:56:53.963Z"
   },
   {
    "duration": 3,
    "start_time": "2022-08-24T16:56:55.031Z"
   },
   {
    "duration": 1263,
    "start_time": "2022-08-24T16:56:55.035Z"
   },
   {
    "duration": 18056,
    "start_time": "2022-08-24T16:56:56.300Z"
   },
   {
    "duration": 4,
    "start_time": "2022-08-24T16:57:14.358Z"
   },
   {
    "duration": 105,
    "start_time": "2022-08-24T16:57:14.364Z"
   },
   {
    "duration": 48,
    "start_time": "2022-08-24T16:57:14.471Z"
   },
   {
    "duration": 4536,
    "start_time": "2022-08-24T16:57:14.521Z"
   },
   {
    "duration": 2299,
    "start_time": "2022-08-24T16:57:19.059Z"
   },
   {
    "duration": 3741,
    "start_time": "2022-08-24T16:57:21.360Z"
   },
   {
    "duration": 25,
    "start_time": "2022-08-24T16:57:25.103Z"
   },
   {
    "duration": 8,
    "start_time": "2022-08-24T17:08:52.041Z"
   },
   {
    "duration": 74856,
    "start_time": "2022-08-24T17:09:12.634Z"
   },
   {
    "duration": 1129,
    "start_time": "2022-08-24T17:10:27.492Z"
   },
   {
    "duration": 11,
    "start_time": "2022-08-24T17:10:28.622Z"
   },
   {
    "duration": 227,
    "start_time": "2022-08-24T17:10:28.634Z"
   },
   {
    "duration": 7,
    "start_time": "2022-08-24T17:10:28.864Z"
   },
   {
    "duration": 310,
    "start_time": "2022-08-24T17:10:28.873Z"
   },
   {
    "duration": 3,
    "start_time": "2022-08-24T17:10:29.184Z"
   },
   {
    "duration": 11,
    "start_time": "2022-08-24T17:10:29.189Z"
   },
   {
    "duration": 6,
    "start_time": "2022-08-24T17:10:29.201Z"
   },
   {
    "duration": 1593,
    "start_time": "2022-08-24T17:10:29.208Z"
   },
   {
    "duration": 5,
    "start_time": "2022-08-24T17:10:30.803Z"
   },
   {
    "duration": 32,
    "start_time": "2022-08-24T17:10:30.810Z"
   },
   {
    "duration": 931210,
    "start_time": "2022-08-24T17:10:30.844Z"
   },
   {
    "duration": 4,
    "start_time": "2022-08-24T17:26:02.056Z"
   },
   {
    "duration": 98,
    "start_time": "2022-08-24T17:26:02.062Z"
   },
   {
    "duration": 43,
    "start_time": "2022-08-24T17:26:02.162Z"
   },
   {
    "duration": 4306,
    "start_time": "2022-08-24T17:26:02.207Z"
   },
   {
    "duration": 2287,
    "start_time": "2022-08-24T17:26:06.515Z"
   },
   {
    "duration": 3749,
    "start_time": "2022-08-24T17:26:08.804Z"
   },
   {
    "duration": 25,
    "start_time": "2022-08-24T17:26:12.555Z"
   },
   {
    "duration": 47,
    "start_time": "2022-08-24T17:38:12.936Z"
   },
   {
    "duration": 55094,
    "start_time": "2022-08-24T17:38:18.888Z"
   },
   {
    "duration": 1248,
    "start_time": "2022-08-24T17:39:13.984Z"
   },
   {
    "duration": 18,
    "start_time": "2022-08-24T17:39:15.234Z"
   },
   {
    "duration": 274,
    "start_time": "2022-08-24T17:39:15.253Z"
   },
   {
    "duration": 7,
    "start_time": "2022-08-24T17:39:15.530Z"
   },
   {
    "duration": 336,
    "start_time": "2022-08-24T17:39:15.539Z"
   },
   {
    "duration": 3,
    "start_time": "2022-08-24T17:39:15.877Z"
   },
   {
    "duration": 19,
    "start_time": "2022-08-24T17:39:15.882Z"
   },
   {
    "duration": 19,
    "start_time": "2022-08-24T17:39:15.906Z"
   },
   {
    "duration": 1601,
    "start_time": "2022-08-24T17:39:15.927Z"
   },
   {
    "duration": 3,
    "start_time": "2022-08-24T17:39:17.530Z"
   },
   {
    "duration": 7,
    "start_time": "2022-08-24T17:39:17.535Z"
   },
   {
    "duration": 1107378,
    "start_time": "2022-08-24T17:39:17.543Z"
   },
   {
    "duration": 4,
    "start_time": "2022-08-24T17:57:44.926Z"
   },
   {
    "duration": 126,
    "start_time": "2022-08-24T17:57:44.932Z"
   },
   {
    "duration": 42,
    "start_time": "2022-08-24T17:57:45.061Z"
   },
   {
    "duration": 4997,
    "start_time": "2022-08-24T17:57:45.105Z"
   },
   {
    "duration": 2572,
    "start_time": "2022-08-24T17:57:50.107Z"
   },
   {
    "duration": 4050,
    "start_time": "2022-08-24T17:57:52.681Z"
   },
   {
    "duration": 25,
    "start_time": "2022-08-24T17:57:56.733Z"
   },
   {
    "duration": 21135,
    "start_time": "2022-08-24T17:57:56.760Z"
   },
   {
    "duration": 0,
    "start_time": "2022-08-24T17:58:17.897Z"
   },
   {
    "duration": 0,
    "start_time": "2022-08-24T17:58:17.900Z"
   },
   {
    "duration": 0,
    "start_time": "2022-08-24T17:58:17.901Z"
   },
   {
    "duration": 0,
    "start_time": "2022-08-24T17:58:17.902Z"
   },
   {
    "duration": 0,
    "start_time": "2022-08-24T17:58:17.907Z"
   },
   {
    "duration": 4,
    "start_time": "2022-08-24T17:58:22.730Z"
   },
   {
    "duration": 29,
    "start_time": "2022-08-24T17:58:23.494Z"
   },
   {
    "duration": 51,
    "start_time": "2022-08-24T17:59:50.282Z"
   },
   {
    "duration": 236236,
    "start_time": "2022-08-24T17:59:56.065Z"
   },
   {
    "duration": 1308,
    "start_time": "2022-08-24T18:03:52.303Z"
   },
   {
    "duration": 12,
    "start_time": "2022-08-24T18:03:53.618Z"
   },
   {
    "duration": 258,
    "start_time": "2022-08-24T18:03:53.631Z"
   },
   {
    "duration": 16,
    "start_time": "2022-08-24T18:03:53.892Z"
   },
   {
    "duration": 342,
    "start_time": "2022-08-24T18:03:53.911Z"
   },
   {
    "duration": 4,
    "start_time": "2022-08-24T18:03:54.255Z"
   },
   {
    "duration": 11,
    "start_time": "2022-08-24T18:03:54.261Z"
   },
   {
    "duration": 11,
    "start_time": "2022-08-24T18:03:54.274Z"
   },
   {
    "duration": 1428,
    "start_time": "2022-08-24T18:03:54.287Z"
   },
   {
    "duration": 4,
    "start_time": "2022-08-24T18:03:55.718Z"
   },
   {
    "duration": 11,
    "start_time": "2022-08-24T18:03:55.724Z"
   },
   {
    "duration": 1053707,
    "start_time": "2022-08-24T18:03:55.737Z"
   },
   {
    "duration": 4,
    "start_time": "2022-08-24T18:21:29.446Z"
   },
   {
    "duration": 117,
    "start_time": "2022-08-24T18:21:29.453Z"
   },
   {
    "duration": 51,
    "start_time": "2022-08-24T18:21:29.572Z"
   },
   {
    "duration": 4751,
    "start_time": "2022-08-24T18:21:29.625Z"
   },
   {
    "duration": 2382,
    "start_time": "2022-08-24T18:21:34.377Z"
   },
   {
    "duration": 3979,
    "start_time": "2022-08-24T18:21:36.761Z"
   },
   {
    "duration": 28,
    "start_time": "2022-08-24T18:21:40.741Z"
   },
   {
    "duration": 57,
    "start_time": "2022-08-24T18:31:11.973Z"
   },
   {
    "duration": 56131,
    "start_time": "2022-08-24T18:31:49.916Z"
   },
   {
    "duration": 1190,
    "start_time": "2022-08-24T18:32:46.049Z"
   },
   {
    "duration": 14,
    "start_time": "2022-08-24T18:32:47.242Z"
   },
   {
    "duration": 258,
    "start_time": "2022-08-24T18:32:47.257Z"
   },
   {
    "duration": 5,
    "start_time": "2022-08-24T18:32:47.519Z"
   },
   {
    "duration": 320,
    "start_time": "2022-08-24T18:32:47.526Z"
   },
   {
    "duration": 4,
    "start_time": "2022-08-24T18:32:47.848Z"
   },
   {
    "duration": 15,
    "start_time": "2022-08-24T18:32:47.854Z"
   },
   {
    "duration": 10,
    "start_time": "2022-08-24T18:32:47.871Z"
   },
   {
    "duration": 1355,
    "start_time": "2022-08-24T18:32:47.883Z"
   },
   {
    "duration": 3,
    "start_time": "2022-08-24T18:32:49.241Z"
   },
   {
    "duration": 7,
    "start_time": "2022-08-24T18:32:49.245Z"
   },
   {
    "duration": 1056065,
    "start_time": "2022-08-24T18:32:49.253Z"
   },
   {
    "duration": 5,
    "start_time": "2022-08-24T18:50:25.321Z"
   },
   {
    "duration": 110,
    "start_time": "2022-08-24T18:50:25.329Z"
   },
   {
    "duration": 40,
    "start_time": "2022-08-24T18:50:25.441Z"
   },
   {
    "duration": 4681,
    "start_time": "2022-08-24T18:50:25.483Z"
   },
   {
    "duration": 2586,
    "start_time": "2022-08-24T18:50:30.165Z"
   },
   {
    "duration": 3863,
    "start_time": "2022-08-24T18:50:32.753Z"
   },
   {
    "duration": 29,
    "start_time": "2022-08-24T18:50:36.618Z"
   },
   {
    "duration": 46149,
    "start_time": "2022-08-24T19:58:19.271Z"
   },
   {
    "duration": 1289,
    "start_time": "2022-08-24T19:59:05.423Z"
   },
   {
    "duration": 19,
    "start_time": "2022-08-24T19:59:06.714Z"
   },
   {
    "duration": 239,
    "start_time": "2022-08-24T19:59:06.735Z"
   },
   {
    "duration": 7,
    "start_time": "2022-08-24T19:59:06.976Z"
   },
   {
    "duration": 343,
    "start_time": "2022-08-24T19:59:06.984Z"
   },
   {
    "duration": 5,
    "start_time": "2022-08-24T19:59:07.329Z"
   },
   {
    "duration": 9,
    "start_time": "2022-08-24T19:59:07.335Z"
   },
   {
    "duration": 6,
    "start_time": "2022-08-24T19:59:07.345Z"
   },
   {
    "duration": 1421,
    "start_time": "2022-08-24T19:59:07.352Z"
   },
   {
    "duration": 4,
    "start_time": "2022-08-24T19:59:08.775Z"
   },
   {
    "duration": 9,
    "start_time": "2022-08-24T19:59:08.781Z"
   },
   {
    "duration": 627079,
    "start_time": "2022-08-24T19:59:08.799Z"
   },
   {
    "duration": 0,
    "start_time": "2022-08-24T20:09:35.880Z"
   },
   {
    "duration": 0,
    "start_time": "2022-08-24T20:09:35.881Z"
   },
   {
    "duration": 0,
    "start_time": "2022-08-24T20:09:35.882Z"
   },
   {
    "duration": 0,
    "start_time": "2022-08-24T20:09:35.883Z"
   },
   {
    "duration": 0,
    "start_time": "2022-08-24T20:09:35.884Z"
   },
   {
    "duration": 0,
    "start_time": "2022-08-24T20:09:35.885Z"
   },
   {
    "duration": 0,
    "start_time": "2022-08-24T20:09:35.886Z"
   },
   {
    "duration": 0,
    "start_time": "2022-08-24T20:09:35.887Z"
   },
   {
    "duration": 0,
    "start_time": "2022-08-24T20:09:35.888Z"
   },
   {
    "duration": 0,
    "start_time": "2022-08-24T20:09:35.900Z"
   },
   {
    "duration": 0,
    "start_time": "2022-08-24T20:09:35.902Z"
   },
   {
    "duration": 0,
    "start_time": "2022-08-24T20:09:35.903Z"
   },
   {
    "duration": 1505,
    "start_time": "2022-08-24T20:09:43.784Z"
   },
   {
    "duration": 0,
    "start_time": "2022-08-24T20:09:45.292Z"
   },
   {
    "duration": 0,
    "start_time": "2022-08-24T20:09:45.293Z"
   },
   {
    "duration": 0,
    "start_time": "2022-08-24T20:09:45.294Z"
   },
   {
    "duration": 0,
    "start_time": "2022-08-24T20:09:45.295Z"
   },
   {
    "duration": 0,
    "start_time": "2022-08-24T20:09:45.296Z"
   },
   {
    "duration": 0,
    "start_time": "2022-08-24T20:09:45.297Z"
   },
   {
    "duration": 0,
    "start_time": "2022-08-24T20:09:45.298Z"
   },
   {
    "duration": 0,
    "start_time": "2022-08-24T20:09:45.300Z"
   },
   {
    "duration": 0,
    "start_time": "2022-08-24T20:09:45.301Z"
   },
   {
    "duration": 0,
    "start_time": "2022-08-24T20:09:45.303Z"
   },
   {
    "duration": 0,
    "start_time": "2022-08-24T20:09:45.307Z"
   },
   {
    "duration": 0,
    "start_time": "2022-08-24T20:09:45.309Z"
   },
   {
    "duration": 0,
    "start_time": "2022-08-24T20:09:45.310Z"
   },
   {
    "duration": 0,
    "start_time": "2022-08-24T20:09:45.311Z"
   },
   {
    "duration": 0,
    "start_time": "2022-08-24T20:09:45.312Z"
   },
   {
    "duration": 0,
    "start_time": "2022-08-24T20:09:45.314Z"
   },
   {
    "duration": 0,
    "start_time": "2022-08-24T20:09:45.315Z"
   },
   {
    "duration": 0,
    "start_time": "2022-08-24T20:09:45.316Z"
   },
   {
    "duration": 0,
    "start_time": "2022-08-24T20:09:45.318Z"
   },
   {
    "duration": 0,
    "start_time": "2022-08-24T20:09:45.318Z"
   },
   {
    "duration": 0,
    "start_time": "2022-08-24T20:09:45.321Z"
   },
   {
    "duration": 1,
    "start_time": "2022-08-24T20:09:45.321Z"
   },
   {
    "duration": 0,
    "start_time": "2022-08-24T20:09:45.323Z"
   },
   {
    "duration": 0,
    "start_time": "2022-08-24T20:09:45.326Z"
   },
   {
    "duration": 49086,
    "start_time": "2022-08-24T20:10:31.302Z"
   },
   {
    "duration": 1050,
    "start_time": "2022-08-24T20:11:20.390Z"
   },
   {
    "duration": 14,
    "start_time": "2022-08-24T20:11:21.441Z"
   },
   {
    "duration": 253,
    "start_time": "2022-08-24T20:11:21.457Z"
   },
   {
    "duration": 6,
    "start_time": "2022-08-24T20:11:21.712Z"
   },
   {
    "duration": 313,
    "start_time": "2022-08-24T20:11:21.719Z"
   },
   {
    "duration": 4,
    "start_time": "2022-08-24T20:11:22.033Z"
   },
   {
    "duration": 11,
    "start_time": "2022-08-24T20:11:22.039Z"
   },
   {
    "duration": 14,
    "start_time": "2022-08-24T20:11:22.051Z"
   },
   {
    "duration": 1082,
    "start_time": "2022-08-24T20:11:22.067Z"
   },
   {
    "duration": 3,
    "start_time": "2022-08-24T20:11:23.151Z"
   },
   {
    "duration": 19,
    "start_time": "2022-08-24T20:11:23.156Z"
   },
   {
    "duration": 978974,
    "start_time": "2022-08-24T20:11:23.176Z"
   },
   {
    "duration": 4,
    "start_time": "2022-08-24T20:27:42.153Z"
   },
   {
    "duration": 113,
    "start_time": "2022-08-24T20:27:42.158Z"
   },
   {
    "duration": 43,
    "start_time": "2022-08-24T20:27:42.272Z"
   },
   {
    "duration": 4266,
    "start_time": "2022-08-24T20:27:42.317Z"
   },
   {
    "duration": 2290,
    "start_time": "2022-08-24T20:27:46.585Z"
   },
   {
    "duration": 3722,
    "start_time": "2022-08-24T20:27:48.876Z"
   },
   {
    "duration": 26,
    "start_time": "2022-08-24T20:27:52.600Z"
   },
   {
    "duration": 49566,
    "start_time": "2022-08-24T20:38:12.461Z"
   },
   {
    "duration": 1472,
    "start_time": "2022-08-24T20:39:02.029Z"
   },
   {
    "duration": 12,
    "start_time": "2022-08-24T20:39:03.503Z"
   },
   {
    "duration": 234,
    "start_time": "2022-08-24T20:39:03.517Z"
   },
   {
    "duration": 6,
    "start_time": "2022-08-24T20:39:03.753Z"
   },
   {
    "duration": 315,
    "start_time": "2022-08-24T20:39:03.761Z"
   },
   {
    "duration": 4,
    "start_time": "2022-08-24T20:39:04.077Z"
   },
   {
    "duration": 9,
    "start_time": "2022-08-24T20:39:04.082Z"
   },
   {
    "duration": 15,
    "start_time": "2022-08-24T20:39:04.092Z"
   },
   {
    "duration": 1356,
    "start_time": "2022-08-24T20:39:04.109Z"
   },
   {
    "duration": 4,
    "start_time": "2022-08-24T20:39:05.467Z"
   },
   {
    "duration": 13,
    "start_time": "2022-08-24T20:39:05.473Z"
   },
   {
    "duration": 951713,
    "start_time": "2022-08-24T20:39:05.488Z"
   },
   {
    "duration": 4,
    "start_time": "2022-08-24T20:54:57.204Z"
   },
   {
    "duration": 102,
    "start_time": "2022-08-24T20:54:57.209Z"
   },
   {
    "duration": 38,
    "start_time": "2022-08-24T20:54:57.312Z"
   },
   {
    "duration": 4308,
    "start_time": "2022-08-24T20:54:57.351Z"
   },
   {
    "duration": 2159,
    "start_time": "2022-08-24T20:55:01.661Z"
   },
   {
    "duration": 3640,
    "start_time": "2022-08-24T20:55:03.821Z"
   },
   {
    "duration": 28,
    "start_time": "2022-08-24T20:55:07.462Z"
   },
   {
    "duration": 59351,
    "start_time": "2022-08-24T21:00:59.276Z"
   },
   {
    "duration": 1688,
    "start_time": "2022-08-24T21:01:58.629Z"
   },
   {
    "duration": 13,
    "start_time": "2022-08-24T21:02:00.318Z"
   },
   {
    "duration": 267,
    "start_time": "2022-08-24T21:02:00.334Z"
   },
   {
    "duration": 6,
    "start_time": "2022-08-24T21:02:00.603Z"
   },
   {
    "duration": 337,
    "start_time": "2022-08-24T21:02:00.611Z"
   },
   {
    "duration": 3,
    "start_time": "2022-08-24T21:02:00.949Z"
   },
   {
    "duration": 38,
    "start_time": "2022-08-24T21:02:00.954Z"
   },
   {
    "duration": 24,
    "start_time": "2022-08-24T21:02:00.995Z"
   },
   {
    "duration": 1445,
    "start_time": "2022-08-24T21:02:01.022Z"
   },
   {
    "duration": 3,
    "start_time": "2022-08-24T21:02:02.468Z"
   },
   {
    "duration": 7,
    "start_time": "2022-08-24T21:02:02.473Z"
   },
   {
    "duration": 943331,
    "start_time": "2022-08-24T21:02:02.481Z"
   },
   {
    "duration": 3,
    "start_time": "2022-08-24T21:17:45.814Z"
   },
   {
    "duration": 105,
    "start_time": "2022-08-24T21:17:45.819Z"
   },
   {
    "duration": 36,
    "start_time": "2022-08-24T21:17:45.925Z"
   },
   {
    "duration": 4080,
    "start_time": "2022-08-24T21:17:45.963Z"
   },
   {
    "duration": 2149,
    "start_time": "2022-08-24T21:17:50.045Z"
   },
   {
    "duration": 3635,
    "start_time": "2022-08-24T21:17:52.196Z"
   },
   {
    "duration": 26,
    "start_time": "2022-08-24T21:17:55.833Z"
   },
   {
    "duration": 49846,
    "start_time": "2022-08-24T21:39:28.457Z"
   },
   {
    "duration": 1484,
    "start_time": "2022-08-24T21:40:18.305Z"
   },
   {
    "duration": 13,
    "start_time": "2022-08-24T21:40:19.791Z"
   },
   {
    "duration": 222,
    "start_time": "2022-08-24T21:40:19.806Z"
   },
   {
    "duration": 6,
    "start_time": "2022-08-24T21:40:20.031Z"
   },
   {
    "duration": 315,
    "start_time": "2022-08-24T21:40:20.039Z"
   },
   {
    "duration": 4,
    "start_time": "2022-08-24T21:40:20.355Z"
   },
   {
    "duration": 8,
    "start_time": "2022-08-24T21:40:20.360Z"
   },
   {
    "duration": 5,
    "start_time": "2022-08-24T21:40:20.370Z"
   },
   {
    "duration": 1034,
    "start_time": "2022-08-24T21:40:20.376Z"
   },
   {
    "duration": 3,
    "start_time": "2022-08-24T21:40:21.412Z"
   },
   {
    "duration": 7,
    "start_time": "2022-08-24T21:40:21.416Z"
   },
   {
    "duration": 927575,
    "start_time": "2022-08-24T21:40:21.425Z"
   },
   {
    "duration": 4,
    "start_time": "2022-08-24T21:55:49.003Z"
   },
   {
    "duration": 100,
    "start_time": "2022-08-24T21:55:49.009Z"
   },
   {
    "duration": 39,
    "start_time": "2022-08-24T21:55:49.111Z"
   },
   {
    "duration": 4322,
    "start_time": "2022-08-24T21:55:49.152Z"
   },
   {
    "duration": 2139,
    "start_time": "2022-08-24T21:55:53.476Z"
   },
   {
    "duration": 3711,
    "start_time": "2022-08-24T21:55:55.616Z"
   },
   {
    "duration": 28,
    "start_time": "2022-08-24T21:55:59.329Z"
   },
   {
    "duration": 49439,
    "start_time": "2022-08-24T22:01:12.160Z"
   },
   {
    "duration": 1310,
    "start_time": "2022-08-24T22:02:01.601Z"
   },
   {
    "duration": 11,
    "start_time": "2022-08-24T22:02:02.915Z"
   },
   {
    "duration": 240,
    "start_time": "2022-08-24T22:02:02.928Z"
   },
   {
    "duration": 5,
    "start_time": "2022-08-24T22:02:03.171Z"
   },
   {
    "duration": 322,
    "start_time": "2022-08-24T22:02:03.178Z"
   },
   {
    "duration": 4,
    "start_time": "2022-08-24T22:02:03.501Z"
   },
   {
    "duration": 12,
    "start_time": "2022-08-24T22:02:03.506Z"
   },
   {
    "duration": 8,
    "start_time": "2022-08-24T22:02:03.519Z"
   },
   {
    "duration": 1323,
    "start_time": "2022-08-24T22:02:03.529Z"
   },
   {
    "duration": 3,
    "start_time": "2022-08-24T22:02:04.854Z"
   },
   {
    "duration": 11,
    "start_time": "2022-08-24T22:02:04.858Z"
   },
   {
    "duration": 47492,
    "start_time": "2022-08-24T22:46:59.875Z"
   },
   {
    "duration": 1206,
    "start_time": "2022-08-24T22:47:47.368Z"
   },
   {
    "duration": 11,
    "start_time": "2022-08-24T22:47:48.575Z"
   },
   {
    "duration": 223,
    "start_time": "2022-08-24T22:47:48.587Z"
   },
   {
    "duration": 7,
    "start_time": "2022-08-24T22:47:48.812Z"
   },
   {
    "duration": 340,
    "start_time": "2022-08-24T22:47:48.821Z"
   },
   {
    "duration": 3,
    "start_time": "2022-08-24T22:47:49.163Z"
   },
   {
    "duration": 9,
    "start_time": "2022-08-24T22:47:49.167Z"
   },
   {
    "duration": 26,
    "start_time": "2022-08-24T22:47:49.178Z"
   },
   {
    "duration": 1429,
    "start_time": "2022-08-24T22:47:49.206Z"
   },
   {
    "duration": 3,
    "start_time": "2022-08-24T22:47:50.636Z"
   },
   {
    "duration": 11,
    "start_time": "2022-08-24T22:47:50.641Z"
   },
   {
    "duration": 939032,
    "start_time": "2022-08-24T22:47:50.653Z"
   },
   {
    "duration": 4,
    "start_time": "2022-08-24T23:03:29.687Z"
   },
   {
    "duration": 97,
    "start_time": "2022-08-24T23:03:29.692Z"
   },
   {
    "duration": 52,
    "start_time": "2022-08-24T23:03:29.790Z"
   },
   {
    "duration": 4366,
    "start_time": "2022-08-24T23:03:29.844Z"
   },
   {
    "duration": 2069,
    "start_time": "2022-08-24T23:03:34.212Z"
   },
   {
    "duration": 3799,
    "start_time": "2022-08-24T23:03:36.282Z"
   },
   {
    "duration": 33,
    "start_time": "2022-08-24T23:03:40.083Z"
   },
   {
    "duration": 54035,
    "start_time": "2022-08-24T23:11:00.237Z"
   },
   {
    "duration": 1108,
    "start_time": "2022-08-24T23:11:54.274Z"
   },
   {
    "duration": 16,
    "start_time": "2022-08-24T23:11:55.384Z"
   },
   {
    "duration": 243,
    "start_time": "2022-08-24T23:11:55.401Z"
   },
   {
    "duration": 6,
    "start_time": "2022-08-24T23:11:55.646Z"
   },
   {
    "duration": 317,
    "start_time": "2022-08-24T23:11:55.653Z"
   },
   {
    "duration": 4,
    "start_time": "2022-08-24T23:11:55.971Z"
   },
   {
    "duration": 11,
    "start_time": "2022-08-24T23:11:55.976Z"
   },
   {
    "duration": 11,
    "start_time": "2022-08-24T23:11:55.989Z"
   },
   {
    "duration": 1274,
    "start_time": "2022-08-24T23:11:56.001Z"
   },
   {
    "duration": 3,
    "start_time": "2022-08-24T23:11:57.277Z"
   },
   {
    "duration": 8,
    "start_time": "2022-08-24T23:11:57.282Z"
   },
   {
    "duration": 937977,
    "start_time": "2022-08-24T23:11:57.291Z"
   },
   {
    "duration": 4,
    "start_time": "2022-08-24T23:27:35.270Z"
   },
   {
    "duration": 98,
    "start_time": "2022-08-24T23:27:35.276Z"
   },
   {
    "duration": 58,
    "start_time": "2022-08-24T23:27:35.375Z"
   },
   {
    "duration": 4269,
    "start_time": "2022-08-24T23:27:35.434Z"
   },
   {
    "duration": 2257,
    "start_time": "2022-08-24T23:27:39.704Z"
   },
   {
    "duration": 3725,
    "start_time": "2022-08-24T23:27:41.962Z"
   },
   {
    "duration": 27,
    "start_time": "2022-08-24T23:27:45.688Z"
   },
   {
    "duration": 47334,
    "start_time": "2022-08-24T23:50:28.674Z"
   },
   {
    "duration": 1265,
    "start_time": "2022-08-24T23:51:16.011Z"
   },
   {
    "duration": 14,
    "start_time": "2022-08-24T23:51:17.278Z"
   },
   {
    "duration": 239,
    "start_time": "2022-08-24T23:51:17.294Z"
   },
   {
    "duration": 5,
    "start_time": "2022-08-24T23:51:17.535Z"
   },
   {
    "duration": 310,
    "start_time": "2022-08-24T23:51:17.542Z"
   },
   {
    "duration": 3,
    "start_time": "2022-08-24T23:51:17.854Z"
   },
   {
    "duration": 8,
    "start_time": "2022-08-24T23:51:17.859Z"
   },
   {
    "duration": 8,
    "start_time": "2022-08-24T23:51:17.868Z"
   },
   {
    "duration": 956,
    "start_time": "2022-08-24T23:51:17.878Z"
   },
   {
    "duration": 4,
    "start_time": "2022-08-24T23:51:18.835Z"
   },
   {
    "duration": 9,
    "start_time": "2022-08-24T23:51:18.840Z"
   },
   {
    "duration": 928910,
    "start_time": "2022-08-24T23:51:18.850Z"
   },
   {
    "duration": 4,
    "start_time": "2022-08-25T00:06:47.762Z"
   },
   {
    "duration": 114,
    "start_time": "2022-08-25T00:06:47.767Z"
   },
   {
    "duration": 43,
    "start_time": "2022-08-25T00:06:47.883Z"
   },
   {
    "duration": 4118,
    "start_time": "2022-08-25T00:06:47.928Z"
   },
   {
    "duration": 2109,
    "start_time": "2022-08-25T00:06:52.048Z"
   },
   {
    "duration": 3702,
    "start_time": "2022-08-25T00:06:54.159Z"
   },
   {
    "duration": 25,
    "start_time": "2022-08-25T00:06:57.862Z"
   },
   {
    "duration": 57614,
    "start_time": "2022-08-25T00:09:14.311Z"
   },
   {
    "duration": 1739,
    "start_time": "2022-08-25T00:10:11.927Z"
   },
   {
    "duration": 10,
    "start_time": "2022-08-25T00:10:13.668Z"
   },
   {
    "duration": 226,
    "start_time": "2022-08-25T00:10:13.680Z"
   },
   {
    "duration": 6,
    "start_time": "2022-08-25T00:10:13.908Z"
   },
   {
    "duration": 312,
    "start_time": "2022-08-25T00:10:13.915Z"
   },
   {
    "duration": 3,
    "start_time": "2022-08-25T00:10:14.229Z"
   },
   {
    "duration": 7,
    "start_time": "2022-08-25T00:10:14.233Z"
   },
   {
    "duration": 8,
    "start_time": "2022-08-25T00:10:14.242Z"
   },
   {
    "duration": 1330,
    "start_time": "2022-08-25T00:10:14.252Z"
   },
   {
    "duration": 3,
    "start_time": "2022-08-25T00:10:15.584Z"
   },
   {
    "duration": 13,
    "start_time": "2022-08-25T00:10:15.588Z"
   },
   {
    "duration": 11,
    "start_time": "2022-08-25T00:10:15.603Z"
   },
   {
    "duration": 2584,
    "start_time": "2022-08-25T00:10:15.616Z"
   },
   {
    "duration": 14,
    "start_time": "2022-08-25T00:10:18.201Z"
   },
   {
    "duration": 19,
    "start_time": "2022-08-25T00:10:18.216Z"
   },
   {
    "duration": 7,
    "start_time": "2022-08-25T00:10:18.237Z"
   },
   {
    "duration": 14,
    "start_time": "2022-08-25T00:10:18.245Z"
   },
   {
    "duration": 6,
    "start_time": "2022-08-25T00:10:18.260Z"
   },
   {
    "duration": 7,
    "start_time": "2022-08-25T00:10:18.267Z"
   },
   {
    "duration": 4,
    "start_time": "2022-08-25T00:10:18.275Z"
   },
   {
    "duration": 1608,
    "start_time": "2022-08-25T00:10:18.281Z"
   },
   {
    "duration": 12,
    "start_time": "2022-08-25T00:10:19.890Z"
   },
   {
    "duration": 2979,
    "start_time": "2022-08-25T00:10:19.903Z"
   },
   {
    "duration": 142,
    "start_time": "2022-08-25T00:10:22.883Z"
   },
   {
    "duration": 8,
    "start_time": "2022-08-25T00:10:23.026Z"
   },
   {
    "duration": 48697,
    "start_time": "2022-08-25T00:10:47.751Z"
   },
   {
    "duration": 1119,
    "start_time": "2022-08-25T00:11:36.451Z"
   },
   {
    "duration": 11,
    "start_time": "2022-08-25T00:11:37.571Z"
   },
   {
    "duration": 238,
    "start_time": "2022-08-25T00:11:37.584Z"
   },
   {
    "duration": 6,
    "start_time": "2022-08-25T00:11:37.824Z"
   },
   {
    "duration": 302,
    "start_time": "2022-08-25T00:11:37.831Z"
   },
   {
    "duration": 3,
    "start_time": "2022-08-25T00:11:38.136Z"
   },
   {
    "duration": 8,
    "start_time": "2022-08-25T00:11:38.142Z"
   },
   {
    "duration": 9,
    "start_time": "2022-08-25T00:11:38.152Z"
   },
   {
    "duration": 1072,
    "start_time": "2022-08-25T00:11:38.163Z"
   },
   {
    "duration": 3,
    "start_time": "2022-08-25T00:11:39.236Z"
   },
   {
    "duration": 28,
    "start_time": "2022-08-25T00:11:39.240Z"
   },
   {
    "duration": 11,
    "start_time": "2022-08-25T00:11:39.269Z"
   },
   {
    "duration": 13186,
    "start_time": "2022-08-25T00:11:39.282Z"
   },
   {
    "duration": 4,
    "start_time": "2022-08-25T00:11:52.470Z"
   },
   {
    "duration": 21,
    "start_time": "2022-08-25T00:11:52.475Z"
   },
   {
    "duration": 31,
    "start_time": "2022-08-25T00:11:52.497Z"
   },
   {
    "duration": 110,
    "start_time": "2022-08-25T00:11:52.530Z"
   },
   {
    "duration": 29,
    "start_time": "2022-08-25T00:11:52.642Z"
   },
   {
    "duration": 56,
    "start_time": "2022-08-25T00:11:52.672Z"
   },
   {
    "duration": 6,
    "start_time": "2022-08-25T00:11:52.729Z"
   },
   {
    "duration": 7733,
    "start_time": "2022-08-25T00:11:52.738Z"
   },
   {
    "duration": 6,
    "start_time": "2022-08-25T00:12:00.473Z"
   },
   {
    "duration": 29410,
    "start_time": "2022-08-25T00:12:00.480Z"
   },
   {
    "duration": 168,
    "start_time": "2022-08-25T00:12:29.892Z"
   },
   {
    "duration": 6,
    "start_time": "2022-08-25T00:12:30.062Z"
   },
   {
    "duration": 46618,
    "start_time": "2022-08-25T00:12:42.367Z"
   },
   {
    "duration": 1103,
    "start_time": "2022-08-25T00:13:28.987Z"
   },
   {
    "duration": 19,
    "start_time": "2022-08-25T00:13:30.091Z"
   },
   {
    "duration": 236,
    "start_time": "2022-08-25T00:13:30.112Z"
   },
   {
    "duration": 6,
    "start_time": "2022-08-25T00:13:30.350Z"
   },
   {
    "duration": 335,
    "start_time": "2022-08-25T00:13:30.357Z"
   },
   {
    "duration": 4,
    "start_time": "2022-08-25T00:13:30.699Z"
   },
   {
    "duration": 22,
    "start_time": "2022-08-25T00:13:30.704Z"
   },
   {
    "duration": 30,
    "start_time": "2022-08-25T00:13:30.729Z"
   },
   {
    "duration": 1080,
    "start_time": "2022-08-25T00:13:30.762Z"
   },
   {
    "duration": 3,
    "start_time": "2022-08-25T00:13:31.844Z"
   },
   {
    "duration": 22,
    "start_time": "2022-08-25T00:13:31.848Z"
   },
   {
    "duration": 8,
    "start_time": "2022-08-25T00:13:31.871Z"
   },
   {
    "duration": 13156,
    "start_time": "2022-08-25T00:13:31.880Z"
   },
   {
    "duration": 3,
    "start_time": "2022-08-25T00:13:45.039Z"
   },
   {
    "duration": 38,
    "start_time": "2022-08-25T00:13:45.044Z"
   },
   {
    "duration": 13,
    "start_time": "2022-08-25T00:13:45.083Z"
   },
   {
    "duration": 65,
    "start_time": "2022-08-25T00:13:45.098Z"
   },
   {
    "duration": 36,
    "start_time": "2022-08-25T00:13:45.164Z"
   },
   {
    "duration": 46,
    "start_time": "2022-08-25T00:13:45.202Z"
   },
   {
    "duration": 5,
    "start_time": "2022-08-25T00:13:45.249Z"
   },
   {
    "duration": 12595,
    "start_time": "2022-08-25T00:13:45.256Z"
   },
   {
    "duration": 6,
    "start_time": "2022-08-25T00:13:57.853Z"
   },
   {
    "duration": 30302,
    "start_time": "2022-08-25T00:13:57.861Z"
   },
   {
    "duration": 160,
    "start_time": "2022-08-25T00:14:28.165Z"
   },
   {
    "duration": 9,
    "start_time": "2022-08-25T00:14:28.327Z"
   },
   {
    "duration": 49704,
    "start_time": "2022-08-25T00:14:33.927Z"
   },
   {
    "duration": 1084,
    "start_time": "2022-08-25T00:15:23.633Z"
   },
   {
    "duration": 11,
    "start_time": "2022-08-25T00:15:24.719Z"
   },
   {
    "duration": 262,
    "start_time": "2022-08-25T00:15:24.732Z"
   },
   {
    "duration": 7,
    "start_time": "2022-08-25T00:15:24.996Z"
   },
   {
    "duration": 322,
    "start_time": "2022-08-25T00:15:25.005Z"
   },
   {
    "duration": 3,
    "start_time": "2022-08-25T00:15:25.329Z"
   },
   {
    "duration": 22,
    "start_time": "2022-08-25T00:15:25.334Z"
   },
   {
    "duration": 17,
    "start_time": "2022-08-25T00:15:25.357Z"
   },
   {
    "duration": 1079,
    "start_time": "2022-08-25T00:15:25.376Z"
   },
   {
    "duration": 3,
    "start_time": "2022-08-25T00:15:26.456Z"
   },
   {
    "duration": 8,
    "start_time": "2022-08-25T00:15:26.461Z"
   },
   {
    "duration": 5,
    "start_time": "2022-08-25T00:15:26.470Z"
   },
   {
    "duration": 123254,
    "start_time": "2022-08-25T00:15:26.477Z"
   },
   {
    "duration": 4,
    "start_time": "2022-08-25T00:17:29.733Z"
   },
   {
    "duration": 22,
    "start_time": "2022-08-25T00:17:29.738Z"
   },
   {
    "duration": 7,
    "start_time": "2022-08-25T00:17:29.762Z"
   },
   {
    "duration": 629,
    "start_time": "2022-08-25T00:17:29.771Z"
   },
   {
    "duration": 282,
    "start_time": "2022-08-25T00:17:30.402Z"
   },
   {
    "duration": 510,
    "start_time": "2022-08-25T00:17:30.686Z"
   },
   {
    "duration": 8,
    "start_time": "2022-08-25T00:17:31.198Z"
   },
   {
    "duration": 222644,
    "start_time": "2022-08-25T00:17:31.207Z"
   },
   {
    "duration": 7,
    "start_time": "2022-08-25T00:21:13.853Z"
   },
   {
    "duration": 46701,
    "start_time": "2022-08-25T00:22:05.976Z"
   },
   {
    "duration": 1399,
    "start_time": "2022-08-25T00:22:52.680Z"
   },
   {
    "duration": 19,
    "start_time": "2022-08-25T00:22:54.081Z"
   },
   {
    "duration": 247,
    "start_time": "2022-08-25T00:22:54.102Z"
   },
   {
    "duration": 5,
    "start_time": "2022-08-25T00:22:54.351Z"
   },
   {
    "duration": 322,
    "start_time": "2022-08-25T00:22:54.358Z"
   },
   {
    "duration": 3,
    "start_time": "2022-08-25T00:22:54.682Z"
   },
   {
    "duration": 16,
    "start_time": "2022-08-25T00:22:54.686Z"
   },
   {
    "duration": 5,
    "start_time": "2022-08-25T00:22:54.704Z"
   },
   {
    "duration": 1598,
    "start_time": "2022-08-25T00:22:54.710Z"
   },
   {
    "duration": 3,
    "start_time": "2022-08-25T00:22:56.311Z"
   },
   {
    "duration": 84,
    "start_time": "2022-08-25T00:22:56.316Z"
   },
   {
    "duration": 13,
    "start_time": "2022-08-25T00:22:56.402Z"
   },
   {
    "duration": 600500,
    "start_time": "2022-08-25T00:22:56.418Z"
   },
   {
    "duration": 4,
    "start_time": "2022-08-25T00:32:56.919Z"
   },
   {
    "duration": 66,
    "start_time": "2022-08-25T00:32:56.924Z"
   },
   {
    "duration": 32,
    "start_time": "2022-08-25T00:32:56.991Z"
   },
   {
    "duration": 2627,
    "start_time": "2022-08-25T00:32:57.024Z"
   },
   {
    "duration": 1380,
    "start_time": "2022-08-25T00:32:59.653Z"
   },
   {
    "duration": 2458,
    "start_time": "2022-08-25T00:33:01.035Z"
   },
   {
    "duration": 18,
    "start_time": "2022-08-25T00:33:03.494Z"
   },
   {
    "duration": 53065,
    "start_time": "2022-08-25T00:44:41.166Z"
   },
   {
    "duration": 1331,
    "start_time": "2022-08-25T00:45:34.233Z"
   },
   {
    "duration": 12,
    "start_time": "2022-08-25T00:45:35.565Z"
   },
   {
    "duration": 240,
    "start_time": "2022-08-25T00:45:35.579Z"
   },
   {
    "duration": 5,
    "start_time": "2022-08-25T00:45:35.821Z"
   },
   {
    "duration": 302,
    "start_time": "2022-08-25T00:45:35.828Z"
   },
   {
    "duration": 3,
    "start_time": "2022-08-25T00:45:36.131Z"
   },
   {
    "duration": 7,
    "start_time": "2022-08-25T00:45:36.135Z"
   },
   {
    "duration": 11,
    "start_time": "2022-08-25T00:45:36.144Z"
   },
   {
    "duration": 1037,
    "start_time": "2022-08-25T00:45:36.157Z"
   },
   {
    "duration": 5,
    "start_time": "2022-08-25T00:45:37.196Z"
   },
   {
    "duration": 8,
    "start_time": "2022-08-25T00:45:37.202Z"
   },
   {
    "duration": 943821,
    "start_time": "2022-08-25T00:45:37.212Z"
   },
   {
    "duration": 5,
    "start_time": "2022-08-25T01:01:21.034Z"
   },
   {
    "duration": 114,
    "start_time": "2022-08-25T01:01:21.040Z"
   },
   {
    "duration": 37,
    "start_time": "2022-08-25T01:01:21.155Z"
   },
   {
    "duration": 4581,
    "start_time": "2022-08-25T01:01:21.200Z"
   },
   {
    "duration": 2138,
    "start_time": "2022-08-25T01:01:25.783Z"
   },
   {
    "duration": 3900,
    "start_time": "2022-08-25T01:01:27.922Z"
   },
   {
    "duration": 27,
    "start_time": "2022-08-25T01:01:31.824Z"
   },
   {
    "duration": 45,
    "start_time": "2022-08-25T01:04:59.696Z"
   },
   {
    "duration": 51303,
    "start_time": "2022-08-25T01:05:08.190Z"
   },
   {
    "duration": 0,
    "start_time": "2022-08-25T01:05:59.495Z"
   },
   {
    "duration": 0,
    "start_time": "2022-08-25T01:05:59.496Z"
   },
   {
    "duration": 0,
    "start_time": "2022-08-25T01:05:59.497Z"
   },
   {
    "duration": 0,
    "start_time": "2022-08-25T01:05:59.498Z"
   },
   {
    "duration": 0,
    "start_time": "2022-08-25T01:05:59.499Z"
   },
   {
    "duration": 0,
    "start_time": "2022-08-25T01:05:59.500Z"
   },
   {
    "duration": 0,
    "start_time": "2022-08-25T01:05:59.501Z"
   },
   {
    "duration": 0,
    "start_time": "2022-08-25T01:05:59.502Z"
   },
   {
    "duration": 0,
    "start_time": "2022-08-25T01:05:59.503Z"
   },
   {
    "duration": 0,
    "start_time": "2022-08-25T01:05:59.504Z"
   },
   {
    "duration": 0,
    "start_time": "2022-08-25T01:05:59.505Z"
   },
   {
    "duration": 0,
    "start_time": "2022-08-25T01:05:59.505Z"
   },
   {
    "duration": 0,
    "start_time": "2022-08-25T01:05:59.506Z"
   },
   {
    "duration": 0,
    "start_time": "2022-08-25T01:05:59.507Z"
   },
   {
    "duration": 0,
    "start_time": "2022-08-25T01:05:59.508Z"
   },
   {
    "duration": 0,
    "start_time": "2022-08-25T01:05:59.509Z"
   },
   {
    "duration": 0,
    "start_time": "2022-08-25T01:05:59.510Z"
   },
   {
    "duration": 0,
    "start_time": "2022-08-25T01:05:59.511Z"
   },
   {
    "duration": 0,
    "start_time": "2022-08-25T01:05:59.512Z"
   },
   {
    "duration": 0,
    "start_time": "2022-08-25T01:05:59.513Z"
   },
   {
    "duration": 0,
    "start_time": "2022-08-25T01:05:59.514Z"
   },
   {
    "duration": 0,
    "start_time": "2022-08-25T01:05:59.515Z"
   },
   {
    "duration": 0,
    "start_time": "2022-08-25T01:05:59.516Z"
   },
   {
    "duration": 0,
    "start_time": "2022-08-25T01:05:59.517Z"
   },
   {
    "duration": 50445,
    "start_time": "2022-08-25T01:06:28.376Z"
   },
   {
    "duration": 1344,
    "start_time": "2022-08-25T01:07:18.823Z"
   },
   {
    "duration": 13,
    "start_time": "2022-08-25T01:07:20.170Z"
   },
   {
    "duration": 249,
    "start_time": "2022-08-25T01:07:20.185Z"
   },
   {
    "duration": 6,
    "start_time": "2022-08-25T01:07:20.435Z"
   },
   {
    "duration": 320,
    "start_time": "2022-08-25T01:07:20.442Z"
   },
   {
    "duration": 4,
    "start_time": "2022-08-25T01:07:20.764Z"
   },
   {
    "duration": 12,
    "start_time": "2022-08-25T01:07:20.770Z"
   },
   {
    "duration": 10,
    "start_time": "2022-08-25T01:07:20.784Z"
   },
   {
    "duration": 1230,
    "start_time": "2022-08-25T01:07:20.802Z"
   },
   {
    "duration": 3,
    "start_time": "2022-08-25T01:07:22.034Z"
   },
   {
    "duration": 6,
    "start_time": "2022-08-25T01:07:22.038Z"
   },
   {
    "duration": 9,
    "start_time": "2022-08-25T01:07:22.046Z"
   },
   {
    "duration": 751299,
    "start_time": "2022-08-25T01:07:22.056Z"
   },
   {
    "duration": 4,
    "start_time": "2022-08-25T01:19:53.356Z"
   },
   {
    "duration": 77,
    "start_time": "2022-08-25T01:19:53.362Z"
   },
   {
    "duration": 29,
    "start_time": "2022-08-25T01:19:53.440Z"
   },
   {
    "duration": 3389,
    "start_time": "2022-08-25T01:19:53.471Z"
   },
   {
    "duration": 1701,
    "start_time": "2022-08-25T01:19:56.862Z"
   },
   {
    "duration": 2950,
    "start_time": "2022-08-25T01:19:58.564Z"
   },
   {
    "duration": 27,
    "start_time": "2022-08-25T01:20:01.517Z"
   },
   {
    "duration": 1758794,
    "start_time": "2022-08-25T01:20:01.546Z"
   },
   {
    "duration": 11,
    "start_time": "2022-08-25T01:49:20.342Z"
   },
   {
    "duration": 240725,
    "start_time": "2022-08-25T01:49:20.355Z"
   },
   {
    "duration": 0,
    "start_time": "2022-08-25T01:53:21.081Z"
   },
   {
    "duration": 1,
    "start_time": "2022-08-25T01:53:21.082Z"
   },
   {
    "duration": 48641,
    "start_time": "2022-08-25T01:53:38.419Z"
   },
   {
    "duration": 1368,
    "start_time": "2022-08-25T01:54:27.062Z"
   },
   {
    "duration": 11,
    "start_time": "2022-08-25T01:54:28.431Z"
   },
   {
    "duration": 231,
    "start_time": "2022-08-25T01:54:28.444Z"
   },
   {
    "duration": 6,
    "start_time": "2022-08-25T01:54:28.677Z"
   },
   {
    "duration": 310,
    "start_time": "2022-08-25T01:54:28.684Z"
   },
   {
    "duration": 9,
    "start_time": "2022-08-25T01:54:28.996Z"
   },
   {
    "duration": 15,
    "start_time": "2022-08-25T01:54:29.007Z"
   },
   {
    "duration": 7,
    "start_time": "2022-08-25T01:54:29.024Z"
   },
   {
    "duration": 1127,
    "start_time": "2022-08-25T01:54:29.032Z"
   },
   {
    "duration": 2,
    "start_time": "2022-08-25T01:54:30.161Z"
   },
   {
    "duration": 12,
    "start_time": "2022-08-25T01:54:30.165Z"
   },
   {
    "duration": 15,
    "start_time": "2022-08-25T01:54:30.178Z"
   },
   {
    "duration": 50263,
    "start_time": "2022-08-25T01:54:56.956Z"
   },
   {
    "duration": 1148,
    "start_time": "2022-08-25T01:55:47.220Z"
   },
   {
    "duration": 12,
    "start_time": "2022-08-25T01:55:48.369Z"
   },
   {
    "duration": 245,
    "start_time": "2022-08-25T01:55:48.383Z"
   },
   {
    "duration": 5,
    "start_time": "2022-08-25T01:55:48.630Z"
   },
   {
    "duration": 313,
    "start_time": "2022-08-25T01:55:48.637Z"
   },
   {
    "duration": 4,
    "start_time": "2022-08-25T01:55:48.952Z"
   },
   {
    "duration": 5,
    "start_time": "2022-08-25T01:55:48.958Z"
   },
   {
    "duration": 8,
    "start_time": "2022-08-25T01:55:48.964Z"
   },
   {
    "duration": 1112,
    "start_time": "2022-08-25T01:55:48.974Z"
   },
   {
    "duration": 7,
    "start_time": "2022-08-25T01:55:50.087Z"
   },
   {
    "duration": 23,
    "start_time": "2022-08-25T01:55:50.096Z"
   },
   {
    "duration": 996093,
    "start_time": "2022-08-25T01:55:50.121Z"
   },
   {
    "duration": 4,
    "start_time": "2022-08-25T02:12:26.216Z"
   },
   {
    "duration": 89,
    "start_time": "2022-08-25T02:12:26.222Z"
   },
   {
    "duration": 34,
    "start_time": "2022-08-25T02:12:26.313Z"
   },
   {
    "duration": 4342,
    "start_time": "2022-08-25T02:12:26.349Z"
   },
   {
    "duration": 2288,
    "start_time": "2022-08-25T02:12:30.692Z"
   },
   {
    "duration": 3816,
    "start_time": "2022-08-25T02:12:32.981Z"
   },
   {
    "duration": 28,
    "start_time": "2022-08-25T02:12:36.799Z"
   },
   {
    "duration": 51327,
    "start_time": "2022-08-25T02:15:28.212Z"
   },
   {
    "duration": 1519,
    "start_time": "2022-08-25T02:16:19.541Z"
   },
   {
    "duration": 12,
    "start_time": "2022-08-25T02:16:21.062Z"
   },
   {
    "duration": 254,
    "start_time": "2022-08-25T02:16:21.075Z"
   },
   {
    "duration": 6,
    "start_time": "2022-08-25T02:16:21.331Z"
   },
   {
    "duration": 389,
    "start_time": "2022-08-25T02:16:21.339Z"
   },
   {
    "duration": 4,
    "start_time": "2022-08-25T02:16:21.729Z"
   },
   {
    "duration": 7,
    "start_time": "2022-08-25T02:16:21.735Z"
   },
   {
    "duration": 7,
    "start_time": "2022-08-25T02:16:21.743Z"
   },
   {
    "duration": 1204,
    "start_time": "2022-08-25T02:16:21.751Z"
   },
   {
    "duration": 3,
    "start_time": "2022-08-25T02:16:22.957Z"
   },
   {
    "duration": 23,
    "start_time": "2022-08-25T02:16:22.962Z"
   },
   {
    "duration": 24,
    "start_time": "2022-08-25T02:16:22.987Z"
   },
   {
    "duration": 309208,
    "start_time": "2022-08-25T02:16:23.015Z"
   },
   {
    "duration": 4,
    "start_time": "2022-08-25T02:21:32.224Z"
   },
   {
    "duration": 33,
    "start_time": "2022-08-25T02:21:32.229Z"
   },
   {
    "duration": 13,
    "start_time": "2022-08-25T02:21:32.264Z"
   },
   {
    "duration": 1399,
    "start_time": "2022-08-25T02:21:32.279Z"
   },
   {
    "duration": 709,
    "start_time": "2022-08-25T02:21:33.680Z"
   },
   {
    "duration": 1243,
    "start_time": "2022-08-25T02:21:34.391Z"
   },
   {
    "duration": 14,
    "start_time": "2022-08-25T02:21:35.636Z"
   },
   {
    "duration": 52241,
    "start_time": "2022-08-25T02:30:05.435Z"
   },
   {
    "duration": 1185,
    "start_time": "2022-08-25T02:30:57.678Z"
   },
   {
    "duration": 10,
    "start_time": "2022-08-25T02:30:58.865Z"
   },
   {
    "duration": 238,
    "start_time": "2022-08-25T02:30:58.877Z"
   },
   {
    "duration": 6,
    "start_time": "2022-08-25T02:30:59.117Z"
   },
   {
    "duration": 316,
    "start_time": "2022-08-25T02:30:59.124Z"
   },
   {
    "duration": 3,
    "start_time": "2022-08-25T02:30:59.442Z"
   },
   {
    "duration": 7,
    "start_time": "2022-08-25T02:30:59.447Z"
   },
   {
    "duration": 7,
    "start_time": "2022-08-25T02:30:59.456Z"
   },
   {
    "duration": 1948,
    "start_time": "2022-08-25T02:30:59.465Z"
   },
   {
    "duration": 6,
    "start_time": "2022-08-25T02:31:01.415Z"
   },
   {
    "duration": 23,
    "start_time": "2022-08-25T02:31:01.422Z"
   },
   {
    "duration": 24,
    "start_time": "2022-08-25T02:31:01.448Z"
   },
   {
    "duration": 17040,
    "start_time": "2022-08-25T02:31:01.475Z"
   },
   {
    "duration": 0,
    "start_time": "2022-08-25T02:31:18.517Z"
   },
   {
    "duration": 0,
    "start_time": "2022-08-25T02:31:18.518Z"
   },
   {
    "duration": 0,
    "start_time": "2022-08-25T02:31:18.519Z"
   },
   {
    "duration": 0,
    "start_time": "2022-08-25T02:31:18.520Z"
   },
   {
    "duration": 0,
    "start_time": "2022-08-25T02:31:18.522Z"
   },
   {
    "duration": 0,
    "start_time": "2022-08-25T02:31:18.523Z"
   },
   {
    "duration": 0,
    "start_time": "2022-08-25T02:31:18.524Z"
   },
   {
    "duration": 0,
    "start_time": "2022-08-25T02:31:18.525Z"
   },
   {
    "duration": 0,
    "start_time": "2022-08-25T02:31:18.526Z"
   },
   {
    "duration": 0,
    "start_time": "2022-08-25T02:31:18.527Z"
   },
   {
    "duration": 0,
    "start_time": "2022-08-25T02:31:18.528Z"
   },
   {
    "duration": 0,
    "start_time": "2022-08-25T02:31:18.529Z"
   },
   {
    "duration": 50332,
    "start_time": "2022-08-25T02:31:25.025Z"
   },
   {
    "duration": 1104,
    "start_time": "2022-08-25T02:32:15.360Z"
   },
   {
    "duration": 11,
    "start_time": "2022-08-25T02:32:16.465Z"
   },
   {
    "duration": 246,
    "start_time": "2022-08-25T02:32:16.477Z"
   },
   {
    "duration": 5,
    "start_time": "2022-08-25T02:32:16.725Z"
   },
   {
    "duration": 325,
    "start_time": "2022-08-25T02:32:16.732Z"
   },
   {
    "duration": 3,
    "start_time": "2022-08-25T02:32:17.059Z"
   },
   {
    "duration": 12,
    "start_time": "2022-08-25T02:32:17.064Z"
   },
   {
    "duration": 7,
    "start_time": "2022-08-25T02:32:17.077Z"
   },
   {
    "duration": 1150,
    "start_time": "2022-08-25T02:32:17.086Z"
   },
   {
    "duration": 3,
    "start_time": "2022-08-25T02:32:18.238Z"
   },
   {
    "duration": 9,
    "start_time": "2022-08-25T02:32:18.242Z"
   },
   {
    "duration": 6,
    "start_time": "2022-08-25T02:32:18.253Z"
   },
   {
    "duration": 313288,
    "start_time": "2022-08-25T02:32:18.261Z"
   },
   {
    "duration": 5,
    "start_time": "2022-08-25T02:37:31.551Z"
   },
   {
    "duration": 62,
    "start_time": "2022-08-25T02:37:31.557Z"
   },
   {
    "duration": 21,
    "start_time": "2022-08-25T02:37:31.621Z"
   },
   {
    "duration": 1476,
    "start_time": "2022-08-25T02:37:31.643Z"
   },
   {
    "duration": 745,
    "start_time": "2022-08-25T02:37:33.121Z"
   },
   {
    "duration": 1219,
    "start_time": "2022-08-25T02:37:33.867Z"
   },
   {
    "duration": 24,
    "start_time": "2022-08-25T02:37:35.088Z"
   },
   {
    "duration": 427593,
    "start_time": "2022-08-25T02:37:35.115Z"
   },
   {
    "duration": 0,
    "start_time": "2022-08-25T02:44:42.710Z"
   },
   {
    "duration": 0,
    "start_time": "2022-08-25T02:44:42.711Z"
   },
   {
    "duration": 0,
    "start_time": "2022-08-25T02:44:42.712Z"
   },
   {
    "duration": 0,
    "start_time": "2022-08-25T02:44:42.713Z"
   },
   {
    "duration": 8,
    "start_time": "2022-08-25T02:44:47.860Z"
   },
   {
    "duration": 6,
    "start_time": "2022-08-25T02:45:08.032Z"
   },
   {
    "duration": 4,
    "start_time": "2022-08-25T02:45:09.328Z"
   },
   {
    "duration": 0,
    "start_time": "2022-08-25T02:54:45.660Z"
   },
   {
    "duration": 0,
    "start_time": "2022-08-25T02:54:45.663Z"
   },
   {
    "duration": 0,
    "start_time": "2022-08-25T02:54:45.664Z"
   },
   {
    "duration": 0,
    "start_time": "2022-08-25T02:54:45.665Z"
   },
   {
    "duration": 3,
    "start_time": "2022-08-25T02:54:58.570Z"
   },
   {
    "duration": 4,
    "start_time": "2022-08-25T02:54:59.686Z"
   },
   {
    "duration": 794500,
    "start_time": "2022-08-25T02:55:13.966Z"
   },
   {
    "duration": 9,
    "start_time": "2022-08-25T03:08:45.206Z"
   },
   {
    "duration": 4,
    "start_time": "2022-08-25T03:08:46.312Z"
   },
   {
    "duration": 580471,
    "start_time": "2022-08-25T03:08:52.969Z"
   },
   {
    "duration": 4,
    "start_time": "2022-08-25T03:18:39.567Z"
   },
   {
    "duration": 4,
    "start_time": "2022-08-25T03:18:40.692Z"
   },
   {
    "duration": 194777,
    "start_time": "2022-08-25T03:18:48.943Z"
   },
   {
    "duration": 6,
    "start_time": "2022-08-25T03:22:15.811Z"
   },
   {
    "duration": 3,
    "start_time": "2022-08-25T03:22:17.419Z"
   },
   {
    "duration": 52101,
    "start_time": "2022-08-25T03:23:00.928Z"
   },
   {
    "duration": 1529,
    "start_time": "2022-08-25T03:23:53.030Z"
   },
   {
    "duration": 12,
    "start_time": "2022-08-25T03:23:54.560Z"
   },
   {
    "duration": 249,
    "start_time": "2022-08-25T03:23:54.574Z"
   },
   {
    "duration": 6,
    "start_time": "2022-08-25T03:23:54.826Z"
   },
   {
    "duration": 319,
    "start_time": "2022-08-25T03:23:54.834Z"
   },
   {
    "duration": 4,
    "start_time": "2022-08-25T03:23:55.154Z"
   },
   {
    "duration": 9,
    "start_time": "2022-08-25T03:23:55.159Z"
   },
   {
    "duration": 8,
    "start_time": "2022-08-25T03:23:55.169Z"
   },
   {
    "duration": 1542,
    "start_time": "2022-08-25T03:23:55.179Z"
   },
   {
    "duration": 3,
    "start_time": "2022-08-25T03:23:56.722Z"
   },
   {
    "duration": 7,
    "start_time": "2022-08-25T03:23:56.727Z"
   },
   {
    "duration": 5,
    "start_time": "2022-08-25T03:23:56.736Z"
   },
   {
    "duration": 313468,
    "start_time": "2022-08-25T03:23:56.743Z"
   },
   {
    "duration": 7,
    "start_time": "2022-08-25T03:29:10.213Z"
   },
   {
    "duration": 32,
    "start_time": "2022-08-25T03:29:10.221Z"
   },
   {
    "duration": 14,
    "start_time": "2022-08-25T03:29:10.255Z"
   },
   {
    "duration": 1586,
    "start_time": "2022-08-25T03:29:10.271Z"
   },
   {
    "duration": 760,
    "start_time": "2022-08-25T03:29:11.859Z"
   },
   {
    "duration": 1251,
    "start_time": "2022-08-25T03:29:12.621Z"
   },
   {
    "duration": 13,
    "start_time": "2022-08-25T03:29:13.874Z"
   },
   {
    "duration": 169835,
    "start_time": "2022-08-25T03:29:13.889Z"
   },
   {
    "duration": 0,
    "start_time": "2022-08-25T03:32:03.726Z"
   },
   {
    "duration": 0,
    "start_time": "2022-08-25T03:32:03.727Z"
   },
   {
    "duration": 0,
    "start_time": "2022-08-25T03:32:03.728Z"
   },
   {
    "duration": 0,
    "start_time": "2022-08-25T03:32:03.729Z"
   },
   {
    "duration": 4,
    "start_time": "2022-08-25T03:32:12.957Z"
   },
   {
    "duration": 11,
    "start_time": "2022-08-25T03:32:14.398Z"
   },
   {
    "duration": 627569,
    "start_time": "2022-08-25T03:32:18.560Z"
   },
   {
    "duration": 9,
    "start_time": "2022-08-25T03:42:46.131Z"
   },
   {
    "duration": 51532,
    "start_time": "2022-08-25T03:47:24.518Z"
   },
   {
    "duration": 1805,
    "start_time": "2022-08-25T03:48:16.052Z"
   },
   {
    "duration": 12,
    "start_time": "2022-08-25T03:48:17.859Z"
   },
   {
    "duration": 245,
    "start_time": "2022-08-25T03:48:17.873Z"
   },
   {
    "duration": 5,
    "start_time": "2022-08-25T03:48:18.120Z"
   },
   {
    "duration": 325,
    "start_time": "2022-08-25T03:48:18.126Z"
   },
   {
    "duration": 4,
    "start_time": "2022-08-25T03:48:18.452Z"
   },
   {
    "duration": 7,
    "start_time": "2022-08-25T03:48:18.457Z"
   },
   {
    "duration": 7,
    "start_time": "2022-08-25T03:48:18.465Z"
   },
   {
    "duration": 1459,
    "start_time": "2022-08-25T03:48:18.474Z"
   },
   {
    "duration": 3,
    "start_time": "2022-08-25T03:48:19.935Z"
   },
   {
    "duration": 7,
    "start_time": "2022-08-25T03:48:19.939Z"
   },
   {
    "duration": 6,
    "start_time": "2022-08-25T03:48:19.947Z"
   },
   {
    "duration": 633885,
    "start_time": "2022-08-25T03:48:19.955Z"
   },
   {
    "duration": 5,
    "start_time": "2022-08-25T03:58:53.841Z"
   },
   {
    "duration": 85,
    "start_time": "2022-08-25T03:58:53.848Z"
   },
   {
    "duration": 27,
    "start_time": "2022-08-25T03:58:53.935Z"
   },
   {
    "duration": 2870,
    "start_time": "2022-08-25T03:58:53.964Z"
   },
   {
    "duration": 1427,
    "start_time": "2022-08-25T03:58:56.835Z"
   },
   {
    "duration": 2421,
    "start_time": "2022-08-25T03:58:58.264Z"
   },
   {
    "duration": 27,
    "start_time": "2022-08-25T03:59:00.687Z"
   },
   {
    "duration": 1191041,
    "start_time": "2022-08-25T03:59:00.715Z"
   },
   {
    "duration": 0,
    "start_time": "2022-08-25T04:18:51.758Z"
   },
   {
    "duration": 0,
    "start_time": "2022-08-25T04:18:51.760Z"
   },
   {
    "duration": 0,
    "start_time": "2022-08-25T04:18:51.760Z"
   },
   {
    "duration": 0,
    "start_time": "2022-08-25T04:18:51.761Z"
   },
   {
    "duration": 3,
    "start_time": "2022-08-25T04:19:06.640Z"
   },
   {
    "duration": 3,
    "start_time": "2022-08-25T04:19:07.432Z"
   },
   {
    "duration": 948084,
    "start_time": "2022-08-25T04:19:14.551Z"
   },
   {
    "duration": 0,
    "start_time": "2022-08-25T04:35:02.637Z"
   },
   {
    "duration": 0,
    "start_time": "2022-08-25T04:35:02.640Z"
   },
   {
    "duration": 642759,
    "start_time": "2022-08-25T04:35:08.770Z"
   },
   {
    "duration": 0,
    "start_time": "2022-08-25T04:45:51.531Z"
   },
   {
    "duration": 5,
    "start_time": "2022-08-25T04:46:24.210Z"
   },
   {
    "duration": 3,
    "start_time": "2022-08-25T04:46:25.722Z"
   },
   {
    "duration": 55627,
    "start_time": "2022-08-25T04:46:50.730Z"
   },
   {
    "duration": 1832,
    "start_time": "2022-08-25T04:47:46.359Z"
   },
   {
    "duration": 25,
    "start_time": "2022-08-25T04:47:48.193Z"
   },
   {
    "duration": 224,
    "start_time": "2022-08-25T04:47:48.220Z"
   },
   {
    "duration": 6,
    "start_time": "2022-08-25T04:47:48.445Z"
   },
   {
    "duration": 311,
    "start_time": "2022-08-25T04:47:48.452Z"
   },
   {
    "duration": 4,
    "start_time": "2022-08-25T04:47:48.764Z"
   },
   {
    "duration": 6,
    "start_time": "2022-08-25T04:47:48.770Z"
   },
   {
    "duration": 5,
    "start_time": "2022-08-25T04:47:48.777Z"
   },
   {
    "duration": 1574,
    "start_time": "2022-08-25T04:47:48.784Z"
   },
   {
    "duration": 3,
    "start_time": "2022-08-25T04:47:50.360Z"
   },
   {
    "duration": 11,
    "start_time": "2022-08-25T04:47:50.364Z"
   },
   {
    "duration": 22,
    "start_time": "2022-08-25T04:47:50.376Z"
   },
   {
    "duration": 628558,
    "start_time": "2022-08-25T04:47:50.400Z"
   },
   {
    "duration": 4,
    "start_time": "2022-08-25T04:58:18.960Z"
   },
   {
    "duration": 72,
    "start_time": "2022-08-25T04:58:18.965Z"
   },
   {
    "duration": 24,
    "start_time": "2022-08-25T04:58:19.039Z"
   },
   {
    "duration": 2947,
    "start_time": "2022-08-25T04:58:19.065Z"
   },
   {
    "duration": 1429,
    "start_time": "2022-08-25T04:58:22.014Z"
   },
   {
    "duration": 2430,
    "start_time": "2022-08-25T04:58:23.445Z"
   },
   {
    "duration": 25,
    "start_time": "2022-08-25T04:58:25.876Z"
   },
   {
    "duration": 1515814,
    "start_time": "2022-08-25T04:58:25.902Z"
   },
   {
    "duration": 0,
    "start_time": "2022-08-25T05:23:41.718Z"
   },
   {
    "duration": 0,
    "start_time": "2022-08-25T05:23:41.719Z"
   },
   {
    "duration": 0,
    "start_time": "2022-08-25T05:23:41.720Z"
   },
   {
    "duration": 0,
    "start_time": "2022-08-25T05:23:41.721Z"
   },
   {
    "duration": 0,
    "start_time": "2022-08-25T05:23:41.724Z"
   },
   {
    "duration": 0,
    "start_time": "2022-08-25T05:23:41.725Z"
   },
   {
    "duration": 4,
    "start_time": "2022-08-25T05:23:51.256Z"
   },
   {
    "duration": 5,
    "start_time": "2022-08-25T05:23:52.488Z"
   },
   {
    "duration": 3173259,
    "start_time": "2022-08-25T05:24:00.524Z"
   },
   {
    "duration": 16,
    "start_time": "2022-08-25T06:19:00.794Z"
   },
   {
    "duration": 644538,
    "start_time": "2022-08-25T06:19:05.836Z"
   },
   {
    "duration": 146,
    "start_time": "2022-08-25T07:02:12.235Z"
   },
   {
    "duration": 142160,
    "start_time": "2022-08-25T07:02:29.422Z"
   },
   {
    "duration": 1559,
    "start_time": "2022-08-25T07:04:51.584Z"
   },
   {
    "duration": 13,
    "start_time": "2022-08-25T07:04:53.145Z"
   },
   {
    "duration": 261,
    "start_time": "2022-08-25T07:04:53.160Z"
   },
   {
    "duration": 6,
    "start_time": "2022-08-25T07:04:53.427Z"
   },
   {
    "duration": 322,
    "start_time": "2022-08-25T07:04:53.435Z"
   },
   {
    "duration": 3,
    "start_time": "2022-08-25T07:04:53.759Z"
   },
   {
    "duration": 8,
    "start_time": "2022-08-25T07:04:53.764Z"
   },
   {
    "duration": 5,
    "start_time": "2022-08-25T07:04:53.774Z"
   },
   {
    "duration": 1569,
    "start_time": "2022-08-25T07:04:53.781Z"
   },
   {
    "duration": 4,
    "start_time": "2022-08-25T07:04:55.352Z"
   },
   {
    "duration": 7,
    "start_time": "2022-08-25T07:04:55.357Z"
   },
   {
    "duration": 1063750,
    "start_time": "2022-08-25T07:04:55.366Z"
   },
   {
    "duration": 4,
    "start_time": "2022-08-25T07:22:39.118Z"
   },
   {
    "duration": 102,
    "start_time": "2022-08-25T07:22:39.123Z"
   },
   {
    "duration": 47,
    "start_time": "2022-08-25T07:22:39.227Z"
   },
   {
    "duration": 4849,
    "start_time": "2022-08-25T07:22:39.275Z"
   },
   {
    "duration": 2515,
    "start_time": "2022-08-25T07:22:44.126Z"
   },
   {
    "duration": 3967,
    "start_time": "2022-08-25T07:22:46.643Z"
   },
   {
    "duration": 25,
    "start_time": "2022-08-25T07:22:50.612Z"
   },
   {
    "duration": 50,
    "start_time": "2022-08-25T07:24:12.166Z"
   },
   {
    "duration": 97779,
    "start_time": "2022-08-25T07:24:17.738Z"
   },
   {
    "duration": 1236,
    "start_time": "2022-08-25T07:25:55.520Z"
   },
   {
    "duration": 10,
    "start_time": "2022-08-25T07:25:56.758Z"
   },
   {
    "duration": 247,
    "start_time": "2022-08-25T07:25:56.769Z"
   },
   {
    "duration": 7,
    "start_time": "2022-08-25T07:25:57.022Z"
   },
   {
    "duration": 316,
    "start_time": "2022-08-25T07:25:57.031Z"
   },
   {
    "duration": 4,
    "start_time": "2022-08-25T07:25:57.349Z"
   },
   {
    "duration": 10,
    "start_time": "2022-08-25T07:25:57.354Z"
   },
   {
    "duration": 6,
    "start_time": "2022-08-25T07:25:57.366Z"
   },
   {
    "duration": 1222,
    "start_time": "2022-08-25T07:25:57.373Z"
   },
   {
    "duration": 4,
    "start_time": "2022-08-25T07:25:58.598Z"
   },
   {
    "duration": 18,
    "start_time": "2022-08-25T07:25:58.603Z"
   },
   {
    "duration": 995459,
    "start_time": "2022-08-25T07:25:58.622Z"
   },
   {
    "duration": 4,
    "start_time": "2022-08-25T07:42:34.083Z"
   },
   {
    "duration": 128,
    "start_time": "2022-08-25T07:42:34.088Z"
   },
   {
    "duration": 37,
    "start_time": "2022-08-25T07:42:34.218Z"
   },
   {
    "duration": 4572,
    "start_time": "2022-08-25T07:42:34.257Z"
   },
   {
    "duration": 2527,
    "start_time": "2022-08-25T07:42:38.831Z"
   },
   {
    "duration": 4215,
    "start_time": "2022-08-25T07:42:41.359Z"
   },
   {
    "duration": 42,
    "start_time": "2022-08-25T07:42:45.576Z"
   },
   {
    "duration": 81564,
    "start_time": "2022-08-25T07:44:19.714Z"
   },
   {
    "duration": 2127,
    "start_time": "2022-08-25T07:45:41.281Z"
   },
   {
    "duration": 15,
    "start_time": "2022-08-25T07:45:43.412Z"
   },
   {
    "duration": 243,
    "start_time": "2022-08-25T07:45:43.429Z"
   },
   {
    "duration": 8,
    "start_time": "2022-08-25T07:45:43.676Z"
   },
   {
    "duration": 353,
    "start_time": "2022-08-25T07:45:43.686Z"
   },
   {
    "duration": 4,
    "start_time": "2022-08-25T07:45:44.041Z"
   },
   {
    "duration": 9,
    "start_time": "2022-08-25T07:45:44.047Z"
   },
   {
    "duration": 11,
    "start_time": "2022-08-25T07:45:44.058Z"
   },
   {
    "duration": 1595,
    "start_time": "2022-08-25T07:45:44.071Z"
   },
   {
    "duration": 4,
    "start_time": "2022-08-25T07:45:45.667Z"
   },
   {
    "duration": 24,
    "start_time": "2022-08-25T07:45:45.673Z"
   },
   {
    "duration": 22,
    "start_time": "2022-08-25T07:45:45.699Z"
   },
   {
    "duration": 802216,
    "start_time": "2022-08-25T07:45:45.724Z"
   },
   {
    "duration": 4,
    "start_time": "2022-08-25T07:59:07.942Z"
   },
   {
    "duration": 90,
    "start_time": "2022-08-25T07:59:07.948Z"
   },
   {
    "duration": 43,
    "start_time": "2022-08-25T07:59:08.040Z"
   },
   {
    "duration": 4070,
    "start_time": "2022-08-25T07:59:08.085Z"
   },
   {
    "duration": 1960,
    "start_time": "2022-08-25T07:59:12.157Z"
   },
   {
    "duration": 3024,
    "start_time": "2022-08-25T07:59:14.118Z"
   },
   {
    "duration": 20,
    "start_time": "2022-08-25T07:59:17.144Z"
   },
   {
    "duration": 4063709,
    "start_time": "2022-08-25T07:59:17.166Z"
   },
   {
    "duration": 0,
    "start_time": "2022-08-25T09:07:00.877Z"
   },
   {
    "duration": 0,
    "start_time": "2022-08-25T09:07:00.879Z"
   },
   {
    "duration": 0,
    "start_time": "2022-08-25T09:07:00.879Z"
   },
   {
    "duration": 0,
    "start_time": "2022-08-25T09:07:00.881Z"
   },
   {
    "duration": 63564,
    "start_time": "2022-08-25T09:07:16.950Z"
   },
   {
    "duration": 1519,
    "start_time": "2022-08-25T09:08:20.516Z"
   },
   {
    "duration": 13,
    "start_time": "2022-08-25T09:08:22.037Z"
   },
   {
    "duration": 236,
    "start_time": "2022-08-25T09:08:22.051Z"
   },
   {
    "duration": 12,
    "start_time": "2022-08-25T09:08:22.290Z"
   },
   {
    "duration": 300,
    "start_time": "2022-08-25T09:08:22.303Z"
   },
   {
    "duration": 4,
    "start_time": "2022-08-25T09:08:22.605Z"
   },
   {
    "duration": 9,
    "start_time": "2022-08-25T09:08:22.611Z"
   },
   {
    "duration": 6,
    "start_time": "2022-08-25T09:08:22.622Z"
   },
   {
    "duration": 1178,
    "start_time": "2022-08-25T09:08:22.630Z"
   },
   {
    "duration": 4,
    "start_time": "2022-08-25T09:08:23.810Z"
   },
   {
    "duration": 10,
    "start_time": "2022-08-25T09:08:23.815Z"
   },
   {
    "duration": 975520,
    "start_time": "2022-08-25T09:08:23.826Z"
   },
   {
    "duration": 4,
    "start_time": "2022-08-25T09:24:39.349Z"
   },
   {
    "duration": 108,
    "start_time": "2022-08-25T09:24:39.354Z"
   },
   {
    "duration": 48,
    "start_time": "2022-08-25T09:24:39.463Z"
   },
   {
    "duration": 5005,
    "start_time": "2022-08-25T09:24:39.513Z"
   },
   {
    "duration": 2418,
    "start_time": "2022-08-25T09:24:44.520Z"
   },
   {
    "duration": 3902,
    "start_time": "2022-08-25T09:24:46.941Z"
   },
   {
    "duration": 30,
    "start_time": "2022-08-25T09:24:50.844Z"
   },
   {
    "duration": 61351,
    "start_time": "2022-08-25T09:26:26.090Z"
   },
   {
    "duration": 1320,
    "start_time": "2022-08-25T09:27:27.443Z"
   },
   {
    "duration": 14,
    "start_time": "2022-08-25T09:27:28.765Z"
   },
   {
    "duration": 253,
    "start_time": "2022-08-25T09:27:28.782Z"
   },
   {
    "duration": 6,
    "start_time": "2022-08-25T09:27:29.038Z"
   },
   {
    "duration": 323,
    "start_time": "2022-08-25T09:27:29.046Z"
   },
   {
    "duration": 4,
    "start_time": "2022-08-25T09:27:29.371Z"
   },
   {
    "duration": 10,
    "start_time": "2022-08-25T09:27:29.378Z"
   },
   {
    "duration": 4,
    "start_time": "2022-08-25T09:27:29.399Z"
   },
   {
    "duration": 1228,
    "start_time": "2022-08-25T09:27:29.405Z"
   },
   {
    "duration": 3,
    "start_time": "2022-08-25T09:27:30.635Z"
   },
   {
    "duration": 18,
    "start_time": "2022-08-25T09:27:30.640Z"
   },
   {
    "duration": 72891,
    "start_time": "2022-08-25T09:32:02.884Z"
   },
   {
    "duration": 1137,
    "start_time": "2022-08-25T09:33:15.777Z"
   },
   {
    "duration": 14,
    "start_time": "2022-08-25T09:33:16.916Z"
   },
   {
    "duration": 252,
    "start_time": "2022-08-25T09:33:16.932Z"
   },
   {
    "duration": 14,
    "start_time": "2022-08-25T09:33:17.187Z"
   },
   {
    "duration": 326,
    "start_time": "2022-08-25T09:33:17.203Z"
   },
   {
    "duration": 4,
    "start_time": "2022-08-25T09:33:17.531Z"
   },
   {
    "duration": 19,
    "start_time": "2022-08-25T09:33:17.536Z"
   },
   {
    "duration": 21,
    "start_time": "2022-08-25T09:33:17.557Z"
   },
   {
    "duration": 1126,
    "start_time": "2022-08-25T09:33:17.580Z"
   },
   {
    "duration": 3,
    "start_time": "2022-08-25T09:33:18.708Z"
   },
   {
    "duration": 12,
    "start_time": "2022-08-25T09:33:18.713Z"
   },
   {
    "duration": 992302,
    "start_time": "2022-08-25T09:33:18.727Z"
   },
   {
    "duration": 5,
    "start_time": "2022-08-25T09:49:51.032Z"
   },
   {
    "duration": 145,
    "start_time": "2022-08-25T09:49:51.039Z"
   },
   {
    "duration": 63,
    "start_time": "2022-08-25T09:49:51.186Z"
   },
   {
    "duration": 4589,
    "start_time": "2022-08-25T09:49:51.251Z"
   },
   {
    "duration": 2210,
    "start_time": "2022-08-25T09:49:55.842Z"
   },
   {
    "duration": 3946,
    "start_time": "2022-08-25T09:49:58.054Z"
   },
   {
    "duration": 26,
    "start_time": "2022-08-25T09:50:02.002Z"
   },
   {
    "duration": 75359,
    "start_time": "2022-08-25T10:06:43.034Z"
   },
   {
    "duration": 1879,
    "start_time": "2022-08-25T10:07:58.395Z"
   },
   {
    "duration": 12,
    "start_time": "2022-08-25T10:08:00.275Z"
   },
   {
    "duration": 241,
    "start_time": "2022-08-25T10:08:00.289Z"
   },
   {
    "duration": 6,
    "start_time": "2022-08-25T10:08:00.532Z"
   },
   {
    "duration": 332,
    "start_time": "2022-08-25T10:08:00.539Z"
   },
   {
    "duration": 4,
    "start_time": "2022-08-25T10:08:00.872Z"
   },
   {
    "duration": 16,
    "start_time": "2022-08-25T10:08:00.879Z"
   },
   {
    "duration": 38,
    "start_time": "2022-08-25T10:08:00.900Z"
   },
   {
    "duration": 1632,
    "start_time": "2022-08-25T10:08:00.942Z"
   },
   {
    "duration": 4,
    "start_time": "2022-08-25T10:08:02.576Z"
   },
   {
    "duration": 10,
    "start_time": "2022-08-25T10:08:02.582Z"
   },
   {
    "duration": 310640,
    "start_time": "2022-08-25T10:08:02.600Z"
   },
   {
    "duration": 0,
    "start_time": "2022-08-25T10:13:13.242Z"
   },
   {
    "duration": 0,
    "start_time": "2022-08-25T10:13:13.243Z"
   },
   {
    "duration": 0,
    "start_time": "2022-08-25T10:13:13.244Z"
   },
   {
    "duration": 0,
    "start_time": "2022-08-25T10:13:13.245Z"
   },
   {
    "duration": 0,
    "start_time": "2022-08-25T10:13:13.246Z"
   },
   {
    "duration": 0,
    "start_time": "2022-08-25T10:13:13.247Z"
   },
   {
    "duration": 0,
    "start_time": "2022-08-25T10:13:13.248Z"
   },
   {
    "duration": 0,
    "start_time": "2022-08-25T10:13:13.249Z"
   },
   {
    "duration": 0,
    "start_time": "2022-08-25T10:13:13.250Z"
   },
   {
    "duration": 0,
    "start_time": "2022-08-25T10:13:13.251Z"
   },
   {
    "duration": 0,
    "start_time": "2022-08-25T10:13:13.252Z"
   },
   {
    "duration": 0,
    "start_time": "2022-08-25T10:13:13.253Z"
   },
   {
    "duration": 65857,
    "start_time": "2022-08-25T10:13:34.149Z"
   },
   {
    "duration": 1349,
    "start_time": "2022-08-25T10:14:40.009Z"
   },
   {
    "duration": 13,
    "start_time": "2022-08-25T10:14:41.359Z"
   },
   {
    "duration": 310,
    "start_time": "2022-08-25T10:14:41.374Z"
   },
   {
    "duration": 13,
    "start_time": "2022-08-25T10:14:41.687Z"
   },
   {
    "duration": 364,
    "start_time": "2022-08-25T10:14:41.702Z"
   },
   {
    "duration": 4,
    "start_time": "2022-08-25T10:14:42.068Z"
   },
   {
    "duration": 7,
    "start_time": "2022-08-25T10:14:42.074Z"
   },
   {
    "duration": 6,
    "start_time": "2022-08-25T10:14:42.083Z"
   },
   {
    "duration": 1276,
    "start_time": "2022-08-25T10:14:42.100Z"
   },
   {
    "duration": 5,
    "start_time": "2022-08-25T10:14:43.378Z"
   },
   {
    "duration": 7,
    "start_time": "2022-08-25T10:14:43.385Z"
   },
   {
    "duration": 7,
    "start_time": "2022-08-25T10:14:43.394Z"
   },
   {
    "duration": 337728,
    "start_time": "2022-08-25T10:14:43.407Z"
   },
   {
    "duration": 4,
    "start_time": "2022-08-25T10:20:21.137Z"
   },
   {
    "duration": 35,
    "start_time": "2022-08-25T10:20:21.142Z"
   },
   {
    "duration": 33,
    "start_time": "2022-08-25T10:20:21.179Z"
   },
   {
    "duration": 1562,
    "start_time": "2022-08-25T10:20:21.214Z"
   },
   {
    "duration": 764,
    "start_time": "2022-08-25T10:20:22.778Z"
   },
   {
    "duration": 1255,
    "start_time": "2022-08-25T10:20:23.544Z"
   },
   {
    "duration": 16,
    "start_time": "2022-08-25T10:20:24.801Z"
   },
   {
    "duration": 1544,
    "start_time": "2022-08-25T11:09:15.398Z"
   },
   {
    "duration": 0,
    "start_time": "2022-08-25T11:09:16.945Z"
   },
   {
    "duration": 0,
    "start_time": "2022-08-25T11:09:16.946Z"
   },
   {
    "duration": 0,
    "start_time": "2022-08-25T11:09:16.948Z"
   },
   {
    "duration": 0,
    "start_time": "2022-08-25T11:09:16.949Z"
   },
   {
    "duration": 0,
    "start_time": "2022-08-25T11:09:16.951Z"
   },
   {
    "duration": 1,
    "start_time": "2022-08-25T11:09:16.952Z"
   },
   {
    "duration": 0,
    "start_time": "2022-08-25T11:09:16.954Z"
   },
   {
    "duration": 0,
    "start_time": "2022-08-25T11:09:16.955Z"
   },
   {
    "duration": 0,
    "start_time": "2022-08-25T11:09:16.957Z"
   },
   {
    "duration": 0,
    "start_time": "2022-08-25T11:09:16.959Z"
   },
   {
    "duration": 0,
    "start_time": "2022-08-25T11:09:16.960Z"
   },
   {
    "duration": 0,
    "start_time": "2022-08-25T11:09:16.961Z"
   },
   {
    "duration": 0,
    "start_time": "2022-08-25T11:09:16.963Z"
   },
   {
    "duration": 0,
    "start_time": "2022-08-25T11:09:16.964Z"
   },
   {
    "duration": 0,
    "start_time": "2022-08-25T11:09:16.965Z"
   },
   {
    "duration": 0,
    "start_time": "2022-08-25T11:09:16.967Z"
   },
   {
    "duration": 0,
    "start_time": "2022-08-25T11:09:16.968Z"
   },
   {
    "duration": 0,
    "start_time": "2022-08-25T11:09:16.970Z"
   },
   {
    "duration": 1,
    "start_time": "2022-08-25T11:09:16.971Z"
   },
   {
    "duration": 0,
    "start_time": "2022-08-25T11:09:16.973Z"
   },
   {
    "duration": 0,
    "start_time": "2022-08-25T11:09:17.000Z"
   },
   {
    "duration": 0,
    "start_time": "2022-08-25T11:09:17.001Z"
   },
   {
    "duration": 0,
    "start_time": "2022-08-25T11:09:17.002Z"
   },
   {
    "duration": 0,
    "start_time": "2022-08-25T11:09:17.004Z"
   },
   {
    "duration": 0,
    "start_time": "2022-08-25T11:09:17.005Z"
   },
   {
    "duration": 98912,
    "start_time": "2022-08-25T14:04:57.167Z"
   },
   {
    "duration": 1392,
    "start_time": "2022-08-25T14:06:36.082Z"
   },
   {
    "duration": 28,
    "start_time": "2022-08-25T14:06:37.477Z"
   },
   {
    "duration": 305,
    "start_time": "2022-08-25T14:06:37.508Z"
   },
   {
    "duration": 16,
    "start_time": "2022-08-25T14:06:37.816Z"
   },
   {
    "duration": 359,
    "start_time": "2022-08-25T14:06:37.834Z"
   },
   {
    "duration": 10,
    "start_time": "2022-08-25T14:06:38.200Z"
   },
   {
    "duration": 32,
    "start_time": "2022-08-25T14:06:38.212Z"
   },
   {
    "duration": 6,
    "start_time": "2022-08-25T14:06:38.247Z"
   },
   {
    "duration": 1283,
    "start_time": "2022-08-25T14:06:38.255Z"
   },
   {
    "duration": 3,
    "start_time": "2022-08-25T14:06:39.540Z"
   },
   {
    "duration": 11,
    "start_time": "2022-08-25T14:06:39.545Z"
   },
   {
    "duration": 6,
    "start_time": "2022-08-25T14:06:39.558Z"
   },
   {
    "duration": 384105,
    "start_time": "2022-08-25T14:06:39.567Z"
   },
   {
    "duration": 4,
    "start_time": "2022-08-25T14:13:03.674Z"
   },
   {
    "duration": 74,
    "start_time": "2022-08-25T14:13:03.680Z"
   },
   {
    "duration": 17,
    "start_time": "2022-08-25T14:13:03.756Z"
   },
   {
    "duration": 1695,
    "start_time": "2022-08-25T14:13:03.775Z"
   },
   {
    "duration": 867,
    "start_time": "2022-08-25T14:13:05.472Z"
   },
   {
    "duration": 1391,
    "start_time": "2022-08-25T14:13:06.341Z"
   },
   {
    "duration": 14,
    "start_time": "2022-08-25T14:13:07.733Z"
   },
   {
    "duration": 1172846,
    "start_time": "2022-08-25T14:13:07.748Z"
   },
   {
    "duration": 15,
    "start_time": "2022-08-25T14:32:40.604Z"
   },
   {
    "duration": 486549,
    "start_time": "2022-08-25T14:32:40.621Z"
   },
   {
    "duration": 225,
    "start_time": "2022-08-25T14:40:47.172Z"
   },
   {
    "duration": 28,
    "start_time": "2022-08-25T14:40:47.405Z"
   },
   {
    "duration": 83357,
    "start_time": "2022-08-25T18:36:32.533Z"
   },
   {
    "duration": 331,
    "start_time": "2022-08-25T18:37:55.891Z"
   },
   {
    "duration": 0,
    "start_time": "2022-08-25T18:37:56.224Z"
   },
   {
    "duration": 0,
    "start_time": "2022-08-25T18:37:56.225Z"
   },
   {
    "duration": 0,
    "start_time": "2022-08-25T18:37:56.225Z"
   },
   {
    "duration": 0,
    "start_time": "2022-08-25T18:37:56.227Z"
   },
   {
    "duration": 0,
    "start_time": "2022-08-25T18:37:56.228Z"
   },
   {
    "duration": 0,
    "start_time": "2022-08-25T18:37:56.229Z"
   },
   {
    "duration": 0,
    "start_time": "2022-08-25T18:37:56.230Z"
   },
   {
    "duration": 0,
    "start_time": "2022-08-25T18:37:56.231Z"
   },
   {
    "duration": 0,
    "start_time": "2022-08-25T18:37:56.232Z"
   },
   {
    "duration": 0,
    "start_time": "2022-08-25T18:37:56.233Z"
   },
   {
    "duration": 0,
    "start_time": "2022-08-25T18:37:56.234Z"
   },
   {
    "duration": 0,
    "start_time": "2022-08-25T18:37:56.235Z"
   },
   {
    "duration": 0,
    "start_time": "2022-08-25T18:37:56.236Z"
   },
   {
    "duration": 0,
    "start_time": "2022-08-25T18:37:56.237Z"
   },
   {
    "duration": 0,
    "start_time": "2022-08-25T18:37:56.238Z"
   },
   {
    "duration": 0,
    "start_time": "2022-08-25T18:37:56.239Z"
   },
   {
    "duration": 1,
    "start_time": "2022-08-25T18:37:56.239Z"
   },
   {
    "duration": 0,
    "start_time": "2022-08-25T18:37:56.241Z"
   },
   {
    "duration": 0,
    "start_time": "2022-08-25T18:37:56.242Z"
   },
   {
    "duration": 0,
    "start_time": "2022-08-25T18:37:56.243Z"
   },
   {
    "duration": 2134,
    "start_time": "2022-08-25T18:41:31.099Z"
   },
   {
    "duration": 12,
    "start_time": "2022-08-25T18:42:16.835Z"
   },
   {
    "duration": 210,
    "start_time": "2022-08-25T18:42:16.849Z"
   },
   {
    "duration": 5,
    "start_time": "2022-08-25T18:42:17.061Z"
   },
   {
    "duration": 248,
    "start_time": "2022-08-25T18:42:17.067Z"
   },
   {
    "duration": 3,
    "start_time": "2022-08-25T18:42:17.317Z"
   },
   {
    "duration": 7,
    "start_time": "2022-08-25T18:42:17.321Z"
   },
   {
    "duration": 6,
    "start_time": "2022-08-25T18:42:17.329Z"
   },
   {
    "duration": 62,
    "start_time": "2022-08-25T18:42:17.888Z"
   },
   {
    "duration": 0,
    "start_time": "2022-08-25T18:42:17.951Z"
   },
   {
    "duration": 0,
    "start_time": "2022-08-25T18:42:17.952Z"
   },
   {
    "duration": 0,
    "start_time": "2022-08-25T18:42:17.953Z"
   },
   {
    "duration": 0,
    "start_time": "2022-08-25T18:42:17.954Z"
   },
   {
    "duration": 0,
    "start_time": "2022-08-25T18:42:17.956Z"
   },
   {
    "duration": 0,
    "start_time": "2022-08-25T18:42:17.956Z"
   },
   {
    "duration": 13,
    "start_time": "2022-08-25T18:42:17.958Z"
   },
   {
    "duration": 0,
    "start_time": "2022-08-25T18:42:17.972Z"
   },
   {
    "duration": 0,
    "start_time": "2022-08-25T18:42:17.973Z"
   },
   {
    "duration": 10,
    "start_time": "2022-08-25T18:42:17.981Z"
   },
   {
    "duration": 0,
    "start_time": "2022-08-25T18:42:17.993Z"
   },
   {
    "duration": 15,
    "start_time": "2022-08-25T18:42:18.000Z"
   },
   {
    "duration": 1549,
    "start_time": "2022-08-25T18:43:33.006Z"
   },
   {
    "duration": 2,
    "start_time": "2022-08-25T18:43:36.050Z"
   },
   {
    "duration": 3,
    "start_time": "2022-08-25T18:43:36.595Z"
   },
   {
    "duration": 4,
    "start_time": "2022-08-25T18:43:43.131Z"
   },
   {
    "duration": 93500,
    "start_time": "2022-08-25T18:43:44.331Z"
   },
   {
    "duration": 0,
    "start_time": "2022-08-25T18:45:17.832Z"
   },
   {
    "duration": 15,
    "start_time": "2022-08-25T18:45:49.326Z"
   },
   {
    "duration": 58,
    "start_time": "2022-08-25T18:46:02.395Z"
   },
   {
    "duration": 38,
    "start_time": "2022-08-25T18:46:03.973Z"
   },
   {
    "duration": 4958,
    "start_time": "2022-08-25T18:46:04.871Z"
   },
   {
    "duration": 2620,
    "start_time": "2022-08-25T18:46:09.831Z"
   },
   {
    "duration": 3608,
    "start_time": "2022-08-25T18:46:17.349Z"
   },
   {
    "duration": 22,
    "start_time": "2022-08-25T18:46:26.244Z"
   },
   {
    "duration": 43,
    "start_time": "2022-08-25T18:48:19.345Z"
   },
   {
    "duration": 1307,
    "start_time": "2022-08-25T18:48:26.188Z"
   },
   {
    "duration": 9,
    "start_time": "2022-08-25T18:48:27.854Z"
   },
   {
    "duration": 8,
    "start_time": "2022-08-25T18:48:32.029Z"
   },
   {
    "duration": 642,
    "start_time": "2022-08-25T18:48:36.579Z"
   },
   {
    "duration": 82387,
    "start_time": "2022-08-25T18:48:52.737Z"
   },
   {
    "duration": 1644,
    "start_time": "2022-08-25T18:50:15.125Z"
   },
   {
    "duration": 16,
    "start_time": "2022-08-25T18:50:16.770Z"
   },
   {
    "duration": 4,
    "start_time": "2022-08-25T18:50:53.076Z"
   },
   {
    "duration": 4,
    "start_time": "2022-08-25T18:50:55.271Z"
   },
   {
    "duration": 3,
    "start_time": "2022-08-25T18:50:57.249Z"
   },
   {
    "duration": 1545,
    "start_time": "2022-08-25T18:51:06.826Z"
   },
   {
    "duration": 3,
    "start_time": "2022-08-25T18:51:11.605Z"
   },
   {
    "duration": 3,
    "start_time": "2022-08-25T18:51:14.072Z"
   },
   {
    "duration": 13483,
    "start_time": "2022-08-25T18:51:16.228Z"
   },
   {
    "duration": 68,
    "start_time": "2022-08-25T18:51:43.153Z"
   },
   {
    "duration": 27,
    "start_time": "2022-08-25T18:51:43.736Z"
   },
   {
    "duration": 4914,
    "start_time": "2022-08-25T18:51:44.387Z"
   },
   {
    "duration": 2521,
    "start_time": "2022-08-25T18:51:51.504Z"
   },
   {
    "duration": 85511,
    "start_time": "2022-08-25T18:56:32.804Z"
   },
   {
    "duration": 1904,
    "start_time": "2022-08-25T18:57:58.317Z"
   },
   {
    "duration": 12,
    "start_time": "2022-08-25T18:58:00.223Z"
   },
   {
    "duration": 7,
    "start_time": "2022-08-25T18:58:27.180Z"
   },
   {
    "duration": 5,
    "start_time": "2022-08-25T18:58:32.556Z"
   },
   {
    "duration": 3,
    "start_time": "2022-08-25T18:58:33.637Z"
   },
   {
    "duration": 4,
    "start_time": "2022-08-25T18:58:34.963Z"
   },
   {
    "duration": 4,
    "start_time": "2022-08-25T18:58:47.733Z"
   },
   {
    "duration": 63,
    "start_time": "2022-08-25T18:58:58.237Z"
   },
   {
    "duration": 29,
    "start_time": "2022-08-25T18:58:59.347Z"
   },
   {
    "duration": 429,
    "start_time": "2022-08-25T18:59:02.666Z"
   },
   {
    "duration": 128640,
    "start_time": "2022-08-25T19:05:20.544Z"
   },
   {
    "duration": 1913,
    "start_time": "2022-08-25T19:09:12.156Z"
   },
   {
    "duration": 10,
    "start_time": "2022-08-25T19:09:16.739Z"
   },
   {
    "duration": 4,
    "start_time": "2022-08-25T19:09:21.674Z"
   },
   {
    "duration": 4,
    "start_time": "2022-08-25T19:09:23.298Z"
   },
   {
    "duration": 4,
    "start_time": "2022-08-25T19:09:24.528Z"
   },
   {
    "duration": 3,
    "start_time": "2022-08-25T19:09:35.650Z"
   },
   {
    "duration": 2,
    "start_time": "2022-08-25T19:09:37.347Z"
   },
   {
    "duration": 4,
    "start_time": "2022-08-25T19:09:41.081Z"
   },
   {
    "duration": 61,
    "start_time": "2022-08-25T19:09:46.105Z"
   },
   {
    "duration": 26,
    "start_time": "2022-08-25T19:09:46.905Z"
   },
   {
    "duration": 85951,
    "start_time": "2022-08-25T19:12:15.102Z"
   },
   {
    "duration": 1388,
    "start_time": "2022-08-25T19:13:46.541Z"
   },
   {
    "duration": 13,
    "start_time": "2022-08-25T19:13:49.871Z"
   },
   {
    "duration": 5,
    "start_time": "2022-08-25T19:13:55.338Z"
   },
   {
    "duration": 5,
    "start_time": "2022-08-25T19:13:57.040Z"
   },
   {
    "duration": 4,
    "start_time": "2022-08-25T19:13:59.041Z"
   },
   {
    "duration": 3,
    "start_time": "2022-08-25T19:14:12.366Z"
   },
   {
    "duration": 3,
    "start_time": "2022-08-25T19:14:15.350Z"
   },
   {
    "duration": 3,
    "start_time": "2022-08-25T19:14:17.155Z"
   },
   {
    "duration": 22,
    "start_time": "2022-08-25T19:14:24.881Z"
   },
   {
    "duration": 11,
    "start_time": "2022-08-25T19:14:25.796Z"
   },
   {
    "duration": 1825,
    "start_time": "2022-08-25T19:14:39.356Z"
   },
   {
    "duration": 782,
    "start_time": "2022-08-25T19:14:46.451Z"
   },
   {
    "duration": 1126,
    "start_time": "2022-08-25T19:15:02.687Z"
   },
   {
    "duration": 3,
    "start_time": "2022-08-25T19:15:05.663Z"
   },
   {
    "duration": 11,
    "start_time": "2022-08-25T19:15:14.698Z"
   },
   {
    "duration": 50975,
    "start_time": "2022-08-25T19:15:17.310Z"
   },
   {
    "duration": 4,
    "start_time": "2022-08-25T19:16:20.971Z"
   },
   {
    "duration": 377037,
    "start_time": "2022-08-25T19:16:29.150Z"
   },
   {
    "duration": 4,
    "start_time": "2022-08-25T19:24:18.232Z"
   },
   {
    "duration": 14144,
    "start_time": "2022-08-25T19:24:33.378Z"
   },
   {
    "duration": 3,
    "start_time": "2022-08-25T19:24:56.322Z"
   },
   {
    "duration": 4,
    "start_time": "2022-08-25T19:24:57.753Z"
   },
   {
    "duration": 3,
    "start_time": "2022-08-25T19:25:00.374Z"
   },
   {
    "duration": 169972,
    "start_time": "2022-08-25T19:25:12.748Z"
   },
   {
    "duration": 195,
    "start_time": "2022-08-26T04:34:14.429Z"
   },
   {
    "duration": 2482,
    "start_time": "2022-08-26T04:34:19.148Z"
   },
   {
    "duration": 7,
    "start_time": "2022-08-26T04:34:27.474Z"
   },
   {
    "duration": 3,
    "start_time": "2022-08-26T04:34:54.288Z"
   },
   {
    "duration": 3,
    "start_time": "2022-08-26T04:34:56.502Z"
   },
   {
    "duration": 2,
    "start_time": "2022-08-26T04:34:57.641Z"
   },
   {
    "duration": 22,
    "start_time": "2022-08-26T04:35:04.015Z"
   },
   {
    "duration": 14,
    "start_time": "2022-08-26T04:35:05.221Z"
   },
   {
    "duration": 1474,
    "start_time": "2022-08-26T04:35:06.009Z"
   },
   {
    "duration": 783,
    "start_time": "2022-08-26T04:35:09.367Z"
   },
   {
    "duration": 1102,
    "start_time": "2022-08-26T04:35:14.221Z"
   },
   {
    "duration": 10,
    "start_time": "2022-08-26T04:35:16.480Z"
   },
   {
    "duration": 315122,
    "start_time": "2022-08-26T04:35:29.809Z"
   },
   {
    "duration": 38914,
    "start_time": "2022-08-26T04:40:49.570Z"
   },
   {
    "duration": 6260,
    "start_time": "2022-08-26T04:41:43.335Z"
   },
   {
    "duration": 18498,
    "start_time": "2022-08-26T04:42:12.887Z"
   },
   {
    "duration": 24314,
    "start_time": "2022-08-26T04:42:39.981Z"
   },
   {
    "duration": 21752,
    "start_time": "2022-08-26T04:43:14.136Z"
   },
   {
    "duration": 23667,
    "start_time": "2022-08-26T04:43:47.326Z"
   },
   {
    "duration": 23588,
    "start_time": "2022-08-26T04:44:30.203Z"
   },
   {
    "duration": 22438,
    "start_time": "2022-08-26T04:45:11.449Z"
   },
   {
    "duration": 25037,
    "start_time": "2022-08-26T04:45:43.249Z"
   },
   {
    "duration": 23140,
    "start_time": "2022-08-26T04:46:25.148Z"
   },
   {
    "duration": 23227,
    "start_time": "2022-08-26T04:46:57.059Z"
   },
   {
    "duration": 2517,
    "start_time": "2022-08-26T04:47:33.469Z"
   },
   {
    "duration": 3,
    "start_time": "2022-08-26T04:47:39.190Z"
   },
   {
    "duration": 3,
    "start_time": "2022-08-26T04:47:39.921Z"
   },
   {
    "duration": 2,
    "start_time": "2022-08-26T04:47:41.227Z"
   },
   {
    "duration": 5,
    "start_time": "2022-08-26T04:47:44.409Z"
   },
   {
    "duration": 21,
    "start_time": "2022-08-26T04:47:50.361Z"
   },
   {
    "duration": 13,
    "start_time": "2022-08-26T04:47:51.101Z"
   },
   {
    "duration": 2624,
    "start_time": "2022-08-26T04:48:48.348Z"
   },
   {
    "duration": 112,
    "start_time": "2022-08-26T04:49:31.360Z"
   },
   {
    "duration": 2072,
    "start_time": "2022-08-26T04:49:35.180Z"
   },
   {
    "duration": 32,
    "start_time": "2022-08-26T04:49:39.260Z"
   },
   {
    "duration": 3,
    "start_time": "2022-08-26T04:50:00.877Z"
   },
   {
    "duration": 7,
    "start_time": "2022-08-26T04:50:38.928Z"
   },
   {
    "duration": 3,
    "start_time": "2022-08-26T04:54:00.618Z"
   },
   {
    "duration": 2,
    "start_time": "2022-08-26T04:54:01.954Z"
   },
   {
    "duration": 21,
    "start_time": "2022-08-26T04:54:31.494Z"
   },
   {
    "duration": 11,
    "start_time": "2022-08-26T04:54:32.089Z"
   },
   {
    "duration": 1556,
    "start_time": "2022-08-26T04:54:32.751Z"
   },
   {
    "duration": 763,
    "start_time": "2022-08-26T04:54:35.694Z"
   },
   {
    "duration": 811,
    "start_time": "2022-08-26T04:54:40.475Z"
   },
   {
    "duration": 12,
    "start_time": "2022-08-26T04:54:41.994Z"
   },
   {
    "duration": 19388,
    "start_time": "2022-08-26T04:54:44.398Z"
   },
   {
    "duration": 8159,
    "start_time": "2022-08-26T04:55:20.534Z"
   },
   {
    "duration": 17179,
    "start_time": "2022-08-26T04:55:36.814Z"
   },
   {
    "duration": 10528,
    "start_time": "2022-08-26T04:56:06.463Z"
   },
   {
    "duration": 2089,
    "start_time": "2022-08-26T04:58:27.074Z"
   },
   {
    "duration": 31,
    "start_time": "2022-08-26T04:58:30.142Z"
   },
   {
    "duration": 3,
    "start_time": "2022-08-26T04:58:32.194Z"
   },
   {
    "duration": 17,
    "start_time": "2022-08-26T04:58:36.522Z"
   },
   {
    "duration": 3,
    "start_time": "2022-08-26T04:58:38.982Z"
   },
   {
    "duration": 21,
    "start_time": "2022-08-26T04:58:46.634Z"
   },
   {
    "duration": 10,
    "start_time": "2022-08-26T04:58:47.307Z"
   },
   {
    "duration": 1375,
    "start_time": "2022-08-26T04:58:47.945Z"
   },
   {
    "duration": 0,
    "start_time": "2022-08-26T04:58:49.322Z"
   },
   {
    "duration": 1481,
    "start_time": "2022-08-26T04:59:54.971Z"
   },
   {
    "duration": 732,
    "start_time": "2022-08-26T04:59:58.309Z"
   },
   {
    "duration": 807,
    "start_time": "2022-08-26T05:00:03.730Z"
   },
   {
    "duration": 10,
    "start_time": "2022-08-26T05:00:05.529Z"
   },
   {
    "duration": 9136,
    "start_time": "2022-08-26T05:00:07.257Z"
   },
   {
    "duration": 19610,
    "start_time": "2022-08-26T05:00:25.776Z"
   },
   {
    "duration": 19096,
    "start_time": "2022-08-26T05:01:06.988Z"
   },
   {
    "duration": 1399,
    "start_time": "2022-08-26T05:02:35.749Z"
   },
   {
    "duration": 31,
    "start_time": "2022-08-26T05:02:38.089Z"
   },
   {
    "duration": 14,
    "start_time": "2022-08-26T05:02:43.008Z"
   },
   {
    "duration": 3,
    "start_time": "2022-08-26T05:02:45.409Z"
   },
   {
    "duration": 58,
    "start_time": "2022-08-26T05:02:50.611Z"
   },
   {
    "duration": 28,
    "start_time": "2022-08-26T05:02:51.385Z"
   },
   {
    "duration": 2472,
    "start_time": "2022-08-26T05:03:30.340Z"
   },
   {
    "duration": 1696,
    "start_time": "2022-08-26T05:03:49.577Z"
   },
   {
    "duration": 32,
    "start_time": "2022-08-26T05:03:51.276Z"
   },
   {
    "duration": 3,
    "start_time": "2022-08-26T05:03:59.263Z"
   },
   {
    "duration": 2,
    "start_time": "2022-08-26T05:04:00.537Z"
   },
   {
    "duration": 3,
    "start_time": "2022-08-26T05:04:03.182Z"
   },
   {
    "duration": 5,
    "start_time": "2022-08-26T05:04:06.564Z"
   },
   {
    "duration": 3177,
    "start_time": "2022-08-26T05:04:12.301Z"
   },
   {
    "duration": 5,
    "start_time": "2022-08-26T05:04:32.376Z"
   },
   {
    "duration": 28,
    "start_time": "2022-08-26T05:04:48.164Z"
   },
   {
    "duration": 16,
    "start_time": "2022-08-26T05:04:51.024Z"
   },
   {
    "duration": 2513,
    "start_time": "2022-08-26T05:04:52.196Z"
   },
   {
    "duration": 769,
    "start_time": "2022-08-26T05:04:57.197Z"
   },
   {
    "duration": 2589,
    "start_time": "2022-08-26T05:06:11.046Z"
   },
   {
    "duration": 1672,
    "start_time": "2022-08-26T05:06:28.035Z"
   },
   {
    "duration": 32,
    "start_time": "2022-08-26T05:06:30.695Z"
   },
   {
    "duration": 2,
    "start_time": "2022-08-26T05:06:32.322Z"
   },
   {
    "duration": 3,
    "start_time": "2022-08-26T05:06:33.282Z"
   },
   {
    "duration": 3,
    "start_time": "2022-08-26T05:06:34.351Z"
   },
   {
    "duration": 3,
    "start_time": "2022-08-26T05:06:38.072Z"
   },
   {
    "duration": 3176,
    "start_time": "2022-08-26T05:06:38.844Z"
   },
   {
    "duration": 5,
    "start_time": "2022-08-26T05:06:45.591Z"
   },
   {
    "duration": 28,
    "start_time": "2022-08-26T05:06:50.124Z"
   },
   {
    "duration": 22,
    "start_time": "2022-08-26T05:07:21.555Z"
   },
   {
    "duration": 27,
    "start_time": "2022-08-26T05:07:33.064Z"
   },
   {
    "duration": 14,
    "start_time": "2022-08-26T05:07:34.143Z"
   },
   {
    "duration": 1336,
    "start_time": "2022-08-26T05:07:34.923Z"
   },
   {
    "duration": 747,
    "start_time": "2022-08-26T05:07:37.148Z"
   },
   {
    "duration": 68,
    "start_time": "2022-08-26T05:07:42.835Z"
   },
   {
    "duration": 21,
    "start_time": "2022-08-26T05:07:43.863Z"
   },
   {
    "duration": 24508,
    "start_time": "2022-08-26T05:07:45.983Z"
   },
   {
    "duration": 25623,
    "start_time": "2022-08-26T05:08:48.763Z"
   },
   {
    "duration": 7226,
    "start_time": "2022-08-26T05:09:25.463Z"
   },
   {
    "duration": 25636,
    "start_time": "2022-08-26T05:09:57.852Z"
   },
   {
    "duration": 23696,
    "start_time": "2022-08-26T05:10:32.603Z"
   },
   {
    "duration": 23740,
    "start_time": "2022-08-26T05:11:11.344Z"
   },
   {
    "duration": 24610,
    "start_time": "2022-08-26T05:11:47.676Z"
   },
   {
    "duration": 1797,
    "start_time": "2022-08-26T05:12:44.450Z"
   },
   {
    "duration": 30,
    "start_time": "2022-08-26T05:12:47.015Z"
   },
   {
    "duration": 3,
    "start_time": "2022-08-26T05:12:50.803Z"
   },
   {
    "duration": 3,
    "start_time": "2022-08-26T05:12:51.904Z"
   },
   {
    "duration": 10852,
    "start_time": "2022-08-26T05:12:57.412Z"
   },
   {
    "duration": 15,
    "start_time": "2022-08-26T05:13:14.710Z"
   },
   {
    "duration": 82,
    "start_time": "2022-08-26T05:13:18.257Z"
   },
   {
    "duration": 37,
    "start_time": "2022-08-26T05:13:19.312Z"
   },
   {
    "duration": 4036,
    "start_time": "2022-08-26T05:13:20.038Z"
   },
   {
    "duration": 2300,
    "start_time": "2022-08-26T05:13:25.198Z"
   },
   {
    "duration": 182,
    "start_time": "2022-08-26T05:13:31.891Z"
   },
   {
    "duration": 72,
    "start_time": "2022-08-26T05:13:33.170Z"
   },
   {
    "duration": 39892,
    "start_time": "2022-08-26T05:13:37.098Z"
   },
   {
    "duration": 46543,
    "start_time": "2022-08-26T05:14:30.549Z"
   },
   {
    "duration": 2160,
    "start_time": "2022-08-26T05:16:24.089Z"
   },
   {
    "duration": 1598,
    "start_time": "2022-08-26T05:16:26.619Z"
   },
   {
    "duration": 10,
    "start_time": "2022-08-26T05:16:28.220Z"
   },
   {
    "duration": 237,
    "start_time": "2022-08-26T05:16:32.985Z"
   },
   {
    "duration": 7,
    "start_time": "2022-08-26T05:16:36.705Z"
   },
   {
    "duration": 120,
    "start_time": "2022-08-26T05:16:39.203Z"
   },
   {
    "duration": 4,
    "start_time": "2022-08-26T05:16:47.453Z"
   },
   {
    "duration": 4,
    "start_time": "2022-08-26T05:16:49.365Z"
   },
   {
    "duration": 3,
    "start_time": "2022-08-26T05:16:51.193Z"
   },
   {
    "duration": 2,
    "start_time": "2022-08-26T05:17:21.064Z"
   },
   {
    "duration": 2,
    "start_time": "2022-08-26T05:17:22.953Z"
   },
   {
    "duration": 4,
    "start_time": "2022-08-26T05:17:25.364Z"
   },
   {
    "duration": 10697,
    "start_time": "2022-08-26T05:17:29.725Z"
   },
   {
    "duration": 3,
    "start_time": "2022-08-26T05:17:52.452Z"
   },
   {
    "duration": 81,
    "start_time": "2022-08-26T05:17:56.665Z"
   },
   {
    "duration": 36,
    "start_time": "2022-08-26T05:17:57.465Z"
   },
   {
    "duration": 4357,
    "start_time": "2022-08-26T05:17:58.162Z"
   },
   {
    "duration": 2513,
    "start_time": "2022-08-26T05:18:05.428Z"
   },
   {
    "duration": 191,
    "start_time": "2022-08-26T05:18:16.037Z"
   },
   {
    "duration": 61,
    "start_time": "2022-08-26T05:18:17.023Z"
   },
   {
    "duration": 650746,
    "start_time": "2022-08-26T05:18:24.154Z"
   },
   {
    "duration": 15,
    "start_time": "2022-08-26T05:30:45.868Z"
   },
   {
    "duration": 1991737,
    "start_time": "2022-08-26T05:30:58.776Z"
   },
   {
    "duration": 169,
    "start_time": "2022-08-26T06:07:36.619Z"
   },
   {
    "duration": 19,
    "start_time": "2022-08-26T06:07:44.364Z"
   }
  ],
  "kernelspec": {
   "display_name": "Python 3 (ipykernel)",
   "language": "python",
   "name": "python3"
  },
  "language_info": {
   "codemirror_mode": {
    "name": "ipython",
    "version": 3
   },
   "file_extension": ".py",
   "mimetype": "text/x-python",
   "name": "python",
   "nbconvert_exporter": "python",
   "pygments_lexer": "ipython3",
   "version": "3.9.5"
  },
  "toc": {
   "base_numbering": 1,
   "nav_menu": {},
   "number_sections": true,
   "sideBar": true,
   "skip_h1_title": true,
   "title_cell": "Содержание",
   "title_sidebar": "Contents",
   "toc_cell": true,
   "toc_position": {
    "height": "calc(100% - 180px)",
    "left": "10px",
    "top": "150px",
    "width": "302.375px"
   },
   "toc_section_display": true,
   "toc_window_display": true
  }
 },
 "nbformat": 4,
 "nbformat_minor": 2
}
