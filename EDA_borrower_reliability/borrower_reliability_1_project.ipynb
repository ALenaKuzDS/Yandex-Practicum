{
 "cells": [
  {
   "cell_type": "markdown",
   "id": "011f65d0",
   "metadata": {},
   "source": [
    "# Исследование надежности заемщиков."
   ]
  },
  {
   "cell_type": "markdown",
   "id": "9da069cd",
   "metadata": {},
   "source": [
    "Проект: Исследование надёжности заёмщиков\n",
    "Заказчик — кредитный отдел банка. Нужно разобраться, влияет ли семейное положение и количество детей клиента на факт погашения кредита в срок. Входные данные от банка — статистика о платёжеспособности клиентов.\n",
    "Результаты исследования будут учтены при построении модели кредитного скоринга — специальной системы, которая оценивает способность потенциального заёмщика вернуть кредит банку."
   ]
  },
  {
   "cell_type": "markdown",
   "id": "6d915263",
   "metadata": {},
   "source": [
    "### Шаг 1. Обзор данных"
   ]
  },
  {
   "cell_type": "markdown",
   "id": "67645c94",
   "metadata": {},
   "source": [
    "Открываем таблицу и выводим информацию о получееном файле на экран."
   ]
  },
  {
   "cell_type": "code",
   "execution_count": 1,
   "id": "c08d4d79",
   "metadata": {},
   "outputs": [],
   "source": [
    "import pandas as pd"
   ]
  },
  {
   "cell_type": "code",
   "execution_count": 2,
   "id": "90bbc24f",
   "metadata": {
    "scrolled": false
   },
   "outputs": [
    {
     "name": "stdout",
     "output_type": "stream",
     "text": [
      "<class 'pandas.core.frame.DataFrame'>\n",
      "RangeIndex: 21525 entries, 0 to 21524\n",
      "Data columns (total 12 columns):\n",
      " #   Column            Non-Null Count  Dtype  \n",
      "---  ------            --------------  -----  \n",
      " 0   children          21525 non-null  int64  \n",
      " 1   days_employed     19351 non-null  float64\n",
      " 2   dob_years         21525 non-null  int64  \n",
      " 3   education         21525 non-null  object \n",
      " 4   education_id      21525 non-null  int64  \n",
      " 5   family_status     21525 non-null  object \n",
      " 6   family_status_id  21525 non-null  int64  \n",
      " 7   gender            21525 non-null  object \n",
      " 8   income_type       21525 non-null  object \n",
      " 9   debt              21525 non-null  int64  \n",
      " 10  total_income      19351 non-null  float64\n",
      " 11  purpose           21525 non-null  object \n",
      "dtypes: float64(2), int64(5), object(5)\n",
      "memory usage: 2.0+ MB\n"
     ]
    }
   ],
   "source": [
    "data = pd.read_csv('/datasets/data.csv')\n",
    "data.info()"
   ]
  },
  {
   "cell_type": "markdown",
   "id": "2a46ba18",
   "metadata": {},
   "source": [
    "Выводим часть таблицы для изучения полученной информации."
   ]
  },
  {
   "cell_type": "code",
   "execution_count": 3,
   "id": "aadbf55b",
   "metadata": {
    "scrolled": true
   },
   "outputs": [
    {
     "data": {
      "text/html": [
       "<div>\n",
       "<style scoped>\n",
       "    .dataframe tbody tr th:only-of-type {\n",
       "        vertical-align: middle;\n",
       "    }\n",
       "\n",
       "    .dataframe tbody tr th {\n",
       "        vertical-align: top;\n",
       "    }\n",
       "\n",
       "    .dataframe thead th {\n",
       "        text-align: right;\n",
       "    }\n",
       "</style>\n",
       "<table border=\"1\" class=\"dataframe\">\n",
       "  <thead>\n",
       "    <tr style=\"text-align: right;\">\n",
       "      <th></th>\n",
       "      <th>children</th>\n",
       "      <th>days_employed</th>\n",
       "      <th>dob_years</th>\n",
       "      <th>education</th>\n",
       "      <th>education_id</th>\n",
       "      <th>family_status</th>\n",
       "      <th>family_status_id</th>\n",
       "      <th>gender</th>\n",
       "      <th>income_type</th>\n",
       "      <th>debt</th>\n",
       "      <th>total_income</th>\n",
       "      <th>purpose</th>\n",
       "    </tr>\n",
       "  </thead>\n",
       "  <tbody>\n",
       "    <tr>\n",
       "      <th>0</th>\n",
       "      <td>1</td>\n",
       "      <td>-8437.673028</td>\n",
       "      <td>42</td>\n",
       "      <td>высшее</td>\n",
       "      <td>0</td>\n",
       "      <td>женат / замужем</td>\n",
       "      <td>0</td>\n",
       "      <td>F</td>\n",
       "      <td>сотрудник</td>\n",
       "      <td>0</td>\n",
       "      <td>253875.639453</td>\n",
       "      <td>покупка жилья</td>\n",
       "    </tr>\n",
       "    <tr>\n",
       "      <th>1</th>\n",
       "      <td>1</td>\n",
       "      <td>-4024.803754</td>\n",
       "      <td>36</td>\n",
       "      <td>среднее</td>\n",
       "      <td>1</td>\n",
       "      <td>женат / замужем</td>\n",
       "      <td>0</td>\n",
       "      <td>F</td>\n",
       "      <td>сотрудник</td>\n",
       "      <td>0</td>\n",
       "      <td>112080.014102</td>\n",
       "      <td>приобретение автомобиля</td>\n",
       "    </tr>\n",
       "    <tr>\n",
       "      <th>2</th>\n",
       "      <td>0</td>\n",
       "      <td>-5623.422610</td>\n",
       "      <td>33</td>\n",
       "      <td>Среднее</td>\n",
       "      <td>1</td>\n",
       "      <td>женат / замужем</td>\n",
       "      <td>0</td>\n",
       "      <td>M</td>\n",
       "      <td>сотрудник</td>\n",
       "      <td>0</td>\n",
       "      <td>145885.952297</td>\n",
       "      <td>покупка жилья</td>\n",
       "    </tr>\n",
       "    <tr>\n",
       "      <th>3</th>\n",
       "      <td>3</td>\n",
       "      <td>-4124.747207</td>\n",
       "      <td>32</td>\n",
       "      <td>среднее</td>\n",
       "      <td>1</td>\n",
       "      <td>женат / замужем</td>\n",
       "      <td>0</td>\n",
       "      <td>M</td>\n",
       "      <td>сотрудник</td>\n",
       "      <td>0</td>\n",
       "      <td>267628.550329</td>\n",
       "      <td>дополнительное образование</td>\n",
       "    </tr>\n",
       "    <tr>\n",
       "      <th>4</th>\n",
       "      <td>0</td>\n",
       "      <td>340266.072047</td>\n",
       "      <td>53</td>\n",
       "      <td>среднее</td>\n",
       "      <td>1</td>\n",
       "      <td>гражданский брак</td>\n",
       "      <td>1</td>\n",
       "      <td>F</td>\n",
       "      <td>пенсионер</td>\n",
       "      <td>0</td>\n",
       "      <td>158616.077870</td>\n",
       "      <td>сыграть свадьбу</td>\n",
       "    </tr>\n",
       "    <tr>\n",
       "      <th>5</th>\n",
       "      <td>0</td>\n",
       "      <td>-926.185831</td>\n",
       "      <td>27</td>\n",
       "      <td>высшее</td>\n",
       "      <td>0</td>\n",
       "      <td>гражданский брак</td>\n",
       "      <td>1</td>\n",
       "      <td>M</td>\n",
       "      <td>компаньон</td>\n",
       "      <td>0</td>\n",
       "      <td>255763.565419</td>\n",
       "      <td>покупка жилья</td>\n",
       "    </tr>\n",
       "    <tr>\n",
       "      <th>6</th>\n",
       "      <td>0</td>\n",
       "      <td>-2879.202052</td>\n",
       "      <td>43</td>\n",
       "      <td>высшее</td>\n",
       "      <td>0</td>\n",
       "      <td>женат / замужем</td>\n",
       "      <td>0</td>\n",
       "      <td>F</td>\n",
       "      <td>компаньон</td>\n",
       "      <td>0</td>\n",
       "      <td>240525.971920</td>\n",
       "      <td>операции с жильем</td>\n",
       "    </tr>\n",
       "    <tr>\n",
       "      <th>7</th>\n",
       "      <td>0</td>\n",
       "      <td>-152.779569</td>\n",
       "      <td>50</td>\n",
       "      <td>СРЕДНЕЕ</td>\n",
       "      <td>1</td>\n",
       "      <td>женат / замужем</td>\n",
       "      <td>0</td>\n",
       "      <td>M</td>\n",
       "      <td>сотрудник</td>\n",
       "      <td>0</td>\n",
       "      <td>135823.934197</td>\n",
       "      <td>образование</td>\n",
       "    </tr>\n",
       "    <tr>\n",
       "      <th>8</th>\n",
       "      <td>2</td>\n",
       "      <td>-6929.865299</td>\n",
       "      <td>35</td>\n",
       "      <td>ВЫСШЕЕ</td>\n",
       "      <td>0</td>\n",
       "      <td>гражданский брак</td>\n",
       "      <td>1</td>\n",
       "      <td>F</td>\n",
       "      <td>сотрудник</td>\n",
       "      <td>0</td>\n",
       "      <td>95856.832424</td>\n",
       "      <td>на проведение свадьбы</td>\n",
       "    </tr>\n",
       "    <tr>\n",
       "      <th>9</th>\n",
       "      <td>0</td>\n",
       "      <td>-2188.756445</td>\n",
       "      <td>41</td>\n",
       "      <td>среднее</td>\n",
       "      <td>1</td>\n",
       "      <td>женат / замужем</td>\n",
       "      <td>0</td>\n",
       "      <td>M</td>\n",
       "      <td>сотрудник</td>\n",
       "      <td>0</td>\n",
       "      <td>144425.938277</td>\n",
       "      <td>покупка жилья для семьи</td>\n",
       "    </tr>\n",
       "    <tr>\n",
       "      <th>10</th>\n",
       "      <td>2</td>\n",
       "      <td>-4171.483647</td>\n",
       "      <td>36</td>\n",
       "      <td>высшее</td>\n",
       "      <td>0</td>\n",
       "      <td>женат / замужем</td>\n",
       "      <td>0</td>\n",
       "      <td>M</td>\n",
       "      <td>компаньон</td>\n",
       "      <td>0</td>\n",
       "      <td>113943.491460</td>\n",
       "      <td>покупка недвижимости</td>\n",
       "    </tr>\n",
       "    <tr>\n",
       "      <th>11</th>\n",
       "      <td>0</td>\n",
       "      <td>-792.701887</td>\n",
       "      <td>40</td>\n",
       "      <td>среднее</td>\n",
       "      <td>1</td>\n",
       "      <td>женат / замужем</td>\n",
       "      <td>0</td>\n",
       "      <td>F</td>\n",
       "      <td>сотрудник</td>\n",
       "      <td>0</td>\n",
       "      <td>77069.234271</td>\n",
       "      <td>покупка коммерческой недвижимости</td>\n",
       "    </tr>\n",
       "    <tr>\n",
       "      <th>12</th>\n",
       "      <td>0</td>\n",
       "      <td>NaN</td>\n",
       "      <td>65</td>\n",
       "      <td>среднее</td>\n",
       "      <td>1</td>\n",
       "      <td>гражданский брак</td>\n",
       "      <td>1</td>\n",
       "      <td>M</td>\n",
       "      <td>пенсионер</td>\n",
       "      <td>0</td>\n",
       "      <td>NaN</td>\n",
       "      <td>сыграть свадьбу</td>\n",
       "    </tr>\n",
       "    <tr>\n",
       "      <th>13</th>\n",
       "      <td>0</td>\n",
       "      <td>-1846.641941</td>\n",
       "      <td>54</td>\n",
       "      <td>неоконченное высшее</td>\n",
       "      <td>2</td>\n",
       "      <td>женат / замужем</td>\n",
       "      <td>0</td>\n",
       "      <td>F</td>\n",
       "      <td>сотрудник</td>\n",
       "      <td>0</td>\n",
       "      <td>130458.228857</td>\n",
       "      <td>приобретение автомобиля</td>\n",
       "    </tr>\n",
       "    <tr>\n",
       "      <th>14</th>\n",
       "      <td>0</td>\n",
       "      <td>-1844.956182</td>\n",
       "      <td>56</td>\n",
       "      <td>высшее</td>\n",
       "      <td>0</td>\n",
       "      <td>гражданский брак</td>\n",
       "      <td>1</td>\n",
       "      <td>F</td>\n",
       "      <td>компаньон</td>\n",
       "      <td>1</td>\n",
       "      <td>165127.911772</td>\n",
       "      <td>покупка жилой недвижимости</td>\n",
       "    </tr>\n",
       "  </tbody>\n",
       "</table>\n",
       "</div>"
      ],
      "text/plain": [
       "    children  days_employed  dob_years            education  education_id  \\\n",
       "0          1   -8437.673028         42               высшее             0   \n",
       "1          1   -4024.803754         36              среднее             1   \n",
       "2          0   -5623.422610         33              Среднее             1   \n",
       "3          3   -4124.747207         32              среднее             1   \n",
       "4          0  340266.072047         53              среднее             1   \n",
       "5          0    -926.185831         27               высшее             0   \n",
       "6          0   -2879.202052         43               высшее             0   \n",
       "7          0    -152.779569         50              СРЕДНЕЕ             1   \n",
       "8          2   -6929.865299         35               ВЫСШЕЕ             0   \n",
       "9          0   -2188.756445         41              среднее             1   \n",
       "10         2   -4171.483647         36               высшее             0   \n",
       "11         0    -792.701887         40              среднее             1   \n",
       "12         0            NaN         65              среднее             1   \n",
       "13         0   -1846.641941         54  неоконченное высшее             2   \n",
       "14         0   -1844.956182         56               высшее             0   \n",
       "\n",
       "       family_status  family_status_id gender income_type  debt  \\\n",
       "0    женат / замужем                 0      F   сотрудник     0   \n",
       "1    женат / замужем                 0      F   сотрудник     0   \n",
       "2    женат / замужем                 0      M   сотрудник     0   \n",
       "3    женат / замужем                 0      M   сотрудник     0   \n",
       "4   гражданский брак                 1      F   пенсионер     0   \n",
       "5   гражданский брак                 1      M   компаньон     0   \n",
       "6    женат / замужем                 0      F   компаньон     0   \n",
       "7    женат / замужем                 0      M   сотрудник     0   \n",
       "8   гражданский брак                 1      F   сотрудник     0   \n",
       "9    женат / замужем                 0      M   сотрудник     0   \n",
       "10   женат / замужем                 0      M   компаньон     0   \n",
       "11   женат / замужем                 0      F   сотрудник     0   \n",
       "12  гражданский брак                 1      M   пенсионер     0   \n",
       "13   женат / замужем                 0      F   сотрудник     0   \n",
       "14  гражданский брак                 1      F   компаньон     1   \n",
       "\n",
       "     total_income                            purpose  \n",
       "0   253875.639453                      покупка жилья  \n",
       "1   112080.014102            приобретение автомобиля  \n",
       "2   145885.952297                      покупка жилья  \n",
       "3   267628.550329         дополнительное образование  \n",
       "4   158616.077870                    сыграть свадьбу  \n",
       "5   255763.565419                      покупка жилья  \n",
       "6   240525.971920                  операции с жильем  \n",
       "7   135823.934197                        образование  \n",
       "8    95856.832424              на проведение свадьбы  \n",
       "9   144425.938277            покупка жилья для семьи  \n",
       "10  113943.491460               покупка недвижимости  \n",
       "11   77069.234271  покупка коммерческой недвижимости  \n",
       "12            NaN                    сыграть свадьбу  \n",
       "13  130458.228857            приобретение автомобиля  \n",
       "14  165127.911772         покупка жилой недвижимости  "
      ]
     },
     "execution_count": 3,
     "metadata": {},
     "output_type": "execute_result"
    }
   ],
   "source": [
    "data.head(15)"
   ]
  },
  {
   "cell_type": "markdown",
   "id": "9848bac0",
   "metadata": {},
   "source": [
    "###  Шаг 2. Заполнение пропусков"
   ]
  },
  {
   "cell_type": "markdown",
   "id": "3f4b59c3",
   "metadata": {},
   "source": [
    "Поиск пропущенных значений, нашли пропуски в 2х столбцах days_employed и total_income."
   ]
  },
  {
   "cell_type": "markdown",
   "id": "e562ab82",
   "metadata": {},
   "source": [
    "В столбцах days_employed и total_income нашли 2174 пропусков. Всего 21525 записей. Что составляет 10% от всех записей."
   ]
  },
  {
   "cell_type": "markdown",
   "id": "c44e14d3",
   "metadata": {},
   "source": [
    "Колличество значений с пропусками в столбцах идентично. Оба столбца в формате float64. \n",
    "Возможно, допущены тех. ошибки при выгрузке."
   ]
  },
  {
   "cell_type": "markdown",
   "id": "86498358",
   "metadata": {},
   "source": [
    "Возможно, кто-то поленился или постестнялся указать, посчитав пункты необязательными."
   ]
  },
  {
   "cell_type": "code",
   "execution_count": 4,
   "id": "95941b36",
   "metadata": {},
   "outputs": [
    {
     "name": "stdout",
     "output_type": "stream",
     "text": [
      "children               0\n",
      "days_employed       2174\n",
      "dob_years              0\n",
      "education              0\n",
      "education_id           0\n",
      "family_status          0\n",
      "family_status_id       0\n",
      "gender                 0\n",
      "income_type            0\n",
      "debt                   0\n",
      "total_income        2174\n",
      "purpose                0\n",
      "dtype: int64\n"
     ]
    }
   ],
   "source": [
    "print(data.isna().sum())"
   ]
  },
  {
   "cell_type": "markdown",
   "id": "9404d53b",
   "metadata": {},
   "source": [
    "Заменяем пропуски в столбцах соответствующими медианными значениями."
   ]
  },
  {
   "cell_type": "markdown",
   "id": "cc87974d",
   "metadata": {},
   "source": [
    "Так как в столбцах есть и отрицательные и положительные значения, использование среднего значения будет некорректно."
   ]
  },
  {
   "cell_type": "markdown",
   "id": "6b0db9e7",
   "metadata": {},
   "source": [
    "Лучшим в такой ситуации будет использование медианного значения. "
   ]
  },
  {
   "cell_type": "markdown",
   "id": "93748b7c",
   "metadata": {},
   "source": [
    "Находим медиану по столбцу с пропусками days_employed - трудовой стаж"
   ]
  },
  {
   "cell_type": "code",
   "execution_count": 5,
   "id": "4b464456",
   "metadata": {},
   "outputs": [
    {
     "name": "stdout",
     "output_type": "stream",
     "text": [
      "Медиана по столбцу с пропусками days_employed -1203.369528770489\n"
     ]
    }
   ],
   "source": [
    "days_employed_median=data['days_employed'].median()\n",
    "print('Медиана по столбцу с пропусками days_employed',days_employed_median)\n",
    "total_income_median=data['total_income'].median()"
   ]
  },
  {
   "cell_type": "markdown",
   "id": "97243f1d",
   "metadata": {},
   "source": [
    "Находим медиану по столбцу с пропусками total_income - общий доход"
   ]
  },
  {
   "cell_type": "code",
   "execution_count": 6,
   "id": "59124f7c",
   "metadata": {},
   "outputs": [
    {
     "name": "stdout",
     "output_type": "stream",
     "text": [
      "Медиана по столбцу с пропусками total_income 145017.93753253992\n"
     ]
    }
   ],
   "source": [
    "print('Медиана по столбцу с пропусками total_income',total_income_median)\n",
    "data['days_employed']=data['days_employed'].fillna(days_employed_median)\n",
    "data['total_income']=data['total_income'].fillna(total_income_median)"
   ]
  },
  {
   "cell_type": "markdown",
   "id": "d86f6153",
   "metadata": {},
   "source": [
    "Проверяем, остались ли пропуски."
   ]
  },
  {
   "cell_type": "code",
   "execution_count": 7,
   "id": "d08c3cd5",
   "metadata": {},
   "outputs": [
    {
     "data": {
      "text/plain": [
       "children            0\n",
       "days_employed       0\n",
       "dob_years           0\n",
       "education           0\n",
       "education_id        0\n",
       "family_status       0\n",
       "family_status_id    0\n",
       "gender              0\n",
       "income_type         0\n",
       "debt                0\n",
       "total_income        0\n",
       "purpose             0\n",
       "dtype: int64"
      ]
     },
     "execution_count": 7,
     "metadata": {},
     "output_type": "execute_result"
    }
   ],
   "source": [
    "data.isna().sum()"
   ]
  },
  {
   "cell_type": "markdown",
   "id": "ba512749",
   "metadata": {},
   "source": [
    "Пропусков в данных не осталось. "
   ]
  },
  {
   "cell_type": "markdown",
   "id": "4a3ad06e",
   "metadata": {},
   "source": [
    "### Шаг 2.2 Проверка данных на аномалии и исправления."
   ]
  },
  {
   "cell_type": "markdown",
   "id": "5880909a",
   "metadata": {},
   "source": [
    "В данных столбцах есть числа. Выведем минимальные значения данных столбцв, чтобы исключить отрицательные значения в данных.\n",
    "children, days_employed, dob_years, education_id, family_status_id, debt, total_income. Создадим отдельный список количесвенных параметров."
   ]
  },
  {
   "cell_type": "code",
   "execution_count": 8,
   "id": "569b4d36",
   "metadata": {},
   "outputs": [],
   "source": [
    "column_count=['children', 'days_employed', 'dob_years', 'education_id', 'family_status_id', 'debt', 'total_income']"
   ]
  },
  {
   "cell_type": "code",
   "execution_count": 9,
   "id": "18a5a8b3",
   "metadata": {},
   "outputs": [
    {
     "name": "stdout",
     "output_type": "stream",
     "text": [
      "Минимальное значение в столбце children -1\n",
      "Минимальное значение в столбце days_employed -18388.949900568383\n",
      "Минимальное значение в столбце dob_years 0\n",
      "Минимальное значение в столбце education_id 0\n",
      "Минимальное значение в столбце family_status_id 0\n",
      "Минимальное значение в столбце debt 0\n",
      "Минимальное значение в столбце total_income 20667.26379327158\n"
     ]
    }
   ],
   "source": [
    "for column in data[column_count]:\n",
    "    print(f'Минимальное значение в столбце {column}',data[column].min())"
   ]
  },
  {
   "cell_type": "markdown",
   "id": "aba111a8",
   "metadata": {},
   "source": [
    "Считаем кол-во отрицательных значений в столбце days_employed. "
   ]
  },
  {
   "cell_type": "code",
   "execution_count": 10,
   "id": "57b969c6",
   "metadata": {
    "scrolled": false
   },
   "outputs": [
    {
     "data": {
      "text/plain": [
       "array([-8437.67302776, -4024.80375385, -5623.42261023, ...,\n",
       "       -2113.3468877 , -3112.4817052 , -1984.50758853])"
      ]
     },
     "execution_count": 10,
     "metadata": {},
     "output_type": "execute_result"
    }
   ],
   "source": [
    "data['days_employed'].unique()"
   ]
  },
  {
   "cell_type": "markdown",
   "id": "213929bd",
   "metadata": {},
   "source": [
    "Считаем кол-во отрицательных значений в столбце days_employed. "
   ]
  },
  {
   "cell_type": "code",
   "execution_count": 11,
   "id": "bdee55fc",
   "metadata": {},
   "outputs": [
    {
     "data": {
      "text/plain": [
       "18080"
      ]
     },
     "execution_count": 11,
     "metadata": {},
     "output_type": "execute_result"
    }
   ],
   "source": [
    "data.loc[data['days_employed']<0]['days_employed'].count()"
   ]
  },
  {
   "cell_type": "markdown",
   "id": "31de4927",
   "metadata": {},
   "source": [
    "Смотрим значения в столбце children и их колличество."
   ]
  },
  {
   "cell_type": "code",
   "execution_count": 12,
   "id": "ca0b28b9",
   "metadata": {
    "scrolled": false
   },
   "outputs": [
    {
     "data": {
      "text/plain": [
       " 0     14149\n",
       " 1      4818\n",
       " 2      2055\n",
       " 3       330\n",
       " 20       76\n",
       "-1        47\n",
       " 4        41\n",
       " 5         9\n",
       "Name: children, dtype: int64"
      ]
     },
     "execution_count": 12,
     "metadata": {},
     "output_type": "execute_result"
    }
   ],
   "source": [
    "data['children'].value_counts()"
   ]
  },
  {
   "cell_type": "markdown",
   "id": "d47d6ab3",
   "metadata": {},
   "source": [
    "В столбце children 76 строк со значением 20. Это явна опечатка, вероятно, что детей 2,а не 20. Заменим 20 на 2. И проверим значения в столбце children. "
   ]
  },
  {
   "cell_type": "code",
   "execution_count": 13,
   "id": "96da50f2",
   "metadata": {},
   "outputs": [
    {
     "data": {
      "text/plain": [
       " 0    14149\n",
       " 1     4818\n",
       " 2     2131\n",
       " 3      330\n",
       "-1       47\n",
       " 4       41\n",
       " 5        9\n",
       "Name: children, dtype: int64"
      ]
     },
     "execution_count": 13,
     "metadata": {},
     "output_type": "execute_result"
    }
   ],
   "source": [
    "data.loc[data['children']==20] = 2\n",
    "data['children'].value_counts()"
   ]
  },
  {
   "cell_type": "markdown",
   "id": "d140e81f",
   "metadata": {},
   "source": [
    "Все отрицательные значения в столбцах days_employed и children заменим на положительные. Проверим как сработала замена, узнаем минимальные значения в соответствующих столбцах."
   ]
  },
  {
   "cell_type": "code",
   "execution_count": 14,
   "id": "566c1069",
   "metadata": {
    "scrolled": true
   },
   "outputs": [
    {
     "name": "stdout",
     "output_type": "stream",
     "text": [
      "Минимальное значение в столбце children 0\n",
      "Минимальное значение в столбце days_employed 2.0\n"
     ]
    }
   ],
   "source": [
    "data['days_employed'] = abs(data['days_employed'])\n",
    "data['children'] = abs(data['children'])\n",
    "print('Минимальное значение в столбце children',data['children'].min())\n",
    "print('Минимальное значение в столбце days_employed',data['days_employed'].min())"
   ]
  },
  {
   "cell_type": "markdown",
   "id": "19db4adc",
   "metadata": {},
   "source": [
    "Отрицательных значений в столбцах не осталось."
   ]
  },
  {
   "cell_type": "markdown",
   "id": "68e9e342",
   "metadata": {},
   "source": [
    "### Шаг 2.3. Изменение типов данных."
   ]
  },
  {
   "cell_type": "markdown",
   "id": "16f624fb",
   "metadata": {},
   "source": [
    "Заменим вещественный тип данных в столбце total_income и days_employed на целочисленный."
   ]
  },
  {
   "cell_type": "code",
   "execution_count": 15,
   "id": "d2feeeda",
   "metadata": {},
   "outputs": [],
   "source": [
    "data['total_income'] = data['total_income'].astype('int')\n",
    "data['days_employed'] = data['days_employed'].astype('int')"
   ]
  },
  {
   "cell_type": "markdown",
   "id": "35b0dab3",
   "metadata": {},
   "source": [
    "Проверим, прошла ли замена типа."
   ]
  },
  {
   "cell_type": "code",
   "execution_count": 16,
   "id": "78d997cd",
   "metadata": {},
   "outputs": [
    {
     "name": "stdout",
     "output_type": "stream",
     "text": [
      "<class 'pandas.core.frame.DataFrame'>\n",
      "RangeIndex: 21525 entries, 0 to 21524\n",
      "Data columns (total 12 columns):\n",
      " #   Column            Non-Null Count  Dtype \n",
      "---  ------            --------------  ----- \n",
      " 0   children          21525 non-null  int64 \n",
      " 1   days_employed     21525 non-null  int64 \n",
      " 2   dob_years         21525 non-null  int64 \n",
      " 3   education         21525 non-null  object\n",
      " 4   education_id      21525 non-null  int64 \n",
      " 5   family_status     21525 non-null  object\n",
      " 6   family_status_id  21525 non-null  int64 \n",
      " 7   gender            21525 non-null  object\n",
      " 8   income_type       21525 non-null  object\n",
      " 9   debt              21525 non-null  int64 \n",
      " 10  total_income      21525 non-null  int64 \n",
      " 11  purpose           21525 non-null  object\n",
      "dtypes: int64(7), object(5)\n",
      "memory usage: 2.0+ MB\n"
     ]
    }
   ],
   "source": [
    "data.info()"
   ]
  },
  {
   "cell_type": "markdown",
   "id": "eb550d6b",
   "metadata": {},
   "source": [
    "### Шаг 2.4. Удаление дубликатов."
   ]
  },
  {
   "cell_type": "markdown",
   "id": "e7285430",
   "metadata": {},
   "source": [
    "Проверим, есть ли в данных полные дубликаты. "
   ]
  },
  {
   "cell_type": "code",
   "execution_count": 17,
   "id": "5d98d93d",
   "metadata": {
    "scrolled": true
   },
   "outputs": [
    {
     "data": {
      "text/plain": [
       "129"
      ]
     },
     "execution_count": 17,
     "metadata": {},
     "output_type": "execute_result"
    }
   ],
   "source": [
    "data.duplicated().sum()"
   ]
  },
  {
   "cell_type": "markdown",
   "id": "baabd255",
   "metadata": {},
   "source": [
    "Удаляем дубликаты. Проверяем их колличество после удаления. "
   ]
  },
  {
   "cell_type": "code",
   "execution_count": 18,
   "id": "e8611528",
   "metadata": {},
   "outputs": [
    {
     "data": {
      "text/plain": [
       "0"
      ]
     },
     "execution_count": 18,
     "metadata": {},
     "output_type": "execute_result"
    }
   ],
   "source": [
    "data=data.drop_duplicates().reset_index(drop=True)\n",
    "data.duplicated().sum()"
   ]
  },
  {
   "cell_type": "markdown",
   "id": "c738548b",
   "metadata": {},
   "source": [
    "Проверяем наличие неявных дубликатов. В столбцах со строками: education,family_status, gender, income_type, purpose.            "
   ]
  },
  {
   "cell_type": "markdown",
   "id": "734902e3",
   "metadata": {},
   "source": [
    "В столбце education."
   ]
  },
  {
   "cell_type": "code",
   "execution_count": 19,
   "id": "82f63afa",
   "metadata": {},
   "outputs": [
    {
     "data": {
      "text/plain": [
       "среднее                13653\n",
       "высшее                  4698\n",
       "СРЕДНЕЕ                  770\n",
       "Среднее                  705\n",
       "неоконченное высшее      666\n",
       "ВЫСШЕЕ                   271\n",
       "Высшее                   268\n",
       "начальное                250\n",
       "Неоконченное высшее       47\n",
       "НЕОКОНЧЕННОЕ ВЫСШЕЕ       29\n",
       "НАЧАЛЬНОЕ                 17\n",
       "Начальное                 15\n",
       "ученая степень             4\n",
       "2                          1\n",
       "Ученая степень             1\n",
       "УЧЕНАЯ СТЕПЕНЬ             1\n",
       "Name: education, dtype: int64"
      ]
     },
     "execution_count": 19,
     "metadata": {},
     "output_type": "execute_result"
    }
   ],
   "source": [
    "data['education'].value_counts()"
   ]
  },
  {
   "cell_type": "markdown",
   "id": "539f29c8",
   "metadata": {},
   "source": [
    "Меняем значения, сводя все к нижнему регистру. И заново считаем уникальные значения в столбце education."
   ]
  },
  {
   "cell_type": "code",
   "execution_count": 20,
   "id": "4f2b44d7",
   "metadata": {
    "scrolled": true
   },
   "outputs": [
    {
     "data": {
      "text/plain": [
       "среднее                15128\n",
       "высшее                  5237\n",
       "неоконченное высшее      742\n",
       "начальное                282\n",
       "ученая степень             6\n",
       "Name: education, dtype: int64"
      ]
     },
     "execution_count": 20,
     "metadata": {},
     "output_type": "execute_result"
    }
   ],
   "source": [
    "data['education']=data['education'].str.lower()\n",
    "data['education'].value_counts()"
   ]
  },
  {
   "cell_type": "markdown",
   "id": "a2917477",
   "metadata": {},
   "source": [
    "Проверяем уникальные значения в столбце family_status."
   ]
  },
  {
   "cell_type": "code",
   "execution_count": 21,
   "id": "049926dd",
   "metadata": {
    "scrolled": true
   },
   "outputs": [
    {
     "data": {
      "text/plain": [
       "женат / замужем          12295\n",
       "гражданский брак          4151\n",
       "Не женат / не замужем     2801\n",
       "в разводе                 1193\n",
       "вдовец / вдова             955\n",
       "2                            1\n",
       "Name: family_status, dtype: int64"
      ]
     },
     "execution_count": 21,
     "metadata": {},
     "output_type": "execute_result"
    }
   ],
   "source": [
    "data['family_status'].value_counts()"
   ]
  },
  {
   "cell_type": "markdown",
   "id": "17ea8be5",
   "metadata": {},
   "source": [
    "Дублей нет. Но сведем все к нижнему регистру. И проверим выводом кол-ва уникальных значений."
   ]
  },
  {
   "cell_type": "code",
   "execution_count": 22,
   "id": "9802ce71",
   "metadata": {
    "scrolled": false
   },
   "outputs": [
    {
     "data": {
      "text/plain": [
       "женат / замужем          12295\n",
       "гражданский брак          4151\n",
       "не женат / не замужем     2801\n",
       "в разводе                 1193\n",
       "вдовец / вдова             955\n",
       "Name: family_status, dtype: int64"
      ]
     },
     "execution_count": 22,
     "metadata": {},
     "output_type": "execute_result"
    }
   ],
   "source": [
    "data['family_status']=data['family_status'].str.lower()\n",
    "data['family_status'].value_counts()"
   ]
  },
  {
   "cell_type": "markdown",
   "id": "9475ef18",
   "metadata": {},
   "source": [
    "Проверяем уникальные значения в столбце gender."
   ]
  },
  {
   "cell_type": "code",
   "execution_count": 23,
   "id": "e152646e",
   "metadata": {},
   "outputs": [
    {
     "data": {
      "text/plain": [
       "F      14142\n",
       "M       7252\n",
       "2          1\n",
       "XNA        1\n",
       "Name: gender, dtype: int64"
      ]
     },
     "execution_count": 23,
     "metadata": {},
     "output_type": "execute_result"
    }
   ],
   "source": [
    "data['gender'].value_counts()"
   ]
  },
  {
   "cell_type": "markdown",
   "id": "a9fcfee8",
   "metadata": {},
   "source": [
    "Выведем на экран строку таблицы с указанным значением XNA в столбце gender."
   ]
  },
  {
   "cell_type": "code",
   "execution_count": 24,
   "id": "52cfdfdf",
   "metadata": {
    "scrolled": true
   },
   "outputs": [
    {
     "data": {
      "text/html": [
       "<div>\n",
       "<style scoped>\n",
       "    .dataframe tbody tr th:only-of-type {\n",
       "        vertical-align: middle;\n",
       "    }\n",
       "\n",
       "    .dataframe tbody tr th {\n",
       "        vertical-align: top;\n",
       "    }\n",
       "\n",
       "    .dataframe thead th {\n",
       "        text-align: right;\n",
       "    }\n",
       "</style>\n",
       "<table border=\"1\" class=\"dataframe\">\n",
       "  <thead>\n",
       "    <tr style=\"text-align: right;\">\n",
       "      <th></th>\n",
       "      <th>children</th>\n",
       "      <th>days_employed</th>\n",
       "      <th>dob_years</th>\n",
       "      <th>education</th>\n",
       "      <th>education_id</th>\n",
       "      <th>family_status</th>\n",
       "      <th>family_status_id</th>\n",
       "      <th>gender</th>\n",
       "      <th>income_type</th>\n",
       "      <th>debt</th>\n",
       "      <th>total_income</th>\n",
       "      <th>purpose</th>\n",
       "    </tr>\n",
       "  </thead>\n",
       "  <tbody>\n",
       "    <tr>\n",
       "      <th>10662</th>\n",
       "      <td>0</td>\n",
       "      <td>2358</td>\n",
       "      <td>24</td>\n",
       "      <td>неоконченное высшее</td>\n",
       "      <td>2</td>\n",
       "      <td>гражданский брак</td>\n",
       "      <td>1</td>\n",
       "      <td>XNA</td>\n",
       "      <td>компаньон</td>\n",
       "      <td>0</td>\n",
       "      <td>203905</td>\n",
       "      <td>покупка недвижимости</td>\n",
       "    </tr>\n",
       "  </tbody>\n",
       "</table>\n",
       "</div>"
      ],
      "text/plain": [
       "       children  days_employed  dob_years            education  education_id  \\\n",
       "10662         0           2358         24  неоконченное высшее             2   \n",
       "\n",
       "          family_status  family_status_id gender income_type  debt  \\\n",
       "10662  гражданский брак                 1    XNA   компаньон     0   \n",
       "\n",
       "       total_income               purpose  \n",
       "10662        203905  покупка недвижимости  "
      ]
     },
     "execution_count": 24,
     "metadata": {},
     "output_type": "execute_result"
    }
   ],
   "source": [
    "data.loc[data['gender']=='XNA']"
   ]
  },
  {
   "cell_type": "markdown",
   "id": "0e4df0eb",
   "metadata": {},
   "source": [
    "По указанным данным определить пол клиента не удастся. Так как у нас лишь 1 строка с таким значением, а всего строк 21471. Удалим ее. "
   ]
  },
  {
   "cell_type": "code",
   "execution_count": 25,
   "id": "8bfd4010",
   "metadata": {},
   "outputs": [
    {
     "data": {
      "text/plain": [
       "F    14142\n",
       "M     7252\n",
       "2        1\n",
       "Name: gender, dtype: int64"
      ]
     },
     "execution_count": 25,
     "metadata": {},
     "output_type": "execute_result"
    }
   ],
   "source": [
    "data=data[data['gender']!='XNA']\n",
    "data['gender'].value_counts()"
   ]
  },
  {
   "cell_type": "markdown",
   "id": "822034c6",
   "metadata": {},
   "source": [
    "Проверяем уникальные значения в столбце income_type."
   ]
  },
  {
   "cell_type": "code",
   "execution_count": 26,
   "id": "20929691",
   "metadata": {
    "scrolled": false
   },
   "outputs": [
    {
     "data": {
      "text/plain": [
       "сотрудник          11048\n",
       "компаньон           5057\n",
       "пенсионер           3828\n",
       "госслужащий         1455\n",
       "предприниматель        2\n",
       "безработный            2\n",
       "2                      1\n",
       "студент                1\n",
       "в декрете              1\n",
       "Name: income_type, dtype: int64"
      ]
     },
     "execution_count": 26,
     "metadata": {},
     "output_type": "execute_result"
    }
   ],
   "source": [
    "data['income_type'].value_counts()"
   ]
  },
  {
   "cell_type": "code",
   "execution_count": 27,
   "id": "1e36183a",
   "metadata": {},
   "outputs": [
    {
     "data": {
      "text/html": [
       "<div>\n",
       "<style scoped>\n",
       "    .dataframe tbody tr th:only-of-type {\n",
       "        vertical-align: middle;\n",
       "    }\n",
       "\n",
       "    .dataframe tbody tr th {\n",
       "        vertical-align: top;\n",
       "    }\n",
       "\n",
       "    .dataframe thead th {\n",
       "        text-align: right;\n",
       "    }\n",
       "</style>\n",
       "<table border=\"1\" class=\"dataframe\">\n",
       "  <thead>\n",
       "    <tr style=\"text-align: right;\">\n",
       "      <th></th>\n",
       "      <th>children</th>\n",
       "      <th>days_employed</th>\n",
       "      <th>dob_years</th>\n",
       "      <th>education</th>\n",
       "      <th>education_id</th>\n",
       "      <th>family_status</th>\n",
       "      <th>family_status_id</th>\n",
       "      <th>gender</th>\n",
       "      <th>income_type</th>\n",
       "      <th>debt</th>\n",
       "      <th>total_income</th>\n",
       "      <th>purpose</th>\n",
       "    </tr>\n",
       "  </thead>\n",
       "  <tbody>\n",
       "    <tr>\n",
       "      <th>606</th>\n",
       "      <td>2</td>\n",
       "      <td>2</td>\n",
       "      <td>2</td>\n",
       "      <td>NaN</td>\n",
       "      <td>2</td>\n",
       "      <td>NaN</td>\n",
       "      <td>2</td>\n",
       "      <td>2</td>\n",
       "      <td>2</td>\n",
       "      <td>2</td>\n",
       "      <td>2</td>\n",
       "      <td>2</td>\n",
       "    </tr>\n",
       "  </tbody>\n",
       "</table>\n",
       "</div>"
      ],
      "text/plain": [
       "     children  days_employed  dob_years education  education_id family_status  \\\n",
       "606         2              2          2       NaN             2           NaN   \n",
       "\n",
       "     family_status_id gender income_type  debt  total_income purpose  \n",
       "606                 2      2           2     2             2       2  "
      ]
     },
     "execution_count": 27,
     "metadata": {},
     "output_type": "execute_result"
    }
   ],
   "source": [
    "data[data['income_type']==2]"
   ]
  },
  {
   "cell_type": "markdown",
   "id": "1a48f9a6",
   "metadata": {},
   "source": [
    "Данная строка явно ошибочная. Удалим ее из DF. И проверим значения столбца income_type еще раз."
   ]
  },
  {
   "cell_type": "code",
   "execution_count": 28,
   "id": "544443cc",
   "metadata": {},
   "outputs": [
    {
     "data": {
      "text/plain": [
       "сотрудник          11048\n",
       "компаньон           5057\n",
       "пенсионер           3828\n",
       "госслужащий         1455\n",
       "предприниматель        2\n",
       "безработный            2\n",
       "студент                1\n",
       "в декрете              1\n",
       "Name: income_type, dtype: int64"
      ]
     },
     "execution_count": 28,
     "metadata": {},
     "output_type": "execute_result"
    }
   ],
   "source": [
    "data=data[data['income_type']!=2]\n",
    "data['income_type'].value_counts()"
   ]
  },
  {
   "cell_type": "markdown",
   "id": "c2e14d8c",
   "metadata": {},
   "source": [
    "### Шаг 2.5. Формирование дополнительных датафреймов словарей, декомпозиция исходного датафрейма."
   ]
  },
  {
   "cell_type": "markdown",
   "id": "15b02b8f",
   "metadata": {},
   "source": [
    "Создаем два новых датафрейма, в которых: 1. каждому уникальному значению из education соответствует уникальное значение education_id — в первом;2.каждому уникальному значению из family_status соответствует уникальное значение family_status_id — во втором.\n",
    "Используя индексацию проверяем соответствие education_id - education. И family_status_id - family_status.\n",
    "data.loc[data['education_id']==0]\n",
    "4 - ученая степень\n",
    "3 - начальное образование(школа)\n",
    "2 - неоконченное высшее\n",
    "1 - среднее\n",
    "0 - высшее\n",
    "data.loc[data['family_status_id']==0]\n",
    "4 - не женат / не замужем\t\n",
    "3 - в разводе\t\n",
    "2 - вдовец / вдова\t\n",
    "1 - гражданский брак\t\n",
    "0 - женат / замужем\t"
   ]
  },
  {
   "cell_type": "code",
   "execution_count": 29,
   "id": "de8cfbd4",
   "metadata": {
    "scrolled": true
   },
   "outputs": [
    {
     "data": {
      "text/plain": [
       "1    15128\n",
       "0     5237\n",
       "2      741\n",
       "3      282\n",
       "4        6\n",
       "Name: education_id, dtype: int64"
      ]
     },
     "execution_count": 29,
     "metadata": {},
     "output_type": "execute_result"
    }
   ],
   "source": [
    "data_education = data[['education','education_id']]\n",
    "data_education.head(10)\n",
    "data_education['education_id'].value_counts()"
   ]
  },
  {
   "cell_type": "code",
   "execution_count": 30,
   "id": "ef8e4b5f",
   "metadata": {},
   "outputs": [
    {
     "data": {
      "text/plain": [
       "0    12295\n",
       "1     4150\n",
       "4     2801\n",
       "3     1193\n",
       "2      955\n",
       "Name: family_status_id, dtype: int64"
      ]
     },
     "execution_count": 30,
     "metadata": {},
     "output_type": "execute_result"
    }
   ],
   "source": [
    "data_family_status = data[['family_status','family_status_id']]\n",
    "data_family_status.head(10)\n",
    "data_family_status['family_status_id'].value_counts()"
   ]
  },
  {
   "cell_type": "markdown",
   "id": "f25353cf",
   "metadata": {},
   "source": [
    "Удаляем из исходного датафрейма столбцы education и family_status."
   ]
  },
  {
   "cell_type": "code",
   "execution_count": 31,
   "id": "8afd7be7",
   "metadata": {
    "scrolled": true
   },
   "outputs": [
    {
     "name": "stdout",
     "output_type": "stream",
     "text": [
      "<class 'pandas.core.frame.DataFrame'>\n",
      "Int64Index: 21394 entries, 0 to 21395\n",
      "Data columns (total 10 columns):\n",
      " #   Column            Non-Null Count  Dtype \n",
      "---  ------            --------------  ----- \n",
      " 0   children          21394 non-null  int64 \n",
      " 1   days_employed     21394 non-null  int64 \n",
      " 2   dob_years         21394 non-null  int64 \n",
      " 3   education_id      21394 non-null  int64 \n",
      " 4   family_status_id  21394 non-null  int64 \n",
      " 5   gender            21394 non-null  object\n",
      " 6   income_type       21394 non-null  object\n",
      " 7   debt              21394 non-null  int64 \n",
      " 8   total_income      21394 non-null  int64 \n",
      " 9   purpose           21394 non-null  object\n",
      "dtypes: int64(7), object(3)\n",
      "memory usage: 1.8+ MB\n"
     ]
    }
   ],
   "source": [
    "data_final=data[['children', 'days_employed', 'dob_years', 'education_id', 'family_status_id', 'gender', 'income_type', 'debt',\n",
    "       'total_income', 'purpose']]\n",
    "data_final.info()"
   ]
  },
  {
   "cell_type": "markdown",
   "id": "8ec99f5b",
   "metadata": {},
   "source": [
    "### Шаг 2.6. Категоризация дохода."
   ]
  },
  {
   "cell_type": "markdown",
   "id": "5e79e4b1",
   "metadata": {},
   "source": [
    "Пишем функцию для проведения категоризации."
   ]
  },
  {
   "cell_type": "code",
   "execution_count": 32,
   "id": "eae97d0e",
   "metadata": {},
   "outputs": [],
   "source": [
    "def income_group(income):\n",
    "    if income in range(0,30000):\n",
    "        return 'E'\n",
    "    elif (income in range(30000,50000)):\n",
    "        return 'D'\n",
    "    elif (income in range (50000,200000)):\n",
    "        return 'C'\n",
    "    elif (income in range(200000,1000000)):\n",
    "        return 'B'\n",
    "    else: \n",
    "        return 'A'"
   ]
  },
  {
   "cell_type": "markdown",
   "id": "ee955a69",
   "metadata": {},
   "source": [
    "6.\tНа основании диапазонов, указанных ниже, создайте столбец total_income_category с категориями:\n",
    "o\t0–30000 — 'E';\n",
    "o\t30001–50000 — 'D';\n",
    "o\t50001–200000 — 'C';\n",
    "o\t200001–1000000 — 'B';\n",
    "o\t1000001 и выше — 'A'.\n"
   ]
  },
  {
   "cell_type": "code",
   "execution_count": 33,
   "id": "05616028",
   "metadata": {
    "scrolled": true
   },
   "outputs": [
    {
     "name": "stderr",
     "output_type": "stream",
     "text": [
      "/tmp/ipykernel_53/3627892889.py:1: SettingWithCopyWarning: \n",
      "A value is trying to be set on a copy of a slice from a DataFrame.\n",
      "Try using .loc[row_indexer,col_indexer] = value instead\n",
      "\n",
      "See the caveats in the documentation: https://pandas.pydata.org/pandas-docs/stable/user_guide/indexing.html#returning-a-view-versus-a-copy\n",
      "  data_final['total_income_category'] = data_final['total_income'].apply(income_group)\n"
     ]
    },
    {
     "data": {
      "text/html": [
       "<div>\n",
       "<style scoped>\n",
       "    .dataframe tbody tr th:only-of-type {\n",
       "        vertical-align: middle;\n",
       "    }\n",
       "\n",
       "    .dataframe tbody tr th {\n",
       "        vertical-align: top;\n",
       "    }\n",
       "\n",
       "    .dataframe thead th {\n",
       "        text-align: right;\n",
       "    }\n",
       "</style>\n",
       "<table border=\"1\" class=\"dataframe\">\n",
       "  <thead>\n",
       "    <tr style=\"text-align: right;\">\n",
       "      <th></th>\n",
       "      <th>children</th>\n",
       "      <th>days_employed</th>\n",
       "      <th>dob_years</th>\n",
       "      <th>education_id</th>\n",
       "      <th>family_status_id</th>\n",
       "      <th>gender</th>\n",
       "      <th>income_type</th>\n",
       "      <th>debt</th>\n",
       "      <th>total_income</th>\n",
       "      <th>purpose</th>\n",
       "      <th>total_income_category</th>\n",
       "    </tr>\n",
       "  </thead>\n",
       "  <tbody>\n",
       "    <tr>\n",
       "      <th>0</th>\n",
       "      <td>1</td>\n",
       "      <td>8437</td>\n",
       "      <td>42</td>\n",
       "      <td>0</td>\n",
       "      <td>0</td>\n",
       "      <td>F</td>\n",
       "      <td>сотрудник</td>\n",
       "      <td>0</td>\n",
       "      <td>253875</td>\n",
       "      <td>покупка жилья</td>\n",
       "      <td>B</td>\n",
       "    </tr>\n",
       "    <tr>\n",
       "      <th>1</th>\n",
       "      <td>1</td>\n",
       "      <td>4024</td>\n",
       "      <td>36</td>\n",
       "      <td>1</td>\n",
       "      <td>0</td>\n",
       "      <td>F</td>\n",
       "      <td>сотрудник</td>\n",
       "      <td>0</td>\n",
       "      <td>112080</td>\n",
       "      <td>приобретение автомобиля</td>\n",
       "      <td>C</td>\n",
       "    </tr>\n",
       "    <tr>\n",
       "      <th>2</th>\n",
       "      <td>0</td>\n",
       "      <td>5623</td>\n",
       "      <td>33</td>\n",
       "      <td>1</td>\n",
       "      <td>0</td>\n",
       "      <td>M</td>\n",
       "      <td>сотрудник</td>\n",
       "      <td>0</td>\n",
       "      <td>145885</td>\n",
       "      <td>покупка жилья</td>\n",
       "      <td>C</td>\n",
       "    </tr>\n",
       "    <tr>\n",
       "      <th>3</th>\n",
       "      <td>3</td>\n",
       "      <td>4124</td>\n",
       "      <td>32</td>\n",
       "      <td>1</td>\n",
       "      <td>0</td>\n",
       "      <td>M</td>\n",
       "      <td>сотрудник</td>\n",
       "      <td>0</td>\n",
       "      <td>267628</td>\n",
       "      <td>дополнительное образование</td>\n",
       "      <td>B</td>\n",
       "    </tr>\n",
       "    <tr>\n",
       "      <th>4</th>\n",
       "      <td>0</td>\n",
       "      <td>340266</td>\n",
       "      <td>53</td>\n",
       "      <td>1</td>\n",
       "      <td>1</td>\n",
       "      <td>F</td>\n",
       "      <td>пенсионер</td>\n",
       "      <td>0</td>\n",
       "      <td>158616</td>\n",
       "      <td>сыграть свадьбу</td>\n",
       "      <td>C</td>\n",
       "    </tr>\n",
       "  </tbody>\n",
       "</table>\n",
       "</div>"
      ],
      "text/plain": [
       "   children  days_employed  dob_years  education_id  family_status_id gender  \\\n",
       "0         1           8437         42             0                 0      F   \n",
       "1         1           4024         36             1                 0      F   \n",
       "2         0           5623         33             1                 0      M   \n",
       "3         3           4124         32             1                 0      M   \n",
       "4         0         340266         53             1                 1      F   \n",
       "\n",
       "  income_type  debt  total_income                     purpose  \\\n",
       "0   сотрудник     0        253875               покупка жилья   \n",
       "1   сотрудник     0        112080     приобретение автомобиля   \n",
       "2   сотрудник     0        145885               покупка жилья   \n",
       "3   сотрудник     0        267628  дополнительное образование   \n",
       "4   пенсионер     0        158616             сыграть свадьбу   \n",
       "\n",
       "  total_income_category  \n",
       "0                     B  \n",
       "1                     C  \n",
       "2                     C  \n",
       "3                     B  \n",
       "4                     C  "
      ]
     },
     "execution_count": 33,
     "metadata": {},
     "output_type": "execute_result"
    }
   ],
   "source": [
    "data_final['total_income_category'] = data_final['total_income'].apply(income_group)\n",
    "data_final.head()"
   ]
  },
  {
   "cell_type": "code",
   "execution_count": 34,
   "id": "7e71932a",
   "metadata": {},
   "outputs": [
    {
     "data": {
      "text/plain": [
       "C    15977\n",
       "B     5020\n",
       "D      350\n",
       "A       25\n",
       "E       22\n",
       "Name: total_income_category, dtype: int64"
      ]
     },
     "execution_count": 34,
     "metadata": {},
     "output_type": "execute_result"
    }
   ],
   "source": [
    "data_final['total_income_category'].value_counts()"
   ]
  },
  {
   "cell_type": "code",
   "execution_count": 35,
   "id": "2a0d7e4f",
   "metadata": {},
   "outputs": [
    {
     "data": {
      "text/plain": [
       "21394"
      ]
     },
     "execution_count": 35,
     "metadata": {},
     "output_type": "execute_result"
    }
   ],
   "source": [
    "data_final['total_income_category'].value_counts().sum()"
   ]
  },
  {
   "cell_type": "code",
   "execution_count": 36,
   "id": "1694275c",
   "metadata": {},
   "outputs": [
    {
     "name": "stdout",
     "output_type": "stream",
     "text": [
      "<class 'pandas.core.frame.DataFrame'>\n",
      "Int64Index: 21394 entries, 0 to 21395\n",
      "Data columns (total 11 columns):\n",
      " #   Column                 Non-Null Count  Dtype \n",
      "---  ------                 --------------  ----- \n",
      " 0   children               21394 non-null  int64 \n",
      " 1   days_employed          21394 non-null  int64 \n",
      " 2   dob_years              21394 non-null  int64 \n",
      " 3   education_id           21394 non-null  int64 \n",
      " 4   family_status_id       21394 non-null  int64 \n",
      " 5   gender                 21394 non-null  object\n",
      " 6   income_type            21394 non-null  object\n",
      " 7   debt                   21394 non-null  int64 \n",
      " 8   total_income           21394 non-null  int64 \n",
      " 9   purpose                21394 non-null  object\n",
      " 10  total_income_category  21394 non-null  object\n",
      "dtypes: int64(7), object(4)\n",
      "memory usage: 2.0+ MB\n"
     ]
    }
   ],
   "source": [
    "data_final.info()"
   ]
  },
  {
   "cell_type": "markdown",
   "id": "698c7f30",
   "metadata": {},
   "source": [
    "Сверили кол-во строк в столбце total_income_category и в файле с данными. Совпадают. Ничего не потеряли."
   ]
  },
  {
   "cell_type": "markdown",
   "id": "e59af200",
   "metadata": {},
   "source": [
    "### Шаг 2.7. Категоризация целей кредита."
   ]
  },
  {
   "cell_type": "markdown",
   "id": "45a98db3",
   "metadata": {},
   "source": [
    "7.\tСоздайте функцию, которая на основании данных из столбца purpose сформирует новый столбец purpose_category, в который войдут следующие категории:\n",
    "o\t'операции с автомобилем',\n",
    "o\t'операции с недвижимостью',\n",
    "o\t'проведение свадьбы',\n",
    "o\t'получение образования'.\n",
    "Например, если в столбце purpose находится подстрока 'на покупку автомобиля', то в столбце purpose_category должна появиться строка 'операции с автомобилем'.\n",
    "Вы можете использовать собственную функцию и метод apply(). Изучите данные в столбце purpose и определите, какие подстроки помогут вам правильно определить категорию\n"
   ]
  },
  {
   "cell_type": "code",
   "execution_count": 37,
   "id": "9109fad6",
   "metadata": {},
   "outputs": [],
   "source": [
    "def purpose_group(purpose):\n",
    "    if 'автомобил' in purpose:\n",
    "        return 'операции с автомобилем'\n",
    "    elif ('недвиж') in purpose:\n",
    "        return 'операции с недвижимостью'\n",
    "    elif ('жил') in purpose:\n",
    "        return 'операции с недвижимостью'\n",
    "    elif 'свадьб' in purpose:\n",
    "        return 'проведение свадьбы'\n",
    "    elif 'образ' in purpose:\n",
    "        return 'получение образования'          "
   ]
  },
  {
   "cell_type": "code",
   "execution_count": 38,
   "id": "4c1e85b5",
   "metadata": {
    "scrolled": true
   },
   "outputs": [
    {
     "data": {
      "text/plain": [
       "операции с недвижимостью    10777\n",
       "операции с автомобилем       4292\n",
       "получение образования        3999\n",
       "проведение свадьбы           2326\n",
       "Name: purpose_category, dtype: int64"
      ]
     },
     "execution_count": 38,
     "metadata": {},
     "output_type": "execute_result"
    }
   ],
   "source": [
    "data_final['purpose_category'] = data_final['purpose'].apply(purpose_group)\n",
    "data_final['purpose_category'].value_counts()"
   ]
  },
  {
   "cell_type": "markdown",
   "id": "91102dc8",
   "metadata": {},
   "source": [
    "### Ответы на вопросы."
   ]
  },
  {
   "cell_type": "markdown",
   "id": "f0471772",
   "metadata": {},
   "source": [
    "##### Вопрос 1:"
   ]
  },
  {
   "cell_type": "markdown",
   "id": "fec61276",
   "metadata": {},
   "source": [
    "Есть ли зависимость между количеством детей и возвратом кредита в срок? Сделаем сводную таблицу по зависимости колличества детей от колличества задолженностей по кредиту. "
   ]
  },
  {
   "cell_type": "code",
   "execution_count": 39,
   "id": "2f92f5eb",
   "metadata": {
    "scrolled": true
   },
   "outputs": [
    {
     "data": {
      "text/html": [
       "<div>\n",
       "<style scoped>\n",
       "    .dataframe tbody tr th:only-of-type {\n",
       "        vertical-align: middle;\n",
       "    }\n",
       "\n",
       "    .dataframe tbody tr th {\n",
       "        vertical-align: top;\n",
       "    }\n",
       "\n",
       "    .dataframe thead tr th {\n",
       "        text-align: left;\n",
       "    }\n",
       "\n",
       "    .dataframe thead tr:last-of-type th {\n",
       "        text-align: right;\n",
       "    }\n",
       "</style>\n",
       "<table border=\"1\" class=\"dataframe\">\n",
       "  <thead>\n",
       "    <tr>\n",
       "      <th></th>\n",
       "      <th>mean</th>\n",
       "      <th>count</th>\n",
       "    </tr>\n",
       "    <tr>\n",
       "      <th></th>\n",
       "      <th>debt</th>\n",
       "      <th>debt</th>\n",
       "    </tr>\n",
       "    <tr>\n",
       "      <th>children</th>\n",
       "      <th></th>\n",
       "      <th></th>\n",
       "    </tr>\n",
       "  </thead>\n",
       "  <tbody>\n",
       "    <tr>\n",
       "      <th>0</th>\n",
       "      <td>0.075358</td>\n",
       "      <td>14106</td>\n",
       "    </tr>\n",
       "    <tr>\n",
       "      <th>1</th>\n",
       "      <td>0.091639</td>\n",
       "      <td>4856</td>\n",
       "    </tr>\n",
       "    <tr>\n",
       "      <th>2</th>\n",
       "      <td>0.094542</td>\n",
       "      <td>2052</td>\n",
       "    </tr>\n",
       "    <tr>\n",
       "      <th>3</th>\n",
       "      <td>0.081818</td>\n",
       "      <td>330</td>\n",
       "    </tr>\n",
       "    <tr>\n",
       "      <th>4</th>\n",
       "      <td>0.097561</td>\n",
       "      <td>41</td>\n",
       "    </tr>\n",
       "    <tr>\n",
       "      <th>5</th>\n",
       "      <td>0.000000</td>\n",
       "      <td>9</td>\n",
       "    </tr>\n",
       "  </tbody>\n",
       "</table>\n",
       "</div>"
      ],
      "text/plain": [
       "              mean  count\n",
       "              debt   debt\n",
       "children                 \n",
       "0         0.075358  14106\n",
       "1         0.091639   4856\n",
       "2         0.094542   2052\n",
       "3         0.081818    330\n",
       "4         0.097561     41\n",
       "5         0.000000      9"
      ]
     },
     "execution_count": 39,
     "metadata": {},
     "output_type": "execute_result"
    }
   ],
   "source": [
    "data_pivot_children_debt = data_final.pivot_table('debt', 'children', aggfunc=['mean','count'])\n",
    "data_pivot_children_debt"
   ]
  },
  {
   "cell_type": "markdown",
   "id": "05e0c548",
   "metadata": {},
   "source": [
    "##### Вывод 1:"
   ]
  },
  {
   "cell_type": "markdown",
   "id": "e0fa5ab1",
   "metadata": {},
   "source": [
    "Получается, что доля должников без детей ниже, чем среди людей с детьми.\n",
    "В группах с 1,2 и 4 детьми доля должников примерно одинаковая.\n",
    "При этом доля должников в группах с 3мя детьми несколько ниже чем с 1,2 или 4мя.\n",
    "Выводы по группе с 5тью детьми делать совсем не разумно,у нас таких 9. Явно мало для выводов.\n",
    "Получается. что надежнее одобрять кредит бездетным людям."
   ]
  },
  {
   "cell_type": "markdown",
   "id": "339fb4ff",
   "metadata": {},
   "source": [
    "##### Вопрос 2:"
   ]
  },
  {
   "cell_type": "markdown",
   "id": "e4c604c6",
   "metadata": {},
   "source": [
    "Есть ли заивисимость между семейным положением и возвратом кредита в срок? Сделаем сводную таблицу по зависимости семейного положения от колличества задолженностей по кредиту."
   ]
  },
  {
   "cell_type": "code",
   "execution_count": 40,
   "id": "8f3394d9",
   "metadata": {
    "scrolled": false
   },
   "outputs": [
    {
     "data": {
      "text/html": [
       "<div>\n",
       "<style scoped>\n",
       "    .dataframe tbody tr th:only-of-type {\n",
       "        vertical-align: middle;\n",
       "    }\n",
       "\n",
       "    .dataframe tbody tr th {\n",
       "        vertical-align: top;\n",
       "    }\n",
       "\n",
       "    .dataframe thead tr th {\n",
       "        text-align: left;\n",
       "    }\n",
       "\n",
       "    .dataframe thead tr:last-of-type th {\n",
       "        text-align: right;\n",
       "    }\n",
       "</style>\n",
       "<table border=\"1\" class=\"dataframe\">\n",
       "  <thead>\n",
       "    <tr>\n",
       "      <th></th>\n",
       "      <th></th>\n",
       "      <th>mean</th>\n",
       "      <th>count</th>\n",
       "    </tr>\n",
       "    <tr>\n",
       "      <th></th>\n",
       "      <th></th>\n",
       "      <th>debt</th>\n",
       "      <th>debt</th>\n",
       "    </tr>\n",
       "    <tr>\n",
       "      <th>family_status_id</th>\n",
       "      <th>family_status</th>\n",
       "      <th></th>\n",
       "      <th></th>\n",
       "    </tr>\n",
       "  </thead>\n",
       "  <tbody>\n",
       "    <tr>\n",
       "      <th>0</th>\n",
       "      <th>женат / замужем</th>\n",
       "      <td>0.075478</td>\n",
       "      <td>12295</td>\n",
       "    </tr>\n",
       "    <tr>\n",
       "      <th>1</th>\n",
       "      <th>гражданский брак</th>\n",
       "      <td>0.092771</td>\n",
       "      <td>4150</td>\n",
       "    </tr>\n",
       "    <tr>\n",
       "      <th>2</th>\n",
       "      <th>вдовец / вдова</th>\n",
       "      <td>0.065969</td>\n",
       "      <td>955</td>\n",
       "    </tr>\n",
       "    <tr>\n",
       "      <th>3</th>\n",
       "      <th>в разводе</th>\n",
       "      <td>0.070411</td>\n",
       "      <td>1193</td>\n",
       "    </tr>\n",
       "    <tr>\n",
       "      <th>4</th>\n",
       "      <th>не женат / не замужем</th>\n",
       "      <td>0.097465</td>\n",
       "      <td>2801</td>\n",
       "    </tr>\n",
       "  </tbody>\n",
       "</table>\n",
       "</div>"
      ],
      "text/plain": [
       "                                            mean  count\n",
       "                                            debt   debt\n",
       "family_status_id family_status                         \n",
       "0                женат / замужем        0.075478  12295\n",
       "1                гражданский брак       0.092771   4150\n",
       "2                вдовец / вдова         0.065969    955\n",
       "3                в разводе              0.070411   1193\n",
       "4                не женат / не замужем  0.097465   2801"
      ]
     },
     "execution_count": 40,
     "metadata": {},
     "output_type": "execute_result"
    }
   ],
   "source": [
    "data_pivot_marriage_debt = data.pivot_table(index = ['family_status_id','family_status'], values='debt', aggfunc=['mean','count'])\n",
    "data_pivot_marriage_debt"
   ]
  },
  {
   "cell_type": "markdown",
   "id": "264b69c6",
   "metadata": {},
   "source": [
    "##### Вывод 2:"
   ]
  },
  {
   "cell_type": "markdown",
   "id": "32f9cfba",
   "metadata": {},
   "source": [
    "Комментарий студента:\n",
    "Получается, что самая большая доля должников в категории не женат/не замужем.\n",
    "Те, кто живут в гражданском браке реже задолжают.\n",
    "Наименьшие доли должников в категориях вдовец/вдова и в разводе. Доля должников для тех, кто живет в браке выше чем в категориях вдовец/вдова и в разводе, но ниже тех, кто живет гражданским браком или не женам."
   ]
  },
  {
   "cell_type": "markdown",
   "id": "d2bf0e23",
   "metadata": {},
   "source": [
    "##### Вопрос 3:"
   ]
  },
  {
   "cell_type": "markdown",
   "id": "fc2b01db",
   "metadata": {},
   "source": [
    "Есть ли зависимость между уровнем дохода и возвратом кредита в срок? Сделаем сводную таблицу по зависимости дохода от колличества случаев возникнования задолженностей по кредиту."
   ]
  },
  {
   "cell_type": "code",
   "execution_count": 41,
   "id": "614f7db0",
   "metadata": {
    "scrolled": true
   },
   "outputs": [
    {
     "data": {
      "text/html": [
       "<div>\n",
       "<style scoped>\n",
       "    .dataframe tbody tr th:only-of-type {\n",
       "        vertical-align: middle;\n",
       "    }\n",
       "\n",
       "    .dataframe tbody tr th {\n",
       "        vertical-align: top;\n",
       "    }\n",
       "\n",
       "    .dataframe thead tr th {\n",
       "        text-align: left;\n",
       "    }\n",
       "\n",
       "    .dataframe thead tr:last-of-type th {\n",
       "        text-align: right;\n",
       "    }\n",
       "</style>\n",
       "<table border=\"1\" class=\"dataframe\">\n",
       "  <thead>\n",
       "    <tr>\n",
       "      <th></th>\n",
       "      <th>mean</th>\n",
       "      <th>count</th>\n",
       "    </tr>\n",
       "    <tr>\n",
       "      <th></th>\n",
       "      <th>debt</th>\n",
       "      <th>debt</th>\n",
       "    </tr>\n",
       "    <tr>\n",
       "      <th>total_income_category</th>\n",
       "      <th></th>\n",
       "      <th></th>\n",
       "    </tr>\n",
       "  </thead>\n",
       "  <tbody>\n",
       "    <tr>\n",
       "      <th>A</th>\n",
       "      <td>0.080000</td>\n",
       "      <td>25</td>\n",
       "    </tr>\n",
       "    <tr>\n",
       "      <th>B</th>\n",
       "      <td>0.070518</td>\n",
       "      <td>5020</td>\n",
       "    </tr>\n",
       "    <tr>\n",
       "      <th>C</th>\n",
       "      <td>0.084747</td>\n",
       "      <td>15977</td>\n",
       "    </tr>\n",
       "    <tr>\n",
       "      <th>D</th>\n",
       "      <td>0.060000</td>\n",
       "      <td>350</td>\n",
       "    </tr>\n",
       "    <tr>\n",
       "      <th>E</th>\n",
       "      <td>0.090909</td>\n",
       "      <td>22</td>\n",
       "    </tr>\n",
       "  </tbody>\n",
       "</table>\n",
       "</div>"
      ],
      "text/plain": [
       "                           mean  count\n",
       "                           debt   debt\n",
       "total_income_category                 \n",
       "A                      0.080000     25\n",
       "B                      0.070518   5020\n",
       "C                      0.084747  15977\n",
       "D                      0.060000    350\n",
       "E                      0.090909     22"
      ]
     },
     "execution_count": 41,
     "metadata": {},
     "output_type": "execute_result"
    }
   ],
   "source": [
    "data_pivot_income_debt = data_final.pivot_table(index = ['total_income_category'], values='debt', aggfunc=['mean','count'])\n",
    "data_pivot_income_debt"
   ]
  },
  {
   "cell_type": "markdown",
   "id": "3f4dad3c",
   "metadata": {},
   "source": [
    "##### Вывод 3:"
   ]
  },
  {
   "cell_type": "markdown",
   "id": "8adde033",
   "metadata": {},
   "source": [
    "Получается, что самая большая доля должников наблюдается в категирии Е(<30000). Наименьшая в категории D(<50000). Категории с доходом(до 200000) и с самым высоки доходом схожи по кол-ву должников. При этом категория с доходом до 1000000 немного реже становится должниками.\n",
    "<br>Четкой зависимости дохода от уровня дохода нет. Она то повышается, то понижается. \n",
    "<br>Изходя и данных нашей выборки наилучшими клиентами с мин долей долников являются люди с доходом <50 000 руб.\n"
   ]
  },
  {
   "cell_type": "markdown",
   "id": "5b22d102",
   "metadata": {},
   "source": [
    "##### Вопрос 4:"
   ]
  },
  {
   "cell_type": "markdown",
   "id": "87a6d121",
   "metadata": {},
   "source": [
    "Как разные цели кредита влияют на его возврат в срок? Сделаем сводную таблицу по целям кредита от колличества случаев возникнования задолженностей по кредиту."
   ]
  },
  {
   "cell_type": "code",
   "execution_count": 42,
   "id": "f54c4c4a",
   "metadata": {
    "scrolled": true
   },
   "outputs": [
    {
     "data": {
      "text/html": [
       "<div>\n",
       "<style scoped>\n",
       "    .dataframe tbody tr th:only-of-type {\n",
       "        vertical-align: middle;\n",
       "    }\n",
       "\n",
       "    .dataframe tbody tr th {\n",
       "        vertical-align: top;\n",
       "    }\n",
       "\n",
       "    .dataframe thead tr th {\n",
       "        text-align: left;\n",
       "    }\n",
       "\n",
       "    .dataframe thead tr:last-of-type th {\n",
       "        text-align: right;\n",
       "    }\n",
       "</style>\n",
       "<table border=\"1\" class=\"dataframe\">\n",
       "  <thead>\n",
       "    <tr>\n",
       "      <th></th>\n",
       "      <th>mean</th>\n",
       "      <th>count</th>\n",
       "    </tr>\n",
       "    <tr>\n",
       "      <th></th>\n",
       "      <th>debt</th>\n",
       "      <th>debt</th>\n",
       "    </tr>\n",
       "    <tr>\n",
       "      <th>purpose_category</th>\n",
       "      <th></th>\n",
       "      <th></th>\n",
       "    </tr>\n",
       "  </thead>\n",
       "  <tbody>\n",
       "    <tr>\n",
       "      <th>операции с автомобилем</th>\n",
       "      <td>0.093430</td>\n",
       "      <td>4292</td>\n",
       "    </tr>\n",
       "    <tr>\n",
       "      <th>операции с недвижимостью</th>\n",
       "      <td>0.072376</td>\n",
       "      <td>10777</td>\n",
       "    </tr>\n",
       "    <tr>\n",
       "      <th>получение образования</th>\n",
       "      <td>0.092273</td>\n",
       "      <td>3999</td>\n",
       "    </tr>\n",
       "    <tr>\n",
       "      <th>проведение свадьбы</th>\n",
       "      <td>0.078676</td>\n",
       "      <td>2326</td>\n",
       "    </tr>\n",
       "  </tbody>\n",
       "</table>\n",
       "</div>"
      ],
      "text/plain": [
       "                              mean  count\n",
       "                              debt   debt\n",
       "purpose_category                         \n",
       "операции с автомобилем    0.093430   4292\n",
       "операции с недвижимостью  0.072376  10777\n",
       "получение образования     0.092273   3999\n",
       "проведение свадьбы        0.078676   2326"
      ]
     },
     "execution_count": 42,
     "metadata": {},
     "output_type": "execute_result"
    }
   ],
   "source": [
    "data_pivot_purpose_debt = data_final.pivot_table(index = ['purpose_category'], values='debt', aggfunc=['mean','count'])\n",
    "data_pivot_purpose_debt"
   ]
  },
  {
   "cell_type": "markdown",
   "id": "1db066c2",
   "metadata": {},
   "source": [
    "##### Вывод 4:"
   ]
  },
  {
   "cell_type": "markdown",
   "id": "20dd9384",
   "metadata": {},
   "source": [
    "Получается, что самая большая доля должников в категории операции с автомобилем, примерно там же кредиты на образование.\n",
    "<br>Меньше всего доля должников у тех, кто решал вопросы с недвижимостью или для организации свадьбы.\n",
    "<br>Таким образом, самыми надежными являются лица, которые обращаются за кредитом на операции с недвижимостью."
   ]
  },
  {
   "cell_type": "markdown",
   "id": "e47366ec",
   "metadata": {},
   "source": [
    "## Общий вывод:"
   ]
  },
  {
   "cell_type": "markdown",
   "id": "ee676257",
   "metadata": {},
   "source": [
    "<br>Согласно полученым данным, значительное влияние могут оказать семейное положение, колличество детей, а также цель кредитования. \n",
    "<br>Тогда как, доход клиента не всегда будет четко свидетельствовать о возможности погашения в срок. \n",
    "<br>На мой взгялд, лучшим клиентом(согласно изученным данным) будет бездетный человек, в браке и с доходом до 50 000 руб. \n",
    "Целью кредитования - операции с недвижимостью."
   ]
  }
 ],
 "metadata": {
  "ExecuteTimeLog": [
   {
    "duration": 184,
    "start_time": "2022-03-14T15:48:39.060Z"
   },
   {
    "duration": 136,
    "start_time": "2022-03-14T15:48:44.524Z"
   },
   {
    "duration": 148,
    "start_time": "2022-03-14T15:49:07.876Z"
   },
   {
    "duration": 141,
    "start_time": "2022-03-14T15:49:42.392Z"
   },
   {
    "duration": 1144,
    "start_time": "2022-03-14T15:51:54.028Z"
   },
   {
    "duration": 91,
    "start_time": "2022-03-14T15:52:44.824Z"
   },
   {
    "duration": 94,
    "start_time": "2022-03-14T15:53:26.291Z"
   },
   {
    "duration": 34,
    "start_time": "2022-03-14T15:56:30.515Z"
   },
   {
    "duration": 13,
    "start_time": "2022-03-14T15:56:38.826Z"
   },
   {
    "duration": 19,
    "start_time": "2022-03-14T16:00:06.306Z"
   },
   {
    "duration": 102,
    "start_time": "2022-03-14T16:00:37.065Z"
   },
   {
    "duration": 14,
    "start_time": "2022-03-14T16:01:08.901Z"
   },
   {
    "duration": 270,
    "start_time": "2022-03-14T16:01:22.181Z"
   },
   {
    "duration": 137,
    "start_time": "2022-03-14T16:01:29.813Z"
   },
   {
    "duration": 18,
    "start_time": "2022-03-14T16:01:39.301Z"
   },
   {
    "duration": 17,
    "start_time": "2022-03-14T16:02:05.815Z"
   },
   {
    "duration": 16,
    "start_time": "2022-03-14T16:02:43.241Z"
   },
   {
    "duration": 14,
    "start_time": "2022-03-14T16:04:06.744Z"
   },
   {
    "duration": 14,
    "start_time": "2022-03-14T16:04:07.680Z"
   },
   {
    "duration": 13,
    "start_time": "2022-03-14T16:04:22.249Z"
   },
   {
    "duration": 617,
    "start_time": "2022-03-14T16:06:00.824Z"
   },
   {
    "duration": 15,
    "start_time": "2022-03-14T16:06:31.411Z"
   },
   {
    "duration": 16,
    "start_time": "2022-03-14T16:07:52.091Z"
   },
   {
    "duration": 16,
    "start_time": "2022-03-14T16:08:02.627Z"
   },
   {
    "duration": 77,
    "start_time": "2022-03-14T16:13:05.602Z"
   },
   {
    "duration": 17,
    "start_time": "2022-03-14T16:14:33.182Z"
   },
   {
    "duration": 7982,
    "start_time": "2022-03-14T16:14:49.902Z"
   },
   {
    "duration": 8754,
    "start_time": "2022-03-14T16:15:09.802Z"
   },
   {
    "duration": 5978,
    "start_time": "2022-03-14T16:15:46.013Z"
   },
   {
    "duration": 5945,
    "start_time": "2022-03-14T16:16:13.818Z"
   },
   {
    "duration": 79,
    "start_time": "2022-03-14T16:16:25.477Z"
   },
   {
    "duration": 37,
    "start_time": "2022-03-14T16:16:25.559Z"
   },
   {
    "duration": 20,
    "start_time": "2022-03-14T16:17:39.086Z"
   },
   {
    "duration": 6608,
    "start_time": "2022-03-14T16:17:57.733Z"
   },
   {
    "duration": 81,
    "start_time": "2022-03-14T16:18:42.901Z"
   },
   {
    "duration": 44,
    "start_time": "2022-03-14T16:18:42.984Z"
   },
   {
    "duration": 20,
    "start_time": "2022-03-14T16:19:24.929Z"
   },
   {
    "duration": 27,
    "start_time": "2022-03-14T16:19:36.113Z"
   },
   {
    "duration": 25,
    "start_time": "2022-03-14T16:22:51.492Z"
   },
   {
    "duration": 77,
    "start_time": "2022-03-14T16:22:57.200Z"
   },
   {
    "duration": 26,
    "start_time": "2022-03-14T16:22:57.279Z"
   },
   {
    "duration": 75,
    "start_time": "2022-03-14T16:23:20.132Z"
   },
   {
    "duration": 25,
    "start_time": "2022-03-14T16:23:20.210Z"
   },
   {
    "duration": 77,
    "start_time": "2022-03-14T16:23:29.672Z"
   },
   {
    "duration": 33,
    "start_time": "2022-03-14T16:23:29.752Z"
   },
   {
    "duration": 75,
    "start_time": "2022-03-14T16:23:40.900Z"
   },
   {
    "duration": 24,
    "start_time": "2022-03-14T16:23:40.977Z"
   },
   {
    "duration": 75,
    "start_time": "2022-03-14T16:23:45.208Z"
   },
   {
    "duration": 26,
    "start_time": "2022-03-14T16:23:49.029Z"
   },
   {
    "duration": 67,
    "start_time": "2022-03-14T16:24:43.380Z"
   },
   {
    "duration": 279,
    "start_time": "2022-03-14T16:30:50.126Z"
   },
   {
    "duration": 569,
    "start_time": "2022-03-14T16:31:15.442Z"
   },
   {
    "duration": 2914,
    "start_time": "2022-03-14T16:31:37.995Z"
   },
   {
    "duration": 3349,
    "start_time": "2022-03-14T16:32:07.376Z"
   },
   {
    "duration": 2936,
    "start_time": "2022-03-14T16:32:28.900Z"
   },
   {
    "duration": 2295,
    "start_time": "2022-03-14T16:32:41.326Z"
   },
   {
    "duration": 2832,
    "start_time": "2022-03-14T16:32:44.043Z"
   },
   {
    "duration": 10,
    "start_time": "2022-03-14T16:33:44.386Z"
   },
   {
    "duration": 68,
    "start_time": "2022-03-14T16:33:55.850Z"
   },
   {
    "duration": 9,
    "start_time": "2022-03-14T16:33:58.459Z"
   },
   {
    "duration": 9,
    "start_time": "2022-03-14T16:34:14.734Z"
   },
   {
    "duration": 8,
    "start_time": "2022-03-14T16:34:24.062Z"
   },
   {
    "duration": 8,
    "start_time": "2022-03-14T16:34:39.762Z"
   },
   {
    "duration": 68,
    "start_time": "2022-03-14T16:35:39.874Z"
   },
   {
    "duration": 32,
    "start_time": "2022-03-14T16:35:42.286Z"
   },
   {
    "duration": 87,
    "start_time": "2022-03-14T16:36:16.506Z"
   },
   {
    "duration": 103,
    "start_time": "2022-03-14T16:37:09.962Z"
   },
   {
    "duration": 26,
    "start_time": "2022-03-14T16:37:14.322Z"
   },
   {
    "duration": 28,
    "start_time": "2022-03-14T16:41:04.974Z"
   },
   {
    "duration": 71,
    "start_time": "2022-03-14T16:41:09.717Z"
   },
   {
    "duration": 28,
    "start_time": "2022-03-14T16:41:12.629Z"
   },
   {
    "duration": 27,
    "start_time": "2022-03-14T16:41:59.134Z"
   },
   {
    "duration": 71,
    "start_time": "2022-03-14T16:42:08.557Z"
   },
   {
    "duration": 42,
    "start_time": "2022-03-14T16:42:08.631Z"
   },
   {
    "duration": 67,
    "start_time": "2022-03-14T16:42:31.421Z"
   },
   {
    "duration": 30,
    "start_time": "2022-03-14T16:42:34.025Z"
   },
   {
    "duration": 71,
    "start_time": "2022-03-14T16:43:55.509Z"
   },
   {
    "duration": 22,
    "start_time": "2022-03-14T16:43:59.305Z"
   },
   {
    "duration": 19,
    "start_time": "2022-03-14T16:46:53.385Z"
   },
   {
    "duration": 8,
    "start_time": "2022-03-14T16:47:04.729Z"
   },
   {
    "duration": 9,
    "start_time": "2022-03-14T16:47:07.625Z"
   },
   {
    "duration": 9,
    "start_time": "2022-03-14T16:47:10.621Z"
   },
   {
    "duration": 19,
    "start_time": "2022-03-14T16:47:26.961Z"
   },
   {
    "duration": 107,
    "start_time": "2022-03-14T16:47:31.196Z"
   },
   {
    "duration": 32,
    "start_time": "2022-03-14T16:47:36.441Z"
   },
   {
    "duration": 17,
    "start_time": "2022-03-14T16:47:39.953Z"
   },
   {
    "duration": 9,
    "start_time": "2022-03-14T16:47:43.140Z"
   },
   {
    "duration": 8,
    "start_time": "2022-03-14T16:47:46.092Z"
   },
   {
    "duration": 15,
    "start_time": "2022-03-14T16:47:48.216Z"
   },
   {
    "duration": 360,
    "start_time": "2022-03-14T16:57:22.865Z"
   },
   {
    "duration": 31,
    "start_time": "2022-03-14T16:57:31.330Z"
   },
   {
    "duration": 379,
    "start_time": "2022-03-14T16:58:02.293Z"
   },
   {
    "duration": 37,
    "start_time": "2022-03-14T16:58:08.886Z"
   },
   {
    "duration": 13,
    "start_time": "2022-03-14T16:58:54.201Z"
   },
   {
    "duration": 83,
    "start_time": "2022-03-14T16:59:06.957Z"
   },
   {
    "duration": 70,
    "start_time": "2022-03-14T16:59:32.254Z"
   },
   {
    "duration": 66,
    "start_time": "2022-03-14T16:59:40.389Z"
   },
   {
    "duration": 72,
    "start_time": "2022-03-14T16:59:44.333Z"
   },
   {
    "duration": 71,
    "start_time": "2022-03-14T16:59:46.985Z"
   },
   {
    "duration": 23,
    "start_time": "2022-03-14T16:59:47.059Z"
   },
   {
    "duration": 29,
    "start_time": "2022-03-14T16:59:47.085Z"
   },
   {
    "duration": 42,
    "start_time": "2022-03-14T16:59:47.118Z"
   },
   {
    "duration": 22,
    "start_time": "2022-03-14T16:59:47.163Z"
   },
   {
    "duration": 25,
    "start_time": "2022-03-14T16:59:47.187Z"
   },
   {
    "duration": 58,
    "start_time": "2022-03-14T16:59:47.215Z"
   },
   {
    "duration": 13,
    "start_time": "2022-03-14T16:59:47.276Z"
   },
   {
    "duration": 8,
    "start_time": "2022-03-14T17:00:18.429Z"
   },
   {
    "duration": 9,
    "start_time": "2022-03-14T17:00:38.553Z"
   },
   {
    "duration": 20,
    "start_time": "2022-03-14T17:01:10.492Z"
   },
   {
    "duration": 11,
    "start_time": "2022-03-14T17:01:56.565Z"
   },
   {
    "duration": 7,
    "start_time": "2022-03-14T17:03:44.916Z"
   },
   {
    "duration": 9,
    "start_time": "2022-03-14T17:05:33.836Z"
   },
   {
    "duration": 1478,
    "start_time": "2022-03-14T17:05:59.167Z"
   },
   {
    "duration": 47,
    "start_time": "2022-03-14T17:06:00.649Z"
   },
   {
    "duration": 25,
    "start_time": "2022-03-14T17:06:00.700Z"
   },
   {
    "duration": 11,
    "start_time": "2022-03-14T17:06:00.728Z"
   },
   {
    "duration": 37,
    "start_time": "2022-03-14T17:06:00.742Z"
   },
   {
    "duration": 30,
    "start_time": "2022-03-14T17:06:00.782Z"
   },
   {
    "duration": 10,
    "start_time": "2022-03-14T17:06:00.815Z"
   },
   {
    "duration": 18,
    "start_time": "2022-03-14T17:06:00.829Z"
   },
   {
    "duration": 29,
    "start_time": "2022-03-14T17:06:00.850Z"
   },
   {
    "duration": 27,
    "start_time": "2022-03-14T17:06:00.882Z"
   },
   {
    "duration": 1325,
    "start_time": "2022-03-14T17:10:30.750Z"
   },
   {
    "duration": -112,
    "start_time": "2022-03-14T17:10:32.190Z"
   },
   {
    "duration": -116,
    "start_time": "2022-03-14T17:10:32.196Z"
   },
   {
    "duration": -146,
    "start_time": "2022-03-14T17:10:32.227Z"
   },
   {
    "duration": -166,
    "start_time": "2022-03-14T17:10:32.248Z"
   },
   {
    "duration": -177,
    "start_time": "2022-03-14T17:10:32.261Z"
   },
   {
    "duration": -202,
    "start_time": "2022-03-14T17:10:32.287Z"
   },
   {
    "duration": -225,
    "start_time": "2022-03-14T17:10:32.311Z"
   },
   {
    "duration": -294,
    "start_time": "2022-03-14T17:10:32.381Z"
   },
   {
    "duration": 1474,
    "start_time": "2022-03-14T17:11:53.341Z"
   },
   {
    "duration": 31,
    "start_time": "2022-03-14T17:11:54.818Z"
   },
   {
    "duration": 28,
    "start_time": "2022-03-14T17:11:54.852Z"
   },
   {
    "duration": 8,
    "start_time": "2022-03-14T17:11:54.883Z"
   },
   {
    "duration": 8,
    "start_time": "2022-03-14T17:11:54.893Z"
   },
   {
    "duration": 15,
    "start_time": "2022-03-14T17:11:54.903Z"
   },
   {
    "duration": 9,
    "start_time": "2022-03-14T17:11:54.921Z"
   },
   {
    "duration": 10,
    "start_time": "2022-03-14T17:11:54.973Z"
   },
   {
    "duration": 11,
    "start_time": "2022-03-14T17:11:54.986Z"
   },
   {
    "duration": 7,
    "start_time": "2022-03-14T17:11:55.000Z"
   },
   {
    "duration": 620,
    "start_time": "2022-03-15T04:05:36.858Z"
   },
   {
    "duration": 20,
    "start_time": "2022-03-15T04:05:37.480Z"
   },
   {
    "duration": 7,
    "start_time": "2022-03-15T04:05:37.502Z"
   },
   {
    "duration": 21,
    "start_time": "2022-03-15T04:05:37.511Z"
   },
   {
    "duration": 5,
    "start_time": "2022-03-15T04:05:37.534Z"
   },
   {
    "duration": 12,
    "start_time": "2022-03-15T04:05:37.540Z"
   },
   {
    "duration": 4,
    "start_time": "2022-03-15T04:05:37.554Z"
   },
   {
    "duration": 6,
    "start_time": "2022-03-15T04:05:37.560Z"
   },
   {
    "duration": 5,
    "start_time": "2022-03-15T04:05:37.568Z"
   },
   {
    "duration": 5,
    "start_time": "2022-03-15T04:05:37.574Z"
   },
   {
    "duration": 49,
    "start_time": "2022-03-15T04:06:16.034Z"
   },
   {
    "duration": 12,
    "start_time": "2022-03-15T04:06:16.085Z"
   },
   {
    "duration": 10,
    "start_time": "2022-03-15T04:06:16.099Z"
   },
   {
    "duration": 24,
    "start_time": "2022-03-15T04:06:16.110Z"
   },
   {
    "duration": 4,
    "start_time": "2022-03-15T04:06:16.136Z"
   },
   {
    "duration": 11,
    "start_time": "2022-03-15T04:06:16.142Z"
   },
   {
    "duration": 5,
    "start_time": "2022-03-15T04:06:16.154Z"
   },
   {
    "duration": 6,
    "start_time": "2022-03-15T04:06:16.161Z"
   },
   {
    "duration": 4,
    "start_time": "2022-03-15T04:06:16.169Z"
   },
   {
    "duration": 5,
    "start_time": "2022-03-15T04:06:16.174Z"
   },
   {
    "duration": 314,
    "start_time": "2022-03-15T04:07:34.285Z"
   },
   {
    "duration": 6,
    "start_time": "2022-03-15T04:07:52.257Z"
   },
   {
    "duration": 3,
    "start_time": "2022-03-15T04:08:10.405Z"
   },
   {
    "duration": 3,
    "start_time": "2022-03-15T04:08:12.381Z"
   },
   {
    "duration": 14,
    "start_time": "2022-03-15T04:08:32.773Z"
   },
   {
    "duration": 49,
    "start_time": "2022-03-15T04:08:53.697Z"
   },
   {
    "duration": 13,
    "start_time": "2022-03-15T04:08:53.747Z"
   },
   {
    "duration": 9,
    "start_time": "2022-03-15T04:08:53.762Z"
   },
   {
    "duration": 7,
    "start_time": "2022-03-15T04:08:53.773Z"
   },
   {
    "duration": 6,
    "start_time": "2022-03-15T04:08:53.781Z"
   },
   {
    "duration": 8,
    "start_time": "2022-03-15T04:08:53.789Z"
   },
   {
    "duration": 35,
    "start_time": "2022-03-15T04:08:53.799Z"
   },
   {
    "duration": 8,
    "start_time": "2022-03-15T04:08:53.836Z"
   },
   {
    "duration": 4,
    "start_time": "2022-03-15T04:08:53.846Z"
   },
   {
    "duration": 5,
    "start_time": "2022-03-15T04:08:53.852Z"
   },
   {
    "duration": 15,
    "start_time": "2022-03-15T04:08:53.858Z"
   },
   {
    "duration": 48,
    "start_time": "2022-03-15T04:10:13.797Z"
   },
   {
    "duration": 12,
    "start_time": "2022-03-15T04:10:13.847Z"
   },
   {
    "duration": 9,
    "start_time": "2022-03-15T04:10:13.861Z"
   },
   {
    "duration": 5,
    "start_time": "2022-03-15T04:10:13.871Z"
   },
   {
    "duration": 5,
    "start_time": "2022-03-15T04:10:13.877Z"
   },
   {
    "duration": 9,
    "start_time": "2022-03-15T04:10:13.883Z"
   },
   {
    "duration": 40,
    "start_time": "2022-03-15T04:10:13.894Z"
   },
   {
    "duration": 7,
    "start_time": "2022-03-15T04:10:13.936Z"
   },
   {
    "duration": 5,
    "start_time": "2022-03-15T04:10:13.944Z"
   },
   {
    "duration": 6,
    "start_time": "2022-03-15T04:10:13.951Z"
   },
   {
    "duration": 15,
    "start_time": "2022-03-15T04:10:13.959Z"
   },
   {
    "duration": 49,
    "start_time": "2022-03-15T04:10:36.333Z"
   },
   {
    "duration": 13,
    "start_time": "2022-03-15T04:10:36.384Z"
   },
   {
    "duration": 10,
    "start_time": "2022-03-15T04:10:36.398Z"
   },
   {
    "duration": 26,
    "start_time": "2022-03-15T04:10:36.409Z"
   },
   {
    "duration": 5,
    "start_time": "2022-03-15T04:10:36.436Z"
   },
   {
    "duration": 15,
    "start_time": "2022-03-15T04:10:36.442Z"
   },
   {
    "duration": 4,
    "start_time": "2022-03-15T04:10:36.459Z"
   },
   {
    "duration": 6,
    "start_time": "2022-03-15T04:10:36.466Z"
   },
   {
    "duration": 4,
    "start_time": "2022-03-15T04:10:36.474Z"
   },
   {
    "duration": 5,
    "start_time": "2022-03-15T04:10:36.480Z"
   },
   {
    "duration": 52,
    "start_time": "2022-03-15T04:10:36.487Z"
   },
   {
    "duration": 40,
    "start_time": "2022-03-15T09:44:19.550Z"
   },
   {
    "duration": 329,
    "start_time": "2022-03-15T16:20:04.647Z"
   },
   {
    "duration": 234,
    "start_time": "2022-03-15T16:20:12.987Z"
   },
   {
    "duration": 235,
    "start_time": "2022-03-15T16:22:31.862Z"
   },
   {
    "duration": 287,
    "start_time": "2022-03-15T16:23:15.614Z"
   },
   {
    "duration": 834,
    "start_time": "2022-03-15T16:23:19.927Z"
   },
   {
    "duration": 29,
    "start_time": "2022-03-15T16:23:20.764Z"
   },
   {
    "duration": 21,
    "start_time": "2022-03-15T16:23:20.796Z"
   },
   {
    "duration": 29,
    "start_time": "2022-03-15T16:23:20.820Z"
   },
   {
    "duration": 22,
    "start_time": "2022-03-15T16:23:20.852Z"
   },
   {
    "duration": 26,
    "start_time": "2022-03-15T16:23:20.876Z"
   },
   {
    "duration": 21,
    "start_time": "2022-03-15T16:23:20.904Z"
   },
   {
    "duration": 20,
    "start_time": "2022-03-15T16:23:20.928Z"
   },
   {
    "duration": 32,
    "start_time": "2022-03-15T16:23:20.951Z"
   },
   {
    "duration": 29,
    "start_time": "2022-03-15T16:23:20.986Z"
   },
   {
    "duration": 48,
    "start_time": "2022-03-15T16:23:21.017Z"
   },
   {
    "duration": 8,
    "start_time": "2022-03-15T16:23:21.067Z"
   },
   {
    "duration": 5,
    "start_time": "2022-03-15T16:23:24.014Z"
   },
   {
    "duration": 22,
    "start_time": "2022-03-15T16:23:57.756Z"
   },
   {
    "duration": 17,
    "start_time": "2022-03-15T16:24:07.414Z"
   },
   {
    "duration": 14,
    "start_time": "2022-03-15T16:24:59.010Z"
   },
   {
    "duration": 73,
    "start_time": "2022-03-15T16:25:05.085Z"
   },
   {
    "duration": 29,
    "start_time": "2022-03-15T16:25:05.161Z"
   },
   {
    "duration": 20,
    "start_time": "2022-03-15T16:25:05.193Z"
   },
   {
    "duration": 8,
    "start_time": "2022-03-15T16:25:05.215Z"
   },
   {
    "duration": 8,
    "start_time": "2022-03-15T16:25:05.226Z"
   },
   {
    "duration": 54,
    "start_time": "2022-03-15T16:25:05.237Z"
   },
   {
    "duration": 8,
    "start_time": "2022-03-15T16:25:05.293Z"
   },
   {
    "duration": 15,
    "start_time": "2022-03-15T16:25:05.306Z"
   },
   {
    "duration": 8,
    "start_time": "2022-03-15T16:25:05.324Z"
   },
   {
    "duration": 14,
    "start_time": "2022-03-15T16:25:05.334Z"
   },
   {
    "duration": 25,
    "start_time": "2022-03-15T16:25:05.382Z"
   },
   {
    "duration": 5,
    "start_time": "2022-03-15T16:25:05.410Z"
   },
   {
    "duration": 22,
    "start_time": "2022-03-15T16:25:05.417Z"
   },
   {
    "duration": 8,
    "start_time": "2022-03-15T16:35:08.151Z"
   },
   {
    "duration": 87,
    "start_time": "2022-03-15T16:36:12.990Z"
   },
   {
    "duration": 6,
    "start_time": "2022-03-15T16:36:23.544Z"
   },
   {
    "duration": 11,
    "start_time": "2022-03-15T16:36:30.286Z"
   },
   {
    "duration": 11,
    "start_time": "2022-03-15T16:37:12.227Z"
   },
   {
    "duration": 75,
    "start_time": "2022-03-15T16:37:21.399Z"
   },
   {
    "duration": 30,
    "start_time": "2022-03-15T16:37:21.476Z"
   },
   {
    "duration": 21,
    "start_time": "2022-03-15T16:37:21.510Z"
   },
   {
    "duration": 15,
    "start_time": "2022-03-15T16:37:21.534Z"
   },
   {
    "duration": 9,
    "start_time": "2022-03-15T16:37:21.552Z"
   },
   {
    "duration": 33,
    "start_time": "2022-03-15T16:37:21.563Z"
   },
   {
    "duration": 12,
    "start_time": "2022-03-15T16:37:21.598Z"
   },
   {
    "duration": 7,
    "start_time": "2022-03-15T16:37:21.613Z"
   },
   {
    "duration": 12,
    "start_time": "2022-03-15T16:37:21.622Z"
   },
   {
    "duration": 7,
    "start_time": "2022-03-15T16:37:21.636Z"
   },
   {
    "duration": 50,
    "start_time": "2022-03-15T16:37:21.645Z"
   },
   {
    "duration": 29,
    "start_time": "2022-03-15T16:37:21.697Z"
   },
   {
    "duration": 6,
    "start_time": "2022-03-15T16:37:21.728Z"
   },
   {
    "duration": 57,
    "start_time": "2022-03-15T16:37:21.737Z"
   },
   {
    "duration": 8,
    "start_time": "2022-03-15T16:37:58.238Z"
   },
   {
    "duration": 8,
    "start_time": "2022-03-15T16:38:30.262Z"
   },
   {
    "duration": 6,
    "start_time": "2022-03-15T16:38:53.906Z"
   },
   {
    "duration": 6595,
    "start_time": "2022-03-15T16:39:01.278Z"
   },
   {
    "duration": -225,
    "start_time": "2022-03-15T16:39:20.173Z"
   },
   {
    "duration": 5833,
    "start_time": "2022-03-15T16:39:43.273Z"
   },
   {
    "duration": -249,
    "start_time": "2022-03-15T16:40:06.507Z"
   },
   {
    "duration": 9,
    "start_time": "2022-03-15T16:40:58.081Z"
   },
   {
    "duration": 25,
    "start_time": "2022-03-15T16:41:52.465Z"
   },
   {
    "duration": 10,
    "start_time": "2022-03-15T16:43:45.329Z"
   },
   {
    "duration": 31,
    "start_time": "2022-03-15T16:45:45.564Z"
   },
   {
    "duration": 42,
    "start_time": "2022-03-15T16:48:38.752Z"
   },
   {
    "duration": 52,
    "start_time": "2022-03-15T16:49:11.875Z"
   },
   {
    "duration": 7,
    "start_time": "2022-03-15T16:55:06.105Z"
   },
   {
    "duration": 14,
    "start_time": "2022-03-15T16:55:08.498Z"
   },
   {
    "duration": 11,
    "start_time": "2022-03-15T16:56:37.388Z"
   },
   {
    "duration": 22,
    "start_time": "2022-03-15T16:59:15.360Z"
   },
   {
    "duration": 10,
    "start_time": "2022-03-15T17:00:14.004Z"
   },
   {
    "duration": 12,
    "start_time": "2022-03-15T17:00:21.552Z"
   },
   {
    "duration": 30,
    "start_time": "2022-03-15T17:01:53.467Z"
   },
   {
    "duration": 11,
    "start_time": "2022-03-15T17:02:30.832Z"
   },
   {
    "duration": 20,
    "start_time": "2022-03-15T17:05:28.793Z"
   },
   {
    "duration": 71,
    "start_time": "2022-03-15T17:15:46.708Z"
   },
   {
    "duration": 79,
    "start_time": "2022-03-15T17:16:04.840Z"
   },
   {
    "duration": 37,
    "start_time": "2022-03-15T17:16:08.468Z"
   },
   {
    "duration": 47,
    "start_time": "2022-03-15T17:16:37.604Z"
   },
   {
    "duration": 41,
    "start_time": "2022-03-15T17:16:42.772Z"
   },
   {
    "duration": 41,
    "start_time": "2022-03-15T17:17:29.311Z"
   },
   {
    "duration": 27,
    "start_time": "2022-03-15T17:18:14.259Z"
   },
   {
    "duration": 28,
    "start_time": "2022-03-15T17:18:29.031Z"
   },
   {
    "duration": 27,
    "start_time": "2022-03-15T17:18:43.811Z"
   },
   {
    "duration": 25,
    "start_time": "2022-03-15T17:18:57.499Z"
   },
   {
    "duration": 68,
    "start_time": "2022-03-15T17:19:29.627Z"
   },
   {
    "duration": 22,
    "start_time": "2022-03-15T17:19:29.698Z"
   },
   {
    "duration": 16,
    "start_time": "2022-03-15T17:19:29.723Z"
   },
   {
    "duration": 9,
    "start_time": "2022-03-15T17:19:29.743Z"
   },
   {
    "duration": 9,
    "start_time": "2022-03-15T17:19:29.783Z"
   },
   {
    "duration": 19,
    "start_time": "2022-03-15T17:19:29.795Z"
   },
   {
    "duration": 16,
    "start_time": "2022-03-15T17:19:29.817Z"
   },
   {
    "duration": 47,
    "start_time": "2022-03-15T17:19:29.838Z"
   },
   {
    "duration": 13,
    "start_time": "2022-03-15T17:19:29.888Z"
   },
   {
    "duration": 6,
    "start_time": "2022-03-15T17:19:29.904Z"
   },
   {
    "duration": 9,
    "start_time": "2022-03-15T17:19:29.913Z"
   },
   {
    "duration": 58,
    "start_time": "2022-03-15T17:19:29.924Z"
   },
   {
    "duration": 9,
    "start_time": "2022-03-15T17:19:29.985Z"
   },
   {
    "duration": 23,
    "start_time": "2022-03-15T17:19:29.997Z"
   },
   {
    "duration": 21,
    "start_time": "2022-03-15T17:19:30.023Z"
   },
   {
    "duration": 63,
    "start_time": "2022-03-15T17:19:30.082Z"
   },
   {
    "duration": 34,
    "start_time": "2022-03-15T17:19:30.148Z"
   },
   {
    "duration": 22,
    "start_time": "2022-03-15T17:19:30.186Z"
   },
   {
    "duration": 18,
    "start_time": "2022-03-15T17:19:30.211Z"
   },
   {
    "duration": 60,
    "start_time": "2022-03-15T17:19:30.232Z"
   },
   {
    "duration": 23,
    "start_time": "2022-03-15T17:19:30.294Z"
   },
   {
    "duration": 49,
    "start_time": "2022-03-15T17:19:30.321Z"
   },
   {
    "duration": 45,
    "start_time": "2022-03-15T17:19:30.373Z"
   },
   {
    "duration": 77,
    "start_time": "2022-03-15T17:20:16.459Z"
   },
   {
    "duration": 46,
    "start_time": "2022-03-15T17:20:16.539Z"
   },
   {
    "duration": 32,
    "start_time": "2022-03-15T17:20:16.589Z"
   },
   {
    "duration": 8,
    "start_time": "2022-03-15T17:20:16.624Z"
   },
   {
    "duration": 11,
    "start_time": "2022-03-15T17:20:16.635Z"
   },
   {
    "duration": 46,
    "start_time": "2022-03-15T17:20:16.649Z"
   },
   {
    "duration": 20,
    "start_time": "2022-03-15T17:20:16.699Z"
   },
   {
    "duration": 10,
    "start_time": "2022-03-15T17:20:16.724Z"
   },
   {
    "duration": 27,
    "start_time": "2022-03-15T17:20:16.738Z"
   },
   {
    "duration": 8,
    "start_time": "2022-03-15T17:20:16.791Z"
   },
   {
    "duration": 13,
    "start_time": "2022-03-15T17:20:16.802Z"
   },
   {
    "duration": 8,
    "start_time": "2022-03-15T17:20:16.818Z"
   },
   {
    "duration": 13,
    "start_time": "2022-03-15T17:20:16.828Z"
   },
   {
    "duration": 44,
    "start_time": "2022-03-15T17:20:16.843Z"
   },
   {
    "duration": 22,
    "start_time": "2022-03-15T17:20:16.889Z"
   },
   {
    "duration": 40,
    "start_time": "2022-03-15T17:20:16.914Z"
   },
   {
    "duration": 10,
    "start_time": "2022-03-15T17:20:16.983Z"
   },
   {
    "duration": 28,
    "start_time": "2022-03-15T17:20:16.996Z"
   },
   {
    "duration": 7,
    "start_time": "2022-03-15T17:20:17.027Z"
   },
   {
    "duration": 60,
    "start_time": "2022-03-15T17:20:17.037Z"
   },
   {
    "duration": 12,
    "start_time": "2022-03-15T17:20:17.099Z"
   },
   {
    "duration": 29,
    "start_time": "2022-03-15T17:20:17.115Z"
   },
   {
    "duration": 87,
    "start_time": "2022-03-15T17:20:17.148Z"
   },
   {
    "duration": 50,
    "start_time": "2022-03-15T17:20:38.322Z"
   },
   {
    "duration": 36,
    "start_time": "2022-03-15T17:20:46.831Z"
   },
   {
    "duration": 42,
    "start_time": "2022-03-15T17:21:19.871Z"
   },
   {
    "duration": 25,
    "start_time": "2022-03-15T17:21:42.286Z"
   },
   {
    "duration": 9,
    "start_time": "2022-03-15T17:22:04.410Z"
   },
   {
    "duration": 68,
    "start_time": "2022-03-15T17:22:15.778Z"
   },
   {
    "duration": 50,
    "start_time": "2022-03-15T17:22:15.849Z"
   },
   {
    "duration": 26,
    "start_time": "2022-03-15T17:22:15.903Z"
   },
   {
    "duration": 11,
    "start_time": "2022-03-15T17:22:15.932Z"
   },
   {
    "duration": 21,
    "start_time": "2022-03-15T17:22:15.945Z"
   },
   {
    "duration": 24,
    "start_time": "2022-03-15T17:22:15.968Z"
   },
   {
    "duration": 30,
    "start_time": "2022-03-15T17:22:15.995Z"
   },
   {
    "duration": 26,
    "start_time": "2022-03-15T17:22:16.029Z"
   },
   {
    "duration": 27,
    "start_time": "2022-03-15T17:22:16.058Z"
   },
   {
    "duration": 7,
    "start_time": "2022-03-15T17:22:16.087Z"
   },
   {
    "duration": 30,
    "start_time": "2022-03-15T17:22:16.097Z"
   },
   {
    "duration": 21,
    "start_time": "2022-03-15T17:22:16.130Z"
   },
   {
    "duration": 19,
    "start_time": "2022-03-15T17:22:16.153Z"
   },
   {
    "duration": 38,
    "start_time": "2022-03-15T17:22:16.174Z"
   },
   {
    "duration": 19,
    "start_time": "2022-03-15T17:22:16.214Z"
   },
   {
    "duration": 46,
    "start_time": "2022-03-15T17:22:16.236Z"
   },
   {
    "duration": 8,
    "start_time": "2022-03-15T17:22:16.284Z"
   },
   {
    "duration": 32,
    "start_time": "2022-03-15T17:22:16.295Z"
   },
   {
    "duration": 26,
    "start_time": "2022-03-15T17:22:16.329Z"
   },
   {
    "duration": 58,
    "start_time": "2022-03-15T17:22:16.357Z"
   },
   {
    "duration": 15,
    "start_time": "2022-03-15T17:22:16.418Z"
   },
   {
    "duration": 45,
    "start_time": "2022-03-15T17:22:16.435Z"
   },
   {
    "duration": 30,
    "start_time": "2022-03-15T17:22:16.486Z"
   },
   {
    "duration": 33,
    "start_time": "2022-03-15T17:23:13.855Z"
   },
   {
    "duration": 35,
    "start_time": "2022-03-15T17:23:22.746Z"
   },
   {
    "duration": 95,
    "start_time": "2022-03-15T17:23:27.626Z"
   },
   {
    "duration": 20,
    "start_time": "2022-03-15T17:23:27.724Z"
   },
   {
    "duration": 11,
    "start_time": "2022-03-15T17:23:27.747Z"
   },
   {
    "duration": 7,
    "start_time": "2022-03-15T17:23:27.783Z"
   },
   {
    "duration": 9,
    "start_time": "2022-03-15T17:23:27.793Z"
   },
   {
    "duration": 12,
    "start_time": "2022-03-15T17:23:27.805Z"
   },
   {
    "duration": 14,
    "start_time": "2022-03-15T17:23:27.819Z"
   },
   {
    "duration": 7,
    "start_time": "2022-03-15T17:23:27.884Z"
   },
   {
    "duration": 10,
    "start_time": "2022-03-15T17:23:27.894Z"
   },
   {
    "duration": 5,
    "start_time": "2022-03-15T17:23:27.907Z"
   },
   {
    "duration": 10,
    "start_time": "2022-03-15T17:23:27.914Z"
   },
   {
    "duration": 8,
    "start_time": "2022-03-15T17:23:27.927Z"
   },
   {
    "duration": 7,
    "start_time": "2022-03-15T17:23:27.982Z"
   },
   {
    "duration": 20,
    "start_time": "2022-03-15T17:23:27.991Z"
   },
   {
    "duration": 20,
    "start_time": "2022-03-15T17:23:28.013Z"
   },
   {
    "duration": 69,
    "start_time": "2022-03-15T17:23:28.035Z"
   },
   {
    "duration": 9,
    "start_time": "2022-03-15T17:23:28.107Z"
   },
   {
    "duration": 25,
    "start_time": "2022-03-15T17:23:28.119Z"
   },
   {
    "duration": 39,
    "start_time": "2022-03-15T17:23:28.146Z"
   },
   {
    "duration": 27,
    "start_time": "2022-03-15T17:23:28.187Z"
   },
   {
    "duration": 8,
    "start_time": "2022-03-15T17:23:28.217Z"
   },
   {
    "duration": 19,
    "start_time": "2022-03-15T17:23:28.227Z"
   },
   {
    "duration": 38,
    "start_time": "2022-03-15T17:23:28.281Z"
   },
   {
    "duration": 21,
    "start_time": "2022-03-15T17:24:27.362Z"
   },
   {
    "duration": 70,
    "start_time": "2022-03-15T17:24:32.098Z"
   },
   {
    "duration": 21,
    "start_time": "2022-03-15T17:24:32.182Z"
   },
   {
    "duration": 14,
    "start_time": "2022-03-15T17:24:32.207Z"
   },
   {
    "duration": 14,
    "start_time": "2022-03-15T17:24:32.223Z"
   },
   {
    "duration": 43,
    "start_time": "2022-03-15T17:24:32.240Z"
   },
   {
    "duration": 18,
    "start_time": "2022-03-15T17:24:32.287Z"
   },
   {
    "duration": 13,
    "start_time": "2022-03-15T17:24:32.308Z"
   },
   {
    "duration": 7,
    "start_time": "2022-03-15T17:24:32.326Z"
   },
   {
    "duration": 70,
    "start_time": "2022-03-15T17:24:32.336Z"
   },
   {
    "duration": 7,
    "start_time": "2022-03-15T17:24:32.411Z"
   },
   {
    "duration": 21,
    "start_time": "2022-03-15T17:24:32.421Z"
   },
   {
    "duration": 18,
    "start_time": "2022-03-15T17:24:32.445Z"
   },
   {
    "duration": 19,
    "start_time": "2022-03-15T17:24:32.466Z"
   },
   {
    "duration": 21,
    "start_time": "2022-03-15T17:24:32.489Z"
   },
   {
    "duration": 23,
    "start_time": "2022-03-15T17:24:32.513Z"
   },
   {
    "duration": 80,
    "start_time": "2022-03-15T17:24:32.538Z"
   },
   {
    "duration": 9,
    "start_time": "2022-03-15T17:24:32.621Z"
   },
   {
    "duration": 58,
    "start_time": "2022-03-15T17:24:32.633Z"
   },
   {
    "duration": 11,
    "start_time": "2022-03-15T17:24:32.694Z"
   },
   {
    "duration": 39,
    "start_time": "2022-03-15T17:24:32.707Z"
   },
   {
    "duration": 34,
    "start_time": "2022-03-15T17:24:32.749Z"
   },
   {
    "duration": 25,
    "start_time": "2022-03-15T17:24:32.786Z"
   },
   {
    "duration": 20,
    "start_time": "2022-03-15T17:24:32.816Z"
   },
   {
    "duration": 15,
    "start_time": "2022-03-15T17:27:53.117Z"
   },
   {
    "duration": 11,
    "start_time": "2022-03-15T17:30:34.073Z"
   },
   {
    "duration": 10,
    "start_time": "2022-03-15T17:32:10.996Z"
   },
   {
    "duration": 207,
    "start_time": "2022-03-16T04:19:12.076Z"
   },
   {
    "duration": 597,
    "start_time": "2022-03-16T04:19:27.276Z"
   },
   {
    "duration": 22,
    "start_time": "2022-03-16T04:19:27.875Z"
   },
   {
    "duration": 9,
    "start_time": "2022-03-16T04:19:27.899Z"
   },
   {
    "duration": 7,
    "start_time": "2022-03-16T04:19:27.911Z"
   },
   {
    "duration": 6,
    "start_time": "2022-03-16T04:19:27.920Z"
   },
   {
    "duration": 37,
    "start_time": "2022-03-16T04:19:27.927Z"
   },
   {
    "duration": 9,
    "start_time": "2022-03-16T04:19:27.966Z"
   },
   {
    "duration": 5,
    "start_time": "2022-03-16T04:19:27.978Z"
   },
   {
    "duration": 7,
    "start_time": "2022-03-16T04:19:27.985Z"
   },
   {
    "duration": 4,
    "start_time": "2022-03-16T04:19:27.994Z"
   },
   {
    "duration": 6,
    "start_time": "2022-03-16T04:19:28.000Z"
   },
   {
    "duration": 9,
    "start_time": "2022-03-16T04:19:28.008Z"
   },
   {
    "duration": 46,
    "start_time": "2022-03-16T04:19:28.019Z"
   },
   {
    "duration": 12,
    "start_time": "2022-03-16T04:19:28.067Z"
   },
   {
    "duration": 13,
    "start_time": "2022-03-16T04:19:28.081Z"
   },
   {
    "duration": 30,
    "start_time": "2022-03-16T04:19:28.096Z"
   },
   {
    "duration": 7,
    "start_time": "2022-03-16T04:19:28.127Z"
   },
   {
    "duration": 17,
    "start_time": "2022-03-16T04:19:28.163Z"
   },
   {
    "duration": 9,
    "start_time": "2022-03-16T04:19:28.181Z"
   },
   {
    "duration": 17,
    "start_time": "2022-03-16T04:19:28.192Z"
   },
   {
    "duration": 9,
    "start_time": "2022-03-16T04:19:28.210Z"
   },
   {
    "duration": 13,
    "start_time": "2022-03-16T04:19:28.220Z"
   },
   {
    "duration": 36,
    "start_time": "2022-03-16T04:19:28.236Z"
   },
   {
    "duration": 8,
    "start_time": "2022-03-16T04:19:28.274Z"
   },
   {
    "duration": 8,
    "start_time": "2022-03-16T04:19:28.284Z"
   },
   {
    "duration": 7,
    "start_time": "2022-03-16T04:19:28.294Z"
   },
   {
    "duration": 7,
    "start_time": "2022-03-16T04:21:04.104Z"
   },
   {
    "duration": 223,
    "start_time": "2022-03-16T04:26:37.122Z"
   },
   {
    "duration": 168,
    "start_time": "2022-03-16T04:26:39.918Z"
   },
   {
    "duration": 4,
    "start_time": "2022-03-16T04:26:45.906Z"
   },
   {
    "duration": 5,
    "start_time": "2022-03-16T04:27:11.150Z"
   },
   {
    "duration": 17,
    "start_time": "2022-03-16T04:27:19.965Z"
   },
   {
    "duration": 12,
    "start_time": "2022-03-16T04:28:14.927Z"
   },
   {
    "duration": 13,
    "start_time": "2022-03-16T04:28:41.445Z"
   },
   {
    "duration": 61,
    "start_time": "2022-03-16T05:02:33.204Z"
   },
   {
    "duration": 3,
    "start_time": "2022-03-16T05:02:47.296Z"
   },
   {
    "duration": 9,
    "start_time": "2022-03-16T05:02:49.412Z"
   },
   {
    "duration": 177,
    "start_time": "2022-03-16T05:02:58.980Z"
   },
   {
    "duration": 17,
    "start_time": "2022-03-16T05:03:07.912Z"
   },
   {
    "duration": 3,
    "start_time": "2022-03-16T05:11:24.322Z"
   },
   {
    "duration": 3,
    "start_time": "2022-03-16T05:13:14.562Z"
   },
   {
    "duration": 3,
    "start_time": "2022-03-16T05:23:07.611Z"
   },
   {
    "duration": 18,
    "start_time": "2022-03-16T05:33:54.025Z"
   },
   {
    "duration": 14,
    "start_time": "2022-03-16T05:34:36.664Z"
   },
   {
    "duration": 18,
    "start_time": "2022-03-16T05:34:57.468Z"
   },
   {
    "duration": 23,
    "start_time": "2022-03-16T05:35:27.943Z"
   },
   {
    "duration": 27,
    "start_time": "2022-03-16T05:35:44.363Z"
   },
   {
    "duration": 5,
    "start_time": "2022-03-16T05:36:07.164Z"
   },
   {
    "duration": 27,
    "start_time": "2022-03-16T05:36:10.137Z"
   },
   {
    "duration": 18,
    "start_time": "2022-03-16T07:59:58.586Z"
   },
   {
    "duration": 18,
    "start_time": "2022-03-16T08:00:24.842Z"
   },
   {
    "duration": 3,
    "start_time": "2022-03-16T08:00:29.898Z"
   },
   {
    "duration": 21,
    "start_time": "2022-03-16T08:00:32.330Z"
   },
   {
    "duration": 13,
    "start_time": "2022-03-16T08:00:48.746Z"
   },
   {
    "duration": 14,
    "start_time": "2022-03-16T08:12:45.655Z"
   },
   {
    "duration": 16,
    "start_time": "2022-03-16T08:13:00.618Z"
   },
   {
    "duration": 277,
    "start_time": "2022-03-16T16:12:05.251Z"
   },
   {
    "duration": 71,
    "start_time": "2022-03-16T16:18:11.054Z"
   },
   {
    "duration": 192,
    "start_time": "2022-03-16T16:22:05.757Z"
   },
   {
    "duration": 288,
    "start_time": "2022-03-16T16:22:18.660Z"
   },
   {
    "duration": 11,
    "start_time": "2022-03-16T16:24:48.808Z"
   },
   {
    "duration": 214,
    "start_time": "2022-03-16T16:28:36.603Z"
   },
   {
    "duration": 33,
    "start_time": "2022-03-16T16:28:55.011Z"
   },
   {
    "duration": 308,
    "start_time": "2022-03-16T16:29:49.639Z"
   },
   {
    "duration": 225,
    "start_time": "2022-03-16T16:30:13.003Z"
   },
   {
    "duration": 231,
    "start_time": "2022-03-16T16:33:58.831Z"
   },
   {
    "duration": 223,
    "start_time": "2022-03-16T16:34:46.066Z"
   },
   {
    "duration": 199,
    "start_time": "2022-03-16T16:34:55.383Z"
   },
   {
    "duration": 188,
    "start_time": "2022-03-16T16:36:41.831Z"
   },
   {
    "duration": 370,
    "start_time": "2022-03-16T16:36:50.309Z"
   },
   {
    "duration": 222,
    "start_time": "2022-03-16T16:37:02.302Z"
   },
   {
    "duration": 18,
    "start_time": "2022-03-16T16:37:18.434Z"
   },
   {
    "duration": 23,
    "start_time": "2022-03-16T16:37:39.354Z"
   },
   {
    "duration": 18,
    "start_time": "2022-03-16T16:37:50.637Z"
   },
   {
    "duration": 21,
    "start_time": "2022-03-16T16:38:30.917Z"
   },
   {
    "duration": 19,
    "start_time": "2022-03-16T16:40:36.300Z"
   },
   {
    "duration": 23,
    "start_time": "2022-03-16T16:40:47.253Z"
   },
   {
    "duration": 19,
    "start_time": "2022-03-16T16:41:01.849Z"
   },
   {
    "duration": 233,
    "start_time": "2022-03-16T16:41:15.475Z"
   },
   {
    "duration": 21,
    "start_time": "2022-03-16T16:42:05.132Z"
   },
   {
    "duration": 22,
    "start_time": "2022-03-16T16:42:13.944Z"
   },
   {
    "duration": 300,
    "start_time": "2022-03-17T03:27:41.473Z"
   },
   {
    "duration": 645,
    "start_time": "2022-03-17T03:27:46.073Z"
   },
   {
    "duration": 18,
    "start_time": "2022-03-17T03:27:46.720Z"
   },
   {
    "duration": 9,
    "start_time": "2022-03-17T03:27:46.740Z"
   },
   {
    "duration": 5,
    "start_time": "2022-03-17T03:27:46.751Z"
   },
   {
    "duration": 5,
    "start_time": "2022-03-17T03:27:46.758Z"
   },
   {
    "duration": 37,
    "start_time": "2022-03-17T03:27:46.765Z"
   },
   {
    "duration": 8,
    "start_time": "2022-03-17T03:27:46.803Z"
   },
   {
    "duration": 4,
    "start_time": "2022-03-17T03:27:46.813Z"
   },
   {
    "duration": 6,
    "start_time": "2022-03-17T03:27:46.819Z"
   },
   {
    "duration": 4,
    "start_time": "2022-03-17T03:27:46.827Z"
   },
   {
    "duration": 6,
    "start_time": "2022-03-17T03:27:46.832Z"
   },
   {
    "duration": 6,
    "start_time": "2022-03-17T03:27:46.840Z"
   },
   {
    "duration": 5,
    "start_time": "2022-03-17T03:27:46.848Z"
   },
   {
    "duration": 57,
    "start_time": "2022-03-17T03:27:46.855Z"
   },
   {
    "duration": 14,
    "start_time": "2022-03-17T03:27:46.914Z"
   },
   {
    "duration": 26,
    "start_time": "2022-03-17T03:27:46.930Z"
   },
   {
    "duration": 7,
    "start_time": "2022-03-17T03:27:46.958Z"
   },
   {
    "duration": 40,
    "start_time": "2022-03-17T03:27:46.967Z"
   },
   {
    "duration": 6,
    "start_time": "2022-03-17T03:27:47.009Z"
   },
   {
    "duration": 17,
    "start_time": "2022-03-17T03:27:47.017Z"
   },
   {
    "duration": 7,
    "start_time": "2022-03-17T03:27:47.036Z"
   },
   {
    "duration": 15,
    "start_time": "2022-03-17T03:27:47.045Z"
   },
   {
    "duration": 8,
    "start_time": "2022-03-17T03:27:47.064Z"
   },
   {
    "duration": 7,
    "start_time": "2022-03-17T03:27:47.101Z"
   },
   {
    "duration": 8,
    "start_time": "2022-03-17T03:27:47.110Z"
   },
   {
    "duration": 7,
    "start_time": "2022-03-17T03:27:47.120Z"
   },
   {
    "duration": 10,
    "start_time": "2022-03-17T03:27:47.129Z"
   },
   {
    "duration": 20,
    "start_time": "2022-03-17T03:27:47.140Z"
   },
   {
    "duration": 4,
    "start_time": "2022-03-17T03:27:47.162Z"
   },
   {
    "duration": 46,
    "start_time": "2022-03-17T03:27:47.168Z"
   },
   {
    "duration": 4,
    "start_time": "2022-03-17T03:27:47.216Z"
   },
   {
    "duration": 15,
    "start_time": "2022-03-17T03:27:47.221Z"
   },
   {
    "duration": 18,
    "start_time": "2022-03-17T03:27:47.237Z"
   },
   {
    "duration": 12,
    "start_time": "2022-03-17T03:27:47.257Z"
   },
   {
    "duration": 10,
    "start_time": "2022-03-17T03:29:10.605Z"
   },
   {
    "duration": 295,
    "start_time": "2022-03-17T03:30:33.712Z"
   },
   {
    "duration": 13,
    "start_time": "2022-03-17T03:30:45.020Z"
   },
   {
    "duration": 62,
    "start_time": "2022-03-17T03:30:59.832Z"
   },
   {
    "duration": 13,
    "start_time": "2022-03-17T03:30:59.896Z"
   },
   {
    "duration": 8,
    "start_time": "2022-03-17T03:30:59.911Z"
   },
   {
    "duration": 4,
    "start_time": "2022-03-17T03:30:59.921Z"
   },
   {
    "duration": 4,
    "start_time": "2022-03-17T03:30:59.927Z"
   },
   {
    "duration": 10,
    "start_time": "2022-03-17T03:30:59.932Z"
   },
   {
    "duration": 7,
    "start_time": "2022-03-17T03:30:59.943Z"
   },
   {
    "duration": 7,
    "start_time": "2022-03-17T03:30:59.953Z"
   },
   {
    "duration": 47,
    "start_time": "2022-03-17T03:30:59.962Z"
   },
   {
    "duration": 4,
    "start_time": "2022-03-17T03:31:00.011Z"
   },
   {
    "duration": 15,
    "start_time": "2022-03-17T03:31:00.017Z"
   },
   {
    "duration": 8,
    "start_time": "2022-03-17T03:31:00.035Z"
   },
   {
    "duration": 14,
    "start_time": "2022-03-17T03:31:00.044Z"
   },
   {
    "duration": 15,
    "start_time": "2022-03-17T03:31:00.059Z"
   },
   {
    "duration": 30,
    "start_time": "2022-03-17T03:31:00.075Z"
   },
   {
    "duration": 28,
    "start_time": "2022-03-17T03:31:00.106Z"
   },
   {
    "duration": 7,
    "start_time": "2022-03-17T03:31:00.135Z"
   },
   {
    "duration": 17,
    "start_time": "2022-03-17T03:31:00.143Z"
   },
   {
    "duration": 8,
    "start_time": "2022-03-17T03:31:00.162Z"
   },
   {
    "duration": 44,
    "start_time": "2022-03-17T03:31:00.172Z"
   },
   {
    "duration": 10,
    "start_time": "2022-03-17T03:31:00.218Z"
   },
   {
    "duration": 13,
    "start_time": "2022-03-17T03:31:00.229Z"
   },
   {
    "duration": 13,
    "start_time": "2022-03-17T03:31:00.244Z"
   },
   {
    "duration": 6,
    "start_time": "2022-03-17T03:31:00.259Z"
   },
   {
    "duration": 14,
    "start_time": "2022-03-17T03:31:00.267Z"
   },
   {
    "duration": 18,
    "start_time": "2022-03-17T03:31:00.283Z"
   },
   {
    "duration": 11,
    "start_time": "2022-03-17T03:31:00.302Z"
   },
   {
    "duration": 17,
    "start_time": "2022-03-17T03:31:00.315Z"
   },
   {
    "duration": 4,
    "start_time": "2022-03-17T03:31:00.334Z"
   },
   {
    "duration": 21,
    "start_time": "2022-03-17T03:31:00.340Z"
   },
   {
    "duration": 7,
    "start_time": "2022-03-17T03:31:00.363Z"
   },
   {
    "duration": 21,
    "start_time": "2022-03-17T03:31:00.371Z"
   },
   {
    "duration": 24,
    "start_time": "2022-03-17T03:31:00.393Z"
   },
   {
    "duration": 16,
    "start_time": "2022-03-17T03:31:00.418Z"
   },
   {
    "duration": 13,
    "start_time": "2022-03-17T03:31:31.336Z"
   },
   {
    "duration": 13,
    "start_time": "2022-03-17T03:31:48.144Z"
   },
   {
    "duration": 13,
    "start_time": "2022-03-17T03:31:52.340Z"
   },
   {
    "duration": 255,
    "start_time": "2022-03-17T03:32:24.472Z"
   },
   {
    "duration": 260,
    "start_time": "2022-03-17T03:32:26.696Z"
   },
   {
    "duration": 58,
    "start_time": "2022-03-17T03:32:32.188Z"
   },
   {
    "duration": 13,
    "start_time": "2022-03-17T03:32:32.248Z"
   },
   {
    "duration": 37,
    "start_time": "2022-03-17T03:32:32.264Z"
   },
   {
    "duration": 5,
    "start_time": "2022-03-17T03:32:32.303Z"
   },
   {
    "duration": 5,
    "start_time": "2022-03-17T03:32:32.309Z"
   },
   {
    "duration": 9,
    "start_time": "2022-03-17T03:32:32.316Z"
   },
   {
    "duration": 9,
    "start_time": "2022-03-17T03:32:32.326Z"
   },
   {
    "duration": 4,
    "start_time": "2022-03-17T03:32:32.338Z"
   },
   {
    "duration": 7,
    "start_time": "2022-03-17T03:32:32.345Z"
   },
   {
    "duration": 48,
    "start_time": "2022-03-17T03:32:32.354Z"
   },
   {
    "duration": 6,
    "start_time": "2022-03-17T03:32:32.404Z"
   },
   {
    "duration": 5,
    "start_time": "2022-03-17T03:32:32.412Z"
   },
   {
    "duration": 7,
    "start_time": "2022-03-17T03:32:32.419Z"
   },
   {
    "duration": 13,
    "start_time": "2022-03-17T03:32:32.428Z"
   },
   {
    "duration": 12,
    "start_time": "2022-03-17T03:32:32.443Z"
   },
   {
    "duration": 54,
    "start_time": "2022-03-17T03:32:32.456Z"
   },
   {
    "duration": 6,
    "start_time": "2022-03-17T03:32:32.511Z"
   },
   {
    "duration": 15,
    "start_time": "2022-03-17T03:32:32.519Z"
   },
   {
    "duration": 8,
    "start_time": "2022-03-17T03:32:32.536Z"
   },
   {
    "duration": 16,
    "start_time": "2022-03-17T03:32:32.545Z"
   },
   {
    "duration": 6,
    "start_time": "2022-03-17T03:32:32.563Z"
   },
   {
    "duration": 39,
    "start_time": "2022-03-17T03:32:32.570Z"
   },
   {
    "duration": 9,
    "start_time": "2022-03-17T03:32:32.612Z"
   },
   {
    "duration": 6,
    "start_time": "2022-03-17T03:32:32.622Z"
   },
   {
    "duration": 9,
    "start_time": "2022-03-17T03:32:32.629Z"
   },
   {
    "duration": 12,
    "start_time": "2022-03-17T03:32:32.639Z"
   },
   {
    "duration": 12,
    "start_time": "2022-03-17T03:32:32.653Z"
   },
   {
    "duration": 16,
    "start_time": "2022-03-17T03:32:32.666Z"
   },
   {
    "duration": 19,
    "start_time": "2022-03-17T03:32:32.684Z"
   },
   {
    "duration": 16,
    "start_time": "2022-03-17T03:32:32.704Z"
   },
   {
    "duration": 2,
    "start_time": "2022-03-17T03:32:32.722Z"
   },
   {
    "duration": 15,
    "start_time": "2022-03-17T03:32:32.726Z"
   },
   {
    "duration": 14,
    "start_time": "2022-03-17T03:32:32.742Z"
   },
   {
    "duration": 12,
    "start_time": "2022-03-17T03:32:32.757Z"
   },
   {
    "duration": 267,
    "start_time": "2022-03-17T03:33:58.835Z"
   },
   {
    "duration": 288,
    "start_time": "2022-03-17T03:34:06.315Z"
   },
   {
    "duration": 56,
    "start_time": "2022-03-17T03:34:17.171Z"
   },
   {
    "duration": 13,
    "start_time": "2022-03-17T03:34:17.229Z"
   },
   {
    "duration": 10,
    "start_time": "2022-03-17T03:34:17.244Z"
   },
   {
    "duration": 6,
    "start_time": "2022-03-17T03:34:17.255Z"
   },
   {
    "duration": 41,
    "start_time": "2022-03-17T03:34:17.262Z"
   },
   {
    "duration": 10,
    "start_time": "2022-03-17T03:34:17.304Z"
   },
   {
    "duration": 8,
    "start_time": "2022-03-17T03:34:17.315Z"
   },
   {
    "duration": 5,
    "start_time": "2022-03-17T03:34:17.326Z"
   },
   {
    "duration": 7,
    "start_time": "2022-03-17T03:34:17.333Z"
   },
   {
    "duration": 8,
    "start_time": "2022-03-17T03:34:17.341Z"
   },
   {
    "duration": 8,
    "start_time": "2022-03-17T03:34:17.350Z"
   },
   {
    "duration": 7,
    "start_time": "2022-03-17T03:34:17.400Z"
   },
   {
    "duration": 5,
    "start_time": "2022-03-17T03:34:17.409Z"
   },
   {
    "duration": 12,
    "start_time": "2022-03-17T03:34:17.415Z"
   },
   {
    "duration": 13,
    "start_time": "2022-03-17T03:34:17.428Z"
   },
   {
    "duration": 25,
    "start_time": "2022-03-17T03:34:17.442Z"
   },
   {
    "duration": 36,
    "start_time": "2022-03-17T03:34:17.468Z"
   },
   {
    "duration": 15,
    "start_time": "2022-03-17T03:34:17.505Z"
   },
   {
    "duration": 8,
    "start_time": "2022-03-17T03:34:17.522Z"
   },
   {
    "duration": 17,
    "start_time": "2022-03-17T03:34:17.531Z"
   },
   {
    "duration": 6,
    "start_time": "2022-03-17T03:34:17.549Z"
   },
   {
    "duration": 13,
    "start_time": "2022-03-17T03:34:17.557Z"
   },
   {
    "duration": 35,
    "start_time": "2022-03-17T03:34:17.572Z"
   },
   {
    "duration": 11,
    "start_time": "2022-03-17T03:34:17.609Z"
   },
   {
    "duration": 8,
    "start_time": "2022-03-17T03:34:17.622Z"
   },
   {
    "duration": 274,
    "start_time": "2022-03-17T03:34:17.632Z"
   },
   {
    "duration": -87,
    "start_time": "2022-03-17T03:34:17.995Z"
   },
   {
    "duration": -89,
    "start_time": "2022-03-17T03:34:17.998Z"
   },
   {
    "duration": -91,
    "start_time": "2022-03-17T03:34:18.001Z"
   },
   {
    "duration": -93,
    "start_time": "2022-03-17T03:34:18.004Z"
   },
   {
    "duration": -95,
    "start_time": "2022-03-17T03:34:18.007Z"
   },
   {
    "duration": -98,
    "start_time": "2022-03-17T03:34:18.011Z"
   },
   {
    "duration": -100,
    "start_time": "2022-03-17T03:34:18.014Z"
   },
   {
    "duration": -102,
    "start_time": "2022-03-17T03:34:18.017Z"
   },
   {
    "duration": 9,
    "start_time": "2022-03-17T03:34:37.827Z"
   },
   {
    "duration": 297,
    "start_time": "2022-03-17T03:34:53.031Z"
   },
   {
    "duration": 449,
    "start_time": "2022-03-17T03:35:19.159Z"
   },
   {
    "duration": 7,
    "start_time": "2022-03-17T03:35:34.271Z"
   },
   {
    "duration": 16,
    "start_time": "2022-03-17T04:26:09.860Z"
   },
   {
    "duration": 21,
    "start_time": "2022-03-17T04:26:38.680Z"
   },
   {
    "duration": 21,
    "start_time": "2022-03-17T04:27:08.988Z"
   },
   {
    "duration": 23,
    "start_time": "2022-03-17T04:27:19.816Z"
   },
   {
    "duration": 7,
    "start_time": "2022-03-17T04:27:38.672Z"
   },
   {
    "duration": 20,
    "start_time": "2022-03-17T04:27:48.952Z"
   },
   {
    "duration": 9,
    "start_time": "2022-03-17T04:28:06.414Z"
   },
   {
    "duration": 8,
    "start_time": "2022-03-17T04:29:03.447Z"
   },
   {
    "duration": 8,
    "start_time": "2022-03-17T04:29:28.659Z"
   },
   {
    "duration": 22,
    "start_time": "2022-03-17T04:29:40.839Z"
   },
   {
    "duration": 22,
    "start_time": "2022-03-17T04:29:48.643Z"
   },
   {
    "duration": 22,
    "start_time": "2022-03-17T04:30:26.579Z"
   },
   {
    "duration": 22,
    "start_time": "2022-03-17T04:30:37.627Z"
   },
   {
    "duration": 20,
    "start_time": "2022-03-17T04:30:52.022Z"
   },
   {
    "duration": 19,
    "start_time": "2022-03-17T04:31:03.775Z"
   },
   {
    "duration": 8,
    "start_time": "2022-03-17T04:31:16.615Z"
   },
   {
    "duration": 15,
    "start_time": "2022-03-17T04:42:48.612Z"
   },
   {
    "duration": 550,
    "start_time": "2022-03-17T09:29:21.012Z"
   },
   {
    "duration": 24,
    "start_time": "2022-03-17T09:29:21.565Z"
   },
   {
    "duration": 11,
    "start_time": "2022-03-17T09:29:21.591Z"
   },
   {
    "duration": 6,
    "start_time": "2022-03-17T09:29:21.604Z"
   },
   {
    "duration": 13,
    "start_time": "2022-03-17T09:29:21.633Z"
   },
   {
    "duration": 15,
    "start_time": "2022-03-17T09:29:21.648Z"
   },
   {
    "duration": 12,
    "start_time": "2022-03-17T09:29:21.665Z"
   },
   {
    "duration": 7,
    "start_time": "2022-03-17T09:29:21.679Z"
   },
   {
    "duration": 9,
    "start_time": "2022-03-17T09:29:21.687Z"
   },
   {
    "duration": 10,
    "start_time": "2022-03-17T09:29:21.731Z"
   },
   {
    "duration": 14,
    "start_time": "2022-03-17T09:29:21.743Z"
   },
   {
    "duration": 8,
    "start_time": "2022-03-17T09:29:21.759Z"
   },
   {
    "duration": 6,
    "start_time": "2022-03-17T09:29:21.769Z"
   },
   {
    "duration": 25,
    "start_time": "2022-03-17T09:29:21.777Z"
   },
   {
    "duration": 45,
    "start_time": "2022-03-17T09:29:21.803Z"
   },
   {
    "duration": 35,
    "start_time": "2022-03-17T09:29:21.850Z"
   },
   {
    "duration": 11,
    "start_time": "2022-03-17T09:29:21.886Z"
   },
   {
    "duration": 52,
    "start_time": "2022-03-17T09:29:21.899Z"
   },
   {
    "duration": 19,
    "start_time": "2022-03-17T09:29:21.952Z"
   },
   {
    "duration": 23,
    "start_time": "2022-03-17T09:29:21.973Z"
   },
   {
    "duration": 7,
    "start_time": "2022-03-17T09:29:21.998Z"
   },
   {
    "duration": 33,
    "start_time": "2022-03-17T09:29:22.006Z"
   },
   {
    "duration": 21,
    "start_time": "2022-03-17T09:29:22.041Z"
   },
   {
    "duration": 9,
    "start_time": "2022-03-17T09:29:22.064Z"
   },
   {
    "duration": 12,
    "start_time": "2022-03-17T09:29:22.075Z"
   },
   {
    "duration": 10,
    "start_time": "2022-03-17T09:29:22.089Z"
   },
   {
    "duration": 7,
    "start_time": "2022-03-17T09:29:22.100Z"
   },
   {
    "duration": 43,
    "start_time": "2022-03-17T09:29:22.110Z"
   },
   {
    "duration": 4,
    "start_time": "2022-03-17T09:29:22.155Z"
   },
   {
    "duration": 28,
    "start_time": "2022-03-17T09:29:22.161Z"
   },
   {
    "duration": 4,
    "start_time": "2022-03-17T09:29:22.191Z"
   },
   {
    "duration": 44,
    "start_time": "2022-03-17T09:29:22.197Z"
   },
   {
    "duration": 19,
    "start_time": "2022-03-17T09:29:22.243Z"
   },
   {
    "duration": 15,
    "start_time": "2022-03-17T09:29:22.264Z"
   },
   {
    "duration": 76,
    "start_time": "2022-03-17T09:32:13.495Z"
   },
   {
    "duration": 54,
    "start_time": "2022-03-17T09:32:52.460Z"
   },
   {
    "duration": 1306,
    "start_time": "2022-03-17T09:33:01.980Z"
   },
   {
    "duration": 26,
    "start_time": "2022-03-17T09:33:03.288Z"
   },
   {
    "duration": 13,
    "start_time": "2022-03-17T09:33:03.316Z"
   },
   {
    "duration": 20,
    "start_time": "2022-03-17T09:33:03.335Z"
   },
   {
    "duration": 10,
    "start_time": "2022-03-17T09:33:03.357Z"
   },
   {
    "duration": 18,
    "start_time": "2022-03-17T09:33:03.370Z"
   },
   {
    "duration": 13,
    "start_time": "2022-03-17T09:33:03.390Z"
   },
   {
    "duration": 10,
    "start_time": "2022-03-17T09:33:03.405Z"
   },
   {
    "duration": 36,
    "start_time": "2022-03-17T09:33:03.417Z"
   },
   {
    "duration": 7,
    "start_time": "2022-03-17T09:33:03.456Z"
   },
   {
    "duration": 27,
    "start_time": "2022-03-17T09:33:03.465Z"
   },
   {
    "duration": 13,
    "start_time": "2022-03-17T09:33:03.494Z"
   },
   {
    "duration": 9,
    "start_time": "2022-03-17T09:33:03.509Z"
   },
   {
    "duration": 32,
    "start_time": "2022-03-17T09:33:03.520Z"
   },
   {
    "duration": 30,
    "start_time": "2022-03-17T09:33:03.555Z"
   },
   {
    "duration": 57,
    "start_time": "2022-03-17T09:33:03.587Z"
   },
   {
    "duration": 11,
    "start_time": "2022-03-17T09:33:03.645Z"
   },
   {
    "duration": 22,
    "start_time": "2022-03-17T09:33:03.658Z"
   },
   {
    "duration": 10,
    "start_time": "2022-03-17T09:33:03.682Z"
   },
   {
    "duration": 58,
    "start_time": "2022-03-17T09:33:03.694Z"
   },
   {
    "duration": 10,
    "start_time": "2022-03-17T09:33:03.754Z"
   },
   {
    "duration": 27,
    "start_time": "2022-03-17T09:33:03.766Z"
   },
   {
    "duration": 17,
    "start_time": "2022-03-17T09:33:03.795Z"
   },
   {
    "duration": 21,
    "start_time": "2022-03-17T09:33:03.814Z"
   },
   {
    "duration": 26,
    "start_time": "2022-03-17T09:33:03.837Z"
   },
   {
    "duration": 9,
    "start_time": "2022-03-17T09:33:03.865Z"
   },
   {
    "duration": 14,
    "start_time": "2022-03-17T09:33:03.876Z"
   },
   {
    "duration": 46,
    "start_time": "2022-03-17T09:33:03.895Z"
   },
   {
    "duration": 5,
    "start_time": "2022-03-17T09:33:03.943Z"
   },
   {
    "duration": 36,
    "start_time": "2022-03-17T09:33:03.949Z"
   },
   {
    "duration": 3,
    "start_time": "2022-03-17T09:33:03.987Z"
   },
   {
    "duration": 18,
    "start_time": "2022-03-17T09:33:03.992Z"
   },
   {
    "duration": 43,
    "start_time": "2022-03-17T09:33:04.012Z"
   },
   {
    "duration": 74,
    "start_time": "2022-03-17T09:33:42.892Z"
   },
   {
    "duration": 979,
    "start_time": "2022-03-17T09:33:46.984Z"
   },
   {
    "duration": 23,
    "start_time": "2022-03-17T09:33:47.966Z"
   },
   {
    "duration": 10,
    "start_time": "2022-03-17T09:33:47.991Z"
   },
   {
    "duration": 9,
    "start_time": "2022-03-17T09:33:48.003Z"
   },
   {
    "duration": 7,
    "start_time": "2022-03-17T09:33:48.013Z"
   },
   {
    "duration": 18,
    "start_time": "2022-03-17T09:33:48.033Z"
   },
   {
    "duration": 8,
    "start_time": "2022-03-17T09:33:48.053Z"
   },
   {
    "duration": 8,
    "start_time": "2022-03-17T09:33:48.063Z"
   },
   {
    "duration": 9,
    "start_time": "2022-03-17T09:33:48.073Z"
   },
   {
    "duration": 4,
    "start_time": "2022-03-17T09:33:48.085Z"
   },
   {
    "duration": 8,
    "start_time": "2022-03-17T09:33:48.091Z"
   },
   {
    "duration": 38,
    "start_time": "2022-03-17T09:33:48.100Z"
   },
   {
    "duration": 30,
    "start_time": "2022-03-17T09:33:48.140Z"
   },
   {
    "duration": 30,
    "start_time": "2022-03-17T09:33:48.172Z"
   },
   {
    "duration": 20,
    "start_time": "2022-03-17T09:33:48.204Z"
   },
   {
    "duration": 45,
    "start_time": "2022-03-17T09:33:48.227Z"
   },
   {
    "duration": 8,
    "start_time": "2022-03-17T09:33:48.273Z"
   },
   {
    "duration": 24,
    "start_time": "2022-03-17T09:33:48.283Z"
   },
   {
    "duration": 25,
    "start_time": "2022-03-17T09:33:48.309Z"
   },
   {
    "duration": 40,
    "start_time": "2022-03-17T09:33:48.335Z"
   },
   {
    "duration": 22,
    "start_time": "2022-03-17T09:33:48.377Z"
   },
   {
    "duration": 24,
    "start_time": "2022-03-17T09:33:48.401Z"
   },
   {
    "duration": 34,
    "start_time": "2022-03-17T09:33:48.427Z"
   },
   {
    "duration": 8,
    "start_time": "2022-03-17T09:33:48.463Z"
   },
   {
    "duration": 16,
    "start_time": "2022-03-17T09:33:48.473Z"
   },
   {
    "duration": 22,
    "start_time": "2022-03-17T09:33:48.491Z"
   },
   {
    "duration": 45,
    "start_time": "2022-03-17T09:33:48.515Z"
   },
   {
    "duration": 24,
    "start_time": "2022-03-17T09:33:48.564Z"
   },
   {
    "duration": 5,
    "start_time": "2022-03-17T09:33:48.590Z"
   },
   {
    "duration": 43,
    "start_time": "2022-03-17T09:33:48.597Z"
   },
   {
    "duration": 16,
    "start_time": "2022-03-17T09:33:48.642Z"
   },
   {
    "duration": 24,
    "start_time": "2022-03-17T09:33:48.660Z"
   },
   {
    "duration": 18,
    "start_time": "2022-03-17T09:33:48.686Z"
   },
   {
    "duration": 877,
    "start_time": "2022-03-17T09:34:02.081Z"
   },
   {
    "duration": 24,
    "start_time": "2022-03-17T09:34:05.771Z"
   },
   {
    "duration": 21,
    "start_time": "2022-03-17T09:34:10.072Z"
   },
   {
    "duration": 18,
    "start_time": "2022-03-17T09:34:13.032Z"
   },
   {
    "duration": 12,
    "start_time": "2022-03-17T09:34:14.963Z"
   },
   {
    "duration": 8,
    "start_time": "2022-03-17T09:34:17.263Z"
   },
   {
    "duration": 22,
    "start_time": "2022-03-17T09:34:30.227Z"
   },
   {
    "duration": 87,
    "start_time": "2022-03-17T09:36:43.897Z"
   },
   {
    "duration": 104,
    "start_time": "2022-03-17T09:36:49.675Z"
   },
   {
    "duration": 16,
    "start_time": "2022-03-17T09:36:49.781Z"
   },
   {
    "duration": 17,
    "start_time": "2022-03-17T09:36:49.799Z"
   },
   {
    "duration": 35,
    "start_time": "2022-03-17T09:36:49.819Z"
   },
   {
    "duration": 6,
    "start_time": "2022-03-17T09:36:49.856Z"
   },
   {
    "duration": 20,
    "start_time": "2022-03-17T09:36:49.864Z"
   },
   {
    "duration": 10,
    "start_time": "2022-03-17T09:36:49.886Z"
   },
   {
    "duration": 16,
    "start_time": "2022-03-17T09:36:49.898Z"
   },
   {
    "duration": 30,
    "start_time": "2022-03-17T09:36:49.916Z"
   },
   {
    "duration": 12,
    "start_time": "2022-03-17T09:36:49.949Z"
   },
   {
    "duration": 14,
    "start_time": "2022-03-17T09:36:49.963Z"
   },
   {
    "duration": 15,
    "start_time": "2022-03-17T09:36:49.979Z"
   },
   {
    "duration": 10,
    "start_time": "2022-03-17T09:36:49.995Z"
   },
   {
    "duration": 29,
    "start_time": "2022-03-17T09:36:50.007Z"
   },
   {
    "duration": 37,
    "start_time": "2022-03-17T09:36:50.038Z"
   },
   {
    "duration": 38,
    "start_time": "2022-03-17T09:36:50.078Z"
   },
   {
    "duration": 9,
    "start_time": "2022-03-17T09:36:50.118Z"
   },
   {
    "duration": 40,
    "start_time": "2022-03-17T09:36:50.128Z"
   },
   {
    "duration": 7,
    "start_time": "2022-03-17T09:36:50.170Z"
   },
   {
    "duration": 25,
    "start_time": "2022-03-17T09:36:50.179Z"
   },
   {
    "duration": 15,
    "start_time": "2022-03-17T09:36:50.206Z"
   },
   {
    "duration": 29,
    "start_time": "2022-03-17T09:36:50.232Z"
   },
   {
    "duration": 27,
    "start_time": "2022-03-17T09:36:50.262Z"
   },
   {
    "duration": 16,
    "start_time": "2022-03-17T09:36:50.290Z"
   },
   {
    "duration": 22,
    "start_time": "2022-03-17T09:36:50.308Z"
   },
   {
    "duration": 28,
    "start_time": "2022-03-17T09:36:50.331Z"
   },
   {
    "duration": 32,
    "start_time": "2022-03-17T09:36:50.361Z"
   },
   {
    "duration": 28,
    "start_time": "2022-03-17T09:36:50.397Z"
   },
   {
    "duration": 20,
    "start_time": "2022-03-17T09:36:50.427Z"
   },
   {
    "duration": 35,
    "start_time": "2022-03-17T09:36:50.449Z"
   },
   {
    "duration": 10,
    "start_time": "2022-03-17T09:36:50.486Z"
   },
   {
    "duration": 19,
    "start_time": "2022-03-17T09:36:50.498Z"
   },
   {
    "duration": 30,
    "start_time": "2022-03-17T09:36:50.519Z"
   },
   {
    "duration": 43,
    "start_time": "2022-03-17T09:36:50.551Z"
   },
   {
    "duration": 22,
    "start_time": "2022-03-17T09:37:38.088Z"
   },
   {
    "duration": 22,
    "start_time": "2022-03-17T09:37:48.876Z"
   },
   {
    "duration": 33,
    "start_time": "2022-03-17T09:38:09.654Z"
   },
   {
    "duration": 29,
    "start_time": "2022-03-17T09:38:19.228Z"
   },
   {
    "duration": 19,
    "start_time": "2022-03-17T10:05:42.144Z"
   },
   {
    "duration": 21,
    "start_time": "2022-03-17T10:05:46.301Z"
   },
   {
    "duration": 30,
    "start_time": "2022-03-17T10:05:56.652Z"
   },
   {
    "duration": 62,
    "start_time": "2022-03-17T10:12:28.409Z"
   },
   {
    "duration": 8,
    "start_time": "2022-03-17T10:12:40.398Z"
   },
   {
    "duration": 549,
    "start_time": "2022-03-17T10:12:45.424Z"
   },
   {
    "duration": 26,
    "start_time": "2022-03-17T10:12:45.975Z"
   },
   {
    "duration": 34,
    "start_time": "2022-03-17T10:12:46.003Z"
   },
   {
    "duration": 7,
    "start_time": "2022-03-17T10:12:46.040Z"
   },
   {
    "duration": 10,
    "start_time": "2022-03-17T10:12:46.049Z"
   },
   {
    "duration": 15,
    "start_time": "2022-03-17T10:12:46.061Z"
   },
   {
    "duration": 10,
    "start_time": "2022-03-17T10:12:46.078Z"
   },
   {
    "duration": 7,
    "start_time": "2022-03-17T10:12:46.090Z"
   },
   {
    "duration": 40,
    "start_time": "2022-03-17T10:12:46.099Z"
   },
   {
    "duration": 7,
    "start_time": "2022-03-17T10:12:46.143Z"
   },
   {
    "duration": 11,
    "start_time": "2022-03-17T10:12:46.152Z"
   },
   {
    "duration": 9,
    "start_time": "2022-03-17T10:12:46.165Z"
   },
   {
    "duration": 5,
    "start_time": "2022-03-17T10:12:46.176Z"
   },
   {
    "duration": 22,
    "start_time": "2022-03-17T10:12:46.183Z"
   },
   {
    "duration": 26,
    "start_time": "2022-03-17T10:12:46.232Z"
   },
   {
    "duration": 38,
    "start_time": "2022-03-17T10:12:46.259Z"
   },
   {
    "duration": 35,
    "start_time": "2022-03-17T10:12:46.299Z"
   },
   {
    "duration": 22,
    "start_time": "2022-03-17T10:12:46.338Z"
   },
   {
    "duration": 8,
    "start_time": "2022-03-17T10:12:46.361Z"
   },
   {
    "duration": 25,
    "start_time": "2022-03-17T10:12:46.371Z"
   },
   {
    "duration": 13,
    "start_time": "2022-03-17T10:12:46.398Z"
   },
   {
    "duration": 36,
    "start_time": "2022-03-17T10:12:46.413Z"
   },
   {
    "duration": 15,
    "start_time": "2022-03-17T10:12:46.451Z"
   },
   {
    "duration": 7,
    "start_time": "2022-03-17T10:12:46.467Z"
   },
   {
    "duration": 11,
    "start_time": "2022-03-17T10:12:46.476Z"
   },
   {
    "duration": 14,
    "start_time": "2022-03-17T10:12:46.489Z"
   },
   {
    "duration": 32,
    "start_time": "2022-03-17T10:12:46.505Z"
   },
   {
    "duration": 17,
    "start_time": "2022-03-17T10:12:46.541Z"
   },
   {
    "duration": 3,
    "start_time": "2022-03-17T10:12:46.560Z"
   },
   {
    "duration": 28,
    "start_time": "2022-03-17T10:12:46.564Z"
   },
   {
    "duration": 6,
    "start_time": "2022-03-17T10:12:46.594Z"
   },
   {
    "duration": 39,
    "start_time": "2022-03-17T10:12:46.601Z"
   },
   {
    "duration": 17,
    "start_time": "2022-03-17T10:12:46.643Z"
   },
   {
    "duration": 44,
    "start_time": "2022-03-17T10:12:46.662Z"
   },
   {
    "duration": 15,
    "start_time": "2022-03-17T10:13:00.072Z"
   },
   {
    "duration": 94,
    "start_time": "2022-03-17T10:17:41.666Z"
   },
   {
    "duration": 17,
    "start_time": "2022-03-17T10:17:41.762Z"
   },
   {
    "duration": 12,
    "start_time": "2022-03-17T10:17:41.781Z"
   },
   {
    "duration": 38,
    "start_time": "2022-03-17T10:17:41.797Z"
   },
   {
    "duration": 7,
    "start_time": "2022-03-17T10:17:41.837Z"
   },
   {
    "duration": 22,
    "start_time": "2022-03-17T10:17:41.846Z"
   },
   {
    "duration": 10,
    "start_time": "2022-03-17T10:17:41.870Z"
   },
   {
    "duration": 21,
    "start_time": "2022-03-17T10:17:41.882Z"
   },
   {
    "duration": 36,
    "start_time": "2022-03-17T10:17:41.905Z"
   },
   {
    "duration": 8,
    "start_time": "2022-03-17T10:17:41.945Z"
   },
   {
    "duration": 11,
    "start_time": "2022-03-17T10:17:41.955Z"
   },
   {
    "duration": 9,
    "start_time": "2022-03-17T10:17:41.968Z"
   },
   {
    "duration": 16,
    "start_time": "2022-03-17T10:17:41.980Z"
   },
   {
    "duration": 48,
    "start_time": "2022-03-17T10:17:41.999Z"
   },
   {
    "duration": 32,
    "start_time": "2022-03-17T10:17:42.050Z"
   },
   {
    "duration": 55,
    "start_time": "2022-03-17T10:17:42.084Z"
   },
   {
    "duration": 13,
    "start_time": "2022-03-17T10:17:42.141Z"
   },
   {
    "duration": 21,
    "start_time": "2022-03-17T10:17:42.156Z"
   },
   {
    "duration": 16,
    "start_time": "2022-03-17T10:17:42.179Z"
   },
   {
    "duration": 52,
    "start_time": "2022-03-17T10:17:42.197Z"
   },
   {
    "duration": 10,
    "start_time": "2022-03-17T10:17:42.251Z"
   },
   {
    "duration": 17,
    "start_time": "2022-03-17T10:17:42.263Z"
   },
   {
    "duration": 21,
    "start_time": "2022-03-17T10:17:42.282Z"
   },
   {
    "duration": 34,
    "start_time": "2022-03-17T10:17:42.305Z"
   },
   {
    "duration": 13,
    "start_time": "2022-03-17T10:17:42.342Z"
   },
   {
    "duration": 16,
    "start_time": "2022-03-17T10:17:42.358Z"
   },
   {
    "duration": 18,
    "start_time": "2022-03-17T10:17:42.376Z"
   },
   {
    "duration": 18,
    "start_time": "2022-03-17T10:17:42.398Z"
   },
   {
    "duration": 5,
    "start_time": "2022-03-17T10:17:42.432Z"
   },
   {
    "duration": 41,
    "start_time": "2022-03-17T10:17:42.442Z"
   },
   {
    "duration": 4,
    "start_time": "2022-03-17T10:17:42.486Z"
   },
   {
    "duration": 43,
    "start_time": "2022-03-17T10:17:42.492Z"
   },
   {
    "duration": 27,
    "start_time": "2022-03-17T10:17:42.536Z"
   },
   {
    "duration": 15,
    "start_time": "2022-03-17T10:17:42.565Z"
   },
   {
    "duration": 20,
    "start_time": "2022-03-17T10:18:35.443Z"
   },
   {
    "duration": 107,
    "start_time": "2022-03-17T10:18:40.590Z"
   },
   {
    "duration": 33,
    "start_time": "2022-03-17T10:18:40.699Z"
   },
   {
    "duration": 18,
    "start_time": "2022-03-17T10:18:40.734Z"
   },
   {
    "duration": 8,
    "start_time": "2022-03-17T10:18:40.754Z"
   },
   {
    "duration": 6,
    "start_time": "2022-03-17T10:18:40.764Z"
   },
   {
    "duration": 13,
    "start_time": "2022-03-17T10:18:40.771Z"
   },
   {
    "duration": 11,
    "start_time": "2022-03-17T10:18:40.786Z"
   },
   {
    "duration": 8,
    "start_time": "2022-03-17T10:18:40.835Z"
   },
   {
    "duration": 14,
    "start_time": "2022-03-17T10:18:40.845Z"
   },
   {
    "duration": 5,
    "start_time": "2022-03-17T10:18:40.862Z"
   },
   {
    "duration": 7,
    "start_time": "2022-03-17T10:18:40.869Z"
   },
   {
    "duration": 10,
    "start_time": "2022-03-17T10:18:40.878Z"
   },
   {
    "duration": 4,
    "start_time": "2022-03-17T10:18:40.891Z"
   },
   {
    "duration": 53,
    "start_time": "2022-03-17T10:18:40.897Z"
   },
   {
    "duration": 17,
    "start_time": "2022-03-17T10:18:40.953Z"
   },
   {
    "duration": 36,
    "start_time": "2022-03-17T10:18:40.972Z"
   },
   {
    "duration": 35,
    "start_time": "2022-03-17T10:18:41.009Z"
   },
   {
    "duration": 24,
    "start_time": "2022-03-17T10:18:41.047Z"
   },
   {
    "duration": 15,
    "start_time": "2022-03-17T10:18:41.073Z"
   },
   {
    "duration": 25,
    "start_time": "2022-03-17T10:18:41.090Z"
   },
   {
    "duration": 12,
    "start_time": "2022-03-17T10:18:41.131Z"
   },
   {
    "duration": 20,
    "start_time": "2022-03-17T10:18:41.144Z"
   },
   {
    "duration": 16,
    "start_time": "2022-03-17T10:18:41.165Z"
   },
   {
    "duration": 8,
    "start_time": "2022-03-17T10:18:41.183Z"
   },
   {
    "duration": 9,
    "start_time": "2022-03-17T10:18:41.193Z"
   },
   {
    "duration": 54,
    "start_time": "2022-03-17T10:18:41.204Z"
   },
   {
    "duration": 10,
    "start_time": "2022-03-17T10:18:41.260Z"
   },
   {
    "duration": 19,
    "start_time": "2022-03-17T10:18:41.273Z"
   },
   {
    "duration": 3,
    "start_time": "2022-03-17T10:18:41.294Z"
   },
   {
    "duration": 25,
    "start_time": "2022-03-17T10:18:41.299Z"
   },
   {
    "duration": 13,
    "start_time": "2022-03-17T10:18:41.326Z"
   },
   {
    "duration": 24,
    "start_time": "2022-03-17T10:18:41.341Z"
   },
   {
    "duration": 29,
    "start_time": "2022-03-17T10:18:41.367Z"
   },
   {
    "duration": 16,
    "start_time": "2022-03-17T10:18:41.398Z"
   },
   {
    "duration": 19,
    "start_time": "2022-03-17T10:18:52.174Z"
   },
   {
    "duration": 22,
    "start_time": "2022-03-17T10:19:12.762Z"
   },
   {
    "duration": 84,
    "start_time": "2022-03-17T11:45:56.687Z"
   },
   {
    "duration": 15,
    "start_time": "2022-03-17T11:45:56.773Z"
   },
   {
    "duration": 51,
    "start_time": "2022-03-17T11:45:56.790Z"
   },
   {
    "duration": 7,
    "start_time": "2022-03-17T11:45:56.844Z"
   },
   {
    "duration": 6,
    "start_time": "2022-03-17T11:45:56.853Z"
   },
   {
    "duration": 30,
    "start_time": "2022-03-17T11:45:56.861Z"
   },
   {
    "duration": 12,
    "start_time": "2022-03-17T11:45:56.893Z"
   },
   {
    "duration": 31,
    "start_time": "2022-03-17T11:45:56.907Z"
   },
   {
    "duration": 34,
    "start_time": "2022-03-17T11:45:56.940Z"
   },
   {
    "duration": 10,
    "start_time": "2022-03-17T11:45:56.977Z"
   },
   {
    "duration": 25,
    "start_time": "2022-03-17T11:45:56.989Z"
   },
   {
    "duration": 8,
    "start_time": "2022-03-17T11:45:57.016Z"
   },
   {
    "duration": 36,
    "start_time": "2022-03-17T11:45:57.026Z"
   },
   {
    "duration": 32,
    "start_time": "2022-03-17T11:45:57.064Z"
   },
   {
    "duration": 29,
    "start_time": "2022-03-17T11:45:57.098Z"
   },
   {
    "duration": 52,
    "start_time": "2022-03-17T11:45:57.129Z"
   },
   {
    "duration": 8,
    "start_time": "2022-03-17T11:45:57.183Z"
   },
   {
    "duration": 35,
    "start_time": "2022-03-17T11:45:57.193Z"
   },
   {
    "duration": 32,
    "start_time": "2022-03-17T11:45:57.230Z"
   },
   {
    "duration": 37,
    "start_time": "2022-03-17T11:45:57.264Z"
   },
   {
    "duration": 17,
    "start_time": "2022-03-17T11:45:57.303Z"
   },
   {
    "duration": 39,
    "start_time": "2022-03-17T11:45:57.321Z"
   },
   {
    "duration": 14,
    "start_time": "2022-03-17T11:45:57.361Z"
   },
   {
    "duration": 9,
    "start_time": "2022-03-17T11:45:57.377Z"
   },
   {
    "duration": 11,
    "start_time": "2022-03-17T11:45:57.388Z"
   },
   {
    "duration": 13,
    "start_time": "2022-03-17T11:45:57.401Z"
   },
   {
    "duration": 29,
    "start_time": "2022-03-17T11:45:57.416Z"
   },
   {
    "duration": 18,
    "start_time": "2022-03-17T11:45:57.449Z"
   },
   {
    "duration": 4,
    "start_time": "2022-03-17T11:45:57.469Z"
   },
   {
    "duration": 33,
    "start_time": "2022-03-17T11:45:57.475Z"
   },
   {
    "duration": 4,
    "start_time": "2022-03-17T11:45:57.510Z"
   },
   {
    "duration": 22,
    "start_time": "2022-03-17T11:45:57.534Z"
   },
   {
    "duration": 20,
    "start_time": "2022-03-17T11:45:57.558Z"
   },
   {
    "duration": 24,
    "start_time": "2022-03-17T11:45:57.580Z"
   },
   {
    "duration": 3,
    "start_time": "2022-03-17T11:50:55.430Z"
   },
   {
    "duration": 2717,
    "start_time": "2022-03-17T11:54:42.305Z"
   },
   {
    "duration": 20,
    "start_time": "2022-03-17T11:56:23.505Z"
   },
   {
    "duration": 2647,
    "start_time": "2022-03-17T11:56:39.617Z"
   },
   {
    "duration": 32,
    "start_time": "2022-03-17T11:58:40.397Z"
   },
   {
    "duration": 23,
    "start_time": "2022-03-17T11:58:58.688Z"
   },
   {
    "duration": 38,
    "start_time": "2022-03-17T11:59:50.088Z"
   },
   {
    "duration": 15,
    "start_time": "2022-03-17T12:04:04.327Z"
   },
   {
    "duration": 51,
    "start_time": "2022-03-17T15:50:15.181Z"
   },
   {
    "duration": 473,
    "start_time": "2022-03-17T15:50:23.797Z"
   },
   {
    "duration": 23,
    "start_time": "2022-03-17T15:50:24.272Z"
   },
   {
    "duration": 18,
    "start_time": "2022-03-17T15:50:24.296Z"
   },
   {
    "duration": 6,
    "start_time": "2022-03-17T15:50:24.317Z"
   },
   {
    "duration": 5,
    "start_time": "2022-03-17T15:50:24.325Z"
   },
   {
    "duration": 16,
    "start_time": "2022-03-17T15:50:24.333Z"
   },
   {
    "duration": 39,
    "start_time": "2022-03-17T15:50:24.350Z"
   },
   {
    "duration": 8,
    "start_time": "2022-03-17T15:50:24.390Z"
   },
   {
    "duration": 9,
    "start_time": "2022-03-17T15:50:24.400Z"
   },
   {
    "duration": 4,
    "start_time": "2022-03-17T15:50:24.412Z"
   },
   {
    "duration": 10,
    "start_time": "2022-03-17T15:50:24.417Z"
   },
   {
    "duration": 7,
    "start_time": "2022-03-17T15:50:24.429Z"
   },
   {
    "duration": 9,
    "start_time": "2022-03-17T15:50:24.438Z"
   },
   {
    "duration": 59,
    "start_time": "2022-03-17T15:50:24.449Z"
   },
   {
    "duration": 23,
    "start_time": "2022-03-17T15:50:24.510Z"
   },
   {
    "duration": 56,
    "start_time": "2022-03-17T15:50:24.535Z"
   },
   {
    "duration": 9,
    "start_time": "2022-03-17T15:50:24.593Z"
   },
   {
    "duration": 17,
    "start_time": "2022-03-17T15:50:24.604Z"
   },
   {
    "duration": 7,
    "start_time": "2022-03-17T15:50:24.622Z"
   },
   {
    "duration": 20,
    "start_time": "2022-03-17T15:50:24.630Z"
   },
   {
    "duration": 7,
    "start_time": "2022-03-17T15:50:24.680Z"
   },
   {
    "duration": 12,
    "start_time": "2022-03-17T15:50:24.690Z"
   },
   {
    "duration": 26,
    "start_time": "2022-03-17T15:50:24.704Z"
   },
   {
    "duration": 8,
    "start_time": "2022-03-17T15:50:24.732Z"
   },
   {
    "duration": 28,
    "start_time": "2022-03-17T15:50:24.741Z"
   },
   {
    "duration": 13,
    "start_time": "2022-03-17T15:50:24.772Z"
   },
   {
    "duration": 21,
    "start_time": "2022-03-17T15:50:24.788Z"
   },
   {
    "duration": 24,
    "start_time": "2022-03-17T15:50:24.813Z"
   },
   {
    "duration": 17,
    "start_time": "2022-03-17T15:50:24.839Z"
   },
   {
    "duration": 27,
    "start_time": "2022-03-17T15:50:24.859Z"
   },
   {
    "duration": 4,
    "start_time": "2022-03-17T15:50:24.889Z"
   },
   {
    "duration": 37,
    "start_time": "2022-03-17T15:50:24.895Z"
   },
   {
    "duration": 20,
    "start_time": "2022-03-17T15:50:24.934Z"
   },
   {
    "duration": 21,
    "start_time": "2022-03-17T15:50:24.956Z"
   },
   {
    "duration": 56,
    "start_time": "2022-03-17T15:50:24.981Z"
   },
   {
    "duration": 12,
    "start_time": "2022-03-17T15:50:53.125Z"
   },
   {
    "duration": 13,
    "start_time": "2022-03-17T15:51:47.309Z"
   },
   {
    "duration": 14,
    "start_time": "2022-03-17T15:52:19.037Z"
   },
   {
    "duration": 159,
    "start_time": "2022-03-17T15:52:41.484Z"
   },
   {
    "duration": 14,
    "start_time": "2022-03-17T16:02:22.358Z"
   },
   {
    "duration": 3233,
    "start_time": "2022-03-17T16:02:35.934Z"
   },
   {
    "duration": 2842,
    "start_time": "2022-03-17T16:02:41.802Z"
   },
   {
    "duration": 11,
    "start_time": "2022-03-17T16:02:49.350Z"
   },
   {
    "duration": 0,
    "start_time": "2022-03-17T16:03:08.687Z"
   },
   {
    "duration": 2816,
    "start_time": "2022-03-17T16:03:16.590Z"
   },
   {
    "duration": 14,
    "start_time": "2022-03-17T16:03:39.269Z"
   },
   {
    "duration": 9,
    "start_time": "2022-03-17T16:05:30.086Z"
   },
   {
    "duration": 9,
    "start_time": "2022-03-17T16:05:33.969Z"
   },
   {
    "duration": 16,
    "start_time": "2022-03-17T16:06:13.605Z"
   },
   {
    "duration": 149,
    "start_time": "2022-03-17T16:06:45.429Z"
   },
   {
    "duration": 27,
    "start_time": "2022-03-17T16:06:53.980Z"
   },
   {
    "duration": 7,
    "start_time": "2022-03-17T16:07:05.941Z"
   },
   {
    "duration": 13,
    "start_time": "2022-03-17T16:08:00.936Z"
   },
   {
    "duration": 30,
    "start_time": "2022-03-17T16:08:50.976Z"
   },
   {
    "duration": 12,
    "start_time": "2022-03-17T16:10:54.692Z"
   },
   {
    "duration": 18,
    "start_time": "2022-03-17T16:11:17.336Z"
   },
   {
    "duration": 14,
    "start_time": "2022-03-17T16:11:39.864Z"
   },
   {
    "duration": 17,
    "start_time": "2022-03-17T16:11:52.787Z"
   },
   {
    "duration": 13,
    "start_time": "2022-03-17T16:30:17.167Z"
   },
   {
    "duration": 17,
    "start_time": "2022-03-17T16:35:07.036Z"
   },
   {
    "duration": 13,
    "start_time": "2022-03-17T16:37:00.697Z"
   },
   {
    "duration": 13,
    "start_time": "2022-03-17T16:46:28.496Z"
   },
   {
    "duration": 14,
    "start_time": "2022-03-17T16:52:19.139Z"
   },
   {
    "duration": 77,
    "start_time": "2022-03-17T17:00:49.709Z"
   },
   {
    "duration": 14,
    "start_time": "2022-03-17T17:00:49.788Z"
   },
   {
    "duration": 16,
    "start_time": "2022-03-17T17:00:49.804Z"
   },
   {
    "duration": 7,
    "start_time": "2022-03-17T17:00:49.822Z"
   },
   {
    "duration": 8,
    "start_time": "2022-03-17T17:00:49.830Z"
   },
   {
    "duration": 42,
    "start_time": "2022-03-17T17:00:49.839Z"
   },
   {
    "duration": 9,
    "start_time": "2022-03-17T17:00:49.884Z"
   },
   {
    "duration": 7,
    "start_time": "2022-03-17T17:00:49.895Z"
   },
   {
    "duration": 7,
    "start_time": "2022-03-17T17:00:49.903Z"
   },
   {
    "duration": 4,
    "start_time": "2022-03-17T17:00:49.913Z"
   },
   {
    "duration": 10,
    "start_time": "2022-03-17T17:00:49.918Z"
   },
   {
    "duration": 7,
    "start_time": "2022-03-17T17:00:49.930Z"
   },
   {
    "duration": 4,
    "start_time": "2022-03-17T17:00:49.939Z"
   },
   {
    "duration": 48,
    "start_time": "2022-03-17T17:00:49.945Z"
   },
   {
    "duration": 15,
    "start_time": "2022-03-17T17:00:49.995Z"
   },
   {
    "duration": 31,
    "start_time": "2022-03-17T17:00:50.012Z"
   },
   {
    "duration": 8,
    "start_time": "2022-03-17T17:00:50.045Z"
   },
   {
    "duration": 16,
    "start_time": "2022-03-17T17:00:50.081Z"
   },
   {
    "duration": 30,
    "start_time": "2022-03-17T17:00:50.099Z"
   },
   {
    "duration": 36,
    "start_time": "2022-03-17T17:00:50.130Z"
   },
   {
    "duration": 36,
    "start_time": "2022-03-17T17:00:50.167Z"
   },
   {
    "duration": 24,
    "start_time": "2022-03-17T17:00:50.205Z"
   },
   {
    "duration": 44,
    "start_time": "2022-03-17T17:00:50.231Z"
   },
   {
    "duration": 54,
    "start_time": "2022-03-17T17:00:50.277Z"
   },
   {
    "duration": 42,
    "start_time": "2022-03-17T17:00:50.333Z"
   },
   {
    "duration": 37,
    "start_time": "2022-03-17T17:00:50.377Z"
   },
   {
    "duration": 38,
    "start_time": "2022-03-17T17:00:50.416Z"
   },
   {
    "duration": 34,
    "start_time": "2022-03-17T17:00:50.458Z"
   },
   {
    "duration": 4,
    "start_time": "2022-03-17T17:00:50.494Z"
   },
   {
    "duration": 45,
    "start_time": "2022-03-17T17:00:50.501Z"
   },
   {
    "duration": 6,
    "start_time": "2022-03-17T17:00:50.548Z"
   },
   {
    "duration": 27,
    "start_time": "2022-03-17T17:00:50.555Z"
   },
   {
    "duration": 22,
    "start_time": "2022-03-17T17:00:50.584Z"
   },
   {
    "duration": 27,
    "start_time": "2022-03-17T17:00:50.608Z"
   },
   {
    "duration": 20,
    "start_time": "2022-03-17T17:00:50.636Z"
   },
   {
    "duration": 37,
    "start_time": "2022-03-17T17:00:50.663Z"
   },
   {
    "duration": 28,
    "start_time": "2022-03-17T17:02:07.657Z"
   },
   {
    "duration": 4,
    "start_time": "2022-03-17T17:05:46.532Z"
   },
   {
    "duration": 3,
    "start_time": "2022-03-17T17:05:50.315Z"
   },
   {
    "duration": 19,
    "start_time": "2022-03-17T17:05:52.562Z"
   },
   {
    "duration": 83,
    "start_time": "2022-03-17T17:06:12.123Z"
   },
   {
    "duration": 13,
    "start_time": "2022-03-17T17:06:12.208Z"
   },
   {
    "duration": 11,
    "start_time": "2022-03-17T17:06:12.222Z"
   },
   {
    "duration": 5,
    "start_time": "2022-03-17T17:06:12.235Z"
   },
   {
    "duration": 6,
    "start_time": "2022-03-17T17:06:12.241Z"
   },
   {
    "duration": 39,
    "start_time": "2022-03-17T17:06:12.248Z"
   },
   {
    "duration": 9,
    "start_time": "2022-03-17T17:06:12.289Z"
   },
   {
    "duration": 11,
    "start_time": "2022-03-17T17:06:12.299Z"
   },
   {
    "duration": 12,
    "start_time": "2022-03-17T17:06:12.312Z"
   },
   {
    "duration": 4,
    "start_time": "2022-03-17T17:06:12.327Z"
   },
   {
    "duration": 9,
    "start_time": "2022-03-17T17:06:12.332Z"
   },
   {
    "duration": 6,
    "start_time": "2022-03-17T17:06:12.343Z"
   },
   {
    "duration": 30,
    "start_time": "2022-03-17T17:06:12.351Z"
   },
   {
    "duration": 14,
    "start_time": "2022-03-17T17:06:12.383Z"
   },
   {
    "duration": 17,
    "start_time": "2022-03-17T17:06:12.399Z"
   },
   {
    "duration": 32,
    "start_time": "2022-03-17T17:06:12.417Z"
   },
   {
    "duration": 32,
    "start_time": "2022-03-17T17:06:12.451Z"
   },
   {
    "duration": 19,
    "start_time": "2022-03-17T17:06:12.484Z"
   },
   {
    "duration": 12,
    "start_time": "2022-03-17T17:06:12.504Z"
   },
   {
    "duration": 22,
    "start_time": "2022-03-17T17:06:12.517Z"
   },
   {
    "duration": 5,
    "start_time": "2022-03-17T17:06:12.541Z"
   },
   {
    "duration": 13,
    "start_time": "2022-03-17T17:06:12.548Z"
   },
   {
    "duration": 32,
    "start_time": "2022-03-17T17:06:12.563Z"
   },
   {
    "duration": 6,
    "start_time": "2022-03-17T17:06:12.597Z"
   },
   {
    "duration": 12,
    "start_time": "2022-03-17T17:06:12.604Z"
   },
   {
    "duration": 8,
    "start_time": "2022-03-17T17:06:12.617Z"
   },
   {
    "duration": 10,
    "start_time": "2022-03-17T17:06:12.626Z"
   },
   {
    "duration": 13,
    "start_time": "2022-03-17T17:06:12.639Z"
   },
   {
    "duration": 3,
    "start_time": "2022-03-17T17:06:12.653Z"
   },
   {
    "duration": 37,
    "start_time": "2022-03-17T17:06:12.657Z"
   },
   {
    "duration": 2,
    "start_time": "2022-03-17T17:06:12.696Z"
   },
   {
    "duration": 17,
    "start_time": "2022-03-17T17:06:12.700Z"
   },
   {
    "duration": 12,
    "start_time": "2022-03-17T17:06:12.719Z"
   },
   {
    "duration": 17,
    "start_time": "2022-03-17T17:06:12.732Z"
   },
   {
    "duration": 40,
    "start_time": "2022-03-17T17:06:12.751Z"
   },
   {
    "duration": 14,
    "start_time": "2022-03-17T17:06:12.793Z"
   },
   {
    "duration": 15,
    "start_time": "2022-03-17T17:08:48.770Z"
   },
   {
    "duration": 15,
    "start_time": "2022-03-17T17:09:06.157Z"
   },
   {
    "duration": 11,
    "start_time": "2022-03-17T17:09:31.226Z"
   },
   {
    "duration": 10,
    "start_time": "2022-03-17T17:09:40.085Z"
   },
   {
    "duration": 11,
    "start_time": "2022-03-17T17:09:50.113Z"
   },
   {
    "duration": 16,
    "start_time": "2022-03-17T17:10:13.057Z"
   },
   {
    "duration": 74,
    "start_time": "2022-03-17T17:10:26.177Z"
   },
   {
    "duration": 13,
    "start_time": "2022-03-17T17:10:26.254Z"
   },
   {
    "duration": 9,
    "start_time": "2022-03-17T17:10:26.280Z"
   },
   {
    "duration": 5,
    "start_time": "2022-03-17T17:10:26.292Z"
   },
   {
    "duration": 6,
    "start_time": "2022-03-17T17:10:26.299Z"
   },
   {
    "duration": 12,
    "start_time": "2022-03-17T17:10:26.306Z"
   },
   {
    "duration": 9,
    "start_time": "2022-03-17T17:10:26.319Z"
   },
   {
    "duration": 8,
    "start_time": "2022-03-17T17:10:26.329Z"
   },
   {
    "duration": 47,
    "start_time": "2022-03-17T17:10:26.338Z"
   },
   {
    "duration": 4,
    "start_time": "2022-03-17T17:10:26.423Z"
   },
   {
    "duration": 24,
    "start_time": "2022-03-17T17:10:26.429Z"
   },
   {
    "duration": 16,
    "start_time": "2022-03-17T17:10:26.455Z"
   },
   {
    "duration": 6,
    "start_time": "2022-03-17T17:10:26.473Z"
   },
   {
    "duration": 19,
    "start_time": "2022-03-17T17:10:26.481Z"
   },
   {
    "duration": 16,
    "start_time": "2022-03-17T17:10:26.502Z"
   },
   {
    "duration": 33,
    "start_time": "2022-03-17T17:10:26.519Z"
   },
   {
    "duration": 7,
    "start_time": "2022-03-17T17:10:26.553Z"
   },
   {
    "duration": 33,
    "start_time": "2022-03-17T17:10:26.561Z"
   },
   {
    "duration": 9,
    "start_time": "2022-03-17T17:10:26.596Z"
   },
   {
    "duration": 20,
    "start_time": "2022-03-17T17:10:26.606Z"
   },
   {
    "duration": 6,
    "start_time": "2022-03-17T17:10:26.628Z"
   },
   {
    "duration": 13,
    "start_time": "2022-03-17T17:10:26.635Z"
   },
   {
    "duration": 32,
    "start_time": "2022-03-17T17:10:26.649Z"
   },
   {
    "duration": 7,
    "start_time": "2022-03-17T17:10:26.682Z"
   },
   {
    "duration": 10,
    "start_time": "2022-03-17T17:10:26.690Z"
   },
   {
    "duration": 14,
    "start_time": "2022-03-17T17:10:26.701Z"
   },
   {
    "duration": 10,
    "start_time": "2022-03-17T17:10:26.716Z"
   },
   {
    "duration": 14,
    "start_time": "2022-03-17T17:10:26.729Z"
   },
   {
    "duration": 3,
    "start_time": "2022-03-17T17:10:26.745Z"
   },
   {
    "duration": 40,
    "start_time": "2022-03-17T17:10:26.749Z"
   },
   {
    "duration": 3,
    "start_time": "2022-03-17T17:10:26.791Z"
   },
   {
    "duration": 13,
    "start_time": "2022-03-17T17:10:26.795Z"
   },
   {
    "duration": 15,
    "start_time": "2022-03-17T17:10:26.810Z"
   },
   {
    "duration": 17,
    "start_time": "2022-03-17T17:10:26.826Z"
   },
   {
    "duration": 38,
    "start_time": "2022-03-17T17:10:26.844Z"
   },
   {
    "duration": 13,
    "start_time": "2022-03-17T17:10:26.883Z"
   },
   {
    "duration": 25,
    "start_time": "2022-03-17T17:11:55.092Z"
   },
   {
    "duration": 78,
    "start_time": "2022-03-17T17:18:46.467Z"
   },
   {
    "duration": 38,
    "start_time": "2022-03-17T17:18:46.547Z"
   },
   {
    "duration": 10,
    "start_time": "2022-03-17T17:18:46.587Z"
   },
   {
    "duration": 11,
    "start_time": "2022-03-17T17:18:46.602Z"
   },
   {
    "duration": 22,
    "start_time": "2022-03-17T17:18:46.615Z"
   },
   {
    "duration": 43,
    "start_time": "2022-03-17T17:18:46.639Z"
   },
   {
    "duration": 11,
    "start_time": "2022-03-17T17:18:46.684Z"
   },
   {
    "duration": 13,
    "start_time": "2022-03-17T17:18:46.697Z"
   },
   {
    "duration": 15,
    "start_time": "2022-03-17T17:18:46.712Z"
   },
   {
    "duration": 8,
    "start_time": "2022-03-17T17:18:46.730Z"
   },
   {
    "duration": 15,
    "start_time": "2022-03-17T17:18:46.739Z"
   },
   {
    "duration": 12,
    "start_time": "2022-03-17T17:18:46.756Z"
   },
   {
    "duration": 12,
    "start_time": "2022-03-17T17:18:46.769Z"
   },
   {
    "duration": 16,
    "start_time": "2022-03-17T17:18:46.782Z"
   },
   {
    "duration": 24,
    "start_time": "2022-03-17T17:18:46.800Z"
   },
   {
    "duration": 64,
    "start_time": "2022-03-17T17:18:46.826Z"
   },
   {
    "duration": 9,
    "start_time": "2022-03-17T17:18:46.892Z"
   },
   {
    "duration": 35,
    "start_time": "2022-03-17T17:18:46.903Z"
   },
   {
    "duration": 14,
    "start_time": "2022-03-17T17:18:46.940Z"
   },
   {
    "duration": 35,
    "start_time": "2022-03-17T17:18:46.956Z"
   },
   {
    "duration": 14,
    "start_time": "2022-03-17T17:18:46.993Z"
   },
   {
    "duration": 18,
    "start_time": "2022-03-17T17:18:47.009Z"
   },
   {
    "duration": 22,
    "start_time": "2022-03-17T17:18:47.028Z"
   },
   {
    "duration": 9,
    "start_time": "2022-03-17T17:18:47.051Z"
   },
   {
    "duration": 22,
    "start_time": "2022-03-17T17:18:47.061Z"
   },
   {
    "duration": 12,
    "start_time": "2022-03-17T17:18:47.085Z"
   },
   {
    "duration": 19,
    "start_time": "2022-03-17T17:18:47.099Z"
   },
   {
    "duration": 16,
    "start_time": "2022-03-17T17:18:47.122Z"
   },
   {
    "duration": 5,
    "start_time": "2022-03-17T17:18:47.140Z"
   },
   {
    "duration": 40,
    "start_time": "2022-03-17T17:18:47.146Z"
   },
   {
    "duration": 3,
    "start_time": "2022-03-17T17:18:47.188Z"
   },
   {
    "duration": 28,
    "start_time": "2022-03-17T17:18:47.193Z"
   },
   {
    "duration": 18,
    "start_time": "2022-03-17T17:18:47.223Z"
   },
   {
    "duration": 23,
    "start_time": "2022-03-17T17:18:47.243Z"
   },
   {
    "duration": 28,
    "start_time": "2022-03-17T17:18:47.267Z"
   },
   {
    "duration": 14,
    "start_time": "2022-03-17T17:18:47.297Z"
   },
   {
    "duration": 502,
    "start_time": "2022-03-28T16:56:35.462Z"
   },
   {
    "duration": 20,
    "start_time": "2022-03-28T16:56:35.966Z"
   },
   {
    "duration": 16,
    "start_time": "2022-03-28T16:56:35.987Z"
   },
   {
    "duration": 7,
    "start_time": "2022-03-28T16:56:36.005Z"
   },
   {
    "duration": 6,
    "start_time": "2022-03-28T16:56:36.014Z"
   },
   {
    "duration": 11,
    "start_time": "2022-03-28T16:56:36.021Z"
   },
   {
    "duration": 8,
    "start_time": "2022-03-28T16:56:36.034Z"
   },
   {
    "duration": 5,
    "start_time": "2022-03-28T16:56:36.044Z"
   },
   {
    "duration": 9,
    "start_time": "2022-03-28T16:56:36.051Z"
   },
   {
    "duration": 43,
    "start_time": "2022-03-28T16:56:36.061Z"
   },
   {
    "duration": 6,
    "start_time": "2022-03-28T16:56:36.106Z"
   },
   {
    "duration": 6,
    "start_time": "2022-03-28T16:56:36.114Z"
   },
   {
    "duration": 5,
    "start_time": "2022-03-28T16:56:36.121Z"
   },
   {
    "duration": 18,
    "start_time": "2022-03-28T16:56:36.128Z"
   },
   {
    "duration": 54,
    "start_time": "2022-03-28T16:56:36.148Z"
   },
   {
    "duration": 34,
    "start_time": "2022-03-28T16:56:36.204Z"
   },
   {
    "duration": 8,
    "start_time": "2022-03-28T16:56:36.240Z"
   },
   {
    "duration": 19,
    "start_time": "2022-03-28T16:56:36.250Z"
   },
   {
    "duration": 39,
    "start_time": "2022-03-28T16:56:36.271Z"
   },
   {
    "duration": 20,
    "start_time": "2022-03-28T16:56:36.312Z"
   },
   {
    "duration": 7,
    "start_time": "2022-03-28T16:56:36.335Z"
   },
   {
    "duration": 12,
    "start_time": "2022-03-28T16:56:36.344Z"
   },
   {
    "duration": 44,
    "start_time": "2022-03-28T16:56:36.358Z"
   },
   {
    "duration": 8,
    "start_time": "2022-03-28T16:56:36.404Z"
   },
   {
    "duration": 10,
    "start_time": "2022-03-28T16:56:36.414Z"
   },
   {
    "duration": 9,
    "start_time": "2022-03-28T16:56:36.425Z"
   },
   {
    "duration": 7,
    "start_time": "2022-03-28T16:56:36.435Z"
   },
   {
    "duration": 15,
    "start_time": "2022-03-28T16:56:36.444Z"
   },
   {
    "duration": 44,
    "start_time": "2022-03-28T16:56:36.461Z"
   },
   {
    "duration": 22,
    "start_time": "2022-03-28T16:56:36.507Z"
   },
   {
    "duration": 4,
    "start_time": "2022-03-28T16:56:36.531Z"
   },
   {
    "duration": 19,
    "start_time": "2022-03-28T16:56:36.536Z"
   },
   {
    "duration": 19,
    "start_time": "2022-03-28T16:56:36.558Z"
   },
   {
    "duration": 36,
    "start_time": "2022-03-28T16:56:36.579Z"
   },
   {
    "duration": 14,
    "start_time": "2022-03-28T16:56:36.617Z"
   },
   {
    "duration": 14,
    "start_time": "2022-03-28T16:56:36.633Z"
   },
   {
    "duration": 67,
    "start_time": "2022-03-28T17:01:37.966Z"
   },
   {
    "duration": 7,
    "start_time": "2022-03-28T17:01:48.410Z"
   },
   {
    "duration": 11,
    "start_time": "2022-03-28T17:02:33.660Z"
   },
   {
    "duration": 13,
    "start_time": "2022-03-28T17:02:38.538Z"
   },
   {
    "duration": 360,
    "start_time": "2022-03-29T17:19:30.732Z"
   },
   {
    "duration": 73,
    "start_time": "2022-03-29T17:19:31.094Z"
   },
   {
    "duration": 19,
    "start_time": "2022-03-29T17:19:31.168Z"
   },
   {
    "duration": 11,
    "start_time": "2022-03-29T17:19:31.190Z"
   },
   {
    "duration": 10,
    "start_time": "2022-03-29T17:19:31.202Z"
   },
   {
    "duration": 7,
    "start_time": "2022-03-29T17:19:31.214Z"
   },
   {
    "duration": 16,
    "start_time": "2022-03-29T17:19:31.222Z"
   },
   {
    "duration": 4,
    "start_time": "2022-03-29T17:19:31.240Z"
   },
   {
    "duration": 12,
    "start_time": "2022-03-29T17:19:31.245Z"
   },
   {
    "duration": 5,
    "start_time": "2022-03-29T17:19:31.280Z"
   },
   {
    "duration": 19,
    "start_time": "2022-03-29T17:19:31.287Z"
   },
   {
    "duration": 12,
    "start_time": "2022-03-29T17:19:31.308Z"
   },
   {
    "duration": 13,
    "start_time": "2022-03-29T17:19:31.322Z"
   },
   {
    "duration": 13,
    "start_time": "2022-03-29T17:19:31.337Z"
   },
   {
    "duration": 9,
    "start_time": "2022-03-29T17:19:31.352Z"
   },
   {
    "duration": 15,
    "start_time": "2022-03-29T17:19:31.363Z"
   },
   {
    "duration": 12,
    "start_time": "2022-03-29T17:19:31.379Z"
   },
   {
    "duration": 21,
    "start_time": "2022-03-29T17:19:31.393Z"
   },
   {
    "duration": 6,
    "start_time": "2022-03-29T17:19:31.415Z"
   },
   {
    "duration": 24,
    "start_time": "2022-03-29T17:19:31.423Z"
   },
   {
    "duration": 6,
    "start_time": "2022-03-29T17:19:31.448Z"
   },
   {
    "duration": 42,
    "start_time": "2022-03-29T17:19:31.455Z"
   },
   {
    "duration": 8,
    "start_time": "2022-03-29T17:19:31.498Z"
   },
   {
    "duration": 12,
    "start_time": "2022-03-29T17:19:31.507Z"
   },
   {
    "duration": 10,
    "start_time": "2022-03-29T17:19:31.520Z"
   },
   {
    "duration": 9,
    "start_time": "2022-03-29T17:19:31.532Z"
   },
   {
    "duration": 25,
    "start_time": "2022-03-29T17:19:31.542Z"
   },
   {
    "duration": 17,
    "start_time": "2022-03-29T17:19:31.570Z"
   },
   {
    "duration": 11,
    "start_time": "2022-03-29T17:19:31.588Z"
   },
   {
    "duration": 13,
    "start_time": "2022-03-29T17:19:31.600Z"
   },
   {
    "duration": 27,
    "start_time": "2022-03-29T17:19:31.614Z"
   },
   {
    "duration": 6,
    "start_time": "2022-03-29T17:19:31.642Z"
   },
   {
    "duration": 30,
    "start_time": "2022-03-29T17:19:31.650Z"
   },
   {
    "duration": 6,
    "start_time": "2022-03-29T17:19:31.681Z"
   },
   {
    "duration": 13,
    "start_time": "2022-03-29T17:19:31.688Z"
   },
   {
    "duration": 19,
    "start_time": "2022-03-29T17:19:31.703Z"
   },
   {
    "duration": 7,
    "start_time": "2022-03-29T17:19:31.723Z"
   },
   {
    "duration": 17,
    "start_time": "2022-03-29T17:19:31.731Z"
   },
   {
    "duration": 16,
    "start_time": "2022-03-29T17:19:31.749Z"
   },
   {
    "duration": 32,
    "start_time": "2022-03-29T17:19:31.766Z"
   },
   {
    "duration": 17,
    "start_time": "2022-03-29T17:19:31.799Z"
   },
   {
    "duration": 20,
    "start_time": "2022-03-29T17:19:31.817Z"
   },
   {
    "duration": 403,
    "start_time": "2022-03-29T17:21:05.012Z"
   },
   {
    "duration": 72,
    "start_time": "2022-03-29T17:21:05.417Z"
   },
   {
    "duration": 28,
    "start_time": "2022-03-29T17:21:05.490Z"
   },
   {
    "duration": 16,
    "start_time": "2022-03-29T17:21:05.520Z"
   },
   {
    "duration": 31,
    "start_time": "2022-03-29T17:21:05.539Z"
   },
   {
    "duration": 12,
    "start_time": "2022-03-29T17:21:05.571Z"
   },
   {
    "duration": 29,
    "start_time": "2022-03-29T17:21:05.584Z"
   },
   {
    "duration": 11,
    "start_time": "2022-03-29T17:21:05.615Z"
   },
   {
    "duration": 17,
    "start_time": "2022-03-29T17:21:05.628Z"
   },
   {
    "duration": 18,
    "start_time": "2022-03-29T17:21:05.647Z"
   },
   {
    "duration": 8,
    "start_time": "2022-03-29T17:21:05.667Z"
   },
   {
    "duration": 15,
    "start_time": "2022-03-29T17:21:05.676Z"
   },
   {
    "duration": 14,
    "start_time": "2022-03-29T17:21:05.693Z"
   },
   {
    "duration": 11,
    "start_time": "2022-03-29T17:21:05.711Z"
   },
   {
    "duration": 17,
    "start_time": "2022-03-29T17:21:05.723Z"
   },
   {
    "duration": 25,
    "start_time": "2022-03-29T17:21:05.742Z"
   },
   {
    "duration": 25,
    "start_time": "2022-03-29T17:21:05.768Z"
   },
   {
    "duration": 39,
    "start_time": "2022-03-29T17:21:05.795Z"
   },
   {
    "duration": 9,
    "start_time": "2022-03-29T17:21:05.836Z"
   },
   {
    "duration": 44,
    "start_time": "2022-03-29T17:21:05.847Z"
   },
   {
    "duration": 8,
    "start_time": "2022-03-29T17:21:05.893Z"
   },
   {
    "duration": 38,
    "start_time": "2022-03-29T17:21:05.903Z"
   },
   {
    "duration": 16,
    "start_time": "2022-03-29T17:21:05.943Z"
   },
   {
    "duration": 19,
    "start_time": "2022-03-29T17:21:05.961Z"
   },
   {
    "duration": 19,
    "start_time": "2022-03-29T17:21:05.982Z"
   },
   {
    "duration": 27,
    "start_time": "2022-03-29T17:21:06.003Z"
   },
   {
    "duration": 29,
    "start_time": "2022-03-29T17:21:06.032Z"
   },
   {
    "duration": 28,
    "start_time": "2022-03-29T17:21:06.062Z"
   },
   {
    "duration": 6,
    "start_time": "2022-03-29T17:21:06.092Z"
   },
   {
    "duration": 31,
    "start_time": "2022-03-29T17:21:06.099Z"
   },
   {
    "duration": 21,
    "start_time": "2022-03-29T17:21:06.132Z"
   },
   {
    "duration": 6,
    "start_time": "2022-03-29T17:21:06.155Z"
   },
   {
    "duration": 37,
    "start_time": "2022-03-29T17:21:06.162Z"
   },
   {
    "duration": 7,
    "start_time": "2022-03-29T17:21:06.201Z"
   },
   {
    "duration": 18,
    "start_time": "2022-03-29T17:21:06.210Z"
   },
   {
    "duration": 18,
    "start_time": "2022-03-29T17:21:06.229Z"
   },
   {
    "duration": 13,
    "start_time": "2022-03-29T17:21:06.248Z"
   },
   {
    "duration": 29,
    "start_time": "2022-03-29T17:21:06.262Z"
   },
   {
    "duration": 26,
    "start_time": "2022-03-29T17:21:06.293Z"
   },
   {
    "duration": 26,
    "start_time": "2022-03-29T17:21:06.321Z"
   },
   {
    "duration": 19,
    "start_time": "2022-03-29T17:21:06.350Z"
   },
   {
    "duration": 20,
    "start_time": "2022-03-29T17:21:06.381Z"
   },
   {
    "duration": 567,
    "start_time": "2022-03-30T14:18:09.717Z"
   },
   {
    "duration": 97,
    "start_time": "2022-03-30T14:18:10.287Z"
   },
   {
    "duration": 32,
    "start_time": "2022-03-30T14:18:10.387Z"
   },
   {
    "duration": 12,
    "start_time": "2022-03-30T14:18:10.422Z"
   },
   {
    "duration": 10,
    "start_time": "2022-03-30T14:18:10.437Z"
   },
   {
    "duration": 38,
    "start_time": "2022-03-30T14:18:10.450Z"
   },
   {
    "duration": 17,
    "start_time": "2022-03-30T14:18:10.490Z"
   },
   {
    "duration": 4,
    "start_time": "2022-03-30T14:18:10.509Z"
   },
   {
    "duration": 14,
    "start_time": "2022-03-30T14:18:10.515Z"
   },
   {
    "duration": 7,
    "start_time": "2022-03-30T14:18:10.532Z"
   },
   {
    "duration": 49,
    "start_time": "2022-03-30T14:18:10.542Z"
   },
   {
    "duration": 8,
    "start_time": "2022-03-30T14:18:10.593Z"
   },
   {
    "duration": 20,
    "start_time": "2022-03-30T14:18:10.603Z"
   },
   {
    "duration": 10,
    "start_time": "2022-03-30T14:18:10.627Z"
   },
   {
    "duration": 45,
    "start_time": "2022-03-30T14:18:10.639Z"
   },
   {
    "duration": 21,
    "start_time": "2022-03-30T14:18:10.686Z"
   },
   {
    "duration": 26,
    "start_time": "2022-03-30T14:18:10.710Z"
   },
   {
    "duration": 63,
    "start_time": "2022-03-30T14:18:10.738Z"
   },
   {
    "duration": 10,
    "start_time": "2022-03-30T14:18:10.803Z"
   },
   {
    "duration": 37,
    "start_time": "2022-03-30T14:18:10.815Z"
   },
   {
    "duration": 34,
    "start_time": "2022-03-30T14:18:10.854Z"
   },
   {
    "duration": 63,
    "start_time": "2022-03-30T14:18:10.890Z"
   },
   {
    "duration": 14,
    "start_time": "2022-03-30T14:18:10.955Z"
   },
   {
    "duration": 25,
    "start_time": "2022-03-30T14:18:10.971Z"
   },
   {
    "duration": 26,
    "start_time": "2022-03-30T14:18:10.998Z"
   },
   {
    "duration": 15,
    "start_time": "2022-03-30T14:18:11.026Z"
   },
   {
    "duration": 24,
    "start_time": "2022-03-30T14:18:11.043Z"
   },
   {
    "duration": 25,
    "start_time": "2022-03-30T14:18:11.069Z"
   },
   {
    "duration": 11,
    "start_time": "2022-03-30T14:18:11.096Z"
   },
   {
    "duration": 11,
    "start_time": "2022-03-30T14:18:11.109Z"
   },
   {
    "duration": 29,
    "start_time": "2022-03-30T14:18:11.123Z"
   },
   {
    "duration": 5,
    "start_time": "2022-03-30T14:18:11.185Z"
   },
   {
    "duration": 53,
    "start_time": "2022-03-30T14:18:11.192Z"
   },
   {
    "duration": 10,
    "start_time": "2022-03-30T14:18:11.247Z"
   },
   {
    "duration": 11,
    "start_time": "2022-03-30T14:18:11.284Z"
   },
   {
    "duration": 30,
    "start_time": "2022-03-30T14:18:11.297Z"
   },
   {
    "duration": 5,
    "start_time": "2022-03-30T14:18:11.329Z"
   },
   {
    "duration": 33,
    "start_time": "2022-03-30T14:18:11.336Z"
   },
   {
    "duration": 96,
    "start_time": "2022-03-30T14:18:11.372Z"
   },
   {
    "duration": 42,
    "start_time": "2022-03-30T14:18:11.472Z"
   },
   {
    "duration": 32,
    "start_time": "2022-03-30T14:18:11.520Z"
   },
   {
    "duration": 55,
    "start_time": "2022-03-30T14:18:11.554Z"
   },
   {
    "duration": 9,
    "start_time": "2022-03-30T14:20:57.645Z"
   }
  ],
  "kernelspec": {
   "display_name": "Python 3 (ipykernel)",
   "language": "python",
   "name": "python3"
  },
  "language_info": {
   "codemirror_mode": {
    "name": "ipython",
    "version": 3
   },
   "file_extension": ".py",
   "mimetype": "text/x-python",
   "name": "python",
   "nbconvert_exporter": "python",
   "pygments_lexer": "ipython3",
   "version": "3.9.5"
  },
  "toc": {
   "base_numbering": 1,
   "nav_menu": {},
   "number_sections": true,
   "sideBar": true,
   "skip_h1_title": true,
   "title_cell": "Table of Contents",
   "title_sidebar": "Contents",
   "toc_cell": false,
   "toc_position": {},
   "toc_section_display": true,
   "toc_window_display": false
  }
 },
 "nbformat": 4,
 "nbformat_minor": 5
}
